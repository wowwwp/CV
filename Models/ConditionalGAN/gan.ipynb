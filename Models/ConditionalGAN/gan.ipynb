{
 "cells": [
  {
   "cell_type": "code",
   "execution_count": 1,
   "id": "fe0533d8",
   "metadata": {},
   "outputs": [
    {
     "name": "stderr",
     "output_type": "stream",
     "text": [
      "c:\\Users\\terry\\AppData\\Local\\Programs\\Python\\Python39\\lib\\site-packages\\scipy\\__init__.py:146: UserWarning: A NumPy version >=1.16.5 and <1.23.0 is required for this version of SciPy (detected version 1.26.4\n",
      "  warnings.warn(f\"A NumPy version >={np_minversion} and <{np_maxversion}\"\n"
     ]
    }
   ],
   "source": [
    "import pickle\n",
    "import tensorflow as tf\n",
    "from keras.utils import to_categorical\n",
    "import keras.layers as layers\n",
    "from keras import Model\n",
    "from keras.models import Sequential, load_model\n",
    "from keras.optimizers import Adam\n",
    "from keras.losses import BinaryCrossentropy\n",
    "from keras.metrics import Mean\n",
    "import matplotlib.pyplot as plt"
   ]
  },
  {
   "cell_type": "markdown",
   "id": "29c17f27",
   "metadata": {},
   "source": [
    "# Dataset"
   ]
  },
  {
   "cell_type": "code",
   "execution_count": 2,
   "id": "7494b0aa",
   "metadata": {},
   "outputs": [
    {
     "name": "stdout",
     "output_type": "stream",
     "text": [
      "36\n",
      "['0', '1', '2', '3', '4', '5', '6', '7', '8', '9', 'a', 'b', 'c', 'd', 'e', 'f', 'g', 'h', 'i', 'j', 'k', 'l', 'm', 'n', 'o', 'p', 'q', 'r', 's', 't', 'u', 'v', 'w', 'x', 'y', 'z']\n"
     ]
    }
   ],
   "source": [
    "DATA_PATH = \"gan-data-pickle\"\n",
    "\n",
    "epochs = 10\n",
    "batch_size = 64\n",
    "latent_dim = 128\n",
    "\n",
    "class_strs = [chr(i) for i in range(ord('0'), ord('9')+1)] + [chr(i) for i in range(ord('a'), ord('z')+1)]\n",
    "num_classes = len(class_strs)\n",
    "\n",
    "print(num_classes)\n",
    "print(class_strs)"
   ]
  },
  {
   "cell_type": "code",
   "execution_count": 3,
   "id": "f7c2929b",
   "metadata": {},
   "outputs": [
    {
     "name": "stdout",
     "output_type": "stream",
     "text": [
      "(36000, 28, 28, 1), (36000, 36)\n"
     ]
    }
   ],
   "source": [
    "with open(DATA_PATH, \"rb\") as f:\n",
    "    images, labels = pickle.load(f)\n",
    "\n",
    "images = images.astype(\"float32\") / 255\n",
    "labels = to_categorical(labels, num_classes)\n",
    "\n",
    "dataset = tf.data.Dataset.from_tensor_slices((images, labels))\n",
    "dataset = dataset.shuffle(buffer_size=1024).batch(batch_size)\n",
    "\n",
    "print(f\"{images.shape}, {labels.shape}\")"
   ]
  },
  {
   "cell_type": "markdown",
   "id": "51b1d44f",
   "metadata": {},
   "source": [
    "# Defining GAN"
   ]
  },
  {
   "cell_type": "markdown",
   "id": "72e6ac3a",
   "metadata": {},
   "source": [
    "## Discriminator"
   ]
  },
  {
   "cell_type": "code",
   "execution_count": 4,
   "id": "394b8af1",
   "metadata": {},
   "outputs": [],
   "source": [
    "def get_discriminator_model(input_channels):\n",
    "    return Sequential([\n",
    "        layers.InputLayer((28, 28, input_channels)),\n",
    "\n",
    "        layers.Conv2D(filters=64, kernel_size=(3,3), strides=(2,2), padding=\"same\"),\n",
    "        layers.BatchNormalization(),\n",
    "        layers.LeakyReLU(0.2),\n",
    "        layers.Dropout(0.5),\n",
    "        layers.Conv2D(filters=128, kernel_size=(3,3), strides=(2,2), padding=\"same\"),\n",
    "        layers.BatchNormalization(),\n",
    "        layers.LeakyReLU(0.2),\n",
    "        layers.Dropout(0.5),\n",
    "\n",
    "        layers.GlobalMaxPooling2D(),\n",
    "        layers.Dense(1),\n",
    "    ])"
   ]
  },
  {
   "cell_type": "markdown",
   "id": "aee6292f",
   "metadata": {},
   "source": [
    "## Generator"
   ]
  },
  {
   "cell_type": "code",
   "execution_count": 5,
   "id": "441b85f0",
   "metadata": {},
   "outputs": [],
   "source": [
    "def get_generator_model(input_channels):\n",
    "    return Sequential([\n",
    "        layers.InputLayer((input_channels,)),\n",
    "\n",
    "        layers.Dense(7 * 7 * input_channels),\n",
    "        layers.LeakyReLU(0.2),\n",
    "        layers.Reshape((7, 7, input_channels)),\n",
    "\n",
    "        layers.Conv2DTranspose(filters=128, kernel_size=(4,4), strides=(2,2), padding=\"same\"),\n",
    "        layers.LeakyReLU(0.2),\n",
    "        layers.Conv2DTranspose(filters=128, kernel_size=(4,4), strides=(2,2), padding=\"same\"),\n",
    "        layers.LeakyReLU(0.2),\n",
    "        layers.Conv2DTranspose(filters=1, kernel_size=(7,7),  padding=\"same\", activation=\"sigmoid\"),\n",
    "    ])"
   ]
  },
  {
   "cell_type": "markdown",
   "id": "46a1c65e",
   "metadata": {},
   "source": [
    "## GAN"
   ]
  },
  {
   "cell_type": "code",
   "execution_count": 6,
   "id": "132a07d9",
   "metadata": {},
   "outputs": [],
   "source": [
    "class GAN(Model):\n",
    "    def __init__(self, discriminator, generator, latent_dim):\n",
    "        super().__init__()\n",
    "        self.discriminator = discriminator\n",
    "        self.generator = generator\n",
    "        self.latent_dim = latent_dim\n",
    "        self.gen_loss_tracker = Mean(name=\"gen_loss\")\n",
    "        self.disc_loss_tracker = Mean(name=\"disc_loss\")\n",
    "\n",
    "    @property\n",
    "    def metrics(self):\n",
    "        return [self.gen_loss_tracker, self.disc_loss_tracker]\n",
    "\n",
    "    def compile(self, d_optim, g_optim, loss):\n",
    "        super().compile()\n",
    "        self.d_optim = d_optim\n",
    "        self.g_optim = g_optim\n",
    "        self.loss = loss\n",
    "\n",
    "    def train_step(self, data):\n",
    "        real_images, labels = data\n",
    "        labels_channel = labels[:, :, None, None]\n",
    "        labels_channel = tf.repeat(labels_channel, 784) # 28*28\n",
    "        labels_channel = tf.reshape(labels_channel, (-1, 28, 28, num_classes))\n",
    "\n",
    "        batch_size = tf.shape(real_images)[0]\n",
    "        latent_vectors = tf.random.normal(shape=(batch_size, self.latent_dim))\n",
    "        generator_data = tf.concat([latent_vectors, labels], axis=1)\n",
    "        fake_images = self.generator(generator_data)\n",
    "\n",
    "        fake_data = tf.concat([fake_images, labels_channel], axis=-1)\n",
    "        real_data = tf.concat([real_images, labels_channel], axis=-1)\n",
    "\n",
    "        discriminator_data = tf.concat([fake_data, real_data], axis=0)\n",
    "        discriminator_labels = tf.concat([tf.ones((batch_size, 1)), tf.zeros((batch_size, 1))], axis=0)\n",
    "\n",
    "        with tf.GradientTape() as g:\n",
    "            pred = self.discriminator(discriminator_data)\n",
    "            d_loss = self.loss(discriminator_labels, pred)\n",
    "        grads = g.gradient(d_loss, self.discriminator.trainable_weights)\n",
    "        self.d_optim.apply_gradients(zip(grads, self.discriminator.trainable_weights))\n",
    "\n",
    "        latent_vectors = tf.random.normal(shape=(batch_size, self.latent_dim))\n",
    "        generator_data = tf.concat([latent_vectors, labels], axis=1)\n",
    "        misleading_labels = tf.zeros((batch_size, 1))\n",
    "\n",
    "        with tf.GradientTape() as g:\n",
    "            fake_images = self.generator(generator_data)\n",
    "            fake_data = tf.concat([fake_images, labels_channel], axis=-1)\n",
    "            pred = self.discriminator(fake_data)\n",
    "            g_loss = self.loss(misleading_labels, pred)\n",
    "        grads = g.gradient(g_loss, self.generator.trainable_weights)\n",
    "        self.g_optim.apply_gradients(zip(grads, self.generator.trainable_weights))\n",
    "\n",
    "        self.gen_loss_tracker.update_state(g_loss)\n",
    "        self.disc_loss_tracker.update_state(d_loss)\n",
    "\n",
    "        return {\n",
    "            \"g_loss\": self.gen_loss_tracker.result(),\n",
    "            \"d_loss\": self.disc_loss_tracker.result(),\n",
    "        }"
   ]
  },
  {
   "cell_type": "markdown",
   "id": "2bc65933",
   "metadata": {},
   "source": [
    "# Training"
   ]
  },
  {
   "cell_type": "code",
   "execution_count": 7,
   "id": "7c03b575",
   "metadata": {},
   "outputs": [],
   "source": [
    "gan = GAN(discriminator=get_discriminator_model(1 + num_classes),\n",
    "          generator=get_generator_model(latent_dim + num_classes),\n",
    "          latent_dim=latent_dim)\n",
    "\n",
    "gan.compile(d_optim=Adam(learning_rate=0.0003),\n",
    "            g_optim=Adam(learning_rate=0.0003),\n",
    "            loss=BinaryCrossentropy(from_logits=True))"
   ]
  },
  {
   "cell_type": "code",
   "execution_count": 8,
   "id": "db18c67f",
   "metadata": {},
   "outputs": [
    {
     "name": "stdout",
     "output_type": "stream",
     "text": [
      "Epoch 1/10\n",
      "563/563 [==============================] - 10s 15ms/step - g_loss: 0.8735 - d_loss: 0.6465\n",
      "Epoch 2/10\n",
      "563/563 [==============================] - 8s 15ms/step - g_loss: 0.7765 - d_loss: 0.6731\n",
      "Epoch 3/10\n",
      "563/563 [==============================] - 8s 15ms/step - g_loss: 1.0700 - d_loss: 0.5266\n",
      "Epoch 4/10\n",
      "563/563 [==============================] - 8s 15ms/step - g_loss: 1.8213 - d_loss: 0.2614\n",
      "Epoch 5/10\n",
      "563/563 [==============================] - 8s 15ms/step - g_loss: 2.7610 - d_loss: 0.1259\n",
      "Epoch 6/10\n",
      "563/563 [==============================] - 8s 15ms/step - g_loss: 3.1520 - d_loss: 0.0809\n",
      "Epoch 7/10\n",
      "563/563 [==============================] - 8s 15ms/step - g_loss: 3.5410 - d_loss: 0.0524\n",
      "Epoch 8/10\n",
      "563/563 [==============================] - 8s 15ms/step - g_loss: 3.9414 - d_loss: 0.0393\n",
      "Epoch 9/10\n",
      "563/563 [==============================] - 8s 15ms/step - g_loss: 4.2492 - d_loss: 0.0292\n",
      "Epoch 10/10\n",
      "563/563 [==============================] - 8s 15ms/step - g_loss: 4.5228 - d_loss: 0.0229\n"
     ]
    }
   ],
   "source": [
    "history = gan.fit(dataset, epochs=epochs)"
   ]
  },
  {
   "cell_type": "code",
   "execution_count": 9,
   "id": "a2cd62c5",
   "metadata": {},
   "outputs": [
    {
     "data": {
      "image/png": "[encoded data removed]",
      "text/plain": [
       "<Figure size 640x480 with 1 Axes>"
      ]
     },
     "metadata": {},
     "output_type": "display_data"
    }
   ],
   "source": [
    "d_loss = history.history[\"d_loss\"]\n",
    "g_loss = history.history[\"g_loss\"]\n",
    "epochs = range(1, len(d_loss) + 1)\n",
    "\n",
    "plt.plot(epochs, d_loss, label=\"Disc. loss\")\n",
    "plt.plot(epochs, g_loss, label=\"Gen. loss\")\n",
    "plt.legend()\n",
    "plt.show()"
   ]
  },
  {
   "cell_type": "code",
   "execution_count": 10,
   "id": "27360d64",
   "metadata": {},
   "outputs": [],
   "source": [
    "generator = gan.generator\n",
    "discriminator = gan.discriminator\n",
    "# generator.save(f\"generator_{epochs}.keras\")\n",
    "# discriminator.save(f\"discriminator_{epochs}.keras\")"
   ]
  },
  {
   "cell_type": "code",
   "execution_count": 19,
   "id": "5d98d22b",
   "metadata": {},
   "outputs": [
    {
     "name": "stdout",
     "output_type": "stream",
     "text": [
      "[[1. 0. 0. 0. 0. 0. 0. 0. 0. 0. 0. 0. 0. 0. 0. 0. 0. 0. 0. 0. 0. 0. 0. 0.\n",
      "  0. 0. 0. 0. 0. 0. 0. 0. 0. 0. 0. 0.]]\n",
      "1/1 [==============================] - 0s 12ms/step\n",
      "[[1. 0. 0. 0. 0. 0. 0. 0. 0. 0. 0. 0. 0. 0. 0. 0. 0. 0. 0. 0. 0. 0. 0. 0.\n",
      "  0. 0. 0. 0. 0. 0. 0. 0. 0. 0. 0. 0.]]\n",
      "1/1 [==============================] - 0s 12ms/step\n",
      "[[1. 0. 0. 0. 0. 0. 0. 0. 0. 0. 0. 0. 0. 0. 0. 0. 0. 0. 0. 0. 0. 0. 0. 0.\n",
      "  0. 0. 0. 0. 0. 0. 0. 0. 0. 0. 0. 0.]]\n",
      "1/1 [==============================] - 0s 12ms/step\n",
      "[[1. 0. 0. 0. 0. 0. 0. 0. 0. 0. 0. 0. 0. 0. 0. 0. 0. 0. 0. 0. 0. 0. 0. 0.\n",
      "  0. 0. 0. 0. 0. 0. 0. 0. 0. 0. 0. 0.]]\n",
      "1/1 [==============================] - 0s 12ms/step\n",
      "[[1. 0. 0. 0. 0. 0. 0. 0. 0. 0. 0. 0. 0. 0. 0. 0. 0. 0. 0. 0. 0. 0. 0. 0.\n",
      "  0. 0. 0. 0. 0. 0. 0. 0. 0. 0. 0. 0.]]\n",
      "1/1 [==============================] - 0s 11ms/step\n",
      "[[1. 0. 0. 0. 0. 0. 0. 0. 0. 0. 0. 0. 0. 0. 0. 0. 0. 0. 0. 0. 0. 0. 0. 0.\n",
      "  0. 0. 0. 0. 0. 0. 0. 0. 0. 0. 0. 0.]]\n",
      "1/1 [==============================] - 0s 12ms/step\n",
      "[[1. 0. 0. 0. 0. 0. 0. 0. 0. 0. 0. 0. 0. 0. 0. 0. 0. 0. 0. 0. 0. 0. 0. 0.\n",
      "  0. 0. 0. 0. 0. 0. 0. 0. 0. 0. 0. 0.]]\n",
      "1/1 [==============================] - 0s 12ms/step\n",
      "[[1. 0. 0. 0. 0. 0. 0. 0. 0. 0. 0. 0. 0. 0. 0. 0. 0. 0. 0. 0. 0. 0. 0. 0.\n",
      "  0. 0. 0. 0. 0. 0. 0. 0. 0. 0. 0. 0.]]\n",
      "1/1 [==============================] - 0s 12ms/step\n",
      "[[1. 0. 0. 0. 0. 0. 0. 0. 0. 0. 0. 0. 0. 0. 0. 0. 0. 0. 0. 0. 0. 0. 0. 0.\n",
      "  0. 0. 0. 0. 0. 0. 0. 0. 0. 0. 0. 0.]]\n",
      "1/1 [==============================] - 0s 13ms/step\n",
      "[[1. 0. 0. 0. 0. 0. 0. 0. 0. 0. 0. 0. 0. 0. 0. 0. 0. 0. 0. 0. 0. 0. 0. 0.\n",
      "  0. 0. 0. 0. 0. 0. 0. 0. 0. 0. 0. 0.]]\n",
      "1/1 [==============================] - 0s 12ms/step\n",
      "[[0. 1. 0. 0. 0. 0. 0. 0. 0. 0. 0. 0. 0. 0. 0. 0. 0. 0. 0. 0. 0. 0. 0. 0.\n",
      "  0. 0. 0. 0. 0. 0. 0. 0. 0. 0. 0. 0.]]\n",
      "1/1 [==============================] - 0s 12ms/step\n",
      "[[0. 1. 0. 0. 0. 0. 0. 0. 0. 0. 0. 0. 0. 0. 0. 0. 0. 0. 0. 0. 0. 0. 0. 0.\n",
      "  0. 0. 0. 0. 0. 0. 0. 0. 0. 0. 0. 0.]]\n",
      "1/1 [==============================] - 0s 13ms/step\n",
      "[[0. 1. 0. 0. 0. 0. 0. 0. 0. 0. 0. 0. 0. 0. 0. 0. 0. 0. 0. 0. 0. 0. 0. 0.\n",
      "  0. 0. 0. 0. 0. 0. 0. 0. 0. 0. 0. 0.]]\n",
      "1/1 [==============================] - 0s 12ms/step\n",
      "[[0. 1. 0. 0. 0. 0. 0. 0. 0. 0. 0. 0. 0. 0. 0. 0. 0. 0. 0. 0. 0. 0. 0. 0.\n",
      "  0. 0. 0. 0. 0. 0. 0. 0. 0. 0. 0. 0.]]\n",
      "1/1 [==============================] - 0s 12ms/step\n",
      "[[0. 1. 0. 0. 0. 0. 0. 0. 0. 0. 0. 0. 0. 0. 0. 0. 0. 0. 0. 0. 0. 0. 0. 0.\n",
      "  0. 0. 0. 0. 0. 0. 0. 0. 0. 0. 0. 0.]]\n",
      "1/1 [==============================] - 0s 13ms/step\n",
      "[[0. 1. 0. 0. 0. 0. 0. 0. 0. 0. 0. 0. 0. 0. 0. 0. 0. 0. 0. 0. 0. 0. 0. 0.\n",
      "  0. 0. 0. 0. 0. 0. 0. 0. 0. 0. 0. 0.]]\n",
      "1/1 [==============================] - 0s 13ms/step\n",
      "[[0. 1. 0. 0. 0. 0. 0. 0. 0. 0. 0. 0. 0. 0. 0. 0. 0. 0. 0. 0. 0. 0. 0. 0.\n",
      "  0. 0. 0. 0. 0. 0. 0. 0. 0. 0. 0. 0.]]\n",
      "1/1 [==============================] - 0s 12ms/step\n",
      "[[0. 1. 0. 0. 0. 0. 0. 0. 0. 0. 0. 0. 0. 0. 0. 0. 0. 0. 0. 0. 0. 0. 0. 0.\n",
      "  0. 0. 0. 0. 0. 0. 0. 0. 0. 0. 0. 0.]]\n",
      "1/1 [==============================] - 0s 12ms/step\n",
      "[[0. 1. 0. 0. 0. 0. 0. 0. 0. 0. 0. 0. 0. 0. 0. 0. 0. 0. 0. 0. 0. 0. 0. 0.\n",
      "  0. 0. 0. 0. 0. 0. 0. 0. 0. 0. 0. 0.]]\n",
      "1/1 [==============================] - 0s 12ms/step\n",
      "[[0. 1. 0. 0. 0. 0. 0. 0. 0. 0. 0. 0. 0. 0. 0. 0. 0. 0. 0. 0. 0. 0. 0. 0.\n",
      "  0. 0. 0. 0. 0. 0. 0. 0. 0. 0. 0. 0.]]\n",
      "1/1 [==============================] - 0s 11ms/step\n",
      "[[0. 0. 1. 0. 0. 0. 0. 0. 0. 0. 0. 0. 0. 0. 0. 0. 0. 0. 0. 0. 0. 0. 0. 0.\n",
      "  0. 0. 0. 0. 0. 0. 0. 0. 0. 0. 0. 0.]]\n",
      "1/1 [==============================] - 0s 11ms/step\n",
      "[[0. 0. 1. 0. 0. 0. 0. 0. 0. 0. 0. 0. 0. 0. 0. 0. 0. 0. 0. 0. 0. 0. 0. 0.\n",
      "  0. 0. 0. 0. 0. 0. 0. 0. 0. 0. 0. 0.]]\n",
      "1/1 [==============================] - 0s 12ms/step\n",
      "[[0. 0. 1. 0. 0. 0. 0. 0. 0. 0. 0. 0. 0. 0. 0. 0. 0. 0. 0. 0. 0. 0. 0. 0.\n",
      "  0. 0. 0. 0. 0. 0. 0. 0. 0. 0. 0. 0.]]\n",
      "1/1 [==============================] - 0s 12ms/step\n",
      "[[0. 0. 1. 0. 0. 0. 0. 0. 0. 0. 0. 0. 0. 0. 0. 0. 0. 0. 0. 0. 0. 0. 0. 0.\n",
      "  0. 0. 0. 0. 0. 0. 0. 0. 0. 0. 0. 0.]]\n",
      "1/1 [==============================] - 0s 12ms/step\n",
      "[[0. 0. 1. 0. 0. 0. 0. 0. 0. 0. 0. 0. 0. 0. 0. 0. 0. 0. 0. 0. 0. 0. 0. 0.\n",
      "  0. 0. 0. 0. 0. 0. 0. 0. 0. 0. 0. 0.]]\n",
      "1/1 [==============================] - 0s 12ms/step\n",
      "[[0. 0. 1. 0. 0. 0. 0. 0. 0. 0. 0. 0. 0. 0. 0. 0. 0. 0. 0. 0. 0. 0. 0. 0.\n",
      "  0. 0. 0. 0. 0. 0. 0. 0. 0. 0. 0. 0.]]\n",
      "1/1 [==============================] - 0s 11ms/step\n",
      "[[0. 0. 1. 0. 0. 0. 0. 0. 0. 0. 0. 0. 0. 0. 0. 0. 0. 0. 0. 0. 0. 0. 0. 0.\n",
      "  0. 0. 0. 0. 0. 0. 0. 0. 0. 0. 0. 0.]]\n",
      "1/1 [==============================] - 0s 13ms/step\n",
      "[[0. 0. 1. 0. 0. 0. 0. 0. 0. 0. 0. 0. 0. 0. 0. 0. 0. 0. 0. 0. 0. 0. 0. 0.\n",
      "  0. 0. 0. 0. 0. 0. 0. 0. 0. 0. 0. 0.]]\n",
      "1/1 [==============================] - 0s 12ms/step\n",
      "[[0. 0. 1. 0. 0. 0. 0. 0. 0. 0. 0. 0. 0. 0. 0. 0. 0. 0. 0. 0. 0. 0. 0. 0.\n",
      "  0. 0. 0. 0. 0. 0. 0. 0. 0. 0. 0. 0.]]\n",
      "1/1 [==============================] - 0s 12ms/step\n",
      "[[0. 0. 1. 0. 0. 0. 0. 0. 0. 0. 0. 0. 0. 0. 0. 0. 0. 0. 0. 0. 0. 0. 0. 0.\n",
      "  0. 0. 0. 0. 0. 0. 0. 0. 0. 0. 0. 0.]]\n",
      "1/1 [==============================] - 0s 11ms/step\n"
     ]
    },
    {
     "data": {
      "image/png": "[encoded data removed]",
      "text/plain": [
       "<Figure size 1500x400 with 30 Axes>"
      ]
     },
     "metadata": {},
     "output_type": "display_data"
    }
   ],
   "source": [
    "_, ax = plt.subplots(3, 10, figsize=(15, 4))\n",
    "for label in range(3):\n",
    "    for i in range(10):\n",
    "        latent_vectors = tf.random.normal(shape=(1, latent_dim))\n",
    "        test_label = to_categorical([label], num_classes=num_classes)\n",
    "        print(test_label)\n",
    "        generator_data = tf.concat([latent_vectors, test_label], axis=1)\n",
    "        fake = generator.predict(generator_data)\n",
    "        ax[label, i].imshow(fake[0])\n",
    "plt.show()"
   ]
  },
  {
   "cell_type": "code",
   "execution_count": 12,
   "id": "1390480f",
   "metadata": {},
   "outputs": [],
   "source": [
    "# test = load_model(f\"generator_{epochs}.keras\")\n",
    "\n",
    "# latent_vectors = tf.random.normal(shape=(1, latent_dim))\n",
    "# test_label = labels[0:1]\n",
    "# generator_data = tf.concat([latent_vectors, test_label], axis=1)\n",
    "\n",
    "# test.compile()\n",
    "# fake = test.predict(generator_data)\n",
    "# plt.imshow(fake[0])\n",
    "# plt.show()"
   ]
  }
 ],
 "metadata": {
  "kernelspec": {
   "display_name": "Python 3",
   "language": "python",
   "name": "python3"
  },
  "language_info": {
   "codemirror_mode": {
    "name": "ipython",
    "version": 3
   },
   "file_extension": ".py",
   "mimetype": "text/x-python",
   "name": "python",
   "nbconvert_exporter": "python",
   "pygments_lexer": "ipython3",
   "version": "3.9.13"
  }
 },
 "nbformat": 4,
 "nbformat_minor": 5
}
