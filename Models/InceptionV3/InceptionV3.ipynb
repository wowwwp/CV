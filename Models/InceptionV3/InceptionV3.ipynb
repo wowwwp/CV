{
  "nbformat": 4,
  "nbformat_minor": 0,
  "metadata": {
    "colab": {
      "provenance": [],
      "gpuType": "T4"
    },
    "kernelspec": {
      "name": "python3",
      "display_name": "Python 3"
    },
    "language_info": {
      "name": "python"
    },
    "widgets": {
      "application/vnd.jupyter.widget-state+json": {
        "2e4af73c871e43fca99e8dcf9c696a32": {
          "model_module": "@jupyter-widgets/controls",
          "model_name": "HBoxModel",
          "model_module_version": "1.5.0",
          "state": {
            "_dom_classes": [],
            "_model_module": "@jupyter-widgets/controls",
            "_model_module_version": "1.5.0",
            "_model_name": "HBoxModel",
            "_view_count": null,
            "_view_module": "@jupyter-widgets/controls",
            "_view_module_version": "1.5.0",
            "_view_name": "HBoxView",
            "box_style": "",
            "children": [
              "IPY_MODEL_75da73cb0d494a06af09fd6bb0a86d92",
              "IPY_MODEL_91efd8f047e94c25b254157fc6c45935",
              "IPY_MODEL_0f343faeea09432caac2772908f3cc8e"
            ],
            "layout": "IPY_MODEL_e1b59214759c426888f2f938eda974e8"
          }
        },
        "75da73cb0d494a06af09fd6bb0a86d92": {
          "model_module": "@jupyter-widgets/controls",
          "model_name": "HTMLModel",
          "model_module_version": "1.5.0",
          "state": {
            "_dom_classes": [],
            "_model_module": "@jupyter-widgets/controls",
            "_model_module_version": "1.5.0",
            "_model_name": "HTMLModel",
            "_view_count": null,
            "_view_module": "@jupyter-widgets/controls",
            "_view_module_version": "1.5.0",
            "_view_name": "HTMLView",
            "description": "",
            "description_tooltip": null,
            "layout": "IPY_MODEL_d5addaa0e99f4906ab7064fe795d9f52",
            "placeholder": "​",
            "style": "IPY_MODEL_6729a14af6c74493bc9a9e320d87c1b4",
            "value": "model.safetensors: 100%"
          }
        },
        "91efd8f047e94c25b254157fc6c45935": {
          "model_module": "@jupyter-widgets/controls",
          "model_name": "FloatProgressModel",
          "model_module_version": "1.5.0",
          "state": {
            "_dom_classes": [],
            "_model_module": "@jupyter-widgets/controls",
            "_model_module_version": "1.5.0",
            "_model_name": "FloatProgressModel",
            "_view_count": null,
            "_view_module": "@jupyter-widgets/controls",
            "_view_module_version": "1.5.0",
            "_view_name": "ProgressView",
            "bar_style": "success",
            "description": "",
            "description_tooltip": null,
            "layout": "IPY_MODEL_aca917a2309b473bab5052a6f6cb7043",
            "max": 95533832,
            "min": 0,
            "orientation": "horizontal",
            "style": "IPY_MODEL_d0eb6cc327f04cea820258a6775fb79b",
            "value": 95533832
          }
        },
        "0f343faeea09432caac2772908f3cc8e": {
          "model_module": "@jupyter-widgets/controls",
          "model_name": "HTMLModel",
          "model_module_version": "1.5.0",
          "state": {
            "_dom_classes": [],
            "_model_module": "@jupyter-widgets/controls",
            "_model_module_version": "1.5.0",
            "_model_name": "HTMLModel",
            "_view_count": null,
            "_view_module": "@jupyter-widgets/controls",
            "_view_module_version": "1.5.0",
            "_view_name": "HTMLView",
            "description": "",
            "description_tooltip": null,
            "layout": "IPY_MODEL_042d0a167002458a98073fdcf125fcf8",
            "placeholder": "​",
            "style": "IPY_MODEL_352c52f74f694b91af0a948e654e7b31",
            "value": " 95.5M/95.5M [00:00&lt;00:00, 276MB/s]"
          }
        },
        "e1b59214759c426888f2f938eda974e8": {
          "model_module": "@jupyter-widgets/base",
          "model_name": "LayoutModel",
          "model_module_version": "1.2.0",
          "state": {
            "_model_module": "@jupyter-widgets/base",
            "_model_module_version": "1.2.0",
            "_model_name": "LayoutModel",
            "_view_count": null,
            "_view_module": "@jupyter-widgets/base",
            "_view_module_version": "1.2.0",
            "_view_name": "LayoutView",
            "align_content": null,
            "align_items": null,
            "align_self": null,
            "border": null,
            "bottom": null,
            "display": null,
            "flex": null,
            "flex_flow": null,
            "grid_area": null,
            "grid_auto_columns": null,
            "grid_auto_flow": null,
            "grid_auto_rows": null,
            "grid_column": null,
            "grid_gap": null,
            "grid_row": null,
            "grid_template_areas": null,
            "grid_template_columns": null,
            "grid_template_rows": null,
            "height": null,
            "justify_content": null,
            "justify_items": null,
            "left": null,
            "margin": null,
            "max_height": null,
            "max_width": null,
            "min_height": null,
            "min_width": null,
            "object_fit": null,
            "object_position": null,
            "order": null,
            "overflow": null,
            "overflow_x": null,
            "overflow_y": null,
            "padding": null,
            "right": null,
            "top": null,
            "visibility": null,
            "width": null
          }
        },
        "d5addaa0e99f4906ab7064fe795d9f52": {
          "model_module": "@jupyter-widgets/base",
          "model_name": "LayoutModel",
          "model_module_version": "1.2.0",
          "state": {
            "_model_module": "@jupyter-widgets/base",
            "_model_module_version": "1.2.0",
            "_model_name": "LayoutModel",
            "_view_count": null,
            "_view_module": "@jupyter-widgets/base",
            "_view_module_version": "1.2.0",
            "_view_name": "LayoutView",
            "align_content": null,
            "align_items": null,
            "align_self": null,
            "border": null,
            "bottom": null,
            "display": null,
            "flex": null,
            "flex_flow": null,
            "grid_area": null,
            "grid_auto_columns": null,
            "grid_auto_flow": null,
            "grid_auto_rows": null,
            "grid_column": null,
            "grid_gap": null,
            "grid_row": null,
            "grid_template_areas": null,
            "grid_template_columns": null,
            "grid_template_rows": null,
            "height": null,
            "justify_content": null,
            "justify_items": null,
            "left": null,
            "margin": null,
            "max_height": null,
            "max_width": null,
            "min_height": null,
            "min_width": null,
            "object_fit": null,
            "object_position": null,
            "order": null,
            "overflow": null,
            "overflow_x": null,
            "overflow_y": null,
            "padding": null,
            "right": null,
            "top": null,
            "visibility": null,
            "width": null
          }
        },
        "6729a14af6c74493bc9a9e320d87c1b4": {
          "model_module": "@jupyter-widgets/controls",
          "model_name": "DescriptionStyleModel",
          "model_module_version": "1.5.0",
          "state": {
            "_model_module": "@jupyter-widgets/controls",
            "_model_module_version": "1.5.0",
            "_model_name": "DescriptionStyleModel",
            "_view_count": null,
            "_view_module": "@jupyter-widgets/base",
            "_view_module_version": "1.2.0",
            "_view_name": "StyleView",
            "description_width": ""
          }
        },
        "aca917a2309b473bab5052a6f6cb7043": {
          "model_module": "@jupyter-widgets/base",
          "model_name": "LayoutModel",
          "model_module_version": "1.2.0",
          "state": {
            "_model_module": "@jupyter-widgets/base",
            "_model_module_version": "1.2.0",
            "_model_name": "LayoutModel",
            "_view_count": null,
            "_view_module": "@jupyter-widgets/base",
            "_view_module_version": "1.2.0",
            "_view_name": "LayoutView",
            "align_content": null,
            "align_items": null,
            "align_self": null,
            "border": null,
            "bottom": null,
            "display": null,
            "flex": null,
            "flex_flow": null,
            "grid_area": null,
            "grid_auto_columns": null,
            "grid_auto_flow": null,
            "grid_auto_rows": null,
            "grid_column": null,
            "grid_gap": null,
            "grid_row": null,
            "grid_template_areas": null,
            "grid_template_columns": null,
            "grid_template_rows": null,
            "height": null,
            "justify_content": null,
            "justify_items": null,
            "left": null,
            "margin": null,
            "max_height": null,
            "max_width": null,
            "min_height": null,
            "min_width": null,
            "object_fit": null,
            "object_position": null,
            "order": null,
            "overflow": null,
            "overflow_x": null,
            "overflow_y": null,
            "padding": null,
            "right": null,
            "top": null,
            "visibility": null,
            "width": null
          }
        },
        "d0eb6cc327f04cea820258a6775fb79b": {
          "model_module": "@jupyter-widgets/controls",
          "model_name": "ProgressStyleModel",
          "model_module_version": "1.5.0",
          "state": {
            "_model_module": "@jupyter-widgets/controls",
            "_model_module_version": "1.5.0",
            "_model_name": "ProgressStyleModel",
            "_view_count": null,
            "_view_module": "@jupyter-widgets/base",
            "_view_module_version": "1.2.0",
            "_view_name": "StyleView",
            "bar_color": null,
            "description_width": ""
          }
        },
        "042d0a167002458a98073fdcf125fcf8": {
          "model_module": "@jupyter-widgets/base",
          "model_name": "LayoutModel",
          "model_module_version": "1.2.0",
          "state": {
            "_model_module": "@jupyter-widgets/base",
            "_model_module_version": "1.2.0",
            "_model_name": "LayoutModel",
            "_view_count": null,
            "_view_module": "@jupyter-widgets/base",
            "_view_module_version": "1.2.0",
            "_view_name": "LayoutView",
            "align_content": null,
            "align_items": null,
            "align_self": null,
            "border": null,
            "bottom": null,
            "display": null,
            "flex": null,
            "flex_flow": null,
            "grid_area": null,
            "grid_auto_columns": null,
            "grid_auto_flow": null,
            "grid_auto_rows": null,
            "grid_column": null,
            "grid_gap": null,
            "grid_row": null,
            "grid_template_areas": null,
            "grid_template_columns": null,
            "grid_template_rows": null,
            "height": null,
            "justify_content": null,
            "justify_items": null,
            "left": null,
            "margin": null,
            "max_height": null,
            "max_width": null,
            "min_height": null,
            "min_width": null,
            "object_fit": null,
            "object_position": null,
            "order": null,
            "overflow": null,
            "overflow_x": null,
            "overflow_y": null,
            "padding": null,
            "right": null,
            "top": null,
            "visibility": null,
            "width": null
          }
        },
        "352c52f74f694b91af0a948e654e7b31": {
          "model_module": "@jupyter-widgets/controls",
          "model_name": "DescriptionStyleModel",
          "model_module_version": "1.5.0",
          "state": {
            "_model_module": "@jupyter-widgets/controls",
            "_model_module_version": "1.5.0",
            "_model_name": "DescriptionStyleModel",
            "_view_count": null,
            "_view_module": "@jupyter-widgets/base",
            "_view_module_version": "1.2.0",
            "_view_name": "StyleView",
            "description_width": ""
          }
        }
      }
    },
    "accelerator": "GPU"
  },
  "cells": [
    {
      "cell_type": "code",
      "source": [
        "from google.colab import drive\n",
        "drive.mount('/content/drive')\n",
        "!find /content/drive/MyDrive -name 'CS4243'\n",
        "!find /content/drive/MyDrive -name 'output-train-by-char.zip'\n",
        "!find /content/drive/MyDrive -name 'output-test.zip'"
      ],
      "metadata": {
        "colab": {
          "base_uri": "https://localhost:8080/"
        },
        "id": "uh9cRj5qGgEt",
        "outputId": "8a713d5e-abf7-40a6-ae63-c3e2a570aeae"
      },
      "execution_count": null,
      "outputs": [
        {
          "output_type": "stream",
          "name": "stdout",
          "text": [
            "Mounted at /content/drive\n",
            "/content/drive/MyDrive/NUS/AY24 25/CS4243\n",
            "/content/drive/MyDrive/NUS/AY24 25/CS4243/output-train-by-char.zip\n",
            "/content/drive/MyDrive/NUS/AY24 25/output-train-by-char.zip\n",
            "/content/drive/MyDrive/NUS/AY24 25/CS4243/output-test.zip\n"
          ]
        }
      ]
    },
    {
      "cell_type": "code",
      "source": [
        "import zipfile\n",
        "import os\n",
        "\n",
        "zip_path = '/content/drive/MyDrive/NUS/AY24 25/CS4243/output-train-by-char.zip'\n",
        "extract_path = './dataset'\n",
        "\n",
        "with zipfile.ZipFile(zip_path, 'r') as zip_ref:\n",
        "    #print(zip_ref.namelist())\n",
        "    zip_ref.extractall(extract_path)\n"
      ],
      "metadata": {
        "id": "bPrTso-D-mD4"
      },
      "execution_count": null,
      "outputs": []
    },
    {
      "cell_type": "code",
      "source": [
        "# modify and load pretrained model\n",
        "\n",
        "from torchvision import datasets, transforms\n",
        "from torch.utils.data import DataLoader, random_split\n",
        "\n",
        "transform = transforms.Compose([\n",
        "    transforms.Resize((299, 299)),  # Inception v3 default input size\n",
        "    transforms.ToTensor(),\n",
        "    transforms.Normalize(mean=[0.5]*3, std=[0.5]*3)\n",
        "])\n",
        "\n",
        "dataset = datasets.ImageFolder(root='./dataset/output-train-by-char', transform=transform)\n",
        "#print(dataset.class_to_idx)\n",
        "\n",
        "train_size = int(0.8 * len(dataset))\n",
        "val_size = len(dataset) - train_size\n",
        "train_dataset, val_dataset = random_split(dataset, [train_size, val_size])\n",
        "\n",
        "train_loader = DataLoader(train_dataset, batch_size=32, shuffle=True)\n",
        "val_loader = DataLoader(val_dataset, batch_size=32)"
      ],
      "metadata": {
        "id": "1OGB-tZrEXwp"
      },
      "execution_count": null,
      "outputs": []
    },
    {
      "cell_type": "code",
      "source": [
        "# model setup\n",
        "import timm\n",
        "import torch\n",
        "print(\"CUDA Avail:\", torch.cuda.is_available())\n",
        "import torch.nn as nn\n",
        "import torch.nn.functional as F\n",
        "import torch.optim as optim\n",
        "\n",
        "device = torch.device('cuda' if torch.cuda.is_available() else 'cpu')\n",
        "\n",
        "NUM_FINETUNE_CLASSES = 36\n",
        "model = timm.create_model('inception_v3', pretrained=True, num_classes=NUM_FINETUNE_CLASSES)\n",
        "model = model.to(device)\n",
        "\n",
        "criterion = nn.CrossEntropyLoss()\n",
        "optimizer = optim.Adam(model.parameters(), lr=1e-4)\n"
      ],
      "metadata": {
        "id": "Je6lfvwq-l9l",
        "colab": {
          "base_uri": "https://localhost:8080/",
          "height": 170,
          "referenced_widgets": [
            "2e4af73c871e43fca99e8dcf9c696a32",
            "75da73cb0d494a06af09fd6bb0a86d92",
            "91efd8f047e94c25b254157fc6c45935",
            "0f343faeea09432caac2772908f3cc8e",
            "e1b59214759c426888f2f938eda974e8",
            "d5addaa0e99f4906ab7064fe795d9f52",
            "6729a14af6c74493bc9a9e320d87c1b4",
            "aca917a2309b473bab5052a6f6cb7043",
            "d0eb6cc327f04cea820258a6775fb79b",
            "042d0a167002458a98073fdcf125fcf8",
            "352c52f74f694b91af0a948e654e7b31"
          ]
        },
        "outputId": "6a7f877d-9233-4e99-943a-c7d64619629a"
      },
      "execution_count": null,
      "outputs": [
        {
          "output_type": "stream",
          "name": "stdout",
          "text": [
            "CUDA Avail: True\n"
          ]
        },
        {
          "output_type": "stream",
          "name": "stderr",
          "text": [
            "/usr/local/lib/python3.11/dist-packages/huggingface_hub/utils/_auth.py:94: UserWarning: \n",
            "The secret `HF_TOKEN` does not exist in your Colab secrets.\n",
            "To authenticate with the Hugging Face Hub, create a token in your settings tab (https://huggingface.co/settings/tokens), set it as secret in your Google Colab and restart your session.\n",
            "You will be able to reuse this secret in all of your notebooks.\n",
            "Please note that authentication is recommended but still optional to access public models or datasets.\n",
            "  warnings.warn(\n"
          ]
        },
        {
          "output_type": "display_data",
          "data": {
            "text/plain": [
              "model.safetensors:   0%|          | 0.00/95.5M [00:00<?, ?B/s]"
            ],
            "application/vnd.jupyter.widget-view+json": {
              "version_major": 2,
              "version_minor": 0,
              "model_id": "2e4af73c871e43fca99e8dcf9c696a32"
            }
          },
          "metadata": {}
        }
      ]
    },
    {
      "cell_type": "code",
      "source": [
        "# fine tuning\n",
        "train_loss_list = []\n",
        "val_loss_list = []\n",
        "train_acc_list = []\n",
        "val_acc_list = []\n",
        "\n",
        "num_epochs = 10\n",
        "\n",
        "for epoch in range(num_epochs):\n",
        "    model.train()\n",
        "    total_loss = 0\n",
        "    correct_train = 0\n",
        "    total_train = 0\n",
        "\n",
        "    for inputs, labels in train_loader:\n",
        "        inputs, labels = inputs.to(device), labels.to(device)\n",
        "\n",
        "        optimizer.zero_grad()\n",
        "        outputs = model(inputs)\n",
        "        loss = criterion(outputs, labels)\n",
        "        loss.backward()\n",
        "        optimizer.step()\n",
        "\n",
        "        total_loss += loss.item()\n",
        "        _, predicted = torch.max(outputs, 1)\n",
        "        correct_train += (predicted == labels).sum().item()\n",
        "        total_train += labels.size(0)\n",
        "\n",
        "    avg_train_loss = total_loss / len(train_loader)\n",
        "    train_accuracy = correct_train / total_train\n",
        "    train_loss_list.append(avg_train_loss)\n",
        "    train_acc_list.append(train_accuracy)\n",
        "\n",
        "    model.eval()\n",
        "    val_loss = 0\n",
        "    correct_val = 0\n",
        "    total_val = 0\n",
        "\n",
        "    with torch.no_grad():\n",
        "        for inputs, labels in val_loader:\n",
        "            inputs, labels = inputs.to(device), labels.to(device)\n",
        "            outputs = model(inputs)\n",
        "            loss = criterion(outputs, labels)\n",
        "            val_loss += loss.item()\n",
        "            _, predicted = torch.max(outputs, 1)\n",
        "            correct_val += (predicted == labels).sum().item()\n",
        "            total_val += labels.size(0)\n",
        "\n",
        "    avg_val_loss = val_loss / len(val_loader)\n",
        "    val_accuracy = correct_val / total_val\n",
        "    val_loss_list.append(avg_val_loss)\n",
        "    val_acc_list.append(val_accuracy)\n",
        "\n",
        "    print(f\"Epoch {epoch+1}/{num_epochs}, \"\n",
        "          f\"Train Loss: {avg_train_loss:.4f}, Train Acc: {train_accuracy*100:.2f}%, \"\n",
        "          f\"Val Loss: {avg_val_loss:.4f}, Val Acc: {val_accuracy*100:.2f}%\")\n",
        "\n"
      ],
      "metadata": {
        "id": "Hc6Dtf3A-lxO",
        "colab": {
          "base_uri": "https://localhost:8080/"
        },
        "outputId": "b90b0d99-c75d-44a1-e4b8-a34872eaec2a"
      },
      "execution_count": null,
      "outputs": [
        {
          "output_type": "stream",
          "name": "stdout",
          "text": [
            "Epoch 1/10, Train Loss: 0.8561, Train Acc: 75.25%, Val Loss: 0.4383, Val Acc: 85.80%\n",
            "Epoch 2/10, Train Loss: 0.3367, Train Acc: 88.95%, Val Loss: 0.3645, Val Acc: 88.02%\n",
            "Epoch 3/10, Train Loss: 0.2477, Train Acc: 91.35%, Val Loss: 0.3135, Val Acc: 90.03%\n",
            "Epoch 4/10, Train Loss: 0.1982, Train Acc: 92.80%, Val Loss: 0.3026, Val Acc: 90.40%\n",
            "Epoch 5/10, Train Loss: 0.1660, Train Acc: 93.78%, Val Loss: 0.3364, Val Acc: 90.02%\n",
            "Epoch 6/10, Train Loss: 0.1504, Train Acc: 94.42%, Val Loss: 0.3676, Val Acc: 89.76%\n",
            "Epoch 7/10, Train Loss: 0.1271, Train Acc: 95.23%, Val Loss: 0.3185, Val Acc: 91.02%\n",
            "Epoch 8/10, Train Loss: 0.1177, Train Acc: 95.69%, Val Loss: 0.3233, Val Acc: 90.95%\n",
            "Epoch 9/10, Train Loss: 0.0993, Train Acc: 96.31%, Val Loss: 0.3569, Val Acc: 90.42%\n",
            "Epoch 10/10, Train Loss: 0.0964, Train Acc: 96.44%, Val Loss: 0.3908, Val Acc: 89.35%\n"
          ]
        }
      ]
    },
    {
      "cell_type": "code",
      "source": [
        "torch.save(model.state_dict(), 'model2.pth')\n",
        "from google.colab import files\n",
        "files.download('model2.pth')"
      ],
      "metadata": {
        "colab": {
          "base_uri": "https://localhost:8080/",
          "height": 17
        },
        "id": "DPjGiRVgnnyO",
        "outputId": "a5f62c23-aef4-4a6d-cb66-e0df91ca5542"
      },
      "execution_count": null,
      "outputs": [
        {
          "output_type": "display_data",
          "data": {
            "text/plain": [
              "<IPython.core.display.Javascript object>"
            ],
            "application/javascript": [
              "\n",
              "    async function download(id, filename, size) {\n",
              "      if (!google.colab.kernel.accessAllowed) {\n",
              "        return;\n",
              "      }\n",
              "      const div = document.createElement('div');\n",
              "      const label = document.createElement('label');\n",
              "      label.textContent = `Downloading \"${filename}\": `;\n",
              "      div.appendChild(label);\n",
              "      const progress = document.createElement('progress');\n",
              "      progress.max = size;\n",
              "      div.appendChild(progress);\n",
              "      document.body.appendChild(div);\n",
              "\n",
              "      const buffers = [];\n",
              "      let downloaded = 0;\n",
              "\n",
              "      const channel = await google.colab.kernel.comms.open(id);\n",
              "      // Send a message to notify the kernel that we're ready.\n",
              "      channel.send({})\n",
              "\n",
              "      for await (const message of channel.messages) {\n",
              "        // Send a message to notify the kernel that we're ready.\n",
              "        channel.send({})\n",
              "        if (message.buffers) {\n",
              "          for (const buffer of message.buffers) {\n",
              "            buffers.push(buffer);\n",
              "            downloaded += buffer.byteLength;\n",
              "            progress.value = downloaded;\n",
              "          }\n",
              "        }\n",
              "      }\n",
              "      const blob = new Blob(buffers, {type: 'application/binary'});\n",
              "      const a = document.createElement('a');\n",
              "      a.href = window.URL.createObjectURL(blob);\n",
              "      a.download = filename;\n",
              "      div.appendChild(a);\n",
              "      a.click();\n",
              "      div.remove();\n",
              "    }\n",
              "  "
            ]
          },
          "metadata": {}
        },
        {
          "output_type": "display_data",
          "data": {
            "text/plain": [
              "<IPython.core.display.Javascript object>"
            ],
            "application/javascript": [
              "download(\"download_ec8136c5-e727-4e79-97f4-08392b7cb5c0\", \"model2.pth\", 87775628)"
            ]
          },
          "metadata": {}
        }
      ]
    },
    {
      "cell_type": "code",
      "source": [
        "# plot learning curves\n",
        "import matplotlib.pyplot as plt\n",
        "\n",
        "plt.plot(train_acc_list, label='Train Accuracy')\n",
        "plt.plot(val_acc_list, label='Validation Accuracy')\n",
        "plt.xlabel(\"Epoch\")\n",
        "plt.ylabel(\"Accuracy\")\n",
        "plt.title(\"Accuracy over Epochs\")\n",
        "plt.legend()\n",
        "plt.show()\n",
        "\n",
        "\n",
        "plt.plot(train_loss_list, label='Train Loss')\n",
        "plt.plot(val_loss_list, label='Validation Loss')\n",
        "plt.xlabel(\"Epoch\")\n",
        "plt.ylabel(\"Loss\")\n",
        "plt.title(\"Loss over Epochs\")\n",
        "plt.legend()\n",
        "plt.show()"
      ],
      "metadata": {
        "id": "M6QPHp8cWOZT",
        "colab": {
          "base_uri": "https://localhost:8080/",
          "height": 927
        },
        "outputId": "ba6028ed-9812-4052-e99d-03d2c9803694"
      },
      "execution_count": null,
      "outputs": [
        {
          "output_type": "display_data",
          "data": {
            "text/plain": [
              "<Figure size 640x480 with 1 Axes>"
            ],
            "image/png": "[encoded data removed]"
          },
          "metadata": {}
        },
        {
          "output_type": "display_data",
          "data": {
            "text/plain": [
              "<Figure size 640x480 with 1 Axes>"
            ],
            "image/png": "[encoded data removed]"
          },
          "metadata": {}
        }
      ]
    },
    {
      "cell_type": "markdown",
      "source": [
        "TEST"
      ],
      "metadata": {
        "id": "tQvVPqreYXph"
      }
    },
    {
      "cell_type": "code",
      "source": [
        "'''\n",
        "from google.colab import drive\n",
        "drive.mount('/content/drive')\n",
        "!find /content/drive/MyDrive -name 'output-test.zip'\n",
        "'''"
      ],
      "metadata": {
        "colab": {
          "base_uri": "https://localhost:8080/",
          "height": 35
        },
        "id": "LiY3qo8Pv73C",
        "outputId": "a669ce87-bf90-4f5d-94ea-7d0be979ba3f"
      },
      "execution_count": null,
      "outputs": [
        {
          "output_type": "execute_result",
          "data": {
            "text/plain": [
              "\"\\nfrom google.colab import drive\\ndrive.mount('/content/drive')\\n!find /content/drive/MyDrive -name 'output-test.zip'\\n\""
            ],
            "application/vnd.google.colaboratory.intrinsic+json": {
              "type": "string"
            }
          },
          "metadata": {},
          "execution_count": 8
        }
      ]
    },
    {
      "cell_type": "code",
      "source": [
        "zip_path = '/content/drive/MyDrive/NUS/AY24 25/CS4243/output-test.zip'\n",
        "extract_path = './dataset'\n",
        "\n",
        "with zipfile.ZipFile(zip_path, 'r') as zip_ref:\n",
        "    zip_ref.extractall(extract_path)\n",
        "\n",
        "transform = transforms.Compose([\n",
        "    transforms.Resize((299, 299)),  # match Inception v3 input size\n",
        "    transforms.ToTensor(),\n",
        "    transforms.Normalize(mean=[0.5]*3, std=[0.5]*3)\n",
        "])\n",
        "\n",
        "test_dataset = datasets.ImageFolder(root='./dataset/output-test', transform=transform)\n",
        "test_loader = DataLoader(test_dataset, batch_size=32)\n"
      ],
      "metadata": {
        "id": "FZs0_30htMVF"
      },
      "execution_count": null,
      "outputs": []
    },
    {
      "cell_type": "code",
      "source": [
        "from sklearn.metrics import classification_report, accuracy_score, precision_score, recall_score\n",
        "\n",
        "model.eval()  # just to be safe\n",
        "all_test_preds = []\n",
        "all_test_labels = []\n",
        "\n",
        "with torch.no_grad():\n",
        "    for inputs, labels in test_loader:\n",
        "        inputs, labels = inputs.to(device), labels.to(device)\n",
        "        outputs = model(inputs)\n",
        "        _, predicted = torch.max(outputs, 1)\n",
        "        all_test_preds.extend(predicted.cpu().numpy())\n",
        "        all_test_labels.extend(labels.cpu().numpy())\n",
        "\n",
        "# overall metrics\n",
        "accuracy = accuracy_score(all_test_labels, all_test_preds)\n",
        "precision = precision_score(all_test_labels, all_test_preds, average='macro', zero_division=0)\n",
        "recall = recall_score(all_test_labels, all_test_preds, average='macro', zero_division=0)\n",
        "\n",
        "print(f\"\\nTest Accuracy: {accuracy*100:.2f}%\")\n",
        "print(f\"Test Macro Precision: {precision:.4f}\")\n",
        "print(f\"Test Macro Recall: {recall:.4f}\")\n",
        "\n",
        "# metrics for each class\n",
        "class_names = list(test_dataset.class_to_idx.keys())\n",
        "report = classification_report(all_test_labels, all_test_preds, target_names=class_names, zero_division=0)\n",
        "print(\"\\nDetailed Test Classification Report:\")\n",
        "print(report)\n",
        "\n",
        "# save report\n",
        "with open(\"test_classification_report.txt\", \"w\") as f:\n",
        "    f.write(report)\n",
        "\n",
        "files.download('test_classification_report.txt')\n"
      ],
      "metadata": {
        "colab": {
          "base_uri": "https://localhost:8080/",
          "height": 867
        },
        "id": "tQNhG1OhqQru",
        "outputId": "193c5f93-eac5-43d7-eeae-edc396aead72"
      },
      "execution_count": null,
      "outputs": [
        {
          "output_type": "stream",
          "name": "stdout",
          "text": [
            "\n",
            "Test Accuracy: 86.76%\n",
            "Test Macro Precision: 0.8771\n",
            "Test Macro Recall: 0.8694\n",
            "\n",
            "Detailed Test Classification Report:\n",
            "              precision    recall  f1-score   support\n",
            "\n",
            "           0       0.58      0.60      0.59       258\n",
            "           1       0.62      0.69      0.66       234\n",
            "           2       0.96      0.69      0.81       249\n",
            "           3       0.98      0.92      0.95       227\n",
            "           4       0.98      0.92      0.95       235\n",
            "           5       0.90      0.89      0.89       238\n",
            "           6       0.96      0.90      0.93       224\n",
            "           7       0.91      0.88      0.89       233\n",
            "           8       0.92      0.93      0.93       253\n",
            "           9       0.94      0.84      0.89       268\n",
            "           a       0.95      0.82      0.88       268\n",
            "           b       0.93      0.94      0.94       255\n",
            "           c       0.97      0.87      0.92       256\n",
            "           d       0.87      0.91      0.89       270\n",
            "           e       0.95      0.91      0.93       237\n",
            "           f       0.93      0.92      0.92       221\n",
            "           g       0.73      0.96      0.83       243\n",
            "           h       0.90      0.95      0.93       256\n",
            "           i       0.60      0.66      0.63       265\n",
            "           j       0.89      0.86      0.88       247\n",
            "           k       0.98      0.89      0.93       262\n",
            "           l       0.74      0.68      0.71       277\n",
            "           m       0.94      0.93      0.93       234\n",
            "           n       0.93      0.94      0.93       265\n",
            "           o       0.61      0.70      0.65       266\n",
            "           p       0.98      0.93      0.96       243\n",
            "           q       0.91      0.87      0.89       246\n",
            "           r       0.91      0.94      0.92       218\n",
            "           s       0.88      0.89      0.88       261\n",
            "           t       0.81      0.94      0.87       265\n",
            "           u       0.85      0.94      0.89       240\n",
            "           v       0.92      0.91      0.91       275\n",
            "           w       0.96      0.90      0.93       289\n",
            "           x       0.97      0.94      0.95       234\n",
            "           y       0.95      0.89      0.92       262\n",
            "           z       0.77      0.96      0.85       247\n",
            "\n",
            "    accuracy                           0.87      9021\n",
            "   macro avg       0.88      0.87      0.87      9021\n",
            "weighted avg       0.88      0.87      0.87      9021\n",
            "\n"
          ]
        },
        {
          "output_type": "display_data",
          "data": {
            "text/plain": [
              "<IPython.core.display.Javascript object>"
            ],
            "application/javascript": [
              "\n",
              "    async function download(id, filename, size) {\n",
              "      if (!google.colab.kernel.accessAllowed) {\n",
              "        return;\n",
              "      }\n",
              "      const div = document.createElement('div');\n",
              "      const label = document.createElement('label');\n",
              "      label.textContent = `Downloading \"${filename}\": `;\n",
              "      div.appendChild(label);\n",
              "      const progress = document.createElement('progress');\n",
              "      progress.max = size;\n",
              "      div.appendChild(progress);\n",
              "      document.body.appendChild(div);\n",
              "\n",
              "      const buffers = [];\n",
              "      let downloaded = 0;\n",
              "\n",
              "      const channel = await google.colab.kernel.comms.open(id);\n",
              "      // Send a message to notify the kernel that we're ready.\n",
              "      channel.send({})\n",
              "\n",
              "      for await (const message of channel.messages) {\n",
              "        // Send a message to notify the kernel that we're ready.\n",
              "        channel.send({})\n",
              "        if (message.buffers) {\n",
              "          for (const buffer of message.buffers) {\n",
              "            buffers.push(buffer);\n",
              "            downloaded += buffer.byteLength;\n",
              "            progress.value = downloaded;\n",
              "          }\n",
              "        }\n",
              "      }\n",
              "      const blob = new Blob(buffers, {type: 'application/binary'});\n",
              "      const a = document.createElement('a');\n",
              "      a.href = window.URL.createObjectURL(blob);\n",
              "      a.download = filename;\n",
              "      div.appendChild(a);\n",
              "      a.click();\n",
              "      div.remove();\n",
              "    }\n",
              "  "
            ]
          },
          "metadata": {}
        },
        {
          "output_type": "display_data",
          "data": {
            "text/plain": [
              "<IPython.core.display.Javascript object>"
            ],
            "application/javascript": [
              "download(\"download_af7bf4c2-975c-4efa-bb12-3b2e96b98b41\", \"test_classification_report.txt\", 2162)"
            ]
          },
          "metadata": {}
        }
      ]
    },
    {
      "cell_type": "markdown",
      "source": [
        "CITATION:\n",
        "\n",
        "@article{DBLP:journals/corr/SzegedyVISW15,\n",
        "  author    = {Christian Szegedy and\n",
        "               Vincent Vanhoucke and\n",
        "               Sergey Ioffe and\n",
        "               Jonathon Shlens and\n",
        "               Zbigniew Wojna},\n",
        "  title     = {Rethinking the Inception Architecture for Computer Vision},\n",
        "  journal   = {CoRR},\n",
        "  volume    = {abs/1512.00567},\n",
        "  year      = {2015},\n",
        "  url       = {http://arxiv.org/abs/1512.00567},\n",
        "  archivePrefix = {arXiv},\n",
        "  eprint    = {1512.00567},\n",
        "  timestamp = {Mon, 13 Aug 2018 16:49:07 +0200},\n",
        "  biburl    = {https://dblp.org/rec/journals/corr/SzegedyVISW15.bib},\n",
        "  bibsource = {dblp computer science bibliography, https://dblp.org}\n",
        "}\n",
        "\n",
        "LINK: https://huggingface.co/docs/timm/en/models/inception-v3"
      ],
      "metadata": {
        "id": "8FjyI9bqKgcE"
      }
    },
    {
      "cell_type": "markdown",
      "source": [
        "EMNIST (Extended MNIST) — for handwritten letters (balanced or letters split)\n",
        "https://www.nist.gov/itl/products-and-services/emnist-dataset\n",
        "\n",
        "https://github.com/ruchitapaithankar15/Optical-character-recognition-using-Inception-V3-and-VGG16\n"
      ],
      "metadata": {
        "id": "XYbwmA3GMibJ"
      }
    },
    {
      "cell_type": "markdown",
      "source": [
        "partial fine tuning"
      ],
      "metadata": {
        "id": "aZrPV9QDSQXx"
      }
    },
    {
      "cell_type": "code",
      "source": [
        "\n",
        "model = timm.create_model('inception_v3', pretrained=True)\n",
        "\n",
        "# freeze all layers\n",
        "for param in model.parameters():\n",
        "    param.requires_grad = False\n",
        "\n",
        "# unfreeze last two inception blocks\n",
        "for name, child in model.named_children():\n",
        "    if name in ['Mixed_7b', 'Mixed_7c']:\n",
        "        for param in child.parameters():\n",
        "            param.requires_grad = True\n",
        "\n",
        "# add classification head\n",
        "model.fc = nn.Sequential(\n",
        "    nn.Linear(model.fc.in_features, 512),\n",
        "    nn.ReLU(),\n",
        "    nn.Dropout(0.5),\n",
        "    nn.Linear(512, 36)  # 36 output classes (0–9, a–z)\n",
        ")\n",
        "\n",
        "device = torch.device(\"cuda\" if torch.cuda.is_available() else \"cpu\")\n",
        "model = model.to(device)\n"
      ],
      "metadata": {
        "id": "a056QgnPagGD"
      },
      "execution_count": null,
      "outputs": []
    },
    {
      "cell_type": "code",
      "source": [
        "criterion = nn.CrossEntropyLoss()\n",
        "optimizer = optim.Adam(model.parameters(), lr=1e-4)\n",
        "\n",
        "train_loss_list = []\n",
        "val_loss_list = []\n",
        "train_acc_list = []\n",
        "val_acc_list = []\n",
        "\n",
        "num_epochs = 10\n",
        "\n",
        "for epoch in range(num_epochs):\n",
        "    model.train()\n",
        "    total_loss = 0\n",
        "    correct_train = 0\n",
        "    total_train = 0\n",
        "\n",
        "    for inputs, labels in train_loader:\n",
        "        inputs, labels = inputs.to(device), labels.to(device)\n",
        "\n",
        "        optimizer.zero_grad()\n",
        "        outputs = model(inputs)\n",
        "        loss = criterion(outputs, labels)\n",
        "        loss.backward()\n",
        "        optimizer.step()\n",
        "\n",
        "        total_loss += loss.item()\n",
        "        _, predicted = torch.max(outputs, 1)\n",
        "        correct_train += (predicted == labels).sum().item()\n",
        "        total_train += labels.size(0)\n",
        "\n",
        "    avg_train_loss = total_loss / len(train_loader)\n",
        "    train_accuracy = correct_train / total_train\n",
        "    train_loss_list.append(avg_train_loss)\n",
        "    train_acc_list.append(train_accuracy)\n",
        "\n",
        "    model.eval()\n",
        "    val_loss = 0\n",
        "    correct_val = 0\n",
        "    total_val = 0\n",
        "\n",
        "    with torch.no_grad():\n",
        "        for inputs, labels in val_loader:\n",
        "            inputs, labels = inputs.to(device), labels.to(device)\n",
        "            outputs = model(inputs)\n",
        "            loss = criterion(outputs, labels)\n",
        "            val_loss += loss.item()\n",
        "            _, predicted = torch.max(outputs, 1)\n",
        "            correct_val += (predicted == labels).sum().item()\n",
        "            total_val += labels.size(0)\n",
        "\n",
        "    avg_val_loss = val_loss / len(val_loader)\n",
        "    val_accuracy = correct_val / total_val\n",
        "    val_loss_list.append(avg_val_loss)\n",
        "    val_acc_list.append(val_accuracy)\n",
        "\n",
        "    print(f\"Epoch {epoch+1}/{num_epochs}, \"\n",
        "          f\"Train Loss: {avg_train_loss:.4f}, Train Acc: {train_accuracy*100:.2f}%, \"\n",
        "          f\"Val Loss: {avg_val_loss:.4f}, Val Acc: {val_accuracy*100:.2f}%\")"
      ],
      "metadata": {
        "colab": {
          "base_uri": "https://localhost:8080/"
        },
        "id": "H1_h7OffTFK3",
        "outputId": "bae3bfea-2f8a-4448-806d-a3bfb1936291"
      },
      "execution_count": null,
      "outputs": [
        {
          "output_type": "stream",
          "name": "stdout",
          "text": [
            "Epoch 1/10, Train Loss: 1.6364, Train Acc: 53.33%, Val Loss: 0.7409, Val Acc: 77.53%\n",
            "Epoch 2/10, Train Loss: 0.6890, Train Acc: 79.23%, Val Loss: 0.5683, Val Acc: 81.73%\n",
            "Epoch 3/10, Train Loss: 0.4564, Train Acc: 85.54%, Val Loss: 0.5238, Val Acc: 83.66%\n",
            "Epoch 4/10, Train Loss: 0.3313, Train Acc: 88.96%, Val Loss: 0.5077, Val Acc: 84.04%\n",
            "Epoch 5/10, Train Loss: 0.2410, Train Acc: 91.74%, Val Loss: 0.5389, Val Acc: 83.51%\n",
            "Epoch 6/10, Train Loss: 0.1865, Train Acc: 93.58%, Val Loss: 0.5511, Val Acc: 84.09%\n",
            "Epoch 7/10, Train Loss: 0.1550, Train Acc: 94.67%, Val Loss: 0.5654, Val Acc: 84.50%\n",
            "Epoch 8/10, Train Loss: 0.1259, Train Acc: 95.67%, Val Loss: 0.6139, Val Acc: 83.96%\n",
            "Epoch 9/10, Train Loss: 0.1129, Train Acc: 96.30%, Val Loss: 0.6375, Val Acc: 84.30%\n",
            "Epoch 10/10, Train Loss: 0.0937, Train Acc: 96.87%, Val Loss: 0.6463, Val Acc: 83.95%\n"
          ]
        }
      ]
    },
    {
      "cell_type": "code",
      "source": [
        "torch.save(model.state_dict(), 'model3.pth')\n",
        "from google.colab import files\n",
        "files.download('model3.pth')\n",
        "\n",
        "import matplotlib.pyplot as plt\n",
        "\n",
        "plt.plot(train_acc_list, label='Train Accuracy')\n",
        "plt.plot(val_acc_list, label='Validation Accuracy')\n",
        "plt.xlabel(\"Epoch\")\n",
        "plt.ylabel(\"Accuracy\")\n",
        "plt.title(\"Accuracy over Epochs\")\n",
        "plt.legend()\n",
        "plt.show()\n",
        "plt.savefig(\"I3_accuracy_curve.png\")\n",
        "\n",
        "\n",
        "plt.plot(train_loss_list, label='Train Loss')\n",
        "plt.plot(val_loss_list, label='Validation Loss')\n",
        "plt.xlabel(\"Epoch\")\n",
        "plt.ylabel(\"Loss\")\n",
        "plt.title(\"Loss over Epochs\")\n",
        "plt.legend()\n",
        "plt.show()\n",
        "plt.savefig(\"I3_loss_curve.png\")"
      ],
      "metadata": {
        "colab": {
          "base_uri": "https://localhost:8080/",
          "height": 944
        },
        "id": "0SPoDYFaTP6q",
        "outputId": "c1ea2bc1-e482-4b7d-d386-b3072e2150a7"
      },
      "execution_count": null,
      "outputs": [
        {
          "output_type": "display_data",
          "data": {
            "text/plain": [
              "<IPython.core.display.Javascript object>"
            ],
            "application/javascript": [
              "\n",
              "    async function download(id, filename, size) {\n",
              "      if (!google.colab.kernel.accessAllowed) {\n",
              "        return;\n",
              "      }\n",
              "      const div = document.createElement('div');\n",
              "      const label = document.createElement('label');\n",
              "      label.textContent = `Downloading \"${filename}\": `;\n",
              "      div.appendChild(label);\n",
              "      const progress = document.createElement('progress');\n",
              "      progress.max = size;\n",
              "      div.appendChild(progress);\n",
              "      document.body.appendChild(div);\n",
              "\n",
              "      const buffers = [];\n",
              "      let downloaded = 0;\n",
              "\n",
              "      const channel = await google.colab.kernel.comms.open(id);\n",
              "      // Send a message to notify the kernel that we're ready.\n",
              "      channel.send({})\n",
              "\n",
              "      for await (const message of channel.messages) {\n",
              "        // Send a message to notify the kernel that we're ready.\n",
              "        channel.send({})\n",
              "        if (message.buffers) {\n",
              "          for (const buffer of message.buffers) {\n",
              "            buffers.push(buffer);\n",
              "            downloaded += buffer.byteLength;\n",
              "            progress.value = downloaded;\n",
              "          }\n",
              "        }\n",
              "      }\n",
              "      const blob = new Blob(buffers, {type: 'application/binary'});\n",
              "      const a = document.createElement('a');\n",
              "      a.href = window.URL.createObjectURL(blob);\n",
              "      a.download = filename;\n",
              "      div.appendChild(a);\n",
              "      a.click();\n",
              "      div.remove();\n",
              "    }\n",
              "  "
            ]
          },
          "metadata": {}
        },
        {
          "output_type": "display_data",
          "data": {
            "text/plain": [
              "<IPython.core.display.Javascript object>"
            ],
            "application/javascript": [
              "download(\"download_c091b694-8845-4630-bb70-34df32d0f5b7\", \"model3.pth\", 91751494)"
            ]
          },
          "metadata": {}
        },
        {
          "output_type": "display_data",
          "data": {
            "text/plain": [
              "<Figure size 640x480 with 1 Axes>"
            ],
            "image/png": "[encoded data removed]"
          },
          "metadata": {}
        },
        {
          "output_type": "display_data",
          "data": {
            "text/plain": [
              "<Figure size 640x480 with 1 Axes>"
            ],
            "image/png": "[encoded data removed]"
          },
          "metadata": {}
        },
        {
          "output_type": "display_data",
          "data": {
            "text/plain": [
              "<Figure size 640x480 with 0 Axes>"
            ]
          },
          "metadata": {}
        }
      ]
    },
    {
      "cell_type": "code",
      "source": [
        "from sklearn.metrics import classification_report, accuracy_score, precision_score, recall_score\n",
        "\n",
        "model.eval()  # just to be safe\n",
        "all_test_preds = []\n",
        "all_test_labels = []\n",
        "\n",
        "with torch.no_grad():\n",
        "    for inputs, labels in test_loader:\n",
        "        inputs, labels = inputs.to(device), labels.to(device)\n",
        "        outputs = model(inputs)\n",
        "        _, predicted = torch.max(outputs, 1)\n",
        "        all_test_preds.extend(predicted.cpu().numpy())\n",
        "        all_test_labels.extend(labels.cpu().numpy())\n",
        "\n",
        "# overall metrics\n",
        "accuracy = accuracy_score(all_test_labels, all_test_preds)\n",
        "precision = precision_score(all_test_labels, all_test_preds, average='macro', zero_division=0)\n",
        "recall = recall_score(all_test_labels, all_test_preds, average='macro', zero_division=0)\n",
        "\n",
        "print(f\"\\nTest Accuracy: {accuracy*100:.2f}%\")\n",
        "print(f\"Test Macro Precision: {precision:.4f}\")\n",
        "print(f\"Test Macro Recall: {recall:.4f}\")\n",
        "\n",
        "# metrics for each class\n",
        "class_names = list(test_dataset.class_to_idx.keys())\n",
        "report = classification_report(all_test_labels, all_test_preds, target_names=class_names, zero_division=0)\n",
        "print(\"\\nDetailed Test Classification Report:\")\n",
        "print(report)\n",
        "\n",
        "with open(\"test_classification_report.txt\", \"w\") as f:\n",
        "    f.write(report)\n",
        "\n",
        "files.download('test_classification_report.txt')"
      ],
      "metadata": {
        "colab": {
          "base_uri": "https://localhost:8080/",
          "height": 868
        },
        "id": "8t5bbDMhTc1P",
        "outputId": "ef36cd65-753d-4c33-e218-0db19786584b"
      },
      "execution_count": null,
      "outputs": [
        {
          "output_type": "stream",
          "name": "stdout",
          "text": [
            "\n",
            "Test Accuracy: 81.69%\n",
            "Test Macro Precision: 0.8230\n",
            "Test Macro Recall: 0.8199\n",
            "\n",
            "Detailed Test Classification Report:\n",
            "              precision    recall  f1-score   support\n",
            "\n",
            "           0       0.51      0.69      0.59       258\n",
            "           1       0.55      0.66      0.60       234\n",
            "           2       0.87      0.88      0.87       249\n",
            "           3       0.91      0.90      0.90       227\n",
            "           4       0.87      0.88      0.88       235\n",
            "           5       0.86      0.82      0.84       238\n",
            "           6       0.92      0.90      0.91       224\n",
            "           7       0.76      0.93      0.84       233\n",
            "           8       0.92      0.82      0.87       253\n",
            "           9       0.89      0.75      0.81       268\n",
            "           a       0.88      0.76      0.81       268\n",
            "           b       0.85      0.87      0.86       255\n",
            "           c       0.91      0.85      0.88       256\n",
            "           d       0.93      0.85      0.89       270\n",
            "           e       0.91      0.90      0.91       237\n",
            "           f       0.82      0.88      0.85       221\n",
            "           g       0.75      0.79      0.77       243\n",
            "           h       0.89      0.84      0.86       256\n",
            "           i       0.61      0.51      0.55       265\n",
            "           j       0.85      0.81      0.83       247\n",
            "           k       0.94      0.82      0.87       262\n",
            "           l       0.77      0.58      0.67       277\n",
            "           m       0.83      0.90      0.86       234\n",
            "           n       0.88      0.81      0.84       265\n",
            "           o       0.61      0.47      0.53       266\n",
            "           p       0.91      0.92      0.92       243\n",
            "           q       0.79      0.83      0.81       246\n",
            "           r       0.68      0.93      0.79       218\n",
            "           s       0.83      0.82      0.82       261\n",
            "           t       0.77      0.88      0.83       265\n",
            "           u       0.82      0.82      0.82       240\n",
            "           v       0.89      0.81      0.85       275\n",
            "           w       0.79      0.95      0.86       289\n",
            "           x       0.87      0.94      0.90       234\n",
            "           y       0.88      0.87      0.88       262\n",
            "           z       0.89      0.87      0.88       247\n",
            "\n",
            "    accuracy                           0.82      9021\n",
            "   macro avg       0.82      0.82      0.82      9021\n",
            "weighted avg       0.82      0.82      0.82      9021\n",
            "\n"
          ]
        },
        {
          "output_type": "display_data",
          "data": {
            "text/plain": [
              "<IPython.core.display.Javascript object>"
            ],
            "application/javascript": [
              "\n",
              "    async function download(id, filename, size) {\n",
              "      if (!google.colab.kernel.accessAllowed) {\n",
              "        return;\n",
              "      }\n",
              "      const div = document.createElement('div');\n",
              "      const label = document.createElement('label');\n",
              "      label.textContent = `Downloading \"${filename}\": `;\n",
              "      div.appendChild(label);\n",
              "      const progress = document.createElement('progress');\n",
              "      progress.max = size;\n",
              "      div.appendChild(progress);\n",
              "      document.body.appendChild(div);\n",
              "\n",
              "      const buffers = [];\n",
              "      let downloaded = 0;\n",
              "\n",
              "      const channel = await google.colab.kernel.comms.open(id);\n",
              "      // Send a message to notify the kernel that we're ready.\n",
              "      channel.send({})\n",
              "\n",
              "      for await (const message of channel.messages) {\n",
              "        // Send a message to notify the kernel that we're ready.\n",
              "        channel.send({})\n",
              "        if (message.buffers) {\n",
              "          for (const buffer of message.buffers) {\n",
              "            buffers.push(buffer);\n",
              "            downloaded += buffer.byteLength;\n",
              "            progress.value = downloaded;\n",
              "          }\n",
              "        }\n",
              "      }\n",
              "      const blob = new Blob(buffers, {type: 'application/binary'});\n",
              "      const a = document.createElement('a');\n",
              "      a.href = window.URL.createObjectURL(blob);\n",
              "      a.download = filename;\n",
              "      div.appendChild(a);\n",
              "      a.click();\n",
              "      div.remove();\n",
              "    }\n",
              "  "
            ]
          },
          "metadata": {}
        },
        {
          "output_type": "display_data",
          "data": {
            "text/plain": [
              "<IPython.core.display.Javascript object>"
            ],
            "application/javascript": [
              "download(\"download_0783d833-d9d5-4433-a8b8-23dc0d9df80d\", \"test_classification_report.txt\", 2162)"
            ]
          },
          "metadata": {}
        }
      ]
    },
    {
      "cell_type": "markdown",
      "source": [
        "performance without any tuning"
      ],
      "metadata": {
        "id": "nctEDCuTziP5"
      }
    },
    {
      "cell_type": "code",
      "source": [
        "import timm\n",
        "import torch ##\n",
        "print(\"CUDA Avail:\", torch.cuda.is_available())\n",
        "import torch.nn as nn\n",
        "\n",
        "NUM_FINETUNE_CLASSES = 36 #a-z,0-9\n",
        "model = timm.create_model('inception_v3', pretrained=True, num_classes=NUM_FINETUNE_CLASSES)\n",
        "#model.eval()\n",
        "\n",
        "device = torch.device(\"cuda\" if torch.cuda.is_available() else \"cpu\")\n",
        "model = model.to(device)\n"
      ],
      "metadata": {
        "id": "FRPDeKP7TRkL",
        "colab": {
          "base_uri": "https://localhost:8080/"
        },
        "outputId": "a29db4ec-eba7-45b3-9ba5-f525f7f008a4"
      },
      "execution_count": null,
      "outputs": [
        {
          "output_type": "stream",
          "name": "stdout",
          "text": [
            "CUDA Avail: True\n"
          ]
        }
      ]
    },
    {
      "cell_type": "code",
      "source": [
        "from sklearn.metrics import classification_report, accuracy_score, precision_score, recall_score\n",
        "\n",
        "model.eval()\n",
        "all_test_preds = []\n",
        "all_test_labels = []\n",
        "\n",
        "with torch.no_grad():\n",
        "    for inputs, labels in test_loader:\n",
        "        inputs, labels = inputs.to(device), labels.to(device)\n",
        "        outputs = model(inputs)\n",
        "        _, predicted = torch.max(outputs, 1)\n",
        "        all_test_preds.extend(predicted.cpu().numpy())\n",
        "        all_test_labels.extend(labels.cpu().numpy())\n",
        "\n",
        "# overall metrics\n",
        "accuracy = accuracy_score(all_test_labels, all_test_preds)\n",
        "precision = precision_score(all_test_labels, all_test_preds, average='macro', zero_division=0)\n",
        "recall = recall_score(all_test_labels, all_test_preds, average='macro', zero_division=0)\n",
        "\n",
        "print(f\"\\nTest Accuracy: {accuracy*100:.2f}%\")\n",
        "print(f\"Test Macro Precision: {precision:.4f}\")\n",
        "print(f\"Test Macro Recall: {recall:.4f}\")\n",
        "\n",
        "# metrics for each class\n",
        "class_names = list(test_dataset.class_to_idx.keys())\n",
        "report = classification_report(all_test_labels, all_test_preds, target_names=class_names, zero_division=0)\n",
        "print(\"\\nDetailed Test Classification Report:\")\n",
        "print(report)"
      ],
      "metadata": {
        "id": "fC72wdwi_vHa",
        "colab": {
          "base_uri": "https://localhost:8080/"
        },
        "outputId": "f84eef0b-0b9c-447f-b8f8-89608507c928"
      },
      "execution_count": null,
      "outputs": [
        {
          "output_type": "stream",
          "name": "stdout",
          "text": [
            "\n",
            "Test Accuracy: 2.07%\n",
            "Test Macro Precision: 0.0243\n",
            "Test Macro Recall: 0.0202\n",
            "\n",
            "Detailed Test Classification Report:\n",
            "              precision    recall  f1-score   support\n",
            "\n",
            "           0       0.01      0.02      0.01       258\n",
            "           1       0.05      0.00      0.01       234\n",
            "           2       0.00      0.00      0.00       249\n",
            "           3       0.01      0.00      0.01       227\n",
            "           4       0.00      0.00      0.00       235\n",
            "           5       0.00      0.00      0.00       238\n",
            "           6       0.00      0.00      0.00       224\n",
            "           7       0.03      0.00      0.01       233\n",
            "           8       0.01      0.06      0.02       253\n",
            "           9       0.01      0.01      0.01       268\n",
            "           a       0.00      0.00      0.00       268\n",
            "           b       0.00      0.00      0.00       255\n",
            "           c       0.00      0.00      0.00       256\n",
            "           d       0.00      0.00      0.00       270\n",
            "           e       0.00      0.00      0.00       237\n",
            "           f       0.02      0.00      0.01       221\n",
            "           g       0.00      0.00      0.00       243\n",
            "           h       0.00      0.00      0.00       256\n",
            "           i       0.00      0.00      0.00       265\n",
            "           j       0.03      0.01      0.02       247\n",
            "           k       0.02      0.34      0.05       262\n",
            "           l       0.43      0.01      0.02       277\n",
            "           m       0.00      0.00      0.00       234\n",
            "           n       0.02      0.11      0.03       265\n",
            "           o       0.00      0.00      0.00       266\n",
            "           p       0.02      0.10      0.04       243\n",
            "           q       0.00      0.00      0.00       246\n",
            "           r       0.03      0.03      0.03       218\n",
            "           s       0.00      0.00      0.00       261\n",
            "           t       0.00      0.00      0.00       265\n",
            "           u       0.15      0.01      0.02       240\n",
            "           v       0.00      0.00      0.00       275\n",
            "           w       0.02      0.01      0.02       289\n",
            "           x       0.00      0.00      0.00       234\n",
            "           y       0.00      0.00      0.00       262\n",
            "           z       0.00      0.00      0.00       247\n",
            "\n",
            "    accuracy                           0.02      9021\n",
            "   macro avg       0.02      0.02      0.01      9021\n",
            "weighted avg       0.03      0.02      0.01      9021\n",
            "\n"
          ]
        }
      ]
    }
  ]
}