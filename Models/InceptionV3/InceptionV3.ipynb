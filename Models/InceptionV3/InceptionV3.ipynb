{
  "nbformat": 4,
  "nbformat_minor": 0,
  "metadata": {
    "colab": {
      "provenance": [],
      "gpuType": "T4"
    },
    "kernelspec": {
      "name": "python3",
      "display_name": "Python 3"
    },
    "language_info": {
      "name": "python"
    },
    "accelerator": "GPU",
    "widgets": {
      "application/vnd.jupyter.widget-state+json": {
        "e067bcc09ab54f44b45a83d124f2fc0f": {
          "model_module": "@jupyter-widgets/controls",
          "model_name": "HBoxModel",
          "model_module_version": "1.5.0",
          "state": {
            "_dom_classes": [],
            "_model_module": "@jupyter-widgets/controls",
            "_model_module_version": "1.5.0",
            "_model_name": "HBoxModel",
            "_view_count": null,
            "_view_module": "@jupyter-widgets/controls",
            "_view_module_version": "1.5.0",
            "_view_name": "HBoxView",
            "box_style": "",
            "children": [
              "IPY_MODEL_3575f15dfc7e4c22ae083458812b5bbc",
              "IPY_MODEL_77972d7dc97944e999c4ca6cef28300c",
              "IPY_MODEL_85fe143013264a2d95bad14a0863db1e"
            ],
            "layout": "IPY_MODEL_42df534392ae4409915c9a2bccb0245a"
          }
        },
        "3575f15dfc7e4c22ae083458812b5bbc": {
          "model_module": "@jupyter-widgets/controls",
          "model_name": "HTMLModel",
          "model_module_version": "1.5.0",
          "state": {
            "_dom_classes": [],
            "_model_module": "@jupyter-widgets/controls",
            "_model_module_version": "1.5.0",
            "_model_name": "HTMLModel",
            "_view_count": null,
            "_view_module": "@jupyter-widgets/controls",
            "_view_module_version": "1.5.0",
            "_view_name": "HTMLView",
            "description": "",
            "description_tooltip": null,
            "layout": "IPY_MODEL_ade25b1433e14645afb7fc1c13ecfe34",
            "placeholder": "​",
            "style": "IPY_MODEL_7ac071b4abc3492c9e205625b16fba4b",
            "value": "model.safetensors: 100%"
          }
        },
        "77972d7dc97944e999c4ca6cef28300c": {
          "model_module": "@jupyter-widgets/controls",
          "model_name": "FloatProgressModel",
          "model_module_version": "1.5.0",
          "state": {
            "_dom_classes": [],
            "_model_module": "@jupyter-widgets/controls",
            "_model_module_version": "1.5.0",
            "_model_name": "FloatProgressModel",
            "_view_count": null,
            "_view_module": "@jupyter-widgets/controls",
            "_view_module_version": "1.5.0",
            "_view_name": "ProgressView",
            "bar_style": "success",
            "description": "",
            "description_tooltip": null,
            "layout": "IPY_MODEL_3e2edf32cbde43a487e8c571fd0505c4",
            "max": 95533832,
            "min": 0,
            "orientation": "horizontal",
            "style": "IPY_MODEL_1476baf438ab45da89bd4872e319f9bd",
            "value": 95533832
          }
        },
        "85fe143013264a2d95bad14a0863db1e": {
          "model_module": "@jupyter-widgets/controls",
          "model_name": "HTMLModel",
          "model_module_version": "1.5.0",
          "state": {
            "_dom_classes": [],
            "_model_module": "@jupyter-widgets/controls",
            "_model_module_version": "1.5.0",
            "_model_name": "HTMLModel",
            "_view_count": null,
            "_view_module": "@jupyter-widgets/controls",
            "_view_module_version": "1.5.0",
            "_view_name": "HTMLView",
            "description": "",
            "description_tooltip": null,
            "layout": "IPY_MODEL_2623c83a01474c37a24aa898f726926a",
            "placeholder": "​",
            "style": "IPY_MODEL_d1d3ee1856514ab48e386a8642a03895",
            "value": " 95.5M/95.5M [00:00&lt;00:00, 279MB/s]"
          }
        },
        "42df534392ae4409915c9a2bccb0245a": {
          "model_module": "@jupyter-widgets/base",
          "model_name": "LayoutModel",
          "model_module_version": "1.2.0",
          "state": {
            "_model_module": "@jupyter-widgets/base",
            "_model_module_version": "1.2.0",
            "_model_name": "LayoutModel",
            "_view_count": null,
            "_view_module": "@jupyter-widgets/base",
            "_view_module_version": "1.2.0",
            "_view_name": "LayoutView",
            "align_content": null,
            "align_items": null,
            "align_self": null,
            "border": null,
            "bottom": null,
            "display": null,
            "flex": null,
            "flex_flow": null,
            "grid_area": null,
            "grid_auto_columns": null,
            "grid_auto_flow": null,
            "grid_auto_rows": null,
            "grid_column": null,
            "grid_gap": null,
            "grid_row": null,
            "grid_template_areas": null,
            "grid_template_columns": null,
            "grid_template_rows": null,
            "height": null,
            "justify_content": null,
            "justify_items": null,
            "left": null,
            "margin": null,
            "max_height": null,
            "max_width": null,
            "min_height": null,
            "min_width": null,
            "object_fit": null,
            "object_position": null,
            "order": null,
            "overflow": null,
            "overflow_x": null,
            "overflow_y": null,
            "padding": null,
            "right": null,
            "top": null,
            "visibility": null,
            "width": null
          }
        },
        "ade25b1433e14645afb7fc1c13ecfe34": {
          "model_module": "@jupyter-widgets/base",
          "model_name": "LayoutModel",
          "model_module_version": "1.2.0",
          "state": {
            "_model_module": "@jupyter-widgets/base",
            "_model_module_version": "1.2.0",
            "_model_name": "LayoutModel",
            "_view_count": null,
            "_view_module": "@jupyter-widgets/base",
            "_view_module_version": "1.2.0",
            "_view_name": "LayoutView",
            "align_content": null,
            "align_items": null,
            "align_self": null,
            "border": null,
            "bottom": null,
            "display": null,
            "flex": null,
            "flex_flow": null,
            "grid_area": null,
            "grid_auto_columns": null,
            "grid_auto_flow": null,
            "grid_auto_rows": null,
            "grid_column": null,
            "grid_gap": null,
            "grid_row": null,
            "grid_template_areas": null,
            "grid_template_columns": null,
            "grid_template_rows": null,
            "height": null,
            "justify_content": null,
            "justify_items": null,
            "left": null,
            "margin": null,
            "max_height": null,
            "max_width": null,
            "min_height": null,
            "min_width": null,
            "object_fit": null,
            "object_position": null,
            "order": null,
            "overflow": null,
            "overflow_x": null,
            "overflow_y": null,
            "padding": null,
            "right": null,
            "top": null,
            "visibility": null,
            "width": null
          }
        },
        "7ac071b4abc3492c9e205625b16fba4b": {
          "model_module": "@jupyter-widgets/controls",
          "model_name": "DescriptionStyleModel",
          "model_module_version": "1.5.0",
          "state": {
            "_model_module": "@jupyter-widgets/controls",
            "_model_module_version": "1.5.0",
            "_model_name": "DescriptionStyleModel",
            "_view_count": null,
            "_view_module": "@jupyter-widgets/base",
            "_view_module_version": "1.2.0",
            "_view_name": "StyleView",
            "description_width": ""
          }
        },
        "3e2edf32cbde43a487e8c571fd0505c4": {
          "model_module": "@jupyter-widgets/base",
          "model_name": "LayoutModel",
          "model_module_version": "1.2.0",
          "state": {
            "_model_module": "@jupyter-widgets/base",
            "_model_module_version": "1.2.0",
            "_model_name": "LayoutModel",
            "_view_count": null,
            "_view_module": "@jupyter-widgets/base",
            "_view_module_version": "1.2.0",
            "_view_name": "LayoutView",
            "align_content": null,
            "align_items": null,
            "align_self": null,
            "border": null,
            "bottom": null,
            "display": null,
            "flex": null,
            "flex_flow": null,
            "grid_area": null,
            "grid_auto_columns": null,
            "grid_auto_flow": null,
            "grid_auto_rows": null,
            "grid_column": null,
            "grid_gap": null,
            "grid_row": null,
            "grid_template_areas": null,
            "grid_template_columns": null,
            "grid_template_rows": null,
            "height": null,
            "justify_content": null,
            "justify_items": null,
            "left": null,
            "margin": null,
            "max_height": null,
            "max_width": null,
            "min_height": null,
            "min_width": null,
            "object_fit": null,
            "object_position": null,
            "order": null,
            "overflow": null,
            "overflow_x": null,
            "overflow_y": null,
            "padding": null,
            "right": null,
            "top": null,
            "visibility": null,
            "width": null
          }
        },
        "1476baf438ab45da89bd4872e319f9bd": {
          "model_module": "@jupyter-widgets/controls",
          "model_name": "ProgressStyleModel",
          "model_module_version": "1.5.0",
          "state": {
            "_model_module": "@jupyter-widgets/controls",
            "_model_module_version": "1.5.0",
            "_model_name": "ProgressStyleModel",
            "_view_count": null,
            "_view_module": "@jupyter-widgets/base",
            "_view_module_version": "1.2.0",
            "_view_name": "StyleView",
            "bar_color": null,
            "description_width": ""
          }
        },
        "2623c83a01474c37a24aa898f726926a": {
          "model_module": "@jupyter-widgets/base",
          "model_name": "LayoutModel",
          "model_module_version": "1.2.0",
          "state": {
            "_model_module": "@jupyter-widgets/base",
            "_model_module_version": "1.2.0",
            "_model_name": "LayoutModel",
            "_view_count": null,
            "_view_module": "@jupyter-widgets/base",
            "_view_module_version": "1.2.0",
            "_view_name": "LayoutView",
            "align_content": null,
            "align_items": null,
            "align_self": null,
            "border": null,
            "bottom": null,
            "display": null,
            "flex": null,
            "flex_flow": null,
            "grid_area": null,
            "grid_auto_columns": null,
            "grid_auto_flow": null,
            "grid_auto_rows": null,
            "grid_column": null,
            "grid_gap": null,
            "grid_row": null,
            "grid_template_areas": null,
            "grid_template_columns": null,
            "grid_template_rows": null,
            "height": null,
            "justify_content": null,
            "justify_items": null,
            "left": null,
            "margin": null,
            "max_height": null,
            "max_width": null,
            "min_height": null,
            "min_width": null,
            "object_fit": null,
            "object_position": null,
            "order": null,
            "overflow": null,
            "overflow_x": null,
            "overflow_y": null,
            "padding": null,
            "right": null,
            "top": null,
            "visibility": null,
            "width": null
          }
        },
        "d1d3ee1856514ab48e386a8642a03895": {
          "model_module": "@jupyter-widgets/controls",
          "model_name": "DescriptionStyleModel",
          "model_module_version": "1.5.0",
          "state": {
            "_model_module": "@jupyter-widgets/controls",
            "_model_module_version": "1.5.0",
            "_model_name": "DescriptionStyleModel",
            "_view_count": null,
            "_view_module": "@jupyter-widgets/base",
            "_view_module_version": "1.2.0",
            "_view_name": "StyleView",
            "description_width": ""
          }
        }
      }
    }
  },
  "cells": [
    {
      "cell_type": "code",
      "source": [
        "from google.colab import drive\n",
        "drive.mount('/content/drive')\n",
        "#!find /content/drive/MyDrive -name 'CS4243'\n",
        "#!find /content/drive/MyDrive -name 'output-train-by-char.zip'\n",
        "#!find /content/drive/MyDrive -name 'output-test.zip'"
      ],
      "metadata": {
        "colab": {
          "base_uri": "https://localhost:8080/"
        },
        "id": "uh9cRj5qGgEt",
        "outputId": "43cec744-9131-4d9f-90b9-dcc81355735f"
      },
      "execution_count": null,
      "outputs": [
        {
          "output_type": "stream",
          "name": "stdout",
          "text": [
            "Drive already mounted at /content/drive; to attempt to forcibly remount, call drive.mount(\"/content/drive\", force_remount=True).\n"
          ]
        }
      ]
    },
    {
      "cell_type": "code",
      "source": [
        "import zipfile\n",
        "import os\n",
        "\n",
        "zip_path = '/content/drive/MyDrive/HL/output-train-by-char.zip'\n",
        "extract_path = './dataset'\n",
        "\n",
        "with zipfile.ZipFile(zip_path, 'r') as zip_ref:\n",
        "    #print(zip_ref.namelist())\n",
        "    zip_ref.extractall(extract_path)\n"
      ],
      "metadata": {
        "id": "bPrTso-D-mD4"
      },
      "execution_count": null,
      "outputs": []
    },
    {
      "cell_type": "code",
      "source": [
        "from torchvision import datasets, transforms\n",
        "from torch.utils.data import DataLoader, random_split\n",
        "\n",
        "transform = transforms.Compose([\n",
        "    transforms.Resize((299, 299)),  # Inception v3 default input size\n",
        "    transforms.ToTensor(),\n",
        "    transforms.Normalize(mean=[0.5]*3, std=[0.5]*3)\n",
        "])\n",
        "\n",
        "dataset = datasets.ImageFolder(root='./dataset/output-train-by-char', transform=transform)\n",
        "\n",
        "train_size = int(0.8 * len(dataset))\n",
        "val_size = len(dataset) - train_size\n",
        "train_dataset, val_dataset = random_split(dataset, [train_size, val_size])\n",
        "\n",
        "train_loader = DataLoader(train_dataset, batch_size=32, shuffle=True)\n",
        "val_loader = DataLoader(val_dataset, batch_size=32)"
      ],
      "metadata": {
        "id": "1OGB-tZrEXwp",
        "colab": {
          "base_uri": "https://localhost:8080/"
        },
        "outputId": "ec6e290b-1347-4762-c122-b94bf90e65c3"
      },
      "execution_count": null,
      "outputs": [
        {
          "output_type": "stream",
          "name": "stdout",
          "text": [
            "{'0': 0, '1': 1, '2': 2, '3': 3, '4': 4, '5': 5, '6': 6, '7': 7, '8': 8, '9': 9, 'a': 10, 'b': 11, 'c': 12, 'd': 13, 'e': 14, 'f': 15, 'g': 16, 'h': 17, 'i': 18, 'j': 19, 'k': 20, 'l': 21, 'm': 22, 'n': 23, 'o': 24, 'p': 25, 'q': 26, 'r': 27, 's': 28, 't': 29, 'u': 30, 'v': 31, 'w': 32, 'x': 33, 'y': 34, 'z': 35}\n"
          ]
        }
      ]
    },
    {
      "cell_type": "code",
      "source": [
        "# --- Model setup ---\n",
        "import timm\n",
        "import torch\n",
        "import torch.nn as nn\n",
        "import torch.nn.functional as F\n",
        "import torch.optim as optim\n",
        "\n",
        "device = torch.device('cuda' if torch.cuda.is_available() else 'cpu')\n",
        "print(\"CUDA Avail:\", torch.cuda.is_available())\n",
        "\n",
        "NUM_FINETUNE_CLASSES = 36 #a-z,0-9\n",
        "model = timm.create_model('inception_v3', pretrained=True, num_classes=NUM_FINETUNE_CLASSES)\n",
        "model = model.to(device)\n",
        "\n",
        "criterion = nn.CrossEntropyLoss()\n",
        "optimizer = optim.Adam(model.parameters(), lr=1e-4)\n"
      ],
      "metadata": {
        "id": "Je6lfvwq-l9l",
        "colab": {
          "base_uri": "https://localhost:8080/",
          "height": 191,
          "referenced_widgets": [
            "e067bcc09ab54f44b45a83d124f2fc0f",
            "3575f15dfc7e4c22ae083458812b5bbc",
            "77972d7dc97944e999c4ca6cef28300c",
            "85fe143013264a2d95bad14a0863db1e",
            "42df534392ae4409915c9a2bccb0245a",
            "ade25b1433e14645afb7fc1c13ecfe34",
            "7ac071b4abc3492c9e205625b16fba4b",
            "3e2edf32cbde43a487e8c571fd0505c4",
            "1476baf438ab45da89bd4872e319f9bd",
            "2623c83a01474c37a24aa898f726926a",
            "d1d3ee1856514ab48e386a8642a03895"
          ]
        },
        "outputId": "69c27732-8f94-462b-c1e7-43f5957b4eef"
      },
      "execution_count": null,
      "outputs": [
        {
          "output_type": "stream",
          "name": "stdout",
          "text": [
            "CUDA Avail: True\n"
          ]
        },
        {
          "output_type": "stream",
          "name": "stderr",
          "text": [
            "/usr/local/lib/python3.11/dist-packages/huggingface_hub/utils/_auth.py:94: UserWarning: \n",
            "The secret `HF_TOKEN` does not exist in your Colab secrets.\n",
            "To authenticate with the Hugging Face Hub, create a token in your settings tab (https://huggingface.co/settings/tokens), set it as secret in your Google Colab and restart your session.\n",
            "You will be able to reuse this secret in all of your notebooks.\n",
            "Please note that authentication is recommended but still optional to access public models or datasets.\n",
            "  warnings.warn(\n"
          ]
        },
        {
          "output_type": "display_data",
          "data": {
            "text/plain": [
              "model.safetensors:   0%|          | 0.00/95.5M [00:00<?, ?B/s]"
            ],
            "application/vnd.jupyter.widget-view+json": {
              "version_major": 2,
              "version_minor": 0,
              "model_id": "e067bcc09ab54f44b45a83d124f2fc0f"
            }
          },
          "metadata": {}
        }
      ]
    },
    {
      "cell_type": "code",
      "source": [
        "# --- Training ---\n",
        "train_loss_list = []\n",
        "val_loss_list = []\n",
        "train_acc_list = []\n",
        "val_acc_list = []\n",
        "\n",
        "num_epochs = 10\n",
        "\n",
        "for epoch in range(num_epochs):\n",
        "    model.train()\n",
        "    total_loss = 0\n",
        "    correct_train = 0\n",
        "    total_train = 0\n",
        "\n",
        "    for inputs, labels in train_loader:\n",
        "        inputs, labels = inputs.to(device), labels.to(device)\n",
        "\n",
        "        optimizer.zero_grad()\n",
        "        outputs = model(inputs)\n",
        "        loss = criterion(outputs, labels)\n",
        "        loss.backward()\n",
        "        optimizer.step()\n",
        "\n",
        "        total_loss += loss.item()\n",
        "        _, predicted = torch.max(outputs, 1)\n",
        "        correct_train += (predicted == labels).sum().item()\n",
        "        total_train += labels.size(0)\n",
        "\n",
        "    avg_train_loss = total_loss / len(train_loader)\n",
        "    train_accuracy = correct_train / total_train\n",
        "    train_loss_list.append(avg_train_loss)\n",
        "    train_acc_list.append(train_accuracy)\n",
        "\n",
        "    # Validation phase\n",
        "    model.eval()\n",
        "    val_loss = 0\n",
        "    correct_val = 0\n",
        "    total_val = 0\n",
        "\n",
        "    with torch.no_grad():\n",
        "        for inputs, labels in val_loader:\n",
        "            inputs, labels = inputs.to(device), labels.to(device)\n",
        "            outputs = model(inputs)\n",
        "            loss = criterion(outputs, labels)\n",
        "            val_loss += loss.item()\n",
        "            _, predicted = torch.max(outputs, 1)\n",
        "            correct_val += (predicted == labels).sum().item()\n",
        "            total_val += labels.size(0)\n",
        "\n",
        "    avg_val_loss = val_loss / len(val_loader)\n",
        "    val_accuracy = correct_val / total_val\n",
        "    val_loss_list.append(avg_val_loss)\n",
        "    val_acc_list.append(val_accuracy)\n",
        "\n",
        "    print(f\"Epoch {epoch+1}/{num_epochs}, \"\n",
        "          f\"Train Loss: {avg_train_loss:.4f}, Train Acc: {train_accuracy*100:.2f}%, \"\n",
        "          f\"Val Loss: {avg_val_loss:.4f}, Val Acc: {val_accuracy*100:.2f}%\")\n",
        "\n"
      ],
      "metadata": {
        "id": "Hc6Dtf3A-lxO",
        "colab": {
          "base_uri": "https://localhost:8080/"
        },
        "outputId": "500b8bb5-03fd-427c-e8de-7e73f72b275b"
      },
      "execution_count": null,
      "outputs": [
        {
          "output_type": "stream",
          "name": "stdout",
          "text": [
            "Epoch 1/10, Train Loss: 0.8464, Train Acc: 75.47%, Val Loss: 0.4321, Val Acc: 86.44%\n",
            "Epoch 2/10, Train Loss: 0.3360, Train Acc: 89.00%, Val Loss: 0.3678, Val Acc: 88.28%\n",
            "Epoch 3/10, Train Loss: 0.2458, Train Acc: 91.51%, Val Loss: 0.3529, Val Acc: 89.23%\n",
            "Epoch 4/10, Train Loss: 0.1972, Train Acc: 92.89%, Val Loss: 0.3259, Val Acc: 89.59%\n",
            "Epoch 5/10, Train Loss: 0.1687, Train Acc: 93.80%, Val Loss: 0.3843, Val Acc: 88.81%\n",
            "Epoch 6/10, Train Loss: 0.1469, Train Acc: 94.56%, Val Loss: 0.3436, Val Acc: 90.46%\n",
            "Epoch 7/10, Train Loss: 0.1235, Train Acc: 95.35%, Val Loss: 0.3454, Val Acc: 89.99%\n",
            "Epoch 8/10, Train Loss: 0.1242, Train Acc: 95.52%, Val Loss: 0.3165, Val Acc: 90.73%\n",
            "Epoch 9/10, Train Loss: 0.0996, Train Acc: 96.40%, Val Loss: 0.3437, Val Acc: 90.70%\n",
            "Epoch 10/10, Train Loss: 0.0964, Train Acc: 96.53%, Val Loss: 0.3225, Val Acc: 90.99%\n"
          ]
        }
      ]
    },
    {
      "cell_type": "code",
      "source": [
        "torch.save(model.state_dict(), 'model2.pth')\n",
        "from google.colab import files\n",
        "files.download('model2.pth')\n"
      ],
      "metadata": {
        "colab": {
          "base_uri": "https://localhost:8080/",
          "height": 211
        },
        "id": "DPjGiRVgnnyO",
        "outputId": "6db46c30-0c37-4c77-a021-4dfad82ab7db"
      },
      "execution_count": null,
      "outputs": [
        {
          "output_type": "display_data",
          "data": {
            "text/plain": [
              "<IPython.core.display.Javascript object>"
            ],
            "application/javascript": [
              "\n",
              "    async function download(id, filename, size) {\n",
              "      if (!google.colab.kernel.accessAllowed) {\n",
              "        return;\n",
              "      }\n",
              "      const div = document.createElement('div');\n",
              "      const label = document.createElement('label');\n",
              "      label.textContent = `Downloading \"${filename}\": `;\n",
              "      div.appendChild(label);\n",
              "      const progress = document.createElement('progress');\n",
              "      progress.max = size;\n",
              "      div.appendChild(progress);\n",
              "      document.body.appendChild(div);\n",
              "\n",
              "      const buffers = [];\n",
              "      let downloaded = 0;\n",
              "\n",
              "      const channel = await google.colab.kernel.comms.open(id);\n",
              "      // Send a message to notify the kernel that we're ready.\n",
              "      channel.send({})\n",
              "\n",
              "      for await (const message of channel.messages) {\n",
              "        // Send a message to notify the kernel that we're ready.\n",
              "        channel.send({})\n",
              "        if (message.buffers) {\n",
              "          for (const buffer of message.buffers) {\n",
              "            buffers.push(buffer);\n",
              "            downloaded += buffer.byteLength;\n",
              "            progress.value = downloaded;\n",
              "          }\n",
              "        }\n",
              "      }\n",
              "      const blob = new Blob(buffers, {type: 'application/binary'});\n",
              "      const a = document.createElement('a');\n",
              "      a.href = window.URL.createObjectURL(blob);\n",
              "      a.download = filename;\n",
              "      div.appendChild(a);\n",
              "      a.click();\n",
              "      div.remove();\n",
              "    }\n",
              "  "
            ]
          },
          "metadata": {}
        },
        {
          "output_type": "display_data",
          "data": {
            "text/plain": [
              "<IPython.core.display.Javascript object>"
            ],
            "application/javascript": [
              "download(\"download_85fa9571-c2a4-4635-bd01-36c4dcb32781\", \"model2.pth\", 87775628)"
            ]
          },
          "metadata": {}
        },
        {
          "output_type": "error",
          "ename": "NameError",
          "evalue": "name 'json' is not defined",
          "traceback": [
            "\u001b[0;31m---------------------------------------------------------------------------\u001b[0m",
            "\u001b[0;31mNameError\u001b[0m                                 Traceback (most recent call last)",
            "\u001b[0;32m<ipython-input-15-dba437e678e4>\u001b[0m in \u001b[0;36m<cell line: 0>\u001b[0;34m()\u001b[0m\n\u001b[1;32m      4\u001b[0m \u001b[0;34m\u001b[0m\u001b[0m\n\u001b[1;32m      5\u001b[0m \u001b[0;32mwith\u001b[0m \u001b[0mopen\u001b[0m\u001b[0;34m(\u001b[0m\u001b[0;34m\"metrics.json\"\u001b[0m\u001b[0;34m,\u001b[0m \u001b[0;34m\"w\"\u001b[0m\u001b[0;34m)\u001b[0m \u001b[0;32mas\u001b[0m \u001b[0mf\u001b[0m\u001b[0;34m:\u001b[0m\u001b[0;34m\u001b[0m\u001b[0;34m\u001b[0m\u001b[0m\n\u001b[0;32m----> 6\u001b[0;31m     json.dump({\n\u001b[0m\u001b[1;32m      7\u001b[0m         \u001b[0;34m\"train_acc_list\"\u001b[0m\u001b[0;34m:\u001b[0m \u001b[0mtrain_acc_list\u001b[0m\u001b[0;34m,\u001b[0m\u001b[0;34m\u001b[0m\u001b[0;34m\u001b[0m\u001b[0m\n\u001b[1;32m      8\u001b[0m         \u001b[0;34m\"val_acc_list\"\u001b[0m\u001b[0;34m:\u001b[0m \u001b[0mval_acc_list\u001b[0m\u001b[0;34m,\u001b[0m\u001b[0;34m\u001b[0m\u001b[0;34m\u001b[0m\u001b[0m\n",
            "\u001b[0;31mNameError\u001b[0m: name 'json' is not defined"
          ]
        }
      ]
    },
    {
      "cell_type": "code",
      "source": [
        "# --- Plot learning curves ---\n",
        "import matplotlib.pyplot as plt\n",
        "\n",
        "plt.plot(train_acc_list, label='Train Accuracy')\n",
        "plt.plot(val_acc_list, label='Validation Accuracy')\n",
        "plt.xlabel(\"Epoch\")\n",
        "plt.ylabel(\"Accuracy\")\n",
        "plt.title(\"Accuracy over Epochs\")\n",
        "plt.legend()\n",
        "plt.show()\n",
        "plt.savefig(\"I3_accuracy_curve.png\")\n",
        "\n",
        "\n",
        "plt.plot(train_loss_list, label='Train Loss')\n",
        "plt.plot(val_loss_list, label='Validation Loss')\n",
        "plt.xlabel(\"Epoch\")\n",
        "plt.ylabel(\"Loss\")\n",
        "plt.title(\"Loss over Epochs\")\n",
        "plt.legend()\n",
        "plt.show()\n",
        "plt.savefig(\"I3_loss_curve.png\")"
      ],
      "metadata": {
        "id": "M6QPHp8cWOZT",
        "colab": {
          "base_uri": "https://localhost:8080/",
          "height": 944
        },
        "outputId": "bf305321-1545-413a-ef7d-c7ad10335e81"
      },
      "execution_count": null,
      "outputs": [
        {
          "output_type": "display_data",
          "data": {
            "text/plain": [
              "<Figure size 640x480 with 1 Axes>"
            ],
            "image/png": "[encoded data removed]"
          },
          "metadata": {}
        },
        {
          "output_type": "display_data",
          "data": {
            "text/plain": [
              "<Figure size 640x480 with 1 Axes>"
            ],
            "image/png": "[encoded data removed]"
          },
          "metadata": {}
        },
        {
          "output_type": "display_data",
          "data": {
            "text/plain": [
              "<Figure size 640x480 with 0 Axes>"
            ]
          },
          "metadata": {}
        }
      ]
    },
    {
      "cell_type": "markdown",
      "source": [
        "TEST"
      ],
      "metadata": {
        "id": "tQvVPqreYXph"
      }
    },
    {
      "cell_type": "code",
      "source": [
        "zip_path = '/content/drive/MyDrive/HL/output-test.zip'\n",
        "extract_path = './dataset'\n",
        "\n",
        "with zipfile.ZipFile(zip_path, 'r') as zip_ref:\n",
        "    zip_ref.extractall(extract_path)\n",
        "\n",
        "transform = transforms.Compose([\n",
        "    transforms.Resize((299, 299)),\n",
        "    transforms.ToTensor(),\n",
        "    transforms.Normalize(mean=[0.5]*3, std=[0.5]*3)\n",
        "])\n",
        "\n",
        "test_dataset = datasets.ImageFolder(root='./dataset/output-test', transform=transform)\n",
        "test_loader = DataLoader(test_dataset, batch_size=32)\n"
      ],
      "metadata": {
        "id": "FZs0_30htMVF"
      },
      "execution_count": null,
      "outputs": []
    },
    {
      "cell_type": "code",
      "source": [
        "from sklearn.metrics import classification_report, accuracy_score, precision_score, recall_score\n",
        "\n",
        "model.eval()\n",
        "all_test_preds = []\n",
        "all_test_labels = []\n",
        "\n",
        "with torch.no_grad():\n",
        "    for inputs, labels in test_loader:\n",
        "        inputs, labels = inputs.to(device), labels.to(device)\n",
        "        outputs = model(inputs)\n",
        "        _, predicted = torch.max(outputs, 1)\n",
        "        all_test_preds.extend(predicted.cpu().numpy())\n",
        "        all_test_labels.extend(labels.cpu().numpy())\n",
        "\n",
        "# Overall metrics\n",
        "accuracy = accuracy_score(all_test_labels, all_test_preds)\n",
        "precision = precision_score(all_test_labels, all_test_preds, average='macro', zero_division=0)\n",
        "recall = recall_score(all_test_labels, all_test_preds, average='macro', zero_division=0)\n",
        "\n",
        "print(f\"\\nTest Accuracy: {accuracy*100:.2f}%\")\n",
        "print(f\"Test Macro Precision: {precision:.4f}\")\n",
        "print(f\"Test Macro Recall: {recall:.4f}\")\n",
        "\n",
        "# Per-class metrics\n",
        "class_names = list(test_dataset.class_to_idx.keys())\n",
        "report = classification_report(all_test_labels, all_test_preds, target_names=class_names, zero_division=0)\n",
        "print(\"\\nDetailed Test Classification Report:\")\n",
        "print(report)\n",
        "\n",
        "# Save report\n",
        "with open(\"test_classification_report.txt\", \"w\") as f:\n",
        "    f.write(report)\n",
        "\n",
        "files.download('test_classification_report.txt')\n"
      ],
      "metadata": {
        "colab": {
          "base_uri": "https://localhost:8080/",
          "height": 868
        },
        "id": "tQNhG1OhqQru",
        "outputId": "ba002e0b-cc18-4e7a-f7d5-521f5cc5d160"
      },
      "execution_count": null,
      "outputs": [
        {
          "output_type": "stream",
          "name": "stdout",
          "text": [
            "\n",
            "Test Accuracy: 88.74%\n",
            "Test Macro Precision: 0.8953\n",
            "Test Macro Recall: 0.8896\n",
            "\n",
            "Detailed Test Classification Report:\n",
            "              precision    recall  f1-score   support\n",
            "\n",
            "           0       0.51      0.81      0.63       258\n",
            "           1       0.72      0.75      0.74       234\n",
            "           2       0.89      0.92      0.90       249\n",
            "           3       0.96      0.96      0.96       227\n",
            "           4       0.97      0.89      0.93       235\n",
            "           5       0.92      0.87      0.89       238\n",
            "           6       0.92      0.96      0.94       224\n",
            "           7       0.97      0.92      0.94       233\n",
            "           8       0.93      0.95      0.94       253\n",
            "           9       0.94      0.82      0.87       268\n",
            "           a       0.98      0.88      0.93       268\n",
            "           b       0.92      0.95      0.94       255\n",
            "           c       0.93      0.91      0.92       256\n",
            "           d       0.96      0.90      0.93       270\n",
            "           e       0.93      0.95      0.94       237\n",
            "           f       0.97      0.92      0.94       221\n",
            "           g       0.85      0.93      0.89       243\n",
            "           h       0.97      0.90      0.94       256\n",
            "           i       0.70      0.71      0.70       265\n",
            "           j       0.95      0.89      0.92       247\n",
            "           k       0.98      0.94      0.96       262\n",
            "           l       0.71      0.73      0.72       277\n",
            "           m       0.94      0.94      0.94       234\n",
            "           n       0.92      0.92      0.92       265\n",
            "           o       0.65      0.48      0.55       266\n",
            "           p       0.98      0.93      0.95       243\n",
            "           q       0.92      0.95      0.94       246\n",
            "           r       0.89      0.95      0.92       218\n",
            "           s       0.90      0.89      0.90       261\n",
            "           t       0.89      0.93      0.91       265\n",
            "           u       0.87      0.94      0.90       240\n",
            "           v       0.90      0.92      0.91       275\n",
            "           w       0.99      0.88      0.93       289\n",
            "           x       0.93      0.97      0.95       234\n",
            "           y       0.92      0.94      0.93       262\n",
            "           z       0.95      0.93      0.94       247\n",
            "\n",
            "    accuracy                           0.89      9021\n",
            "   macro avg       0.90      0.89      0.89      9021\n",
            "weighted avg       0.89      0.89      0.89      9021\n",
            "\n"
          ]
        },
        {
          "output_type": "display_data",
          "data": {
            "text/plain": [
              "<IPython.core.display.Javascript object>"
            ],
            "application/javascript": [
              "\n",
              "    async function download(id, filename, size) {\n",
              "      if (!google.colab.kernel.accessAllowed) {\n",
              "        return;\n",
              "      }\n",
              "      const div = document.createElement('div');\n",
              "      const label = document.createElement('label');\n",
              "      label.textContent = `Downloading \"${filename}\": `;\n",
              "      div.appendChild(label);\n",
              "      const progress = document.createElement('progress');\n",
              "      progress.max = size;\n",
              "      div.appendChild(progress);\n",
              "      document.body.appendChild(div);\n",
              "\n",
              "      const buffers = [];\n",
              "      let downloaded = 0;\n",
              "\n",
              "      const channel = await google.colab.kernel.comms.open(id);\n",
              "      // Send a message to notify the kernel that we're ready.\n",
              "      channel.send({})\n",
              "\n",
              "      for await (const message of channel.messages) {\n",
              "        // Send a message to notify the kernel that we're ready.\n",
              "        channel.send({})\n",
              "        if (message.buffers) {\n",
              "          for (const buffer of message.buffers) {\n",
              "            buffers.push(buffer);\n",
              "            downloaded += buffer.byteLength;\n",
              "            progress.value = downloaded;\n",
              "          }\n",
              "        }\n",
              "      }\n",
              "      const blob = new Blob(buffers, {type: 'application/binary'});\n",
              "      const a = document.createElement('a');\n",
              "      a.href = window.URL.createObjectURL(blob);\n",
              "      a.download = filename;\n",
              "      div.appendChild(a);\n",
              "      a.click();\n",
              "      div.remove();\n",
              "    }\n",
              "  "
            ]
          },
          "metadata": {}
        },
        {
          "output_type": "display_data",
          "data": {
            "text/plain": [
              "<IPython.core.display.Javascript object>"
            ],
            "application/javascript": [
              "download(\"download_fb423de6-6ff1-4994-8ec1-f6a1a371c4a7\", \"test_classification_report.txt\", 2162)"
            ]
          },
          "metadata": {}
        }
      ]
    },
    {
      "cell_type": "markdown",
      "source": [
        "CITATION:\n",
        "\n",
        "@article{DBLP:journals/corr/SzegedyVISW15,\n",
        "  author    = {Christian Szegedy and\n",
        "               Vincent Vanhoucke and\n",
        "               Sergey Ioffe and\n",
        "               Jonathon Shlens and\n",
        "               Zbigniew Wojna},\n",
        "  title     = {Rethinking the Inception Architecture for Computer Vision},\n",
        "  journal   = {CoRR},\n",
        "  volume    = {abs/1512.00567},\n",
        "  year      = {2015},\n",
        "  url       = {http://arxiv.org/abs/1512.00567},\n",
        "  archivePrefix = {arXiv},\n",
        "  eprint    = {1512.00567},\n",
        "  timestamp = {Mon, 13 Aug 2018 16:49:07 +0200},\n",
        "  biburl    = {https://dblp.org/rec/journals/corr/SzegedyVISW15.bib},\n",
        "  bibsource = {dblp computer science bibliography, https://dblp.org}\n",
        "}\n",
        "\n",
        "LINK: https://huggingface.co/docs/timm/en/models/inception-v3"
      ],
      "metadata": {
        "id": "8FjyI9bqKgcE"
      }
    },
    {
      "cell_type": "markdown",
      "source": [
        "EMNIST (Extended MNIST) — for handwritten letters (balanced or letters split)\n",
        "https://www.nist.gov/itl/products-and-services/emnist-dataset\n",
        "\n",
        "https://github.com/ruchitapaithankar15/Optical-character-recognition-using-Inception-V3-and-VGG16\n"
      ],
      "metadata": {
        "id": "XYbwmA3GMibJ"
      }
    },
    {
      "cell_type": "code",
      "source": [
        "\n",
        "model = timm.create_model('inception_v3', pretrained=True)\n",
        "\n",
        "# Freeze all layers\n",
        "for param in model.parameters():\n",
        "    param.requires_grad = False\n",
        "\n",
        "# Unfreeze last two inception blocks\n",
        "for name, child in model.named_children():\n",
        "    if name in ['Mixed_7b', 'Mixed_7c']:\n",
        "        for param in child.parameters():\n",
        "            param.requires_grad = True\n",
        "\n",
        "# Add classification head\n",
        "model.fc = nn.Sequential(\n",
        "    nn.Linear(model.fc.in_features, 512),\n",
        "    nn.ReLU(),\n",
        "    nn.Dropout(0.5),\n",
        "    nn.Linear(512, 36)\n",
        ")\n",
        "\n",
        "device = torch.device(\"cuda\" if torch.cuda.is_available() else \"cpu\")\n",
        "model = model.to(device)\n"
      ],
      "metadata": {
        "id": "a056QgnPagGD"
      },
      "execution_count": null,
      "outputs": []
    },
    {
      "cell_type": "code",
      "source": [
        "criterion = nn.CrossEntropyLoss()\n",
        "optimizer = optim.Adam(model.parameters(), lr=1e-4)\n",
        "\n",
        "train_loss_list = []\n",
        "val_loss_list = []\n",
        "train_acc_list = []\n",
        "val_acc_list = []\n",
        "\n",
        "num_epochs = 10\n",
        "\n",
        "for epoch in range(num_epochs):\n",
        "    model.train()\n",
        "    total_loss = 0\n",
        "    correct_train = 0\n",
        "    total_train = 0\n",
        "\n",
        "    for inputs, labels in train_loader:\n",
        "        inputs, labels = inputs.to(device), labels.to(device)\n",
        "\n",
        "        optimizer.zero_grad()\n",
        "        outputs = model(inputs)\n",
        "        loss = criterion(outputs, labels)\n",
        "        loss.backward()\n",
        "        optimizer.step()\n",
        "\n",
        "        total_loss += loss.item()\n",
        "        _, predicted = torch.max(outputs, 1)\n",
        "        correct_train += (predicted == labels).sum().item()\n",
        "        total_train += labels.size(0)\n",
        "\n",
        "    avg_train_loss = total_loss / len(train_loader)\n",
        "    train_accuracy = correct_train / total_train\n",
        "    train_loss_list.append(avg_train_loss)\n",
        "    train_acc_list.append(train_accuracy)\n",
        "\n",
        "    # Validation phase\n",
        "    model.eval()\n",
        "    val_loss = 0\n",
        "    correct_val = 0\n",
        "    total_val = 0\n",
        "\n",
        "    with torch.no_grad():\n",
        "        for inputs, labels in val_loader:\n",
        "            inputs, labels = inputs.to(device), labels.to(device)\n",
        "            outputs = model(inputs)\n",
        "            loss = criterion(outputs, labels)\n",
        "            val_loss += loss.item()\n",
        "            _, predicted = torch.max(outputs, 1)\n",
        "            correct_val += (predicted == labels).sum().item()\n",
        "            total_val += labels.size(0)\n",
        "\n",
        "    avg_val_loss = val_loss / len(val_loader)\n",
        "    val_accuracy = correct_val / total_val\n",
        "    val_loss_list.append(avg_val_loss)\n",
        "    val_acc_list.append(val_accuracy)\n",
        "\n",
        "    print(f\"Epoch {epoch+1}/{num_epochs}, \"\n",
        "          f\"Train Loss: {avg_train_loss:.4f}, Train Acc: {train_accuracy*100:.2f}%, \"\n",
        "          f\"Val Loss: {avg_val_loss:.4f}, Val Acc: {val_accuracy*100:.2f}%\")"
      ],
      "metadata": {
        "colab": {
          "base_uri": "https://localhost:8080/"
        },
        "id": "H1_h7OffTFK3",
        "outputId": "7cd8b757-0ee6-4e6f-addb-ccb245f7f97b"
      },
      "execution_count": null,
      "outputs": [
        {
          "output_type": "stream",
          "name": "stdout",
          "text": [
            "Epoch 1/10, Train Loss: 1.6476, Train Acc: 52.87%, Val Loss: 0.7809, Val Acc: 76.08%\n",
            "Epoch 2/10, Train Loss: 0.6804, Train Acc: 79.03%, Val Loss: 0.6054, Val Acc: 81.23%\n",
            "Epoch 3/10, Train Loss: 0.4555, Train Acc: 85.49%, Val Loss: 0.5391, Val Acc: 82.74%\n",
            "Epoch 4/10, Train Loss: 0.3233, Train Acc: 89.44%, Val Loss: 0.5426, Val Acc: 83.48%\n",
            "Epoch 5/10, Train Loss: 0.2330, Train Acc: 92.19%, Val Loss: 0.5706, Val Acc: 83.14%\n",
            "Epoch 6/10, Train Loss: 0.1845, Train Acc: 93.82%, Val Loss: 0.5775, Val Acc: 83.72%\n",
            "Epoch 7/10, Train Loss: 0.1474, Train Acc: 94.87%, Val Loss: 0.5996, Val Acc: 83.91%\n",
            "Epoch 8/10, Train Loss: 0.1233, Train Acc: 95.84%, Val Loss: 0.6515, Val Acc: 83.91%\n",
            "Epoch 9/10, Train Loss: 0.1090, Train Acc: 96.30%, Val Loss: 0.6593, Val Acc: 83.53%\n",
            "Epoch 10/10, Train Loss: 0.0940, Train Acc: 96.95%, Val Loss: 0.6704, Val Acc: 84.16%\n"
          ]
        }
      ]
    },
    {
      "cell_type": "code",
      "source": [
        "torch.save(model.state_dict(), 'model3.pth')\n",
        "from google.colab import files\n",
        "files.download('model3.pth')\n",
        "\n",
        "# --- Plot learning curves ---\n",
        "import matplotlib.pyplot as plt\n",
        "\n",
        "plt.plot(train_acc_list, label='Train Accuracy')\n",
        "plt.plot(val_acc_list, label='Validation Accuracy')\n",
        "plt.xlabel(\"Epoch\")\n",
        "plt.ylabel(\"Accuracy\")\n",
        "plt.title(\"Accuracy over Epochs\")\n",
        "plt.legend()\n",
        "plt.show()\n",
        "plt.savefig(\"I3_accuracy_curve.png\")\n",
        "\n",
        "\n",
        "plt.plot(train_loss_list, label='Train Loss')\n",
        "plt.plot(val_loss_list, label='Validation Loss')\n",
        "plt.xlabel(\"Epoch\")\n",
        "plt.ylabel(\"Loss\")\n",
        "plt.title(\"Loss over Epochs\")\n",
        "plt.legend()\n",
        "plt.show()\n",
        "plt.savefig(\"I3_loss_curve.png\")"
      ],
      "metadata": {
        "colab": {
          "base_uri": "https://localhost:8080/",
          "height": 944
        },
        "id": "0SPoDYFaTP6q",
        "outputId": "b9f05e38-8d4c-48ce-a519-3f1d5ad18808"
      },
      "execution_count": null,
      "outputs": [
        {
          "output_type": "display_data",
          "data": {
            "text/plain": [
              "<IPython.core.display.Javascript object>"
            ],
            "application/javascript": [
              "\n",
              "    async function download(id, filename, size) {\n",
              "      if (!google.colab.kernel.accessAllowed) {\n",
              "        return;\n",
              "      }\n",
              "      const div = document.createElement('div');\n",
              "      const label = document.createElement('label');\n",
              "      label.textContent = `Downloading \"${filename}\": `;\n",
              "      div.appendChild(label);\n",
              "      const progress = document.createElement('progress');\n",
              "      progress.max = size;\n",
              "      div.appendChild(progress);\n",
              "      document.body.appendChild(div);\n",
              "\n",
              "      const buffers = [];\n",
              "      let downloaded = 0;\n",
              "\n",
              "      const channel = await google.colab.kernel.comms.open(id);\n",
              "      // Send a message to notify the kernel that we're ready.\n",
              "      channel.send({})\n",
              "\n",
              "      for await (const message of channel.messages) {\n",
              "        // Send a message to notify the kernel that we're ready.\n",
              "        channel.send({})\n",
              "        if (message.buffers) {\n",
              "          for (const buffer of message.buffers) {\n",
              "            buffers.push(buffer);\n",
              "            downloaded += buffer.byteLength;\n",
              "            progress.value = downloaded;\n",
              "          }\n",
              "        }\n",
              "      }\n",
              "      const blob = new Blob(buffers, {type: 'application/binary'});\n",
              "      const a = document.createElement('a');\n",
              "      a.href = window.URL.createObjectURL(blob);\n",
              "      a.download = filename;\n",
              "      div.appendChild(a);\n",
              "      a.click();\n",
              "      div.remove();\n",
              "    }\n",
              "  "
            ]
          },
          "metadata": {}
        },
        {
          "output_type": "display_data",
          "data": {
            "text/plain": [
              "<IPython.core.display.Javascript object>"
            ],
            "application/javascript": [
              "download(\"download_c4d2d8c4-6ead-4be7-b73b-46b836ab9fdc\", \"model3.pth\", 91751494)"
            ]
          },
          "metadata": {}
        },
        {
          "output_type": "display_data",
          "data": {
            "text/plain": [
              "<Figure size 640x480 with 1 Axes>"
            ],
            "image/png": "[encoded data removed]"
          },
          "metadata": {}
        },
        {
          "output_type": "display_data",
          "data": {
            "text/plain": [
              "<Figure size 640x480 with 1 Axes>"
            ],
            "image/png": "[encoded data removed]"
          },
          "metadata": {}
        },
        {
          "output_type": "display_data",
          "data": {
            "text/plain": [
              "<Figure size 640x480 with 0 Axes>"
            ]
          },
          "metadata": {}
        }
      ]
    },
    {
      "cell_type": "markdown",
      "source": [
        "TEST"
      ],
      "metadata": {
        "id": "KfUTJyS6TdO-"
      }
    },
    {
      "cell_type": "code",
      "source": [
        "from sklearn.metrics import classification_report, accuracy_score, precision_score, recall_score\n",
        "\n",
        "model.eval()\n",
        "all_test_preds = []\n",
        "all_test_labels = []\n",
        "\n",
        "with torch.no_grad():\n",
        "    for inputs, labels in test_loader:\n",
        "        inputs, labels = inputs.to(device), labels.to(device)\n",
        "        outputs = model(inputs)\n",
        "        _, predicted = torch.max(outputs, 1)\n",
        "        all_test_preds.extend(predicted.cpu().numpy())\n",
        "        all_test_labels.extend(labels.cpu().numpy())\n",
        "\n",
        "# Overall metrics\n",
        "accuracy = accuracy_score(all_test_labels, all_test_preds)\n",
        "precision = precision_score(all_test_labels, all_test_preds, average='macro', zero_division=0)\n",
        "recall = recall_score(all_test_labels, all_test_preds, average='macro', zero_division=0)\n",
        "\n",
        "print(f\"\\nTest Accuracy: {accuracy*100:.2f}%\")\n",
        "print(f\"Test Macro Precision: {precision:.4f}\")\n",
        "print(f\"Test Macro Recall: {recall:.4f}\")\n",
        "\n",
        "# Per-class metrics\n",
        "class_names = list(test_dataset.class_to_idx.keys())\n",
        "report = classification_report(all_test_labels, all_test_preds, target_names=class_names, zero_division=0)\n",
        "print(\"\\nDetailed Test Classification Report:\")\n",
        "print(report)\n",
        "\n",
        "# Save report\n",
        "with open(\"test_classification_report.txt\", \"w\") as f:\n",
        "    f.write(report)\n",
        "\n",
        "files.download('test_classification_report.txt')"
      ],
      "metadata": {
        "colab": {
          "base_uri": "https://localhost:8080/",
          "height": 868
        },
        "id": "8t5bbDMhTc1P",
        "outputId": "ef36cd65-753d-4c33-e218-0db19786584b"
      },
      "execution_count": null,
      "outputs": [
        {
          "output_type": "stream",
          "name": "stdout",
          "text": [
            "\n",
            "Test Accuracy: 81.69%\n",
            "Test Macro Precision: 0.8230\n",
            "Test Macro Recall: 0.8199\n",
            "\n",
            "Detailed Test Classification Report:\n",
            "              precision    recall  f1-score   support\n",
            "\n",
            "           0       0.51      0.69      0.59       258\n",
            "           1       0.55      0.66      0.60       234\n",
            "           2       0.87      0.88      0.87       249\n",
            "           3       0.91      0.90      0.90       227\n",
            "           4       0.87      0.88      0.88       235\n",
            "           5       0.86      0.82      0.84       238\n",
            "           6       0.92      0.90      0.91       224\n",
            "           7       0.76      0.93      0.84       233\n",
            "           8       0.92      0.82      0.87       253\n",
            "           9       0.89      0.75      0.81       268\n",
            "           a       0.88      0.76      0.81       268\n",
            "           b       0.85      0.87      0.86       255\n",
            "           c       0.91      0.85      0.88       256\n",
            "           d       0.93      0.85      0.89       270\n",
            "           e       0.91      0.90      0.91       237\n",
            "           f       0.82      0.88      0.85       221\n",
            "           g       0.75      0.79      0.77       243\n",
            "           h       0.89      0.84      0.86       256\n",
            "           i       0.61      0.51      0.55       265\n",
            "           j       0.85      0.81      0.83       247\n",
            "           k       0.94      0.82      0.87       262\n",
            "           l       0.77      0.58      0.67       277\n",
            "           m       0.83      0.90      0.86       234\n",
            "           n       0.88      0.81      0.84       265\n",
            "           o       0.61      0.47      0.53       266\n",
            "           p       0.91      0.92      0.92       243\n",
            "           q       0.79      0.83      0.81       246\n",
            "           r       0.68      0.93      0.79       218\n",
            "           s       0.83      0.82      0.82       261\n",
            "           t       0.77      0.88      0.83       265\n",
            "           u       0.82      0.82      0.82       240\n",
            "           v       0.89      0.81      0.85       275\n",
            "           w       0.79      0.95      0.86       289\n",
            "           x       0.87      0.94      0.90       234\n",
            "           y       0.88      0.87      0.88       262\n",
            "           z       0.89      0.87      0.88       247\n",
            "\n",
            "    accuracy                           0.82      9021\n",
            "   macro avg       0.82      0.82      0.82      9021\n",
            "weighted avg       0.82      0.82      0.82      9021\n",
            "\n"
          ]
        },
        {
          "output_type": "display_data",
          "data": {
            "text/plain": [
              "<IPython.core.display.Javascript object>"
            ],
            "application/javascript": [
              "\n",
              "    async function download(id, filename, size) {\n",
              "      if (!google.colab.kernel.accessAllowed) {\n",
              "        return;\n",
              "      }\n",
              "      const div = document.createElement('div');\n",
              "      const label = document.createElement('label');\n",
              "      label.textContent = `Downloading \"${filename}\": `;\n",
              "      div.appendChild(label);\n",
              "      const progress = document.createElement('progress');\n",
              "      progress.max = size;\n",
              "      div.appendChild(progress);\n",
              "      document.body.appendChild(div);\n",
              "\n",
              "      const buffers = [];\n",
              "      let downloaded = 0;\n",
              "\n",
              "      const channel = await google.colab.kernel.comms.open(id);\n",
              "      // Send a message to notify the kernel that we're ready.\n",
              "      channel.send({})\n",
              "\n",
              "      for await (const message of channel.messages) {\n",
              "        // Send a message to notify the kernel that we're ready.\n",
              "        channel.send({})\n",
              "        if (message.buffers) {\n",
              "          for (const buffer of message.buffers) {\n",
              "            buffers.push(buffer);\n",
              "            downloaded += buffer.byteLength;\n",
              "            progress.value = downloaded;\n",
              "          }\n",
              "        }\n",
              "      }\n",
              "      const blob = new Blob(buffers, {type: 'application/binary'});\n",
              "      const a = document.createElement('a');\n",
              "      a.href = window.URL.createObjectURL(blob);\n",
              "      a.download = filename;\n",
              "      div.appendChild(a);\n",
              "      a.click();\n",
              "      div.remove();\n",
              "    }\n",
              "  "
            ]
          },
          "metadata": {}
        },
        {
          "output_type": "display_data",
          "data": {
            "text/plain": [
              "<IPython.core.display.Javascript object>"
            ],
            "application/javascript": [
              "download(\"download_0783d833-d9d5-4433-a8b8-23dc0d9df80d\", \"test_classification_report.txt\", 2162)"
            ]
          },
          "metadata": {}
        }
      ]
    }
  ]
}