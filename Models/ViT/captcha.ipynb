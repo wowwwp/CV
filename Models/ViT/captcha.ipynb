{
  "nbformat": 4,
  "nbformat_minor": 0,
  "metadata": {
    "colab": {
      "provenance": []
    },
    "kernelspec": {
      "name": "python3",
      "display_name": "Python 3"
    },
    "language_info": {
      "name": "python"
    },
    "widgets": {
      "application/vnd.jupyter.widget-state+json": {
        "cb53402465c74bcc891a6f02a5d10951": {
          "model_module": "@jupyter-widgets/controls",
          "model_name": "VBoxModel",
          "model_module_version": "1.5.0",
          "state": {
            "_dom_classes": [],
            "_model_module": "@jupyter-widgets/controls",
            "_model_module_version": "1.5.0",
            "_model_name": "VBoxModel",
            "_view_count": null,
            "_view_module": "@jupyter-widgets/controls",
            "_view_module_version": "1.5.0",
            "_view_name": "VBoxView",
            "box_style": "",
            "children": [],
            "layout": "IPY_MODEL_70d6063cc04a4e38b4ff6d894e4a1cac"
          }
        },
        "b181a5f013d14629813a37f76755b2bc": {
          "model_module": "@jupyter-widgets/controls",
          "model_name": "HTMLModel",
          "model_module_version": "1.5.0",
          "state": {
            "_dom_classes": [],
            "_model_module": "@jupyter-widgets/controls",
            "_model_module_version": "1.5.0",
            "_model_name": "HTMLModel",
            "_view_count": null,
            "_view_module": "@jupyter-widgets/controls",
            "_view_module_version": "1.5.0",
            "_view_name": "HTMLView",
            "description": "",
            "description_tooltip": null,
            "layout": "IPY_MODEL_0c79e8ced16f4bc1aae98f87fd6f14ca",
            "placeholder": "​",
            "style": "IPY_MODEL_4224e9a68dba4027a455308658cac6cc",
            "value": "<center> <img\nsrc=https://huggingface.co/front/assets/huggingface_logo-noborder.svg\nalt='Hugging Face'> <br> Copy a token from <a\nhref=\"https://huggingface.co/settings/tokens\" target=\"_blank\">your Hugging Face\ntokens page</a> and paste it below. <br> Immediately click login after copying\nyour token or it might be stored in plain text in this notebook file. </center>"
          }
        },
        "18fdcfecb9ac4f51bdefe67fcf828ea4": {
          "model_module": "@jupyter-widgets/controls",
          "model_name": "PasswordModel",
          "model_module_version": "1.5.0",
          "state": {
            "_dom_classes": [],
            "_model_module": "@jupyter-widgets/controls",
            "_model_module_version": "1.5.0",
            "_model_name": "PasswordModel",
            "_view_count": null,
            "_view_module": "@jupyter-widgets/controls",
            "_view_module_version": "1.5.0",
            "_view_name": "PasswordView",
            "continuous_update": true,
            "description": "Token:",
            "description_tooltip": null,
            "disabled": false,
            "layout": "IPY_MODEL_b0e59f3c937c4d2c82a7918930c80d77",
            "placeholder": "​",
            "style": "IPY_MODEL_6bf01c1717cf46789c4c9c545b687b94",
            "value": ""
          }
        },
        "f18395048ed34e2fb4496c28d64c1f4d": {
          "model_module": "@jupyter-widgets/controls",
          "model_name": "CheckboxModel",
          "model_module_version": "1.5.0",
          "state": {
            "_dom_classes": [],
            "_model_module": "@jupyter-widgets/controls",
            "_model_module_version": "1.5.0",
            "_model_name": "CheckboxModel",
            "_view_count": null,
            "_view_module": "@jupyter-widgets/controls",
            "_view_module_version": "1.5.0",
            "_view_name": "CheckboxView",
            "description": "Add token as git credential?",
            "description_tooltip": null,
            "disabled": false,
            "indent": true,
            "layout": "IPY_MODEL_0da01d6b60624b25b7236f7a4894598e",
            "style": "IPY_MODEL_26d809fdf69d491a86fedcaf67a2d2a4",
            "value": true
          }
        },
        "41f3200c79e64cdc9c47b4624e6256e8": {
          "model_module": "@jupyter-widgets/controls",
          "model_name": "ButtonModel",
          "model_module_version": "1.5.0",
          "state": {
            "_dom_classes": [],
            "_model_module": "@jupyter-widgets/controls",
            "_model_module_version": "1.5.0",
            "_model_name": "ButtonModel",
            "_view_count": null,
            "_view_module": "@jupyter-widgets/controls",
            "_view_module_version": "1.5.0",
            "_view_name": "ButtonView",
            "button_style": "",
            "description": "Login",
            "disabled": false,
            "icon": "",
            "layout": "IPY_MODEL_6bcfed7e89c24c069fcc884dfa24187c",
            "style": "IPY_MODEL_e8da6d52e10b47dca6bb5fecc9fe0055",
            "tooltip": ""
          }
        },
        "ccc61d2142cc4115998b96ddca3a3700": {
          "model_module": "@jupyter-widgets/controls",
          "model_name": "HTMLModel",
          "model_module_version": "1.5.0",
          "state": {
            "_dom_classes": [],
            "_model_module": "@jupyter-widgets/controls",
            "_model_module_version": "1.5.0",
            "_model_name": "HTMLModel",
            "_view_count": null,
            "_view_module": "@jupyter-widgets/controls",
            "_view_module_version": "1.5.0",
            "_view_name": "HTMLView",
            "description": "",
            "description_tooltip": null,
            "layout": "IPY_MODEL_0d68b6375d2346439cbc616688e6db78",
            "placeholder": "​",
            "style": "IPY_MODEL_2c687650e60948fb92e74936fb3dab2c",
            "value": "\n<b>Pro Tip:</b> If you don't already have one, you can create a dedicated\n'notebooks' token with 'write' access, that you can then easily reuse for all\nnotebooks. </center>"
          }
        },
        "70d6063cc04a4e38b4ff6d894e4a1cac": {
          "model_module": "@jupyter-widgets/base",
          "model_name": "LayoutModel",
          "model_module_version": "1.2.0",
          "state": {
            "_model_module": "@jupyter-widgets/base",
            "_model_module_version": "1.2.0",
            "_model_name": "LayoutModel",
            "_view_count": null,
            "_view_module": "@jupyter-widgets/base",
            "_view_module_version": "1.2.0",
            "_view_name": "LayoutView",
            "align_content": null,
            "align_items": "center",
            "align_self": null,
            "border": null,
            "bottom": null,
            "display": "flex",
            "flex": null,
            "flex_flow": "column",
            "grid_area": null,
            "grid_auto_columns": null,
            "grid_auto_flow": null,
            "grid_auto_rows": null,
            "grid_column": null,
            "grid_gap": null,
            "grid_row": null,
            "grid_template_areas": null,
            "grid_template_columns": null,
            "grid_template_rows": null,
            "height": null,
            "justify_content": null,
            "justify_items": null,
            "left": null,
            "margin": null,
            "max_height": null,
            "max_width": null,
            "min_height": null,
            "min_width": null,
            "object_fit": null,
            "object_position": null,
            "order": null,
            "overflow": null,
            "overflow_x": null,
            "overflow_y": null,
            "padding": null,
            "right": null,
            "top": null,
            "visibility": null,
            "width": "50%"
          }
        },
        "0c79e8ced16f4bc1aae98f87fd6f14ca": {
          "model_module": "@jupyter-widgets/base",
          "model_name": "LayoutModel",
          "model_module_version": "1.2.0",
          "state": {
            "_model_module": "@jupyter-widgets/base",
            "_model_module_version": "1.2.0",
            "_model_name": "LayoutModel",
            "_view_count": null,
            "_view_module": "@jupyter-widgets/base",
            "_view_module_version": "1.2.0",
            "_view_name": "LayoutView",
            "align_content": null,
            "align_items": null,
            "align_self": null,
            "border": null,
            "bottom": null,
            "display": null,
            "flex": null,
            "flex_flow": null,
            "grid_area": null,
            "grid_auto_columns": null,
            "grid_auto_flow": null,
            "grid_auto_rows": null,
            "grid_column": null,
            "grid_gap": null,
            "grid_row": null,
            "grid_template_areas": null,
            "grid_template_columns": null,
            "grid_template_rows": null,
            "height": null,
            "justify_content": null,
            "justify_items": null,
            "left": null,
            "margin": null,
            "max_height": null,
            "max_width": null,
            "min_height": null,
            "min_width": null,
            "object_fit": null,
            "object_position": null,
            "order": null,
            "overflow": null,
            "overflow_x": null,
            "overflow_y": null,
            "padding": null,
            "right": null,
            "top": null,
            "visibility": null,
            "width": null
          }
        },
        "4224e9a68dba4027a455308658cac6cc": {
          "model_module": "@jupyter-widgets/controls",
          "model_name": "DescriptionStyleModel",
          "model_module_version": "1.5.0",
          "state": {
            "_model_module": "@jupyter-widgets/controls",
            "_model_module_version": "1.5.0",
            "_model_name": "DescriptionStyleModel",
            "_view_count": null,
            "_view_module": "@jupyter-widgets/base",
            "_view_module_version": "1.2.0",
            "_view_name": "StyleView",
            "description_width": ""
          }
        },
        "b0e59f3c937c4d2c82a7918930c80d77": {
          "model_module": "@jupyter-widgets/base",
          "model_name": "LayoutModel",
          "model_module_version": "1.2.0",
          "state": {
            "_model_module": "@jupyter-widgets/base",
            "_model_module_version": "1.2.0",
            "_model_name": "LayoutModel",
            "_view_count": null,
            "_view_module": "@jupyter-widgets/base",
            "_view_module_version": "1.2.0",
            "_view_name": "LayoutView",
            "align_content": null,
            "align_items": null,
            "align_self": null,
            "border": null,
            "bottom": null,
            "display": null,
            "flex": null,
            "flex_flow": null,
            "grid_area": null,
            "grid_auto_columns": null,
            "grid_auto_flow": null,
            "grid_auto_rows": null,
            "grid_column": null,
            "grid_gap": null,
            "grid_row": null,
            "grid_template_areas": null,
            "grid_template_columns": null,
            "grid_template_rows": null,
            "height": null,
            "justify_content": null,
            "justify_items": null,
            "left": null,
            "margin": null,
            "max_height": null,
            "max_width": null,
            "min_height": null,
            "min_width": null,
            "object_fit": null,
            "object_position": null,
            "order": null,
            "overflow": null,
            "overflow_x": null,
            "overflow_y": null,
            "padding": null,
            "right": null,
            "top": null,
            "visibility": null,
            "width": null
          }
        },
        "6bf01c1717cf46789c4c9c545b687b94": {
          "model_module": "@jupyter-widgets/controls",
          "model_name": "DescriptionStyleModel",
          "model_module_version": "1.5.0",
          "state": {
            "_model_module": "@jupyter-widgets/controls",
            "_model_module_version": "1.5.0",
            "_model_name": "DescriptionStyleModel",
            "_view_count": null,
            "_view_module": "@jupyter-widgets/base",
            "_view_module_version": "1.2.0",
            "_view_name": "StyleView",
            "description_width": ""
          }
        },
        "0da01d6b60624b25b7236f7a4894598e": {
          "model_module": "@jupyter-widgets/base",
          "model_name": "LayoutModel",
          "model_module_version": "1.2.0",
          "state": {
            "_model_module": "@jupyter-widgets/base",
            "_model_module_version": "1.2.0",
            "_model_name": "LayoutModel",
            "_view_count": null,
            "_view_module": "@jupyter-widgets/base",
            "_view_module_version": "1.2.0",
            "_view_name": "LayoutView",
            "align_content": null,
            "align_items": null,
            "align_self": null,
            "border": null,
            "bottom": null,
            "display": null,
            "flex": null,
            "flex_flow": null,
            "grid_area": null,
            "grid_auto_columns": null,
            "grid_auto_flow": null,
            "grid_auto_rows": null,
            "grid_column": null,
            "grid_gap": null,
            "grid_row": null,
            "grid_template_areas": null,
            "grid_template_columns": null,
            "grid_template_rows": null,
            "height": null,
            "justify_content": null,
            "justify_items": null,
            "left": null,
            "margin": null,
            "max_height": null,
            "max_width": null,
            "min_height": null,
            "min_width": null,
            "object_fit": null,
            "object_position": null,
            "order": null,
            "overflow": null,
            "overflow_x": null,
            "overflow_y": null,
            "padding": null,
            "right": null,
            "top": null,
            "visibility": null,
            "width": null
          }
        },
        "26d809fdf69d491a86fedcaf67a2d2a4": {
          "model_module": "@jupyter-widgets/controls",
          "model_name": "DescriptionStyleModel",
          "model_module_version": "1.5.0",
          "state": {
            "_model_module": "@jupyter-widgets/controls",
            "_model_module_version": "1.5.0",
            "_model_name": "DescriptionStyleModel",
            "_view_count": null,
            "_view_module": "@jupyter-widgets/base",
            "_view_module_version": "1.2.0",
            "_view_name": "StyleView",
            "description_width": ""
          }
        },
        "6bcfed7e89c24c069fcc884dfa24187c": {
          "model_module": "@jupyter-widgets/base",
          "model_name": "LayoutModel",
          "model_module_version": "1.2.0",
          "state": {
            "_model_module": "@jupyter-widgets/base",
            "_model_module_version": "1.2.0",
            "_model_name": "LayoutModel",
            "_view_count": null,
            "_view_module": "@jupyter-widgets/base",
            "_view_module_version": "1.2.0",
            "_view_name": "LayoutView",
            "align_content": null,
            "align_items": null,
            "align_self": null,
            "border": null,
            "bottom": null,
            "display": null,
            "flex": null,
            "flex_flow": null,
            "grid_area": null,
            "grid_auto_columns": null,
            "grid_auto_flow": null,
            "grid_auto_rows": null,
            "grid_column": null,
            "grid_gap": null,
            "grid_row": null,
            "grid_template_areas": null,
            "grid_template_columns": null,
            "grid_template_rows": null,
            "height": null,
            "justify_content": null,
            "justify_items": null,
            "left": null,
            "margin": null,
            "max_height": null,
            "max_width": null,
            "min_height": null,
            "min_width": null,
            "object_fit": null,
            "object_position": null,
            "order": null,
            "overflow": null,
            "overflow_x": null,
            "overflow_y": null,
            "padding": null,
            "right": null,
            "top": null,
            "visibility": null,
            "width": null
          }
        },
        "e8da6d52e10b47dca6bb5fecc9fe0055": {
          "model_module": "@jupyter-widgets/controls",
          "model_name": "ButtonStyleModel",
          "model_module_version": "1.5.0",
          "state": {
            "_model_module": "@jupyter-widgets/controls",
            "_model_module_version": "1.5.0",
            "_model_name": "ButtonStyleModel",
            "_view_count": null,
            "_view_module": "@jupyter-widgets/base",
            "_view_module_version": "1.2.0",
            "_view_name": "StyleView",
            "button_color": null,
            "font_weight": ""
          }
        },
        "0d68b6375d2346439cbc616688e6db78": {
          "model_module": "@jupyter-widgets/base",
          "model_name": "LayoutModel",
          "model_module_version": "1.2.0",
          "state": {
            "_model_module": "@jupyter-widgets/base",
            "_model_module_version": "1.2.0",
            "_model_name": "LayoutModel",
            "_view_count": null,
            "_view_module": "@jupyter-widgets/base",
            "_view_module_version": "1.2.0",
            "_view_name": "LayoutView",
            "align_content": null,
            "align_items": null,
            "align_self": null,
            "border": null,
            "bottom": null,
            "display": null,
            "flex": null,
            "flex_flow": null,
            "grid_area": null,
            "grid_auto_columns": null,
            "grid_auto_flow": null,
            "grid_auto_rows": null,
            "grid_column": null,
            "grid_gap": null,
            "grid_row": null,
            "grid_template_areas": null,
            "grid_template_columns": null,
            "grid_template_rows": null,
            "height": null,
            "justify_content": null,
            "justify_items": null,
            "left": null,
            "margin": null,
            "max_height": null,
            "max_width": null,
            "min_height": null,
            "min_width": null,
            "object_fit": null,
            "object_position": null,
            "order": null,
            "overflow": null,
            "overflow_x": null,
            "overflow_y": null,
            "padding": null,
            "right": null,
            "top": null,
            "visibility": null,
            "width": null
          }
        },
        "2c687650e60948fb92e74936fb3dab2c": {
          "model_module": "@jupyter-widgets/controls",
          "model_name": "DescriptionStyleModel",
          "model_module_version": "1.5.0",
          "state": {
            "_model_module": "@jupyter-widgets/controls",
            "_model_module_version": "1.5.0",
            "_model_name": "DescriptionStyleModel",
            "_view_count": null,
            "_view_module": "@jupyter-widgets/base",
            "_view_module_version": "1.2.0",
            "_view_name": "StyleView",
            "description_width": ""
          }
        },
        "aaf3e94d8bde4375972be8cee244fe4b": {
          "model_module": "@jupyter-widgets/controls",
          "model_name": "LabelModel",
          "model_module_version": "1.5.0",
          "state": {
            "_dom_classes": [],
            "_model_module": "@jupyter-widgets/controls",
            "_model_module_version": "1.5.0",
            "_model_name": "LabelModel",
            "_view_count": null,
            "_view_module": "@jupyter-widgets/controls",
            "_view_module_version": "1.5.0",
            "_view_name": "LabelView",
            "description": "",
            "description_tooltip": null,
            "layout": "IPY_MODEL_5edb60488b44449ea21cea016edf5ebc",
            "placeholder": "​",
            "style": "IPY_MODEL_e045853361c84d5897b06f62ee5fb894",
            "value": "Connecting..."
          }
        },
        "5edb60488b44449ea21cea016edf5ebc": {
          "model_module": "@jupyter-widgets/base",
          "model_name": "LayoutModel",
          "model_module_version": "1.2.0",
          "state": {
            "_model_module": "@jupyter-widgets/base",
            "_model_module_version": "1.2.0",
            "_model_name": "LayoutModel",
            "_view_count": null,
            "_view_module": "@jupyter-widgets/base",
            "_view_module_version": "1.2.0",
            "_view_name": "LayoutView",
            "align_content": null,
            "align_items": null,
            "align_self": null,
            "border": null,
            "bottom": null,
            "display": null,
            "flex": null,
            "flex_flow": null,
            "grid_area": null,
            "grid_auto_columns": null,
            "grid_auto_flow": null,
            "grid_auto_rows": null,
            "grid_column": null,
            "grid_gap": null,
            "grid_row": null,
            "grid_template_areas": null,
            "grid_template_columns": null,
            "grid_template_rows": null,
            "height": null,
            "justify_content": null,
            "justify_items": null,
            "left": null,
            "margin": null,
            "max_height": null,
            "max_width": null,
            "min_height": null,
            "min_width": null,
            "object_fit": null,
            "object_position": null,
            "order": null,
            "overflow": null,
            "overflow_x": null,
            "overflow_y": null,
            "padding": null,
            "right": null,
            "top": null,
            "visibility": null,
            "width": null
          }
        },
        "e045853361c84d5897b06f62ee5fb894": {
          "model_module": "@jupyter-widgets/controls",
          "model_name": "DescriptionStyleModel",
          "model_module_version": "1.5.0",
          "state": {
            "_model_module": "@jupyter-widgets/controls",
            "_model_module_version": "1.5.0",
            "_model_name": "DescriptionStyleModel",
            "_view_count": null,
            "_view_module": "@jupyter-widgets/base",
            "_view_module_version": "1.2.0",
            "_view_name": "StyleView",
            "description_width": ""
          }
        },
        "cb0c3bb76b0d49c48c95880dc0255711": {
          "model_module": "@jupyter-widgets/controls",
          "model_name": "HBoxModel",
          "model_module_version": "1.5.0",
          "state": {
            "_dom_classes": [],
            "_model_module": "@jupyter-widgets/controls",
            "_model_module_version": "1.5.0",
            "_model_name": "HBoxModel",
            "_view_count": null,
            "_view_module": "@jupyter-widgets/controls",
            "_view_module_version": "1.5.0",
            "_view_name": "HBoxView",
            "box_style": "",
            "children": [
              "IPY_MODEL_d775ed167b3046aa848f04e2af8b0dd7",
              "IPY_MODEL_a975c4f10685479ea99be13800ddde0f",
              "IPY_MODEL_45d6d85118554ed490361999bd425719"
            ],
            "layout": "IPY_MODEL_c0a6acb84c4c4e5c8be3e7c256104c2c"
          }
        },
        "d775ed167b3046aa848f04e2af8b0dd7": {
          "model_module": "@jupyter-widgets/controls",
          "model_name": "HTMLModel",
          "model_module_version": "1.5.0",
          "state": {
            "_dom_classes": [],
            "_model_module": "@jupyter-widgets/controls",
            "_model_module_version": "1.5.0",
            "_model_name": "HTMLModel",
            "_view_count": null,
            "_view_module": "@jupyter-widgets/controls",
            "_view_module_version": "1.5.0",
            "_view_name": "HTMLView",
            "description": "",
            "description_tooltip": null,
            "layout": "IPY_MODEL_f032b1d95d504b06a5db2e23b26747d3",
            "placeholder": "​",
            "style": "IPY_MODEL_3a76508a6034413da5efa93a9ff2c61f",
            "value": "preprocessor_config.json: 100%"
          }
        },
        "a975c4f10685479ea99be13800ddde0f": {
          "model_module": "@jupyter-widgets/controls",
          "model_name": "FloatProgressModel",
          "model_module_version": "1.5.0",
          "state": {
            "_dom_classes": [],
            "_model_module": "@jupyter-widgets/controls",
            "_model_module_version": "1.5.0",
            "_model_name": "FloatProgressModel",
            "_view_count": null,
            "_view_module": "@jupyter-widgets/controls",
            "_view_module_version": "1.5.0",
            "_view_name": "ProgressView",
            "bar_style": "success",
            "description": "",
            "description_tooltip": null,
            "layout": "IPY_MODEL_1a891418e96c43b6b977ac419226d59d",
            "max": 160,
            "min": 0,
            "orientation": "horizontal",
            "style": "IPY_MODEL_fda761a31e9046d6a9b956b03c9f530a",
            "value": 160
          }
        },
        "45d6d85118554ed490361999bd425719": {
          "model_module": "@jupyter-widgets/controls",
          "model_name": "HTMLModel",
          "model_module_version": "1.5.0",
          "state": {
            "_dom_classes": [],
            "_model_module": "@jupyter-widgets/controls",
            "_model_module_version": "1.5.0",
            "_model_name": "HTMLModel",
            "_view_count": null,
            "_view_module": "@jupyter-widgets/controls",
            "_view_module_version": "1.5.0",
            "_view_name": "HTMLView",
            "description": "",
            "description_tooltip": null,
            "layout": "IPY_MODEL_d3dc6008af794ad89784a5b5b27a594f",
            "placeholder": "​",
            "style": "IPY_MODEL_886562ae7d79482e9acf2da4127b2a71",
            "value": " 160/160 [00:00&lt;00:00, 7.64kB/s]"
          }
        },
        "c0a6acb84c4c4e5c8be3e7c256104c2c": {
          "model_module": "@jupyter-widgets/base",
          "model_name": "LayoutModel",
          "model_module_version": "1.2.0",
          "state": {
            "_model_module": "@jupyter-widgets/base",
            "_model_module_version": "1.2.0",
            "_model_name": "LayoutModel",
            "_view_count": null,
            "_view_module": "@jupyter-widgets/base",
            "_view_module_version": "1.2.0",
            "_view_name": "LayoutView",
            "align_content": null,
            "align_items": null,
            "align_self": null,
            "border": null,
            "bottom": null,
            "display": null,
            "flex": null,
            "flex_flow": null,
            "grid_area": null,
            "grid_auto_columns": null,
            "grid_auto_flow": null,
            "grid_auto_rows": null,
            "grid_column": null,
            "grid_gap": null,
            "grid_row": null,
            "grid_template_areas": null,
            "grid_template_columns": null,
            "grid_template_rows": null,
            "height": null,
            "justify_content": null,
            "justify_items": null,
            "left": null,
            "margin": null,
            "max_height": null,
            "max_width": null,
            "min_height": null,
            "min_width": null,
            "object_fit": null,
            "object_position": null,
            "order": null,
            "overflow": null,
            "overflow_x": null,
            "overflow_y": null,
            "padding": null,
            "right": null,
            "top": null,
            "visibility": null,
            "width": null
          }
        },
        "f032b1d95d504b06a5db2e23b26747d3": {
          "model_module": "@jupyter-widgets/base",
          "model_name": "LayoutModel",
          "model_module_version": "1.2.0",
          "state": {
            "_model_module": "@jupyter-widgets/base",
            "_model_module_version": "1.2.0",
            "_model_name": "LayoutModel",
            "_view_count": null,
            "_view_module": "@jupyter-widgets/base",
            "_view_module_version": "1.2.0",
            "_view_name": "LayoutView",
            "align_content": null,
            "align_items": null,
            "align_self": null,
            "border": null,
            "bottom": null,
            "display": null,
            "flex": null,
            "flex_flow": null,
            "grid_area": null,
            "grid_auto_columns": null,
            "grid_auto_flow": null,
            "grid_auto_rows": null,
            "grid_column": null,
            "grid_gap": null,
            "grid_row": null,
            "grid_template_areas": null,
            "grid_template_columns": null,
            "grid_template_rows": null,
            "height": null,
            "justify_content": null,
            "justify_items": null,
            "left": null,
            "margin": null,
            "max_height": null,
            "max_width": null,
            "min_height": null,
            "min_width": null,
            "object_fit": null,
            "object_position": null,
            "order": null,
            "overflow": null,
            "overflow_x": null,
            "overflow_y": null,
            "padding": null,
            "right": null,
            "top": null,
            "visibility": null,
            "width": null
          }
        },
        "3a76508a6034413da5efa93a9ff2c61f": {
          "model_module": "@jupyter-widgets/controls",
          "model_name": "DescriptionStyleModel",
          "model_module_version": "1.5.0",
          "state": {
            "_model_module": "@jupyter-widgets/controls",
            "_model_module_version": "1.5.0",
            "_model_name": "DescriptionStyleModel",
            "_view_count": null,
            "_view_module": "@jupyter-widgets/base",
            "_view_module_version": "1.2.0",
            "_view_name": "StyleView",
            "description_width": ""
          }
        },
        "1a891418e96c43b6b977ac419226d59d": {
          "model_module": "@jupyter-widgets/base",
          "model_name": "LayoutModel",
          "model_module_version": "1.2.0",
          "state": {
            "_model_module": "@jupyter-widgets/base",
            "_model_module_version": "1.2.0",
            "_model_name": "LayoutModel",
            "_view_count": null,
            "_view_module": "@jupyter-widgets/base",
            "_view_module_version": "1.2.0",
            "_view_name": "LayoutView",
            "align_content": null,
            "align_items": null,
            "align_self": null,
            "border": null,
            "bottom": null,
            "display": null,
            "flex": null,
            "flex_flow": null,
            "grid_area": null,
            "grid_auto_columns": null,
            "grid_auto_flow": null,
            "grid_auto_rows": null,
            "grid_column": null,
            "grid_gap": null,
            "grid_row": null,
            "grid_template_areas": null,
            "grid_template_columns": null,
            "grid_template_rows": null,
            "height": null,
            "justify_content": null,
            "justify_items": null,
            "left": null,
            "margin": null,
            "max_height": null,
            "max_width": null,
            "min_height": null,
            "min_width": null,
            "object_fit": null,
            "object_position": null,
            "order": null,
            "overflow": null,
            "overflow_x": null,
            "overflow_y": null,
            "padding": null,
            "right": null,
            "top": null,
            "visibility": null,
            "width": null
          }
        },
        "fda761a31e9046d6a9b956b03c9f530a": {
          "model_module": "@jupyter-widgets/controls",
          "model_name": "ProgressStyleModel",
          "model_module_version": "1.5.0",
          "state": {
            "_model_module": "@jupyter-widgets/controls",
            "_model_module_version": "1.5.0",
            "_model_name": "ProgressStyleModel",
            "_view_count": null,
            "_view_module": "@jupyter-widgets/base",
            "_view_module_version": "1.2.0",
            "_view_name": "StyleView",
            "bar_color": null,
            "description_width": ""
          }
        },
        "d3dc6008af794ad89784a5b5b27a594f": {
          "model_module": "@jupyter-widgets/base",
          "model_name": "LayoutModel",
          "model_module_version": "1.2.0",
          "state": {
            "_model_module": "@jupyter-widgets/base",
            "_model_module_version": "1.2.0",
            "_model_name": "LayoutModel",
            "_view_count": null,
            "_view_module": "@jupyter-widgets/base",
            "_view_module_version": "1.2.0",
            "_view_name": "LayoutView",
            "align_content": null,
            "align_items": null,
            "align_self": null,
            "border": null,
            "bottom": null,
            "display": null,
            "flex": null,
            "flex_flow": null,
            "grid_area": null,
            "grid_auto_columns": null,
            "grid_auto_flow": null,
            "grid_auto_rows": null,
            "grid_column": null,
            "grid_gap": null,
            "grid_row": null,
            "grid_template_areas": null,
            "grid_template_columns": null,
            "grid_template_rows": null,
            "height": null,
            "justify_content": null,
            "justify_items": null,
            "left": null,
            "margin": null,
            "max_height": null,
            "max_width": null,
            "min_height": null,
            "min_width": null,
            "object_fit": null,
            "object_position": null,
            "order": null,
            "overflow": null,
            "overflow_x": null,
            "overflow_y": null,
            "padding": null,
            "right": null,
            "top": null,
            "visibility": null,
            "width": null
          }
        },
        "886562ae7d79482e9acf2da4127b2a71": {
          "model_module": "@jupyter-widgets/controls",
          "model_name": "DescriptionStyleModel",
          "model_module_version": "1.5.0",
          "state": {
            "_model_module": "@jupyter-widgets/controls",
            "_model_module_version": "1.5.0",
            "_model_name": "DescriptionStyleModel",
            "_view_count": null,
            "_view_module": "@jupyter-widgets/base",
            "_view_module_version": "1.2.0",
            "_view_name": "StyleView",
            "description_width": ""
          }
        },
        "b98f8d4e30b7442ca2e0095832e035ea": {
          "model_module": "@jupyter-widgets/controls",
          "model_name": "HBoxModel",
          "model_module_version": "1.5.0",
          "state": {
            "_dom_classes": [],
            "_model_module": "@jupyter-widgets/controls",
            "_model_module_version": "1.5.0",
            "_model_name": "HBoxModel",
            "_view_count": null,
            "_view_module": "@jupyter-widgets/controls",
            "_view_module_version": "1.5.0",
            "_view_name": "HBoxView",
            "box_style": "",
            "children": [
              "IPY_MODEL_efb672719f93457fb9ae010a9183def2",
              "IPY_MODEL_41dfa134d0db4a848f6d96878a998b85",
              "IPY_MODEL_297c04c1c3984f57900652e9b6a84528"
            ],
            "layout": "IPY_MODEL_c8ffecf572db43b6be34bc8554b100d7"
          }
        },
        "efb672719f93457fb9ae010a9183def2": {
          "model_module": "@jupyter-widgets/controls",
          "model_name": "HTMLModel",
          "model_module_version": "1.5.0",
          "state": {
            "_dom_classes": [],
            "_model_module": "@jupyter-widgets/controls",
            "_model_module_version": "1.5.0",
            "_model_name": "HTMLModel",
            "_view_count": null,
            "_view_module": "@jupyter-widgets/controls",
            "_view_module_version": "1.5.0",
            "_view_name": "HTMLView",
            "description": "",
            "description_tooltip": null,
            "layout": "IPY_MODEL_3a43860cafe2410bac8bd145274a330e",
            "placeholder": "​",
            "style": "IPY_MODEL_edadc7b36c674771a6d8b4e3f5172ecd",
            "value": "config.json: 100%"
          }
        },
        "41dfa134d0db4a848f6d96878a998b85": {
          "model_module": "@jupyter-widgets/controls",
          "model_name": "FloatProgressModel",
          "model_module_version": "1.5.0",
          "state": {
            "_dom_classes": [],
            "_model_module": "@jupyter-widgets/controls",
            "_model_module_version": "1.5.0",
            "_model_name": "FloatProgressModel",
            "_view_count": null,
            "_view_module": "@jupyter-widgets/controls",
            "_view_module_version": "1.5.0",
            "_view_name": "ProgressView",
            "bar_style": "success",
            "description": "",
            "description_tooltip": null,
            "layout": "IPY_MODEL_e0a34483e120452da74fa14ed4efcbb1",
            "max": 502,
            "min": 0,
            "orientation": "horizontal",
            "style": "IPY_MODEL_8d8185b030a84607bb7c24f293eb701e",
            "value": 502
          }
        },
        "297c04c1c3984f57900652e9b6a84528": {
          "model_module": "@jupyter-widgets/controls",
          "model_name": "HTMLModel",
          "model_module_version": "1.5.0",
          "state": {
            "_dom_classes": [],
            "_model_module": "@jupyter-widgets/controls",
            "_model_module_version": "1.5.0",
            "_model_name": "HTMLModel",
            "_view_count": null,
            "_view_module": "@jupyter-widgets/controls",
            "_view_module_version": "1.5.0",
            "_view_name": "HTMLView",
            "description": "",
            "description_tooltip": null,
            "layout": "IPY_MODEL_269393d3bd7743f289b1d60b0ca1132f",
            "placeholder": "​",
            "style": "IPY_MODEL_741eb8913f2f42cd95b5f7da760099ec",
            "value": " 502/502 [00:00&lt;00:00, 33.8kB/s]"
          }
        },
        "c8ffecf572db43b6be34bc8554b100d7": {
          "model_module": "@jupyter-widgets/base",
          "model_name": "LayoutModel",
          "model_module_version": "1.2.0",
          "state": {
            "_model_module": "@jupyter-widgets/base",
            "_model_module_version": "1.2.0",
            "_model_name": "LayoutModel",
            "_view_count": null,
            "_view_module": "@jupyter-widgets/base",
            "_view_module_version": "1.2.0",
            "_view_name": "LayoutView",
            "align_content": null,
            "align_items": null,
            "align_self": null,
            "border": null,
            "bottom": null,
            "display": null,
            "flex": null,
            "flex_flow": null,
            "grid_area": null,
            "grid_auto_columns": null,
            "grid_auto_flow": null,
            "grid_auto_rows": null,
            "grid_column": null,
            "grid_gap": null,
            "grid_row": null,
            "grid_template_areas": null,
            "grid_template_columns": null,
            "grid_template_rows": null,
            "height": null,
            "justify_content": null,
            "justify_items": null,
            "left": null,
            "margin": null,
            "max_height": null,
            "max_width": null,
            "min_height": null,
            "min_width": null,
            "object_fit": null,
            "object_position": null,
            "order": null,
            "overflow": null,
            "overflow_x": null,
            "overflow_y": null,
            "padding": null,
            "right": null,
            "top": null,
            "visibility": null,
            "width": null
          }
        },
        "3a43860cafe2410bac8bd145274a330e": {
          "model_module": "@jupyter-widgets/base",
          "model_name": "LayoutModel",
          "model_module_version": "1.2.0",
          "state": {
            "_model_module": "@jupyter-widgets/base",
            "_model_module_version": "1.2.0",
            "_model_name": "LayoutModel",
            "_view_count": null,
            "_view_module": "@jupyter-widgets/base",
            "_view_module_version": "1.2.0",
            "_view_name": "LayoutView",
            "align_content": null,
            "align_items": null,
            "align_self": null,
            "border": null,
            "bottom": null,
            "display": null,
            "flex": null,
            "flex_flow": null,
            "grid_area": null,
            "grid_auto_columns": null,
            "grid_auto_flow": null,
            "grid_auto_rows": null,
            "grid_column": null,
            "grid_gap": null,
            "grid_row": null,
            "grid_template_areas": null,
            "grid_template_columns": null,
            "grid_template_rows": null,
            "height": null,
            "justify_content": null,
            "justify_items": null,
            "left": null,
            "margin": null,
            "max_height": null,
            "max_width": null,
            "min_height": null,
            "min_width": null,
            "object_fit": null,
            "object_position": null,
            "order": null,
            "overflow": null,
            "overflow_x": null,
            "overflow_y": null,
            "padding": null,
            "right": null,
            "top": null,
            "visibility": null,
            "width": null
          }
        },
        "edadc7b36c674771a6d8b4e3f5172ecd": {
          "model_module": "@jupyter-widgets/controls",
          "model_name": "DescriptionStyleModel",
          "model_module_version": "1.5.0",
          "state": {
            "_model_module": "@jupyter-widgets/controls",
            "_model_module_version": "1.5.0",
            "_model_name": "DescriptionStyleModel",
            "_view_count": null,
            "_view_module": "@jupyter-widgets/base",
            "_view_module_version": "1.2.0",
            "_view_name": "StyleView",
            "description_width": ""
          }
        },
        "e0a34483e120452da74fa14ed4efcbb1": {
          "model_module": "@jupyter-widgets/base",
          "model_name": "LayoutModel",
          "model_module_version": "1.2.0",
          "state": {
            "_model_module": "@jupyter-widgets/base",
            "_model_module_version": "1.2.0",
            "_model_name": "LayoutModel",
            "_view_count": null,
            "_view_module": "@jupyter-widgets/base",
            "_view_module_version": "1.2.0",
            "_view_name": "LayoutView",
            "align_content": null,
            "align_items": null,
            "align_self": null,
            "border": null,
            "bottom": null,
            "display": null,
            "flex": null,
            "flex_flow": null,
            "grid_area": null,
            "grid_auto_columns": null,
            "grid_auto_flow": null,
            "grid_auto_rows": null,
            "grid_column": null,
            "grid_gap": null,
            "grid_row": null,
            "grid_template_areas": null,
            "grid_template_columns": null,
            "grid_template_rows": null,
            "height": null,
            "justify_content": null,
            "justify_items": null,
            "left": null,
            "margin": null,
            "max_height": null,
            "max_width": null,
            "min_height": null,
            "min_width": null,
            "object_fit": null,
            "object_position": null,
            "order": null,
            "overflow": null,
            "overflow_x": null,
            "overflow_y": null,
            "padding": null,
            "right": null,
            "top": null,
            "visibility": null,
            "width": null
          }
        },
        "8d8185b030a84607bb7c24f293eb701e": {
          "model_module": "@jupyter-widgets/controls",
          "model_name": "ProgressStyleModel",
          "model_module_version": "1.5.0",
          "state": {
            "_model_module": "@jupyter-widgets/controls",
            "_model_module_version": "1.5.0",
            "_model_name": "ProgressStyleModel",
            "_view_count": null,
            "_view_module": "@jupyter-widgets/base",
            "_view_module_version": "1.2.0",
            "_view_name": "StyleView",
            "bar_color": null,
            "description_width": ""
          }
        },
        "269393d3bd7743f289b1d60b0ca1132f": {
          "model_module": "@jupyter-widgets/base",
          "model_name": "LayoutModel",
          "model_module_version": "1.2.0",
          "state": {
            "_model_module": "@jupyter-widgets/base",
            "_model_module_version": "1.2.0",
            "_model_name": "LayoutModel",
            "_view_count": null,
            "_view_module": "@jupyter-widgets/base",
            "_view_module_version": "1.2.0",
            "_view_name": "LayoutView",
            "align_content": null,
            "align_items": null,
            "align_self": null,
            "border": null,
            "bottom": null,
            "display": null,
            "flex": null,
            "flex_flow": null,
            "grid_area": null,
            "grid_auto_columns": null,
            "grid_auto_flow": null,
            "grid_auto_rows": null,
            "grid_column": null,
            "grid_gap": null,
            "grid_row": null,
            "grid_template_areas": null,
            "grid_template_columns": null,
            "grid_template_rows": null,
            "height": null,
            "justify_content": null,
            "justify_items": null,
            "left": null,
            "margin": null,
            "max_height": null,
            "max_width": null,
            "min_height": null,
            "min_width": null,
            "object_fit": null,
            "object_position": null,
            "order": null,
            "overflow": null,
            "overflow_x": null,
            "overflow_y": null,
            "padding": null,
            "right": null,
            "top": null,
            "visibility": null,
            "width": null
          }
        },
        "741eb8913f2f42cd95b5f7da760099ec": {
          "model_module": "@jupyter-widgets/controls",
          "model_name": "DescriptionStyleModel",
          "model_module_version": "1.5.0",
          "state": {
            "_model_module": "@jupyter-widgets/controls",
            "_model_module_version": "1.5.0",
            "_model_name": "DescriptionStyleModel",
            "_view_count": null,
            "_view_module": "@jupyter-widgets/base",
            "_view_module_version": "1.2.0",
            "_view_name": "StyleView",
            "description_width": ""
          }
        }
      }
    }
  },
  "cells": [
    {
      "cell_type": "code",
      "source": [
        "# Extract the file IDs from the URLs\n",
        "file_id_1 = \"1woK_LuOIipPQ9vwhCEd_SNh9EJkBCe2u\"\n",
        "file_id_2 = \"1gesQepPirKYkd1i8cBMYaPOpyCxsDqJ-\"\n",
        "\n",
        "# Create a directory for the downloaded files\n",
        "!mkdir -p downloaded_files\n",
        "\n",
        "# Download the first file\n",
        "!gdown --id {file_id_1} -O downloaded_files/file1.zip\n",
        "\n",
        "# Download the second file\n",
        "!gdown --id {file_id_2} -O downloaded_files/file2.zip\n",
        "\n",
        "# Print the downloaded files to verify\n",
        "!ls -la downloaded_files/"
      ],
      "metadata": {
        "colab": {
          "base_uri": "https://localhost:8080/"
        },
        "id": "dr40RH27aO_6",
        "outputId": "9f3dfcd2-43b5-4a7b-ba90-5d7162343ab0"
      },
      "execution_count": null,
      "outputs": [
        {
          "output_type": "stream",
          "name": "stdout",
          "text": [
            "/usr/local/lib/python3.11/dist-packages/gdown/__main__.py:140: FutureWarning: Option `--id` was deprecated in version 4.3.1 and will be removed in 5.0. You don't need to pass it anymore to use a file ID.\n",
            "  warnings.warn(\n",
            "Downloading...\n",
            "From (original): https://drive.google.com/uc?id=1woK_LuOIipPQ9vwhCEd_SNh9EJkBCe2u\n",
            "From (redirected): https://drive.google.com/uc?id=1woK_LuOIipPQ9vwhCEd_SNh9EJkBCe2u&confirm=t&uuid=ce17a063-642f-43aa-8975-f3b8e5621ecf\n",
            "To: /content/downloaded_files/file1.zip\n",
            "100% 37.8M/37.8M [00:00<00:00, 99.2MB/s]\n",
            "/usr/local/lib/python3.11/dist-packages/gdown/__main__.py:140: FutureWarning: Option `--id` was deprecated in version 4.3.1 and will be removed in 5.0. You don't need to pass it anymore to use a file ID.\n",
            "  warnings.warn(\n",
            "Downloading...\n",
            "From: https://drive.google.com/uc?id=1gesQepPirKYkd1i8cBMYaPOpyCxsDqJ-\n",
            "To: /content/downloaded_files/file2.zip\n",
            "100% 9.42M/9.42M [00:00<00:00, 30.5MB/s]\n",
            "total 46164\n",
            "drwxr-xr-x 2 root root     4096 Apr 19 02:27 .\n",
            "drwxr-xr-x 1 root root     4096 Apr 19 02:27 ..\n",
            "-rw-r--r-- 1 root root 37842855 Mar 31 08:51 file1.zip\n",
            "-rw-r--r-- 1 root root  9419434 Mar 31 08:51 file2.zip\n"
          ]
        }
      ]
    },
    {
      "cell_type": "code",
      "source": [
        "# Unzip the first file\n",
        "!unzip -o -q downloaded_files/file1 -d downloaded_files/file1_contents\n",
        "\n",
        "# Unzip the second file\n",
        "!unzip -o -q downloaded_files/file2 -d downloaded_files/file2_contents"
      ],
      "metadata": {
        "id": "H8FjMcrTbGhy"
      },
      "execution_count": null,
      "outputs": []
    },
    {
      "cell_type": "code",
      "source": [
        "# Basic libraries\n",
        "import numpy as np\n",
        "import pandas as pd\n",
        "import matplotlib.pyplot as plt\n",
        "import os\n",
        "import cv2\n",
        "import random\n",
        "from tqdm import tqdm\n",
        "\n",
        "# Deep learning libraries\n",
        "import tensorflow as tf\n",
        "from tensorflow.keras.models import Sequential, Model\n",
        "from tensorflow.keras.layers import Dense, Dropout, Flatten, Conv2D, MaxPooling2D, Input, BatchNormalization\n",
        "from tensorflow.keras.optimizers import Adam\n",
        "from tensorflow.keras.callbacks import ModelCheckpoint, EarlyStopping, ReduceLROnPlateau\n",
        "from tensorflow.keras.preprocessing.image import ImageDataGenerator\n",
        "\n",
        "# Image processing\n",
        "from PIL import Image\n",
        "from skimage import transform, util, filters, color\n",
        "\n",
        "# For splitting data\n",
        "from sklearn.model_selection import train_test_split\n",
        "\n",
        "# For evaluating results\n",
        "from sklearn.metrics import accuracy_score, confusion_matrix, classification_report"
      ],
      "metadata": {
        "id": "MRevE6WocN8q"
      },
      "execution_count": null,
      "outputs": []
    },
    {
      "cell_type": "code",
      "source": [
        "# Google colab patches\n",
        "from google.colab.patches import cv2_imshow"
      ],
      "metadata": {
        "id": "JPTrEZvfzJ3c"
      },
      "execution_count": null,
      "outputs": []
    },
    {
      "cell_type": "markdown",
      "source": [
        "## Prepro"
      ],
      "metadata": {
        "id": "4Tl2iQc4oj_9"
      }
    },
    {
      "cell_type": "code",
      "source": [
        "train_data_list = ['downloaded_files/file1_contents/train/' + i for i in os.listdir('downloaded_files/file1_contents/train')]\n",
        "test_data_list = ['downloaded_files/file2_contents/test/' + i for i in os.listdir('downloaded_files/file2_contents/test')]\n",
        "\n",
        "train_data_y = [i.replace('-0.png','') for i in os.listdir('downloaded_files/file1_contents/train')]\n",
        "test_data_y = [i.replace('-0.png','') for i in os.listdir('downloaded_files/file2_contents/test')]"
      ],
      "metadata": {
        "id": "XumhQMa8oZGA"
      },
      "execution_count": null,
      "outputs": []
    },
    {
      "cell_type": "markdown",
      "source": [
        "### func clean"
      ],
      "metadata": {
        "id": "3x2I8_8pfcsp"
      }
    },
    {
      "cell_type": "code",
      "source": [
        "import cv2\n",
        "import os\n",
        "import numpy as np\n",
        "from itertools import groupby\n",
        "from operator import itemgetter\n",
        "import imutils\n",
        "\n",
        "def group_consecutive(indices, gap=1):\n",
        "    groups = []\n",
        "    start = indices[0]\n",
        "\n",
        "    for i in range(1, len(indices)):\n",
        "        if indices[i] - indices[i - 1] > gap:\n",
        "            end = indices[i - 1]\n",
        "            groups.append((start, end))\n",
        "            start = indices[i]\n",
        "\n",
        "    # Add the final group\n",
        "    groups.append((start, indices[-1]))\n",
        "    return groups\n",
        "\n",
        "def cut_images(file_path, save_path, labels_list, tolerance=4):\n",
        "    try:\n",
        "        # Load image\n",
        "        image_raw = cv2.imread(file_path)\n",
        "        image = remove_black_pixels_set_to_surrounding(image_raw)\n",
        "\n",
        "        # Create the sharpening kernel\n",
        "        kernel = np.array([[-1, -1, -1],\n",
        "        [-1, 9, -1],\n",
        "        [-1, -1, -1]])\n",
        "\n",
        "        # Apply the sharpening kernel to the image using filter2D\n",
        "        image = cv2.filter2D(image, -1, kernel)\n",
        "\n",
        "        if image is None:\n",
        "            raise ValueError(f\"Could not load image from path: {file_path}\")\n",
        "\n",
        "        gray = cv2.cvtColor(image, cv2.COLOR_BGR2GRAY)\n",
        "        _, binary = cv2.threshold(gray, 180, 255, cv2.THRESH_BINARY)\n",
        "        inverted = 255 - binary\n",
        "\n",
        "        # Get projections\n",
        "        projection_x = np.sum(inverted, axis=0)\n",
        "        projection_y = np.sum(inverted, axis=1)\n",
        "\n",
        "        # Thresholding projection to find regions of interest\n",
        "        mean_x = np.mean(projection_x)\n",
        "        mean_y = np.mean(projection_y)\n",
        "\n",
        "        char_indices_x = np.where(projection_x > mean_x)[0]\n",
        "        char_indices_y = np.where(projection_y > mean_y)[0]\n",
        "\n",
        "        grouped_x = group_consecutive(char_indices_x)\n",
        "        grouped_y = group_consecutive(char_indices_y)\n",
        "\n",
        "        # Error check: labels must match number of x segments\n",
        "        if len(grouped_x) != len(labels_list):\n",
        "            raise ValueError(f\"Label count ({len(labels_list)}) does not match detected character segments ({len(grouped_x)}).\")\n",
        "\n",
        "        # Make output folder\n",
        "        os.makedirs(save_path, exist_ok=True)\n",
        "\n",
        "        height, width = inverted.shape\n",
        "\n",
        "        # Use only the first row group (assumes one line of characters)\n",
        "        if len(grouped_y) == 0:\n",
        "            raise ValueError(\"No horizontal text regions found.\")\n",
        "        y_start, y_end = grouped_y[0]\n",
        "\n",
        "        for idx, (x_start, x_end) in enumerate(grouped_x):\n",
        "            x0 = max(0, x_start - tolerance)\n",
        "            x1 = min(width - 1, x_end + tolerance)\n",
        "            y0 = max(0, y_start - tolerance)\n",
        "            y1 = min(height - 1, y_end + tolerance)\n",
        "\n",
        "            crop = inverted[y0:y1+1, x0:x1+1]\n",
        "            label = labels_list[idx]\n",
        "            filename = os.path.join(save_path, f\"{label}.png\")\n",
        "            cv2.imwrite(filename, crop)\n",
        "            # print(f\"Saved: {filename}\")\n",
        "\n",
        "    except Exception as e:\n",
        "        # print(f\"[ERROR] {e}\")\n",
        "        return \"ERROR\"\n",
        "\n",
        "def group_consecutive(indices, gap=1):\n",
        "    groups = []\n",
        "    start = indices[0]\n",
        "\n",
        "    for i in range(1, len(indices)):\n",
        "        if indices[i] - indices[i - 1] > gap:\n",
        "            end = indices[i - 1]\n",
        "            groups.append((start, end))\n",
        "            start = indices[i]\n",
        "\n",
        "    # Add the final group\n",
        "    groups.append((start, indices[-1]))\n",
        "    return groups\n",
        "\n",
        "def cut_images(file_path, save_path, labels_list, tolerance=4):\n",
        "    \"\"\"Cuts and saves regions of interest from an image.\"\"\"\n",
        "    try:\n",
        "        image_raw = cv2.imread(file_path)\n",
        "        image = remove_black_pixels_set_to_surrounding(image_raw)\n",
        "\n",
        "        gray = cv2.cvtColor(image, cv2.COLOR_BGR2GRAY)\n",
        "        thresh = cv2.threshold(gray, 0, 255, cv2.THRESH_BINARY_INV | cv2.THRESH_OTSU)[1]\n",
        "        contours = cv2.findContours(thresh.copy(), cv2.RETR_EXTERNAL, cv2.CHAIN_APPROX_SIMPLE)\n",
        "        contours = imutils.grab_contours(contours)  # Use imutils to handle OpenCV version differences\n",
        "        contours = sorted(contours, key=cv2.contourArea, reverse=True)\n",
        "\n",
        "        if len(contours) != len(labels_list):\n",
        "          raise ValueError('Inequal Length')\n",
        "\n",
        "        for idx, contour in enumerate(contours):\n",
        "            x, y, w, h = cv2.boundingRect(contour)\n",
        "            roi = gray[y - tolerance : y + h + tolerance, x - tolerance : x + w + tolerance]\n",
        "            filename = os.path.join(save_path, f\"{labels_list[idx]}.png\")\n",
        "            cv2.imwrite(filename, roi)\n",
        "        return None  # Indicate success\n",
        "\n",
        "    except Exception as e:\n",
        "        #print(f\"[ERROR] {e}\") #only print if debugging\n",
        "        return \"ERROR\"\n",
        "def remove_black_pixels(image):\n",
        "  \"\"\"\n",
        "  Removes all black pixels (0, 0, 0) from an RGB image.\n",
        "\n",
        "  Args:\n",
        "    image: A NumPy array representing the RGB image (height, width, 3).\n",
        "\n",
        "  Returns:\n",
        "    A NumPy array representing the image with black pixels removed.\n",
        "  \"\"\"\n",
        "\n",
        "  # Create a mask for non-black pixels\n",
        "  mask = np.any(image != [0, 0, 0], axis=-1)\n",
        "\n",
        "  # Apply the mask to the image\n",
        "  result = image[mask]\n",
        "\n",
        "  return result.reshape((-1, 3)) #reshape to a list of RGB pixels\n",
        "\n",
        "def remove_black_pixels_white(image):\n",
        "    \"\"\"\n",
        "    Removes all black pixels (0, 0, 0) from an RGB image and returns an image with the same shape, where black pixels are replaced with white.\n",
        "    Args:\n",
        "        image: A NumPy array representing the RGB image (height, width, 3).\n",
        "\n",
        "    Returns:\n",
        "        A NumPy array representing the image with black pixels replaced with nan.\n",
        "    \"\"\"\n",
        "    mask = np.all(image == [0, 0, 0], axis=-1)\n",
        "    result = image.astype(int)\n",
        "    result[mask] = [255, 255, 255]\n",
        "    return result\n",
        "\n",
        "def remove_black_pixels_set_to_surrounding(image):\n",
        "    \"\"\"\n",
        "    Removes all black pixels (0, 0, 0) from an RGB image and replaces them with colors from surrounding pixels.\n",
        "\n",
        "    Args:\n",
        "      image: A NumPy array representing the RGB image (height, width, 3).\n",
        "\n",
        "    Returns:\n",
        "      A NumPy array representing the image with black pixels inpainted with surrounding colors.\n",
        "    \"\"\"\n",
        "    # Create a binary mask where black pixels are 0 and non-black pixels are 1\n",
        "    mask = np.all(image == [0, 0, 0], axis=-1).astype(np.uint8)\n",
        "\n",
        "    # Invert the mask for inpainting (inpainting occurs where mask is non-zero)\n",
        "    inpaint_mask = mask * 255\n",
        "\n",
        "    # Use OpenCV's inpainting function to fill black pixels with surrounding colors\n",
        "    # INPAINT_TELEA is an algorithm that considers neighboring pixels to fill in the masked region\n",
        "    result = cv2.inpaint(image, inpaint_mask, inpaintRadius=10, flags=cv2.INPAINT_TELEA)\n",
        "\n",
        "    return result\n",
        "\n",
        "# Alternative approach using Gaussian blur for smaller black regions\n",
        "def remove_black_pixels_with_blur(image):\n",
        "    \"\"\"\n",
        "    Removes small black regions by replacing them with blurred surrounding colors.\n",
        "    Works best for scattered individual black pixels.\n",
        "\n",
        "    Args:\n",
        "      image: A NumPy array representing the RGB image (height, width, 3).\n",
        "\n",
        "    Returns:\n",
        "      A NumPy array representing the image with black pixels replaced.\n",
        "    \"\"\"\n",
        "    # Create a copy of the image\n",
        "    result = image.copy()\n",
        "\n",
        "    # Create a mask of black pixels\n",
        "    mask = np.all(image == [0, 0, 0], axis=-1)\n",
        "\n",
        "    # Create a blurred version of the image\n",
        "    blurred = cv2.GaussianBlur(image, (15, 15), 0)\n",
        "\n",
        "    # Replace black pixels with their corresponding pixels from the blurred image\n",
        "    result[mask] = blurred[mask]\n",
        "\n",
        "    return result"
      ],
      "metadata": {
        "id": "JVAQvzo6fdr1"
      },
      "execution_count": null,
      "outputs": []
    },
    {
      "cell_type": "code",
      "source": [
        "def split_image_v(image, k):\n",
        "  \"\"\"\n",
        "  Splits a 3-channel (e.g., RGB) image vertically into k pieces, rounding the slice width.\n",
        "\n",
        "  Args:\n",
        "    image: A numpy array representing the image, with shape (height, width, 3).\n",
        "    k: The number of pieces to split the image into.\n",
        "\n",
        "  Returns:\n",
        "    A list of numpy arrays, each representing a vertical slice of the image.\n",
        "    If k is not a positive integer, or width is less than k returns an empty list.\n",
        "  \"\"\"\n",
        "\n",
        "  if not isinstance(k, int) or k <= 0 or image.shape[1] < k:\n",
        "    return []  # Invalid k or width too small, return empty list\n",
        "\n",
        "  height, width, channels = image.shape\n",
        "  slice_width = round(width / k)  # Round the slice width\n",
        "\n",
        "  slices = []\n",
        "  start_x = 0\n",
        "  for i in range(k):\n",
        "    end_x = min(start_x + slice_width, width)  # Ensure we don't exceed image bounds\n",
        "    slices.append(image[:, start_x:end_x, :])\n",
        "    start_x = end_x\n",
        "\n",
        "  return slices"
      ],
      "metadata": {
        "id": "-18Ji7-Hf-i9"
      },
      "execution_count": null,
      "outputs": []
    },
    {
      "cell_type": "code",
      "source": [
        "from collections import Counter\n",
        "\n",
        "def get_top_k_colors(img, k=5):\n",
        "    \"\"\"\n",
        "    Gets the top k most frequent colors in an image using OpenCV.\n",
        "\n",
        "    Args:\n",
        "        image_path (str): Path to the image file.\n",
        "        k (int): Number of top colors to retrieve.\n",
        "\n",
        "    Returns:\n",
        "        list: A list of tuples, where each tuple is (color, count), sorted by count\n",
        "              in descending order. Returns None if an error occurs.\n",
        "    \"\"\"\n",
        "    try:\n",
        "        pixels = img.reshape((-1, 3))\n",
        "        pixel_tuples = [tuple(pixel) for pixel in pixels]  # Convert to tuples for Counter\n",
        "\n",
        "        color_counts = Counter(pixel_tuples)\n",
        "        top_k_colors = color_counts.most_common(k)\n",
        "\n",
        "        return top_k_colors\n",
        "\n",
        "    except Exception as e:\n",
        "        print(f\"An error occurred: {e}\")\n",
        "        return None"
      ],
      "metadata": {
        "id": "eHceVvsTz7Z7"
      },
      "execution_count": null,
      "outputs": []
    },
    {
      "cell_type": "code",
      "source": [
        "def filt_top(top_k):\n",
        "  last = 0\n",
        "  cur = 0\n",
        "  fin_list = []\n",
        "  # top_16 = get_top_k_colors(image_no_lines, 16)\n",
        "  for i in range(14):\n",
        "    try:\n",
        "      c1, ct_1 = top_k[i][0], top_k[i][1]\n",
        "      c2, ct_2 = top_k[i+1][0], top_k[i+1][1]\n",
        "      c3, ct_3 = top_k[i+2][0], top_k[i+2][1]\n",
        "\n",
        "      not_allowed = [(0,0,0), (254, 254, 254), (255, 255, 255), (255, 254, 254),(254,255,255), (255,254,255), (255,255,254)]\n",
        "\n",
        "      if c1 in not_allowed:\n",
        "        continue\n",
        "      else:\n",
        "        if ct_1 / 2 < ct_2:\n",
        "          fin_list.append(c1)\n",
        "        elif ct_1 / 2 > ct_2 and ct_2 / 2 > ct_3:\n",
        "          fin_list.append(c1)\n",
        "        else:\n",
        "          fin_list.append(c1)\n",
        "          break\n",
        "    except IndexError:\n",
        "      continue\n",
        "\n",
        "  return len(fin_list)"
      ],
      "metadata": {
        "id": "6UnccpkcJ6EX"
      },
      "execution_count": null,
      "outputs": []
    },
    {
      "cell_type": "code",
      "source": [
        "def stack_images_horizontally(images, spacing=10, color=(128, 128, 128)):\n",
        "    # Resize images to the same height\n",
        "    heights = [img.shape[0] for img in images]\n",
        "    min_height = min(heights)\n",
        "    resized_images = [\n",
        "        cv2.resize(img, (int(img.shape[1] * min_height / img.shape[0]), min_height))\n",
        "        for img in images\n",
        "    ]\n",
        "\n",
        "    # Create spacer image\n",
        "    spacer_width = spacing\n",
        "    spacer_height = min_height\n",
        "    spacer = np.full((spacer_height, spacer_width, 3), color, dtype=np.uint8)\n",
        "\n",
        "    # Stack images with spacers\n",
        "    stacked = resized_images[0]\n",
        "    for img in resized_images[1:]:\n",
        "        stacked = np.hstack((stacked, spacer, img))\n",
        "    cv2_imshow(stacked)\n",
        "    # return stacked\n"
      ],
      "metadata": {
        "id": "nelkcYrKpI_b"
      },
      "execution_count": null,
      "outputs": []
    },
    {
      "cell_type": "markdown",
      "source": [
        "### clear noise"
      ],
      "metadata": {
        "id": "j8zobli_kRaU"
      }
    },
    {
      "cell_type": "code",
      "source": [
        "random_idx = np.random.choice(8000)\n",
        "print(train_data_y[random_idx])\n",
        "image = cv2.imread(train_data_list[random_idx])\n",
        "\n",
        "image = cv2.imread('/content/downloaded_files/file1_contents/train/7qr4opg-0.png')\n",
        "# image = cv2.imread('/content/downloaded_files/file1_contents/train/j18w-0.png')\n",
        "# image = cv2.imread('/content/downloaded_files/file1_contents/train/l1hjnwj-0.png')\n",
        "# image = cv2.imread('/content/downloaded_files/file1_contents/train/480c-0.png')\n",
        "# image = cv2.imread('/content/downloaded_files/file1_contents/train/ykjhkmhc-0.png')\n",
        "# image = cv2.imread('/content/downloaded_files/file1_contents/train/7p6te6h-0.png')\n",
        "# image = cv2.imread('/content/downloaded_files/file1_contents/train/cjzjeas-0.png')\n",
        "# image = cv2.imread('/content/downloaded_files/file1_contents/train/rtphiefz-0.png')\n",
        "# image = cv2.imread('/content/downloaded_files/file1_contents/train/r3w8w7m-0.png')\n",
        "# image = cv2.imread('/content/downloaded_files/file1_contents/train/o1ou-0.png')\n",
        "image_no_lines = remove_black_pixels_set_to_surrounding(image)\n",
        "\n",
        "# Create the sharpening kernel\n",
        "# kernel = np.array([[0, -1, 0], [-1, 4.4, -1], [0, -1, 0]])\n",
        "# Sharpen the image\n",
        "# image_no_lines = cv2.filter2D(image_no_lines, -1, kernel)\n",
        "\n",
        "# image_no_lines = cv2.convertScaleAbs(image_no_lines, alpha=1, beta=1)\n",
        "\n",
        "# image_no_lines = cv2.resize(image_no_lines, (560, 70), interpolation = cv2.INTER_AREA)\n",
        "\n",
        "cv2_imshow(image_no_lines)\n",
        "# cv2_imshow(image)\n",
        "\n",
        "# cutted = separate_pic(image_no_lines)\n",
        "# print (len(cutted))"
      ],
      "metadata": {
        "colab": {
          "base_uri": "https://localhost:8080/",
          "height": 114
        },
        "id": "r5rK2l8ikRx1",
        "outputId": "5b04ebc1-f5a0-436d-b16d-42605e298ce7"
      },
      "execution_count": null,
      "outputs": [
        {
          "output_type": "stream",
          "name": "stdout",
          "text": [
            "uqco\n"
          ]
        },
        {
          "output_type": "display_data",
          "data": {
            "text/plain": [
              "<PIL.Image.Image image mode=RGB size=275x80>"
            ],
            "image/png": "[encoded data removed]",
            "image/jpeg": "[encoded data removed]"
          },
          "metadata": {}
        }
      ]
    },
    {
      "cell_type": "code",
      "source": [
        "cv2_imshow(image)"
      ],
      "metadata": {
        "colab": {
          "base_uri": "https://localhost:8080/",
          "height": 97
        },
        "id": "OdR-ATrPgPfK",
        "outputId": "032cfcfa-8e6f-4e7a-8b90-667336bd2ecb"
      },
      "execution_count": null,
      "outputs": [
        {
          "output_type": "display_data",
          "data": {
            "text/plain": [
              "<PIL.Image.Image image mode=RGB size=295x80>"
            ],
            "image/png": "[encoded data removed]",
            "image/jpeg": "[encoded data removed]"
          },
          "metadata": {}
        }
      ]
    },
    {
      "cell_type": "code",
      "source": [
        "def filter_overlapping_tuples(tuples_list):\n",
        "    \"\"\"\n",
        "    Filter out tuples that overlap with at least 90% with larger tuples.\n",
        "\n",
        "    Args:\n",
        "        tuples_list: List of tuples in the form (a, b) where a < b and both are integers\n",
        "\n",
        "    Returns:\n",
        "        List of tuples after filtering out those with 90% or more overlap with larger tuples\n",
        "    \"\"\"\n",
        "    if not tuples_list:\n",
        "        return []\n",
        "\n",
        "    # Sort tuples by size (b-a) in descending order\n",
        "    sorted_tuples = sorted(tuples_list, key=lambda t: t[1] - t[0], reverse=True)\n",
        "\n",
        "    result = []\n",
        "\n",
        "    for i, (a1, b1) in enumerate(sorted_tuples):\n",
        "        should_keep = True\n",
        "        size1 = b1 - a1\n",
        "\n",
        "        for j, (a2, b2) in enumerate(result):\n",
        "            size2 = b2 - a2\n",
        "\n",
        "            # Calculate overlap\n",
        "            overlap_start = max(a1, a2)\n",
        "            overlap_end = min(b1, b2)\n",
        "\n",
        "            if overlap_start < overlap_end:  # There is an overlap\n",
        "                overlap_size = overlap_end - overlap_start\n",
        "\n",
        "                # Calculate overlap percentage relative to the current tuple\n",
        "                overlap_percentage = overlap_size / size1\n",
        "\n",
        "                if overlap_percentage >= 0.8:  # 90% or more overlap\n",
        "                    should_keep = False\n",
        "                    break\n",
        "\n",
        "        if should_keep:\n",
        "            result.append((a1, b1))\n",
        "\n",
        "    return result"
      ],
      "metadata": {
        "id": "71LXXguHavnu"
      },
      "execution_count": null,
      "outputs": []
    },
    {
      "cell_type": "code",
      "source": [
        "stack_images_horizontally(x)"
      ],
      "metadata": {
        "id": "ok-4Iyq1guxq",
        "outputId": "19b6f78c-644d-48f9-ca9a-72332b86c495",
        "colab": {
          "base_uri": "https://localhost:8080/",
          "height": 97
        }
      },
      "execution_count": null,
      "outputs": [
        {
          "output_type": "display_data",
          "data": {
            "text/plain": [
              "<PIL.Image.Image image mode=RGB size=216x80>"
            ],
            "image/png": "[encoded data removed]",
            "image/jpeg": "[encoded data removed]"
          },
          "metadata": {}
        }
      ]
    },
    {
      "cell_type": "code",
      "source": [
        "x = separate_line_white(image_no_lines)\n",
        "xv = np.hstack(x)\n",
        "xvs = separate_pic(xv)\n",
        "# stack_images_horizontally(xvs)\n",
        "\n",
        "if len(x) > len(xvs) and len(x) < 9:\n",
        "  fin = x\n",
        "else:\n",
        "  fin = xvs\n",
        "\n",
        "stack_images_horizontally(fin)\n"
      ],
      "metadata": {
        "colab": {
          "base_uri": "https://localhost:8080/",
          "height": 97
        },
        "id": "IypnF18mlNAv",
        "outputId": "a868a05b-9cb8-499d-fdb3-94e1c49f6e6e"
      },
      "execution_count": null,
      "outputs": [
        {
          "output_type": "display_data",
          "data": {
            "text/plain": [
              "<PIL.Image.Image image mode=RGB size=252x80>"
            ],
            "image/png": "[encoded data removed]",
            "image/jpeg": "[encoded data removed]"
          },
          "metadata": {}
        }
      ]
    },
    {
      "cell_type": "code",
      "source": [
        "cutted = separate_pic(image_no_lines)\n",
        "print (len(cutted))\n",
        "stack_images_horizontally(cutted)\n",
        "# cv2_imshow(cutted[0])"
      ],
      "metadata": {
        "colab": {
          "base_uri": "https://localhost:8080/",
          "height": 149
        },
        "id": "2IVrS_DfoiZs",
        "outputId": "cf8800bb-93bd-4c7d-cc31-c4d1204d17c3"
      },
      "execution_count": null,
      "outputs": [
        {
          "output_type": "stream",
          "name": "stdout",
          "text": [
            "138 550\n",
            "<class 'numpy.ndarray'>\n",
            "1\n"
          ]
        },
        {
          "output_type": "display_data",
          "data": {
            "text/plain": [
              "<PIL.Image.Image image mode=RGB size=418x80>"
            ],
            "image/png": "[encoded data removed]",
            "image/jpeg": "[encoded data removed]"
          },
          "metadata": {}
        }
      ]
    },
    {
      "cell_type": "code",
      "source": [
        "get_top_k_colors(separate_line_white(image_no_lines)[3], k=10)"
      ],
      "metadata": {
        "colab": {
          "base_uri": "https://localhost:8080/"
        },
        "id": "9nXObLZdkthK",
        "outputId": "ad9b6efe-a8df-4a8e-a7d1-53d01482d0e9"
      },
      "execution_count": null,
      "outputs": [
        {
          "output_type": "execute_result",
          "data": {
            "text/plain": [
              "[((np.uint8(255), np.uint8(255), np.uint8(255)), 4813),\n",
              " ((np.uint8(68), np.uint8(164), np.uint8(136)), 398),\n",
              " ((np.uint8(42), np.uint8(148), np.uint8(200)), 277),\n",
              " ((np.uint8(254), np.uint8(255), np.uint8(255)), 12),\n",
              " ((np.uint8(253), np.uint8(254), np.uint8(255)), 5),\n",
              " ((np.uint8(76), np.uint8(168), np.uint8(141)), 5),\n",
              " ((np.uint8(46), np.uint8(150), np.uint8(201)), 5),\n",
              " ((np.uint8(124), np.uint8(189), np.uint8(221)), 4),\n",
              " ((np.uint8(216), np.uint8(236), np.uint8(230)), 4),\n",
              " ((np.uint8(72), np.uint8(166), np.uint8(139)), 4)]"
            ]
          },
          "metadata": {},
          "execution_count": 227
        }
      ]
    },
    {
      "cell_type": "code",
      "source": [
        "def convert_lists_to_tuples(lists):\n",
        "    \"\"\"\n",
        "    Convert lists of consecutive integers to (min, max) tuples\n",
        "\n",
        "    Args:\n",
        "        lists: List of lists, where each inner list contains consecutive integers\n",
        "\n",
        "    Returns:\n",
        "        List of tuples (min, max) representing the ranges\n",
        "    \"\"\"\n",
        "    tuples = []\n",
        "    for lst in lists:\n",
        "        if lst:  # Ensure list is not empty\n",
        "            tuples.append((min(lst), max(lst)))\n",
        "    return tuples\n",
        "\n",
        "def filter_overlapping_tuples(tuples_list):\n",
        "    \"\"\"\n",
        "    Filter out tuples that overlap with at least 90% with larger tuples.\n",
        "\n",
        "    Args:\n",
        "        tuples_list: List of tuples in the form (a, b) where a < b and both are integers\n",
        "\n",
        "    Returns:\n",
        "        List of tuples after filtering out those with 90% or more overlap with larger tuples\n",
        "    \"\"\"\n",
        "    if not tuples_list:\n",
        "        return []\n",
        "\n",
        "    # Sort tuples by size (b-a) in descending order\n",
        "    sorted_tuples = sorted(tuples_list, key=lambda t: t[1] - t[0], reverse=True)\n",
        "\n",
        "    result = []\n",
        "\n",
        "    for i, (a1, b1) in enumerate(sorted_tuples):\n",
        "        should_keep = True\n",
        "        size1 = b1 - a1\n",
        "\n",
        "        for j, (a2, b2) in enumerate(result):\n",
        "            size2 = b2 - a2\n",
        "\n",
        "            # Calculate overlap\n",
        "            overlap_start = max(a1, a2)\n",
        "            overlap_end = min(b1, b2)\n",
        "\n",
        "            if overlap_start <= overlap_end:  # There is an overlap\n",
        "                overlap_size = overlap_end - overlap_start + 1  # +1 because ranges are inclusive\n",
        "\n",
        "                # Calculate overlap percentage relative to the current tuple\n",
        "                overlap_percentage = overlap_size / (size1 + 1)  # +1 because ranges are inclusive\n",
        "\n",
        "                if overlap_percentage >= 0.9:  # 90% or more overlap\n",
        "                    should_keep = False\n",
        "                    break\n",
        "\n",
        "        if should_keep:\n",
        "            result.append((a1, b1))\n",
        "\n",
        "    return result\n",
        "\n",
        "def process_input_lists(lists):\n",
        "    \"\"\"\n",
        "    Process lists of consecutive integers, convert to tuples, filter overlapping ones,\n",
        "    and return the filtered tuples.\n",
        "\n",
        "    Args:\n",
        "        lists: List of lists, where each inner list contains consecutive integers\n",
        "\n",
        "    Returns:\n",
        "        List of tuples after filtering out those with significant overlap\n",
        "    \"\"\"\n",
        "    tuples = convert_lists_to_tuples(lists)\n",
        "    filtered_tuples = filter_overlapping_tuples(tuples)\n",
        "    return filtered_tuples\n",
        "\n",
        "def convert_tuples_to_lists(tuples):\n",
        "    \"\"\"\n",
        "    Convert tuples back to lists of consecutive integers\n",
        "\n",
        "    Args:\n",
        "        tuples: List of tuples (min, max) representing ranges\n",
        "\n",
        "    Returns:\n",
        "        List of lists, where each inner list contains all integers in the range\n",
        "    \"\"\"\n",
        "    result = []\n",
        "    for a, b in tuples:\n",
        "        result.append(list(range(a, b + 1)))  # +1 to include the end value\n",
        "    return result"
      ],
      "metadata": {
        "id": "hemPkhpfbIZV"
      },
      "execution_count": null,
      "outputs": []
    },
    {
      "cell_type": "code",
      "source": [
        "def separate_line_white(image_input):\n",
        "  important = None  # Initialize a variable to store important image data\n",
        "  important_idx = []  # Initialize a list to store indices of important columns\n",
        "  height = image_input.shape[1]  # Get the height of the image (though this looks like width based on usage)\n",
        "  image_avg = image_input.mean(axis=2)  # Calculate average across color channels (converting to grayscale)\n",
        "\n",
        "  # Iterate through each column of the image\n",
        "  for i in range(image_input.shape[1]):\n",
        "      l = image_avg[:, i]  # Get the grayscale values for column i\n",
        "      l_mean = l.mean()  # Calculate the mean value of the column\n",
        "      if l_mean <= 254:  # If the mean value is not completely white (allowing for small deviations)\n",
        "          important_idx.append(i)  # Add this column index to important indices\n",
        "          if important is not None:\n",
        "              important = np.vstack([important, l])  # Add column to existing important data\n",
        "          else:\n",
        "              important = l  # Initialize important data with this column\n",
        "\n",
        "  # Group consecutive column indices to identify continuous regions\n",
        "  groups = group_consecutive(important_idx)\n",
        "  group_ct = len(groups)  # Count how many separate groups/regions exist\n",
        "  # print(group_ct)  # Print the number of regions\n",
        "\n",
        "  clean = list()  # Initialize a list to store processed image regions\n",
        "  for a, b in groups:\n",
        "    clean.append(image_input[:, a-3:b+3])\n",
        "  return clean\n",
        "\n",
        "def separate_pic(image_input):\n",
        "  clean = list()  # Initialize a list to store processed image regions\n",
        "\n",
        "  # Determine how many top colors to analyze\n",
        "  suspect_amt = filt_top(get_top_k_colors(image_input, 11))\n",
        "  # print(suspect_amt)  # Print the number of colors to analyze\n",
        "\n",
        "  color_column_indices_list = []  # Initialize a list to store column indices for each color\n",
        "\n",
        "  # For each prominent color in the image\n",
        "  for color_data in get_top_k_colors(image_input, suspect_amt + 1):\n",
        "      rgb_val = color_data[0]  # Get the RGB value of the color\n",
        "      if rgb_val == (255, 255, 255):\n",
        "          continue  # Skip white pixels as they're not informative\n",
        "\n",
        "      column_indices = []  # Initialize a list to store columns containing this color\n",
        "\n",
        "      # Check each column for the presence of this color\n",
        "      for col_idx in range(image_input.shape[1]):\n",
        "          column = image_input[:, col_idx]  # Extract the column\n",
        "          for pixel in column:\n",
        "              if tuple(pixel) == rgb_val:  # Compare the pixel's RGB value to the target color\n",
        "                  column_indices.append(col_idx)  # If found, record this column\n",
        "                  break  # Once found in a column, no need to check more pixels in same column\n",
        "\n",
        "      color_column_indices_list.append(column_indices)  # Add the list of columns for this color\n",
        "\n",
        "  filtered_tuples = process_input_lists(color_column_indices_list)\n",
        "  color_column_indices_list = convert_tuples_to_lists(filtered_tuples)\n",
        "\n",
        "  # Find the leftmost position (minimum index) for each color\n",
        "  min_list = np.array([])\n",
        "  for k in color_column_indices_list:\n",
        "      a = np.min(k)  # Find leftmost position of this color\n",
        "      b = np.max(k)  # Find rightmost position of this color (not used here)\n",
        "      min_list = np.append(min_list, a)  # Add the minimum position to our list\n",
        "\n",
        "  # Sort the colors by their leftmost appearance in the image\n",
        "  list_of_order = min_list[np.argsort(min_list)]\n",
        "\n",
        "  # Initialize a list to store image regions, one per color\n",
        "  clean = [0] * len(color_column_indices_list)\n",
        "\n",
        "  # Extract image regions for each color based on their sorted order\n",
        "  for k in color_column_indices_list:\n",
        "      a = np.min(k)   # Leftmost column for this color\n",
        "      b = np.max(k)  # Rightmost column for this color\n",
        "      # print (a, b)\n",
        "      idx = np.where(list_of_order == a)[0][0]  # Find the position of this color in the sorted order\n",
        "      # print (type(image_input))\n",
        "      clean[idx] = image_input[:, max(0, a - 3):min(image_input.shape[1],b + 3)]  # Extract the image region spanning from leftmost to rightmost\n",
        "\n",
        "  return clean"
      ],
      "metadata": {
        "id": "wwY2NAXy2oKq"
      },
      "execution_count": null,
      "outputs": []
    },
    {
      "cell_type": "code",
      "source": [
        "def whole_prepro(img_path, save_path, saver=False):\n",
        "  image = cv2.imread(img_path)\n",
        "  # cv2_imshow(image)\n",
        "  image_no_lines = remove_black_pixels_set_to_surrounding(image)\n",
        "  x = separate_line_white(image_no_lines)\n",
        "  xv = np.hstack(x)\n",
        "  xvs = separate_pic(xv)\n",
        "\n",
        "  if len(x) > len(xvs) and len(x) < 9:\n",
        "    fin = x\n",
        "  else:\n",
        "    fin = xvs\n",
        "\n",
        "  namestr = img_path.split('/')[-1].replace('-0.png','')\n",
        "\n",
        "  if saver:\n",
        "    for i, (pic, name) in enumerate(zip(fin, namestr)):\n",
        "      try:\n",
        "        cv2.imwrite(os.path.join(save_path, f\"pic_{namestr}_{i}_{name}.png\"), pic)\n",
        "      except Exception as e:\n",
        "        continue\n",
        "  else:\n",
        "    pass\n",
        "\n",
        "  return fin"
      ],
      "metadata": {
        "id": "7WbOwZAoS3CU"
      },
      "execution_count": null,
      "outputs": []
    },
    {
      "cell_type": "markdown",
      "source": [
        "### rule-based cut"
      ],
      "metadata": {
        "id": "2CVwPNvTkNU_"
      }
    },
    {
      "cell_type": "code",
      "source": [
        "import shutil\n",
        "\n",
        "shutil.rmtree('train_crops')"
      ],
      "metadata": {
        "id": "-Y-wM3DLPscM"
      },
      "execution_count": null,
      "outputs": []
    },
    {
      "cell_type": "code",
      "source": [
        "import os\n",
        "from tqdm import tqdm\n",
        "\n",
        "def process_images_with_tqdm(train_data_list, train_data_y, save_path_train, tolerance=4):\n",
        "    \"\"\"Processes images using cut_images and displays progress with tqdm.\"\"\"\n",
        "\n",
        "    errors = 0\n",
        "    for file_path, file_name in tqdm(zip(train_data_list, train_data_y), total=len(train_data_list), desc=\"Processing images\"):\n",
        "        list_of_label = list(file_name)\n",
        "        if len(list_of_label) != len(whole_prepro(file_path, save_path_train)):\n",
        "          errors += 1\n",
        "          print(errors)\n",
        "        else:\n",
        "          whole_prepro(file_path, save_path_train, saver=True)\n",
        "\n",
        "    return errors\n",
        "\n",
        "save_path_train = \"train_crops\"\n",
        "\n",
        "# Ensure the output directory exists\n",
        "os.makedirs(save_path_train, exist_ok=True)\n",
        "\n",
        "errors_count = process_images_with_tqdm(train_data_list, train_data_y, save_path_train)\n",
        "\n",
        "print(f\"Total errors: {errors_count}\")"
      ],
      "metadata": {
        "colab": {
          "base_uri": "https://localhost:8080/"
        },
        "id": "AIBJSxHHir3S",
        "outputId": "4590406f-9409-4be5-e109-aa57292e39ae"
      },
      "execution_count": null,
      "outputs": [
        {
          "output_type": "stream",
          "name": "stderr",
          "text": [
            "Processing images:   0%|          | 16/8010 [00:04<24:12,  5.50it/s]"
          ]
        },
        {
          "output_type": "stream",
          "name": "stdout",
          "text": [
            "1\n"
          ]
        },
        {
          "output_type": "stream",
          "name": "stderr",
          "text": [
            "Processing images:   0%|          | 24/8010 [00:05<26:11,  5.08it/s]"
          ]
        },
        {
          "output_type": "stream",
          "name": "stdout",
          "text": [
            "2\n"
          ]
        },
        {
          "output_type": "stream",
          "name": "stderr",
          "text": [
            "Processing images:   1%|          | 51/8010 [00:14<54:16,  2.44it/s]"
          ]
        },
        {
          "output_type": "stream",
          "name": "stdout",
          "text": [
            "3\n"
          ]
        },
        {
          "output_type": "stream",
          "name": "stderr",
          "text": [
            "Processing images:   1%|          | 64/8010 [00:18<30:16,  4.37it/s]"
          ]
        },
        {
          "output_type": "stream",
          "name": "stdout",
          "text": [
            "4\n"
          ]
        },
        {
          "output_type": "stream",
          "name": "stderr",
          "text": [
            "Processing images:   1%|          | 72/8010 [00:20<24:53,  5.32it/s]"
          ]
        },
        {
          "output_type": "stream",
          "name": "stdout",
          "text": [
            "5\n"
          ]
        },
        {
          "output_type": "stream",
          "name": "stderr",
          "text": [
            "\rProcessing images:   1%|          | 73/8010 [00:20<23:47,  5.56it/s]"
          ]
        },
        {
          "output_type": "stream",
          "name": "stdout",
          "text": [
            "6\n"
          ]
        },
        {
          "output_type": "stream",
          "name": "stderr",
          "text": [
            "Processing images:   1%|          | 85/8010 [00:23<28:53,  4.57it/s]"
          ]
        },
        {
          "output_type": "stream",
          "name": "stdout",
          "text": [
            "7\n"
          ]
        },
        {
          "output_type": "stream",
          "name": "stderr",
          "text": [
            "Processing images:   1%|          | 94/8010 [00:26<46:10,  2.86it/s]"
          ]
        },
        {
          "output_type": "stream",
          "name": "stdout",
          "text": [
            "8\n"
          ]
        },
        {
          "output_type": "stream",
          "name": "stderr",
          "text": [
            "Processing images:   1%|▏         | 105/8010 [00:29<27:07,  4.86it/s]"
          ]
        },
        {
          "output_type": "stream",
          "name": "stdout",
          "text": [
            "9\n"
          ]
        },
        {
          "output_type": "stream",
          "name": "stderr",
          "text": [
            "Processing images:   1%|▏         | 118/8010 [00:32<29:15,  4.50it/s]"
          ]
        },
        {
          "output_type": "stream",
          "name": "stdout",
          "text": [
            "10\n"
          ]
        },
        {
          "output_type": "stream",
          "name": "stderr",
          "text": [
            "Processing images:   2%|▏         | 126/8010 [00:35<29:53,  4.40it/s]"
          ]
        },
        {
          "output_type": "stream",
          "name": "stdout",
          "text": [
            "11\n"
          ]
        },
        {
          "output_type": "stream",
          "name": "stderr",
          "text": [
            "Processing images:   2%|▏         | 140/8010 [00:40<37:12,  3.52it/s]"
          ]
        },
        {
          "output_type": "stream",
          "name": "stdout",
          "text": [
            "12\n"
          ]
        },
        {
          "output_type": "stream",
          "name": "stderr",
          "text": [
            "Processing images:   2%|▏         | 153/8010 [00:44<30:01,  4.36it/s]"
          ]
        },
        {
          "output_type": "stream",
          "name": "stdout",
          "text": [
            "13\n"
          ]
        },
        {
          "output_type": "stream",
          "name": "stderr",
          "text": [
            "Processing images:   2%|▏         | 155/8010 [00:44<34:10,  3.83it/s]"
          ]
        },
        {
          "output_type": "stream",
          "name": "stdout",
          "text": [
            "14\n"
          ]
        },
        {
          "output_type": "stream",
          "name": "stderr",
          "text": [
            "Processing images:   2%|▏         | 164/8010 [00:47<32:32,  4.02it/s]"
          ]
        },
        {
          "output_type": "stream",
          "name": "stdout",
          "text": [
            "15\n"
          ]
        },
        {
          "output_type": "stream",
          "name": "stderr",
          "text": [
            "Processing images:   2%|▏         | 169/8010 [00:48<25:18,  5.16it/s]"
          ]
        },
        {
          "output_type": "stream",
          "name": "stdout",
          "text": [
            "16\n"
          ]
        },
        {
          "output_type": "stream",
          "name": "stderr",
          "text": [
            "Processing images:   2%|▏         | 188/8010 [00:55<34:13,  3.81it/s]"
          ]
        },
        {
          "output_type": "stream",
          "name": "stdout",
          "text": [
            "17\n",
            "18\n"
          ]
        },
        {
          "output_type": "stream",
          "name": "stderr",
          "text": [
            "Processing images:   2%|▏         | 191/8010 [00:55<27:59,  4.66it/s]"
          ]
        },
        {
          "output_type": "stream",
          "name": "stdout",
          "text": [
            "19\n"
          ]
        },
        {
          "output_type": "stream",
          "name": "stderr",
          "text": [
            "Processing images:   3%|▎         | 205/8010 [00:59<26:31,  4.90it/s]"
          ]
        },
        {
          "output_type": "stream",
          "name": "stdout",
          "text": [
            "20\n"
          ]
        },
        {
          "output_type": "stream",
          "name": "stderr",
          "text": [
            "Processing images:   3%|▎         | 223/8010 [01:05<43:19,  3.00it/s]"
          ]
        },
        {
          "output_type": "stream",
          "name": "stdout",
          "text": [
            "21\n"
          ]
        },
        {
          "output_type": "stream",
          "name": "stderr",
          "text": [
            "Processing images:   3%|▎         | 235/8010 [01:09<35:51,  3.61it/s]"
          ]
        },
        {
          "output_type": "stream",
          "name": "stdout",
          "text": [
            "22\n"
          ]
        },
        {
          "output_type": "stream",
          "name": "stderr",
          "text": [
            "\rProcessing images:   3%|▎         | 236/8010 [01:09<36:21,  3.56it/s]"
          ]
        },
        {
          "output_type": "stream",
          "name": "stdout",
          "text": [
            "23\n"
          ]
        },
        {
          "output_type": "stream",
          "name": "stderr",
          "text": [
            "Processing images:   3%|▎         | 274/8010 [01:20<41:02,  3.14it/s]"
          ]
        },
        {
          "output_type": "stream",
          "name": "stdout",
          "text": [
            "24\n"
          ]
        },
        {
          "output_type": "stream",
          "name": "stderr",
          "text": [
            "Processing images:   3%|▎         | 278/8010 [01:21<29:57,  4.30it/s]"
          ]
        },
        {
          "output_type": "stream",
          "name": "stdout",
          "text": [
            "25\n"
          ]
        },
        {
          "output_type": "stream",
          "name": "stderr",
          "text": [
            "Processing images:   4%|▎         | 283/8010 [01:23<41:21,  3.11it/s]"
          ]
        },
        {
          "output_type": "stream",
          "name": "stdout",
          "text": [
            "26\n"
          ]
        },
        {
          "output_type": "stream",
          "name": "stderr",
          "text": [
            "Processing images:   4%|▎         | 292/8010 [01:25<30:00,  4.29it/s]"
          ]
        },
        {
          "output_type": "stream",
          "name": "stdout",
          "text": [
            "27\n"
          ]
        },
        {
          "output_type": "stream",
          "name": "stderr",
          "text": [
            "Processing images:   4%|▍         | 309/8010 [01:31<36:08,  3.55it/s]"
          ]
        },
        {
          "output_type": "stream",
          "name": "stdout",
          "text": [
            "28\n"
          ]
        },
        {
          "output_type": "stream",
          "name": "stderr",
          "text": [
            "Processing images:   4%|▍         | 317/8010 [01:33<28:58,  4.42it/s]"
          ]
        },
        {
          "output_type": "stream",
          "name": "stdout",
          "text": [
            "29\n"
          ]
        },
        {
          "output_type": "stream",
          "name": "stderr",
          "text": [
            "Processing images:   4%|▍         | 347/8010 [01:44<51:16,  2.49it/s]"
          ]
        },
        {
          "output_type": "stream",
          "name": "stdout",
          "text": [
            "30\n"
          ]
        },
        {
          "output_type": "stream",
          "name": "stderr",
          "text": [
            "Processing images:   5%|▍         | 375/8010 [01:52<40:01,  3.18it/s]"
          ]
        },
        {
          "output_type": "stream",
          "name": "stdout",
          "text": [
            "31\n"
          ]
        },
        {
          "output_type": "stream",
          "name": "stderr",
          "text": [
            "Processing images:   5%|▍         | 382/8010 [01:55<34:33,  3.68it/s]"
          ]
        },
        {
          "output_type": "stream",
          "name": "stdout",
          "text": [
            "32\n"
          ]
        },
        {
          "output_type": "stream",
          "name": "stderr",
          "text": [
            "Processing images:   5%|▌         | 404/8010 [02:00<25:15,  5.02it/s]"
          ]
        },
        {
          "output_type": "stream",
          "name": "stdout",
          "text": [
            "33\n"
          ]
        },
        {
          "output_type": "stream",
          "name": "stderr",
          "text": [
            "Processing images:   5%|▌         | 408/8010 [02:01<17:55,  7.07it/s]"
          ]
        },
        {
          "output_type": "stream",
          "name": "stdout",
          "text": [
            "34\n",
            "35\n"
          ]
        },
        {
          "output_type": "stream",
          "name": "stderr",
          "text": [
            "Processing images:   5%|▌         | 414/8010 [02:02<31:56,  3.96it/s]"
          ]
        },
        {
          "output_type": "stream",
          "name": "stdout",
          "text": [
            "36\n"
          ]
        },
        {
          "output_type": "stream",
          "name": "stderr",
          "text": [
            "Processing images:   5%|▌         | 417/8010 [02:03<25:26,  4.97it/s]"
          ]
        },
        {
          "output_type": "stream",
          "name": "stdout",
          "text": [
            "37\n"
          ]
        },
        {
          "output_type": "stream",
          "name": "stderr",
          "text": [
            "Processing images:   5%|▌         | 419/8010 [02:03<23:16,  5.43it/s]"
          ]
        },
        {
          "output_type": "stream",
          "name": "stdout",
          "text": [
            "38\n"
          ]
        },
        {
          "output_type": "stream",
          "name": "stderr",
          "text": [
            "Processing images:   5%|▌         | 422/8010 [02:04<22:05,  5.72it/s]"
          ]
        },
        {
          "output_type": "stream",
          "name": "stdout",
          "text": [
            "39\n"
          ]
        },
        {
          "output_type": "stream",
          "name": "stderr",
          "text": [
            "Processing images:   6%|▌         | 456/8010 [02:15<30:57,  4.07it/s]"
          ]
        },
        {
          "output_type": "stream",
          "name": "stdout",
          "text": [
            "40\n"
          ]
        },
        {
          "output_type": "stream",
          "name": "stderr",
          "text": [
            "\rProcessing images:   6%|▌         | 458/8010 [02:15<27:43,  4.54it/s]"
          ]
        },
        {
          "output_type": "stream",
          "name": "stdout",
          "text": [
            "41\n"
          ]
        },
        {
          "output_type": "stream",
          "name": "stderr",
          "text": [
            "Processing images:   6%|▌         | 474/8010 [02:21<27:43,  4.53it/s]"
          ]
        },
        {
          "output_type": "stream",
          "name": "stdout",
          "text": [
            "42\n"
          ]
        },
        {
          "output_type": "stream",
          "name": "stderr",
          "text": [
            "\rProcessing images:   6%|▌         | 475/8010 [02:21<47:41,  2.63it/s]"
          ]
        },
        {
          "output_type": "stream",
          "name": "stdout",
          "text": [
            "43\n"
          ]
        },
        {
          "output_type": "stream",
          "name": "stderr",
          "text": [
            "Processing images:   6%|▌         | 487/8010 [02:25<44:42,  2.80it/s]"
          ]
        },
        {
          "output_type": "stream",
          "name": "stdout",
          "text": [
            "44\n"
          ]
        },
        {
          "output_type": "stream",
          "name": "stderr",
          "text": [
            "Processing images:   6%|▌         | 491/8010 [02:26<32:10,  3.89it/s]"
          ]
        },
        {
          "output_type": "stream",
          "name": "stdout",
          "text": [
            "45\n"
          ]
        },
        {
          "output_type": "stream",
          "name": "stderr",
          "text": [
            "Processing images:   6%|▋         | 502/8010 [02:29<27:16,  4.59it/s]"
          ]
        },
        {
          "output_type": "stream",
          "name": "stdout",
          "text": [
            "46\n",
            "47\n"
          ]
        },
        {
          "output_type": "stream",
          "name": "stderr",
          "text": [
            "Processing images:   6%|▋         | 507/8010 [02:31<45:28,  2.75it/s]"
          ]
        },
        {
          "output_type": "stream",
          "name": "stdout",
          "text": [
            "48\n"
          ]
        },
        {
          "output_type": "stream",
          "name": "stderr",
          "text": [
            "Processing images:   6%|▋         | 512/8010 [02:32<29:06,  4.29it/s]"
          ]
        },
        {
          "output_type": "stream",
          "name": "stdout",
          "text": [
            "49\n"
          ]
        },
        {
          "output_type": "stream",
          "name": "stderr",
          "text": [
            "Processing images:   7%|▋         | 532/8010 [02:38<26:10,  4.76it/s]"
          ]
        },
        {
          "output_type": "stream",
          "name": "stdout",
          "text": [
            "50\n"
          ]
        },
        {
          "output_type": "stream",
          "name": "stderr",
          "text": [
            "Processing images:   7%|▋         | 550/8010 [02:44<55:29,  2.24it/s]  "
          ]
        },
        {
          "output_type": "stream",
          "name": "stdout",
          "text": [
            "51\n"
          ]
        },
        {
          "output_type": "stream",
          "name": "stderr",
          "text": [
            "\rProcessing images:   7%|▋         | 551/8010 [02:44<47:09,  2.64it/s]"
          ]
        },
        {
          "output_type": "stream",
          "name": "stdout",
          "text": [
            "52\n"
          ]
        },
        {
          "output_type": "stream",
          "name": "stderr",
          "text": [
            "Processing images:   7%|▋         | 570/8010 [02:50<23:49,  5.21it/s]"
          ]
        },
        {
          "output_type": "stream",
          "name": "stdout",
          "text": [
            "53\n"
          ]
        },
        {
          "output_type": "stream",
          "name": "stderr",
          "text": [
            "Processing images:   7%|▋         | 585/8010 [02:54<29:51,  4.14it/s]"
          ]
        },
        {
          "output_type": "stream",
          "name": "stdout",
          "text": [
            "54\n"
          ]
        },
        {
          "output_type": "stream",
          "name": "stderr",
          "text": [
            "Processing images:   7%|▋         | 590/8010 [02:56<36:53,  3.35it/s]"
          ]
        },
        {
          "output_type": "stream",
          "name": "stdout",
          "text": [
            "55\n",
            "56\n"
          ]
        },
        {
          "output_type": "stream",
          "name": "stderr",
          "text": [
            "Processing images:   8%|▊         | 603/8010 [03:00<28:19,  4.36it/s]"
          ]
        },
        {
          "output_type": "stream",
          "name": "stdout",
          "text": [
            "57\n"
          ]
        },
        {
          "output_type": "stream",
          "name": "stderr",
          "text": [
            "Processing images:   8%|▊         | 608/8010 [03:01<31:59,  3.86it/s]"
          ]
        },
        {
          "output_type": "stream",
          "name": "stdout",
          "text": [
            "58\n"
          ]
        },
        {
          "output_type": "stream",
          "name": "stderr",
          "text": [
            "Processing images:   8%|▊         | 625/8010 [03:06<1:03:19,  1.94it/s]"
          ]
        },
        {
          "output_type": "stream",
          "name": "stdout",
          "text": [
            "59\n"
          ]
        },
        {
          "output_type": "stream",
          "name": "stderr",
          "text": [
            "Processing images:   8%|▊         | 631/8010 [03:08<47:49,  2.57it/s]"
          ]
        },
        {
          "output_type": "stream",
          "name": "stdout",
          "text": [
            "60\n"
          ]
        },
        {
          "output_type": "stream",
          "name": "stderr",
          "text": [
            "Processing images:   8%|▊         | 635/8010 [03:10<40:41,  3.02it/s]"
          ]
        },
        {
          "output_type": "stream",
          "name": "stdout",
          "text": [
            "61\n"
          ]
        },
        {
          "output_type": "stream",
          "name": "stderr",
          "text": [
            "Processing images:   8%|▊         | 651/8010 [03:15<28:09,  4.35it/s]"
          ]
        },
        {
          "output_type": "stream",
          "name": "stdout",
          "text": [
            "62\n"
          ]
        },
        {
          "output_type": "stream",
          "name": "stderr",
          "text": [
            "Processing images:   8%|▊         | 659/8010 [03:18<53:32,  2.29it/s]"
          ]
        },
        {
          "output_type": "stream",
          "name": "stdout",
          "text": [
            "63\n"
          ]
        },
        {
          "output_type": "stream",
          "name": "stderr",
          "text": [
            "Processing images:   8%|▊         | 663/8010 [03:18<28:57,  4.23it/s]"
          ]
        },
        {
          "output_type": "stream",
          "name": "stdout",
          "text": [
            "64\n",
            "65\n"
          ]
        },
        {
          "output_type": "stream",
          "name": "stderr",
          "text": [
            "Processing images:   8%|▊         | 668/8010 [03:20<32:21,  3.78it/s]"
          ]
        },
        {
          "output_type": "stream",
          "name": "stdout",
          "text": [
            "66\n"
          ]
        },
        {
          "output_type": "stream",
          "name": "stderr",
          "text": [
            "Processing images:   9%|▊         | 688/8010 [03:27<49:02,  2.49it/s]"
          ]
        },
        {
          "output_type": "stream",
          "name": "stdout",
          "text": [
            "67\n"
          ]
        },
        {
          "output_type": "stream",
          "name": "stderr",
          "text": [
            "Processing images:   9%|▊         | 693/8010 [03:29<38:07,  3.20it/s]"
          ]
        },
        {
          "output_type": "stream",
          "name": "stdout",
          "text": [
            "68\n"
          ]
        },
        {
          "output_type": "stream",
          "name": "stderr",
          "text": [
            "Processing images:   9%|▉         | 703/8010 [03:31<24:08,  5.05it/s]"
          ]
        },
        {
          "output_type": "stream",
          "name": "stdout",
          "text": [
            "69\n"
          ]
        },
        {
          "output_type": "stream",
          "name": "stderr",
          "text": [
            "Processing images:   9%|▉         | 709/8010 [03:33<43:25,  2.80it/s]"
          ]
        },
        {
          "output_type": "stream",
          "name": "stdout",
          "text": [
            "70\n"
          ]
        },
        {
          "output_type": "stream",
          "name": "stderr",
          "text": [
            "Processing images:   9%|▉         | 718/8010 [03:37<43:59,  2.76it/s]"
          ]
        },
        {
          "output_type": "stream",
          "name": "stdout",
          "text": [
            "71\n"
          ]
        },
        {
          "output_type": "stream",
          "name": "stderr",
          "text": [
            "Processing images:   9%|▉         | 736/8010 [03:41<17:11,  7.05it/s]"
          ]
        },
        {
          "output_type": "stream",
          "name": "stdout",
          "text": [
            "72\n",
            "73\n"
          ]
        },
        {
          "output_type": "stream",
          "name": "stderr",
          "text": [
            "Processing images:   9%|▉         | 742/8010 [03:42<23:38,  5.12it/s]"
          ]
        },
        {
          "output_type": "stream",
          "name": "stdout",
          "text": [
            "74\n"
          ]
        },
        {
          "output_type": "stream",
          "name": "stderr",
          "text": [
            "\rProcessing images:   9%|▉         | 744/8010 [03:42<21:18,  5.69it/s]"
          ]
        },
        {
          "output_type": "stream",
          "name": "stdout",
          "text": [
            "75\n"
          ]
        },
        {
          "output_type": "stream",
          "name": "stderr",
          "text": [
            "Processing images:  10%|▉         | 785/8010 [03:54<26:42,  4.51it/s]"
          ]
        },
        {
          "output_type": "stream",
          "name": "stdout",
          "text": [
            "76\n"
          ]
        },
        {
          "output_type": "stream",
          "name": "stderr",
          "text": [
            "Processing images:  10%|█         | 805/8010 [04:01<38:25,  3.13it/s]"
          ]
        },
        {
          "output_type": "stream",
          "name": "stdout",
          "text": [
            "77\n"
          ]
        },
        {
          "output_type": "stream",
          "name": "stderr",
          "text": [
            "\rProcessing images:  10%|█         | 806/8010 [04:01<31:56,  3.76it/s]"
          ]
        },
        {
          "output_type": "stream",
          "name": "stdout",
          "text": [
            "78\n"
          ]
        },
        {
          "output_type": "stream",
          "name": "stderr",
          "text": [
            "Processing images:  10%|█         | 818/8010 [04:05<25:50,  4.64it/s]"
          ]
        },
        {
          "output_type": "stream",
          "name": "stdout",
          "text": [
            "79\n"
          ]
        },
        {
          "output_type": "stream",
          "name": "stderr",
          "text": [
            "\rProcessing images:  10%|█         | 819/8010 [04:05<24:45,  4.84it/s]"
          ]
        },
        {
          "output_type": "stream",
          "name": "stdout",
          "text": [
            "80\n"
          ]
        },
        {
          "output_type": "stream",
          "name": "stderr",
          "text": [
            "Processing images:  10%|█         | 831/8010 [04:09<40:03,  2.99it/s]"
          ]
        },
        {
          "output_type": "stream",
          "name": "stdout",
          "text": [
            "81\n"
          ]
        },
        {
          "output_type": "stream",
          "name": "stderr",
          "text": [
            "Processing images:  10%|█         | 834/8010 [04:09<29:22,  4.07it/s]"
          ]
        },
        {
          "output_type": "stream",
          "name": "stdout",
          "text": [
            "82\n"
          ]
        },
        {
          "output_type": "stream",
          "name": "stderr",
          "text": [
            "Processing images:  11%|█         | 848/8010 [04:14<26:45,  4.46it/s]"
          ]
        },
        {
          "output_type": "stream",
          "name": "stdout",
          "text": [
            "83\n"
          ]
        },
        {
          "output_type": "stream",
          "name": "stderr",
          "text": [
            "Processing images:  11%|█         | 865/8010 [04:19<28:27,  4.18it/s]"
          ]
        },
        {
          "output_type": "stream",
          "name": "stdout",
          "text": [
            "84\n"
          ]
        },
        {
          "output_type": "stream",
          "name": "stderr",
          "text": [
            "Processing images:  11%|█         | 875/8010 [04:22<27:16,  4.36it/s]"
          ]
        },
        {
          "output_type": "stream",
          "name": "stdout",
          "text": [
            "85\n"
          ]
        },
        {
          "output_type": "stream",
          "name": "stderr",
          "text": [
            "Processing images:  11%|█         | 880/8010 [04:24<56:12,  2.11it/s]"
          ]
        },
        {
          "output_type": "stream",
          "name": "stdout",
          "text": [
            "86\n"
          ]
        },
        {
          "output_type": "stream",
          "name": "stderr",
          "text": [
            "\rProcessing images:  11%|█         | 881/8010 [04:25<49:59,  2.38it/s]"
          ]
        },
        {
          "output_type": "stream",
          "name": "stdout",
          "text": [
            "87\n"
          ]
        },
        {
          "output_type": "stream",
          "name": "stderr",
          "text": [
            "Processing images:  11%|█         | 887/8010 [04:27<32:02,  3.70it/s]"
          ]
        },
        {
          "output_type": "stream",
          "name": "stdout",
          "text": [
            "88\n"
          ]
        },
        {
          "output_type": "stream",
          "name": "stderr",
          "text": [
            "Processing images:  11%|█▏        | 902/8010 [04:32<43:44,  2.71it/s]"
          ]
        },
        {
          "output_type": "stream",
          "name": "stdout",
          "text": [
            "89\n"
          ]
        },
        {
          "output_type": "stream",
          "name": "stderr",
          "text": [
            "Processing images:  11%|█▏        | 915/8010 [04:35<29:40,  3.98it/s]"
          ]
        },
        {
          "output_type": "stream",
          "name": "stdout",
          "text": [
            "90\n"
          ]
        },
        {
          "output_type": "stream",
          "name": "stderr",
          "text": [
            "Processing images:  12%|█▏        | 926/8010 [04:40<35:54,  3.29it/s]"
          ]
        },
        {
          "output_type": "stream",
          "name": "stdout",
          "text": [
            "91\n"
          ]
        },
        {
          "output_type": "stream",
          "name": "stderr",
          "text": [
            "Processing images:  12%|█▏        | 929/8010 [04:40<26:23,  4.47it/s]"
          ]
        },
        {
          "output_type": "stream",
          "name": "stdout",
          "text": [
            "92\n",
            "93\n"
          ]
        },
        {
          "output_type": "stream",
          "name": "stderr",
          "text": [
            "Processing images:  12%|█▏        | 938/8010 [04:42<23:32,  5.01it/s]"
          ]
        },
        {
          "output_type": "stream",
          "name": "stdout",
          "text": [
            "94\n"
          ]
        },
        {
          "output_type": "stream",
          "name": "stderr",
          "text": [
            "Processing images:  12%|█▏        | 944/8010 [04:44<26:42,  4.41it/s]"
          ]
        },
        {
          "output_type": "stream",
          "name": "stdout",
          "text": [
            "95\n"
          ]
        },
        {
          "output_type": "stream",
          "name": "stderr",
          "text": [
            "Processing images:  12%|█▏        | 950/8010 [04:45<17:15,  6.82it/s]"
          ]
        },
        {
          "output_type": "stream",
          "name": "stdout",
          "text": [
            "96\n",
            "97\n"
          ]
        },
        {
          "output_type": "stream",
          "name": "stderr",
          "text": [
            "Processing images:  12%|█▏        | 965/8010 [04:52<58:43,  2.00it/s]  "
          ]
        },
        {
          "output_type": "stream",
          "name": "stdout",
          "text": [
            "98\n"
          ]
        },
        {
          "output_type": "stream",
          "name": "stderr",
          "text": [
            "Processing images:  12%|█▏        | 979/8010 [04:56<28:59,  4.04it/s]"
          ]
        },
        {
          "output_type": "stream",
          "name": "stdout",
          "text": [
            "99\n"
          ]
        },
        {
          "output_type": "stream",
          "name": "stderr",
          "text": [
            "Processing images:  12%|█▏        | 986/8010 [04:58<24:53,  4.70it/s]"
          ]
        },
        {
          "output_type": "stream",
          "name": "stdout",
          "text": [
            "100\n"
          ]
        },
        {
          "output_type": "stream",
          "name": "stderr",
          "text": [
            "Processing images:  12%|█▏        | 992/8010 [05:00<37:03,  3.16it/s]"
          ]
        },
        {
          "output_type": "stream",
          "name": "stdout",
          "text": [
            "101\n"
          ]
        },
        {
          "output_type": "stream",
          "name": "stderr",
          "text": [
            "Processing images:  12%|█▏        | 998/8010 [05:03<42:02,  2.78it/s]"
          ]
        },
        {
          "output_type": "stream",
          "name": "stdout",
          "text": [
            "102\n"
          ]
        },
        {
          "output_type": "stream",
          "name": "stderr",
          "text": [
            "Processing images:  13%|█▎        | 1015/8010 [05:08<27:09,  4.29it/s]"
          ]
        },
        {
          "output_type": "stream",
          "name": "stdout",
          "text": [
            "103\n"
          ]
        },
        {
          "output_type": "stream",
          "name": "stderr",
          "text": [
            "Processing images:  13%|█▎        | 1018/8010 [05:09<27:32,  4.23it/s]"
          ]
        },
        {
          "output_type": "stream",
          "name": "stdout",
          "text": [
            "104\n"
          ]
        },
        {
          "output_type": "stream",
          "name": "stderr",
          "text": [
            "Processing images:  13%|█▎        | 1022/8010 [05:11<36:24,  3.20it/s]"
          ]
        },
        {
          "output_type": "stream",
          "name": "stdout",
          "text": [
            "105\n"
          ]
        },
        {
          "output_type": "stream",
          "name": "stderr",
          "text": [
            "Processing images:  13%|█▎        | 1037/8010 [05:14<22:38,  5.13it/s]"
          ]
        },
        {
          "output_type": "stream",
          "name": "stdout",
          "text": [
            "106\n"
          ]
        },
        {
          "output_type": "stream",
          "name": "stderr",
          "text": [
            "\rProcessing images:  13%|█▎        | 1038/8010 [05:14<27:30,  4.22it/s]"
          ]
        },
        {
          "output_type": "stream",
          "name": "stdout",
          "text": [
            "107\n"
          ]
        },
        {
          "output_type": "stream",
          "name": "stderr",
          "text": [
            "Processing images:  13%|█▎        | 1041/8010 [05:15<24:53,  4.66it/s]"
          ]
        },
        {
          "output_type": "stream",
          "name": "stdout",
          "text": [
            "108\n"
          ]
        },
        {
          "output_type": "stream",
          "name": "stderr",
          "text": [
            "Processing images:  13%|█▎        | 1052/8010 [05:19<29:52,  3.88it/s]"
          ]
        },
        {
          "output_type": "stream",
          "name": "stdout",
          "text": [
            "109\n"
          ]
        },
        {
          "output_type": "stream",
          "name": "stderr",
          "text": [
            "Processing images:  13%|█▎        | 1056/8010 [05:20<39:32,  2.93it/s]"
          ]
        },
        {
          "output_type": "stream",
          "name": "stdout",
          "text": [
            "110\n"
          ]
        },
        {
          "output_type": "stream",
          "name": "stderr",
          "text": [
            "Processing images:  13%|█▎        | 1061/8010 [05:22<34:09,  3.39it/s]"
          ]
        },
        {
          "output_type": "stream",
          "name": "stdout",
          "text": [
            "111\n"
          ]
        },
        {
          "output_type": "stream",
          "name": "stderr",
          "text": [
            "Processing images:  14%|█▎        | 1091/8010 [05:31<54:23,  2.12it/s]"
          ]
        },
        {
          "output_type": "stream",
          "name": "stdout",
          "text": [
            "112\n"
          ]
        },
        {
          "output_type": "stream",
          "name": "stderr",
          "text": [
            "Processing images:  14%|█▍        | 1137/8010 [05:46<31:21,  3.65it/s]"
          ]
        },
        {
          "output_type": "stream",
          "name": "stdout",
          "text": [
            "113\n"
          ]
        },
        {
          "output_type": "stream",
          "name": "stderr",
          "text": [
            "Processing images:  14%|█▍        | 1144/8010 [05:47<26:07,  4.38it/s]"
          ]
        },
        {
          "output_type": "stream",
          "name": "stdout",
          "text": [
            "114\n"
          ]
        },
        {
          "output_type": "stream",
          "name": "stderr",
          "text": [
            "Processing images:  14%|█▍        | 1147/8010 [05:48<23:16,  4.91it/s]"
          ]
        },
        {
          "output_type": "stream",
          "name": "stdout",
          "text": [
            "115\n"
          ]
        },
        {
          "output_type": "stream",
          "name": "stderr",
          "text": [
            "Processing images:  14%|█▍        | 1149/8010 [05:49<41:13,  2.77it/s]"
          ]
        },
        {
          "output_type": "stream",
          "name": "stdout",
          "text": [
            "116\n"
          ]
        },
        {
          "output_type": "stream",
          "name": "stderr",
          "text": [
            "Processing images:  14%|█▍        | 1160/8010 [05:53<40:34,  2.81it/s]"
          ]
        },
        {
          "output_type": "stream",
          "name": "stdout",
          "text": [
            "117\n"
          ]
        },
        {
          "output_type": "stream",
          "name": "stderr",
          "text": [
            "Processing images:  15%|█▍        | 1172/8010 [05:57<32:34,  3.50it/s]"
          ]
        },
        {
          "output_type": "stream",
          "name": "stdout",
          "text": [
            "118\n"
          ]
        },
        {
          "output_type": "stream",
          "name": "stderr",
          "text": [
            "Processing images:  15%|█▍        | 1181/8010 [06:01<37:09,  3.06it/s]"
          ]
        },
        {
          "output_type": "stream",
          "name": "stdout",
          "text": [
            "119\n"
          ]
        },
        {
          "output_type": "stream",
          "name": "stderr",
          "text": [
            "Processing images:  15%|█▍        | 1197/8010 [06:07<52:15,  2.17it/s]"
          ]
        },
        {
          "output_type": "stream",
          "name": "stdout",
          "text": [
            "120\n"
          ]
        },
        {
          "output_type": "stream",
          "name": "stderr",
          "text": [
            "Processing images:  15%|█▍        | 1199/8010 [06:08<48:25,  2.34it/s]  "
          ]
        },
        {
          "output_type": "stream",
          "name": "stdout",
          "text": [
            "121\n"
          ]
        },
        {
          "output_type": "stream",
          "name": "stderr",
          "text": [
            "Processing images:  15%|█▌        | 1202/8010 [06:08<34:15,  3.31it/s]"
          ]
        },
        {
          "output_type": "stream",
          "name": "stdout",
          "text": [
            "122\n"
          ]
        },
        {
          "output_type": "stream",
          "name": "stderr",
          "text": [
            "Processing images:  15%|█▌        | 1205/8010 [06:09<27:52,  4.07it/s]"
          ]
        },
        {
          "output_type": "stream",
          "name": "stdout",
          "text": [
            "123\n"
          ]
        },
        {
          "output_type": "stream",
          "name": "stderr",
          "text": [
            "\rProcessing images:  15%|█▌        | 1207/8010 [06:10<22:14,  5.10it/s]"
          ]
        },
        {
          "output_type": "stream",
          "name": "stdout",
          "text": [
            "124\n"
          ]
        },
        {
          "output_type": "stream",
          "name": "stderr",
          "text": [
            "Processing images:  15%|█▌        | 1213/8010 [06:12<37:50,  2.99it/s]"
          ]
        },
        {
          "output_type": "stream",
          "name": "stdout",
          "text": [
            "125\n"
          ]
        },
        {
          "output_type": "stream",
          "name": "stderr",
          "text": [
            "Processing images:  15%|█▌        | 1223/8010 [06:14<20:47,  5.44it/s]"
          ]
        },
        {
          "output_type": "stream",
          "name": "stdout",
          "text": [
            "126\n"
          ]
        },
        {
          "output_type": "stream",
          "name": "stderr",
          "text": [
            "Processing images:  15%|█▌        | 1226/8010 [06:14<17:08,  6.60it/s]"
          ]
        },
        {
          "output_type": "stream",
          "name": "stdout",
          "text": [
            "127\n",
            "128\n"
          ]
        },
        {
          "output_type": "stream",
          "name": "stderr",
          "text": [
            "Processing images:  15%|█▌        | 1237/8010 [06:18<29:29,  3.83it/s]"
          ]
        },
        {
          "output_type": "stream",
          "name": "stdout",
          "text": [
            "129\n"
          ]
        },
        {
          "output_type": "stream",
          "name": "stderr",
          "text": [
            "Processing images:  16%|█▌        | 1242/8010 [06:20<40:32,  2.78it/s]"
          ]
        },
        {
          "output_type": "stream",
          "name": "stdout",
          "text": [
            "130\n"
          ]
        },
        {
          "output_type": "stream",
          "name": "stderr",
          "text": [
            "Processing images:  16%|█▌        | 1250/8010 [06:23<32:09,  3.50it/s]"
          ]
        },
        {
          "output_type": "stream",
          "name": "stdout",
          "text": [
            "131\n"
          ]
        },
        {
          "output_type": "stream",
          "name": "stderr",
          "text": [
            "Processing images:  16%|█▌        | 1285/8010 [06:34<38:12,  2.93it/s]"
          ]
        },
        {
          "output_type": "stream",
          "name": "stdout",
          "text": [
            "132\n"
          ]
        },
        {
          "output_type": "stream",
          "name": "stderr",
          "text": [
            "Processing images:  16%|█▌        | 1292/8010 [06:36<26:54,  4.16it/s]"
          ]
        },
        {
          "output_type": "stream",
          "name": "stdout",
          "text": [
            "133\n",
            "134\n"
          ]
        },
        {
          "output_type": "stream",
          "name": "stderr",
          "text": [
            "Processing images:  16%|█▌        | 1294/8010 [06:37<22:25,  4.99it/s]"
          ]
        },
        {
          "output_type": "stream",
          "name": "stdout",
          "text": [
            "135\n"
          ]
        },
        {
          "output_type": "stream",
          "name": "stderr",
          "text": [
            "Processing images:  16%|█▋        | 1314/8010 [06:42<31:18,  3.56it/s]"
          ]
        },
        {
          "output_type": "stream",
          "name": "stdout",
          "text": [
            "136\n"
          ]
        },
        {
          "output_type": "stream",
          "name": "stderr",
          "text": [
            "Processing images:  17%|█▋        | 1329/8010 [06:48<30:09,  3.69it/s]"
          ]
        },
        {
          "output_type": "stream",
          "name": "stdout",
          "text": [
            "137\n"
          ]
        },
        {
          "output_type": "stream",
          "name": "stderr",
          "text": [
            "Processing images:  17%|█▋        | 1334/8010 [06:50<23:35,  4.72it/s]"
          ]
        },
        {
          "output_type": "stream",
          "name": "stdout",
          "text": [
            "138\n"
          ]
        },
        {
          "output_type": "stream",
          "name": "stderr",
          "text": [
            "Processing images:  17%|█▋        | 1337/8010 [06:50<17:42,  6.28it/s]"
          ]
        },
        {
          "output_type": "stream",
          "name": "stdout",
          "text": [
            "139\n",
            "140\n"
          ]
        },
        {
          "output_type": "stream",
          "name": "stderr",
          "text": [
            "Processing images:  17%|█▋        | 1342/8010 [06:51<24:44,  4.49it/s]"
          ]
        },
        {
          "output_type": "stream",
          "name": "stdout",
          "text": [
            "141\n"
          ]
        },
        {
          "output_type": "stream",
          "name": "stderr",
          "text": [
            "Processing images:  17%|█▋        | 1344/8010 [06:52<24:28,  4.54it/s]"
          ]
        },
        {
          "output_type": "stream",
          "name": "stdout",
          "text": [
            "142\n"
          ]
        },
        {
          "output_type": "stream",
          "name": "stderr",
          "text": [
            "Processing images:  17%|█▋        | 1348/8010 [06:54<37:17,  2.98it/s]"
          ]
        },
        {
          "output_type": "stream",
          "name": "stdout",
          "text": [
            "143\n"
          ]
        },
        {
          "output_type": "stream",
          "name": "stderr",
          "text": [
            "Processing images:  17%|█▋        | 1393/8010 [07:09<24:51,  4.44it/s]"
          ]
        },
        {
          "output_type": "stream",
          "name": "stdout",
          "text": [
            "144\n"
          ]
        },
        {
          "output_type": "stream",
          "name": "stderr",
          "text": [
            "\rProcessing images:  17%|█▋        | 1394/8010 [07:10<25:58,  4.25it/s]"
          ]
        },
        {
          "output_type": "stream",
          "name": "stdout",
          "text": [
            "145\n"
          ]
        },
        {
          "output_type": "stream",
          "name": "stderr",
          "text": [
            "Processing images:  18%|█▊        | 1418/8010 [07:18<23:12,  4.73it/s]"
          ]
        },
        {
          "output_type": "stream",
          "name": "stdout",
          "text": [
            "146\n"
          ]
        },
        {
          "output_type": "stream",
          "name": "stderr",
          "text": [
            "Processing images:  18%|█▊        | 1432/8010 [07:21<26:13,  4.18it/s]"
          ]
        },
        {
          "output_type": "stream",
          "name": "stdout",
          "text": [
            "147\n"
          ]
        },
        {
          "output_type": "stream",
          "name": "stderr",
          "text": [
            "Processing images:  18%|█▊        | 1436/8010 [07:22<24:36,  4.45it/s]"
          ]
        },
        {
          "output_type": "stream",
          "name": "stdout",
          "text": [
            "148\n"
          ]
        },
        {
          "output_type": "stream",
          "name": "stderr",
          "text": [
            "Processing images:  18%|█▊        | 1442/8010 [07:24<29:39,  3.69it/s]"
          ]
        },
        {
          "output_type": "stream",
          "name": "stdout",
          "text": [
            "149\n"
          ]
        },
        {
          "output_type": "stream",
          "name": "stderr",
          "text": [
            "Processing images:  18%|█▊        | 1454/8010 [07:29<25:54,  4.22it/s]"
          ]
        },
        {
          "output_type": "stream",
          "name": "stdout",
          "text": [
            "150\n",
            "151\n"
          ]
        },
        {
          "output_type": "stream",
          "name": "stderr",
          "text": [
            "Processing images:  18%|█▊        | 1457/8010 [07:30<26:11,  4.17it/s]"
          ]
        },
        {
          "output_type": "stream",
          "name": "stdout",
          "text": [
            "152\n"
          ]
        },
        {
          "output_type": "stream",
          "name": "stderr",
          "text": [
            "Processing images:  19%|█▊        | 1482/8010 [07:38<27:03,  4.02it/s]"
          ]
        },
        {
          "output_type": "stream",
          "name": "stdout",
          "text": [
            "153\n"
          ]
        },
        {
          "output_type": "stream",
          "name": "stderr",
          "text": [
            "Processing images:  19%|█▊        | 1492/8010 [07:41<28:44,  3.78it/s]"
          ]
        },
        {
          "output_type": "stream",
          "name": "stdout",
          "text": [
            "154\n"
          ]
        },
        {
          "output_type": "stream",
          "name": "stderr",
          "text": [
            "\rProcessing images:  19%|█▊        | 1493/8010 [07:42<34:29,  3.15it/s]"
          ]
        },
        {
          "output_type": "stream",
          "name": "stdout",
          "text": [
            "155\n"
          ]
        },
        {
          "output_type": "stream",
          "name": "stderr",
          "text": [
            "Processing images:  19%|█▊        | 1497/8010 [07:43<24:37,  4.41it/s]"
          ]
        },
        {
          "output_type": "stream",
          "name": "stdout",
          "text": [
            "156\n"
          ]
        },
        {
          "output_type": "stream",
          "name": "stderr",
          "text": [
            "Processing images:  19%|█▉        | 1519/8010 [07:49<23:29,  4.60it/s]"
          ]
        },
        {
          "output_type": "stream",
          "name": "stdout",
          "text": [
            "157\n",
            "158\n"
          ]
        },
        {
          "output_type": "stream",
          "name": "stderr",
          "text": [
            "Processing images:  19%|█▉        | 1525/8010 [07:51<35:04,  3.08it/s]"
          ]
        },
        {
          "output_type": "stream",
          "name": "stdout",
          "text": [
            "159\n"
          ]
        },
        {
          "output_type": "stream",
          "name": "stderr",
          "text": [
            "Processing images:  19%|█▉        | 1527/8010 [07:51<31:57,  3.38it/s]"
          ]
        },
        {
          "output_type": "stream",
          "name": "stdout",
          "text": [
            "160\n"
          ]
        },
        {
          "output_type": "stream",
          "name": "stderr",
          "text": [
            "Processing images:  19%|█▉        | 1531/8010 [07:53<31:55,  3.38it/s]"
          ]
        },
        {
          "output_type": "stream",
          "name": "stdout",
          "text": [
            "161\n"
          ]
        },
        {
          "output_type": "stream",
          "name": "stderr",
          "text": [
            "Processing images:  19%|█▉        | 1535/8010 [07:54<27:53,  3.87it/s]"
          ]
        },
        {
          "output_type": "stream",
          "name": "stdout",
          "text": [
            "162\n"
          ]
        },
        {
          "output_type": "stream",
          "name": "stderr",
          "text": [
            "Processing images:  19%|█▉        | 1552/8010 [07:59<21:33,  4.99it/s]"
          ]
        },
        {
          "output_type": "stream",
          "name": "stdout",
          "text": [
            "163\n"
          ]
        },
        {
          "output_type": "stream",
          "name": "stderr",
          "text": [
            "Processing images:  19%|█▉        | 1557/8010 [08:01<31:33,  3.41it/s]"
          ]
        },
        {
          "output_type": "stream",
          "name": "stdout",
          "text": [
            "164\n"
          ]
        },
        {
          "output_type": "stream",
          "name": "stderr",
          "text": [
            "Processing images:  19%|█▉        | 1560/8010 [08:01<19:52,  5.41it/s]"
          ]
        },
        {
          "output_type": "stream",
          "name": "stdout",
          "text": [
            "165\n"
          ]
        },
        {
          "output_type": "stream",
          "name": "stderr",
          "text": [
            "Processing images:  20%|█▉        | 1576/8010 [08:09<37:32,  2.86it/s]"
          ]
        },
        {
          "output_type": "stream",
          "name": "stdout",
          "text": [
            "166\n"
          ]
        },
        {
          "output_type": "stream",
          "name": "stderr",
          "text": [
            "Processing images:  20%|█▉        | 1581/8010 [08:10<23:54,  4.48it/s]"
          ]
        },
        {
          "output_type": "stream",
          "name": "stdout",
          "text": [
            "167\n"
          ]
        },
        {
          "output_type": "stream",
          "name": "stderr",
          "text": [
            "Processing images:  20%|█▉        | 1587/8010 [08:12<36:14,  2.95it/s]"
          ]
        },
        {
          "output_type": "stream",
          "name": "stdout",
          "text": [
            "168\n"
          ]
        },
        {
          "output_type": "stream",
          "name": "stderr",
          "text": [
            "Processing images:  20%|█▉        | 1594/8010 [08:15<36:18,  2.95it/s]"
          ]
        },
        {
          "output_type": "stream",
          "name": "stdout",
          "text": [
            "169\n"
          ]
        },
        {
          "output_type": "stream",
          "name": "stderr",
          "text": [
            "Processing images:  20%|██        | 1609/8010 [08:21<30:49,  3.46it/s]"
          ]
        },
        {
          "output_type": "stream",
          "name": "stdout",
          "text": [
            "170\n"
          ]
        },
        {
          "output_type": "stream",
          "name": "stderr",
          "text": [
            "Processing images:  20%|██        | 1617/8010 [08:24<27:04,  3.94it/s]"
          ]
        },
        {
          "output_type": "stream",
          "name": "stdout",
          "text": [
            "171\n"
          ]
        },
        {
          "output_type": "stream",
          "name": "stderr",
          "text": [
            "Processing images:  20%|██        | 1629/8010 [08:28<27:13,  3.91it/s]"
          ]
        },
        {
          "output_type": "stream",
          "name": "stdout",
          "text": [
            "172\n"
          ]
        },
        {
          "output_type": "stream",
          "name": "stderr",
          "text": [
            "Processing images:  20%|██        | 1639/8010 [08:31<24:38,  4.31it/s]"
          ]
        },
        {
          "output_type": "stream",
          "name": "stdout",
          "text": [
            "173\n",
            "174\n"
          ]
        },
        {
          "output_type": "stream",
          "name": "stderr",
          "text": [
            "Processing images:  21%|██        | 1649/8010 [08:34<25:26,  4.17it/s]"
          ]
        },
        {
          "output_type": "stream",
          "name": "stdout",
          "text": [
            "175\n"
          ]
        },
        {
          "output_type": "stream",
          "name": "stderr",
          "text": [
            "Processing images:  21%|██        | 1652/8010 [08:34<24:25,  4.34it/s]"
          ]
        },
        {
          "output_type": "stream",
          "name": "stdout",
          "text": [
            "176\n"
          ]
        },
        {
          "output_type": "stream",
          "name": "stderr",
          "text": [
            "Processing images:  21%|██        | 1658/8010 [08:37<39:03,  2.71it/s]"
          ]
        },
        {
          "output_type": "stream",
          "name": "stdout",
          "text": [
            "177\n"
          ]
        },
        {
          "output_type": "stream",
          "name": "stderr",
          "text": [
            "Processing images:  21%|██        | 1661/8010 [08:37<33:34,  3.15it/s]"
          ]
        },
        {
          "output_type": "stream",
          "name": "stdout",
          "text": [
            "178\n"
          ]
        },
        {
          "output_type": "stream",
          "name": "stderr",
          "text": [
            "Processing images:  21%|██        | 1679/8010 [08:43<30:29,  3.46it/s]"
          ]
        },
        {
          "output_type": "stream",
          "name": "stdout",
          "text": [
            "179\n"
          ]
        },
        {
          "output_type": "stream",
          "name": "stderr",
          "text": [
            "Processing images:  21%|██        | 1690/8010 [08:46<28:24,  3.71it/s]"
          ]
        },
        {
          "output_type": "stream",
          "name": "stdout",
          "text": [
            "180\n"
          ]
        },
        {
          "output_type": "stream",
          "name": "stderr",
          "text": [
            "Processing images:  21%|██        | 1701/8010 [08:49<19:12,  5.48it/s]"
          ]
        },
        {
          "output_type": "stream",
          "name": "stdout",
          "text": [
            "181\n"
          ]
        },
        {
          "output_type": "stream",
          "name": "stderr",
          "text": [
            "Processing images:  21%|██▏       | 1707/8010 [08:51<33:09,  3.17it/s]"
          ]
        },
        {
          "output_type": "stream",
          "name": "stdout",
          "text": [
            "182\n"
          ]
        },
        {
          "output_type": "stream",
          "name": "stderr",
          "text": [
            "Processing images:  21%|██▏       | 1713/8010 [08:52<20:24,  5.14it/s]"
          ]
        },
        {
          "output_type": "stream",
          "name": "stdout",
          "text": [
            "183\n"
          ]
        },
        {
          "output_type": "stream",
          "name": "stderr",
          "text": [
            "Processing images:  21%|██▏       | 1719/8010 [08:54<22:16,  4.71it/s]"
          ]
        },
        {
          "output_type": "stream",
          "name": "stdout",
          "text": [
            "184\n"
          ]
        },
        {
          "output_type": "stream",
          "name": "stderr",
          "text": [
            "Processing images:  22%|██▏       | 1726/8010 [08:56<33:53,  3.09it/s]"
          ]
        },
        {
          "output_type": "stream",
          "name": "stdout",
          "text": [
            "185\n"
          ]
        },
        {
          "output_type": "stream",
          "name": "stderr",
          "text": [
            "Processing images:  22%|██▏       | 1734/8010 [09:00<31:22,  3.33it/s]"
          ]
        },
        {
          "output_type": "stream",
          "name": "stdout",
          "text": [
            "186\n"
          ]
        },
        {
          "output_type": "stream",
          "name": "stderr",
          "text": [
            "Processing images:  22%|██▏       | 1736/8010 [09:00<26:25,  3.96it/s]"
          ]
        },
        {
          "output_type": "stream",
          "name": "stdout",
          "text": [
            "187\n"
          ]
        },
        {
          "output_type": "stream",
          "name": "stderr",
          "text": [
            "Processing images:  22%|██▏       | 1740/8010 [09:01<22:22,  4.67it/s]"
          ]
        },
        {
          "output_type": "stream",
          "name": "stdout",
          "text": [
            "188\n"
          ]
        },
        {
          "output_type": "stream",
          "name": "stderr",
          "text": [
            "Processing images:  22%|██▏       | 1752/8010 [09:04<21:38,  4.82it/s]"
          ]
        },
        {
          "output_type": "stream",
          "name": "stdout",
          "text": [
            "189\n"
          ]
        },
        {
          "output_type": "stream",
          "name": "stderr",
          "text": [
            "Processing images:  22%|██▏       | 1756/8010 [09:05<19:36,  5.31it/s]"
          ]
        },
        {
          "output_type": "stream",
          "name": "stdout",
          "text": [
            "190\n"
          ]
        },
        {
          "output_type": "stream",
          "name": "stderr",
          "text": [
            "Processing images:  22%|██▏       | 1764/8010 [09:08<30:31,  3.41it/s]"
          ]
        },
        {
          "output_type": "stream",
          "name": "stdout",
          "text": [
            "191\n"
          ]
        },
        {
          "output_type": "stream",
          "name": "stderr",
          "text": [
            "Processing images:  22%|██▏       | 1771/8010 [09:11<39:42,  2.62it/s]"
          ]
        },
        {
          "output_type": "stream",
          "name": "stdout",
          "text": [
            "192\n"
          ]
        },
        {
          "output_type": "stream",
          "name": "stderr",
          "text": [
            "Processing images:  22%|██▏       | 1774/8010 [09:12<39:28,  2.63it/s]"
          ]
        },
        {
          "output_type": "stream",
          "name": "stdout",
          "text": [
            "193\n"
          ]
        },
        {
          "output_type": "stream",
          "name": "stderr",
          "text": [
            "Processing images:  22%|██▏       | 1782/8010 [09:14<18:54,  5.49it/s]"
          ]
        },
        {
          "output_type": "stream",
          "name": "stdout",
          "text": [
            "194\n"
          ]
        },
        {
          "output_type": "stream",
          "name": "stderr",
          "text": [
            "Processing images:  23%|██▎       | 1807/8010 [09:21<18:16,  5.66it/s]"
          ]
        },
        {
          "output_type": "stream",
          "name": "stdout",
          "text": [
            "195\n"
          ]
        },
        {
          "output_type": "stream",
          "name": "stderr",
          "text": [
            "Processing images:  23%|██▎       | 1813/8010 [09:23<30:49,  3.35it/s]"
          ]
        },
        {
          "output_type": "stream",
          "name": "stdout",
          "text": [
            "196\n"
          ]
        },
        {
          "output_type": "stream",
          "name": "stderr",
          "text": [
            "Processing images:  23%|██▎       | 1820/8010 [09:25<28:08,  3.66it/s]"
          ]
        },
        {
          "output_type": "stream",
          "name": "stdout",
          "text": [
            "197\n"
          ]
        },
        {
          "output_type": "stream",
          "name": "stderr",
          "text": [
            "Processing images:  23%|██▎       | 1822/8010 [09:26<22:38,  4.55it/s]"
          ]
        },
        {
          "output_type": "stream",
          "name": "stdout",
          "text": [
            "198\n"
          ]
        },
        {
          "output_type": "stream",
          "name": "stderr",
          "text": [
            "Processing images:  23%|██▎       | 1826/8010 [09:27<27:14,  3.78it/s]"
          ]
        },
        {
          "output_type": "stream",
          "name": "stdout",
          "text": [
            "199\n",
            "200\n"
          ]
        },
        {
          "output_type": "stream",
          "name": "stderr",
          "text": [
            "\rProcessing images:  23%|██▎       | 1827/8010 [09:27<26:31,  3.89it/s]"
          ]
        },
        {
          "output_type": "stream",
          "name": "stdout",
          "text": [
            "201\n"
          ]
        },
        {
          "output_type": "stream",
          "name": "stderr",
          "text": [
            "Processing images:  23%|██▎       | 1864/8010 [09:40<36:51,  2.78it/s]"
          ]
        },
        {
          "output_type": "stream",
          "name": "stdout",
          "text": [
            "202\n"
          ]
        },
        {
          "output_type": "stream",
          "name": "stderr",
          "text": [
            "Processing images:  23%|██▎       | 1876/8010 [09:43<18:07,  5.64it/s]"
          ]
        },
        {
          "output_type": "stream",
          "name": "stdout",
          "text": [
            "203\n"
          ]
        },
        {
          "output_type": "stream",
          "name": "stderr",
          "text": [
            "Processing images:  24%|██▎       | 1887/8010 [09:47<36:37,  2.79it/s]"
          ]
        },
        {
          "output_type": "stream",
          "name": "stdout",
          "text": [
            "204\n"
          ]
        },
        {
          "output_type": "stream",
          "name": "stderr",
          "text": [
            "Processing images:  24%|██▎       | 1893/8010 [09:48<29:23,  3.47it/s]"
          ]
        },
        {
          "output_type": "stream",
          "name": "stdout",
          "text": [
            "205\n"
          ]
        },
        {
          "output_type": "stream",
          "name": "stderr",
          "text": [
            "Processing images:  24%|██▎       | 1902/8010 [09:52<31:39,  3.22it/s]"
          ]
        },
        {
          "output_type": "stream",
          "name": "stdout",
          "text": [
            "206\n",
            "207\n"
          ]
        },
        {
          "output_type": "stream",
          "name": "stderr",
          "text": [
            "Processing images:  24%|██▍       | 1928/8010 [10:01<39:06,  2.59it/s]"
          ]
        },
        {
          "output_type": "stream",
          "name": "stdout",
          "text": [
            "208\n"
          ]
        },
        {
          "output_type": "stream",
          "name": "stderr",
          "text": [
            "Processing images:  24%|██▍       | 1931/8010 [10:01<23:25,  4.32it/s]"
          ]
        },
        {
          "output_type": "stream",
          "name": "stdout",
          "text": [
            "209\n"
          ]
        },
        {
          "output_type": "stream",
          "name": "stderr",
          "text": [
            "Processing images:  24%|██▍       | 1955/8010 [10:11<35:01,  2.88it/s]"
          ]
        },
        {
          "output_type": "stream",
          "name": "stdout",
          "text": [
            "210\n"
          ]
        },
        {
          "output_type": "stream",
          "name": "stderr",
          "text": [
            "Processing images:  25%|██▍       | 1964/8010 [10:14<20:49,  4.84it/s]"
          ]
        },
        {
          "output_type": "stream",
          "name": "stdout",
          "text": [
            "211\n"
          ]
        },
        {
          "output_type": "stream",
          "name": "stderr",
          "text": [
            "Processing images:  25%|██▍       | 1973/8010 [10:17<25:04,  4.01it/s]"
          ]
        },
        {
          "output_type": "stream",
          "name": "stdout",
          "text": [
            "212\n",
            "213\n"
          ]
        },
        {
          "output_type": "stream",
          "name": "stderr",
          "text": [
            "Processing images:  25%|██▍       | 1988/8010 [10:21<19:48,  5.07it/s]"
          ]
        },
        {
          "output_type": "stream",
          "name": "stdout",
          "text": [
            "214\n"
          ]
        },
        {
          "output_type": "stream",
          "name": "stderr",
          "text": [
            "Processing images:  25%|██▍       | 1995/8010 [10:23<20:14,  4.95it/s]"
          ]
        },
        {
          "output_type": "stream",
          "name": "stdout",
          "text": [
            "215\n"
          ]
        },
        {
          "output_type": "stream",
          "name": "stderr",
          "text": [
            "Processing images:  25%|██▍       | 2002/8010 [10:25<29:46,  3.36it/s]"
          ]
        },
        {
          "output_type": "stream",
          "name": "stdout",
          "text": [
            "216\n"
          ]
        },
        {
          "output_type": "stream",
          "name": "stderr",
          "text": [
            "Processing images:  25%|██▌       | 2031/8010 [10:36<33:44,  2.95it/s]"
          ]
        },
        {
          "output_type": "stream",
          "name": "stdout",
          "text": [
            "217\n"
          ]
        },
        {
          "output_type": "stream",
          "name": "stderr",
          "text": [
            "Processing images:  25%|██▌       | 2033/8010 [10:37<27:53,  3.57it/s]"
          ]
        },
        {
          "output_type": "stream",
          "name": "stdout",
          "text": [
            "218\n"
          ]
        },
        {
          "output_type": "stream",
          "name": "stderr",
          "text": [
            "Processing images:  26%|██▌       | 2077/8010 [10:51<15:22,  6.43it/s]"
          ]
        },
        {
          "output_type": "stream",
          "name": "stdout",
          "text": [
            "219\n"
          ]
        },
        {
          "output_type": "stream",
          "name": "stderr",
          "text": [
            "Processing images:  26%|██▌       | 2080/8010 [10:52<21:52,  4.52it/s]"
          ]
        },
        {
          "output_type": "stream",
          "name": "stdout",
          "text": [
            "220\n"
          ]
        },
        {
          "output_type": "stream",
          "name": "stderr",
          "text": [
            "Processing images:  26%|██▌       | 2090/8010 [10:56<45:50,  2.15it/s]"
          ]
        },
        {
          "output_type": "stream",
          "name": "stdout",
          "text": [
            "221\n"
          ]
        },
        {
          "output_type": "stream",
          "name": "stderr",
          "text": [
            "Processing images:  26%|██▋       | 2105/8010 [11:01<31:12,  3.15it/s]"
          ]
        },
        {
          "output_type": "stream",
          "name": "stdout",
          "text": [
            "222\n"
          ]
        },
        {
          "output_type": "stream",
          "name": "stderr",
          "text": [
            "Processing images:  27%|██▋       | 2148/8010 [11:16<22:44,  4.29it/s]"
          ]
        },
        {
          "output_type": "stream",
          "name": "stdout",
          "text": [
            "223\n"
          ]
        },
        {
          "output_type": "stream",
          "name": "stderr",
          "text": [
            "Processing images:  27%|██▋       | 2171/8010 [11:24<22:18,  4.36it/s]"
          ]
        },
        {
          "output_type": "stream",
          "name": "stdout",
          "text": [
            "224\n"
          ]
        },
        {
          "output_type": "stream",
          "name": "stderr",
          "text": [
            "Processing images:  27%|██▋       | 2180/8010 [11:28<39:30,  2.46it/s]"
          ]
        },
        {
          "output_type": "stream",
          "name": "stdout",
          "text": [
            "225\n"
          ]
        },
        {
          "output_type": "stream",
          "name": "stderr",
          "text": [
            "Processing images:  27%|██▋       | 2187/8010 [11:30<30:41,  3.16it/s]"
          ]
        },
        {
          "output_type": "stream",
          "name": "stdout",
          "text": [
            "226\n"
          ]
        },
        {
          "output_type": "stream",
          "name": "stderr",
          "text": [
            "Processing images:  27%|██▋       | 2194/8010 [11:32<25:00,  3.88it/s]"
          ]
        },
        {
          "output_type": "stream",
          "name": "stdout",
          "text": [
            "227\n"
          ]
        },
        {
          "output_type": "stream",
          "name": "stderr",
          "text": [
            "\rProcessing images:  27%|██▋       | 2196/8010 [11:32<19:34,  4.95it/s]"
          ]
        },
        {
          "output_type": "stream",
          "name": "stdout",
          "text": [
            "228\n"
          ]
        },
        {
          "output_type": "stream",
          "name": "stderr",
          "text": [
            "Processing images:  27%|██▋       | 2200/8010 [11:33<34:02,  2.84it/s]"
          ]
        },
        {
          "output_type": "stream",
          "name": "stdout",
          "text": [
            "229\n"
          ]
        },
        {
          "output_type": "stream",
          "name": "stderr",
          "text": [
            "Processing images:  27%|██▋       | 2202/8010 [11:34<27:05,  3.57it/s]"
          ]
        },
        {
          "output_type": "stream",
          "name": "stdout",
          "text": [
            "230\n"
          ]
        },
        {
          "output_type": "stream",
          "name": "stderr",
          "text": [
            "Processing images:  28%|██▊       | 2214/8010 [11:38<33:09,  2.91it/s]"
          ]
        },
        {
          "output_type": "stream",
          "name": "stdout",
          "text": [
            "231\n"
          ]
        },
        {
          "output_type": "stream",
          "name": "stderr",
          "text": [
            "Processing images:  28%|██▊       | 2220/8010 [11:40<25:50,  3.73it/s]"
          ]
        },
        {
          "output_type": "stream",
          "name": "stdout",
          "text": [
            "232\n"
          ]
        },
        {
          "output_type": "stream",
          "name": "stderr",
          "text": [
            "Processing images:  28%|██▊       | 2231/8010 [11:43<22:22,  4.30it/s]"
          ]
        },
        {
          "output_type": "stream",
          "name": "stdout",
          "text": [
            "233\n"
          ]
        },
        {
          "output_type": "stream",
          "name": "stderr",
          "text": [
            "Processing images:  28%|██▊       | 2245/8010 [11:50<50:47,  1.89it/s]  "
          ]
        },
        {
          "output_type": "stream",
          "name": "stdout",
          "text": [
            "234\n"
          ]
        },
        {
          "output_type": "stream",
          "name": "stderr",
          "text": [
            "Processing images:  28%|██▊       | 2250/8010 [11:51<27:25,  3.50it/s]"
          ]
        },
        {
          "output_type": "stream",
          "name": "stdout",
          "text": [
            "235\n"
          ]
        },
        {
          "output_type": "stream",
          "name": "stderr",
          "text": [
            "\rProcessing images:  28%|██▊       | 2251/8010 [11:52<24:40,  3.89it/s]"
          ]
        },
        {
          "output_type": "stream",
          "name": "stdout",
          "text": [
            "236\n"
          ]
        },
        {
          "output_type": "stream",
          "name": "stderr",
          "text": [
            "Processing images:  28%|██▊       | 2256/8010 [11:53<22:54,  4.19it/s]"
          ]
        },
        {
          "output_type": "stream",
          "name": "stdout",
          "text": [
            "237\n"
          ]
        },
        {
          "output_type": "stream",
          "name": "stderr",
          "text": [
            "Processing images:  28%|██▊       | 2275/8010 [11:58<26:28,  3.61it/s]"
          ]
        },
        {
          "output_type": "stream",
          "name": "stdout",
          "text": [
            "238\n"
          ]
        },
        {
          "output_type": "stream",
          "name": "stderr",
          "text": [
            "Processing images:  28%|██▊       | 2281/8010 [12:00<25:05,  3.81it/s]"
          ]
        },
        {
          "output_type": "stream",
          "name": "stdout",
          "text": [
            "239\n"
          ]
        },
        {
          "output_type": "stream",
          "name": "stderr",
          "text": [
            "Processing images:  29%|██▊       | 2286/8010 [12:02<36:38,  2.60it/s]"
          ]
        },
        {
          "output_type": "stream",
          "name": "stdout",
          "text": [
            "240\n"
          ]
        },
        {
          "output_type": "stream",
          "name": "stderr",
          "text": [
            "Processing images:  29%|██▊       | 2296/8010 [12:05<21:51,  4.36it/s]"
          ]
        },
        {
          "output_type": "stream",
          "name": "stdout",
          "text": [
            "241\n"
          ]
        },
        {
          "output_type": "stream",
          "name": "stderr",
          "text": [
            "Processing images:  29%|██▊       | 2302/8010 [12:06<26:39,  3.57it/s]"
          ]
        },
        {
          "output_type": "stream",
          "name": "stdout",
          "text": [
            "242\n"
          ]
        },
        {
          "output_type": "stream",
          "name": "stderr",
          "text": [
            "Processing images:  29%|██▉       | 2305/8010 [12:07<23:37,  4.02it/s]"
          ]
        },
        {
          "output_type": "stream",
          "name": "stdout",
          "text": [
            "243\n"
          ]
        },
        {
          "output_type": "stream",
          "name": "stderr",
          "text": [
            "Processing images:  29%|██▉       | 2312/8010 [12:09<25:35,  3.71it/s]"
          ]
        },
        {
          "output_type": "stream",
          "name": "stdout",
          "text": [
            "244\n"
          ]
        },
        {
          "output_type": "stream",
          "name": "stderr",
          "text": [
            "Processing images:  29%|██▉       | 2318/8010 [12:11<27:39,  3.43it/s]"
          ]
        },
        {
          "output_type": "stream",
          "name": "stdout",
          "text": [
            "245\n"
          ]
        },
        {
          "output_type": "stream",
          "name": "stderr",
          "text": [
            "Processing images:  29%|██▉       | 2325/8010 [12:12<22:21,  4.24it/s]"
          ]
        },
        {
          "output_type": "stream",
          "name": "stdout",
          "text": [
            "246\n"
          ]
        },
        {
          "output_type": "stream",
          "name": "stderr",
          "text": [
            "Processing images:  29%|██▉       | 2354/8010 [12:21<28:12,  3.34it/s]"
          ]
        },
        {
          "output_type": "stream",
          "name": "stdout",
          "text": [
            "247\n"
          ]
        },
        {
          "output_type": "stream",
          "name": "stderr",
          "text": [
            "Processing images:  30%|██▉       | 2365/8010 [12:23<25:58,  3.62it/s]"
          ]
        },
        {
          "output_type": "stream",
          "name": "stdout",
          "text": [
            "248\n"
          ]
        },
        {
          "output_type": "stream",
          "name": "stderr",
          "text": [
            "Processing images:  30%|██▉       | 2376/8010 [12:27<33:50,  2.77it/s]"
          ]
        },
        {
          "output_type": "stream",
          "name": "stdout",
          "text": [
            "249\n"
          ]
        },
        {
          "output_type": "stream",
          "name": "stderr",
          "text": [
            "Processing images:  30%|██▉       | 2388/8010 [12:32<22:17,  4.20it/s]"
          ]
        },
        {
          "output_type": "stream",
          "name": "stdout",
          "text": [
            "250\n",
            "251\n"
          ]
        },
        {
          "output_type": "stream",
          "name": "stderr",
          "text": [
            "\rProcessing images:  30%|██▉       | 2390/8010 [12:32<14:49,  6.32it/s]"
          ]
        },
        {
          "output_type": "stream",
          "name": "stdout",
          "text": [
            "252\n"
          ]
        },
        {
          "output_type": "stream",
          "name": "stderr",
          "text": [
            "Processing images:  30%|███       | 2403/8010 [12:35<27:07,  3.44it/s]"
          ]
        },
        {
          "output_type": "stream",
          "name": "stdout",
          "text": [
            "253\n"
          ]
        },
        {
          "output_type": "stream",
          "name": "stderr",
          "text": [
            "Processing images:  30%|███       | 2415/8010 [12:40<44:57,  2.07it/s]"
          ]
        },
        {
          "output_type": "stream",
          "name": "stdout",
          "text": [
            "254\n"
          ]
        },
        {
          "output_type": "stream",
          "name": "stderr",
          "text": [
            "Processing images:  30%|███       | 2418/8010 [12:41<34:15,  2.72it/s]"
          ]
        },
        {
          "output_type": "stream",
          "name": "stdout",
          "text": [
            "255\n"
          ]
        },
        {
          "output_type": "stream",
          "name": "stderr",
          "text": [
            "Processing images:  30%|███       | 2428/8010 [12:44<21:39,  4.30it/s]"
          ]
        },
        {
          "output_type": "stream",
          "name": "stdout",
          "text": [
            "256\n"
          ]
        },
        {
          "output_type": "stream",
          "name": "stderr",
          "text": [
            "Processing images:  30%|███       | 2433/8010 [12:45<24:38,  3.77it/s]"
          ]
        },
        {
          "output_type": "stream",
          "name": "stdout",
          "text": [
            "257\n"
          ]
        },
        {
          "output_type": "stream",
          "name": "stderr",
          "text": [
            "Processing images:  30%|███       | 2437/8010 [12:46<20:53,  4.45it/s]"
          ]
        },
        {
          "output_type": "stream",
          "name": "stdout",
          "text": [
            "258\n"
          ]
        },
        {
          "output_type": "stream",
          "name": "stderr",
          "text": [
            "Processing images:  30%|███       | 2440/8010 [12:47<22:50,  4.06it/s]"
          ]
        },
        {
          "output_type": "stream",
          "name": "stdout",
          "text": [
            "259\n"
          ]
        },
        {
          "output_type": "stream",
          "name": "stderr",
          "text": [
            "Processing images:  31%|███       | 2446/8010 [12:49<32:36,  2.84it/s]"
          ]
        },
        {
          "output_type": "stream",
          "name": "stdout",
          "text": [
            "260\n"
          ]
        },
        {
          "output_type": "stream",
          "name": "stderr",
          "text": [
            "Processing images:  31%|███       | 2453/8010 [12:50<22:51,  4.05it/s]"
          ]
        },
        {
          "output_type": "stream",
          "name": "stdout",
          "text": [
            "261\n"
          ]
        },
        {
          "output_type": "stream",
          "name": "stderr",
          "text": [
            "Processing images:  31%|███       | 2458/8010 [12:53<40:05,  2.31it/s]"
          ]
        },
        {
          "output_type": "stream",
          "name": "stdout",
          "text": [
            "262\n"
          ]
        },
        {
          "output_type": "stream",
          "name": "stderr",
          "text": [
            "Processing images:  31%|███       | 2468/8010 [12:56<23:20,  3.96it/s]"
          ]
        },
        {
          "output_type": "stream",
          "name": "stdout",
          "text": [
            "263\n"
          ]
        },
        {
          "output_type": "stream",
          "name": "stderr",
          "text": [
            "Processing images:  31%|███       | 2471/8010 [12:57<23:16,  3.97it/s]"
          ]
        },
        {
          "output_type": "stream",
          "name": "stdout",
          "text": [
            "264\n"
          ]
        },
        {
          "output_type": "stream",
          "name": "stderr",
          "text": [
            "Processing images:  31%|███       | 2474/8010 [12:57<18:56,  4.87it/s]"
          ]
        },
        {
          "output_type": "stream",
          "name": "stdout",
          "text": [
            "265\n"
          ]
        },
        {
          "output_type": "stream",
          "name": "stderr",
          "text": [
            "Processing images:  31%|███       | 2484/8010 [12:59<19:18,  4.77it/s]"
          ]
        },
        {
          "output_type": "stream",
          "name": "stdout",
          "text": [
            "266\n"
          ]
        },
        {
          "output_type": "stream",
          "name": "stderr",
          "text": [
            "Processing images:  31%|███       | 2490/8010 [13:01<21:58,  4.19it/s]"
          ]
        },
        {
          "output_type": "stream",
          "name": "stdout",
          "text": [
            "267\n"
          ]
        },
        {
          "output_type": "stream",
          "name": "stderr",
          "text": [
            "Processing images:  31%|███       | 2495/8010 [13:02<27:11,  3.38it/s]"
          ]
        },
        {
          "output_type": "stream",
          "name": "stdout",
          "text": [
            "268\n"
          ]
        },
        {
          "output_type": "stream",
          "name": "stderr",
          "text": [
            "Processing images:  31%|███▏      | 2517/8010 [13:10<20:40,  4.43it/s]"
          ]
        },
        {
          "output_type": "stream",
          "name": "stdout",
          "text": [
            "269\n"
          ]
        },
        {
          "output_type": "stream",
          "name": "stderr",
          "text": [
            "Processing images:  32%|███▏      | 2527/8010 [13:13<19:56,  4.58it/s]"
          ]
        },
        {
          "output_type": "stream",
          "name": "stdout",
          "text": [
            "270\n"
          ]
        },
        {
          "output_type": "stream",
          "name": "stderr",
          "text": [
            "Processing images:  32%|███▏      | 2533/8010 [13:14<17:17,  5.28it/s]"
          ]
        },
        {
          "output_type": "stream",
          "name": "stdout",
          "text": [
            "271\n"
          ]
        },
        {
          "output_type": "stream",
          "name": "stderr",
          "text": [
            "Processing images:  32%|███▏      | 2563/8010 [13:24<34:33,  2.63it/s]"
          ]
        },
        {
          "output_type": "stream",
          "name": "stdout",
          "text": [
            "272\n"
          ]
        },
        {
          "output_type": "stream",
          "name": "stderr",
          "text": [
            "Processing images:  32%|███▏      | 2566/8010 [13:25<25:09,  3.61it/s]"
          ]
        },
        {
          "output_type": "stream",
          "name": "stdout",
          "text": [
            "273\n"
          ]
        },
        {
          "output_type": "stream",
          "name": "stderr",
          "text": [
            "Processing images:  32%|███▏      | 2571/8010 [13:26<18:02,  5.02it/s]"
          ]
        },
        {
          "output_type": "stream",
          "name": "stdout",
          "text": [
            "274\n"
          ]
        },
        {
          "output_type": "stream",
          "name": "stderr",
          "text": [
            "Processing images:  32%|███▏      | 2575/8010 [13:27<28:22,  3.19it/s]"
          ]
        },
        {
          "output_type": "stream",
          "name": "stdout",
          "text": [
            "275\n"
          ]
        },
        {
          "output_type": "stream",
          "name": "stderr",
          "text": [
            "Processing images:  32%|███▏      | 2579/8010 [13:28<19:23,  4.67it/s]"
          ]
        },
        {
          "output_type": "stream",
          "name": "stdout",
          "text": [
            "276\n"
          ]
        },
        {
          "output_type": "stream",
          "name": "stderr",
          "text": [
            "Processing images:  32%|███▏      | 2586/8010 [13:31<38:30,  2.35it/s]"
          ]
        },
        {
          "output_type": "stream",
          "name": "stdout",
          "text": [
            "277\n"
          ]
        },
        {
          "output_type": "stream",
          "name": "stderr",
          "text": [
            "Processing images:  32%|███▏      | 2590/8010 [13:32<25:49,  3.50it/s]"
          ]
        },
        {
          "output_type": "stream",
          "name": "stdout",
          "text": [
            "278\n"
          ]
        },
        {
          "output_type": "stream",
          "name": "stderr",
          "text": [
            "Processing images:  33%|███▎      | 2613/8010 [13:38<19:38,  4.58it/s]"
          ]
        },
        {
          "output_type": "stream",
          "name": "stdout",
          "text": [
            "279\n"
          ]
        },
        {
          "output_type": "stream",
          "name": "stderr",
          "text": [
            "Processing images:  33%|███▎      | 2622/8010 [13:41<29:46,  3.02it/s]"
          ]
        },
        {
          "output_type": "stream",
          "name": "stdout",
          "text": [
            "280\n"
          ]
        },
        {
          "output_type": "stream",
          "name": "stderr",
          "text": [
            "Processing images:  33%|███▎      | 2632/8010 [13:45<42:13,  2.12it/s]"
          ]
        },
        {
          "output_type": "stream",
          "name": "stdout",
          "text": [
            "281\n"
          ]
        },
        {
          "output_type": "stream",
          "name": "stderr",
          "text": [
            "Processing images:  33%|███▎      | 2660/8010 [13:53<21:00,  4.25it/s]"
          ]
        },
        {
          "output_type": "stream",
          "name": "stdout",
          "text": [
            "282\n"
          ]
        },
        {
          "output_type": "stream",
          "name": "stderr",
          "text": [
            "Processing images:  34%|███▎      | 2693/8010 [14:03<16:19,  5.43it/s]"
          ]
        },
        {
          "output_type": "stream",
          "name": "stdout",
          "text": [
            "283\n"
          ]
        },
        {
          "output_type": "stream",
          "name": "stderr",
          "text": [
            "Processing images:  34%|███▍      | 2719/8010 [14:12<21:31,  4.10it/s]"
          ]
        },
        {
          "output_type": "stream",
          "name": "stdout",
          "text": [
            "284\n",
            "285\n"
          ]
        },
        {
          "output_type": "stream",
          "name": "stderr",
          "text": [
            "Processing images:  34%|███▍      | 2722/8010 [14:12<17:11,  5.13it/s]"
          ]
        },
        {
          "output_type": "stream",
          "name": "stdout",
          "text": [
            "286\n"
          ]
        },
        {
          "output_type": "stream",
          "name": "stderr",
          "text": [
            "Processing images:  34%|███▍      | 2733/8010 [14:15<24:14,  3.63it/s]"
          ]
        },
        {
          "output_type": "stream",
          "name": "stdout",
          "text": [
            "287\n"
          ]
        },
        {
          "output_type": "stream",
          "name": "stderr",
          "text": [
            "Processing images:  34%|███▍      | 2737/8010 [14:16<17:57,  4.89it/s]"
          ]
        },
        {
          "output_type": "stream",
          "name": "stdout",
          "text": [
            "288\n",
            "289\n"
          ]
        },
        {
          "output_type": "stream",
          "name": "stderr",
          "text": [
            "Processing images:  34%|███▍      | 2760/8010 [14:24<25:56,  3.37it/s]"
          ]
        },
        {
          "output_type": "stream",
          "name": "stdout",
          "text": [
            "290\n"
          ]
        },
        {
          "output_type": "stream",
          "name": "stderr",
          "text": [
            "Processing images:  35%|███▍      | 2786/8010 [14:31<13:07,  6.64it/s]"
          ]
        },
        {
          "output_type": "stream",
          "name": "stdout",
          "text": [
            "291\n",
            "292\n"
          ]
        },
        {
          "output_type": "stream",
          "name": "stderr",
          "text": [
            "Processing images:  35%|███▍      | 2799/8010 [14:36<41:37,  2.09it/s]"
          ]
        },
        {
          "output_type": "stream",
          "name": "stdout",
          "text": [
            "293\n"
          ]
        },
        {
          "output_type": "stream",
          "name": "stderr",
          "text": [
            "Processing images:  35%|███▌      | 2805/8010 [14:37<21:59,  3.94it/s]"
          ]
        },
        {
          "output_type": "stream",
          "name": "stdout",
          "text": [
            "294\n"
          ]
        },
        {
          "output_type": "stream",
          "name": "stderr",
          "text": [
            "Processing images:  35%|███▌      | 2810/8010 [14:39<19:14,  4.51it/s]"
          ]
        },
        {
          "output_type": "stream",
          "name": "stdout",
          "text": [
            "295\n"
          ]
        },
        {
          "output_type": "stream",
          "name": "stderr",
          "text": [
            "Processing images:  35%|███▌      | 2814/8010 [14:40<20:03,  4.32it/s]"
          ]
        },
        {
          "output_type": "stream",
          "name": "stdout",
          "text": [
            "296\n"
          ]
        },
        {
          "output_type": "stream",
          "name": "stderr",
          "text": [
            "Processing images:  35%|███▌      | 2823/8010 [14:42<18:04,  4.78it/s]"
          ]
        },
        {
          "output_type": "stream",
          "name": "stdout",
          "text": [
            "297\n"
          ]
        },
        {
          "output_type": "stream",
          "name": "stderr",
          "text": [
            "Processing images:  35%|███▌      | 2830/8010 [14:44<25:01,  3.45it/s]"
          ]
        },
        {
          "output_type": "stream",
          "name": "stdout",
          "text": [
            "298\n"
          ]
        },
        {
          "output_type": "stream",
          "name": "stderr",
          "text": [
            "Processing images:  35%|███▌      | 2841/8010 [14:49<23:53,  3.61it/s]"
          ]
        },
        {
          "output_type": "stream",
          "name": "stdout",
          "text": [
            "299\n"
          ]
        },
        {
          "output_type": "stream",
          "name": "stderr",
          "text": [
            "Processing images:  36%|███▌      | 2870/8010 [14:56<19:01,  4.50it/s]"
          ]
        },
        {
          "output_type": "stream",
          "name": "stdout",
          "text": [
            "300\n"
          ]
        },
        {
          "output_type": "stream",
          "name": "stderr",
          "text": [
            "Processing images:  36%|███▌      | 2876/8010 [14:59<35:48,  2.39it/s]"
          ]
        },
        {
          "output_type": "stream",
          "name": "stdout",
          "text": [
            "301\n"
          ]
        },
        {
          "output_type": "stream",
          "name": "stderr",
          "text": [
            "Processing images:  36%|███▌      | 2880/8010 [15:01<37:07,  2.30it/s]"
          ]
        },
        {
          "output_type": "stream",
          "name": "stdout",
          "text": [
            "302\n",
            "303\n"
          ]
        },
        {
          "output_type": "stream",
          "name": "stderr",
          "text": [
            "Processing images:  36%|███▌      | 2885/8010 [15:03<31:35,  2.70it/s]"
          ]
        },
        {
          "output_type": "stream",
          "name": "stdout",
          "text": [
            "304\n"
          ]
        },
        {
          "output_type": "stream",
          "name": "stderr",
          "text": [
            "Processing images:  36%|███▌      | 2894/8010 [15:06<21:54,  3.89it/s]"
          ]
        },
        {
          "output_type": "stream",
          "name": "stdout",
          "text": [
            "305\n"
          ]
        },
        {
          "output_type": "stream",
          "name": "stderr",
          "text": [
            "Processing images:  36%|███▋      | 2915/8010 [15:12<28:46,  2.95it/s]"
          ]
        },
        {
          "output_type": "stream",
          "name": "stdout",
          "text": [
            "306\n"
          ]
        },
        {
          "output_type": "stream",
          "name": "stderr",
          "text": [
            "Processing images:  37%|███▋      | 2939/8010 [15:20<25:40,  3.29it/s]"
          ]
        },
        {
          "output_type": "stream",
          "name": "stdout",
          "text": [
            "307\n"
          ]
        },
        {
          "output_type": "stream",
          "name": "stderr",
          "text": [
            "Processing images:  37%|███▋      | 2949/8010 [15:23<19:23,  4.35it/s]"
          ]
        },
        {
          "output_type": "stream",
          "name": "stdout",
          "text": [
            "308\n"
          ]
        },
        {
          "output_type": "stream",
          "name": "stderr",
          "text": [
            "Processing images:  37%|███▋      | 2953/8010 [15:24<18:24,  4.58it/s]"
          ]
        },
        {
          "output_type": "stream",
          "name": "stdout",
          "text": [
            "309\n"
          ]
        },
        {
          "output_type": "stream",
          "name": "stderr",
          "text": [
            "Processing images:  37%|███▋      | 2957/8010 [15:25<25:52,  3.25it/s]"
          ]
        },
        {
          "output_type": "stream",
          "name": "stdout",
          "text": [
            "310\n"
          ]
        },
        {
          "output_type": "stream",
          "name": "stderr",
          "text": [
            "Processing images:  37%|███▋      | 2963/8010 [15:28<27:01,  3.11it/s]"
          ]
        },
        {
          "output_type": "stream",
          "name": "stdout",
          "text": [
            "311\n"
          ]
        },
        {
          "output_type": "stream",
          "name": "stderr",
          "text": [
            "Processing images:  37%|███▋      | 2987/8010 [15:34<16:25,  5.10it/s]"
          ]
        },
        {
          "output_type": "stream",
          "name": "stdout",
          "text": [
            "312\n"
          ]
        },
        {
          "output_type": "stream",
          "name": "stderr",
          "text": [
            "Processing images:  37%|███▋      | 2992/8010 [15:35<17:42,  4.72it/s]"
          ]
        },
        {
          "output_type": "stream",
          "name": "stdout",
          "text": [
            "313\n"
          ]
        },
        {
          "output_type": "stream",
          "name": "stderr",
          "text": [
            "Processing images:  37%|███▋      | 2994/8010 [15:35<15:59,  5.23it/s]"
          ]
        },
        {
          "output_type": "stream",
          "name": "stdout",
          "text": [
            "314\n"
          ]
        },
        {
          "output_type": "stream",
          "name": "stderr",
          "text": [
            "Processing images:  37%|███▋      | 2997/8010 [15:36<16:37,  5.03it/s]"
          ]
        },
        {
          "output_type": "stream",
          "name": "stdout",
          "text": [
            "315\n"
          ]
        },
        {
          "output_type": "stream",
          "name": "stderr",
          "text": [
            "Processing images:  38%|███▊      | 3012/8010 [15:42<21:05,  3.95it/s]"
          ]
        },
        {
          "output_type": "stream",
          "name": "stdout",
          "text": [
            "316\n"
          ]
        },
        {
          "output_type": "stream",
          "name": "stderr",
          "text": [
            "Processing images:  38%|███▊      | 3018/8010 [15:43<15:03,  5.52it/s]"
          ]
        },
        {
          "output_type": "stream",
          "name": "stdout",
          "text": [
            "317\n"
          ]
        },
        {
          "output_type": "stream",
          "name": "stderr",
          "text": [
            "Processing images:  38%|███▊      | 3030/8010 [15:47<25:54,  3.20it/s]"
          ]
        },
        {
          "output_type": "stream",
          "name": "stdout",
          "text": [
            "318\n"
          ]
        },
        {
          "output_type": "stream",
          "name": "stderr",
          "text": [
            "Processing images:  38%|███▊      | 3044/8010 [15:51<23:12,  3.57it/s]"
          ]
        },
        {
          "output_type": "stream",
          "name": "stdout",
          "text": [
            "319\n"
          ]
        },
        {
          "output_type": "stream",
          "name": "stderr",
          "text": [
            "Processing images:  38%|███▊      | 3048/8010 [15:53<35:47,  2.31it/s]"
          ]
        },
        {
          "output_type": "stream",
          "name": "stdout",
          "text": [
            "320\n"
          ]
        },
        {
          "output_type": "stream",
          "name": "stderr",
          "text": [
            "Processing images:  38%|███▊      | 3065/8010 [15:57<19:54,  4.14it/s]"
          ]
        },
        {
          "output_type": "stream",
          "name": "stdout",
          "text": [
            "321\n"
          ]
        },
        {
          "output_type": "stream",
          "name": "stderr",
          "text": [
            "Processing images:  38%|███▊      | 3070/8010 [15:58<17:37,  4.67it/s]"
          ]
        },
        {
          "output_type": "stream",
          "name": "stdout",
          "text": [
            "322\n"
          ]
        },
        {
          "output_type": "stream",
          "name": "stderr",
          "text": [
            "Processing images:  39%|███▊      | 3091/8010 [16:07<32:02,  2.56it/s]"
          ]
        },
        {
          "output_type": "stream",
          "name": "stdout",
          "text": [
            "323\n"
          ]
        },
        {
          "output_type": "stream",
          "name": "stderr",
          "text": [
            "Processing images:  39%|███▊      | 3094/8010 [16:08<25:14,  3.25it/s]"
          ]
        },
        {
          "output_type": "stream",
          "name": "stdout",
          "text": [
            "324\n"
          ]
        },
        {
          "output_type": "stream",
          "name": "stderr",
          "text": [
            "Processing images:  39%|███▊      | 3101/8010 [16:10<20:56,  3.91it/s]"
          ]
        },
        {
          "output_type": "stream",
          "name": "stdout",
          "text": [
            "325\n"
          ]
        },
        {
          "output_type": "stream",
          "name": "stderr",
          "text": [
            "Processing images:  39%|███▉      | 3120/8010 [16:16<21:38,  3.76it/s]"
          ]
        },
        {
          "output_type": "stream",
          "name": "stdout",
          "text": [
            "326\n"
          ]
        },
        {
          "output_type": "stream",
          "name": "stderr",
          "text": [
            "Processing images:  39%|███▉      | 3139/8010 [16:23<24:53,  3.26it/s]"
          ]
        },
        {
          "output_type": "stream",
          "name": "stdout",
          "text": [
            "327\n"
          ]
        },
        {
          "output_type": "stream",
          "name": "stderr",
          "text": [
            "\rProcessing images:  39%|███▉      | 3140/8010 [16:23<28:01,  2.90it/s]"
          ]
        },
        {
          "output_type": "stream",
          "name": "stdout",
          "text": [
            "328\n"
          ]
        },
        {
          "output_type": "stream",
          "name": "stderr",
          "text": [
            "Processing images:  39%|███▉      | 3151/8010 [16:27<26:35,  3.05it/s]"
          ]
        },
        {
          "output_type": "stream",
          "name": "stdout",
          "text": [
            "329\n"
          ]
        },
        {
          "output_type": "stream",
          "name": "stderr",
          "text": [
            "Processing images:  40%|███▉      | 3167/8010 [16:32<25:10,  3.21it/s]"
          ]
        },
        {
          "output_type": "stream",
          "name": "stdout",
          "text": [
            "330\n"
          ]
        },
        {
          "output_type": "stream",
          "name": "stderr",
          "text": [
            "Processing images:  40%|███▉      | 3171/8010 [16:34<24:06,  3.35it/s]"
          ]
        },
        {
          "output_type": "stream",
          "name": "stdout",
          "text": [
            "331\n"
          ]
        },
        {
          "output_type": "stream",
          "name": "stderr",
          "text": [
            "Processing images:  40%|███▉      | 3193/8010 [16:40<17:23,  4.62it/s]"
          ]
        },
        {
          "output_type": "stream",
          "name": "stdout",
          "text": [
            "332\n"
          ]
        },
        {
          "output_type": "stream",
          "name": "stderr",
          "text": [
            "\rProcessing images:  40%|███▉      | 3194/8010 [16:40<17:06,  4.69it/s]"
          ]
        },
        {
          "output_type": "stream",
          "name": "stdout",
          "text": [
            "333\n"
          ]
        },
        {
          "output_type": "stream",
          "name": "stderr",
          "text": [
            "Processing images:  40%|████      | 3206/8010 [16:45<27:32,  2.91it/s]"
          ]
        },
        {
          "output_type": "stream",
          "name": "stdout",
          "text": [
            "334\n"
          ]
        },
        {
          "output_type": "stream",
          "name": "stderr",
          "text": [
            "Processing images:  40%|████      | 3211/8010 [16:46<18:56,  4.22it/s]"
          ]
        },
        {
          "output_type": "stream",
          "name": "stdout",
          "text": [
            "335\n"
          ]
        },
        {
          "output_type": "stream",
          "name": "stderr",
          "text": [
            "Processing images:  40%|████      | 3223/8010 [16:49<16:02,  4.97it/s]"
          ]
        },
        {
          "output_type": "stream",
          "name": "stdout",
          "text": [
            "336\n"
          ]
        },
        {
          "output_type": "stream",
          "name": "stderr",
          "text": [
            "Processing images:  41%|████      | 3246/8010 [16:58<35:47,  2.22it/s]"
          ]
        },
        {
          "output_type": "stream",
          "name": "stdout",
          "text": [
            "337\n"
          ]
        },
        {
          "output_type": "stream",
          "name": "stderr",
          "text": [
            "Processing images:  41%|████      | 3249/8010 [16:59<28:02,  2.83it/s]"
          ]
        },
        {
          "output_type": "stream",
          "name": "stdout",
          "text": [
            "338\n"
          ]
        },
        {
          "output_type": "stream",
          "name": "stderr",
          "text": [
            "Processing images:  41%|████      | 3260/8010 [17:01<17:51,  4.43it/s]"
          ]
        },
        {
          "output_type": "stream",
          "name": "stdout",
          "text": [
            "339\n"
          ]
        },
        {
          "output_type": "stream",
          "name": "stderr",
          "text": [
            "Processing images:  41%|████      | 3266/8010 [17:03<15:13,  5.19it/s]"
          ]
        },
        {
          "output_type": "stream",
          "name": "stdout",
          "text": [
            "340\n"
          ]
        },
        {
          "output_type": "stream",
          "name": "stderr",
          "text": [
            "Processing images:  41%|████      | 3277/8010 [17:06<22:43,  3.47it/s]"
          ]
        },
        {
          "output_type": "stream",
          "name": "stdout",
          "text": [
            "341\n"
          ]
        },
        {
          "output_type": "stream",
          "name": "stderr",
          "text": [
            "Processing images:  41%|████      | 3284/8010 [17:08<21:28,  3.67it/s]"
          ]
        },
        {
          "output_type": "stream",
          "name": "stdout",
          "text": [
            "342\n"
          ]
        },
        {
          "output_type": "stream",
          "name": "stderr",
          "text": [
            "Processing images:  41%|████      | 3289/8010 [17:10<23:51,  3.30it/s]"
          ]
        },
        {
          "output_type": "stream",
          "name": "stdout",
          "text": [
            "343\n",
            "344\n"
          ]
        },
        {
          "output_type": "stream",
          "name": "stderr",
          "text": [
            "Processing images:  41%|████      | 3303/8010 [17:16<23:18,  3.37it/s]"
          ]
        },
        {
          "output_type": "stream",
          "name": "stdout",
          "text": [
            "345\n"
          ]
        },
        {
          "output_type": "stream",
          "name": "stderr",
          "text": [
            "Processing images:  41%|████▏     | 3313/8010 [17:19<22:32,  3.47it/s]"
          ]
        },
        {
          "output_type": "stream",
          "name": "stdout",
          "text": [
            "346\n"
          ]
        },
        {
          "output_type": "stream",
          "name": "stderr",
          "text": [
            "Processing images:  41%|████▏     | 3320/8010 [17:21<16:40,  4.69it/s]"
          ]
        },
        {
          "output_type": "stream",
          "name": "stdout",
          "text": [
            "347\n"
          ]
        },
        {
          "output_type": "stream",
          "name": "stderr",
          "text": [
            "Processing images:  42%|████▏     | 3353/8010 [17:34<22:53,  3.39it/s]"
          ]
        },
        {
          "output_type": "stream",
          "name": "stdout",
          "text": [
            "348\n"
          ]
        },
        {
          "output_type": "stream",
          "name": "stderr",
          "text": [
            "Processing images:  42%|████▏     | 3358/8010 [17:36<34:24,  2.25it/s]"
          ]
        },
        {
          "output_type": "stream",
          "name": "stdout",
          "text": [
            "349\n"
          ]
        },
        {
          "output_type": "stream",
          "name": "stderr",
          "text": [
            "Processing images:  42%|████▏     | 3369/8010 [17:40<20:34,  3.76it/s]"
          ]
        },
        {
          "output_type": "stream",
          "name": "stdout",
          "text": [
            "350\n"
          ]
        },
        {
          "output_type": "stream",
          "name": "stderr",
          "text": [
            "Processing images:  42%|████▏     | 3377/8010 [17:43<24:22,  3.17it/s]"
          ]
        },
        {
          "output_type": "stream",
          "name": "stdout",
          "text": [
            "351\n"
          ]
        },
        {
          "output_type": "stream",
          "name": "stderr",
          "text": [
            "Processing images:  42%|████▏     | 3389/8010 [17:47<20:06,  3.83it/s]"
          ]
        },
        {
          "output_type": "stream",
          "name": "stdout",
          "text": [
            "352\n",
            "353\n"
          ]
        },
        {
          "output_type": "stream",
          "name": "stderr",
          "text": [
            "Processing images:  42%|████▏     | 3399/8010 [17:51<32:16,  2.38it/s]"
          ]
        },
        {
          "output_type": "stream",
          "name": "stdout",
          "text": [
            "354\n"
          ]
        },
        {
          "output_type": "stream",
          "name": "stderr",
          "text": [
            "Processing images:  43%|████▎     | 3433/8010 [18:05<28:52,  2.64it/s]"
          ]
        },
        {
          "output_type": "stream",
          "name": "stdout",
          "text": [
            "355\n"
          ]
        },
        {
          "output_type": "stream",
          "name": "stderr",
          "text": [
            "Processing images:  43%|████▎     | 3442/8010 [18:07<15:09,  5.02it/s]"
          ]
        },
        {
          "output_type": "stream",
          "name": "stdout",
          "text": [
            "356\n"
          ]
        },
        {
          "output_type": "stream",
          "name": "stderr",
          "text": [
            "Processing images:  43%|████▎     | 3448/8010 [18:09<24:15,  3.13it/s]"
          ]
        },
        {
          "output_type": "stream",
          "name": "stdout",
          "text": [
            "357\n"
          ]
        },
        {
          "output_type": "stream",
          "name": "stderr",
          "text": [
            "Processing images:  43%|████▎     | 3454/8010 [18:11<20:04,  3.78it/s]"
          ]
        },
        {
          "output_type": "stream",
          "name": "stdout",
          "text": [
            "358\n"
          ]
        },
        {
          "output_type": "stream",
          "name": "stderr",
          "text": [
            "Processing images:  43%|████▎     | 3459/8010 [18:12<16:14,  4.67it/s]"
          ]
        },
        {
          "output_type": "stream",
          "name": "stdout",
          "text": [
            "359\n"
          ]
        },
        {
          "output_type": "stream",
          "name": "stderr",
          "text": [
            "Processing images:  43%|████▎     | 3463/8010 [18:13<17:35,  4.31it/s]"
          ]
        },
        {
          "output_type": "stream",
          "name": "stdout",
          "text": [
            "360\n",
            "361\n"
          ]
        },
        {
          "output_type": "stream",
          "name": "stderr",
          "text": [
            "Processing images:  43%|████▎     | 3470/8010 [18:15<21:59,  3.44it/s]"
          ]
        },
        {
          "output_type": "stream",
          "name": "stdout",
          "text": [
            "362\n"
          ]
        },
        {
          "output_type": "stream",
          "name": "stderr",
          "text": [
            "Processing images:  44%|████▎     | 3487/8010 [18:21<20:11,  3.73it/s]"
          ]
        },
        {
          "output_type": "stream",
          "name": "stdout",
          "text": [
            "363\n"
          ]
        },
        {
          "output_type": "stream",
          "name": "stderr",
          "text": [
            "Processing images:  44%|████▍     | 3528/8010 [18:34<16:00,  4.67it/s]"
          ]
        },
        {
          "output_type": "stream",
          "name": "stdout",
          "text": [
            "364\n"
          ]
        },
        {
          "output_type": "stream",
          "name": "stderr",
          "text": [
            "Processing images:  44%|████▍     | 3552/8010 [18:41<30:30,  2.44it/s]"
          ]
        },
        {
          "output_type": "stream",
          "name": "stdout",
          "text": [
            "365\n"
          ]
        },
        {
          "output_type": "stream",
          "name": "stderr",
          "text": [
            "\rProcessing images:  44%|████▍     | 3553/8010 [18:41<26:00,  2.86it/s]"
          ]
        },
        {
          "output_type": "stream",
          "name": "stdout",
          "text": [
            "366\n"
          ]
        },
        {
          "output_type": "stream",
          "name": "stderr",
          "text": [
            "Processing images:  45%|████▍     | 3576/8010 [18:52<25:18,  2.92it/s]"
          ]
        },
        {
          "output_type": "stream",
          "name": "stdout",
          "text": [
            "367\n"
          ]
        },
        {
          "output_type": "stream",
          "name": "stderr",
          "text": [
            "Processing images:  45%|████▍     | 3592/8010 [18:59<23:02,  3.20it/s]"
          ]
        },
        {
          "output_type": "stream",
          "name": "stdout",
          "text": [
            "368\n"
          ]
        },
        {
          "output_type": "stream",
          "name": "stderr",
          "text": [
            "Processing images:  45%|████▍     | 3595/8010 [19:00<18:15,  4.03it/s]"
          ]
        },
        {
          "output_type": "stream",
          "name": "stdout",
          "text": [
            "369\n"
          ]
        },
        {
          "output_type": "stream",
          "name": "stderr",
          "text": [
            "Processing images:  45%|████▌     | 3624/8010 [19:11<36:20,  2.01it/s]"
          ]
        },
        {
          "output_type": "stream",
          "name": "stdout",
          "text": [
            "370\n"
          ]
        },
        {
          "output_type": "stream",
          "name": "stderr",
          "text": [
            "Processing images:  45%|████▌     | 3626/8010 [19:13<39:55,  1.83it/s]"
          ]
        },
        {
          "output_type": "stream",
          "name": "stdout",
          "text": [
            "371\n"
          ]
        },
        {
          "output_type": "stream",
          "name": "stderr",
          "text": [
            "Processing images:  45%|████▌     | 3637/8010 [19:17<18:34,  3.92it/s]"
          ]
        },
        {
          "output_type": "stream",
          "name": "stdout",
          "text": [
            "372\n"
          ]
        },
        {
          "output_type": "stream",
          "name": "stderr",
          "text": [
            "Processing images:  45%|████▌     | 3641/8010 [19:18<14:00,  5.20it/s]"
          ]
        },
        {
          "output_type": "stream",
          "name": "stdout",
          "text": [
            "373\n",
            "374\n"
          ]
        },
        {
          "output_type": "stream",
          "name": "stderr",
          "text": [
            "Processing images:  46%|████▌     | 3645/8010 [19:19<11:34,  6.29it/s]"
          ]
        },
        {
          "output_type": "stream",
          "name": "stdout",
          "text": [
            "375\n"
          ]
        },
        {
          "output_type": "stream",
          "name": "stderr",
          "text": [
            "Processing images:  46%|████▌     | 3658/8010 [19:22<21:59,  3.30it/s]"
          ]
        },
        {
          "output_type": "stream",
          "name": "stdout",
          "text": [
            "376\n"
          ]
        },
        {
          "output_type": "stream",
          "name": "stderr",
          "text": [
            "Processing images:  46%|████▌     | 3666/8010 [19:25<21:13,  3.41it/s]"
          ]
        },
        {
          "output_type": "stream",
          "name": "stdout",
          "text": [
            "377\n"
          ]
        },
        {
          "output_type": "stream",
          "name": "stderr",
          "text": [
            "Processing images:  46%|████▌     | 3683/8010 [19:29<16:40,  4.32it/s]"
          ]
        },
        {
          "output_type": "stream",
          "name": "stdout",
          "text": [
            "378\n"
          ]
        },
        {
          "output_type": "stream",
          "name": "stderr",
          "text": [
            "Processing images:  46%|████▌     | 3687/8010 [19:30<16:14,  4.44it/s]"
          ]
        },
        {
          "output_type": "stream",
          "name": "stdout",
          "text": [
            "379\n"
          ]
        },
        {
          "output_type": "stream",
          "name": "stderr",
          "text": [
            "Processing images:  46%|████▌     | 3695/8010 [19:33<18:25,  3.90it/s]"
          ]
        },
        {
          "output_type": "stream",
          "name": "stdout",
          "text": [
            "380\n",
            "381\n"
          ]
        },
        {
          "output_type": "stream",
          "name": "stderr",
          "text": [
            "Processing images:  46%|████▋     | 3714/8010 [19:39<23:10,  3.09it/s]"
          ]
        },
        {
          "output_type": "stream",
          "name": "stdout",
          "text": [
            "382\n"
          ]
        },
        {
          "output_type": "stream",
          "name": "stderr",
          "text": [
            "Processing images:  46%|████▋     | 3721/8010 [19:41<19:52,  3.60it/s]"
          ]
        },
        {
          "output_type": "stream",
          "name": "stdout",
          "text": [
            "383\n"
          ]
        },
        {
          "output_type": "stream",
          "name": "stderr",
          "text": [
            "Processing images:  47%|████▋     | 3731/8010 [19:44<14:35,  4.89it/s]"
          ]
        },
        {
          "output_type": "stream",
          "name": "stdout",
          "text": [
            "384\n"
          ]
        },
        {
          "output_type": "stream",
          "name": "stderr",
          "text": [
            "Processing images:  47%|████▋     | 3755/8010 [19:53<26:10,  2.71it/s]"
          ]
        },
        {
          "output_type": "stream",
          "name": "stdout",
          "text": [
            "385\n"
          ]
        },
        {
          "output_type": "stream",
          "name": "stderr",
          "text": [
            "Processing images:  47%|████▋     | 3759/8010 [19:54<15:18,  4.63it/s]"
          ]
        },
        {
          "output_type": "stream",
          "name": "stdout",
          "text": [
            "386\n"
          ]
        },
        {
          "output_type": "stream",
          "name": "stderr",
          "text": [
            "Processing images:  47%|████▋     | 3775/8010 [19:58<12:31,  5.64it/s]"
          ]
        },
        {
          "output_type": "stream",
          "name": "stdout",
          "text": [
            "387\n"
          ]
        },
        {
          "output_type": "stream",
          "name": "stderr",
          "text": [
            "Processing images:  47%|████▋     | 3779/8010 [19:59<13:11,  5.35it/s]"
          ]
        },
        {
          "output_type": "stream",
          "name": "stdout",
          "text": [
            "388\n"
          ]
        },
        {
          "output_type": "stream",
          "name": "stderr",
          "text": [
            "Processing images:  47%|████▋     | 3789/8010 [20:03<30:26,  2.31it/s]"
          ]
        },
        {
          "output_type": "stream",
          "name": "stdout",
          "text": [
            "389\n"
          ]
        },
        {
          "output_type": "stream",
          "name": "stderr",
          "text": [
            "Processing images:  47%|████▋     | 3796/8010 [20:05<17:30,  4.01it/s]"
          ]
        },
        {
          "output_type": "stream",
          "name": "stdout",
          "text": [
            "390\n"
          ]
        },
        {
          "output_type": "stream",
          "name": "stderr",
          "text": [
            "Processing images:  47%|████▋     | 3800/8010 [20:06<15:36,  4.49it/s]"
          ]
        },
        {
          "output_type": "stream",
          "name": "stdout",
          "text": [
            "391\n"
          ]
        },
        {
          "output_type": "stream",
          "name": "stderr",
          "text": [
            "Processing images:  48%|████▊     | 3812/8010 [20:09<15:31,  4.51it/s]"
          ]
        },
        {
          "output_type": "stream",
          "name": "stdout",
          "text": [
            "392\n"
          ]
        },
        {
          "output_type": "stream",
          "name": "stderr",
          "text": [
            "Processing images:  48%|████▊     | 3820/8010 [20:11<18:21,  3.80it/s]"
          ]
        },
        {
          "output_type": "stream",
          "name": "stdout",
          "text": [
            "393\n"
          ]
        },
        {
          "output_type": "stream",
          "name": "stderr",
          "text": [
            "Processing images:  48%|████▊     | 3822/8010 [20:12<20:27,  3.41it/s]"
          ]
        },
        {
          "output_type": "stream",
          "name": "stdout",
          "text": [
            "394\n"
          ]
        },
        {
          "output_type": "stream",
          "name": "stderr",
          "text": [
            "Processing images:  48%|████▊     | 3829/8010 [20:13<16:05,  4.33it/s]"
          ]
        },
        {
          "output_type": "stream",
          "name": "stdout",
          "text": [
            "395\n"
          ]
        },
        {
          "output_type": "stream",
          "name": "stderr",
          "text": [
            "Processing images:  48%|████▊     | 3833/8010 [20:15<22:44,  3.06it/s]"
          ]
        },
        {
          "output_type": "stream",
          "name": "stdout",
          "text": [
            "396\n"
          ]
        },
        {
          "output_type": "stream",
          "name": "stderr",
          "text": [
            "Processing images:  48%|████▊     | 3842/8010 [20:19<17:50,  3.89it/s]"
          ]
        },
        {
          "output_type": "stream",
          "name": "stdout",
          "text": [
            "397\n"
          ]
        },
        {
          "output_type": "stream",
          "name": "stderr",
          "text": [
            "Processing images:  48%|████▊     | 3845/8010 [20:19<19:58,  3.48it/s]"
          ]
        },
        {
          "output_type": "stream",
          "name": "stdout",
          "text": [
            "398\n"
          ]
        },
        {
          "output_type": "stream",
          "name": "stderr",
          "text": [
            "Processing images:  48%|████▊     | 3849/8010 [20:21<18:01,  3.85it/s]"
          ]
        },
        {
          "output_type": "stream",
          "name": "stdout",
          "text": [
            "399\n"
          ]
        },
        {
          "output_type": "stream",
          "name": "stderr",
          "text": [
            "Processing images:  48%|████▊     | 3853/8010 [20:22<16:33,  4.18it/s]"
          ]
        },
        {
          "output_type": "stream",
          "name": "stdout",
          "text": [
            "400\n"
          ]
        },
        {
          "output_type": "stream",
          "name": "stderr",
          "text": [
            "Processing images:  48%|████▊     | 3867/8010 [20:26<15:12,  4.54it/s]"
          ]
        },
        {
          "output_type": "stream",
          "name": "stdout",
          "text": [
            "401\n"
          ]
        },
        {
          "output_type": "stream",
          "name": "stderr",
          "text": [
            "Processing images:  49%|████▊     | 3904/8010 [20:39<20:44,  3.30it/s]"
          ]
        },
        {
          "output_type": "stream",
          "name": "stdout",
          "text": [
            "402\n"
          ]
        },
        {
          "output_type": "stream",
          "name": "stderr",
          "text": [
            "\rProcessing images:  49%|████▉     | 3905/8010 [20:39<18:50,  3.63it/s]"
          ]
        },
        {
          "output_type": "stream",
          "name": "stdout",
          "text": [
            "403\n"
          ]
        },
        {
          "output_type": "stream",
          "name": "stderr",
          "text": [
            "Processing images:  49%|████▉     | 3908/8010 [20:40<13:11,  5.19it/s]"
          ]
        },
        {
          "output_type": "stream",
          "name": "stdout",
          "text": [
            "404\n"
          ]
        },
        {
          "output_type": "stream",
          "name": "stderr",
          "text": [
            "Processing images:  49%|████▉     | 3934/8010 [20:50<19:00,  3.57it/s]"
          ]
        },
        {
          "output_type": "stream",
          "name": "stdout",
          "text": [
            "405\n"
          ]
        },
        {
          "output_type": "stream",
          "name": "stderr",
          "text": [
            "Processing images:  49%|████▉     | 3964/8010 [21:01<18:34,  3.63it/s]"
          ]
        },
        {
          "output_type": "stream",
          "name": "stdout",
          "text": [
            "406\n"
          ]
        },
        {
          "output_type": "stream",
          "name": "stderr",
          "text": [
            "Processing images:  50%|████▉     | 3967/8010 [21:01<14:33,  4.63it/s]"
          ]
        },
        {
          "output_type": "stream",
          "name": "stdout",
          "text": [
            "407\n"
          ]
        },
        {
          "output_type": "stream",
          "name": "stderr",
          "text": [
            "Processing images:  50%|████▉     | 3972/8010 [21:03<15:56,  4.22it/s]"
          ]
        },
        {
          "output_type": "stream",
          "name": "stdout",
          "text": [
            "408\n"
          ]
        },
        {
          "output_type": "stream",
          "name": "stderr",
          "text": [
            "\rProcessing images:  50%|████▉     | 3973/8010 [21:03<16:53,  3.98it/s]"
          ]
        },
        {
          "output_type": "stream",
          "name": "stdout",
          "text": [
            "409\n"
          ]
        },
        {
          "output_type": "stream",
          "name": "stderr",
          "text": [
            "Processing images:  50%|████▉     | 3977/8010 [21:04<17:27,  3.85it/s]"
          ]
        },
        {
          "output_type": "stream",
          "name": "stdout",
          "text": [
            "410\n"
          ]
        },
        {
          "output_type": "stream",
          "name": "stderr",
          "text": [
            "Processing images:  50%|████▉     | 3981/8010 [21:05<17:11,  3.90it/s]"
          ]
        },
        {
          "output_type": "stream",
          "name": "stdout",
          "text": [
            "411\n"
          ]
        },
        {
          "output_type": "stream",
          "name": "stderr",
          "text": [
            "\rProcessing images:  50%|████▉     | 3982/8010 [21:05<17:15,  3.89it/s]"
          ]
        },
        {
          "output_type": "stream",
          "name": "stdout",
          "text": [
            "412\n"
          ]
        },
        {
          "output_type": "stream",
          "name": "stderr",
          "text": [
            "Processing images:  50%|████▉     | 3992/8010 [21:08<16:02,  4.17it/s]"
          ]
        },
        {
          "output_type": "stream",
          "name": "stdout",
          "text": [
            "413\n"
          ]
        },
        {
          "output_type": "stream",
          "name": "stderr",
          "text": [
            "Processing images:  50%|█████     | 4009/8010 [21:13<19:55,  3.35it/s]"
          ]
        },
        {
          "output_type": "stream",
          "name": "stdout",
          "text": [
            "414\n"
          ]
        },
        {
          "output_type": "stream",
          "name": "stderr",
          "text": [
            "Processing images:  50%|█████     | 4014/8010 [21:15<18:14,  3.65it/s]"
          ]
        },
        {
          "output_type": "stream",
          "name": "stdout",
          "text": [
            "415\n"
          ]
        },
        {
          "output_type": "stream",
          "name": "stderr",
          "text": [
            "Processing images:  50%|█████     | 4016/8010 [21:15<16:48,  3.96it/s]"
          ]
        },
        {
          "output_type": "stream",
          "name": "stdout",
          "text": [
            "416\n"
          ]
        },
        {
          "output_type": "stream",
          "name": "stderr",
          "text": [
            "Processing images:  50%|█████     | 4019/8010 [21:16<14:47,  4.50it/s]"
          ]
        },
        {
          "output_type": "stream",
          "name": "stdout",
          "text": [
            "417\n",
            "418\n"
          ]
        },
        {
          "output_type": "stream",
          "name": "stderr",
          "text": [
            "Processing images:  50%|█████     | 4032/8010 [21:19<12:31,  5.29it/s]"
          ]
        },
        {
          "output_type": "stream",
          "name": "stdout",
          "text": [
            "419\n"
          ]
        },
        {
          "output_type": "stream",
          "name": "stderr",
          "text": [
            "Processing images:  50%|█████     | 4041/8010 [21:21<14:32,  4.55it/s]"
          ]
        },
        {
          "output_type": "stream",
          "name": "stdout",
          "text": [
            "420\n"
          ]
        },
        {
          "output_type": "stream",
          "name": "stderr",
          "text": [
            "Processing images:  51%|█████     | 4054/8010 [21:25<13:53,  4.75it/s]"
          ]
        },
        {
          "output_type": "stream",
          "name": "stdout",
          "text": [
            "421\n"
          ]
        },
        {
          "output_type": "stream",
          "name": "stderr",
          "text": [
            "Processing images:  51%|█████     | 4063/8010 [21:28<20:01,  3.29it/s]"
          ]
        },
        {
          "output_type": "stream",
          "name": "stdout",
          "text": [
            "422\n"
          ]
        },
        {
          "output_type": "stream",
          "name": "stderr",
          "text": [
            "Processing images:  51%|█████     | 4069/8010 [21:30<16:14,  4.04it/s]"
          ]
        },
        {
          "output_type": "stream",
          "name": "stdout",
          "text": [
            "423\n"
          ]
        },
        {
          "output_type": "stream",
          "name": "stderr",
          "text": [
            "Processing images:  51%|█████     | 4076/8010 [21:32<18:34,  3.53it/s]"
          ]
        },
        {
          "output_type": "stream",
          "name": "stdout",
          "text": [
            "424\n"
          ]
        },
        {
          "output_type": "stream",
          "name": "stderr",
          "text": [
            "Processing images:  51%|█████     | 4084/8010 [21:34<20:28,  3.19it/s]"
          ]
        },
        {
          "output_type": "stream",
          "name": "stdout",
          "text": [
            "425\n"
          ]
        },
        {
          "output_type": "stream",
          "name": "stderr",
          "text": [
            "\rProcessing images:  51%|█████     | 4085/8010 [21:35<18:32,  3.53it/s]"
          ]
        },
        {
          "output_type": "stream",
          "name": "stdout",
          "text": [
            "426\n"
          ]
        },
        {
          "output_type": "stream",
          "name": "stderr",
          "text": [
            "Processing images:  51%|█████     | 4087/8010 [21:35<22:06,  2.96it/s]"
          ]
        },
        {
          "output_type": "stream",
          "name": "stdout",
          "text": [
            "427\n"
          ]
        },
        {
          "output_type": "stream",
          "name": "stderr",
          "text": [
            "Processing images:  51%|█████     | 4089/8010 [21:36<21:10,  3.09it/s]"
          ]
        },
        {
          "output_type": "stream",
          "name": "stdout",
          "text": [
            "428\n"
          ]
        },
        {
          "output_type": "stream",
          "name": "stderr",
          "text": [
            "Processing images:  51%|█████     | 4100/8010 [21:39<14:25,  4.52it/s]"
          ]
        },
        {
          "output_type": "stream",
          "name": "stdout",
          "text": [
            "429\n"
          ]
        },
        {
          "output_type": "stream",
          "name": "stderr",
          "text": [
            "Processing images:  51%|█████▏    | 4115/8010 [21:42<13:43,  4.73it/s]"
          ]
        },
        {
          "output_type": "stream",
          "name": "stdout",
          "text": [
            "430\n"
          ]
        },
        {
          "output_type": "stream",
          "name": "stderr",
          "text": [
            "\rProcessing images:  51%|█████▏    | 4117/8010 [21:43<10:28,  6.19it/s]"
          ]
        },
        {
          "output_type": "stream",
          "name": "stdout",
          "text": [
            "431\n",
            "432\n"
          ]
        },
        {
          "output_type": "stream",
          "name": "stderr",
          "text": [
            "Processing images:  51%|█████▏    | 4121/8010 [21:44<13:38,  4.75it/s]"
          ]
        },
        {
          "output_type": "stream",
          "name": "stdout",
          "text": [
            "433\n"
          ]
        },
        {
          "output_type": "stream",
          "name": "stderr",
          "text": [
            "Processing images:  51%|█████▏    | 4125/8010 [21:45<17:35,  3.68it/s]"
          ]
        },
        {
          "output_type": "stream",
          "name": "stdout",
          "text": [
            "434\n"
          ]
        },
        {
          "output_type": "stream",
          "name": "stderr",
          "text": [
            "Processing images:  52%|█████▏    | 4130/8010 [21:46<14:37,  4.42it/s]"
          ]
        },
        {
          "output_type": "stream",
          "name": "stdout",
          "text": [
            "435\n"
          ]
        },
        {
          "output_type": "stream",
          "name": "stderr",
          "text": [
            "Processing images:  52%|█████▏    | 4132/8010 [21:47<15:43,  4.11it/s]"
          ]
        },
        {
          "output_type": "stream",
          "name": "stdout",
          "text": [
            "436\n"
          ]
        },
        {
          "output_type": "stream",
          "name": "stderr",
          "text": [
            "Processing images:  52%|█████▏    | 4163/8010 [21:57<16:52,  3.80it/s]"
          ]
        },
        {
          "output_type": "stream",
          "name": "stdout",
          "text": [
            "437\n"
          ]
        },
        {
          "output_type": "stream",
          "name": "stderr",
          "text": [
            "Processing images:  52%|█████▏    | 4165/8010 [21:58<22:17,  2.87it/s]"
          ]
        },
        {
          "output_type": "stream",
          "name": "stdout",
          "text": [
            "438\n"
          ]
        },
        {
          "output_type": "stream",
          "name": "stderr",
          "text": [
            "Processing images:  52%|█████▏    | 4169/8010 [21:58<15:32,  4.12it/s]"
          ]
        },
        {
          "output_type": "stream",
          "name": "stdout",
          "text": [
            "439\n"
          ]
        },
        {
          "output_type": "stream",
          "name": "stderr",
          "text": [
            "Processing images:  52%|█████▏    | 4173/8010 [22:00<23:40,  2.70it/s]"
          ]
        },
        {
          "output_type": "stream",
          "name": "stdout",
          "text": [
            "440\n"
          ]
        },
        {
          "output_type": "stream",
          "name": "stderr",
          "text": [
            "Processing images:  52%|█████▏    | 4183/8010 [22:04<17:36,  3.62it/s]"
          ]
        },
        {
          "output_type": "stream",
          "name": "stdout",
          "text": [
            "441\n"
          ]
        },
        {
          "output_type": "stream",
          "name": "stderr",
          "text": [
            "Processing images:  52%|█████▏    | 4185/8010 [22:05<18:03,  3.53it/s]"
          ]
        },
        {
          "output_type": "stream",
          "name": "stdout",
          "text": [
            "442\n"
          ]
        },
        {
          "output_type": "stream",
          "name": "stderr",
          "text": [
            "Processing images:  52%|█████▏    | 4190/8010 [22:06<17:24,  3.66it/s]"
          ]
        },
        {
          "output_type": "stream",
          "name": "stdout",
          "text": [
            "443\n"
          ]
        },
        {
          "output_type": "stream",
          "name": "stderr",
          "text": [
            "Processing images:  52%|█████▏    | 4195/8010 [22:07<15:31,  4.10it/s]"
          ]
        },
        {
          "output_type": "stream",
          "name": "stdout",
          "text": [
            "444\n"
          ]
        },
        {
          "output_type": "stream",
          "name": "stderr",
          "text": [
            "Processing images:  52%|█████▏    | 4199/8010 [22:08<12:27,  5.10it/s]"
          ]
        },
        {
          "output_type": "stream",
          "name": "stdout",
          "text": [
            "445\n"
          ]
        },
        {
          "output_type": "stream",
          "name": "stderr",
          "text": [
            "\rProcessing images:  52%|█████▏    | 4200/8010 [22:08<11:04,  5.73it/s]"
          ]
        },
        {
          "output_type": "stream",
          "name": "stdout",
          "text": [
            "446\n"
          ]
        },
        {
          "output_type": "stream",
          "name": "stderr",
          "text": [
            "Processing images:  52%|█████▏    | 4205/8010 [22:10<16:39,  3.81it/s]"
          ]
        },
        {
          "output_type": "stream",
          "name": "stdout",
          "text": [
            "447\n"
          ]
        },
        {
          "output_type": "stream",
          "name": "stderr",
          "text": [
            "Processing images:  53%|█████▎    | 4218/8010 [22:15<30:38,  2.06it/s]"
          ]
        },
        {
          "output_type": "stream",
          "name": "stdout",
          "text": [
            "448\n"
          ]
        },
        {
          "output_type": "stream",
          "name": "stderr",
          "text": [
            "Processing images:  53%|█████▎    | 4223/8010 [22:16<16:33,  3.81it/s]"
          ]
        },
        {
          "output_type": "stream",
          "name": "stdout",
          "text": [
            "449\n"
          ]
        },
        {
          "output_type": "stream",
          "name": "stderr",
          "text": [
            "Processing images:  53%|█████▎    | 4232/8010 [22:18<12:29,  5.04it/s]"
          ]
        },
        {
          "output_type": "stream",
          "name": "stdout",
          "text": [
            "450\n"
          ]
        },
        {
          "output_type": "stream",
          "name": "stderr",
          "text": [
            "Processing images:  53%|█████▎    | 4241/8010 [22:21<15:06,  4.16it/s]"
          ]
        },
        {
          "output_type": "stream",
          "name": "stdout",
          "text": [
            "451\n"
          ]
        },
        {
          "output_type": "stream",
          "name": "stderr",
          "text": [
            "Processing images:  53%|█████▎    | 4253/8010 [22:25<19:41,  3.18it/s]"
          ]
        },
        {
          "output_type": "stream",
          "name": "stdout",
          "text": [
            "452\n"
          ]
        },
        {
          "output_type": "stream",
          "name": "stderr",
          "text": [
            "Processing images:  53%|█████▎    | 4259/8010 [22:27<22:48,  2.74it/s]"
          ]
        },
        {
          "output_type": "stream",
          "name": "stdout",
          "text": [
            "453\n"
          ]
        },
        {
          "output_type": "stream",
          "name": "stderr",
          "text": [
            "Processing images:  53%|█████▎    | 4278/8010 [22:33<20:17,  3.06it/s]"
          ]
        },
        {
          "output_type": "stream",
          "name": "stdout",
          "text": [
            "454\n"
          ]
        },
        {
          "output_type": "stream",
          "name": "stderr",
          "text": [
            "\rProcessing images:  53%|█████▎    | 4279/8010 [22:33<18:51,  3.30it/s]"
          ]
        },
        {
          "output_type": "stream",
          "name": "stdout",
          "text": [
            "455\n"
          ]
        },
        {
          "output_type": "stream",
          "name": "stderr",
          "text": [
            "Processing images:  54%|█████▍    | 4322/8010 [22:49<18:20,  3.35it/s]"
          ]
        },
        {
          "output_type": "stream",
          "name": "stdout",
          "text": [
            "456\n"
          ]
        },
        {
          "output_type": "stream",
          "name": "stderr",
          "text": [
            "Processing images:  54%|█████▍    | 4345/8010 [23:00<19:34,  3.12it/s]"
          ]
        },
        {
          "output_type": "stream",
          "name": "stdout",
          "text": [
            "457\n"
          ]
        },
        {
          "output_type": "stream",
          "name": "stderr",
          "text": [
            "Processing images:  54%|█████▍    | 4353/8010 [23:03<17:58,  3.39it/s]"
          ]
        },
        {
          "output_type": "stream",
          "name": "stdout",
          "text": [
            "458\n"
          ]
        },
        {
          "output_type": "stream",
          "name": "stderr",
          "text": [
            "Processing images:  54%|█████▍    | 4359/8010 [23:04<16:10,  3.76it/s]"
          ]
        },
        {
          "output_type": "stream",
          "name": "stdout",
          "text": [
            "459\n"
          ]
        },
        {
          "output_type": "stream",
          "name": "stderr",
          "text": [
            "Processing images:  55%|█████▍    | 4378/8010 [23:10<20:34,  2.94it/s]"
          ]
        },
        {
          "output_type": "stream",
          "name": "stdout",
          "text": [
            "460\n"
          ]
        },
        {
          "output_type": "stream",
          "name": "stderr",
          "text": [
            "Processing images:  55%|█████▍    | 4381/8010 [23:11<17:41,  3.42it/s]"
          ]
        },
        {
          "output_type": "stream",
          "name": "stdout",
          "text": [
            "461\n"
          ]
        },
        {
          "output_type": "stream",
          "name": "stderr",
          "text": [
            "Processing images:  55%|█████▍    | 4390/8010 [23:13<11:55,  5.06it/s]"
          ]
        },
        {
          "output_type": "stream",
          "name": "stdout",
          "text": [
            "462\n"
          ]
        },
        {
          "output_type": "stream",
          "name": "stderr",
          "text": [
            "Processing images:  55%|█████▍    | 4392/8010 [23:13<09:47,  6.16it/s]"
          ]
        },
        {
          "output_type": "stream",
          "name": "stdout",
          "text": [
            "463\n"
          ]
        },
        {
          "output_type": "stream",
          "name": "stderr",
          "text": [
            "Processing images:  55%|█████▍    | 4400/8010 [23:16<18:42,  3.22it/s]"
          ]
        },
        {
          "output_type": "stream",
          "name": "stdout",
          "text": [
            "464\n"
          ]
        },
        {
          "output_type": "stream",
          "name": "stderr",
          "text": [
            "Processing images:  55%|█████▌    | 4406/8010 [23:17<18:07,  3.31it/s]"
          ]
        },
        {
          "output_type": "stream",
          "name": "stdout",
          "text": [
            "465\n"
          ]
        },
        {
          "output_type": "stream",
          "name": "stderr",
          "text": [
            "\rProcessing images:  55%|█████▌    | 4407/8010 [23:18<16:29,  3.64it/s]"
          ]
        },
        {
          "output_type": "stream",
          "name": "stdout",
          "text": [
            "466\n"
          ]
        },
        {
          "output_type": "stream",
          "name": "stderr",
          "text": [
            "\rProcessing images:  55%|█████▌    | 4408/8010 [23:18<16:37,  3.61it/s]"
          ]
        },
        {
          "output_type": "stream",
          "name": "stdout",
          "text": [
            "467\n"
          ]
        },
        {
          "output_type": "stream",
          "name": "stderr",
          "text": [
            "Processing images:  55%|█████▌    | 4411/8010 [23:19<19:29,  3.08it/s]"
          ]
        },
        {
          "output_type": "stream",
          "name": "stdout",
          "text": [
            "468\n"
          ]
        },
        {
          "output_type": "stream",
          "name": "stderr",
          "text": [
            "Processing images:  55%|█████▌    | 4420/8010 [23:23<22:23,  2.67it/s]"
          ]
        },
        {
          "output_type": "stream",
          "name": "stdout",
          "text": [
            "469\n"
          ]
        },
        {
          "output_type": "stream",
          "name": "stderr",
          "text": [
            "\rProcessing images:  55%|█████▌    | 4421/8010 [23:23<20:23,  2.93it/s]"
          ]
        },
        {
          "output_type": "stream",
          "name": "stdout",
          "text": [
            "470\n"
          ]
        },
        {
          "output_type": "stream",
          "name": "stderr",
          "text": [
            "Processing images:  55%|█████▌    | 4429/8010 [23:25<15:00,  3.97it/s]"
          ]
        },
        {
          "output_type": "stream",
          "name": "stdout",
          "text": [
            "471\n"
          ]
        },
        {
          "output_type": "stream",
          "name": "stderr",
          "text": [
            "Processing images:  56%|█████▌    | 4471/8010 [23:44<18:55,  3.12it/s]"
          ]
        },
        {
          "output_type": "stream",
          "name": "stdout",
          "text": [
            "472\n"
          ]
        },
        {
          "output_type": "stream",
          "name": "stderr",
          "text": [
            "Processing images:  56%|█████▋    | 4506/8010 [23:59<29:56,  1.95it/s]"
          ]
        },
        {
          "output_type": "stream",
          "name": "stdout",
          "text": [
            "473\n"
          ]
        },
        {
          "output_type": "stream",
          "name": "stderr",
          "text": [
            "Processing images:  56%|█████▋    | 4510/8010 [24:02<33:46,  1.73it/s]"
          ]
        },
        {
          "output_type": "stream",
          "name": "stdout",
          "text": [
            "474\n"
          ]
        },
        {
          "output_type": "stream",
          "name": "stderr",
          "text": [
            "Processing images:  56%|█████▋    | 4515/8010 [24:04<20:01,  2.91it/s]"
          ]
        },
        {
          "output_type": "stream",
          "name": "stdout",
          "text": [
            "475\n",
            "476\n"
          ]
        },
        {
          "output_type": "stream",
          "name": "stderr",
          "text": [
            "Processing images:  57%|█████▋    | 4531/8010 [24:09<19:29,  2.98it/s]"
          ]
        },
        {
          "output_type": "stream",
          "name": "stdout",
          "text": [
            "477\n"
          ]
        },
        {
          "output_type": "stream",
          "name": "stderr",
          "text": [
            "Processing images:  57%|█████▋    | 4552/8010 [24:18<21:08,  2.73it/s]"
          ]
        },
        {
          "output_type": "stream",
          "name": "stdout",
          "text": [
            "478\n",
            "479\n"
          ]
        },
        {
          "output_type": "stream",
          "name": "stderr",
          "text": [
            "Processing images:  57%|█████▋    | 4555/8010 [24:19<17:52,  3.22it/s]"
          ]
        },
        {
          "output_type": "stream",
          "name": "stdout",
          "text": [
            "480\n"
          ]
        },
        {
          "output_type": "stream",
          "name": "stderr",
          "text": [
            "Processing images:  57%|█████▋    | 4571/8010 [24:24<16:42,  3.43it/s]"
          ]
        },
        {
          "output_type": "stream",
          "name": "stdout",
          "text": [
            "481\n"
          ]
        },
        {
          "output_type": "stream",
          "name": "stderr",
          "text": [
            "Processing images:  57%|█████▋    | 4574/8010 [24:25<17:26,  3.28it/s]"
          ]
        },
        {
          "output_type": "stream",
          "name": "stdout",
          "text": [
            "482\n"
          ]
        },
        {
          "output_type": "stream",
          "name": "stderr",
          "text": [
            "\rProcessing images:  57%|█████▋    | 4576/8010 [24:25<14:29,  3.95it/s]"
          ]
        },
        {
          "output_type": "stream",
          "name": "stdout",
          "text": [
            "483\n"
          ]
        },
        {
          "output_type": "stream",
          "name": "stderr",
          "text": [
            "Processing images:  57%|█████▋    | 4581/8010 [24:26<12:24,  4.60it/s]"
          ]
        },
        {
          "output_type": "stream",
          "name": "stdout",
          "text": [
            "484\n"
          ]
        },
        {
          "output_type": "stream",
          "name": "stderr",
          "text": [
            "Processing images:  57%|█████▋    | 4589/8010 [24:28<14:36,  3.90it/s]"
          ]
        },
        {
          "output_type": "stream",
          "name": "stdout",
          "text": [
            "485\n"
          ]
        },
        {
          "output_type": "stream",
          "name": "stderr",
          "text": [
            "\rProcessing images:  57%|█████▋    | 4590/8010 [24:28<12:51,  4.43it/s]"
          ]
        },
        {
          "output_type": "stream",
          "name": "stdout",
          "text": [
            "486\n"
          ]
        },
        {
          "output_type": "stream",
          "name": "stderr",
          "text": [
            "Processing images:  57%|█████▋    | 4594/8010 [24:31<27:31,  2.07it/s]"
          ]
        },
        {
          "output_type": "stream",
          "name": "stdout",
          "text": [
            "487\n"
          ]
        },
        {
          "output_type": "stream",
          "name": "stderr",
          "text": [
            "Processing images:  57%|█████▋    | 4597/8010 [24:32<18:41,  3.04it/s]"
          ]
        },
        {
          "output_type": "stream",
          "name": "stdout",
          "text": [
            "488\n"
          ]
        },
        {
          "output_type": "stream",
          "name": "stderr",
          "text": [
            "Processing images:  58%|█████▊    | 4606/8010 [24:35<13:48,  4.11it/s]"
          ]
        },
        {
          "output_type": "stream",
          "name": "stdout",
          "text": [
            "489\n",
            "490\n",
            "491\n"
          ]
        },
        {
          "output_type": "stream",
          "name": "stderr",
          "text": [
            "Processing images:  58%|█████▊    | 4613/8010 [24:36<15:04,  3.76it/s]"
          ]
        },
        {
          "output_type": "stream",
          "name": "stdout",
          "text": [
            "492\n"
          ]
        },
        {
          "output_type": "stream",
          "name": "stderr",
          "text": [
            "Processing images:  58%|█████▊    | 4616/8010 [24:37<15:03,  3.76it/s]"
          ]
        },
        {
          "output_type": "stream",
          "name": "stdout",
          "text": [
            "493\n"
          ]
        },
        {
          "output_type": "stream",
          "name": "stderr",
          "text": [
            "Processing images:  58%|█████▊    | 4630/8010 [24:41<14:11,  3.97it/s]"
          ]
        },
        {
          "output_type": "stream",
          "name": "stdout",
          "text": [
            "494\n"
          ]
        },
        {
          "output_type": "stream",
          "name": "stderr",
          "text": [
            "\rProcessing images:  58%|█████▊    | 4631/8010 [24:41<13:38,  4.13it/s]"
          ]
        },
        {
          "output_type": "stream",
          "name": "stdout",
          "text": [
            "495\n"
          ]
        },
        {
          "output_type": "stream",
          "name": "stderr",
          "text": [
            "Processing images:  58%|█████▊    | 4647/8010 [24:47<14:19,  3.91it/s]"
          ]
        },
        {
          "output_type": "stream",
          "name": "stdout",
          "text": [
            "496\n"
          ]
        },
        {
          "output_type": "stream",
          "name": "stderr",
          "text": [
            "Processing images:  58%|█████▊    | 4650/8010 [24:48<14:45,  3.80it/s]"
          ]
        },
        {
          "output_type": "stream",
          "name": "stdout",
          "text": [
            "497\n"
          ]
        },
        {
          "output_type": "stream",
          "name": "stderr",
          "text": [
            "Processing images:  58%|█████▊    | 4653/8010 [24:49<13:23,  4.18it/s]"
          ]
        },
        {
          "output_type": "stream",
          "name": "stdout",
          "text": [
            "498\n"
          ]
        },
        {
          "output_type": "stream",
          "name": "stderr",
          "text": [
            "Processing images:  58%|█████▊    | 4658/8010 [24:50<11:44,  4.76it/s]"
          ]
        },
        {
          "output_type": "stream",
          "name": "stdout",
          "text": [
            "499\n"
          ]
        },
        {
          "output_type": "stream",
          "name": "stderr",
          "text": [
            "Processing images:  58%|█████▊    | 4664/8010 [24:52<16:56,  3.29it/s]"
          ]
        },
        {
          "output_type": "stream",
          "name": "stdout",
          "text": [
            "500\n"
          ]
        },
        {
          "output_type": "stream",
          "name": "stderr",
          "text": [
            "Processing images:  58%|█████▊    | 4683/8010 [24:59<11:08,  4.98it/s]"
          ]
        },
        {
          "output_type": "stream",
          "name": "stdout",
          "text": [
            "501\n",
            "502\n"
          ]
        },
        {
          "output_type": "stream",
          "name": "stderr",
          "text": [
            "Processing images:  59%|█████▊    | 4695/8010 [25:02<12:57,  4.27it/s]"
          ]
        },
        {
          "output_type": "stream",
          "name": "stdout",
          "text": [
            "503\n"
          ]
        },
        {
          "output_type": "stream",
          "name": "stderr",
          "text": [
            "Processing images:  59%|█████▊    | 4697/8010 [25:03<13:14,  4.17it/s]"
          ]
        },
        {
          "output_type": "stream",
          "name": "stdout",
          "text": [
            "504\n"
          ]
        },
        {
          "output_type": "stream",
          "name": "stderr",
          "text": [
            "Processing images:  59%|█████▉    | 4710/8010 [25:06<14:51,  3.70it/s]"
          ]
        },
        {
          "output_type": "stream",
          "name": "stdout",
          "text": [
            "505\n"
          ]
        },
        {
          "output_type": "stream",
          "name": "stderr",
          "text": [
            "Processing images:  59%|█████▉    | 4712/8010 [25:07<16:14,  3.38it/s]"
          ]
        },
        {
          "output_type": "stream",
          "name": "stdout",
          "text": [
            "506\n"
          ]
        },
        {
          "output_type": "stream",
          "name": "stderr",
          "text": [
            "Processing images:  59%|█████▉    | 4724/8010 [25:12<18:33,  2.95it/s]"
          ]
        },
        {
          "output_type": "stream",
          "name": "stdout",
          "text": [
            "507\n"
          ]
        },
        {
          "output_type": "stream",
          "name": "stderr",
          "text": [
            "Processing images:  59%|█████▉    | 4739/8010 [25:15<12:31,  4.35it/s]"
          ]
        },
        {
          "output_type": "stream",
          "name": "stdout",
          "text": [
            "508\n"
          ]
        },
        {
          "output_type": "stream",
          "name": "stderr",
          "text": [
            "Processing images:  59%|█████▉    | 4746/8010 [25:18<14:54,  3.65it/s]"
          ]
        },
        {
          "output_type": "stream",
          "name": "stdout",
          "text": [
            "509\n"
          ]
        },
        {
          "output_type": "stream",
          "name": "stderr",
          "text": [
            "Processing images:  59%|█████▉    | 4760/8010 [25:23<14:21,  3.77it/s]"
          ]
        },
        {
          "output_type": "stream",
          "name": "stdout",
          "text": [
            "510\n",
            "511\n",
            "512\n"
          ]
        },
        {
          "output_type": "stream",
          "name": "stderr",
          "text": [
            "\rProcessing images:  59%|█████▉    | 4761/8010 [25:23<13:14,  4.09it/s]"
          ]
        },
        {
          "output_type": "stream",
          "name": "stdout",
          "text": [
            "513\n",
            "514\n"
          ]
        },
        {
          "output_type": "stream",
          "name": "stderr",
          "text": [
            "Processing images:  60%|█████▉    | 4783/8010 [25:30<12:13,  4.40it/s]"
          ]
        },
        {
          "output_type": "stream",
          "name": "stdout",
          "text": [
            "515\n"
          ]
        },
        {
          "output_type": "stream",
          "name": "stderr",
          "text": [
            "Processing images:  60%|█████▉    | 4794/8010 [25:33<14:10,  3.78it/s]"
          ]
        },
        {
          "output_type": "stream",
          "name": "stdout",
          "text": [
            "516\n"
          ]
        },
        {
          "output_type": "stream",
          "name": "stderr",
          "text": [
            "Processing images:  60%|██████    | 4812/8010 [25:39<15:48,  3.37it/s]"
          ]
        },
        {
          "output_type": "stream",
          "name": "stdout",
          "text": [
            "517\n"
          ]
        },
        {
          "output_type": "stream",
          "name": "stderr",
          "text": [
            "Processing images:  60%|██████    | 4829/8010 [25:44<14:18,  3.71it/s]"
          ]
        },
        {
          "output_type": "stream",
          "name": "stdout",
          "text": [
            "518\n"
          ]
        },
        {
          "output_type": "stream",
          "name": "stderr",
          "text": [
            "Processing images:  60%|██████    | 4832/8010 [25:44<12:23,  4.27it/s]"
          ]
        },
        {
          "output_type": "stream",
          "name": "stdout",
          "text": [
            "519\n",
            "520\n"
          ]
        },
        {
          "output_type": "stream",
          "name": "stderr",
          "text": [
            "Processing images:  60%|██████    | 4839/8010 [25:46<12:34,  4.20it/s]"
          ]
        },
        {
          "output_type": "stream",
          "name": "stdout",
          "text": [
            "521\n"
          ]
        },
        {
          "output_type": "stream",
          "name": "stderr",
          "text": [
            "Processing images:  61%|██████    | 4850/8010 [25:50<11:45,  4.48it/s]"
          ]
        },
        {
          "output_type": "stream",
          "name": "stdout",
          "text": [
            "522\n"
          ]
        },
        {
          "output_type": "stream",
          "name": "stderr",
          "text": [
            "Processing images:  61%|██████    | 4856/8010 [25:51<08:56,  5.88it/s]"
          ]
        },
        {
          "output_type": "stream",
          "name": "stdout",
          "text": [
            "523\n",
            "524\n"
          ]
        },
        {
          "output_type": "stream",
          "name": "stderr",
          "text": [
            "Processing images:  61%|██████    | 4862/8010 [25:53<12:25,  4.22it/s]"
          ]
        },
        {
          "output_type": "stream",
          "name": "stdout",
          "text": [
            "525\n"
          ]
        },
        {
          "output_type": "stream",
          "name": "stderr",
          "text": [
            "Processing images:  61%|██████    | 4870/8010 [25:55<11:32,  4.53it/s]"
          ]
        },
        {
          "output_type": "stream",
          "name": "stdout",
          "text": [
            "526\n"
          ]
        },
        {
          "output_type": "stream",
          "name": "stderr",
          "text": [
            "Processing images:  61%|██████    | 4878/8010 [25:57<14:58,  3.49it/s]"
          ]
        },
        {
          "output_type": "stream",
          "name": "stdout",
          "text": [
            "527\n"
          ]
        },
        {
          "output_type": "stream",
          "name": "stderr",
          "text": [
            "Processing images:  61%|██████    | 4881/8010 [25:58<11:31,  4.53it/s]"
          ]
        },
        {
          "output_type": "stream",
          "name": "stdout",
          "text": [
            "528\n"
          ]
        },
        {
          "output_type": "stream",
          "name": "stderr",
          "text": [
            "Processing images:  61%|██████    | 4896/8010 [26:03<16:18,  3.18it/s]"
          ]
        },
        {
          "output_type": "stream",
          "name": "stdout",
          "text": [
            "529\n"
          ]
        },
        {
          "output_type": "stream",
          "name": "stderr",
          "text": [
            "Processing images:  61%|██████    | 4901/8010 [26:04<11:25,  4.54it/s]"
          ]
        },
        {
          "output_type": "stream",
          "name": "stdout",
          "text": [
            "530\n"
          ]
        },
        {
          "output_type": "stream",
          "name": "stderr",
          "text": [
            "Processing images:  61%|██████▏   | 4912/8010 [26:07<11:37,  4.44it/s]"
          ]
        },
        {
          "output_type": "stream",
          "name": "stdout",
          "text": [
            "531\n"
          ]
        },
        {
          "output_type": "stream",
          "name": "stderr",
          "text": [
            "Processing images:  61%|██████▏   | 4915/8010 [26:08<13:34,  3.80it/s]"
          ]
        },
        {
          "output_type": "stream",
          "name": "stdout",
          "text": [
            "532\n"
          ]
        },
        {
          "output_type": "stream",
          "name": "stderr",
          "text": [
            "Processing images:  61%|██████▏   | 4921/8010 [26:09<13:16,  3.88it/s]"
          ]
        },
        {
          "output_type": "stream",
          "name": "stdout",
          "text": [
            "533\n"
          ]
        },
        {
          "output_type": "stream",
          "name": "stderr",
          "text": [
            "Processing images:  62%|██████▏   | 4946/8010 [26:18<10:10,  5.02it/s]"
          ]
        },
        {
          "output_type": "stream",
          "name": "stdout",
          "text": [
            "534\n"
          ]
        },
        {
          "output_type": "stream",
          "name": "stderr",
          "text": [
            "Processing images:  62%|██████▏   | 4956/8010 [26:21<12:50,  3.96it/s]"
          ]
        },
        {
          "output_type": "stream",
          "name": "stdout",
          "text": [
            "535\n"
          ]
        },
        {
          "output_type": "stream",
          "name": "stderr",
          "text": [
            "Processing images:  62%|██████▏   | 4979/8010 [26:29<11:59,  4.21it/s]"
          ]
        },
        {
          "output_type": "stream",
          "name": "stdout",
          "text": [
            "536\n"
          ]
        },
        {
          "output_type": "stream",
          "name": "stderr",
          "text": [
            "Processing images:  62%|██████▏   | 4999/8010 [26:35<18:33,  2.70it/s]"
          ]
        },
        {
          "output_type": "stream",
          "name": "stdout",
          "text": [
            "537\n"
          ]
        },
        {
          "output_type": "stream",
          "name": "stderr",
          "text": [
            "Processing images:  62%|██████▏   | 5003/8010 [26:36<12:34,  3.99it/s]"
          ]
        },
        {
          "output_type": "stream",
          "name": "stdout",
          "text": [
            "538\n"
          ]
        },
        {
          "output_type": "stream",
          "name": "stderr",
          "text": [
            "Processing images:  63%|██████▎   | 5009/8010 [26:38<12:01,  4.16it/s]"
          ]
        },
        {
          "output_type": "stream",
          "name": "stdout",
          "text": [
            "539\n"
          ]
        },
        {
          "output_type": "stream",
          "name": "stderr",
          "text": [
            "Processing images:  63%|██████▎   | 5013/8010 [26:39<13:59,  3.57it/s]"
          ]
        },
        {
          "output_type": "stream",
          "name": "stdout",
          "text": [
            "540\n"
          ]
        },
        {
          "output_type": "stream",
          "name": "stderr",
          "text": [
            "Processing images:  63%|██████▎   | 5058/8010 [26:55<21:40,  2.27it/s]"
          ]
        },
        {
          "output_type": "stream",
          "name": "stdout",
          "text": [
            "541\n"
          ]
        },
        {
          "output_type": "stream",
          "name": "stderr",
          "text": [
            "Processing images:  63%|██████▎   | 5076/8010 [27:01<14:32,  3.36it/s]"
          ]
        },
        {
          "output_type": "stream",
          "name": "stdout",
          "text": [
            "542\n"
          ]
        },
        {
          "output_type": "stream",
          "name": "stderr",
          "text": [
            "Processing images:  63%|██████▎   | 5079/8010 [27:02<13:03,  3.74it/s]"
          ]
        },
        {
          "output_type": "stream",
          "name": "stdout",
          "text": [
            "543\n"
          ]
        },
        {
          "output_type": "stream",
          "name": "stderr",
          "text": [
            "Processing images:  63%|██████▎   | 5082/8010 [27:03<10:20,  4.72it/s]"
          ]
        },
        {
          "output_type": "stream",
          "name": "stdout",
          "text": [
            "544\n"
          ]
        },
        {
          "output_type": "stream",
          "name": "stderr",
          "text": [
            "Processing images:  63%|██████▎   | 5085/8010 [27:03<11:31,  4.23it/s]"
          ]
        },
        {
          "output_type": "stream",
          "name": "stdout",
          "text": [
            "545\n"
          ]
        },
        {
          "output_type": "stream",
          "name": "stderr",
          "text": [
            "Processing images:  64%|██████▎   | 5090/8010 [27:06<20:15,  2.40it/s]"
          ]
        },
        {
          "output_type": "stream",
          "name": "stdout",
          "text": [
            "546\n"
          ]
        },
        {
          "output_type": "stream",
          "name": "stderr",
          "text": [
            "Processing images:  64%|██████▍   | 5110/8010 [27:12<11:43,  4.12it/s]"
          ]
        },
        {
          "output_type": "stream",
          "name": "stdout",
          "text": [
            "547\n"
          ]
        },
        {
          "output_type": "stream",
          "name": "stderr",
          "text": [
            "Processing images:  64%|██████▍   | 5112/8010 [27:12<10:31,  4.59it/s]"
          ]
        },
        {
          "output_type": "stream",
          "name": "stdout",
          "text": [
            "548\n"
          ]
        },
        {
          "output_type": "stream",
          "name": "stderr",
          "text": [
            "Processing images:  64%|██████▍   | 5127/8010 [27:15<10:52,  4.42it/s]"
          ]
        },
        {
          "output_type": "stream",
          "name": "stdout",
          "text": [
            "549\n"
          ]
        },
        {
          "output_type": "stream",
          "name": "stderr",
          "text": [
            "Processing images:  64%|██████▍   | 5130/8010 [27:16<09:38,  4.98it/s]"
          ]
        },
        {
          "output_type": "stream",
          "name": "stdout",
          "text": [
            "550\n"
          ]
        },
        {
          "output_type": "stream",
          "name": "stderr",
          "text": [
            "Processing images:  64%|██████▍   | 5138/8010 [27:18<16:43,  2.86it/s]"
          ]
        },
        {
          "output_type": "stream",
          "name": "stdout",
          "text": [
            "551\n"
          ]
        },
        {
          "output_type": "stream",
          "name": "stderr",
          "text": [
            "Processing images:  64%|██████▍   | 5146/8010 [27:21<10:47,  4.42it/s]"
          ]
        },
        {
          "output_type": "stream",
          "name": "stdout",
          "text": [
            "552\n"
          ]
        },
        {
          "output_type": "stream",
          "name": "stderr",
          "text": [
            "Processing images:  64%|██████▍   | 5151/8010 [27:23<18:00,  2.65it/s]"
          ]
        },
        {
          "output_type": "stream",
          "name": "stdout",
          "text": [
            "553\n"
          ]
        },
        {
          "output_type": "stream",
          "name": "stderr",
          "text": [
            "Processing images:  65%|██████▍   | 5187/8010 [27:33<14:20,  3.28it/s]"
          ]
        },
        {
          "output_type": "stream",
          "name": "stdout",
          "text": [
            "554\n"
          ]
        },
        {
          "output_type": "stream",
          "name": "stderr",
          "text": [
            "Processing images:  65%|██████▍   | 5189/8010 [27:33<12:42,  3.70it/s]"
          ]
        },
        {
          "output_type": "stream",
          "name": "stdout",
          "text": [
            "555\n"
          ]
        },
        {
          "output_type": "stream",
          "name": "stderr",
          "text": [
            "Processing images:  65%|██████▍   | 5193/8010 [27:34<09:43,  4.83it/s]"
          ]
        },
        {
          "output_type": "stream",
          "name": "stdout",
          "text": [
            "556\n"
          ]
        },
        {
          "output_type": "stream",
          "name": "stderr",
          "text": [
            "Processing images:  65%|██████▌   | 5210/8010 [27:39<08:57,  5.21it/s]"
          ]
        },
        {
          "output_type": "stream",
          "name": "stdout",
          "text": [
            "557\n",
            "558\n"
          ]
        },
        {
          "output_type": "stream",
          "name": "stderr",
          "text": [
            "Processing images:  65%|██████▌   | 5246/8010 [27:51<08:41,  5.30it/s]"
          ]
        },
        {
          "output_type": "stream",
          "name": "stdout",
          "text": [
            "559\n"
          ]
        },
        {
          "output_type": "stream",
          "name": "stderr",
          "text": [
            "Processing images:  66%|██████▌   | 5256/8010 [27:54<11:30,  3.99it/s]"
          ]
        },
        {
          "output_type": "stream",
          "name": "stdout",
          "text": [
            "560\n"
          ]
        },
        {
          "output_type": "stream",
          "name": "stderr",
          "text": [
            "Processing images:  66%|██████▌   | 5272/8010 [27:59<14:47,  3.09it/s]"
          ]
        },
        {
          "output_type": "stream",
          "name": "stdout",
          "text": [
            "561\n"
          ]
        },
        {
          "output_type": "stream",
          "name": "stderr",
          "text": [
            "Processing images:  66%|██████▌   | 5299/8010 [28:08<12:22,  3.65it/s]"
          ]
        },
        {
          "output_type": "stream",
          "name": "stdout",
          "text": [
            "562\n"
          ]
        },
        {
          "output_type": "stream",
          "name": "stderr",
          "text": [
            "Processing images:  66%|██████▋   | 5307/8010 [28:11<14:21,  3.14it/s]"
          ]
        },
        {
          "output_type": "stream",
          "name": "stdout",
          "text": [
            "563\n"
          ]
        },
        {
          "output_type": "stream",
          "name": "stderr",
          "text": [
            "Processing images:  66%|██████▋   | 5312/8010 [28:13<12:44,  3.53it/s]"
          ]
        },
        {
          "output_type": "stream",
          "name": "stdout",
          "text": [
            "564\n"
          ]
        },
        {
          "output_type": "stream",
          "name": "stderr",
          "text": [
            "Processing images:  67%|██████▋   | 5341/8010 [28:21<10:10,  4.37it/s]"
          ]
        },
        {
          "output_type": "stream",
          "name": "stdout",
          "text": [
            "565\n"
          ]
        },
        {
          "output_type": "stream",
          "name": "stderr",
          "text": [
            "Processing images:  67%|██████▋   | 5348/8010 [28:24<17:07,  2.59it/s]"
          ]
        },
        {
          "output_type": "stream",
          "name": "stdout",
          "text": [
            "566\n"
          ]
        },
        {
          "output_type": "stream",
          "name": "stderr",
          "text": [
            "\rProcessing images:  67%|██████▋   | 5349/8010 [28:25<15:59,  2.77it/s]"
          ]
        },
        {
          "output_type": "stream",
          "name": "stdout",
          "text": [
            "567\n"
          ]
        },
        {
          "output_type": "stream",
          "name": "stderr",
          "text": [
            "Processing images:  67%|██████▋   | 5351/8010 [28:26<20:59,  2.11it/s]"
          ]
        },
        {
          "output_type": "stream",
          "name": "stdout",
          "text": [
            "568\n"
          ]
        },
        {
          "output_type": "stream",
          "name": "stderr",
          "text": [
            "Processing images:  67%|██████▋   | 5368/8010 [28:31<12:23,  3.55it/s]"
          ]
        },
        {
          "output_type": "stream",
          "name": "stdout",
          "text": [
            "569\n"
          ]
        },
        {
          "output_type": "stream",
          "name": "stderr",
          "text": [
            "Processing images:  67%|██████▋   | 5375/8010 [28:32<08:35,  5.11it/s]"
          ]
        },
        {
          "output_type": "stream",
          "name": "stdout",
          "text": [
            "570\n"
          ]
        },
        {
          "output_type": "stream",
          "name": "stderr",
          "text": [
            "Processing images:  67%|██████▋   | 5380/8010 [28:34<13:30,  3.24it/s]"
          ]
        },
        {
          "output_type": "stream",
          "name": "stdout",
          "text": [
            "571\n"
          ]
        },
        {
          "output_type": "stream",
          "name": "stderr",
          "text": [
            "Processing images:  67%|██████▋   | 5385/8010 [28:35<08:26,  5.18it/s]"
          ]
        },
        {
          "output_type": "stream",
          "name": "stdout",
          "text": [
            "572\n"
          ]
        },
        {
          "output_type": "stream",
          "name": "stderr",
          "text": [
            "Processing images:  67%|██████▋   | 5394/8010 [28:38<12:13,  3.57it/s]"
          ]
        },
        {
          "output_type": "stream",
          "name": "stdout",
          "text": [
            "573\n"
          ]
        },
        {
          "output_type": "stream",
          "name": "stderr",
          "text": [
            "Processing images:  67%|██████▋   | 5403/8010 [28:40<09:21,  4.64it/s]"
          ]
        },
        {
          "output_type": "stream",
          "name": "stdout",
          "text": [
            "574\n"
          ]
        },
        {
          "output_type": "stream",
          "name": "stderr",
          "text": [
            "Processing images:  68%|██████▊   | 5472/8010 [29:03<18:53,  2.24it/s]"
          ]
        },
        {
          "output_type": "stream",
          "name": "stdout",
          "text": [
            "575\n"
          ]
        },
        {
          "output_type": "stream",
          "name": "stderr",
          "text": [
            "Processing images:  68%|██████▊   | 5482/8010 [29:07<09:07,  4.62it/s]"
          ]
        },
        {
          "output_type": "stream",
          "name": "stdout",
          "text": [
            "576\n"
          ]
        },
        {
          "output_type": "stream",
          "name": "stderr",
          "text": [
            "Processing images:  68%|██████▊   | 5486/8010 [29:08<14:29,  2.90it/s]"
          ]
        },
        {
          "output_type": "stream",
          "name": "stdout",
          "text": [
            "577\n"
          ]
        },
        {
          "output_type": "stream",
          "name": "stderr",
          "text": [
            "Processing images:  69%|██████▊   | 5492/8010 [29:10<08:34,  4.89it/s]"
          ]
        },
        {
          "output_type": "stream",
          "name": "stdout",
          "text": [
            "578\n"
          ]
        },
        {
          "output_type": "stream",
          "name": "stderr",
          "text": [
            "Processing images:  69%|██████▉   | 5530/8010 [29:23<10:45,  3.84it/s]"
          ]
        },
        {
          "output_type": "stream",
          "name": "stdout",
          "text": [
            "579\n"
          ]
        },
        {
          "output_type": "stream",
          "name": "stderr",
          "text": [
            "Processing images:  69%|██████▉   | 5548/8010 [29:28<08:28,  4.84it/s]"
          ]
        },
        {
          "output_type": "stream",
          "name": "stdout",
          "text": [
            "580\n"
          ]
        },
        {
          "output_type": "stream",
          "name": "stderr",
          "text": [
            "Processing images:  69%|██████▉   | 5551/8010 [29:29<13:59,  2.93it/s]"
          ]
        },
        {
          "output_type": "stream",
          "name": "stdout",
          "text": [
            "581\n"
          ]
        },
        {
          "output_type": "stream",
          "name": "stderr",
          "text": [
            "Processing images:  69%|██████▉   | 5561/8010 [29:32<11:27,  3.56it/s]"
          ]
        },
        {
          "output_type": "stream",
          "name": "stdout",
          "text": [
            "582\n",
            "583\n"
          ]
        },
        {
          "output_type": "stream",
          "name": "stderr",
          "text": [
            "Processing images:  70%|██████▉   | 5569/8010 [29:34<06:28,  6.28it/s]"
          ]
        },
        {
          "output_type": "stream",
          "name": "stdout",
          "text": [
            "584\n",
            "585\n"
          ]
        },
        {
          "output_type": "stream",
          "name": "stderr",
          "text": [
            "Processing images:  70%|██████▉   | 5581/8010 [29:38<13:32,  2.99it/s]"
          ]
        },
        {
          "output_type": "stream",
          "name": "stdout",
          "text": [
            "586\n"
          ]
        },
        {
          "output_type": "stream",
          "name": "stderr",
          "text": [
            "Processing images:  70%|██████▉   | 5583/8010 [29:38<11:15,  3.60it/s]"
          ]
        },
        {
          "output_type": "stream",
          "name": "stdout",
          "text": [
            "587\n"
          ]
        },
        {
          "output_type": "stream",
          "name": "stderr",
          "text": [
            "Processing images:  70%|██████▉   | 5588/8010 [29:40<09:47,  4.12it/s]"
          ]
        },
        {
          "output_type": "stream",
          "name": "stdout",
          "text": [
            "588\n"
          ]
        },
        {
          "output_type": "stream",
          "name": "stderr",
          "text": [
            "Processing images:  70%|██████▉   | 5596/8010 [29:42<15:07,  2.66it/s]"
          ]
        },
        {
          "output_type": "stream",
          "name": "stdout",
          "text": [
            "589\n"
          ]
        },
        {
          "output_type": "stream",
          "name": "stderr",
          "text": [
            "Processing images:  70%|██████▉   | 5601/8010 [29:44<14:53,  2.70it/s]"
          ]
        },
        {
          "output_type": "stream",
          "name": "stdout",
          "text": [
            "590\n"
          ]
        },
        {
          "output_type": "stream",
          "name": "stderr",
          "text": [
            "Processing images:  70%|██████▉   | 5605/8010 [29:45<10:46,  3.72it/s]"
          ]
        },
        {
          "output_type": "stream",
          "name": "stdout",
          "text": [
            "591\n"
          ]
        },
        {
          "output_type": "stream",
          "name": "stderr",
          "text": [
            "Processing images:  70%|███████   | 5627/8010 [29:52<11:27,  3.47it/s]"
          ]
        },
        {
          "output_type": "stream",
          "name": "stdout",
          "text": [
            "592\n"
          ]
        },
        {
          "output_type": "stream",
          "name": "stderr",
          "text": [
            "Processing images:  70%|███████   | 5635/8010 [29:54<08:44,  4.52it/s]"
          ]
        },
        {
          "output_type": "stream",
          "name": "stdout",
          "text": [
            "593\n"
          ]
        },
        {
          "output_type": "stream",
          "name": "stderr",
          "text": [
            "\rProcessing images:  70%|███████   | 5636/8010 [29:54<07:21,  5.38it/s]"
          ]
        },
        {
          "output_type": "stream",
          "name": "stdout",
          "text": [
            "594\n"
          ]
        },
        {
          "output_type": "stream",
          "name": "stderr",
          "text": [
            "Processing images:  70%|███████   | 5646/8010 [29:58<13:37,  2.89it/s]"
          ]
        },
        {
          "output_type": "stream",
          "name": "stdout",
          "text": [
            "595\n"
          ]
        },
        {
          "output_type": "stream",
          "name": "stderr",
          "text": [
            "Processing images:  71%|███████   | 5653/8010 [30:00<10:00,  3.92it/s]"
          ]
        },
        {
          "output_type": "stream",
          "name": "stdout",
          "text": [
            "596\n"
          ]
        },
        {
          "output_type": "stream",
          "name": "stderr",
          "text": [
            "Processing images:  71%|███████   | 5656/8010 [30:01<11:55,  3.29it/s]"
          ]
        },
        {
          "output_type": "stream",
          "name": "stdout",
          "text": [
            "597\n"
          ]
        },
        {
          "output_type": "stream",
          "name": "stderr",
          "text": [
            "Processing images:  71%|███████   | 5660/8010 [30:02<08:49,  4.43it/s]"
          ]
        },
        {
          "output_type": "stream",
          "name": "stdout",
          "text": [
            "598\n"
          ]
        },
        {
          "output_type": "stream",
          "name": "stderr",
          "text": [
            "Processing images:  71%|███████   | 5670/8010 [30:05<14:42,  2.65it/s]"
          ]
        },
        {
          "output_type": "stream",
          "name": "stdout",
          "text": [
            "599\n"
          ]
        },
        {
          "output_type": "stream",
          "name": "stderr",
          "text": [
            "Processing images:  71%|███████   | 5688/8010 [30:12<10:01,  3.86it/s]"
          ]
        },
        {
          "output_type": "stream",
          "name": "stdout",
          "text": [
            "600\n"
          ]
        },
        {
          "output_type": "stream",
          "name": "stderr",
          "text": [
            "Processing images:  71%|███████   | 5699/8010 [30:14<06:45,  5.69it/s]"
          ]
        },
        {
          "output_type": "stream",
          "name": "stdout",
          "text": [
            "601\n",
            "602\n",
            "603\n"
          ]
        },
        {
          "output_type": "stream",
          "name": "stderr",
          "text": [
            "Processing images:  71%|███████▏  | 5709/8010 [30:17<11:46,  3.26it/s]"
          ]
        },
        {
          "output_type": "stream",
          "name": "stdout",
          "text": [
            "604\n"
          ]
        },
        {
          "output_type": "stream",
          "name": "stderr",
          "text": [
            "Processing images:  72%|███████▏  | 5738/8010 [30:26<06:38,  5.71it/s]"
          ]
        },
        {
          "output_type": "stream",
          "name": "stdout",
          "text": [
            "605\n",
            "606\n"
          ]
        },
        {
          "output_type": "stream",
          "name": "stderr",
          "text": [
            "Processing images:  72%|███████▏  | 5751/8010 [30:30<09:16,  4.06it/s]"
          ]
        },
        {
          "output_type": "stream",
          "name": "stdout",
          "text": [
            "607\n"
          ]
        },
        {
          "output_type": "stream",
          "name": "stderr",
          "text": [
            "Processing images:  72%|███████▏  | 5757/8010 [30:32<09:23,  3.99it/s]"
          ]
        },
        {
          "output_type": "stream",
          "name": "stdout",
          "text": [
            "608\n",
            "609\n"
          ]
        },
        {
          "output_type": "stream",
          "name": "stderr",
          "text": [
            "Processing images:  72%|███████▏  | 5764/8010 [30:34<09:08,  4.09it/s]"
          ]
        },
        {
          "output_type": "stream",
          "name": "stdout",
          "text": [
            "610\n"
          ]
        },
        {
          "output_type": "stream",
          "name": "stderr",
          "text": [
            "Processing images:  72%|███████▏  | 5767/8010 [30:36<13:33,  2.76it/s]"
          ]
        },
        {
          "output_type": "stream",
          "name": "stdout",
          "text": [
            "611\n"
          ]
        },
        {
          "output_type": "stream",
          "name": "stderr",
          "text": [
            "Processing images:  72%|███████▏  | 5798/8010 [30:45<08:27,  4.36it/s]"
          ]
        },
        {
          "output_type": "stream",
          "name": "stdout",
          "text": [
            "612\n",
            "613\n"
          ]
        },
        {
          "output_type": "stream",
          "name": "stderr",
          "text": [
            "Processing images:  72%|███████▏  | 5807/8010 [30:49<18:47,  1.95it/s]"
          ]
        },
        {
          "output_type": "stream",
          "name": "stdout",
          "text": [
            "614\n"
          ]
        },
        {
          "output_type": "stream",
          "name": "stderr",
          "text": [
            "Processing images:  73%|███████▎  | 5810/8010 [30:50<13:46,  2.66it/s]"
          ]
        },
        {
          "output_type": "stream",
          "name": "stdout",
          "text": [
            "615\n"
          ]
        },
        {
          "output_type": "stream",
          "name": "stderr",
          "text": [
            "Processing images:  73%|███████▎  | 5814/8010 [30:51<09:44,  3.76it/s]"
          ]
        },
        {
          "output_type": "stream",
          "name": "stdout",
          "text": [
            "616\n"
          ]
        },
        {
          "output_type": "stream",
          "name": "stderr",
          "text": [
            "Processing images:  73%|███████▎  | 5829/8010 [30:54<08:34,  4.24it/s]"
          ]
        },
        {
          "output_type": "stream",
          "name": "stdout",
          "text": [
            "617\n"
          ]
        },
        {
          "output_type": "stream",
          "name": "stderr",
          "text": [
            "Processing images:  73%|███████▎  | 5834/8010 [30:56<07:56,  4.57it/s]"
          ]
        },
        {
          "output_type": "stream",
          "name": "stdout",
          "text": [
            "618\n"
          ]
        },
        {
          "output_type": "stream",
          "name": "stderr",
          "text": [
            "Processing images:  73%|███████▎  | 5836/8010 [30:56<09:29,  3.82it/s]"
          ]
        },
        {
          "output_type": "stream",
          "name": "stdout",
          "text": [
            "619\n"
          ]
        },
        {
          "output_type": "stream",
          "name": "stderr",
          "text": [
            "Processing images:  73%|███████▎  | 5848/8010 [30:59<07:06,  5.07it/s]"
          ]
        },
        {
          "output_type": "stream",
          "name": "stdout",
          "text": [
            "620\n"
          ]
        },
        {
          "output_type": "stream",
          "name": "stderr",
          "text": [
            "Processing images:  73%|███████▎  | 5881/8010 [31:11<09:08,  3.88it/s]"
          ]
        },
        {
          "output_type": "stream",
          "name": "stdout",
          "text": [
            "621\n"
          ]
        },
        {
          "output_type": "stream",
          "name": "stderr",
          "text": [
            "Processing images:  73%|███████▎  | 5885/8010 [31:12<06:53,  5.14it/s]"
          ]
        },
        {
          "output_type": "stream",
          "name": "stdout",
          "text": [
            "622\n"
          ]
        },
        {
          "output_type": "stream",
          "name": "stderr",
          "text": [
            "Processing images:  74%|███████▎  | 5888/8010 [31:13<05:41,  6.21it/s]"
          ]
        },
        {
          "output_type": "stream",
          "name": "stdout",
          "text": [
            "623\n"
          ]
        },
        {
          "output_type": "stream",
          "name": "stderr",
          "text": [
            "Processing images:  74%|███████▎  | 5891/8010 [31:14<13:02,  2.71it/s]"
          ]
        },
        {
          "output_type": "stream",
          "name": "stdout",
          "text": [
            "624\n"
          ]
        },
        {
          "output_type": "stream",
          "name": "stderr",
          "text": [
            "Processing images:  74%|███████▎  | 5899/8010 [31:17<09:41,  3.63it/s]"
          ]
        },
        {
          "output_type": "stream",
          "name": "stdout",
          "text": [
            "625\n"
          ]
        },
        {
          "output_type": "stream",
          "name": "stderr",
          "text": [
            "Processing images:  74%|███████▍  | 5918/8010 [31:23<10:19,  3.38it/s]"
          ]
        },
        {
          "output_type": "stream",
          "name": "stdout",
          "text": [
            "626\n"
          ]
        },
        {
          "output_type": "stream",
          "name": "stderr",
          "text": [
            "Processing images:  74%|███████▍  | 5942/8010 [31:32<09:10,  3.75it/s]"
          ]
        },
        {
          "output_type": "stream",
          "name": "stdout",
          "text": [
            "627\n"
          ]
        },
        {
          "output_type": "stream",
          "name": "stderr",
          "text": [
            "Processing images:  74%|███████▍  | 5948/8010 [31:33<08:58,  3.83it/s]"
          ]
        },
        {
          "output_type": "stream",
          "name": "stdout",
          "text": [
            "628\n"
          ]
        },
        {
          "output_type": "stream",
          "name": "stderr",
          "text": [
            "Processing images:  74%|███████▍  | 5952/8010 [31:34<06:10,  5.56it/s]"
          ]
        },
        {
          "output_type": "stream",
          "name": "stdout",
          "text": [
            "629\n",
            "630\n"
          ]
        },
        {
          "output_type": "stream",
          "name": "stderr",
          "text": [
            "Processing images:  74%|███████▍  | 5959/8010 [31:36<07:32,  4.53it/s]"
          ]
        },
        {
          "output_type": "stream",
          "name": "stdout",
          "text": [
            "631\n"
          ]
        },
        {
          "output_type": "stream",
          "name": "stderr",
          "text": [
            "Processing images:  74%|███████▍  | 5966/8010 [31:37<07:17,  4.67it/s]"
          ]
        },
        {
          "output_type": "stream",
          "name": "stdout",
          "text": [
            "632\n"
          ]
        },
        {
          "output_type": "stream",
          "name": "stderr",
          "text": [
            "Processing images:  75%|███████▍  | 5970/8010 [31:38<08:15,  4.12it/s]"
          ]
        },
        {
          "output_type": "stream",
          "name": "stdout",
          "text": [
            "633\n"
          ]
        },
        {
          "output_type": "stream",
          "name": "stderr",
          "text": [
            "Processing images:  75%|███████▍  | 5977/8010 [31:41<15:39,  2.16it/s]"
          ]
        },
        {
          "output_type": "stream",
          "name": "stdout",
          "text": [
            "634\n"
          ]
        },
        {
          "output_type": "stream",
          "name": "stderr",
          "text": [
            "Processing images:  75%|███████▍  | 5979/8010 [31:42<12:31,  2.70it/s]"
          ]
        },
        {
          "output_type": "stream",
          "name": "stdout",
          "text": [
            "635\n"
          ]
        },
        {
          "output_type": "stream",
          "name": "stderr",
          "text": [
            "Processing images:  75%|███████▍  | 5981/8010 [31:43<13:03,  2.59it/s]"
          ]
        },
        {
          "output_type": "stream",
          "name": "stdout",
          "text": [
            "636\n"
          ]
        },
        {
          "output_type": "stream",
          "name": "stderr",
          "text": [
            "Processing images:  75%|███████▍  | 5988/8010 [31:45<06:56,  4.86it/s]"
          ]
        },
        {
          "output_type": "stream",
          "name": "stdout",
          "text": [
            "637\n"
          ]
        },
        {
          "output_type": "stream",
          "name": "stderr",
          "text": [
            "Processing images:  75%|███████▍  | 5991/8010 [31:45<06:35,  5.11it/s]"
          ]
        },
        {
          "output_type": "stream",
          "name": "stdout",
          "text": [
            "638\n",
            "639\n"
          ]
        },
        {
          "output_type": "stream",
          "name": "stderr",
          "text": [
            "Processing images:  75%|███████▍  | 6005/8010 [31:49<08:24,  3.98it/s]"
          ]
        },
        {
          "output_type": "stream",
          "name": "stdout",
          "text": [
            "640\n"
          ]
        },
        {
          "output_type": "stream",
          "name": "stderr",
          "text": [
            "Processing images:  75%|███████▌  | 6014/8010 [31:51<07:50,  4.24it/s]"
          ]
        },
        {
          "output_type": "stream",
          "name": "stdout",
          "text": [
            "641\n"
          ]
        },
        {
          "output_type": "stream",
          "name": "stderr",
          "text": [
            "Processing images:  75%|███████▌  | 6023/8010 [31:56<16:21,  2.02it/s]"
          ]
        },
        {
          "output_type": "stream",
          "name": "stdout",
          "text": [
            "642\n"
          ]
        },
        {
          "output_type": "stream",
          "name": "stderr",
          "text": [
            "Processing images:  75%|███████▌  | 6030/8010 [31:58<07:46,  4.24it/s]"
          ]
        },
        {
          "output_type": "stream",
          "name": "stdout",
          "text": [
            "643\n",
            "644\n"
          ]
        },
        {
          "output_type": "stream",
          "name": "stderr",
          "text": [
            "Processing images:  75%|███████▌  | 6041/8010 [32:01<12:49,  2.56it/s]"
          ]
        },
        {
          "output_type": "stream",
          "name": "stdout",
          "text": [
            "645\n"
          ]
        },
        {
          "output_type": "stream",
          "name": "stderr",
          "text": [
            "Processing images:  76%|███████▌  | 6050/8010 [32:03<08:18,  3.93it/s]"
          ]
        },
        {
          "output_type": "stream",
          "name": "stdout",
          "text": [
            "646\n"
          ]
        },
        {
          "output_type": "stream",
          "name": "stderr",
          "text": [
            "Processing images:  76%|███████▌  | 6064/8010 [32:09<14:58,  2.17it/s]"
          ]
        },
        {
          "output_type": "stream",
          "name": "stdout",
          "text": [
            "647\n"
          ]
        },
        {
          "output_type": "stream",
          "name": "stderr",
          "text": [
            "Processing images:  76%|███████▌  | 6080/8010 [32:14<07:22,  4.36it/s]"
          ]
        },
        {
          "output_type": "stream",
          "name": "stdout",
          "text": [
            "648\n"
          ]
        },
        {
          "output_type": "stream",
          "name": "stderr",
          "text": [
            "Processing images:  76%|███████▌  | 6085/8010 [32:15<07:11,  4.46it/s]"
          ]
        },
        {
          "output_type": "stream",
          "name": "stdout",
          "text": [
            "649\n"
          ]
        },
        {
          "output_type": "stream",
          "name": "stderr",
          "text": [
            "Processing images:  76%|███████▌  | 6092/8010 [32:17<06:42,  4.76it/s]"
          ]
        },
        {
          "output_type": "stream",
          "name": "stdout",
          "text": [
            "650\n",
            "651\n"
          ]
        },
        {
          "output_type": "stream",
          "name": "stderr",
          "text": [
            "Processing images:  76%|███████▌  | 6099/8010 [32:18<06:07,  5.20it/s]"
          ]
        },
        {
          "output_type": "stream",
          "name": "stdout",
          "text": [
            "652\n",
            "653\n",
            "654\n"
          ]
        },
        {
          "output_type": "stream",
          "name": "stderr",
          "text": [
            "Processing images:  76%|███████▋  | 6108/8010 [32:21<09:27,  3.35it/s]"
          ]
        },
        {
          "output_type": "stream",
          "name": "stdout",
          "text": [
            "655\n"
          ]
        },
        {
          "output_type": "stream",
          "name": "stderr",
          "text": [
            "Processing images:  76%|███████▋  | 6117/8010 [32:24<07:48,  4.04it/s]"
          ]
        },
        {
          "output_type": "stream",
          "name": "stdout",
          "text": [
            "656\n"
          ]
        },
        {
          "output_type": "stream",
          "name": "stderr",
          "text": [
            "Processing images:  76%|███████▋  | 6126/8010 [32:28<11:07,  2.82it/s]"
          ]
        },
        {
          "output_type": "stream",
          "name": "stdout",
          "text": [
            "657\n"
          ]
        },
        {
          "output_type": "stream",
          "name": "stderr",
          "text": [
            "Processing images:  77%|███████▋  | 6135/8010 [32:29<05:41,  5.49it/s]"
          ]
        },
        {
          "output_type": "stream",
          "name": "stdout",
          "text": [
            "658\n",
            "659\n"
          ]
        },
        {
          "output_type": "stream",
          "name": "stderr",
          "text": [
            "Processing images:  77%|███████▋  | 6142/8010 [32:31<05:32,  5.63it/s]"
          ]
        },
        {
          "output_type": "stream",
          "name": "stdout",
          "text": [
            "660\n",
            "661\n"
          ]
        },
        {
          "output_type": "stream",
          "name": "stderr",
          "text": [
            "Processing images:  77%|███████▋  | 6148/8010 [32:33<09:25,  3.29it/s]"
          ]
        },
        {
          "output_type": "stream",
          "name": "stdout",
          "text": [
            "662\n"
          ]
        },
        {
          "output_type": "stream",
          "name": "stderr",
          "text": [
            "Processing images:  77%|███████▋  | 6155/8010 [32:37<12:37,  2.45it/s]"
          ]
        },
        {
          "output_type": "stream",
          "name": "stdout",
          "text": [
            "663\n"
          ]
        },
        {
          "output_type": "stream",
          "name": "stderr",
          "text": [
            "Processing images:  77%|███████▋  | 6162/8010 [32:39<07:40,  4.01it/s]"
          ]
        },
        {
          "output_type": "stream",
          "name": "stdout",
          "text": [
            "664\n"
          ]
        },
        {
          "output_type": "stream",
          "name": "stderr",
          "text": [
            "Processing images:  77%|███████▋  | 6167/8010 [32:41<07:02,  4.36it/s]"
          ]
        },
        {
          "output_type": "stream",
          "name": "stdout",
          "text": [
            "665\n"
          ]
        },
        {
          "output_type": "stream",
          "name": "stderr",
          "text": [
            "Processing images:  77%|███████▋  | 6184/8010 [32:45<06:04,  5.01it/s]"
          ]
        },
        {
          "output_type": "stream",
          "name": "stdout",
          "text": [
            "666\n"
          ]
        },
        {
          "output_type": "stream",
          "name": "stderr",
          "text": [
            "\rProcessing images:  77%|███████▋  | 6185/8010 [32:45<05:41,  5.34it/s]"
          ]
        },
        {
          "output_type": "stream",
          "name": "stdout",
          "text": [
            "667\n"
          ]
        },
        {
          "output_type": "stream",
          "name": "stderr",
          "text": [
            "Processing images:  78%|███████▊  | 6208/8010 [32:53<13:30,  2.22it/s]"
          ]
        },
        {
          "output_type": "stream",
          "name": "stdout",
          "text": [
            "668\n"
          ]
        },
        {
          "output_type": "stream",
          "name": "stderr",
          "text": [
            "Processing images:  78%|███████▊  | 6215/8010 [32:55<06:55,  4.32it/s]"
          ]
        },
        {
          "output_type": "stream",
          "name": "stdout",
          "text": [
            "669\n"
          ]
        },
        {
          "output_type": "stream",
          "name": "stderr",
          "text": [
            "Processing images:  78%|███████▊  | 6220/8010 [32:56<07:30,  3.97it/s]"
          ]
        },
        {
          "output_type": "stream",
          "name": "stdout",
          "text": [
            "670\n"
          ]
        },
        {
          "output_type": "stream",
          "name": "stderr",
          "text": [
            "Processing images:  78%|███████▊  | 6232/8010 [33:00<08:44,  3.39it/s]"
          ]
        },
        {
          "output_type": "stream",
          "name": "stdout",
          "text": [
            "671\n"
          ]
        },
        {
          "output_type": "stream",
          "name": "stderr",
          "text": [
            "Processing images:  78%|███████▊  | 6235/8010 [33:02<14:28,  2.04it/s]"
          ]
        },
        {
          "output_type": "stream",
          "name": "stdout",
          "text": [
            "672\n"
          ]
        },
        {
          "output_type": "stream",
          "name": "stderr",
          "text": [
            "Processing images:  78%|███████▊  | 6246/8010 [33:05<08:49,  3.33it/s]"
          ]
        },
        {
          "output_type": "stream",
          "name": "stdout",
          "text": [
            "673\n"
          ]
        },
        {
          "output_type": "stream",
          "name": "stderr",
          "text": [
            "Processing images:  78%|███████▊  | 6250/8010 [33:06<05:48,  5.05it/s]"
          ]
        },
        {
          "output_type": "stream",
          "name": "stdout",
          "text": [
            "674\n"
          ]
        },
        {
          "output_type": "stream",
          "name": "stderr",
          "text": [
            "Processing images:  78%|███████▊  | 6263/8010 [33:10<08:32,  3.41it/s]"
          ]
        },
        {
          "output_type": "stream",
          "name": "stdout",
          "text": [
            "675\n"
          ]
        },
        {
          "output_type": "stream",
          "name": "stderr",
          "text": [
            "Processing images:  78%|███████▊  | 6266/8010 [33:11<05:58,  4.87it/s]"
          ]
        },
        {
          "output_type": "stream",
          "name": "stdout",
          "text": [
            "676\n"
          ]
        },
        {
          "output_type": "stream",
          "name": "stderr",
          "text": [
            "Processing images:  78%|███████▊  | 6283/8010 [33:16<08:17,  3.47it/s]"
          ]
        },
        {
          "output_type": "stream",
          "name": "stdout",
          "text": [
            "677\n"
          ]
        },
        {
          "output_type": "stream",
          "name": "stderr",
          "text": [
            "Processing images:  79%|███████▊  | 6291/8010 [33:19<08:01,  3.57it/s]"
          ]
        },
        {
          "output_type": "stream",
          "name": "stdout",
          "text": [
            "678\n"
          ]
        },
        {
          "output_type": "stream",
          "name": "stderr",
          "text": [
            "Processing images:  79%|███████▊  | 6304/8010 [33:24<07:26,  3.82it/s]"
          ]
        },
        {
          "output_type": "stream",
          "name": "stdout",
          "text": [
            "679\n"
          ]
        },
        {
          "output_type": "stream",
          "name": "stderr",
          "text": [
            "Processing images:  79%|███████▉  | 6355/8010 [33:42<09:50,  2.80it/s]"
          ]
        },
        {
          "output_type": "stream",
          "name": "stdout",
          "text": [
            "680\n"
          ]
        },
        {
          "output_type": "stream",
          "name": "stderr",
          "text": [
            "Processing images:  79%|███████▉  | 6362/8010 [33:44<07:56,  3.46it/s]"
          ]
        },
        {
          "output_type": "stream",
          "name": "stdout",
          "text": [
            "681\n"
          ]
        },
        {
          "output_type": "stream",
          "name": "stderr",
          "text": [
            "Processing images:  79%|███████▉  | 6365/8010 [33:44<05:37,  4.87it/s]"
          ]
        },
        {
          "output_type": "stream",
          "name": "stdout",
          "text": [
            "682\n"
          ]
        },
        {
          "output_type": "stream",
          "name": "stderr",
          "text": [
            "\rProcessing images:  79%|███████▉  | 6366/8010 [33:44<05:09,  5.32it/s]"
          ]
        },
        {
          "output_type": "stream",
          "name": "stdout",
          "text": [
            "683\n",
            "684\n"
          ]
        },
        {
          "output_type": "stream",
          "name": "stderr",
          "text": [
            "Processing images:  80%|███████▉  | 6374/8010 [33:46<05:47,  4.71it/s]"
          ]
        },
        {
          "output_type": "stream",
          "name": "stdout",
          "text": [
            "685\n"
          ]
        },
        {
          "output_type": "stream",
          "name": "stderr",
          "text": [
            "Processing images:  80%|███████▉  | 6377/8010 [33:47<06:26,  4.22it/s]"
          ]
        },
        {
          "output_type": "stream",
          "name": "stdout",
          "text": [
            "686\n"
          ]
        },
        {
          "output_type": "stream",
          "name": "stderr",
          "text": [
            "Processing images:  80%|███████▉  | 6397/8010 [33:53<10:54,  2.46it/s]"
          ]
        },
        {
          "output_type": "stream",
          "name": "stdout",
          "text": [
            "687\n"
          ]
        },
        {
          "output_type": "stream",
          "name": "stderr",
          "text": [
            "Processing images:  80%|███████▉  | 6400/8010 [33:54<10:08,  2.65it/s]"
          ]
        },
        {
          "output_type": "stream",
          "name": "stdout",
          "text": [
            "688\n"
          ]
        },
        {
          "output_type": "stream",
          "name": "stderr",
          "text": [
            "Processing images:  80%|███████▉  | 6405/8010 [33:56<08:18,  3.22it/s]"
          ]
        },
        {
          "output_type": "stream",
          "name": "stdout",
          "text": [
            "689\n"
          ]
        },
        {
          "output_type": "stream",
          "name": "stderr",
          "text": [
            "Processing images:  80%|████████  | 6410/8010 [33:57<07:14,  3.68it/s]"
          ]
        },
        {
          "output_type": "stream",
          "name": "stdout",
          "text": [
            "690\n"
          ]
        },
        {
          "output_type": "stream",
          "name": "stderr",
          "text": [
            "Processing images:  80%|████████  | 6419/8010 [34:00<06:28,  4.10it/s]"
          ]
        },
        {
          "output_type": "stream",
          "name": "stdout",
          "text": [
            "691\n"
          ]
        },
        {
          "output_type": "stream",
          "name": "stderr",
          "text": [
            "Processing images:  80%|████████  | 6426/8010 [34:02<06:07,  4.31it/s]"
          ]
        },
        {
          "output_type": "stream",
          "name": "stdout",
          "text": [
            "692\n"
          ]
        },
        {
          "output_type": "stream",
          "name": "stderr",
          "text": [
            "Processing images:  80%|████████  | 6436/8010 [34:04<06:26,  4.08it/s]"
          ]
        },
        {
          "output_type": "stream",
          "name": "stdout",
          "text": [
            "693\n"
          ]
        },
        {
          "output_type": "stream",
          "name": "stderr",
          "text": [
            "Processing images:  81%|████████  | 6466/8010 [34:17<11:02,  2.33it/s]"
          ]
        },
        {
          "output_type": "stream",
          "name": "stdout",
          "text": [
            "694\n"
          ]
        },
        {
          "output_type": "stream",
          "name": "stderr",
          "text": [
            "Processing images:  81%|████████  | 6494/8010 [34:26<06:55,  3.65it/s]"
          ]
        },
        {
          "output_type": "stream",
          "name": "stdout",
          "text": [
            "695\n"
          ]
        },
        {
          "output_type": "stream",
          "name": "stderr",
          "text": [
            "Processing images:  81%|████████  | 6499/8010 [34:28<06:04,  4.15it/s]"
          ]
        },
        {
          "output_type": "stream",
          "name": "stdout",
          "text": [
            "696\n"
          ]
        },
        {
          "output_type": "stream",
          "name": "stderr",
          "text": [
            "Processing images:  81%|████████▏ | 6511/8010 [34:31<07:33,  3.31it/s]"
          ]
        },
        {
          "output_type": "stream",
          "name": "stdout",
          "text": [
            "697\n"
          ]
        },
        {
          "output_type": "stream",
          "name": "stderr",
          "text": [
            "Processing images:  81%|████████▏ | 6524/8010 [34:38<09:49,  2.52it/s]"
          ]
        },
        {
          "output_type": "stream",
          "name": "stdout",
          "text": [
            "698\n"
          ]
        },
        {
          "output_type": "stream",
          "name": "stderr",
          "text": [
            "Processing images:  82%|████████▏ | 6529/8010 [34:39<05:35,  4.42it/s]"
          ]
        },
        {
          "output_type": "stream",
          "name": "stdout",
          "text": [
            "699\n"
          ]
        },
        {
          "output_type": "stream",
          "name": "stderr",
          "text": [
            "Processing images:  82%|████████▏ | 6534/8010 [34:40<04:18,  5.70it/s]"
          ]
        },
        {
          "output_type": "stream",
          "name": "stdout",
          "text": [
            "700\n",
            "701\n"
          ]
        },
        {
          "output_type": "stream",
          "name": "stderr",
          "text": [
            "Processing images:  82%|████████▏ | 6545/8010 [34:43<05:45,  4.25it/s]"
          ]
        },
        {
          "output_type": "stream",
          "name": "stdout",
          "text": [
            "702\n"
          ]
        },
        {
          "output_type": "stream",
          "name": "stderr",
          "text": [
            "Processing images:  82%|████████▏ | 6557/8010 [34:45<05:26,  4.44it/s]"
          ]
        },
        {
          "output_type": "stream",
          "name": "stdout",
          "text": [
            "703\n"
          ]
        },
        {
          "output_type": "stream",
          "name": "stderr",
          "text": [
            "\rProcessing images:  82%|████████▏ | 6558/8010 [34:46<05:16,  4.59it/s]"
          ]
        },
        {
          "output_type": "stream",
          "name": "stdout",
          "text": [
            "704\n"
          ]
        },
        {
          "output_type": "stream",
          "name": "stderr",
          "text": [
            "Processing images:  82%|████████▏ | 6562/8010 [34:46<04:08,  5.83it/s]"
          ]
        },
        {
          "output_type": "stream",
          "name": "stdout",
          "text": [
            "705\n",
            "706\n"
          ]
        },
        {
          "output_type": "stream",
          "name": "stderr",
          "text": [
            "Processing images:  82%|████████▏ | 6570/8010 [34:50<09:42,  2.47it/s]"
          ]
        },
        {
          "output_type": "stream",
          "name": "stdout",
          "text": [
            "707\n"
          ]
        },
        {
          "output_type": "stream",
          "name": "stderr",
          "text": [
            "Processing images:  82%|████████▏ | 6576/8010 [34:52<08:39,  2.76it/s]"
          ]
        },
        {
          "output_type": "stream",
          "name": "stdout",
          "text": [
            "708\n"
          ]
        },
        {
          "output_type": "stream",
          "name": "stderr",
          "text": [
            "Processing images:  82%|████████▏ | 6580/8010 [34:54<07:00,  3.40it/s]"
          ]
        },
        {
          "output_type": "stream",
          "name": "stdout",
          "text": [
            "709\n"
          ]
        },
        {
          "output_type": "stream",
          "name": "stderr",
          "text": [
            "Processing images:  82%|████████▏ | 6583/8010 [34:54<05:45,  4.13it/s]"
          ]
        },
        {
          "output_type": "stream",
          "name": "stdout",
          "text": [
            "710\n"
          ]
        },
        {
          "output_type": "stream",
          "name": "stderr",
          "text": [
            "Processing images:  83%|████████▎ | 6609/8010 [35:04<10:20,  2.26it/s]"
          ]
        },
        {
          "output_type": "stream",
          "name": "stdout",
          "text": [
            "711\n"
          ]
        },
        {
          "output_type": "stream",
          "name": "stderr",
          "text": [
            "Processing images:  83%|████████▎ | 6615/8010 [35:05<04:22,  5.32it/s]"
          ]
        },
        {
          "output_type": "stream",
          "name": "stdout",
          "text": [
            "712\n"
          ]
        },
        {
          "output_type": "stream",
          "name": "stderr",
          "text": [
            "Processing images:  83%|████████▎ | 6627/8010 [35:08<06:04,  3.79it/s]"
          ]
        },
        {
          "output_type": "stream",
          "name": "stdout",
          "text": [
            "713\n"
          ]
        },
        {
          "output_type": "stream",
          "name": "stderr",
          "text": [
            "Processing images:  83%|████████▎ | 6641/8010 [35:13<06:22,  3.57it/s]"
          ]
        },
        {
          "output_type": "stream",
          "name": "stdout",
          "text": [
            "714\n"
          ]
        },
        {
          "output_type": "stream",
          "name": "stderr",
          "text": [
            "Processing images:  83%|████████▎ | 6652/8010 [35:18<10:34,  2.14it/s]"
          ]
        },
        {
          "output_type": "stream",
          "name": "stdout",
          "text": [
            "715\n"
          ]
        },
        {
          "output_type": "stream",
          "name": "stderr",
          "text": [
            "\rProcessing images:  83%|████████▎ | 6654/8010 [35:18<07:18,  3.09it/s]"
          ]
        },
        {
          "output_type": "stream",
          "name": "stdout",
          "text": [
            "716\n"
          ]
        },
        {
          "output_type": "stream",
          "name": "stderr",
          "text": [
            "Processing images:  83%|████████▎ | 6672/8010 [35:24<06:50,  3.26it/s]"
          ]
        },
        {
          "output_type": "stream",
          "name": "stdout",
          "text": [
            "717\n"
          ]
        },
        {
          "output_type": "stream",
          "name": "stderr",
          "text": [
            "Processing images:  84%|████████▎ | 6690/8010 [35:31<09:02,  2.43it/s]"
          ]
        },
        {
          "output_type": "stream",
          "name": "stdout",
          "text": [
            "718\n"
          ]
        },
        {
          "output_type": "stream",
          "name": "stderr",
          "text": [
            "Processing images:  84%|████████▎ | 6698/8010 [35:32<04:41,  4.66it/s]"
          ]
        },
        {
          "output_type": "stream",
          "name": "stdout",
          "text": [
            "719\n"
          ]
        },
        {
          "output_type": "stream",
          "name": "stderr",
          "text": [
            "Processing images:  84%|████████▍ | 6723/8010 [35:39<05:22,  3.99it/s]"
          ]
        },
        {
          "output_type": "stream",
          "name": "stdout",
          "text": [
            "720\n"
          ]
        },
        {
          "output_type": "stream",
          "name": "stderr",
          "text": [
            "Processing images:  84%|████████▍ | 6726/8010 [35:41<07:42,  2.77it/s]"
          ]
        },
        {
          "output_type": "stream",
          "name": "stdout",
          "text": [
            "721\n"
          ]
        },
        {
          "output_type": "stream",
          "name": "stderr",
          "text": [
            "Processing images:  84%|████████▍ | 6738/8010 [35:46<05:34,  3.80it/s]"
          ]
        },
        {
          "output_type": "stream",
          "name": "stdout",
          "text": [
            "722\n"
          ]
        },
        {
          "output_type": "stream",
          "name": "stderr",
          "text": [
            "Processing images:  85%|████████▌ | 6810/8010 [36:09<05:22,  3.72it/s]"
          ]
        },
        {
          "output_type": "stream",
          "name": "stdout",
          "text": [
            "723\n",
            "724\n"
          ]
        },
        {
          "output_type": "stream",
          "name": "stderr",
          "text": [
            "Processing images:  86%|████████▌ | 6851/8010 [36:29<10:15,  1.88it/s]"
          ]
        },
        {
          "output_type": "stream",
          "name": "stdout",
          "text": [
            "725\n"
          ]
        },
        {
          "output_type": "stream",
          "name": "stderr",
          "text": [
            "Processing images:  86%|████████▌ | 6864/8010 [36:36<06:57,  2.75it/s]"
          ]
        },
        {
          "output_type": "stream",
          "name": "stdout",
          "text": [
            "726\n"
          ]
        },
        {
          "output_type": "stream",
          "name": "stderr",
          "text": [
            "Processing images:  86%|████████▌ | 6871/8010 [36:39<06:05,  3.11it/s]"
          ]
        },
        {
          "output_type": "stream",
          "name": "stdout",
          "text": [
            "727\n",
            "728\n"
          ]
        },
        {
          "output_type": "stream",
          "name": "stderr",
          "text": [
            "Processing images:  86%|████████▌ | 6884/8010 [36:47<07:43,  2.43it/s]"
          ]
        },
        {
          "output_type": "stream",
          "name": "stdout",
          "text": [
            "729\n",
            "730\n"
          ]
        },
        {
          "output_type": "stream",
          "name": "stderr",
          "text": [
            "Processing images:  86%|████████▌ | 6895/8010 [36:50<06:26,  2.89it/s]"
          ]
        },
        {
          "output_type": "stream",
          "name": "stdout",
          "text": [
            "731\n"
          ]
        },
        {
          "output_type": "stream",
          "name": "stderr",
          "text": [
            "\rProcessing images:  86%|████████▌ | 6896/8010 [36:51<05:48,  3.20it/s]"
          ]
        },
        {
          "output_type": "stream",
          "name": "stdout",
          "text": [
            "732\n"
          ]
        },
        {
          "output_type": "stream",
          "name": "stderr",
          "text": [
            "Processing images:  86%|████████▌ | 6900/8010 [36:53<08:25,  2.19it/s]"
          ]
        },
        {
          "output_type": "stream",
          "name": "stdout",
          "text": [
            "733\n"
          ]
        },
        {
          "output_type": "stream",
          "name": "stderr",
          "text": [
            "Processing images:  86%|████████▌ | 6902/8010 [36:54<08:28,  2.18it/s]"
          ]
        },
        {
          "output_type": "stream",
          "name": "stdout",
          "text": [
            "734\n"
          ]
        },
        {
          "output_type": "stream",
          "name": "stderr",
          "text": [
            "Processing images:  86%|████████▌ | 6907/8010 [36:56<06:11,  2.97it/s]"
          ]
        },
        {
          "output_type": "stream",
          "name": "stdout",
          "text": [
            "735\n",
            "736\n"
          ]
        },
        {
          "output_type": "stream",
          "name": "stderr",
          "text": [
            "Processing images:  86%|████████▋ | 6914/8010 [36:59<05:13,  3.50it/s]"
          ]
        },
        {
          "output_type": "stream",
          "name": "stdout",
          "text": [
            "737\n"
          ]
        },
        {
          "output_type": "stream",
          "name": "stderr",
          "text": [
            "Processing images:  86%|████████▋ | 6921/8010 [37:03<07:44,  2.34it/s]"
          ]
        },
        {
          "output_type": "stream",
          "name": "stdout",
          "text": [
            "738\n"
          ]
        },
        {
          "output_type": "stream",
          "name": "stderr",
          "text": [
            "Processing images:  87%|████████▋ | 6946/8010 [37:15<09:07,  1.94it/s]"
          ]
        },
        {
          "output_type": "stream",
          "name": "stdout",
          "text": [
            "739\n"
          ]
        },
        {
          "output_type": "stream",
          "name": "stderr",
          "text": [
            "Processing images:  87%|████████▋ | 6954/8010 [37:18<04:48,  3.66it/s]"
          ]
        },
        {
          "output_type": "stream",
          "name": "stdout",
          "text": [
            "740\n"
          ]
        },
        {
          "output_type": "stream",
          "name": "stderr",
          "text": [
            "Processing images:  87%|████████▋ | 6956/8010 [37:18<04:31,  3.88it/s]"
          ]
        },
        {
          "output_type": "stream",
          "name": "stdout",
          "text": [
            "741\n"
          ]
        },
        {
          "output_type": "stream",
          "name": "stderr",
          "text": [
            "Processing images:  87%|████████▋ | 6960/8010 [37:19<03:35,  4.88it/s]"
          ]
        },
        {
          "output_type": "stream",
          "name": "stdout",
          "text": [
            "742\n",
            "743\n"
          ]
        },
        {
          "output_type": "stream",
          "name": "stderr",
          "text": [
            "Processing images:  87%|████████▋ | 6965/8010 [37:20<04:11,  4.15it/s]"
          ]
        },
        {
          "output_type": "stream",
          "name": "stdout",
          "text": [
            "744\n"
          ]
        },
        {
          "output_type": "stream",
          "name": "stderr",
          "text": [
            "Processing images:  87%|████████▋ | 6970/8010 [37:23<06:45,  2.56it/s]"
          ]
        },
        {
          "output_type": "stream",
          "name": "stdout",
          "text": [
            "745\n"
          ]
        },
        {
          "output_type": "stream",
          "name": "stderr",
          "text": [
            "\rProcessing images:  87%|████████▋ | 6971/8010 [37:23<06:03,  2.86it/s]"
          ]
        },
        {
          "output_type": "stream",
          "name": "stdout",
          "text": [
            "746\n"
          ]
        },
        {
          "output_type": "stream",
          "name": "stderr",
          "text": [
            "Processing images:  87%|████████▋ | 6974/8010 [37:24<06:03,  2.85it/s]"
          ]
        },
        {
          "output_type": "stream",
          "name": "stdout",
          "text": [
            "747\n"
          ]
        },
        {
          "output_type": "stream",
          "name": "stderr",
          "text": [
            "Processing images:  87%|████████▋ | 6990/8010 [37:31<05:52,  2.89it/s]"
          ]
        },
        {
          "output_type": "stream",
          "name": "stdout",
          "text": [
            "748\n"
          ]
        },
        {
          "output_type": "stream",
          "name": "stderr",
          "text": [
            "Processing images:  87%|████████▋ | 7007/8010 [37:40<06:50,  2.44it/s]"
          ]
        },
        {
          "output_type": "stream",
          "name": "stdout",
          "text": [
            "749\n"
          ]
        },
        {
          "output_type": "stream",
          "name": "stderr",
          "text": [
            "Processing images:  88%|████████▊ | 7014/8010 [37:44<07:35,  2.19it/s]"
          ]
        },
        {
          "output_type": "stream",
          "name": "stdout",
          "text": [
            "750\n"
          ]
        },
        {
          "output_type": "stream",
          "name": "stderr",
          "text": [
            "Processing images:  88%|████████▊ | 7031/8010 [37:50<03:08,  5.19it/s]"
          ]
        },
        {
          "output_type": "stream",
          "name": "stdout",
          "text": [
            "751\n",
            "752\n"
          ]
        },
        {
          "output_type": "stream",
          "name": "stderr",
          "text": [
            "Processing images:  88%|████████▊ | 7038/8010 [37:52<04:56,  3.28it/s]"
          ]
        },
        {
          "output_type": "stream",
          "name": "stdout",
          "text": [
            "753\n"
          ]
        },
        {
          "output_type": "stream",
          "name": "stderr",
          "text": [
            "Processing images:  88%|████████▊ | 7041/8010 [37:53<05:35,  2.88it/s]"
          ]
        },
        {
          "output_type": "stream",
          "name": "stdout",
          "text": [
            "754\n"
          ]
        },
        {
          "output_type": "stream",
          "name": "stderr",
          "text": [
            "Processing images:  88%|████████▊ | 7052/8010 [37:58<04:58,  3.21it/s]"
          ]
        },
        {
          "output_type": "stream",
          "name": "stdout",
          "text": [
            "755\n"
          ]
        },
        {
          "output_type": "stream",
          "name": "stderr",
          "text": [
            "Processing images:  88%|████████▊ | 7059/8010 [38:00<03:54,  4.05it/s]"
          ]
        },
        {
          "output_type": "stream",
          "name": "stdout",
          "text": [
            "756\n"
          ]
        },
        {
          "output_type": "stream",
          "name": "stderr",
          "text": [
            "Processing images:  88%|████████▊ | 7065/8010 [38:03<06:23,  2.46it/s]"
          ]
        },
        {
          "output_type": "stream",
          "name": "stdout",
          "text": [
            "757\n"
          ]
        },
        {
          "output_type": "stream",
          "name": "stderr",
          "text": [
            "Processing images:  88%|████████▊ | 7079/8010 [38:11<07:15,  2.14it/s]"
          ]
        },
        {
          "output_type": "stream",
          "name": "stdout",
          "text": [
            "758\n"
          ]
        },
        {
          "output_type": "stream",
          "name": "stderr",
          "text": [
            "Processing images:  88%|████████▊ | 7082/8010 [38:12<04:10,  3.71it/s]"
          ]
        },
        {
          "output_type": "stream",
          "name": "stdout",
          "text": [
            "759\n"
          ]
        },
        {
          "output_type": "stream",
          "name": "stderr",
          "text": [
            "Processing images:  88%|████████▊ | 7086/8010 [38:13<03:59,  3.86it/s]"
          ]
        },
        {
          "output_type": "stream",
          "name": "stdout",
          "text": [
            "760\n"
          ]
        },
        {
          "output_type": "stream",
          "name": "stderr",
          "text": [
            "Processing images:  89%|████████▊ | 7091/8010 [38:15<03:48,  4.03it/s]"
          ]
        },
        {
          "output_type": "stream",
          "name": "stdout",
          "text": [
            "761\n"
          ]
        },
        {
          "output_type": "stream",
          "name": "stderr",
          "text": [
            "Processing images:  89%|████████▊ | 7093/8010 [38:15<03:44,  4.09it/s]"
          ]
        },
        {
          "output_type": "stream",
          "name": "stdout",
          "text": [
            "762\n"
          ]
        },
        {
          "output_type": "stream",
          "name": "stderr",
          "text": [
            "\rProcessing images:  89%|████████▊ | 7094/8010 [38:15<03:55,  3.88it/s]"
          ]
        },
        {
          "output_type": "stream",
          "name": "stdout",
          "text": [
            "763\n"
          ]
        },
        {
          "output_type": "stream",
          "name": "stderr",
          "text": [
            "Processing images:  89%|████████▊ | 7099/8010 [38:16<03:07,  4.87it/s]"
          ]
        },
        {
          "output_type": "stream",
          "name": "stdout",
          "text": [
            "764\n"
          ]
        },
        {
          "output_type": "stream",
          "name": "stderr",
          "text": [
            "Processing images:  89%|████████▉ | 7135/8010 [38:31<04:37,  3.15it/s]"
          ]
        },
        {
          "output_type": "stream",
          "name": "stdout",
          "text": [
            "765\n"
          ]
        },
        {
          "output_type": "stream",
          "name": "stderr",
          "text": [
            "Processing images:  89%|████████▉ | 7141/8010 [38:34<06:03,  2.39it/s]"
          ]
        },
        {
          "output_type": "stream",
          "name": "stdout",
          "text": [
            "766\n"
          ]
        },
        {
          "output_type": "stream",
          "name": "stderr",
          "text": [
            "Processing images:  89%|████████▉ | 7143/8010 [38:35<06:15,  2.31it/s]"
          ]
        },
        {
          "output_type": "stream",
          "name": "stdout",
          "text": [
            "767\n"
          ]
        },
        {
          "output_type": "stream",
          "name": "stderr",
          "text": [
            "\rProcessing images:  89%|████████▉ | 7144/8010 [38:36<05:20,  2.70it/s]"
          ]
        },
        {
          "output_type": "stream",
          "name": "stdout",
          "text": [
            "768\n"
          ]
        },
        {
          "output_type": "stream",
          "name": "stderr",
          "text": [
            "Processing images:  89%|████████▉ | 7163/8010 [38:49<08:42,  1.62it/s]"
          ]
        },
        {
          "output_type": "stream",
          "name": "stdout",
          "text": [
            "769\n"
          ]
        },
        {
          "output_type": "stream",
          "name": "stderr",
          "text": [
            "Processing images:  90%|████████▉ | 7187/8010 [39:02<07:36,  1.80it/s]"
          ]
        },
        {
          "output_type": "stream",
          "name": "stdout",
          "text": [
            "770\n"
          ]
        },
        {
          "output_type": "stream",
          "name": "stderr",
          "text": [
            "Processing images:  90%|████████▉ | 7198/8010 [39:07<05:03,  2.67it/s]"
          ]
        },
        {
          "output_type": "stream",
          "name": "stdout",
          "text": [
            "771\n"
          ]
        },
        {
          "output_type": "stream",
          "name": "stderr",
          "text": [
            "Processing images:  90%|█████████ | 7215/8010 [39:18<06:25,  2.06it/s]"
          ]
        },
        {
          "output_type": "stream",
          "name": "stdout",
          "text": [
            "772\n"
          ]
        },
        {
          "output_type": "stream",
          "name": "stderr",
          "text": [
            "\rProcessing images:  90%|█████████ | 7216/8010 [39:18<05:32,  2.39it/s]"
          ]
        },
        {
          "output_type": "stream",
          "name": "stdout",
          "text": [
            "773\n"
          ]
        },
        {
          "output_type": "stream",
          "name": "stderr",
          "text": [
            "Processing images:  90%|█████████ | 7223/8010 [39:21<05:14,  2.50it/s]"
          ]
        },
        {
          "output_type": "stream",
          "name": "stdout",
          "text": [
            "774\n"
          ]
        },
        {
          "output_type": "stream",
          "name": "stderr",
          "text": [
            "Processing images:  90%|█████████ | 7233/8010 [39:25<05:14,  2.47it/s]"
          ]
        },
        {
          "output_type": "stream",
          "name": "stdout",
          "text": [
            "775\n"
          ]
        },
        {
          "output_type": "stream",
          "name": "stderr",
          "text": [
            "\rProcessing images:  90%|█████████ | 7234/8010 [39:25<05:03,  2.55it/s]"
          ]
        },
        {
          "output_type": "stream",
          "name": "stdout",
          "text": [
            "776\n"
          ]
        },
        {
          "output_type": "stream",
          "name": "stderr",
          "text": [
            "\rProcessing images:  90%|█████████ | 7235/8010 [39:25<04:22,  2.95it/s]"
          ]
        },
        {
          "output_type": "stream",
          "name": "stdout",
          "text": [
            "777\n"
          ]
        },
        {
          "output_type": "stream",
          "name": "stderr",
          "text": [
            "Processing images:  90%|█████████ | 7242/8010 [39:30<06:52,  1.86it/s]"
          ]
        },
        {
          "output_type": "stream",
          "name": "stdout",
          "text": [
            "778\n"
          ]
        },
        {
          "output_type": "stream",
          "name": "stderr",
          "text": [
            "Processing images:  91%|█████████ | 7253/8010 [39:35<06:08,  2.05it/s]"
          ]
        },
        {
          "output_type": "stream",
          "name": "stdout",
          "text": [
            "779\n"
          ]
        },
        {
          "output_type": "stream",
          "name": "stderr",
          "text": [
            "Processing images:  91%|█████████ | 7261/8010 [39:40<06:12,  2.01it/s]"
          ]
        },
        {
          "output_type": "stream",
          "name": "stdout",
          "text": [
            "780\n"
          ]
        },
        {
          "output_type": "stream",
          "name": "stderr",
          "text": [
            "Processing images:  91%|█████████ | 7266/8010 [39:42<05:44,  2.16it/s]"
          ]
        },
        {
          "output_type": "stream",
          "name": "stdout",
          "text": [
            "781\n"
          ]
        },
        {
          "output_type": "stream",
          "name": "stderr",
          "text": [
            "Processing images:  91%|█████████ | 7272/8010 [39:45<05:30,  2.23it/s]"
          ]
        },
        {
          "output_type": "stream",
          "name": "stdout",
          "text": [
            "782\n"
          ]
        },
        {
          "output_type": "stream",
          "name": "stderr",
          "text": [
            "Processing images:  91%|█████████ | 7292/8010 [39:55<03:12,  3.73it/s]"
          ]
        },
        {
          "output_type": "stream",
          "name": "stdout",
          "text": [
            "783\n"
          ]
        },
        {
          "output_type": "stream",
          "name": "stderr",
          "text": [
            "Processing images:  91%|█████████ | 7299/8010 [39:58<04:16,  2.77it/s]"
          ]
        },
        {
          "output_type": "stream",
          "name": "stdout",
          "text": [
            "784\n"
          ]
        },
        {
          "output_type": "stream",
          "name": "stderr",
          "text": [
            "Processing images:  91%|█████████▏| 7311/8010 [40:01<03:14,  3.60it/s]"
          ]
        },
        {
          "output_type": "stream",
          "name": "stdout",
          "text": [
            "785\n"
          ]
        },
        {
          "output_type": "stream",
          "name": "stderr",
          "text": [
            "Processing images:  91%|█████████▏| 7319/8010 [40:04<02:12,  5.20it/s]"
          ]
        },
        {
          "output_type": "stream",
          "name": "stdout",
          "text": [
            "786\n",
            "787\n"
          ]
        },
        {
          "output_type": "stream",
          "name": "stderr",
          "text": [
            "Processing images:  91%|█████████▏| 7321/8010 [40:04<02:04,  5.55it/s]"
          ]
        },
        {
          "output_type": "stream",
          "name": "stdout",
          "text": [
            "788\n"
          ]
        },
        {
          "output_type": "stream",
          "name": "stderr",
          "text": [
            "Processing images:  91%|█████████▏| 7327/8010 [40:05<02:33,  4.46it/s]"
          ]
        },
        {
          "output_type": "stream",
          "name": "stdout",
          "text": [
            "789\n",
            "790\n",
            "791\n"
          ]
        },
        {
          "output_type": "stream",
          "name": "stderr",
          "text": [
            "Processing images:  92%|█████████▏| 7350/8010 [40:12<02:38,  4.17it/s]"
          ]
        },
        {
          "output_type": "stream",
          "name": "stdout",
          "text": [
            "792\n"
          ]
        },
        {
          "output_type": "stream",
          "name": "stderr",
          "text": [
            "Processing images:  92%|█████████▏| 7353/8010 [40:13<02:09,  5.09it/s]"
          ]
        },
        {
          "output_type": "stream",
          "name": "stdout",
          "text": [
            "793\n"
          ]
        },
        {
          "output_type": "stream",
          "name": "stderr",
          "text": [
            "Processing images:  92%|█████████▏| 7355/8010 [40:14<02:50,  3.84it/s]"
          ]
        },
        {
          "output_type": "stream",
          "name": "stdout",
          "text": [
            "794\n"
          ]
        },
        {
          "output_type": "stream",
          "name": "stderr",
          "text": [
            "Processing images:  92%|█████████▏| 7383/8010 [40:23<03:38,  2.88it/s]"
          ]
        },
        {
          "output_type": "stream",
          "name": "stdout",
          "text": [
            "795\n"
          ]
        },
        {
          "output_type": "stream",
          "name": "stderr",
          "text": [
            "Processing images:  92%|█████████▏| 7399/8010 [40:28<02:46,  3.66it/s]"
          ]
        },
        {
          "output_type": "stream",
          "name": "stdout",
          "text": [
            "796\n"
          ]
        },
        {
          "output_type": "stream",
          "name": "stderr",
          "text": [
            "Processing images:  92%|█████████▏| 7405/8010 [40:30<03:33,  2.84it/s]"
          ]
        },
        {
          "output_type": "stream",
          "name": "stdout",
          "text": [
            "797\n"
          ]
        },
        {
          "output_type": "stream",
          "name": "stderr",
          "text": [
            "Processing images:  93%|█████████▎| 7425/8010 [40:35<02:51,  3.42it/s]"
          ]
        },
        {
          "output_type": "stream",
          "name": "stdout",
          "text": [
            "798\n"
          ]
        },
        {
          "output_type": "stream",
          "name": "stderr",
          "text": [
            "Processing images:  93%|█████████▎| 7431/8010 [40:38<04:27,  2.17it/s]"
          ]
        },
        {
          "output_type": "stream",
          "name": "stdout",
          "text": [
            "799\n"
          ]
        },
        {
          "output_type": "stream",
          "name": "stderr",
          "text": [
            "Processing images:  93%|█████████▎| 7441/8010 [40:41<02:58,  3.18it/s]"
          ]
        },
        {
          "output_type": "stream",
          "name": "stdout",
          "text": [
            "800\n"
          ]
        },
        {
          "output_type": "stream",
          "name": "stderr",
          "text": [
            "Processing images:  93%|█████████▎| 7445/8010 [40:42<01:55,  4.88it/s]"
          ]
        },
        {
          "output_type": "stream",
          "name": "stdout",
          "text": [
            "801\n",
            "802\n"
          ]
        },
        {
          "output_type": "stream",
          "name": "stderr",
          "text": [
            "Processing images:  93%|█████████▎| 7455/8010 [40:44<02:25,  3.82it/s]"
          ]
        },
        {
          "output_type": "stream",
          "name": "stdout",
          "text": [
            "803\n"
          ]
        },
        {
          "output_type": "stream",
          "name": "stderr",
          "text": [
            "Processing images:  93%|█████████▎| 7474/8010 [40:52<05:53,  1.51it/s]"
          ]
        },
        {
          "output_type": "stream",
          "name": "stdout",
          "text": [
            "804\n"
          ]
        },
        {
          "output_type": "stream",
          "name": "stderr",
          "text": [
            "Processing images:  93%|█████████▎| 7479/8010 [40:53<02:27,  3.61it/s]"
          ]
        },
        {
          "output_type": "stream",
          "name": "stdout",
          "text": [
            "805\n"
          ]
        },
        {
          "output_type": "stream",
          "name": "stderr",
          "text": [
            "\rProcessing images:  93%|█████████▎| 7480/8010 [40:53<02:14,  3.94it/s]"
          ]
        },
        {
          "output_type": "stream",
          "name": "stdout",
          "text": [
            "806\n"
          ]
        },
        {
          "output_type": "stream",
          "name": "stderr",
          "text": [
            "\rProcessing images:  93%|█████████▎| 7481/8010 [40:53<02:15,  3.89it/s]"
          ]
        },
        {
          "output_type": "stream",
          "name": "stdout",
          "text": [
            "807\n"
          ]
        },
        {
          "output_type": "stream",
          "name": "stderr",
          "text": [
            "Processing images:  94%|█████████▎| 7495/8010 [40:57<01:48,  4.73it/s]"
          ]
        },
        {
          "output_type": "stream",
          "name": "stdout",
          "text": [
            "808\n"
          ]
        },
        {
          "output_type": "stream",
          "name": "stderr",
          "text": [
            "Processing images:  94%|█████████▎| 7498/8010 [40:58<01:47,  4.78it/s]"
          ]
        },
        {
          "output_type": "stream",
          "name": "stdout",
          "text": [
            "809\n"
          ]
        },
        {
          "output_type": "stream",
          "name": "stderr",
          "text": [
            "\rProcessing images:  94%|█████████▎| 7499/8010 [40:58<01:35,  5.37it/s]"
          ]
        },
        {
          "output_type": "stream",
          "name": "stdout",
          "text": [
            "810\n"
          ]
        },
        {
          "output_type": "stream",
          "name": "stderr",
          "text": [
            "Processing images:  94%|█████████▎| 7504/8010 [41:00<02:20,  3.60it/s]"
          ]
        },
        {
          "output_type": "stream",
          "name": "stdout",
          "text": [
            "811\n"
          ]
        },
        {
          "output_type": "stream",
          "name": "stderr",
          "text": [
            "Processing images:  94%|█████████▍| 7513/8010 [41:02<02:15,  3.66it/s]"
          ]
        },
        {
          "output_type": "stream",
          "name": "stdout",
          "text": [
            "812\n"
          ]
        },
        {
          "output_type": "stream",
          "name": "stderr",
          "text": [
            "Processing images:  94%|█████████▍| 7515/8010 [41:03<02:41,  3.07it/s]"
          ]
        },
        {
          "output_type": "stream",
          "name": "stdout",
          "text": [
            "813\n"
          ]
        },
        {
          "output_type": "stream",
          "name": "stderr",
          "text": [
            "Processing images:  94%|█████████▍| 7519/8010 [41:05<03:02,  2.69it/s]"
          ]
        },
        {
          "output_type": "stream",
          "name": "stdout",
          "text": [
            "814\n"
          ]
        },
        {
          "output_type": "stream",
          "name": "stderr",
          "text": [
            "Processing images:  94%|█████████▍| 7553/8010 [41:15<02:56,  2.59it/s]"
          ]
        },
        {
          "output_type": "stream",
          "name": "stdout",
          "text": [
            "815\n"
          ]
        },
        {
          "output_type": "stream",
          "name": "stderr",
          "text": [
            "Processing images:  94%|█████████▍| 7558/8010 [41:18<03:02,  2.48it/s]"
          ]
        },
        {
          "output_type": "stream",
          "name": "stdout",
          "text": [
            "816\n"
          ]
        },
        {
          "output_type": "stream",
          "name": "stderr",
          "text": [
            "Processing images:  95%|█████████▍| 7571/8010 [41:22<01:22,  5.31it/s]"
          ]
        },
        {
          "output_type": "stream",
          "name": "stdout",
          "text": [
            "817\n",
            "818\n"
          ]
        },
        {
          "output_type": "stream",
          "name": "stderr",
          "text": [
            "Processing images:  95%|█████████▍| 7573/8010 [41:23<01:53,  3.85it/s]"
          ]
        },
        {
          "output_type": "stream",
          "name": "stdout",
          "text": [
            "819\n"
          ]
        },
        {
          "output_type": "stream",
          "name": "stderr",
          "text": [
            "Processing images:  95%|█████████▍| 7577/8010 [41:24<02:08,  3.36it/s]"
          ]
        },
        {
          "output_type": "stream",
          "name": "stdout",
          "text": [
            "820\n"
          ]
        },
        {
          "output_type": "stream",
          "name": "stderr",
          "text": [
            "Processing images:  95%|█████████▍| 7584/8010 [41:27<02:12,  3.22it/s]"
          ]
        },
        {
          "output_type": "stream",
          "name": "stdout",
          "text": [
            "821\n"
          ]
        },
        {
          "output_type": "stream",
          "name": "stderr",
          "text": [
            "Processing images:  95%|█████████▌| 7614/8010 [41:37<01:43,  3.83it/s]"
          ]
        },
        {
          "output_type": "stream",
          "name": "stdout",
          "text": [
            "822\n"
          ]
        },
        {
          "output_type": "stream",
          "name": "stderr",
          "text": [
            "Processing images:  95%|█████████▌| 7617/8010 [41:38<02:07,  3.09it/s]"
          ]
        },
        {
          "output_type": "stream",
          "name": "stdout",
          "text": [
            "823\n"
          ]
        },
        {
          "output_type": "stream",
          "name": "stderr",
          "text": [
            "Processing images:  95%|█████████▌| 7622/8010 [41:39<01:54,  3.37it/s]"
          ]
        },
        {
          "output_type": "stream",
          "name": "stdout",
          "text": [
            "824\n"
          ]
        },
        {
          "output_type": "stream",
          "name": "stderr",
          "text": [
            "Processing images:  95%|█████████▌| 7649/8010 [41:48<01:15,  4.78it/s]"
          ]
        },
        {
          "output_type": "stream",
          "name": "stdout",
          "text": [
            "825\n"
          ]
        },
        {
          "output_type": "stream",
          "name": "stderr",
          "text": [
            "Processing images:  96%|█████████▌| 7663/8010 [41:52<01:03,  5.42it/s]"
          ]
        },
        {
          "output_type": "stream",
          "name": "stdout",
          "text": [
            "826\n"
          ]
        },
        {
          "output_type": "stream",
          "name": "stderr",
          "text": [
            "Processing images:  96%|█████████▌| 7667/8010 [41:52<00:52,  6.52it/s]"
          ]
        },
        {
          "output_type": "stream",
          "name": "stdout",
          "text": [
            "827\n",
            "828\n"
          ]
        },
        {
          "output_type": "stream",
          "name": "stderr",
          "text": [
            "Processing images:  96%|█████████▌| 7703/8010 [42:04<01:16,  4.01it/s]"
          ]
        },
        {
          "output_type": "stream",
          "name": "stdout",
          "text": [
            "829\n"
          ]
        },
        {
          "output_type": "stream",
          "name": "stderr",
          "text": [
            "Processing images:  96%|█████████▋| 7712/8010 [42:07<01:15,  3.96it/s]"
          ]
        },
        {
          "output_type": "stream",
          "name": "stdout",
          "text": [
            "830\n"
          ]
        },
        {
          "output_type": "stream",
          "name": "stderr",
          "text": [
            "Processing images:  97%|█████████▋| 7742/8010 [42:18<01:19,  3.37it/s]"
          ]
        },
        {
          "output_type": "stream",
          "name": "stdout",
          "text": [
            "831\n"
          ]
        },
        {
          "output_type": "stream",
          "name": "stderr",
          "text": [
            "Processing images:  97%|█████████▋| 7758/8010 [42:23<01:31,  2.75it/s]"
          ]
        },
        {
          "output_type": "stream",
          "name": "stdout",
          "text": [
            "832\n"
          ]
        },
        {
          "output_type": "stream",
          "name": "stderr",
          "text": [
            "Processing images:  97%|█████████▋| 7760/8010 [42:24<01:25,  2.93it/s]"
          ]
        },
        {
          "output_type": "stream",
          "name": "stdout",
          "text": [
            "833\n"
          ]
        },
        {
          "output_type": "stream",
          "name": "stderr",
          "text": [
            "Processing images:  97%|█████████▋| 7767/8010 [42:26<01:00,  3.99it/s]"
          ]
        },
        {
          "output_type": "stream",
          "name": "stdout",
          "text": [
            "834\n"
          ]
        },
        {
          "output_type": "stream",
          "name": "stderr",
          "text": [
            "Processing images:  97%|█████████▋| 7776/8010 [42:29<00:52,  4.43it/s]"
          ]
        },
        {
          "output_type": "stream",
          "name": "stdout",
          "text": [
            "835\n"
          ]
        },
        {
          "output_type": "stream",
          "name": "stderr",
          "text": [
            "Processing images:  97%|█████████▋| 7786/8010 [42:31<00:49,  4.52it/s]"
          ]
        },
        {
          "output_type": "stream",
          "name": "stdout",
          "text": [
            "836\n"
          ]
        },
        {
          "output_type": "stream",
          "name": "stderr",
          "text": [
            "Processing images:  97%|█████████▋| 7789/8010 [42:32<00:44,  4.93it/s]"
          ]
        },
        {
          "output_type": "stream",
          "name": "stdout",
          "text": [
            "837\n"
          ]
        },
        {
          "output_type": "stream",
          "name": "stderr",
          "text": [
            "Processing images:  97%|█████████▋| 7801/8010 [42:35<01:03,  3.27it/s]"
          ]
        },
        {
          "output_type": "stream",
          "name": "stdout",
          "text": [
            "838\n"
          ]
        },
        {
          "output_type": "stream",
          "name": "stderr",
          "text": [
            "Processing images:  98%|█████████▊| 7812/8010 [42:40<01:00,  3.26it/s]"
          ]
        },
        {
          "output_type": "stream",
          "name": "stdout",
          "text": [
            "839\n"
          ]
        },
        {
          "output_type": "stream",
          "name": "stderr",
          "text": [
            "Processing images:  98%|█████████▊| 7817/8010 [42:41<00:47,  4.06it/s]"
          ]
        },
        {
          "output_type": "stream",
          "name": "stdout",
          "text": [
            "840\n"
          ]
        },
        {
          "output_type": "stream",
          "name": "stderr",
          "text": [
            "Processing images:  98%|█████████▊| 7822/8010 [42:42<00:34,  5.50it/s]"
          ]
        },
        {
          "output_type": "stream",
          "name": "stdout",
          "text": [
            "841\n"
          ]
        },
        {
          "output_type": "stream",
          "name": "stderr",
          "text": [
            "Processing images:  98%|█████████▊| 7852/8010 [42:52<01:15,  2.09it/s]"
          ]
        },
        {
          "output_type": "stream",
          "name": "stdout",
          "text": [
            "842\n"
          ]
        },
        {
          "output_type": "stream",
          "name": "stderr",
          "text": [
            "Processing images:  98%|█████████▊| 7864/8010 [42:55<00:26,  5.53it/s]"
          ]
        },
        {
          "output_type": "stream",
          "name": "stdout",
          "text": [
            "843\n",
            "844\n"
          ]
        },
        {
          "output_type": "stream",
          "name": "stderr",
          "text": [
            "Processing images:  98%|█████████▊| 7879/8010 [42:59<00:26,  5.02it/s]"
          ]
        },
        {
          "output_type": "stream",
          "name": "stdout",
          "text": [
            "845\n"
          ]
        },
        {
          "output_type": "stream",
          "name": "stderr",
          "text": [
            "Processing images:  98%|█████████▊| 7885/8010 [43:01<00:32,  3.90it/s]"
          ]
        },
        {
          "output_type": "stream",
          "name": "stdout",
          "text": [
            "846\n"
          ]
        },
        {
          "output_type": "stream",
          "name": "stderr",
          "text": [
            "Processing images:  98%|█████████▊| 7888/8010 [43:02<00:29,  4.16it/s]"
          ]
        },
        {
          "output_type": "stream",
          "name": "stdout",
          "text": [
            "847\n"
          ]
        },
        {
          "output_type": "stream",
          "name": "stderr",
          "text": [
            "Processing images:  99%|█████████▊| 7892/8010 [43:04<00:55,  2.12it/s]"
          ]
        },
        {
          "output_type": "stream",
          "name": "stdout",
          "text": [
            "848\n"
          ]
        },
        {
          "output_type": "stream",
          "name": "stderr",
          "text": [
            "Processing images:  99%|█████████▊| 7897/8010 [43:06<00:34,  3.25it/s]"
          ]
        },
        {
          "output_type": "stream",
          "name": "stdout",
          "text": [
            "849\n"
          ]
        },
        {
          "output_type": "stream",
          "name": "stderr",
          "text": [
            "Processing images:  99%|█████████▊| 7904/8010 [43:08<00:23,  4.44it/s]"
          ]
        },
        {
          "output_type": "stream",
          "name": "stdout",
          "text": [
            "850\n"
          ]
        },
        {
          "output_type": "stream",
          "name": "stderr",
          "text": [
            "Processing images:  99%|█████████▉| 7924/8010 [43:14<00:28,  3.05it/s]"
          ]
        },
        {
          "output_type": "stream",
          "name": "stdout",
          "text": [
            "851\n"
          ]
        },
        {
          "output_type": "stream",
          "name": "stderr",
          "text": [
            "Processing images:  99%|█████████▉| 7940/8010 [43:21<00:16,  4.30it/s]"
          ]
        },
        {
          "output_type": "stream",
          "name": "stdout",
          "text": [
            "852\n"
          ]
        },
        {
          "output_type": "stream",
          "name": "stderr",
          "text": [
            "Processing images:  99%|█████████▉| 7949/8010 [43:23<00:14,  4.13it/s]"
          ]
        },
        {
          "output_type": "stream",
          "name": "stdout",
          "text": [
            "853\n"
          ]
        },
        {
          "output_type": "stream",
          "name": "stderr",
          "text": [
            "Processing images:  99%|█████████▉| 7958/8010 [43:25<00:13,  3.75it/s]"
          ]
        },
        {
          "output_type": "stream",
          "name": "stdout",
          "text": [
            "854\n"
          ]
        },
        {
          "output_type": "stream",
          "name": "stderr",
          "text": [
            "Processing images:  99%|█████████▉| 7961/8010 [43:26<00:17,  2.87it/s]"
          ]
        },
        {
          "output_type": "stream",
          "name": "stdout",
          "text": [
            "855\n"
          ]
        },
        {
          "output_type": "stream",
          "name": "stderr",
          "text": [
            "Processing images:  99%|█████████▉| 7966/8010 [43:27<00:09,  4.66it/s]"
          ]
        },
        {
          "output_type": "stream",
          "name": "stdout",
          "text": [
            "856\n"
          ]
        },
        {
          "output_type": "stream",
          "name": "stderr",
          "text": [
            "Processing images: 100%|█████████▉| 7977/8010 [43:31<00:12,  2.74it/s]"
          ]
        },
        {
          "output_type": "stream",
          "name": "stdout",
          "text": [
            "857\n"
          ]
        },
        {
          "output_type": "stream",
          "name": "stderr",
          "text": [
            "Processing images: 100%|█████████▉| 7979/8010 [43:31<00:08,  3.61it/s]"
          ]
        },
        {
          "output_type": "stream",
          "name": "stdout",
          "text": [
            "858\n",
            "859\n"
          ]
        },
        {
          "output_type": "stream",
          "name": "stderr",
          "text": [
            "Processing images: 100%|█████████▉| 7986/8010 [43:34<00:06,  3.72it/s]"
          ]
        },
        {
          "output_type": "stream",
          "name": "stdout",
          "text": [
            "860\n"
          ]
        },
        {
          "output_type": "stream",
          "name": "stderr",
          "text": [
            "Processing images: 100%|█████████▉| 7995/8010 [43:36<00:03,  4.23it/s]"
          ]
        },
        {
          "output_type": "stream",
          "name": "stdout",
          "text": [
            "861\n"
          ]
        },
        {
          "output_type": "stream",
          "name": "stderr",
          "text": [
            "Processing images: 100%|██████████| 8010/8010 [43:40<00:00,  3.06it/s]"
          ]
        },
        {
          "output_type": "stream",
          "name": "stdout",
          "text": [
            "Total errors: 861\n"
          ]
        },
        {
          "output_type": "stream",
          "name": "stderr",
          "text": [
            "\n"
          ]
        }
      ]
    },
    {
      "cell_type": "markdown",
      "source": [
        "Errors 861/8010"
      ],
      "metadata": {
        "id": "aRnhth0SZzo8"
      }
    },
    {
      "cell_type": "markdown",
      "source": [
        "## Model"
      ],
      "metadata": {
        "id": "F35na8HSpA29"
      }
    },
    {
      "cell_type": "code",
      "source": [
        "from huggingface_hub import notebook_login\n",
        "\n",
        "notebook_login()"
      ],
      "metadata": {
        "colab": {
          "base_uri": "https://localhost:8080/",
          "height": 17,
          "referenced_widgets": [
            "cb53402465c74bcc891a6f02a5d10951",
            "b181a5f013d14629813a37f76755b2bc",
            "18fdcfecb9ac4f51bdefe67fcf828ea4",
            "f18395048ed34e2fb4496c28d64c1f4d",
            "41f3200c79e64cdc9c47b4624e6256e8",
            "ccc61d2142cc4115998b96ddca3a3700",
            "70d6063cc04a4e38b4ff6d894e4a1cac",
            "0c79e8ced16f4bc1aae98f87fd6f14ca",
            "4224e9a68dba4027a455308658cac6cc",
            "b0e59f3c937c4d2c82a7918930c80d77",
            "6bf01c1717cf46789c4c9c545b687b94",
            "0da01d6b60624b25b7236f7a4894598e",
            "26d809fdf69d491a86fedcaf67a2d2a4",
            "6bcfed7e89c24c069fcc884dfa24187c",
            "e8da6d52e10b47dca6bb5fecc9fe0055",
            "0d68b6375d2346439cbc616688e6db78",
            "2c687650e60948fb92e74936fb3dab2c",
            "aaf3e94d8bde4375972be8cee244fe4b",
            "5edb60488b44449ea21cea016edf5ebc",
            "e045853361c84d5897b06f62ee5fb894"
          ]
        },
        "id": "B6IC6sJnqFUx",
        "outputId": "9f91d7db-6c5d-4321-d57f-735ebcae7a95"
      },
      "execution_count": null,
      "outputs": [
        {
          "output_type": "display_data",
          "data": {
            "text/plain": [
              "VBox(children=(HTML(value='<center> <img\\nsrc=https://huggingface.co/front/assets/huggingface_logo-noborder.sv…"
            ],
            "application/vnd.jupyter.widget-view+json": {
              "version_major": 2,
              "version_minor": 0,
              "model_id": "cb53402465c74bcc891a6f02a5d10951"
            }
          },
          "metadata": {}
        }
      ]
    },
    {
      "cell_type": "code",
      "source": [
        "from transformers import AutoImageProcessor\n",
        "\n",
        "checkpoint = \"google/vit-base-patch16-224-in21k\"\n",
        "image_processor = AutoImageProcessor.from_pretrained(checkpoint)"
      ],
      "metadata": {
        "colab": {
          "base_uri": "https://localhost:8080/",
          "height": 222,
          "referenced_widgets": [
            "cb0c3bb76b0d49c48c95880dc0255711",
            "d775ed167b3046aa848f04e2af8b0dd7",
            "a975c4f10685479ea99be13800ddde0f",
            "45d6d85118554ed490361999bd425719",
            "c0a6acb84c4c4e5c8be3e7c256104c2c",
            "f032b1d95d504b06a5db2e23b26747d3",
            "3a76508a6034413da5efa93a9ff2c61f",
            "1a891418e96c43b6b977ac419226d59d",
            "fda761a31e9046d6a9b956b03c9f530a",
            "d3dc6008af794ad89784a5b5b27a594f",
            "886562ae7d79482e9acf2da4127b2a71",
            "b98f8d4e30b7442ca2e0095832e035ea",
            "efb672719f93457fb9ae010a9183def2",
            "41dfa134d0db4a848f6d96878a998b85",
            "297c04c1c3984f57900652e9b6a84528",
            "c8ffecf572db43b6be34bc8554b100d7",
            "3a43860cafe2410bac8bd145274a330e",
            "edadc7b36c674771a6d8b4e3f5172ecd",
            "e0a34483e120452da74fa14ed4efcbb1",
            "8d8185b030a84607bb7c24f293eb701e",
            "269393d3bd7743f289b1d60b0ca1132f",
            "741eb8913f2f42cd95b5f7da760099ec"
          ]
        },
        "id": "4O2uV2nlp6s-",
        "outputId": "e44cd71e-3d9c-475b-e43f-0921e3b97228"
      },
      "execution_count": null,
      "outputs": [
        {
          "output_type": "stream",
          "name": "stderr",
          "text": [
            "/usr/local/lib/python3.11/dist-packages/huggingface_hub/utils/_auth.py:94: UserWarning: \n",
            "The secret `HF_TOKEN` does not exist in your Colab secrets.\n",
            "To authenticate with the Hugging Face Hub, create a token in your settings tab (https://huggingface.co/settings/tokens), set it as secret in your Google Colab and restart your session.\n",
            "You will be able to reuse this secret in all of your notebooks.\n",
            "Please note that authentication is recommended but still optional to access public models or datasets.\n",
            "  warnings.warn(\n"
          ]
        },
        {
          "output_type": "display_data",
          "data": {
            "text/plain": [
              "preprocessor_config.json:   0%|          | 0.00/160 [00:00<?, ?B/s]"
            ],
            "application/vnd.jupyter.widget-view+json": {
              "version_major": 2,
              "version_minor": 0,
              "model_id": "cb0c3bb76b0d49c48c95880dc0255711"
            }
          },
          "metadata": {}
        },
        {
          "output_type": "display_data",
          "data": {
            "text/plain": [
              "config.json:   0%|          | 0.00/502 [00:00<?, ?B/s]"
            ],
            "application/vnd.jupyter.widget-view+json": {
              "version_major": 2,
              "version_minor": 0,
              "model_id": "b98f8d4e30b7442ca2e0095832e035ea"
            }
          },
          "metadata": {}
        },
        {
          "output_type": "stream",
          "name": "stderr",
          "text": [
            "Fast image processor class <class 'transformers.models.vit.image_processing_vit_fast.ViTImageProcessorFast'> is available for this model. Using slow image processor class. To use the fast image processor class set `use_fast=True`.\n"
          ]
        }
      ]
    },
    {
      "cell_type": "code",
      "source": [
        "import os\n",
        "import pandas as pd\n",
        "import numpy as np\n",
        "from sklearn.model_selection import train_test_split\n",
        "from datasets import Dataset\n",
        "from transformers import AutoImageProcessor, AutoModelForImageClassification\n",
        "import torch\n",
        "from PIL import Image\n",
        "\n",
        "# Fix the path construction\n",
        "base_path = '/content/train_crops/content/train_crops'\n",
        "image_files = os.listdir(base_path)\n",
        "\n",
        "# Create proper file paths and extract labels\n",
        "file_paths = []\n",
        "labels = []\n",
        "\n",
        "for filename in image_files:\n",
        "    # Only process image files\n",
        "    if filename.lower().endswith(('.png', '.jpg', '.jpeg')):\n",
        "        # Full path to the image\n",
        "        full_path = os.path.join(base_path, filename)\n",
        "        file_paths.append(full_path)\n",
        "\n",
        "        # Extract label from filename - assuming the label is the character before the file extension\n",
        "        # Adjust this logic based on your actual filename format\n",
        "        label = os.path.splitext(filename)[0].split('_')[-1]  # Example: if format is \"image_pizza.jpg\" -> \"pizza\"\n",
        "        labels.append(label)\n",
        "\n",
        "# Create DataFrame\n",
        "images_df = pd.DataFrame({\n",
        "    'path': file_paths,\n",
        "    'label': labels\n",
        "})\n",
        "\n",
        "# Check the dataset\n",
        "print(f\"Total images found: {len(images_df)}\")\n",
        "print(images_df.head())\n",
        "\n",
        "# Count images per class\n",
        "print(\"\\nClass distribution:\")\n",
        "print(images_df['label'].value_counts())\n",
        "\n",
        "# Convert labels to numeric IDs for model training\n",
        "unique_labels = images_df['label'].unique()\n",
        "label_to_id = {label: i for i, label in enumerate(unique_labels)}\n",
        "id_to_label = {i: label for label, i in label_to_id.items()}\n",
        "\n",
        "# Add numeric label IDs to DataFrame\n",
        "images_df['label_id'] = images_df['label'].map(label_to_id)\n",
        "\n",
        "# Split into train and evaluation sets (80% train, 20% eval)\n",
        "train_df, eval_df = train_test_split(\n",
        "    images_df,\n",
        "    test_size=0.2,\n",
        "    stratify=images_df['label'],  # Maintain class distribution\n",
        "    random_state=42\n",
        ")\n",
        "\n",
        "print(f\"\\nTraining set: {len(train_df)} images\")\n",
        "print(f\"Evaluation set: {len(eval_df)} images\")\n",
        "\n",
        "# Create Hugging Face Datasets\n",
        "def create_dataset(dataframe):\n",
        "    # Convert pandas DataFrame to Hugging Face Dataset\n",
        "    dataset = Dataset.from_pandas(dataframe)\n",
        "\n",
        "    # Map preprocessing function to the dataset\n",
        "    dataset.set_transform(preprocess_images)\n",
        "\n",
        "    return dataset\n",
        "\n",
        "# Load image processor\n",
        "model_checkpoint = \"google/vit-base-patch16-224\"  # Example checkpoint, replace with your preferred model\n",
        "image_processor = AutoImageProcessor.from_pretrained(model_checkpoint)\n",
        "\n",
        "# Create datasets for training\n",
        "train_dataset = create_dataset(train_df)\n",
        "eval_dataset = create_dataset(eval_df)\n",
        "\n",
        "# Function to compute metrics during training\n",
        "def compute_metrics(eval_pred):\n",
        "    logits, labels = eval_pred\n",
        "    predictions = np.argmax(logits, axis=1)\n",
        "    accuracy = (predictions == labels).mean()\n",
        "    return {\"accuracy\": accuracy}\n",
        "\n",
        "# First, check if GPU is available\n",
        "import torch\n",
        "\n",
        "device = torch.device(\"cuda\" if torch.cuda.is_available() else \"cpu\")\n",
        "print(f\"Using device: {device}\")\n",
        "\n",
        "# Modify your dataset preparation to NOT move tensors to GPU in the preprocessing step\n",
        "# The Trainer will handle moving data to the GPU\n",
        "\n",
        "def preprocess_images(examples):\n",
        "    images = [Image.open(path).convert(\"RGB\") for path in examples[\"path\"]]\n",
        "    processed_images = image_processor(images, return_tensors=\"pt\")\n",
        "    examples[\"pixel_values\"] = processed_images.pixel_values\n",
        "    # Don't move to device here - let the DataLoader/Trainer handle this\n",
        "    return examples\n",
        "\n",
        "# Update your collate function to NOT move tensors to the device\n",
        "def collate_fn(batch):\n",
        "    pixel_values = torch.stack([example[\"pixel_values\"] for example in batch])\n",
        "    labels = torch.tensor([example[\"label_id\"] for example in batch])\n",
        "    # Don't move to device here - let the Trainer handle this\n",
        "    return {\"pixel_values\": pixel_values, \"labels\": labels}\n",
        "\n",
        "# Update your training arguments\n",
        "training_args = TrainingArguments(\n",
        "    output_dir=\"my_awesome_food_model\",\n",
        "    remove_unused_columns=False,\n",
        "    eval_strategy=\"epoch\",\n",
        "    save_strategy=\"epoch\",\n",
        "    learning_rate=5e-5,\n",
        "    per_device_train_batch_size=16,\n",
        "    gradient_accumulation_steps=4,\n",
        "    per_device_eval_batch_size=16,\n",
        "    num_train_epochs=3,\n",
        "    warmup_ratio=0.1,\n",
        "    logging_steps=10,\n",
        "    load_best_model_at_end=True,\n",
        "    metric_for_best_model=\"accuracy\",\n",
        "    push_to_hub=True,\n",
        "    # Use DataLoader setting to control pinning\n",
        "    dataloader_pin_memory=True,  # This enables pinning CPU memory\n",
        "    fp16=True,                   # Keep mixed precision training\n",
        ")\n",
        "\n",
        "# Make sure model is created but NOT moved to device manually\n",
        "model = AutoModelForImageClassification.from_pretrained(\n",
        "    model_checkpoint,\n",
        "    num_labels=len(unique_labels),\n",
        "    id2label=id_to_label,\n",
        "    label2id=label_to_id,\n",
        "    ignore_mismatched_sizes=True\n",
        ")\n",
        "# Don't do model = model.to(device) - Trainer will handle this\n",
        "\n",
        "# Create the trainer\n",
        "trainer = Trainer(\n",
        "    model=model,\n",
        "    args=training_args,\n",
        "    data_collator=collate_fn,\n",
        "    train_dataset=train_dataset,\n",
        "    eval_dataset=eval_dataset,\n",
        "    compute_metrics=compute_metrics,\n",
        ")\n",
        "\n",
        "# Train the model\n",
        "trainer.train()"
      ],
      "metadata": {
        "colab": {
          "base_uri": "https://localhost:8080/",
          "height": 1000
        },
        "id": "y7p-OZrsslUY",
        "outputId": "f01102f5-c54b-4d3a-ad74-8e55581868ad"
      },
      "execution_count": null,
      "outputs": [
        {
          "output_type": "stream",
          "name": "stdout",
          "text": [
            "Total images found: 42995\n",
            "                                                path label\n",
            "0  /content/train_crops/content/train_crops/pic_s...     s\n",
            "1  /content/train_crops/content/train_crops/pic_j...     z\n",
            "2  /content/train_crops/content/train_crops/pic_7...     y\n",
            "3  /content/train_crops/content/train_crops/pic_f...     o\n",
            "4  /content/train_crops/content/train_crops/pic_a...     n\n",
            "\n",
            "Class distribution:\n",
            "label\n",
            "e    1237\n",
            "n    1235\n",
            "x    1234\n",
            "3    1230\n",
            "p    1229\n",
            "g    1227\n",
            "d    1223\n",
            "b    1222\n",
            "o    1219\n",
            "f    1217\n",
            "q    1216\n",
            "k    1216\n",
            "9    1210\n",
            "0    1207\n",
            "6    1205\n",
            "h    1202\n",
            "c    1198\n",
            "1    1197\n",
            "v    1193\n",
            "t    1191\n",
            "m    1190\n",
            "w    1189\n",
            "z    1189\n",
            "4    1187\n",
            "u    1184\n",
            "l    1184\n",
            "s    1175\n",
            "r    1173\n",
            "8    1169\n",
            "a    1169\n",
            "i    1160\n",
            "5    1157\n",
            "y    1149\n",
            "7    1148\n",
            "2    1134\n",
            "j    1130\n",
            "Name: count, dtype: int64\n",
            "\n",
            "Training set: 34396 images\n",
            "Evaluation set: 8599 images\n"
          ]
        },
        {
          "output_type": "stream",
          "name": "stderr",
          "text": [
            "Fast image processor class <class 'transformers.models.vit.image_processing_vit_fast.ViTImageProcessorFast'> is available for this model. Using slow image processor class. To use the fast image processor class set `use_fast=True`.\n"
          ]
        },
        {
          "output_type": "stream",
          "name": "stdout",
          "text": [
            "Using device: cuda\n"
          ]
        },
        {
          "output_type": "stream",
          "name": "stderr",
          "text": [
            "Some weights of ViTForImageClassification were not initialized from the model checkpoint at google/vit-base-patch16-224 and are newly initialized because the shapes did not match:\n",
            "- classifier.bias: found shape torch.Size([1000]) in the checkpoint and torch.Size([36]) in the model instantiated\n",
            "- classifier.weight: found shape torch.Size([1000, 768]) in the checkpoint and torch.Size([36, 768]) in the model instantiated\n",
            "You should probably TRAIN this model on a down-stream task to be able to use it for predictions and inference.\n"
          ]
        },
        {
          "output_type": "display_data",
          "data": {
            "text/plain": [
              "<IPython.core.display.HTML object>"
            ],
            "text/html": [
              "\n",
              "    <div>\n",
              "      \n",
              "      <progress value='1611' max='1611' style='width:300px; height:20px; vertical-align: middle;'></progress>\n",
              "      [1611/1611 21:55, Epoch 2/3]\n",
              "    </div>\n",
              "    <table border=\"1\" class=\"dataframe\">\n",
              "  <thead>\n",
              " <tr style=\"text-align: left;\">\n",
              "      <th>Epoch</th>\n",
              "      <th>Training Loss</th>\n",
              "      <th>Validation Loss</th>\n",
              "      <th>Accuracy</th>\n",
              "    </tr>\n",
              "  </thead>\n",
              "  <tbody>\n",
              "    <tr>\n",
              "      <td>1</td>\n",
              "      <td>0.471500</td>\n",
              "      <td>0.494331</td>\n",
              "      <td>0.852308</td>\n",
              "    </tr>\n",
              "    <tr>\n",
              "      <td>2</td>\n",
              "      <td>0.172000</td>\n",
              "      <td>0.312036</td>\n",
              "      <td>0.901384</td>\n",
              "    </tr>\n",
              "  </tbody>\n",
              "</table><p>"
            ]
          },
          "metadata": {}
        },
        {
          "output_type": "execute_result",
          "data": {
            "text/plain": [
              "TrainOutput(global_step=1611, training_loss=0.631801794028149, metrics={'train_runtime': 1316.3131, 'train_samples_per_second': 78.392, 'train_steps_per_second': 1.224, 'total_flos': 7.986587695370404e+18, 'train_loss': 0.631801794028149, 'epoch': 2.9953488372093022})"
            ]
          },
          "metadata": {},
          "execution_count": 32
        }
      ]
    },
    {
      "cell_type": "code",
      "source": [
        "model.eval()"
      ],
      "metadata": {
        "colab": {
          "base_uri": "https://localhost:8080/"
        },
        "id": "T7vgMJNIz0Mh",
        "outputId": "fd4f8c79-6872-4de2-dc4d-33a7016c4ae2"
      },
      "execution_count": null,
      "outputs": [
        {
          "output_type": "execute_result",
          "data": {
            "text/plain": [
              "ViTForImageClassification(\n",
              "  (vit): ViTModel(\n",
              "    (embeddings): ViTEmbeddings(\n",
              "      (patch_embeddings): ViTPatchEmbeddings(\n",
              "        (projection): Conv2d(3, 768, kernel_size=(16, 16), stride=(16, 16))\n",
              "      )\n",
              "      (dropout): Dropout(p=0.0, inplace=False)\n",
              "    )\n",
              "    (encoder): ViTEncoder(\n",
              "      (layer): ModuleList(\n",
              "        (0-11): 12 x ViTLayer(\n",
              "          (attention): ViTAttention(\n",
              "            (attention): ViTSelfAttention(\n",
              "              (query): Linear(in_features=768, out_features=768, bias=True)\n",
              "              (key): Linear(in_features=768, out_features=768, bias=True)\n",
              "              (value): Linear(in_features=768, out_features=768, bias=True)\n",
              "            )\n",
              "            (output): ViTSelfOutput(\n",
              "              (dense): Linear(in_features=768, out_features=768, bias=True)\n",
              "              (dropout): Dropout(p=0.0, inplace=False)\n",
              "            )\n",
              "          )\n",
              "          (intermediate): ViTIntermediate(\n",
              "            (dense): Linear(in_features=768, out_features=3072, bias=True)\n",
              "            (intermediate_act_fn): GELUActivation()\n",
              "          )\n",
              "          (output): ViTOutput(\n",
              "            (dense): Linear(in_features=3072, out_features=768, bias=True)\n",
              "            (dropout): Dropout(p=0.0, inplace=False)\n",
              "          )\n",
              "          (layernorm_before): LayerNorm((768,), eps=1e-12, elementwise_affine=True)\n",
              "          (layernorm_after): LayerNorm((768,), eps=1e-12, elementwise_affine=True)\n",
              "        )\n",
              "      )\n",
              "    )\n",
              "    (layernorm): LayerNorm((768,), eps=1e-12, elementwise_affine=True)\n",
              "  )\n",
              "  (classifier): Linear(in_features=768, out_features=36, bias=True)\n",
              ")"
            ]
          },
          "metadata": {},
          "execution_count": 36
        }
      ]
    },
    {
      "cell_type": "markdown",
      "source": [
        "## Ok\n"
      ],
      "metadata": {
        "id": "dx4fjTK5pWXk"
      }
    },
    {
      "cell_type": "code",
      "source": [
        "!unzip train.zip -d /content/train_crops/"
      ],
      "metadata": {
        "colab": {
          "base_uri": "https://localhost:8080/"
        },
        "id": "v4Ktt4hgcygG",
        "outputId": "5d06d6a1-095e-4e7c-d398-005e7e3fa98e"
      },
      "execution_count": null,
      "outputs": [
        {
          "output_type": "stream",
          "name": "stdout",
          "text": [
            "\u001b[1;30;43mStreaming output truncated to the last 5000 lines.\u001b[0m\n",
            "  inflating: /content/train_crops/content/train_crops/pic_j4bgpn_4_p.png  \n",
            "  inflating: /content/train_crops/content/train_crops/pic_z487ufh_5_f.png  \n",
            "  inflating: /content/train_crops/content/train_crops/pic_mq639gkf_3_3.png  \n",
            "  inflating: /content/train_crops/content/train_crops/pic_grz2t_1_r.png  \n",
            "  inflating: /content/train_crops/content/train_crops/pic_aoe2bt_3_2.png  \n",
            "  inflating: /content/train_crops/content/train_crops/pic_0fn5eioh_3_5.png  \n",
            "  inflating: /content/train_crops/content/train_crops/pic_9966_3_6.png  \n",
            "  inflating: /content/train_crops/content/train_crops/pic_2ilolokm_3_o.png  \n",
            "  inflating: /content/train_crops/content/train_crops/pic_wbp4exp_1_b.png  \n",
            "  inflating: /content/train_crops/content/train_crops/pic_ee8srco_2_8.png  \n",
            "  inflating: /content/train_crops/content/train_crops/pic_uz67y9_1_z.png  \n",
            "  inflating: /content/train_crops/content/train_crops/pic_ql2ffv_3_f.png  \n",
            "  inflating: /content/train_crops/content/train_crops/pic_qwj62ioh_6_o.png  \n",
            "  inflating: /content/train_crops/content/train_crops/pic_pltq51t_0_p.png  \n",
            "  inflating: /content/train_crops/content/train_crops/pic_yygxv8_2_g.png  \n",
            "  inflating: /content/train_crops/content/train_crops/pic_8ka2r_1_k.png  \n",
            "  inflating: /content/train_crops/content/train_crops/pic_ucph_1_c.png  \n",
            "  inflating: /content/train_crops/content/train_crops/pic_crp53j_3_5.png  \n",
            "  inflating: /content/train_crops/content/train_crops/pic_ls2wak49_7_9.png  \n",
            "  inflating: /content/train_crops/content/train_crops/pic_upho6mjh_4_6.png  \n",
            "  inflating: /content/train_crops/content/train_crops/pic_mimb5mky_4_5.png  \n",
            "  inflating: /content/train_crops/content/train_crops/pic_13b3n3f8_5_3.png  \n",
            "  inflating: /content/train_crops/content/train_crops/pic_ckp24c3b_4_4.png  \n",
            "  inflating: /content/train_crops/content/train_crops/pic_lykkkt_2_k.png  \n",
            "  inflating: /content/train_crops/content/train_crops/pic_4nr3ptb4_5_t.png  \n",
            "  inflating: /content/train_crops/content/train_crops/pic_reyheumd_4_e.png  \n",
            "  inflating: /content/train_crops/content/train_crops/pic_cq19l0o4_5_0.png  \n",
            "  inflating: /content/train_crops/content/train_crops/pic_hvfoyp9c_4_y.png  \n",
            "  inflating: /content/train_crops/content/train_crops/pic_xxyyg_1_x.png  \n",
            "  inflating: /content/train_crops/content/train_crops/pic_jcvgkl_3_g.png  \n",
            "  inflating: /content/train_crops/content/train_crops/pic_tkx3x_1_k.png  \n",
            "  inflating: /content/train_crops/content/train_crops/pic_ulknom2f_5_m.png  \n",
            "  inflating: /content/train_crops/content/train_crops/pic_ooyc6m9_4_6.png  \n",
            "  inflating: /content/train_crops/content/train_crops/pic_8jt4_0_8.png  \n",
            "  inflating: /content/train_crops/content/train_crops/pic_gkz37nn_1_k.png  \n",
            "  inflating: /content/train_crops/content/train_crops/pic_78hab06_0_7.png  \n",
            "  inflating: /content/train_crops/content/train_crops/pic_o7c24c2_5_c.png  \n",
            "  inflating: /content/train_crops/content/train_crops/pic_dunk_3_k.png  \n",
            "  inflating: /content/train_crops/content/train_crops/pic_1nov0r3o_7_o.png  \n",
            "  inflating: /content/train_crops/content/train_crops/pic_11pkel8_0_1.png  \n",
            "  inflating: /content/train_crops/content/train_crops/pic_dbqg63v_0_d.png  \n",
            "  inflating: /content/train_crops/content/train_crops/pic_tel74clm_1_e.png  \n",
            "  inflating: /content/train_crops/content/train_crops/pic_tpo2gv_2_o.png  \n",
            "  inflating: /content/train_crops/content/train_crops/pic_xamg9lr_0_x.png  \n",
            "  inflating: /content/train_crops/content/train_crops/pic_4ivq4hh_3_q.png  \n",
            "  inflating: /content/train_crops/content/train_crops/pic_s2xz_1_2.png  \n",
            "  inflating: /content/train_crops/content/train_crops/pic_rdcha_2_c.png  \n",
            "  inflating: /content/train_crops/content/train_crops/pic_jq1wcp7_0_j.png  \n",
            "  inflating: /content/train_crops/content/train_crops/pic_u8m5o2a4_2_m.png  \n",
            "  inflating: /content/train_crops/content/train_crops/pic_dqlktvui_7_i.png  \n",
            "  inflating: /content/train_crops/content/train_crops/pic_0m5gzz_2_5.png  \n",
            "  inflating: /content/train_crops/content/train_crops/pic_6fjt_2_j.png  \n",
            "  inflating: /content/train_crops/content/train_crops/pic_13csbj_3_s.png  \n",
            "  inflating: /content/train_crops/content/train_crops/pic_jy7448_5_8.png  \n",
            "  inflating: /content/train_crops/content/train_crops/pic_m3ja38kz_7_z.png  \n",
            "  inflating: /content/train_crops/content/train_crops/pic_atkc903_1_t.png  \n",
            "  inflating: /content/train_crops/content/train_crops/pic_jsbrsph_3_r.png  \n",
            "  inflating: /content/train_crops/content/train_crops/pic_wa72bh8_0_w.png  \n",
            "  inflating: /content/train_crops/content/train_crops/pic_9u3c_0_9.png  \n",
            "  inflating: /content/train_crops/content/train_crops/pic_bv8lp563_7_3.png  \n",
            "  inflating: /content/train_crops/content/train_crops/pic_zlbp2_2_b.png  \n",
            "  inflating: /content/train_crops/content/train_crops/pic_usg0v7g_1_s.png  \n",
            "  inflating: /content/train_crops/content/train_crops/pic_1354l6_5_6.png  \n",
            "  inflating: /content/train_crops/content/train_crops/pic_c9d8e_0_c.png  \n",
            "  inflating: /content/train_crops/content/train_crops/pic_rn0fc_1_n.png  \n",
            "  inflating: /content/train_crops/content/train_crops/pic_n391551_5_5.png  \n",
            "  inflating: /content/train_crops/content/train_crops/pic_xen40hr_4_0.png  \n",
            "  inflating: /content/train_crops/content/train_crops/pic_h6fs0n_2_f.png  \n",
            "  inflating: /content/train_crops/content/train_crops/pic_pva2bu_2_a.png  \n",
            "  inflating: /content/train_crops/content/train_crops/pic_04yh1rvu_3_h.png  \n",
            "  inflating: /content/train_crops/content/train_crops/pic_dkqs4pq_5_p.png  \n",
            "  inflating: /content/train_crops/content/train_crops/pic_ebftr_1_b.png  \n",
            "  inflating: /content/train_crops/content/train_crops/pic_hcsnr6_5_6.png  \n",
            "  inflating: /content/train_crops/content/train_crops/pic_evbgq5_3_g.png  \n",
            "  inflating: /content/train_crops/content/train_crops/pic_krc4zs_3_4.png  \n",
            "  inflating: /content/train_crops/content/train_crops/pic_u52ms6b2_5_6.png  \n",
            "  inflating: /content/train_crops/content/train_crops/pic_61tz7kv_4_7.png  \n",
            "  inflating: /content/train_crops/content/train_crops/pic_3cdcwuh1_5_u.png  \n",
            "  inflating: /content/train_crops/content/train_crops/pic_9bn5d5kl_2_n.png  \n",
            "  inflating: /content/train_crops/content/train_crops/pic_2o3sul_1_o.png  \n",
            "  inflating: /content/train_crops/content/train_crops/pic_elrbc90_6_0.png  \n",
            "  inflating: /content/train_crops/content/train_crops/pic_3v17ro93_5_o.png  \n",
            "  inflating: /content/train_crops/content/train_crops/pic_ov2u8wcg_4_8.png  \n",
            "  inflating: /content/train_crops/content/train_crops/pic_6xrf_1_x.png  \n",
            "  inflating: /content/train_crops/content/train_crops/pic_2b4d_1_b.png  \n",
            "  inflating: /content/train_crops/content/train_crops/pic_lcfqrs_1_c.png  \n",
            "  inflating: /content/train_crops/content/train_crops/pic_qs1c3zqr_6_q.png  \n",
            "  inflating: /content/train_crops/content/train_crops/pic_ty14_0_t.png  \n",
            "  inflating: /content/train_crops/content/train_crops/pic_zsmrt7_2_m.png  \n",
            "  inflating: /content/train_crops/content/train_crops/pic_4ra6iyp_5_y.png  \n",
            "  inflating: /content/train_crops/content/train_crops/pic_2ilolokm_1_i.png  \n",
            "  inflating: /content/train_crops/content/train_crops/pic_jlgsevt_5_v.png  \n",
            "  inflating: /content/train_crops/content/train_crops/pic_7rjzg_3_z.png  \n",
            "  inflating: /content/train_crops/content/train_crops/pic_5g8gweol_0_5.png  \n",
            "  inflating: /content/train_crops/content/train_crops/pic_lc5pcvlo_4_c.png  \n",
            "  inflating: /content/train_crops/content/train_crops/pic_v8gtwy_2_g.png  \n",
            "  inflating: /content/train_crops/content/train_crops/pic_mockky9e_7_e.png  \n",
            "  inflating: /content/train_crops/content/train_crops/pic_v2qlb_4_b.png  \n",
            "  inflating: /content/train_crops/content/train_crops/pic_7s0txxh_0_7.png  \n",
            "  inflating: /content/train_crops/content/train_crops/pic_trfjarm_2_f.png  \n",
            "  inflating: /content/train_crops/content/train_crops/pic_e6xnbbf_3_n.png  \n",
            "  inflating: /content/train_crops/content/train_crops/pic_oygc12vo_6_v.png  \n",
            "  inflating: /content/train_crops/content/train_crops/pic_kodm_1_o.png  \n",
            "  inflating: /content/train_crops/content/train_crops/pic_svyyh7_5_7.png  \n",
            "  inflating: /content/train_crops/content/train_crops/pic_fge3iz63_7_3.png  \n",
            "  inflating: /content/train_crops/content/train_crops/pic_ww80ktq3_6_q.png  \n",
            "  inflating: /content/train_crops/content/train_crops/pic_8jt4_3_4.png  \n",
            "  inflating: /content/train_crops/content/train_crops/pic_cmajdz_5_z.png  \n",
            "  inflating: /content/train_crops/content/train_crops/pic_trabn_3_b.png  \n",
            "  inflating: /content/train_crops/content/train_crops/pic_0fm4a3rx_4_a.png  \n",
            "  inflating: /content/train_crops/content/train_crops/pic_2g7j12x_2_7.png  \n",
            "  inflating: /content/train_crops/content/train_crops/pic_hnt919cc_4_1.png  \n",
            "  inflating: /content/train_crops/content/train_crops/pic_spnwdje_0_s.png  \n",
            "  inflating: /content/train_crops/content/train_crops/pic_yyjdpir_1_y.png  \n",
            "  inflating: /content/train_crops/content/train_crops/pic_n489strp_4_s.png  \n",
            "  inflating: /content/train_crops/content/train_crops/pic_76wc_1_6.png  \n",
            "  inflating: /content/train_crops/content/train_crops/pic_nqqkp_0_n.png  \n",
            "  inflating: /content/train_crops/content/train_crops/pic_bk2qrr_0_b.png  \n",
            "  inflating: /content/train_crops/content/train_crops/pic_tiwii1c_6_c.png  \n",
            "  inflating: /content/train_crops/content/train_crops/pic_nl0wx_4_x.png  \n",
            "  inflating: /content/train_crops/content/train_crops/pic_a1rj4_1_1.png  \n",
            "  inflating: /content/train_crops/content/train_crops/pic_qipo0i_4_0.png  \n",
            "  inflating: /content/train_crops/content/train_crops/pic_llsjx0v9_7_9.png  \n",
            "  inflating: /content/train_crops/content/train_crops/pic_v8ftrd_1_8.png  \n",
            "  inflating: /content/train_crops/content/train_crops/pic_tq6osrq_3_o.png  \n",
            "  inflating: /content/train_crops/content/train_crops/pic_w3fmckr2_4_c.png  \n",
            "  inflating: /content/train_crops/content/train_crops/pic_x4dpa_0_x.png  \n",
            "  inflating: /content/train_crops/content/train_crops/pic_4lxvy_3_v.png  \n",
            "  inflating: /content/train_crops/content/train_crops/pic_28p0xs4_0_2.png  \n",
            "  inflating: /content/train_crops/content/train_crops/pic_4xdlg_2_d.png  \n",
            "  inflating: /content/train_crops/content/train_crops/pic_hcck03w9_5_3.png  \n",
            "  inflating: /content/train_crops/content/train_crops/pic_qykq4l_3_q.png  \n",
            "  inflating: /content/train_crops/content/train_crops/pic_mxdriy_3_r.png  \n",
            "  inflating: /content/train_crops/content/train_crops/pic_i29tj_0_i.png  \n",
            "  inflating: /content/train_crops/content/train_crops/pic_e8log_3_o.png  \n",
            "  inflating: /content/train_crops/content/train_crops/pic_h5ft1_2_f.png  \n",
            "  inflating: /content/train_crops/content/train_crops/pic_24vmyaq_5_a.png  \n",
            "  inflating: /content/train_crops/content/train_crops/pic_ys1x_1_s.png  \n",
            "  inflating: /content/train_crops/content/train_crops/pic_z1elw_2_e.png  \n",
            "  inflating: /content/train_crops/content/train_crops/pic_goqazncv_7_v.png  \n",
            "  inflating: /content/train_crops/content/train_crops/pic_ai12_2_1.png  \n",
            "  inflating: /content/train_crops/content/train_crops/pic_uuwnj_1_u.png  \n",
            "  inflating: /content/train_crops/content/train_crops/pic_bu9ba92_0_b.png  \n",
            "  inflating: /content/train_crops/content/train_crops/pic_8798fmei_1_7.png  \n",
            "  inflating: /content/train_crops/content/train_crops/pic_grol60n_2_o.png  \n",
            "  inflating: /content/train_crops/content/train_crops/pic_xicec5yb_5_5.png  \n",
            "  inflating: /content/train_crops/content/train_crops/pic_7gk0bha_2_k.png  \n",
            "  inflating: /content/train_crops/content/train_crops/pic_h7049qv_1_7.png  \n",
            "  inflating: /content/train_crops/content/train_crops/pic_6m4w389_0_6.png  \n",
            "  inflating: /content/train_crops/content/train_crops/pic_wd1y_3_y.png  \n",
            "  inflating: /content/train_crops/content/train_crops/pic_12ozbizk_7_k.png  \n",
            "  inflating: /content/train_crops/content/train_crops/pic_a8a88e_2_a.png  \n",
            "  inflating: /content/train_crops/content/train_crops/pic_lxdp_0_l.png  \n",
            "  inflating: /content/train_crops/content/train_crops/pic_gvqv_3_v.png  \n",
            "  inflating: /content/train_crops/content/train_crops/pic_2cg2og8e_7_e.png  \n",
            "  inflating: /content/train_crops/content/train_crops/pic_geys_2_y.png  \n",
            "  inflating: /content/train_crops/content/train_crops/pic_wiis3175_5_1.png  \n",
            "  inflating: /content/train_crops/content/train_crops/pic_rpo7f_2_o.png  \n",
            "  inflating: /content/train_crops/content/train_crops/pic_1xk809q_2_k.png  \n",
            "  inflating: /content/train_crops/content/train_crops/pic_xey40w_0_x.png  \n",
            "  inflating: /content/train_crops/content/train_crops/pic_yndy_1_n.png  \n",
            "  inflating: /content/train_crops/content/train_crops/pic_xbnek4sw_7_w.png  \n",
            "  inflating: /content/train_crops/content/train_crops/pic_x4zhd_1_4.png  \n",
            "  inflating: /content/train_crops/content/train_crops/pic_o0f5_0_o.png  \n",
            "  inflating: /content/train_crops/content/train_crops/pic_xcy2uj_1_c.png  \n",
            "  inflating: /content/train_crops/content/train_crops/pic_esp99_3_9.png  \n",
            "  inflating: /content/train_crops/content/train_crops/pic_24agq_3_g.png  \n",
            "  inflating: /content/train_crops/content/train_crops/pic_abk180z_5_0.png  \n",
            "  inflating: /content/train_crops/content/train_crops/pic_alnnvyuq_1_l.png  \n",
            "  inflating: /content/train_crops/content/train_crops/pic_kj16aq_5_q.png  \n",
            "  inflating: /content/train_crops/content/train_crops/pic_6d6wnrn_6_n.png  \n",
            "  inflating: /content/train_crops/content/train_crops/pic_hdqg_3_g.png  \n",
            "  inflating: /content/train_crops/content/train_crops/pic_gxy4_2_y.png  \n",
            "  inflating: /content/train_crops/content/train_crops/pic_c3pc8h6_3_c.png  \n",
            "  inflating: /content/train_crops/content/train_crops/pic_66si_2_s.png  \n",
            "  inflating: /content/train_crops/content/train_crops/pic_27e0o_3_0.png  \n",
            "  inflating: /content/train_crops/content/train_crops/pic_am8p4_3_p.png  \n",
            "  inflating: /content/train_crops/content/train_crops/pic_f9jz53t_6_t.png  \n",
            "  inflating: /content/train_crops/content/train_crops/pic_9bn5d5kl_3_5.png  \n",
            "  inflating: /content/train_crops/content/train_crops/pic_4wgy35_1_w.png  \n",
            "  inflating: /content/train_crops/content/train_crops/pic_j432cryh_2_3.png  \n",
            "  inflating: /content/train_crops/content/train_crops/pic_9dq1iri1_7_1.png  \n",
            "  inflating: /content/train_crops/content/train_crops/pic_ibt69s_1_b.png  \n",
            "  inflating: /content/train_crops/content/train_crops/pic_8nitobic_4_o.png  \n",
            "  inflating: /content/train_crops/content/train_crops/pic_axia8t_1_x.png  \n",
            "  inflating: /content/train_crops/content/train_crops/pic_51oap8f_4_p.png  \n",
            "  inflating: /content/train_crops/content/train_crops/pic_mcd154o_0_m.png  \n",
            "  inflating: /content/train_crops/content/train_crops/pic_0u2gchef_4_c.png  \n",
            "  inflating: /content/train_crops/content/train_crops/pic_oh2fvz_5_z.png  \n",
            "  inflating: /content/train_crops/content/train_crops/pic_ze41jj_1_e.png  \n",
            "  inflating: /content/train_crops/content/train_crops/pic_x1vm_1_1.png  \n",
            "  inflating: /content/train_crops/content/train_crops/pic_ok4er8f_1_k.png  \n",
            "  inflating: /content/train_crops/content/train_crops/pic_daqbbg84_0_d.png  \n",
            "  inflating: /content/train_crops/content/train_crops/pic_44y4ih3_4_i.png  \n",
            "  inflating: /content/train_crops/content/train_crops/pic_qn76_2_7.png  \n",
            "  inflating: /content/train_crops/content/train_crops/pic_khqsfa_2_q.png  \n",
            "  inflating: /content/train_crops/content/train_crops/pic_6igylzl_6_l.png  \n",
            "  inflating: /content/train_crops/content/train_crops/pic_usjghdtw_5_d.png  \n",
            "  inflating: /content/train_crops/content/train_crops/pic_acmqb_2_m.png  \n",
            "  inflating: /content/train_crops/content/train_crops/pic_0msvk_1_m.png  \n",
            "  inflating: /content/train_crops/content/train_crops/pic_zxtql_0_z.png  \n",
            "  inflating: /content/train_crops/content/train_crops/pic_vjen4a_0_v.png  \n",
            "  inflating: /content/train_crops/content/train_crops/pic_kowwt0z_1_o.png  \n",
            "  inflating: /content/train_crops/content/train_crops/pic_90mz_1_0.png  \n",
            "  inflating: /content/train_crops/content/train_crops/pic_unic_1_n.png  \n",
            "  inflating: /content/train_crops/content/train_crops/pic_1vw0zvpw_5_v.png  \n",
            "  inflating: /content/train_crops/content/train_crops/pic_ieecoz1f_4_o.png  \n",
            "  inflating: /content/train_crops/content/train_crops/pic_v0zvrxz_2_z.png  \n",
            "  inflating: /content/train_crops/content/train_crops/pic_m4ov4_3_v.png  \n",
            "  inflating: /content/train_crops/content/train_crops/pic_bqko95_1_q.png  \n",
            "  inflating: /content/train_crops/content/train_crops/pic_5hln8_4_8.png  \n",
            "  inflating: /content/train_crops/content/train_crops/pic_5chg5o_1_c.png  \n",
            "  inflating: /content/train_crops/content/train_crops/pic_12iutdj4_2_i.png  \n",
            "  inflating: /content/train_crops/content/train_crops/pic_u4xn0wat_3_n.png  \n",
            "  inflating: /content/train_crops/content/train_crops/pic_tjqy_0_t.png  \n",
            "  inflating: /content/train_crops/content/train_crops/pic_atlq_0_a.png  \n",
            "  inflating: /content/train_crops/content/train_crops/pic_metb_2_t.png  \n",
            "  inflating: /content/train_crops/content/train_crops/pic_hvvnqe89_4_q.png  \n",
            "  inflating: /content/train_crops/content/train_crops/pic_8e9n0_1_e.png  \n",
            "  inflating: /content/train_crops/content/train_crops/pic_8yxytcnv_6_n.png  \n",
            "  inflating: /content/train_crops/content/train_crops/pic_es5s_1_s.png  \n",
            "  inflating: /content/train_crops/content/train_crops/pic_xjrf_0_x.png  \n",
            "  inflating: /content/train_crops/content/train_crops/pic_7f92zngi_4_z.png  \n",
            "  inflating: /content/train_crops/content/train_crops/pic_qexa4dk_5_d.png  \n",
            "  inflating: /content/train_crops/content/train_crops/pic_i9tep8_2_t.png  \n",
            "  inflating: /content/train_crops/content/train_crops/pic_rtds69_1_t.png  \n",
            "  inflating: /content/train_crops/content/train_crops/pic_w53ztkz_2_3.png  \n",
            "  inflating: /content/train_crops/content/train_crops/pic_vw683i_0_v.png  \n",
            "  inflating: /content/train_crops/content/train_crops/pic_wbp4exp_4_e.png  \n",
            "  inflating: /content/train_crops/content/train_crops/pic_rurj_1_u.png  \n",
            "  inflating: /content/train_crops/content/train_crops/pic_v0iw888b_5_8.png  \n",
            "  inflating: /content/train_crops/content/train_crops/pic_fkjhc4_3_h.png  \n",
            "  inflating: /content/train_crops/content/train_crops/pic_edike_4_e.png  \n",
            "  inflating: /content/train_crops/content/train_crops/pic_5fezmf5_4_m.png  \n",
            "  inflating: /content/train_crops/content/train_crops/pic_701n0f_0_7.png  \n",
            "  inflating: /content/train_crops/content/train_crops/pic_xxkd79_5_9.png  \n",
            "  inflating: /content/train_crops/content/train_crops/pic_b5d5fum9_0_b.png  \n",
            "  inflating: /content/train_crops/content/train_crops/pic_opzx3i_5_i.png  \n",
            "  inflating: /content/train_crops/content/train_crops/pic_ojqva_1_j.png  \n",
            "  inflating: /content/train_crops/content/train_crops/pic_j33j2_1_3.png  \n",
            "  inflating: /content/train_crops/content/train_crops/pic_zfcem_1_f.png  \n",
            "  inflating: /content/train_crops/content/train_crops/pic_z7h5irp_5_r.png  \n",
            "  inflating: /content/train_crops/content/train_crops/pic_h8zsr6zf_5_6.png  \n",
            "  inflating: /content/train_crops/content/train_crops/pic_pjqu3_0_p.png  \n",
            "  inflating: /content/train_crops/content/train_crops/pic_qmve_2_v.png  \n",
            "  inflating: /content/train_crops/content/train_crops/pic_t0f40wn_1_0.png  \n",
            "  inflating: /content/train_crops/content/train_crops/pic_e35jxut_5_u.png  \n",
            "  inflating: /content/train_crops/content/train_crops/pic_2yq7kv1v_2_q.png  \n",
            "  inflating: /content/train_crops/content/train_crops/pic_g5pd_3_d.png  \n",
            "  inflating: /content/train_crops/content/train_crops/pic_1pksa7t_1_p.png  \n",
            "  inflating: /content/train_crops/content/train_crops/pic_66e68_4_8.png  \n",
            "  inflating: /content/train_crops/content/train_crops/pic_22euqkq_2_e.png  \n",
            "  inflating: /content/train_crops/content/train_crops/pic_pe08sp_0_p.png  \n",
            "  inflating: /content/train_crops/content/train_crops/pic_epuqc7kx_6_k.png  \n",
            "  inflating: /content/train_crops/content/train_crops/pic_vxe5lyu_5_y.png  \n",
            "  inflating: /content/train_crops/content/train_crops/pic_o6asn2_0_o.png  \n",
            "  inflating: /content/train_crops/content/train_crops/pic_a3aoby2_0_a.png  \n",
            "  inflating: /content/train_crops/content/train_crops/pic_g9jyi_3_y.png  \n",
            "  inflating: /content/train_crops/content/train_crops/pic_rsvsbxqa_0_r.png  \n",
            "  inflating: /content/train_crops/content/train_crops/pic_xwu8kp4n_6_4.png  \n",
            "  inflating: /content/train_crops/content/train_crops/pic_ujlktwf_1_j.png  \n",
            "  inflating: /content/train_crops/content/train_crops/pic_tjd323_2_d.png  \n",
            "  inflating: /content/train_crops/content/train_crops/pic_gacoecl_6_l.png  \n",
            "  inflating: /content/train_crops/content/train_crops/pic_6ks0nbja_7_a.png  \n",
            "  inflating: /content/train_crops/content/train_crops/pic_3zm7idy_6_y.png  \n",
            "  inflating: /content/train_crops/content/train_crops/pic_uw9tb5kk_5_5.png  \n",
            "  inflating: /content/train_crops/content/train_crops/pic_yppg4kp_6_p.png  \n",
            "  inflating: /content/train_crops/content/train_crops/pic_eb4whqln_2_4.png  \n",
            "  inflating: /content/train_crops/content/train_crops/pic_sp5bvnhy_7_y.png  \n",
            "  inflating: /content/train_crops/content/train_crops/pic_gmzmd75_1_m.png  \n",
            "  inflating: /content/train_crops/content/train_crops/pic_187k8_4_8.png  \n",
            "  inflating: /content/train_crops/content/train_crops/pic_gcdvr_2_d.png  \n",
            "  inflating: /content/train_crops/content/train_crops/pic_fgrx_2_r.png  \n",
            "  inflating: /content/train_crops/content/train_crops/pic_da6hca_1_a.png  \n",
            "  inflating: /content/train_crops/content/train_crops/pic_pj44d_2_4.png  \n",
            "  inflating: /content/train_crops/content/train_crops/pic_qmi2eac4_3_2.png  \n",
            "  inflating: /content/train_crops/content/train_crops/pic_tnndpc_5_c.png  \n",
            "  inflating: /content/train_crops/content/train_crops/pic_8npspa_2_p.png  \n",
            "  inflating: /content/train_crops/content/train_crops/pic_znlh1y_0_z.png  \n",
            "  inflating: /content/train_crops/content/train_crops/pic_w2df_1_2.png  \n",
            "  inflating: /content/train_crops/content/train_crops/pic_a0hjp_4_p.png  \n",
            "  inflating: /content/train_crops/content/train_crops/pic_jypu3sid_3_u.png  \n",
            "  inflating: /content/train_crops/content/train_crops/pic_lgkopoe_0_l.png  \n",
            "  inflating: /content/train_crops/content/train_crops/pic_beb35hd_5_h.png  \n",
            "  inflating: /content/train_crops/content/train_crops/pic_pyx6_3_6.png  \n",
            "  inflating: /content/train_crops/content/train_crops/pic_zj94bhi2_0_z.png  \n",
            "  inflating: /content/train_crops/content/train_crops/pic_0zzjmx_4_m.png  \n",
            "  inflating: /content/train_crops/content/train_crops/pic_lsjpr_4_r.png  \n",
            "  inflating: /content/train_crops/content/train_crops/pic_ddxvnw1g_0_d.png  \n",
            "  inflating: /content/train_crops/content/train_crops/pic_puttxek_5_e.png  \n",
            "  inflating: /content/train_crops/content/train_crops/pic_07ylxub1_7_1.png  \n",
            "  inflating: /content/train_crops/content/train_crops/pic_449ftp_3_f.png  \n",
            "  inflating: /content/train_crops/content/train_crops/pic_0fn5eioh_0_0.png  \n",
            "  inflating: /content/train_crops/content/train_crops/pic_4va4qss_0_4.png  \n",
            "  inflating: /content/train_crops/content/train_crops/pic_29k2a_3_2.png  \n",
            "  inflating: /content/train_crops/content/train_crops/pic_mbcetlnd_6_n.png  \n",
            "  inflating: /content/train_crops/content/train_crops/pic_ayz3rk_0_a.png  \n",
            "  inflating: /content/train_crops/content/train_crops/pic_e8log_0_e.png  \n",
            "  inflating: /content/train_crops/content/train_crops/pic_cxjpkyui_4_k.png  \n",
            "  inflating: /content/train_crops/content/train_crops/pic_b5d5fum9_3_5.png  \n",
            "  inflating: /content/train_crops/content/train_crops/pic_41dhp7cm_4_p.png  \n",
            "  inflating: /content/train_crops/content/train_crops/pic_1ogq74_2_g.png  \n",
            "  inflating: /content/train_crops/content/train_crops/pic_y56ibo_2_6.png  \n",
            "  inflating: /content/train_crops/content/train_crops/pic_cpuwhul_6_l.png  \n",
            "  inflating: /content/train_crops/content/train_crops/pic_gb1rh_3_r.png  \n",
            "  inflating: /content/train_crops/content/train_crops/pic_46uoii06_2_u.png  \n",
            "  inflating: /content/train_crops/content/train_crops/pic_q0ekg9ip_1_0.png  \n",
            "  inflating: /content/train_crops/content/train_crops/pic_79jsr0pe_1_9.png  \n",
            "  inflating: /content/train_crops/content/train_crops/pic_tm8n149d_7_d.png  \n",
            "  inflating: /content/train_crops/content/train_crops/pic_qvzlb_4_b.png  \n",
            "  inflating: /content/train_crops/content/train_crops/pic_52qoqji_2_q.png  \n",
            "  inflating: /content/train_crops/content/train_crops/pic_qnth9nig_4_9.png  \n",
            "  inflating: /content/train_crops/content/train_crops/pic_13hi6_0_1.png  \n",
            "  inflating: /content/train_crops/content/train_crops/pic_mfhu_3_u.png  \n",
            "  inflating: /content/train_crops/content/train_crops/pic_xdgx9igo_5_i.png  \n",
            "  inflating: /content/train_crops/content/train_crops/pic_qb0pin_3_p.png  \n",
            "  inflating: /content/train_crops/content/train_crops/pic_3yw5a_1_y.png  \n",
            "  inflating: /content/train_crops/content/train_crops/pic_4ocy_0_4.png  \n",
            "  inflating: /content/train_crops/content/train_crops/pic_3dzaj_0_3.png  \n",
            "  inflating: /content/train_crops/content/train_crops/pic_wrp5wed_3_5.png  \n",
            "  inflating: /content/train_crops/content/train_crops/pic_v8hxfn7_6_7.png  \n",
            "  inflating: /content/train_crops/content/train_crops/pic_38ap_0_3.png  \n",
            "  inflating: /content/train_crops/content/train_crops/pic_7e3v1j14_2_3.png  \n",
            "  inflating: /content/train_crops/content/train_crops/pic_98htom42_3_t.png  \n",
            "  inflating: /content/train_crops/content/train_crops/pic_ql2ffv_0_q.png  \n",
            "  inflating: /content/train_crops/content/train_crops/pic_21zvg6u_1_1.png  \n",
            "  inflating: /content/train_crops/content/train_crops/pic_ejnfhz_3_f.png  \n",
            "  inflating: /content/train_crops/content/train_crops/pic_kba9x_4_x.png  \n",
            "  inflating: /content/train_crops/content/train_crops/pic_gba1p_1_b.png  \n",
            "  inflating: /content/train_crops/content/train_crops/pic_23e4h_1_3.png  \n",
            "  inflating: /content/train_crops/content/train_crops/pic_usoy9t_5_t.png  \n",
            "  inflating: /content/train_crops/content/train_crops/pic_ubzz_1_b.png  \n",
            "  inflating: /content/train_crops/content/train_crops/pic_zyu9w9k_0_z.png  \n",
            "  inflating: /content/train_crops/content/train_crops/pic_rlswp5v_3_w.png  \n",
            "  inflating: /content/train_crops/content/train_crops/pic_cgwglugq_3_g.png  \n",
            "  inflating: /content/train_crops/content/train_crops/pic_5qu5gx_3_5.png  \n",
            "  inflating: /content/train_crops/content/train_crops/pic_yrg0khl0_6_l.png  \n",
            "  inflating: /content/train_crops/content/train_crops/pic_skqu6r3_5_r.png  \n",
            "  inflating: /content/train_crops/content/train_crops/pic_jf7wsdg_0_j.png  \n",
            "  inflating: /content/train_crops/content/train_crops/pic_ifdg2_3_g.png  \n",
            "  inflating: /content/train_crops/content/train_crops/pic_9u3c_2_3.png  \n",
            "  inflating: /content/train_crops/content/train_crops/pic_tpburxx_3_u.png  \n",
            "  inflating: /content/train_crops/content/train_crops/pic_w4d9u_4_u.png  \n",
            "  inflating: /content/train_crops/content/train_crops/pic_jrbfr5_2_b.png  \n",
            "  inflating: /content/train_crops/content/train_crops/pic_4kht8_1_k.png  \n",
            "  inflating: /content/train_crops/content/train_crops/pic_1kdbaxl_3_b.png  \n",
            "  inflating: /content/train_crops/content/train_crops/pic_hok7ykh_1_o.png  \n",
            "  inflating: /content/train_crops/content/train_crops/pic_b28fx_4_x.png  \n",
            "  inflating: /content/train_crops/content/train_crops/pic_lmoeh_4_h.png  \n",
            "  inflating: /content/train_crops/content/train_crops/pic_tw4o486d_1_w.png  \n",
            "  inflating: /content/train_crops/content/train_crops/pic_p0yl4cl_4_4.png  \n",
            "  inflating: /content/train_crops/content/train_crops/pic_sfjtz_3_t.png  \n",
            "  inflating: /content/train_crops/content/train_crops/pic_0skw029_4_0.png  \n",
            "  inflating: /content/train_crops/content/train_crops/pic_5ou9hhu3_0_5.png  \n",
            "  inflating: /content/train_crops/content/train_crops/pic_3xdz3q_4_3.png  \n",
            "  inflating: /content/train_crops/content/train_crops/pic_58xdb_0_5.png  \n",
            "  inflating: /content/train_crops/content/train_crops/pic_62i6lyli_0_6.png  \n",
            "  inflating: /content/train_crops/content/train_crops/pic_fi03i01_3_3.png  \n",
            "  inflating: /content/train_crops/content/train_crops/pic_vtq9pm_2_q.png  \n",
            "  inflating: /content/train_crops/content/train_crops/pic_epuqc7kx_1_p.png  \n",
            "  inflating: /content/train_crops/content/train_crops/pic_zuiqenvn_1_u.png  \n",
            "  inflating: /content/train_crops/content/train_crops/pic_7dj1bn_1_d.png  \n",
            "  inflating: /content/train_crops/content/train_crops/pic_zdwz_0_z.png  \n",
            "  inflating: /content/train_crops/content/train_crops/pic_v6ktn5x_0_v.png  \n",
            "  inflating: /content/train_crops/content/train_crops/pic_pmh00o5k_7_k.png  \n",
            "  inflating: /content/train_crops/content/train_crops/pic_5lvd1zp_6_p.png  \n",
            "  inflating: /content/train_crops/content/train_crops/pic_oncnvl_3_n.png  \n",
            "  inflating: /content/train_crops/content/train_crops/pic_jy0bo5_0_j.png  \n",
            "  inflating: /content/train_crops/content/train_crops/pic_1cui_3_i.png  \n",
            "  inflating: /content/train_crops/content/train_crops/pic_390mx9r_2_0.png  \n",
            "  inflating: /content/train_crops/content/train_crops/pic_fuf5nyca_3_5.png  \n",
            "  inflating: /content/train_crops/content/train_crops/pic_8y2v0c_5_c.png  \n",
            "  inflating: /content/train_crops/content/train_crops/pic_8kghth_0_8.png  \n",
            "  inflating: /content/train_crops/content/train_crops/pic_6n9yu_1_n.png  \n",
            "  inflating: /content/train_crops/content/train_crops/pic_wz20rqfv_0_w.png  \n",
            "  inflating: /content/train_crops/content/train_crops/pic_56gjq3ib_0_5.png  \n",
            "  inflating: /content/train_crops/content/train_crops/pic_k3q5832h_4_8.png  \n",
            "  inflating: /content/train_crops/content/train_crops/pic_4o1cgem_3_c.png  \n",
            "  inflating: /content/train_crops/content/train_crops/pic_f6nkvll_2_n.png  \n",
            "  inflating: /content/train_crops/content/train_crops/pic_311fkbdg_1_1.png  \n",
            "  inflating: /content/train_crops/content/train_crops/pic_mwuuf5i_2_u.png  \n",
            "  inflating: /content/train_crops/content/train_crops/pic_gdl63_4_3.png  \n",
            "  inflating: /content/train_crops/content/train_crops/pic_exojnv_5_v.png  \n",
            "  inflating: /content/train_crops/content/train_crops/pic_v8h1ho4s_5_o.png  \n",
            "  inflating: /content/train_crops/content/train_crops/pic_6bynqp6_6_6.png  \n",
            "  inflating: /content/train_crops/content/train_crops/pic_daqbbg84_4_b.png  \n",
            "  inflating: /content/train_crops/content/train_crops/pic_bqxqj67_1_q.png  \n",
            "  inflating: /content/train_crops/content/train_crops/pic_f3jde_4_e.png  \n",
            "  inflating: /content/train_crops/content/train_crops/pic_awfmdz2_4_d.png  \n",
            "  inflating: /content/train_crops/content/train_crops/pic_zhv1or_0_z.png  \n",
            "  inflating: /content/train_crops/content/train_crops/pic_55ychzt_1_5.png  \n",
            "  inflating: /content/train_crops/content/train_crops/pic_hupgnmy_2_p.png  \n",
            "  inflating: /content/train_crops/content/train_crops/pic_wk5eatvs_6_v.png  \n",
            "  inflating: /content/train_crops/content/train_crops/pic_ylby0t0a_1_l.png  \n",
            "  inflating: /content/train_crops/content/train_crops/pic_3ld0_1_l.png  \n",
            "  inflating: /content/train_crops/content/train_crops/pic_0fn5eioh_1_f.png  \n",
            "  inflating: /content/train_crops/content/train_crops/pic_f9znqcx_3_n.png  \n",
            "  inflating: /content/train_crops/content/train_crops/pic_jowkeh61_5_h.png  \n",
            "  inflating: /content/train_crops/content/train_crops/pic_am79bg_4_b.png  \n",
            "  inflating: /content/train_crops/content/train_crops/pic_qic72um_4_2.png  \n",
            "  inflating: /content/train_crops/content/train_crops/pic_2oc3yy1g_7_g.png  \n",
            "  inflating: /content/train_crops/content/train_crops/pic_vynzxeg5_7_5.png  \n",
            "  inflating: /content/train_crops/content/train_crops/pic_kxfp0p5_1_x.png  \n",
            "  inflating: /content/train_crops/content/train_crops/pic_tuxl_0_t.png  \n",
            "  inflating: /content/train_crops/content/train_crops/pic_d6jgflm_3_g.png  \n",
            "  inflating: /content/train_crops/content/train_crops/pic_fge7x28_3_7.png  \n",
            "  inflating: /content/train_crops/content/train_crops/pic_dekua7d_5_7.png  \n",
            "  inflating: /content/train_crops/content/train_crops/pic_ghdpr1cy_0_g.png  \n",
            "  inflating: /content/train_crops/content/train_crops/pic_20rym_4_m.png  \n",
            "  inflating: /content/train_crops/content/train_crops/pic_gju80_3_8.png  \n",
            "  inflating: /content/train_crops/content/train_crops/pic_tiwii1c_0_t.png  \n",
            "  inflating: /content/train_crops/content/train_crops/pic_62yu9_3_u.png  \n",
            "  inflating: /content/train_crops/content/train_crops/pic_ygjz3jc_1_g.png  \n",
            "  inflating: /content/train_crops/content/train_crops/pic_khawfx4_1_h.png  \n",
            "  inflating: /content/train_crops/content/train_crops/pic_hprwqhs_4_q.png  \n",
            "  inflating: /content/train_crops/content/train_crops/pic_m33dn2m_4_n.png  \n",
            "  inflating: /content/train_crops/content/train_crops/pic_pxplf_0_p.png  \n",
            "  inflating: /content/train_crops/content/train_crops/pic_j0oxw3q7_6_q.png  \n",
            "  inflating: /content/train_crops/content/train_crops/pic_az0qfye_6_e.png  \n",
            "  inflating: /content/train_crops/content/train_crops/pic_gjzg32j_6_j.png  \n",
            "  inflating: /content/train_crops/content/train_crops/pic_gzz81a3q_3_8.png  \n",
            "  inflating: /content/train_crops/content/train_crops/pic_nropzbo_6_o.png  \n",
            "  inflating: /content/train_crops/content/train_crops/pic_p9g3bo_5_o.png  \n",
            "  inflating: /content/train_crops/content/train_crops/pic_yuq39yx_3_3.png  \n",
            "  inflating: /content/train_crops/content/train_crops/pic_48zhdud_1_8.png  \n",
            "  inflating: /content/train_crops/content/train_crops/pic_pe1ol_0_p.png  \n",
            "  inflating: /content/train_crops/content/train_crops/pic_hd6za8_0_h.png  \n",
            "  inflating: /content/train_crops/content/train_crops/pic_4cpssht_5_h.png  \n",
            "  inflating: /content/train_crops/content/train_crops/pic_8xnfoxzd_2_n.png  \n",
            "  inflating: /content/train_crops/content/train_crops/pic_5bh3q94_0_5.png  \n",
            "  inflating: /content/train_crops/content/train_crops/pic_1zktq3m_4_q.png  \n",
            "  inflating: /content/train_crops/content/train_crops/pic_gp8rd_4_d.png  \n",
            "  inflating: /content/train_crops/content/train_crops/pic_eujbo23_5_2.png  \n",
            "  inflating: /content/train_crops/content/train_crops/pic_wad3n3e_2_d.png  \n",
            "  inflating: /content/train_crops/content/train_crops/pic_lezg_0_l.png  \n",
            "  inflating: /content/train_crops/content/train_crops/pic_hntl_3_l.png  \n",
            "  inflating: /content/train_crops/content/train_crops/pic_y33tti_5_i.png  \n",
            "  inflating: /content/train_crops/content/train_crops/pic_xihaeul_6_l.png  \n",
            "  inflating: /content/train_crops/content/train_crops/pic_ubrq59y_5_9.png  \n",
            "  inflating: /content/train_crops/content/train_crops/pic_kz0bad_5_d.png  \n",
            "  inflating: /content/train_crops/content/train_crops/pic_dwhtuc_1_w.png  \n",
            "  inflating: /content/train_crops/content/train_crops/pic_e7mb9n7_5_n.png  \n",
            "  inflating: /content/train_crops/content/train_crops/pic_emqnow_2_q.png  \n",
            "  inflating: /content/train_crops/content/train_crops/pic_4fqyvq_3_y.png  \n",
            "  inflating: /content/train_crops/content/train_crops/pic_6czj0_0_6.png  \n",
            "  inflating: /content/train_crops/content/train_crops/pic_pjrr2i2h_2_r.png  \n",
            "  inflating: /content/train_crops/content/train_crops/pic_o2f7c7pz_1_2.png  \n",
            "  inflating: /content/train_crops/content/train_crops/pic_lm64h4j_1_m.png  \n",
            "  inflating: /content/train_crops/content/train_crops/pic_g455x_3_5.png  \n",
            "  inflating: /content/train_crops/content/train_crops/pic_kphzrqg2_0_k.png  \n",
            "  inflating: /content/train_crops/content/train_crops/pic_q5pbj7rc_4_j.png  \n",
            "  inflating: /content/train_crops/content/train_crops/pic_trabn_2_a.png  \n",
            "  inflating: /content/train_crops/content/train_crops/pic_gc7px_1_c.png  \n",
            "  inflating: /content/train_crops/content/train_crops/pic_4atgomf8_0_4.png  \n",
            "  inflating: /content/train_crops/content/train_crops/pic_weibd_1_e.png  \n",
            "  inflating: /content/train_crops/content/train_crops/pic_nlt9xg2m_0_n.png  \n",
            "  inflating: /content/train_crops/content/train_crops/pic_1shy04_4_0.png  \n",
            "  inflating: /content/train_crops/content/train_crops/pic_ymva5s55_6_5.png  \n",
            "  inflating: /content/train_crops/content/train_crops/pic_o6asn2_2_a.png  \n",
            "  inflating: /content/train_crops/content/train_crops/pic_u22xbcoq_3_x.png  \n",
            "  inflating: /content/train_crops/content/train_crops/pic_8y2v0c_1_y.png  \n",
            "  inflating: /content/train_crops/content/train_crops/pic_q3nihnf_6_f.png  \n",
            "  inflating: /content/train_crops/content/train_crops/pic_j9hcj4b5_1_9.png  \n",
            "  inflating: /content/train_crops/content/train_crops/pic_psz06ibp_1_s.png  \n",
            "  inflating: /content/train_crops/content/train_crops/pic_olcy1mwh_0_o.png  \n",
            "  inflating: /content/train_crops/content/train_crops/pic_h2s8_0_h.png  \n",
            "  inflating: /content/train_crops/content/train_crops/pic_kwp5v_3_5.png  \n",
            "  inflating: /content/train_crops/content/train_crops/pic_pda2igde_1_d.png  \n",
            "  inflating: /content/train_crops/content/train_crops/pic_nv5lt_3_l.png  \n",
            "  inflating: /content/train_crops/content/train_crops/pic_41w6qvtq_1_1.png  \n",
            "  inflating: /content/train_crops/content/train_crops/pic_mrtcx_3_c.png  \n",
            "  inflating: /content/train_crops/content/train_crops/pic_ade9tbi9_0_a.png  \n",
            "  inflating: /content/train_crops/content/train_crops/pic_chxrxdb_2_x.png  \n",
            "  inflating: /content/train_crops/content/train_crops/pic_vu9gosqe_3_g.png  \n",
            "  inflating: /content/train_crops/content/train_crops/pic_fero6a4y_3_o.png  \n",
            "  inflating: /content/train_crops/content/train_crops/pic_72rhxfcf_5_f.png  \n",
            "  inflating: /content/train_crops/content/train_crops/pic_t9n6hhwh_7_h.png  \n",
            "  inflating: /content/train_crops/content/train_crops/pic_dgxt0y_4_0.png  \n",
            "  inflating: /content/train_crops/content/train_crops/pic_prb5_1_r.png  \n",
            "  inflating: /content/train_crops/content/train_crops/pic_sndkskvy_2_d.png  \n",
            "  inflating: /content/train_crops/content/train_crops/pic_izvp_2_v.png  \n",
            "  inflating: /content/train_crops/content/train_crops/pic_wp9d1lv_6_v.png  \n",
            "  inflating: /content/train_crops/content/train_crops/pic_i5r6epj_5_p.png  \n",
            "  inflating: /content/train_crops/content/train_crops/pic_2r14u2z_6_z.png  \n",
            "  inflating: /content/train_crops/content/train_crops/pic_fh0y0beo_1_h.png  \n",
            "  inflating: /content/train_crops/content/train_crops/pic_ko5iyv_1_o.png  \n",
            "  inflating: /content/train_crops/content/train_crops/pic_r3w8w7m_6_m.png  \n",
            "  inflating: /content/train_crops/content/train_crops/pic_wspv3d_2_p.png  \n",
            "  inflating: /content/train_crops/content/train_crops/pic_9njcdd04_1_n.png  \n",
            "  inflating: /content/train_crops/content/train_crops/pic_43b16p_2_b.png  \n",
            "  inflating: /content/train_crops/content/train_crops/pic_fd2i_0_f.png  \n",
            "  inflating: /content/train_crops/content/train_crops/pic_4ff7pwx_2_f.png  \n",
            "  inflating: /content/train_crops/content/train_crops/pic_0e89d_3_9.png  \n",
            "  inflating: /content/train_crops/content/train_crops/pic_cn42_2_4.png  \n",
            "  inflating: /content/train_crops/content/train_crops/pic_7lg4z_2_g.png  \n",
            "  inflating: /content/train_crops/content/train_crops/pic_b8ceaq6_5_q.png  \n",
            "  inflating: /content/train_crops/content/train_crops/pic_3v17ro93_4_r.png  \n",
            "  inflating: /content/train_crops/content/train_crops/pic_x5hzzzf_2_h.png  \n",
            "  inflating: /content/train_crops/content/train_crops/pic_lugqs75_2_g.png  \n",
            "  inflating: /content/train_crops/content/train_crops/pic_5kjvqb8a_0_5.png  \n",
            "  inflating: /content/train_crops/content/train_crops/pic_m6ia_3_a.png  \n",
            "  inflating: /content/train_crops/content/train_crops/pic_b5zfph_5_h.png  \n",
            "  inflating: /content/train_crops/content/train_crops/pic_31d3_3_3.png  \n",
            "  inflating: /content/train_crops/content/train_crops/pic_l8jvyooi_3_v.png  \n",
            "  inflating: /content/train_crops/content/train_crops/pic_jhlyr_3_y.png  \n",
            "  inflating: /content/train_crops/content/train_crops/pic_lhn9e9_5_9.png  \n",
            "  inflating: /content/train_crops/content/train_crops/pic_c697s8v_4_s.png  \n",
            "  inflating: /content/train_crops/content/train_crops/pic_c7qlc_0_c.png  \n",
            "  inflating: /content/train_crops/content/train_crops/pic_nspngi_5_i.png  \n",
            "  inflating: /content/train_crops/content/train_crops/pic_sndkskvy_4_s.png  \n",
            "  inflating: /content/train_crops/content/train_crops/pic_12iutdj4_6_j.png  \n",
            "  inflating: /content/train_crops/content/train_crops/pic_73nkmqv_0_7.png  \n",
            "  inflating: /content/train_crops/content/train_crops/pic_rsk019k4_4_1.png  \n",
            "  inflating: /content/train_crops/content/train_crops/pic_iuksj_3_s.png  \n",
            "  inflating: /content/train_crops/content/train_crops/pic_l9gnfu12_1_9.png  \n",
            "  inflating: /content/train_crops/content/train_crops/pic_8d26v_2_2.png  \n",
            "  inflating: /content/train_crops/content/train_crops/pic_bgotnjj2_7_2.png  \n",
            "  inflating: /content/train_crops/content/train_crops/pic_d7wq3kvt_1_7.png  \n",
            "  inflating: /content/train_crops/content/train_crops/pic_7nxlbm0_5_m.png  \n",
            "  inflating: /content/train_crops/content/train_crops/pic_62i6lyli_1_2.png  \n",
            "  inflating: /content/train_crops/content/train_crops/pic_iy59f27_6_7.png  \n",
            "  inflating: /content/train_crops/content/train_crops/pic_fiz47qpi_5_q.png  \n",
            "  inflating: /content/train_crops/content/train_crops/pic_z2o97fl_0_z.png  \n",
            "  inflating: /content/train_crops/content/train_crops/pic_eimx6q0_0_e.png  \n",
            "  inflating: /content/train_crops/content/train_crops/pic_xyw0g5z_3_0.png  \n",
            "  inflating: /content/train_crops/content/train_crops/pic_s2gyjpy_0_s.png  \n",
            "  inflating: /content/train_crops/content/train_crops/pic_bclrzg_0_b.png  \n",
            "  inflating: /content/train_crops/content/train_crops/pic_jdtlfr2_0_j.png  \n",
            "  inflating: /content/train_crops/content/train_crops/pic_d0zrbhv4_6_v.png  \n",
            "  inflating: /content/train_crops/content/train_crops/pic_v0zvrxz_5_x.png  \n",
            "  inflating: /content/train_crops/content/train_crops/pic_nmq6_3_6.png  \n",
            "  inflating: /content/train_crops/content/train_crops/pic_yxvkb_1_x.png  \n",
            "  inflating: /content/train_crops/content/train_crops/pic_v0aryb_3_r.png  \n",
            "  inflating: /content/train_crops/content/train_crops/pic_q5zxbdr_5_d.png  \n",
            "  inflating: /content/train_crops/content/train_crops/pic_zgetn_1_g.png  \n",
            "  inflating: /content/train_crops/content/train_crops/pic_tidnbz6_5_z.png  \n",
            "  inflating: /content/train_crops/content/train_crops/pic_dkson_1_k.png  \n",
            "  inflating: /content/train_crops/content/train_crops/pic_2k2t2_3_t.png  \n",
            "  inflating: /content/train_crops/content/train_crops/pic_nz6v_1_z.png  \n",
            "  inflating: /content/train_crops/content/train_crops/pic_es1c89ma_4_8.png  \n",
            "  inflating: /content/train_crops/content/train_crops/pic_ktzefibh_1_t.png  \n",
            "  inflating: /content/train_crops/content/train_crops/pic_4ivq4hh_2_v.png  \n",
            "  inflating: /content/train_crops/content/train_crops/pic_v5r3eai9_5_a.png  \n",
            "  inflating: /content/train_crops/content/train_crops/pic_3kiq9_1_k.png  \n",
            "  inflating: /content/train_crops/content/train_crops/pic_zda42oqs_4_2.png  \n",
            "  inflating: /content/train_crops/content/train_crops/pic_qcm2086_0_q.png  \n",
            "  inflating: /content/train_crops/content/train_crops/pic_pleovzde_2_e.png  \n",
            "  inflating: /content/train_crops/content/train_crops/pic_qzhoeocr_1_z.png  \n",
            "  inflating: /content/train_crops/content/train_crops/pic_qjjhte_2_j.png  \n",
            "  inflating: /content/train_crops/content/train_crops/pic_q5zxbdr_6_r.png  \n",
            "  inflating: /content/train_crops/content/train_crops/pic_2aza08n_6_n.png  \n",
            "  inflating: /content/train_crops/content/train_crops/pic_g7dsuma_1_7.png  \n",
            "  inflating: /content/train_crops/content/train_crops/pic_l0kea_4_a.png  \n",
            "  inflating: /content/train_crops/content/train_crops/pic_owoxze6_2_o.png  \n",
            "  inflating: /content/train_crops/content/train_crops/pic_tj0v6tb_3_v.png  \n",
            "  inflating: /content/train_crops/content/train_crops/pic_e5sjfd_1_5.png  \n",
            "  inflating: /content/train_crops/content/train_crops/pic_8l61_0_8.png  \n",
            "  inflating: /content/train_crops/content/train_crops/pic_q08z2s8s_7_s.png  \n",
            "  inflating: /content/train_crops/content/train_crops/pic_urrs99_2_r.png  \n",
            "  inflating: /content/train_crops/content/train_crops/pic_z8sija13_5_a.png  \n",
            "  inflating: /content/train_crops/content/train_crops/pic_eetnv_0_e.png  \n",
            "  inflating: /content/train_crops/content/train_crops/pic_nx7a9l_0_n.png  \n",
            "  inflating: /content/train_crops/content/train_crops/pic_dkabj_0_d.png  \n",
            "  inflating: /content/train_crops/content/train_crops/pic_qunj_3_j.png  \n",
            "  inflating: /content/train_crops/content/train_crops/pic_f3dqdsi_5_s.png  \n",
            "  inflating: /content/train_crops/content/train_crops/pic_0mygmeg_1_m.png  \n",
            "  inflating: /content/train_crops/content/train_crops/pic_buv36oe_6_e.png  \n",
            "  inflating: /content/train_crops/content/train_crops/pic_y0ab6_0_y.png  \n",
            "  inflating: /content/train_crops/content/train_crops/pic_megjopf_4_o.png  \n",
            "  inflating: /content/train_crops/content/train_crops/pic_vu9gosqe_7_e.png  \n",
            "  inflating: /content/train_crops/content/train_crops/pic_5hny_1_h.png  \n",
            "  inflating: /content/train_crops/content/train_crops/pic_v8hxfn7_1_8.png  \n",
            "  inflating: /content/train_crops/content/train_crops/pic_8zbq5lu_3_q.png  \n",
            "  inflating: /content/train_crops/content/train_crops/pic_up4t7or_0_u.png  \n",
            "  inflating: /content/train_crops/content/train_crops/pic_j9hcj4b5_5_4.png  \n",
            "  inflating: /content/train_crops/content/train_crops/pic_12nb68xf_0_1.png  \n",
            "  inflating: /content/train_crops/content/train_crops/pic_atyou_1_t.png  \n",
            "  inflating: /content/train_crops/content/train_crops/pic_cg7u_3_u.png  \n",
            "  inflating: /content/train_crops/content/train_crops/pic_rbm4oqal_3_4.png  \n",
            "  inflating: /content/train_crops/content/train_crops/pic_ovanqq_2_a.png  \n",
            "  inflating: /content/train_crops/content/train_crops/pic_85xs5q_3_s.png  \n",
            "  inflating: /content/train_crops/content/train_crops/pic_o6k3o5_2_k.png  \n",
            "  inflating: /content/train_crops/content/train_crops/pic_vo4wkb_0_v.png  \n",
            "  inflating: /content/train_crops/content/train_crops/pic_yzen5a_4_5.png  \n",
            "  inflating: /content/train_crops/content/train_crops/pic_z7taq5e_2_t.png  \n",
            "  inflating: /content/train_crops/content/train_crops/pic_avcpjzq_1_v.png  \n",
            "  inflating: /content/train_crops/content/train_crops/pic_ukaqfto_6_o.png  \n",
            "  inflating: /content/train_crops/content/train_crops/pic_o7c24c2_4_4.png  \n",
            "  inflating: /content/train_crops/content/train_crops/pic_5qmcr_0_5.png  \n",
            "  inflating: /content/train_crops/content/train_crops/pic_x1ius8zr_2_i.png  \n",
            "  inflating: /content/train_crops/content/train_crops/pic_yvgf612q_4_6.png  \n",
            "  inflating: /content/train_crops/content/train_crops/pic_tzjxaf3_4_a.png  \n",
            "  inflating: /content/train_crops/content/train_crops/pic_yea2_3_2.png  \n",
            "  inflating: /content/train_crops/content/train_crops/pic_m27yku_2_7.png  \n",
            "  inflating: /content/train_crops/content/train_crops/pic_5w2p2_2_2.png  \n",
            "  inflating: /content/train_crops/content/train_crops/pic_43bsbzx4_7_4.png  \n",
            "  inflating: /content/train_crops/content/train_crops/pic_ccwmn9a_5_9.png  \n",
            "  inflating: /content/train_crops/content/train_crops/pic_megjopf_0_m.png  \n",
            "  inflating: /content/train_crops/content/train_crops/pic_d1g7lom_2_g.png  \n",
            "  inflating: /content/train_crops/content/train_crops/pic_3o9t60v_3_t.png  \n",
            "  inflating: /content/train_crops/content/train_crops/pic_3d0d_0_3.png  \n",
            "  inflating: /content/train_crops/content/train_crops/pic_es5s_3_s.png  \n",
            "  inflating: /content/train_crops/content/train_crops/pic_rad2cz_1_a.png  \n",
            "  inflating: /content/train_crops/content/train_crops/pic_124iah_3_i.png  \n",
            "  inflating: /content/train_crops/content/train_crops/pic_cryg375f_5_7.png  \n",
            "  inflating: /content/train_crops/content/train_crops/pic_weepis_5_s.png  \n",
            "  inflating: /content/train_crops/content/train_crops/pic_zjb0ou_0_z.png  \n",
            "  inflating: /content/train_crops/content/train_crops/pic_d5jdidc_0_d.png  \n",
            "  inflating: /content/train_crops/content/train_crops/pic_t7kav6p_1_7.png  \n",
            "  inflating: /content/train_crops/content/train_crops/pic_rpjd4e_4_4.png  \n",
            "  inflating: /content/train_crops/content/train_crops/pic_9rfhh_4_h.png  \n",
            "  inflating: /content/train_crops/content/train_crops/pic_mcik3b1_6_1.png  \n",
            "  inflating: /content/train_crops/content/train_crops/pic_p3x7np7_2_x.png  \n",
            "  inflating: /content/train_crops/content/train_crops/pic_w4yplxy7_0_w.png  \n",
            "  inflating: /content/train_crops/content/train_crops/pic_du8fo7d_3_f.png  \n",
            "  inflating: /content/train_crops/content/train_crops/pic_6bvk97ui_0_6.png  \n",
            "  inflating: /content/train_crops/content/train_crops/pic_9y668_3_6.png  \n",
            "  inflating: /content/train_crops/content/train_crops/pic_q9k0po8_5_o.png  \n",
            "  inflating: /content/train_crops/content/train_crops/pic_1wyuqcz_5_c.png  \n",
            "  inflating: /content/train_crops/content/train_crops/pic_2vnyj_3_y.png  \n",
            "  inflating: /content/train_crops/content/train_crops/pic_qjhpi_3_p.png  \n",
            "  inflating: /content/train_crops/content/train_crops/pic_ru72s_4_s.png  \n",
            "  inflating: /content/train_crops/content/train_crops/pic_pxz2fgk8_4_f.png  \n",
            "  inflating: /content/train_crops/content/train_crops/pic_oyofhda_6_a.png  \n",
            "  inflating: /content/train_crops/content/train_crops/pic_w53w_0_w.png  \n",
            "  inflating: /content/train_crops/content/train_crops/pic_zcldj4u_6_u.png  \n",
            "  inflating: /content/train_crops/content/train_crops/pic_ojw85c_5_c.png  \n",
            "  inflating: /content/train_crops/content/train_crops/pic_ddn8qk4c_5_k.png  \n",
            "  inflating: /content/train_crops/content/train_crops/pic_cszppknd_6_n.png  \n",
            "  inflating: /content/train_crops/content/train_crops/pic_umagbsh_6_h.png  \n",
            "  inflating: /content/train_crops/content/train_crops/pic_5csb0pjz_4_0.png  \n",
            "  inflating: /content/train_crops/content/train_crops/pic_dmlwbgke_6_k.png  \n",
            "  inflating: /content/train_crops/content/train_crops/pic_85l1v_1_5.png  \n",
            "  inflating: /content/train_crops/content/train_crops/pic_uv1w1ekj_3_w.png  \n",
            "  inflating: /content/train_crops/content/train_crops/pic_uto4bheu_3_4.png  \n",
            "  inflating: /content/train_crops/content/train_crops/pic_hdhmqn_0_h.png  \n",
            "  inflating: /content/train_crops/content/train_crops/pic_sar2j25a_0_s.png  \n",
            "  inflating: /content/train_crops/content/train_crops/pic_efc2o9ch_2_c.png  \n",
            "  inflating: /content/train_crops/content/train_crops/pic_9h7taa8_6_8.png  \n",
            "  inflating: /content/train_crops/content/train_crops/pic_oygc12vo_3_c.png  \n",
            "  inflating: /content/train_crops/content/train_crops/pic_vcwgf_2_w.png  \n",
            "  inflating: /content/train_crops/content/train_crops/pic_w5yv9xo_4_9.png  \n",
            "  inflating: /content/train_crops/content/train_crops/pic_ktc8y3gw_5_3.png  \n",
            "  inflating: /content/train_crops/content/train_crops/pic_0gwk_0_0.png  \n",
            "  inflating: /content/train_crops/content/train_crops/pic_99fbon_4_o.png  \n",
            "  inflating: /content/train_crops/content/train_crops/pic_ey6194dn_0_e.png  \n",
            "  inflating: /content/train_crops/content/train_crops/pic_k4a77t5_1_4.png  \n",
            "  inflating: /content/train_crops/content/train_crops/pic_24agq_2_a.png  \n",
            "  inflating: /content/train_crops/content/train_crops/pic_j6uct7_4_t.png  \n",
            "  inflating: /content/train_crops/content/train_crops/pic_54tmhmb_4_h.png  \n",
            "  inflating: /content/train_crops/content/train_crops/pic_nu6zpuoh_6_o.png  \n",
            "  inflating: /content/train_crops/content/train_crops/pic_pznn_0_p.png  \n",
            "  inflating: /content/train_crops/content/train_crops/pic_tn9f_3_f.png  \n",
            "  inflating: /content/train_crops/content/train_crops/pic_6uyx6no_4_6.png  \n",
            "  inflating: /content/train_crops/content/train_crops/pic_0qnp93de_2_n.png  \n",
            "  inflating: /content/train_crops/content/train_crops/pic_fmk405s_2_k.png  \n",
            "  inflating: /content/train_crops/content/train_crops/pic_02tkd_4_d.png  \n",
            "  inflating: /content/train_crops/content/train_crops/pic_ztxpnn_0_z.png  \n",
            "  inflating: /content/train_crops/content/train_crops/pic_ddv8_1_d.png  \n",
            "  inflating: /content/train_crops/content/train_crops/pic_4rxzjpy_3_z.png  \n",
            "  inflating: /content/train_crops/content/train_crops/pic_ho3eq_0_h.png  \n",
            "  inflating: /content/train_crops/content/train_crops/pic_1eofr9jk_5_9.png  \n",
            "  inflating: /content/train_crops/content/train_crops/pic_jk8o9wo_3_o.png  \n",
            "  inflating: /content/train_crops/content/train_crops/pic_qt3wgyjl_6_j.png  \n",
            "  inflating: /content/train_crops/content/train_crops/pic_yze2m3_3_2.png  \n",
            "  inflating: /content/train_crops/content/train_crops/pic_khtvoqfj_0_k.png  \n",
            "  inflating: /content/train_crops/content/train_crops/pic_6ygp_3_p.png  \n",
            "  inflating: /content/train_crops/content/train_crops/pic_xu6vhx_1_u.png  \n",
            "  inflating: /content/train_crops/content/train_crops/pic_4bjtet_0_4.png  \n",
            "  inflating: /content/train_crops/content/train_crops/pic_qv0u8p_2_0.png  \n",
            "  inflating: /content/train_crops/content/train_crops/pic_99xgc9m2_1_9.png  \n",
            "  inflating: /content/train_crops/content/train_crops/pic_xbxm1tif_5_t.png  \n",
            "  inflating: /content/train_crops/content/train_crops/pic_jgix_2_i.png  \n",
            "  inflating: /content/train_crops/content/train_crops/pic_xlwwmr_3_w.png  \n",
            "  inflating: /content/train_crops/content/train_crops/pic_xwh3nqxx_7_x.png  \n",
            "  inflating: /content/train_crops/content/train_crops/pic_jaiqkw_4_k.png  \n",
            "  inflating: /content/train_crops/content/train_crops/pic_v2l4y_1_2.png  \n",
            "  inflating: /content/train_crops/content/train_crops/pic_6rz9wiv_1_r.png  \n",
            "  inflating: /content/train_crops/content/train_crops/pic_0024miih_5_i.png  \n",
            "  inflating: /content/train_crops/content/train_crops/pic_s681vc_0_s.png  \n",
            "  inflating: /content/train_crops/content/train_crops/pic_kcz61vn_6_n.png  \n",
            "  inflating: /content/train_crops/content/train_crops/pic_w5odl2_4_l.png  \n",
            "  inflating: /content/train_crops/content/train_crops/pic_wd56_1_d.png  \n",
            "  inflating: /content/train_crops/content/train_crops/pic_4bjtet_1_b.png  \n",
            "  inflating: /content/train_crops/content/train_crops/pic_krqsfs_1_r.png  \n",
            "  inflating: /content/train_crops/content/train_crops/pic_m3xgaov_4_a.png  \n",
            "  inflating: /content/train_crops/content/train_crops/pic_plelck_5_k.png  \n",
            "  inflating: /content/train_crops/content/train_crops/pic_fl6h8ipq_5_i.png  \n",
            "  inflating: /content/train_crops/content/train_crops/pic_ddxvnw1g_2_x.png  \n",
            "  inflating: /content/train_crops/content/train_crops/pic_zh6ds_0_z.png  \n",
            "  inflating: /content/train_crops/content/train_crops/pic_vyk9ao_5_o.png  \n",
            "  inflating: /content/train_crops/content/train_crops/pic_a3hq9n_3_q.png  \n",
            "  inflating: /content/train_crops/content/train_crops/pic_uu3hbz_0_u.png  \n",
            "  inflating: /content/train_crops/content/train_crops/pic_jox9ell1_0_j.png  \n",
            "  inflating: /content/train_crops/content/train_crops/pic_sfie_0_s.png  \n",
            "  inflating: /content/train_crops/content/train_crops/pic_y3df0f79_2_d.png  \n",
            "  inflating: /content/train_crops/content/train_crops/pic_zxtql_3_q.png  \n",
            "  inflating: /content/train_crops/content/train_crops/pic_s5r14k6_4_4.png  \n",
            "  inflating: /content/train_crops/content/train_crops/pic_1b88c2_1_b.png  \n",
            "  inflating: /content/train_crops/content/train_crops/pic_olcy1mwh_3_y.png  \n",
            "  inflating: /content/train_crops/content/train_crops/pic_fsstrk_1_s.png  \n",
            "  inflating: /content/train_crops/content/train_crops/pic_hfo3_3_3.png  \n",
            "  inflating: /content/train_crops/content/train_crops/pic_ean6_3_6.png  \n",
            "  inflating: /content/train_crops/content/train_crops/pic_dq3by0v_2_3.png  \n",
            "  inflating: /content/train_crops/content/train_crops/pic_9w06x_0_9.png  \n",
            "  inflating: /content/train_crops/content/train_crops/pic_fl66b_3_6.png  \n",
            "  inflating: /content/train_crops/content/train_crops/pic_gf2g_3_g.png  \n",
            "  inflating: /content/train_crops/content/train_crops/pic_12nb68xf_5_8.png  \n",
            "  inflating: /content/train_crops/content/train_crops/pic_u7xqho_2_x.png  \n",
            "  inflating: /content/train_crops/content/train_crops/pic_jlxwqt_5_t.png  \n",
            "  inflating: /content/train_crops/content/train_crops/pic_lfbewadl_4_w.png  \n",
            "  inflating: /content/train_crops/content/train_crops/pic_hy1l1pcv_0_h.png  \n",
            "  inflating: /content/train_crops/content/train_crops/pic_j09hh_4_h.png  \n",
            "  inflating: /content/train_crops/content/train_crops/pic_gvapuc_2_a.png  \n",
            "  inflating: /content/train_crops/content/train_crops/pic_7biyy3i_2_i.png  \n",
            "  inflating: /content/train_crops/content/train_crops/pic_2vbds_1_v.png  \n",
            "  inflating: /content/train_crops/content/train_crops/pic_6z007hv0_4_7.png  \n",
            "  inflating: /content/train_crops/content/train_crops/pic_ikiu_1_k.png  \n",
            "  inflating: /content/train_crops/content/train_crops/pic_an6m9_3_m.png  \n",
            "  inflating: /content/train_crops/content/train_crops/pic_inz9b2d_4_b.png  \n",
            "  inflating: /content/train_crops/content/train_crops/pic_nhujn4s_3_j.png  \n",
            "  inflating: /content/train_crops/content/train_crops/pic_c9nor_0_c.png  \n",
            "  inflating: /content/train_crops/content/train_crops/pic_2hfo_2_f.png  \n",
            "  inflating: /content/train_crops/content/train_crops/pic_y5h3k_2_h.png  \n",
            "  inflating: /content/train_crops/content/train_crops/pic_5w2jc0p_3_j.png  \n",
            "  inflating: /content/train_crops/content/train_crops/pic_vbq2a_0_v.png  \n",
            "  inflating: /content/train_crops/content/train_crops/pic_fwxtwn_3_t.png  \n",
            "  inflating: /content/train_crops/content/train_crops/pic_l05ej1_5_1.png  \n",
            "  inflating: /content/train_crops/content/train_crops/pic_5hhkog0_6_0.png  \n",
            "  inflating: /content/train_crops/content/train_crops/pic_mmww2x_2_w.png  \n",
            "  inflating: /content/train_crops/content/train_crops/pic_kbigksx_1_b.png  \n",
            "  inflating: /content/train_crops/content/train_crops/pic_ss4m2t_4_2.png  \n",
            "  inflating: /content/train_crops/content/train_crops/pic_2eheap_5_p.png  \n",
            "  inflating: /content/train_crops/content/train_crops/pic_23bz8q8n_2_b.png  \n",
            "  inflating: /content/train_crops/content/train_crops/pic_aiomvg_3_m.png  \n",
            "  inflating: /content/train_crops/content/train_crops/pic_8ptz473_5_7.png  \n",
            "  inflating: /content/train_crops/content/train_crops/pic_rmxn_3_n.png  \n",
            "  inflating: /content/train_crops/content/train_crops/pic_gf6j_3_j.png  \n",
            "  inflating: /content/train_crops/content/train_crops/pic_nqgkbqy_2_g.png  \n",
            "  inflating: /content/train_crops/content/train_crops/pic_bnxdax5_5_x.png  \n",
            "  inflating: /content/train_crops/content/train_crops/pic_luggxsy6_1_u.png  \n",
            "  inflating: /content/train_crops/content/train_crops/pic_nmk47bm9_5_b.png  \n",
            "  inflating: /content/train_crops/content/train_crops/pic_qoxb_2_x.png  \n",
            "  inflating: /content/train_crops/content/train_crops/pic_117l9_3_l.png  \n",
            "  inflating: /content/train_crops/content/train_crops/pic_oehni9_0_o.png  \n",
            "  inflating: /content/train_crops/content/train_crops/pic_k89h_1_8.png  \n",
            "  inflating: /content/train_crops/content/train_crops/pic_4fcwcig_2_c.png  \n",
            "  inflating: /content/train_crops/content/train_crops/pic_59190bmd_3_9.png  \n",
            "  inflating: /content/train_crops/content/train_crops/pic_slnlrd_0_s.png  \n",
            "  inflating: /content/train_crops/content/train_crops/pic_bf7i3w4_1_f.png  \n",
            "  inflating: /content/train_crops/content/train_crops/pic_acij5o0_6_0.png  \n",
            "  inflating: /content/train_crops/content/train_crops/pic_t45da_4_a.png  \n",
            "  inflating: /content/train_crops/content/train_crops/pic_oyofhda_2_o.png  \n",
            "  inflating: /content/train_crops/content/train_crops/pic_m8rweg4g_2_r.png  \n",
            "  inflating: /content/train_crops/content/train_crops/pic_o6asn2_5_2.png  \n",
            "  inflating: /content/train_crops/content/train_crops/pic_449ftp_0_4.png  \n",
            "  inflating: /content/train_crops/content/train_crops/pic_oa01dj_5_j.png  \n",
            "  inflating: /content/train_crops/content/train_crops/pic_07gr11_4_1.png  \n",
            "  inflating: /content/train_crops/content/train_crops/pic_qic72um_2_c.png  \n",
            "  inflating: /content/train_crops/content/train_crops/pic_ti319w_0_t.png  \n",
            "  inflating: /content/train_crops/content/train_crops/pic_psmtfl_2_m.png  \n",
            "  inflating: /content/train_crops/content/train_crops/pic_jlwq17x_3_q.png  \n",
            "  inflating: /content/train_crops/content/train_crops/pic_ciw3g8_1_i.png  \n",
            "  inflating: /content/train_crops/content/train_crops/pic_ueos4_1_e.png  \n",
            "  inflating: /content/train_crops/content/train_crops/pic_rinrxc_1_i.png  \n",
            "  inflating: /content/train_crops/content/train_crops/pic_748fr_0_7.png  \n",
            "  inflating: /content/train_crops/content/train_crops/pic_wdwzc6_5_6.png  \n",
            "  inflating: /content/train_crops/content/train_crops/pic_79dkjsrg_6_r.png  \n",
            "  inflating: /content/train_crops/content/train_crops/pic_9dvi6_3_i.png  \n",
            "  inflating: /content/train_crops/content/train_crops/pic_bd5lo_1_d.png  \n",
            "  inflating: /content/train_crops/content/train_crops/pic_heluf_2_l.png  \n",
            "  inflating: /content/train_crops/content/train_crops/pic_5e2thl_1_e.png  \n",
            "  inflating: /content/train_crops/content/train_crops/pic_eao7sl_1_a.png  \n",
            "  inflating: /content/train_crops/content/train_crops/pic_94dx_2_d.png  \n",
            "  inflating: /content/train_crops/content/train_crops/pic_7m5w4v1_5_v.png  \n",
            "  inflating: /content/train_crops/content/train_crops/pic_27e0o_2_e.png  \n",
            "  inflating: /content/train_crops/content/train_crops/pic_v6ktn5x_1_6.png  \n",
            "  inflating: /content/train_crops/content/train_crops/pic_sqyy_0_s.png  \n",
            "  inflating: /content/train_crops/content/train_crops/pic_4rsalamf_3_a.png  \n",
            "  inflating: /content/train_crops/content/train_crops/pic_lwb4u4f_2_b.png  \n",
            "  inflating: /content/train_crops/content/train_crops/pic_vifb1_3_b.png  \n",
            "  inflating: /content/train_crops/content/train_crops/pic_zfk708q_0_z.png  \n",
            "  inflating: /content/train_crops/content/train_crops/pic_zus6_2_s.png  \n",
            "  inflating: /content/train_crops/content/train_crops/pic_nvqhrsga_6_g.png  \n",
            "  inflating: /content/train_crops/content/train_crops/pic_ip04y_0_i.png  \n",
            "  inflating: /content/train_crops/content/train_crops/pic_4fqyvq_5_q.png  \n",
            "  inflating: /content/train_crops/content/train_crops/pic_2dmg5dsg_6_s.png  \n",
            "  inflating: /content/train_crops/content/train_crops/pic_b11eb8_3_e.png  \n",
            "  inflating: /content/train_crops/content/train_crops/pic_3th0nu_2_h.png  \n",
            "  inflating: /content/train_crops/content/train_crops/pic_fv2oik_5_k.png  \n",
            "  inflating: /content/train_crops/content/train_crops/pic_9ee3id_5_d.png  \n",
            "  inflating: /content/train_crops/content/train_crops/pic_o30sk_3_s.png  \n",
            "  inflating: /content/train_crops/content/train_crops/pic_co16uhj_4_u.png  \n",
            "  inflating: /content/train_crops/content/train_crops/pic_4pafxd_5_d.png  \n",
            "  inflating: /content/train_crops/content/train_crops/pic_12jc_0_1.png  \n",
            "  inflating: /content/train_crops/content/train_crops/pic_3d0d_2_0.png  \n",
            "  inflating: /content/train_crops/content/train_crops/pic_frjtpde4_1_r.png  \n",
            "  inflating: /content/train_crops/content/train_crops/pic_13hi6_4_6.png  \n",
            "  inflating: /content/train_crops/content/train_crops/pic_1b88c2_5_2.png  \n",
            "  inflating: /content/train_crops/content/train_crops/pic_wts0wcxq_0_w.png  \n",
            "  inflating: /content/train_crops/content/train_crops/pic_z41i2w_0_z.png  \n",
            "  inflating: /content/train_crops/content/train_crops/pic_0o91f4mc_0_0.png  \n",
            "  inflating: /content/train_crops/content/train_crops/pic_jg0ff7g_4_f.png  \n",
            "  inflating: /content/train_crops/content/train_crops/pic_tmfa_3_a.png  \n",
            "  inflating: /content/train_crops/content/train_crops/pic_kyjo8z_0_k.png  \n",
            "  inflating: /content/train_crops/content/train_crops/pic_s6w5wq_3_5.png  \n",
            "  inflating: /content/train_crops/content/train_crops/pic_gjavy_3_v.png  \n",
            "  inflating: /content/train_crops/content/train_crops/pic_hg8s35p9_7_9.png  \n",
            "  inflating: /content/train_crops/content/train_crops/pic_vddrxqq_0_v.png  \n",
            "  inflating: /content/train_crops/content/train_crops/pic_iu85_1_u.png  \n",
            "  inflating: /content/train_crops/content/train_crops/pic_4pa6_0_4.png  \n",
            "  inflating: /content/train_crops/content/train_crops/pic_qn0nstb_2_0.png  \n",
            "  inflating: /content/train_crops/content/train_crops/pic_jy7448_0_j.png  \n",
            "  inflating: /content/train_crops/content/train_crops/pic_lshm23_5_3.png  \n",
            "  inflating: /content/train_crops/content/train_crops/pic_co9nerl_5_r.png  \n",
            "  inflating: /content/train_crops/content/train_crops/pic_mmxinw4x_4_n.png  \n",
            "  inflating: /content/train_crops/content/train_crops/pic_4i669we_5_w.png  \n",
            "  inflating: /content/train_crops/content/train_crops/pic_w0mdjb4_4_j.png  \n",
            "  inflating: /content/train_crops/content/train_crops/pic_yvz4gl80_1_v.png  \n",
            "  inflating: /content/train_crops/content/train_crops/pic_zgetn_3_t.png  \n",
            "  inflating: /content/train_crops/content/train_crops/pic_xqrtrq2_3_t.png  \n",
            "  inflating: /content/train_crops/content/train_crops/pic_2y72vr_0_2.png  \n",
            "  inflating: /content/train_crops/content/train_crops/pic_ip04y_1_p.png  \n",
            "  inflating: /content/train_crops/content/train_crops/pic_7mjva84u_4_a.png  \n",
            "  inflating: /content/train_crops/content/train_crops/pic_fhbhmm8_6_8.png  \n",
            "  inflating: /content/train_crops/content/train_crops/pic_o30sk_0_o.png  \n",
            "  inflating: /content/train_crops/content/train_crops/pic_8klojx1g_3_o.png  \n",
            "  inflating: /content/train_crops/content/train_crops/pic_z8j49_1_8.png  \n",
            "  inflating: /content/train_crops/content/train_crops/pic_1fai6638_5_6.png  \n",
            "  inflating: /content/train_crops/content/train_crops/pic_9hk3nn4_0_9.png  \n",
            "  inflating: /content/train_crops/content/train_crops/pic_9ifnp7_2_f.png  \n",
            "  inflating: /content/train_crops/content/train_crops/pic_klun2jw_2_u.png  \n",
            "  inflating: /content/train_crops/content/train_crops/pic_w16uu323_1_1.png  \n",
            "  inflating: /content/train_crops/content/train_crops/pic_pxplf_2_p.png  \n",
            "  inflating: /content/train_crops/content/train_crops/pic_x37wgc3_0_x.png  \n",
            "  inflating: /content/train_crops/content/train_crops/pic_il1l5dtd_0_i.png  \n",
            "  inflating: /content/train_crops/content/train_crops/pic_vf157_3_5.png  \n",
            "  inflating: /content/train_crops/content/train_crops/pic_aiomvg_4_v.png  \n",
            "  inflating: /content/train_crops/content/train_crops/pic_nvryekfm_0_n.png  \n",
            "  inflating: /content/train_crops/content/train_crops/pic_2cp8_3_8.png  \n",
            "  inflating: /content/train_crops/content/train_crops/pic_lmn64_3_6.png  \n",
            "  inflating: /content/train_crops/content/train_crops/pic_rg0btcn2_1_g.png  \n",
            "  inflating: /content/train_crops/content/train_crops/pic_bddzeu_5_u.png  \n",
            "  inflating: /content/train_crops/content/train_crops/pic_y3hpk_4_k.png  \n",
            "  inflating: /content/train_crops/content/train_crops/pic_3010g9p_4_g.png  \n",
            "  inflating: /content/train_crops/content/train_crops/pic_vbq2a_3_2.png  \n",
            "  inflating: /content/train_crops/content/train_crops/pic_c9nxcrht_7_t.png  \n",
            "  inflating: /content/train_crops/content/train_crops/pic_7r6hg_4_g.png  \n",
            "  inflating: /content/train_crops/content/train_crops/pic_7icfzcyg_2_c.png  \n",
            "  inflating: /content/train_crops/content/train_crops/pic_3zqs1q_2_q.png  \n",
            "  inflating: /content/train_crops/content/train_crops/pic_9ncnyit_1_n.png  \n",
            "  inflating: /content/train_crops/content/train_crops/pic_zfk708q_1_f.png  \n",
            "  inflating: /content/train_crops/content/train_crops/pic_gp3new5_3_n.png  \n",
            "  inflating: /content/train_crops/content/train_crops/pic_tj5or_0_t.png  \n",
            "  inflating: /content/train_crops/content/train_crops/pic_urf0f26_5_2.png  \n",
            "  inflating: /content/train_crops/content/train_crops/pic_6htvp_2_t.png  \n",
            "  inflating: /content/train_crops/content/train_crops/pic_4rxzjpy_2_x.png  \n",
            "  inflating: /content/train_crops/content/train_crops/pic_qibh9_1_i.png  \n",
            "  inflating: /content/train_crops/content/train_crops/pic_bx5uw_0_b.png  \n",
            "  inflating: /content/train_crops/content/train_crops/pic_pk7d_0_p.png  \n",
            "  inflating: /content/train_crops/content/train_crops/pic_xce746_5_6.png  \n",
            "  inflating: /content/train_crops/content/train_crops/pic_6u30hmf_6_f.png  \n",
            "  inflating: /content/train_crops/content/train_crops/pic_vueex1o4_3_e.png  \n",
            "  inflating: /content/train_crops/content/train_crops/pic_4x674h_1_x.png  \n",
            "  inflating: /content/train_crops/content/train_crops/pic_qekhqgo_5_g.png  \n",
            "  inflating: /content/train_crops/content/train_crops/pic_360zgwm_5_w.png  \n",
            "  inflating: /content/train_crops/content/train_crops/pic_ddj7_3_7.png  \n",
            "  inflating: /content/train_crops/content/train_crops/pic_aiaujn4e_6_4.png  \n",
            "  inflating: /content/train_crops/content/train_crops/pic_c37073s7_6_s.png  \n",
            "  inflating: /content/train_crops/content/train_crops/pic_cryg375f_3_g.png  \n",
            "  inflating: /content/train_crops/content/train_crops/pic_aw95838_5_3.png  \n",
            "  inflating: /content/train_crops/content/train_crops/pic_lbuh_3_h.png  \n",
            "  inflating: /content/train_crops/content/train_crops/pic_ruwvogc_6_c.png  \n",
            "  inflating: /content/train_crops/content/train_crops/pic_xfsitp7g_5_p.png  \n",
            "  inflating: /content/train_crops/content/train_crops/pic_o6k3o5_3_3.png  \n",
            "  inflating: /content/train_crops/content/train_crops/pic_p4fe_1_4.png  \n",
            "  inflating: /content/train_crops/content/train_crops/pic_3vflj2_3_l.png  \n",
            "  inflating: /content/train_crops/content/train_crops/pic_4ih1w4_5_4.png  \n",
            "  inflating: /content/train_crops/content/train_crops/pic_tc7cx8_0_t.png  \n",
            "  inflating: /content/train_crops/content/train_crops/pic_9yfoipt_0_9.png  \n",
            "  inflating: /content/train_crops/content/train_crops/pic_5uco54_1_u.png  \n",
            "  inflating: /content/train_crops/content/train_crops/pic_frjtpde4_2_j.png  \n",
            "  inflating: /content/train_crops/content/train_crops/pic_8hg18_0_8.png  \n",
            "  inflating: /content/train_crops/content/train_crops/pic_wnxg4tn_6_n.png  \n",
            "  inflating: /content/train_crops/content/train_crops/pic_yrungx_4_g.png  \n",
            "  inflating: /content/train_crops/content/train_crops/pic_imoch0_5_0.png  \n",
            "  inflating: /content/train_crops/content/train_crops/pic_rosmm4_4_m.png  \n",
            "  inflating: /content/train_crops/content/train_crops/pic_ys1x_2_1.png  \n",
            "  inflating: /content/train_crops/content/train_crops/pic_8h218ub_0_8.png  \n",
            "  inflating: /content/train_crops/content/train_crops/pic_1u5b3hlt_1_u.png  \n",
            "  inflating: /content/train_crops/content/train_crops/pic_qaowlgfp_4_l.png  \n",
            "  inflating: /content/train_crops/content/train_crops/pic_45fu_2_f.png  \n",
            "  inflating: /content/train_crops/content/train_crops/pic_tkx3x_4_x.png  \n",
            "  inflating: /content/train_crops/content/train_crops/pic_0ouyamt_2_u.png  \n",
            "  inflating: /content/train_crops/content/train_crops/pic_4dgxez_5_z.png  \n",
            "  inflating: /content/train_crops/content/train_crops/pic_xnv8e_1_n.png  \n",
            "  inflating: /content/train_crops/content/train_crops/pic_bpuihhf_1_p.png  \n",
            "  inflating: /content/train_crops/content/train_crops/pic_dnlcow_2_l.png  \n",
            "  inflating: /content/train_crops/content/train_crops/pic_mupzvuqx_7_x.png  \n",
            "  inflating: /content/train_crops/content/train_crops/pic_3o6u_1_o.png  \n",
            "  inflating: /content/train_crops/content/train_crops/pic_phy184xc_5_4.png  \n",
            "  inflating: /content/train_crops/content/train_crops/pic_r3w8w7m_3_8.png  \n",
            "  inflating: /content/train_crops/content/train_crops/pic_g3lxinu_3_x.png  \n",
            "  inflating: /content/train_crops/content/train_crops/pic_ccelr9hy_1_c.png  \n",
            "  inflating: /content/train_crops/content/train_crops/pic_xwh3nqxx_0_x.png  \n",
            "  inflating: /content/train_crops/content/train_crops/pic_ztkug6r_6_r.png  \n",
            "  inflating: /content/train_crops/content/train_crops/pic_y3ln7yq_2_l.png  \n",
            "  inflating: /content/train_crops/content/train_crops/pic_qmi2eac4_5_a.png  \n",
            "  inflating: /content/train_crops/content/train_crops/pic_x260yd_0_x.png  \n",
            "  inflating: /content/train_crops/content/train_crops/pic_z0n69ges_7_s.png  \n",
            "  inflating: /content/train_crops/content/train_crops/pic_vhk7vhy_3_7.png  \n",
            "  inflating: /content/train_crops/content/train_crops/pic_6mkxyxr3_0_6.png  \n",
            "  inflating: /content/train_crops/content/train_crops/pic_3zb67dd6_7_6.png  \n",
            "  inflating: /content/train_crops/content/train_crops/pic_9a9x6_3_x.png  \n",
            "  inflating: /content/train_crops/content/train_crops/pic_ywwwm_4_m.png  \n",
            "  inflating: /content/train_crops/content/train_crops/pic_06rh65_1_6.png  \n",
            "  inflating: /content/train_crops/content/train_crops/pic_540jmtll_4_m.png  \n",
            "  inflating: /content/train_crops/content/train_crops/pic_90yjy_1_0.png  \n",
            "  inflating: /content/train_crops/content/train_crops/pic_666jx77s_3_j.png  \n",
            "  inflating: /content/train_crops/content/train_crops/pic_ijqfcsh_6_h.png  \n",
            "  inflating: /content/train_crops/content/train_crops/pic_novyd8_2_v.png  \n",
            "  inflating: /content/train_crops/content/train_crops/pic_53ujm2_1_3.png  \n",
            "  inflating: /content/train_crops/content/train_crops/pic_nxqcimkn_0_n.png  \n",
            "  inflating: /content/train_crops/content/train_crops/pic_mgex43_4_4.png  \n",
            "  inflating: /content/train_crops/content/train_crops/pic_htd6_0_h.png  \n",
            "  inflating: /content/train_crops/content/train_crops/pic_y48gtvr_3_g.png  \n",
            "  inflating: /content/train_crops/content/train_crops/pic_qgal7_4_7.png  \n",
            "  inflating: /content/train_crops/content/train_crops/pic_e3u6ra04_0_e.png  \n",
            "  inflating: /content/train_crops/content/train_crops/pic_xg0vobc_3_v.png  \n",
            "  inflating: /content/train_crops/content/train_crops/pic_hn0mox_3_m.png  \n",
            "  inflating: /content/train_crops/content/train_crops/pic_ai0wt_1_i.png  \n",
            "  inflating: /content/train_crops/content/train_crops/pic_6mi24kl4_3_2.png  \n",
            "  inflating: /content/train_crops/content/train_crops/pic_sfjtz_4_z.png  \n",
            "  inflating: /content/train_crops/content/train_crops/pic_v0iw888b_6_8.png  \n",
            "  inflating: /content/train_crops/content/train_crops/pic_1vwplsxi_2_w.png  \n",
            "  inflating: /content/train_crops/content/train_crops/pic_kr9y_0_k.png  \n",
            "  inflating: /content/train_crops/content/train_crops/pic_4ibwwwp_4_w.png  \n",
            "  inflating: /content/train_crops/content/train_crops/pic_4vzc_1_v.png  \n",
            "  inflating: /content/train_crops/content/train_crops/pic_zxvyg_4_g.png  \n",
            "  inflating: /content/train_crops/content/train_crops/pic_t93lj5_0_t.png  \n",
            "  inflating: /content/train_crops/content/train_crops/pic_9vd77ol2_4_7.png  \n",
            "  inflating: /content/train_crops/content/train_crops/pic_ov0sxe_2_0.png  \n",
            "  inflating: /content/train_crops/content/train_crops/pic_5ozbife_3_b.png  \n",
            "  inflating: /content/train_crops/content/train_crops/pic_95x0ydf_3_0.png  \n",
            "  inflating: /content/train_crops/content/train_crops/pic_582v0k_5_k.png  \n",
            "  inflating: /content/train_crops/content/train_crops/pic_w53ztkz_4_t.png  \n",
            "  inflating: /content/train_crops/content/train_crops/pic_8fnn_3_n.png  \n",
            "  inflating: /content/train_crops/content/train_crops/pic_bhvs_3_s.png  \n",
            "  inflating: /content/train_crops/content/train_crops/pic_rl1oksy_3_o.png  \n",
            "  inflating: /content/train_crops/content/train_crops/pic_6b92zzh_6_h.png  \n",
            "  inflating: /content/train_crops/content/train_crops/pic_s4fm8k9_3_m.png  \n",
            "  inflating: /content/train_crops/content/train_crops/pic_iq0ah_1_q.png  \n",
            "  inflating: /content/train_crops/content/train_crops/pic_bpkrwutf_7_f.png  \n",
            "  inflating: /content/train_crops/content/train_crops/pic_yrer3q6_3_r.png  \n",
            "  inflating: /content/train_crops/content/train_crops/pic_wts0wcxq_3_0.png  \n",
            "  inflating: /content/train_crops/content/train_crops/pic_oo7ae5_5_5.png  \n",
            "  inflating: /content/train_crops/content/train_crops/pic_057ea_1_5.png  \n",
            "  inflating: /content/train_crops/content/train_crops/pic_0p3nb3_2_3.png  \n",
            "  inflating: /content/train_crops/content/train_crops/pic_v3xfquk_5_u.png  \n",
            "  inflating: /content/train_crops/content/train_crops/pic_fy7466o_0_f.png  \n",
            "  inflating: /content/train_crops/content/train_crops/pic_tvq1b1_3_1.png  \n",
            "  inflating: /content/train_crops/content/train_crops/pic_0my5m1b_6_b.png  \n",
            "  inflating: /content/train_crops/content/train_crops/pic_9ikjyy6_5_y.png  \n",
            "  inflating: /content/train_crops/content/train_crops/pic_m60mk1_5_1.png  \n",
            "  inflating: /content/train_crops/content/train_crops/pic_dkquuyly_4_u.png  \n",
            "  inflating: /content/train_crops/content/train_crops/pic_tq6osrq_6_q.png  \n",
            "  inflating: /content/train_crops/content/train_crops/pic_69n150_0_6.png  \n",
            "  inflating: /content/train_crops/content/train_crops/pic_thxq8nbn_4_8.png  \n",
            "  inflating: /content/train_crops/content/train_crops/pic_mxa0q6_2_a.png  \n",
            "  inflating: /content/train_crops/content/train_crops/pic_qj9j_1_j.png  \n",
            "  inflating: /content/train_crops/content/train_crops/pic_y6rjq_1_6.png  \n",
            "  inflating: /content/train_crops/content/train_crops/pic_0dzp_0_0.png  \n",
            "  inflating: /content/train_crops/content/train_crops/pic_scwj6qac_2_w.png  \n",
            "  inflating: /content/train_crops/content/train_crops/pic_rc3km5_1_c.png  \n",
            "  inflating: /content/train_crops/content/train_crops/pic_z5ki_0_z.png  \n",
            "  inflating: /content/train_crops/content/train_crops/pic_y3oyych_0_y.png  \n",
            "  inflating: /content/train_crops/content/train_crops/pic_nhegku7_1_h.png  \n",
            "  inflating: /content/train_crops/content/train_crops/pic_20rym_1_0.png  \n",
            "  inflating: /content/train_crops/content/train_crops/pic_j4bgpn_2_b.png  \n",
            "  inflating: /content/train_crops/content/train_crops/pic_mer04_4_4.png  \n",
            "  inflating: /content/train_crops/content/train_crops/pic_s8t1_1_8.png  \n",
            "  inflating: /content/train_crops/content/train_crops/pic_t3pc0a5_0_t.png  \n",
            "  inflating: /content/train_crops/content/train_crops/pic_sihw0r_0_s.png  \n",
            "  inflating: /content/train_crops/content/train_crops/pic_g8gp_2_g.png  \n",
            "  inflating: /content/train_crops/content/train_crops/pic_nuid_3_d.png  \n",
            "  inflating: /content/train_crops/content/train_crops/pic_dgbi7r_4_7.png  \n",
            "  inflating: /content/train_crops/content/train_crops/pic_ki90xn_3_0.png  \n",
            "  inflating: /content/train_crops/content/train_crops/pic_5s2cn_2_2.png  \n",
            "  inflating: /content/train_crops/content/train_crops/pic_m54g_1_5.png  \n",
            "  inflating: /content/train_crops/content/train_crops/pic_l79ey_3_e.png  \n",
            "  inflating: /content/train_crops/content/train_crops/pic_bms60_2_s.png  \n",
            "  inflating: /content/train_crops/content/train_crops/pic_rbh5vb51_7_1.png  \n",
            "  inflating: /content/train_crops/content/train_crops/pic_qp4ly162_0_q.png  \n",
            "  inflating: /content/train_crops/content/train_crops/pic_8zmk_0_8.png  \n",
            "  inflating: /content/train_crops/content/train_crops/pic_6ybj6o3g_1_y.png  \n",
            "  inflating: /content/train_crops/content/train_crops/pic_y5gxj15e_2_g.png  \n",
            "  inflating: /content/train_crops/content/train_crops/pic_wsdyfzc_0_w.png  \n",
            "  inflating: /content/train_crops/content/train_crops/pic_916e_1_1.png  \n",
            "  inflating: /content/train_crops/content/train_crops/pic_qq44_0_q.png  \n",
            "  inflating: /content/train_crops/content/train_crops/pic_te1r80_2_1.png  \n",
            "  inflating: /content/train_crops/content/train_crops/pic_47a48re_2_a.png  \n",
            "  inflating: /content/train_crops/content/train_crops/pic_qigw3_3_w.png  \n",
            "  inflating: /content/train_crops/content/train_crops/pic_vkqilkuo_5_k.png  \n",
            "  inflating: /content/train_crops/content/train_crops/pic_tyl9o6j_4_o.png  \n",
            "  inflating: /content/train_crops/content/train_crops/pic_486zlu_2_6.png  \n",
            "  inflating: /content/train_crops/content/train_crops/pic_r6qkf9uy_1_6.png  \n",
            "  inflating: /content/train_crops/content/train_crops/pic_gz9xht_2_9.png  \n",
            "  inflating: /content/train_crops/content/train_crops/pic_zfq8wu_3_8.png  \n",
            "  inflating: /content/train_crops/content/train_crops/pic_4fw61vc_6_c.png  \n",
            "  inflating: /content/train_crops/content/train_crops/pic_tma07b4p_5_b.png  \n",
            "  inflating: /content/train_crops/content/train_crops/pic_ss4m2t_5_t.png  \n",
            "  inflating: /content/train_crops/content/train_crops/pic_f50sa3t_5_3.png  \n",
            "  inflating: /content/train_crops/content/train_crops/pic_pgd5m_1_g.png  \n",
            "  inflating: /content/train_crops/content/train_crops/pic_sdlqjj4_1_d.png  \n",
            "  inflating: /content/train_crops/content/train_crops/pic_opqzbs_3_z.png  \n",
            "  inflating: /content/train_crops/content/train_crops/pic_z7taq5e_3_a.png  \n",
            "  inflating: /content/train_crops/content/train_crops/pic_gqwc6lzk_4_6.png  \n",
            "  inflating: /content/train_crops/content/train_crops/pic_41dhp7cm_0_4.png  \n",
            "  inflating: /content/train_crops/content/train_crops/pic_6ybj6o3g_5_o.png  \n",
            "  inflating: /content/train_crops/content/train_crops/pic_puaq_1_u.png  \n",
            "  inflating: /content/train_crops/content/train_crops/pic_kdurbmvj_3_r.png  \n",
            "  inflating: /content/train_crops/content/train_crops/pic_wcum5y_2_u.png  \n",
            "  inflating: /content/train_crops/content/train_crops/pic_qs9w08_4_0.png  \n",
            "  inflating: /content/train_crops/content/train_crops/pic_d63g_1_6.png  \n",
            "  inflating: /content/train_crops/content/train_crops/pic_iclp_1_c.png  \n",
            "  inflating: /content/train_crops/content/train_crops/pic_viqn2wc_4_2.png  \n",
            "  inflating: /content/train_crops/content/train_crops/pic_b2oaiwmt_7_t.png  \n",
            "  inflating: /content/train_crops/content/train_crops/pic_tml9_1_m.png  \n",
            "  inflating: /content/train_crops/content/train_crops/pic_oqwzt9z_3_z.png  \n",
            "  inflating: /content/train_crops/content/train_crops/pic_kba9x_0_k.png  \n",
            "  inflating: /content/train_crops/content/train_crops/pic_3bkk4bo5_4_4.png  \n",
            "  inflating: /content/train_crops/content/train_crops/pic_5v1m1p_5_p.png  \n",
            "  inflating: /content/train_crops/content/train_crops/pic_wuoe9l_2_o.png  \n",
            "  inflating: /content/train_crops/content/train_crops/pic_es1c89ma_7_a.png  \n",
            "  inflating: /content/train_crops/content/train_crops/pic_1tx298ao_0_1.png  \n",
            "  inflating: /content/train_crops/content/train_crops/pic_bypwgtri_5_t.png  \n",
            "  inflating: /content/train_crops/content/train_crops/pic_d6a2mhl_0_d.png  \n",
            "  inflating: /content/train_crops/content/train_crops/pic_o43h15z8_4_1.png  \n",
            "  inflating: /content/train_crops/content/train_crops/pic_xtebz6a_2_e.png  \n",
            "  inflating: /content/train_crops/content/train_crops/pic_9dxly1_0_9.png  \n",
            "  inflating: /content/train_crops/content/train_crops/pic_y9om70_4_7.png  \n",
            "  inflating: /content/train_crops/content/train_crops/pic_bd4lx3u8_3_l.png  \n",
            "  inflating: /content/train_crops/content/train_crops/pic_zyz1_0_z.png  \n",
            "  inflating: /content/train_crops/content/train_crops/pic_0qf323yb_1_q.png  \n",
            "  inflating: /content/train_crops/content/train_crops/pic_4x4d2_1_x.png  \n",
            "  inflating: /content/train_crops/content/train_crops/pic_nb8qo_1_b.png  \n",
            "  inflating: /content/train_crops/content/train_crops/pic_ze6d4zu3_7_3.png  \n",
            "  inflating: /content/train_crops/content/train_crops/pic_1xk809q_0_1.png  \n",
            "  inflating: /content/train_crops/content/train_crops/pic_p0bw89d6_1_0.png  \n",
            "  inflating: /content/train_crops/content/train_crops/pic_lelo53e_6_e.png  \n",
            "  inflating: /content/train_crops/content/train_crops/pic_fu5mje_5_e.png  \n",
            "  inflating: /content/train_crops/content/train_crops/pic_ha9jl4xh_4_l.png  \n",
            "  inflating: /content/train_crops/content/train_crops/pic_pehr5_0_p.png  \n",
            "  inflating: /content/train_crops/content/train_crops/pic_8rb7cno_1_r.png  \n",
            "  inflating: /content/train_crops/content/train_crops/pic_i4elk_4_k.png  \n",
            "  inflating: /content/train_crops/content/train_crops/pic_ztbevz_5_z.png  \n",
            "  inflating: /content/train_crops/content/train_crops/pic_5dq1c_2_q.png  \n",
            "  inflating: /content/train_crops/content/train_crops/pic_22euqkq_6_q.png  \n",
            "  inflating: /content/train_crops/content/train_crops/pic_wi009q39_4_9.png  \n",
            "  inflating: /content/train_crops/content/train_crops/pic_ouoflqm8_6_m.png  \n",
            "  inflating: /content/train_crops/content/train_crops/pic_j5pnu_4_u.png  \n",
            "  inflating: /content/train_crops/content/train_crops/pic_4mlcnn0_4_n.png  \n",
            "  inflating: /content/train_crops/content/train_crops/pic_npxiqib4_5_i.png  \n",
            "  inflating: /content/train_crops/content/train_crops/pic_et0nm_3_n.png  \n",
            "  inflating: /content/train_crops/content/train_crops/pic_ctkmkvxd_5_v.png  \n",
            "  inflating: /content/train_crops/content/train_crops/pic_po9ks7d_3_k.png  \n",
            "  inflating: /content/train_crops/content/train_crops/pic_itlfm17_4_m.png  \n",
            "  inflating: /content/train_crops/content/train_crops/pic_axmv78k_0_a.png  \n",
            "  inflating: /content/train_crops/content/train_crops/pic_544u_3_u.png  \n",
            "  inflating: /content/train_crops/content/train_crops/pic_h2vysnie_5_n.png  \n",
            "  inflating: /content/train_crops/content/train_crops/pic_avcpjzq_6_q.png  \n",
            "  inflating: /content/train_crops/content/train_crops/pic_dba526yt_5_6.png  \n",
            "  inflating: /content/train_crops/content/train_crops/pic_l4wx1y6_6_6.png  \n",
            "  inflating: /content/train_crops/content/train_crops/pic_5p9h_1_p.png  \n",
            "  inflating: /content/train_crops/content/train_crops/pic_lzihpwh_2_i.png  \n",
            "  inflating: /content/train_crops/content/train_crops/pic_pc9r5ex_0_p.png  \n",
            "  inflating: /content/train_crops/content/train_crops/pic_yygz_2_g.png  \n",
            "  inflating: /content/train_crops/content/train_crops/pic_cooiwtn_3_i.png  \n",
            "  inflating: /content/train_crops/content/train_crops/pic_hx0tpt_4_p.png  \n",
            "  inflating: /content/train_crops/content/train_crops/pic_iy5bt_4_t.png  \n",
            "  inflating: /content/train_crops/content/train_crops/pic_cooiwtn_1_o.png  \n",
            "  inflating: /content/train_crops/content/train_crops/pic_xbsv4_3_v.png  \n",
            "  inflating: /content/train_crops/content/train_crops/pic_jox9ell1_3_9.png  \n",
            "  inflating: /content/train_crops/content/train_crops/pic_amslm023_0_a.png  \n",
            "  inflating: /content/train_crops/content/train_crops/pic_k2ol_0_k.png  \n",
            "  inflating: /content/train_crops/content/train_crops/pic_t9n6hhwh_6_w.png  \n",
            "  inflating: /content/train_crops/content/train_crops/pic_o2332epx_3_3.png  \n",
            "  inflating: /content/train_crops/content/train_crops/pic_0lvh6u51_1_l.png  \n",
            "  inflating: /content/train_crops/content/train_crops/pic_vxtcmz1i_6_1.png  \n",
            "  inflating: /content/train_crops/content/train_crops/pic_ewbygxl_1_w.png  \n",
            "  inflating: /content/train_crops/content/train_crops/pic_59190bmd_6_m.png  \n",
            "  inflating: /content/train_crops/content/train_crops/pic_uzkol_0_u.png  \n",
            "  inflating: /content/train_crops/content/train_crops/pic_qwj62ioh_1_w.png  \n",
            "  inflating: /content/train_crops/content/train_crops/pic_urf8s_0_u.png  \n",
            "  inflating: /content/train_crops/content/train_crops/pic_zo2qmt_1_o.png  \n",
            "  inflating: /content/train_crops/content/train_crops/pic_i5vysjhf_2_v.png  \n",
            "  inflating: /content/train_crops/content/train_crops/pic_krqsfs_4_f.png  \n",
            "  inflating: /content/train_crops/content/train_crops/pic_ts1gsw_1_s.png  \n",
            "  inflating: /content/train_crops/content/train_crops/pic_0n0zn_3_z.png  \n",
            "  inflating: /content/train_crops/content/train_crops/pic_4ggh3vfp_7_p.png  \n",
            "  inflating: /content/train_crops/content/train_crops/pic_8hbd5c_3_d.png  \n",
            "  inflating: /content/train_crops/content/train_crops/pic_y33tti_3_t.png  \n",
            "  inflating: /content/train_crops/content/train_crops/pic_hp10ee_1_p.png  \n",
            "  inflating: /content/train_crops/content/train_crops/pic_lm3vcssm_5_s.png  \n",
            "  inflating: /content/train_crops/content/train_crops/pic_wu3j4ck_5_c.png  \n",
            "  inflating: /content/train_crops/content/train_crops/pic_w9llx_2_l.png  \n",
            "  inflating: /content/train_crops/content/train_crops/pic_xribb_4_b.png  \n",
            "  inflating: /content/train_crops/content/train_crops/pic_rqextpir_7_r.png  \n",
            "  inflating: /content/train_crops/content/train_crops/pic_rl19m4y5_6_y.png  \n",
            "  inflating: /content/train_crops/content/train_crops/pic_5jae_1_j.png  \n",
            "  inflating: /content/train_crops/content/train_crops/pic_ai04_2_0.png  \n",
            "  inflating: /content/train_crops/content/train_crops/pic_x1ius8zr_3_u.png  \n",
            "  inflating: /content/train_crops/content/train_crops/pic_0m5gzz_1_m.png  \n",
            "  inflating: /content/train_crops/content/train_crops/pic_wkwj_0_w.png  \n",
            "  inflating: /content/train_crops/content/train_crops/pic_vf157_0_v.png  \n",
            "  inflating: /content/train_crops/content/train_crops/pic_eqnj_0_e.png  \n",
            "  inflating: /content/train_crops/content/train_crops/pic_9o8hs65_5_6.png  \n",
            "  inflating: /content/train_crops/content/train_crops/pic_e06k4rkg_7_g.png  \n",
            "  inflating: /content/train_crops/content/train_crops/pic_1yfm_2_f.png  \n",
            "  inflating: /content/train_crops/content/train_crops/pic_p7esyk7e_0_p.png  \n",
            "  inflating: /content/train_crops/content/train_crops/pic_8j80ia9s_4_i.png  \n",
            "  inflating: /content/train_crops/content/train_crops/pic_efs86t_4_6.png  \n",
            "  inflating: /content/train_crops/content/train_crops/pic_pc9r5ex_6_x.png  \n",
            "  inflating: /content/train_crops/content/train_crops/pic_4urvv8t9_5_8.png  \n",
            "  inflating: /content/train_crops/content/train_crops/pic_8qvn_1_q.png  \n",
            "  inflating: /content/train_crops/content/train_crops/pic_khza_2_z.png  \n",
            "  inflating: /content/train_crops/content/train_crops/pic_3wr4ldd0_2_r.png  \n",
            "  inflating: /content/train_crops/content/train_crops/pic_6wvs9c1w_2_v.png  \n",
            "  inflating: /content/train_crops/content/train_crops/pic_e7iye_1_7.png  \n",
            "  inflating: /content/train_crops/content/train_crops/pic_10sj_1_0.png  \n",
            "  inflating: /content/train_crops/content/train_crops/pic_pl7y_0_p.png  \n",
            "  inflating: /content/train_crops/content/train_crops/pic_oe4hvx7g_4_v.png  \n",
            "  inflating: /content/train_crops/content/train_crops/pic_j8gm_3_m.png  \n",
            "  inflating: /content/train_crops/content/train_crops/pic_e69dz4z_1_6.png  \n",
            "  inflating: /content/train_crops/content/train_crops/pic_pi62j3l9_4_j.png  \n",
            "  inflating: /content/train_crops/content/train_crops/pic_2yzexmrv_1_y.png  \n",
            "  inflating: /content/train_crops/content/train_crops/pic_hvvnqe89_7_9.png  \n",
            "  inflating: /content/train_crops/content/train_crops/pic_f6nhl2b_0_f.png  \n",
            "  inflating: /content/train_crops/content/train_crops/pic_eoub_1_o.png  \n",
            "  inflating: /content/train_crops/content/train_crops/pic_eykgy1pl_1_y.png  \n",
            "  inflating: /content/train_crops/content/train_crops/pic_tgzlvtbr_7_r.png  \n",
            "  inflating: /content/train_crops/content/train_crops/pic_xnkzzevb_5_e.png  \n",
            "  inflating: /content/train_crops/content/train_crops/pic_u80l_3_l.png  \n",
            "  inflating: /content/train_crops/content/train_crops/pic_26hnvmr_3_n.png  \n",
            "  inflating: /content/train_crops/content/train_crops/pic_rrgpw7c_6_c.png  \n",
            "  inflating: /content/train_crops/content/train_crops/pic_w21qu1qv_1_2.png  \n",
            "  inflating: /content/train_crops/content/train_crops/pic_fe7ous_0_f.png  \n",
            "  inflating: /content/train_crops/content/train_crops/pic_hnxy_3_y.png  \n",
            "  inflating: /content/train_crops/content/train_crops/pic_p4v8atio_0_p.png  \n",
            "  inflating: /content/train_crops/content/train_crops/pic_6htvp_4_p.png  \n",
            "  inflating: /content/train_crops/content/train_crops/pic_ehhuobp_1_h.png  \n",
            "  inflating: /content/train_crops/content/train_crops/pic_0d9xrj_5_j.png  \n",
            "  inflating: /content/train_crops/content/train_crops/pic_gdsz6h_3_z.png  \n",
            "  inflating: /content/train_crops/content/train_crops/pic_da6hca_2_6.png  \n",
            "  inflating: /content/train_crops/content/train_crops/pic_4p7cky_5_y.png  \n",
            "  inflating: /content/train_crops/content/train_crops/pic_o6vs9u_3_s.png  \n",
            "  inflating: /content/train_crops/content/train_crops/pic_37ux4l_3_x.png  \n",
            "  inflating: /content/train_crops/content/train_crops/pic_u0eeucq_3_e.png  \n",
            "  inflating: /content/train_crops/content/train_crops/pic_h977iqqc_0_h.png  \n",
            "  inflating: /content/train_crops/content/train_crops/pic_9426bxyy_4_b.png  \n",
            "  inflating: /content/train_crops/content/train_crops/pic_rxf9ls5_4_l.png  \n",
            "  inflating: /content/train_crops/content/train_crops/pic_nio17m9_3_1.png  \n",
            "  inflating: /content/train_crops/content/train_crops/pic_t6jc7b_1_6.png  \n",
            "  inflating: /content/train_crops/content/train_crops/pic_66e4_1_6.png  \n",
            "  inflating: /content/train_crops/content/train_crops/pic_i5mb_1_5.png  \n",
            "  inflating: /content/train_crops/content/train_crops/pic_6wvs9c1w_5_c.png  \n",
            "  inflating: /content/train_crops/content/train_crops/pic_ifg6ly_1_f.png  \n",
            "  inflating: /content/train_crops/content/train_crops/pic_q3io1xdp_7_p.png  \n",
            "  inflating: /content/train_crops/content/train_crops/pic_45p9d_4_d.png  \n",
            "  inflating: /content/train_crops/content/train_crops/pic_ghdpr1cy_4_r.png  \n",
            "  inflating: /content/train_crops/content/train_crops/pic_y0xirub_5_u.png  \n",
            "  inflating: /content/train_crops/content/train_crops/pic_ugfl4192_0_u.png  \n",
            "  inflating: /content/train_crops/content/train_crops/pic_3a0033qc_6_q.png  \n",
            "  inflating: /content/train_crops/content/train_crops/pic_quxywuio_3_y.png  \n",
            "  inflating: /content/train_crops/content/train_crops/pic_xdyg1_0_x.png  \n",
            "  inflating: /content/train_crops/content/train_crops/pic_ac3s21_4_2.png  \n",
            "  inflating: /content/train_crops/content/train_crops/pic_e6mh_3_h.png  \n",
            "  inflating: /content/train_crops/content/train_crops/pic_bgga8vv_4_8.png  \n",
            "  inflating: /content/train_crops/content/train_crops/pic_cjzjeas_4_e.png  \n",
            "  inflating: /content/train_crops/content/train_crops/pic_vnfbq9_5_9.png  \n",
            "  inflating: /content/train_crops/content/train_crops/pic_wjtg57wf_7_f.png  \n",
            "  inflating: /content/train_crops/content/train_crops/pic_bbakoc_1_b.png  \n",
            "  inflating: /content/train_crops/content/train_crops/pic_6vstdvx_3_t.png  \n",
            "  inflating: /content/train_crops/content/train_crops/pic_nx1pmgl_6_l.png  \n",
            "  inflating: /content/train_crops/content/train_crops/pic_b2oaiwmt_5_w.png  \n",
            "  inflating: /content/train_crops/content/train_crops/pic_gwyfxqp1_3_f.png  \n",
            "  inflating: /content/train_crops/content/train_crops/pic_zveaghgv_1_v.png  \n",
            "  inflating: /content/train_crops/content/train_crops/pic_kntzog3u_7_u.png  \n",
            "  inflating: /content/train_crops/content/train_crops/pic_hvvnqe89_6_8.png  \n",
            "  inflating: /content/train_crops/content/train_crops/pic_er4l_0_e.png  \n",
            "  inflating: /content/train_crops/content/train_crops/pic_593te_0_5.png  \n",
            "  inflating: /content/train_crops/content/train_crops/pic_ctkmkvxd_3_m.png  \n",
            "  inflating: /content/train_crops/content/train_crops/pic_hi1vi_2_1.png  \n",
            "  inflating: /content/train_crops/content/train_crops/pic_oo4zbw_1_o.png  \n",
            "  inflating: /content/train_crops/content/train_crops/pic_e5wgc5b_2_w.png  \n",
            "  inflating: /content/train_crops/content/train_crops/pic_nki7_3_7.png  \n",
            "  inflating: /content/train_crops/content/train_crops/pic_w438uu_1_4.png  \n",
            "  inflating: /content/train_crops/content/train_crops/pic_i2bx7ib_4_7.png  \n",
            "  inflating: /content/train_crops/content/train_crops/pic_n8iwkgm_2_i.png  \n",
            "  inflating: /content/train_crops/content/train_crops/pic_a4xb7a_3_b.png  \n",
            "  inflating: /content/train_crops/content/train_crops/pic_z21jvy_1_2.png  \n",
            "  inflating: /content/train_crops/content/train_crops/pic_rk79pt_0_r.png  \n",
            "  inflating: /content/train_crops/content/train_crops/pic_rwnu8leq_5_l.png  \n",
            "  inflating: /content/train_crops/content/train_crops/pic_4urvv8t9_0_4.png  \n",
            "  inflating: /content/train_crops/content/train_crops/pic_0w7hlk_0_0.png  \n",
            "  inflating: /content/train_crops/content/train_crops/pic_y3t7tr_1_3.png  \n",
            "  inflating: /content/train_crops/content/train_crops/pic_uaanzw_5_w.png  \n",
            "  inflating: /content/train_crops/content/train_crops/pic_pfr8a1j_1_f.png  \n",
            "  inflating: /content/train_crops/content/train_crops/pic_nwwl_0_n.png  \n",
            "  inflating: /content/train_crops/content/train_crops/pic_g1i9hr_1_1.png  \n",
            "  inflating: /content/train_crops/content/train_crops/pic_wd445_0_w.png  \n",
            "  inflating: /content/train_crops/content/train_crops/pic_sfhep_2_h.png  \n",
            "  inflating: /content/train_crops/content/train_crops/pic_uv1w1ekj_2_1.png  \n",
            "  inflating: /content/train_crops/content/train_crops/pic_a63vipu_5_p.png  \n",
            "  inflating: /content/train_crops/content/train_crops/pic_f89yby_0_f.png  \n",
            "  inflating: /content/train_crops/content/train_crops/pic_n0664_1_0.png  \n",
            "  inflating: /content/train_crops/content/train_crops/pic_9abwl0a_2_b.png  \n",
            "  inflating: /content/train_crops/content/train_crops/pic_qv5fkrv_6_v.png  \n",
            "  inflating: /content/train_crops/content/train_crops/pic_v7bw22u_5_2.png  \n",
            "  inflating: /content/train_crops/content/train_crops/pic_20v5r5h_3_5.png  \n",
            "  inflating: /content/train_crops/content/train_crops/pic_fw9k8ue6_4_8.png  \n",
            "  inflating: /content/train_crops/content/train_crops/pic_htn0_3_0.png  \n",
            "  inflating: /content/train_crops/content/train_crops/pic_gk0tv_1_k.png  \n",
            "  inflating: /content/train_crops/content/train_crops/pic_xjslyt_3_l.png  \n",
            "  inflating: /content/train_crops/content/train_crops/pic_mz5j0jz_1_z.png  \n",
            "  inflating: /content/train_crops/content/train_crops/pic_dbz24514_7_4.png  \n",
            "  inflating: /content/train_crops/content/train_crops/pic_3kiq9_0_3.png  \n",
            "  inflating: /content/train_crops/content/train_crops/pic_an6m9_4_9.png  \n",
            "  inflating: /content/train_crops/content/train_crops/pic_m7znuy3_3_n.png  \n",
            "  inflating: /content/train_crops/content/train_crops/pic_d6cx69au_2_c.png  \n",
            "  inflating: /content/train_crops/content/train_crops/pic_1y74s1_0_1.png  \n",
            "  inflating: /content/train_crops/content/train_crops/pic_s1fhxs86_3_h.png  \n",
            "  inflating: /content/train_crops/content/train_crops/pic_3enus0_5_0.png  \n",
            "  inflating: /content/train_crops/content/train_crops/pic_b9ghc_0_b.png  \n",
            "  inflating: /content/train_crops/content/train_crops/pic_ypwbdl_0_y.png  \n",
            "  inflating: /content/train_crops/content/train_crops/pic_eur4m_1_u.png  \n",
            "  inflating: /content/train_crops/content/train_crops/pic_eao7sl_3_7.png  \n",
            "  inflating: /content/train_crops/content/train_crops/pic_zruhwn_1_r.png  \n",
            "  inflating: /content/train_crops/content/train_crops/pic_os7km_3_k.png  \n",
            "  inflating: /content/train_crops/content/train_crops/pic_wnp2mm34_0_w.png  \n",
            "  inflating: /content/train_crops/content/train_crops/pic_ezhfj1mt_1_z.png  \n",
            "  inflating: /content/train_crops/content/train_crops/pic_lcfqrs_2_f.png  \n",
            "  inflating: /content/train_crops/content/train_crops/pic_9krdns0m_1_k.png  \n",
            "  inflating: /content/train_crops/content/train_crops/pic_ycgxhwu6_3_x.png  \n",
            "  inflating: /content/train_crops/content/train_crops/pic_6fjt_3_t.png  \n",
            "  inflating: /content/train_crops/content/train_crops/pic_tvs2ncr_0_t.png  \n",
            "  inflating: /content/train_crops/content/train_crops/pic_i45h2_0_i.png  \n",
            "  inflating: /content/train_crops/content/train_crops/pic_eg5rri6c_4_r.png  \n",
            "  inflating: /content/train_crops/content/train_crops/pic_fztb6c_5_c.png  \n",
            "  inflating: /content/train_crops/content/train_crops/pic_okhslw8_6_8.png  \n",
            "  inflating: /content/train_crops/content/train_crops/pic_7391ulwj_3_1.png  \n",
            "  inflating: /content/train_crops/content/train_crops/pic_of62t9_2_6.png  \n",
            "  inflating: /content/train_crops/content/train_crops/pic_q4b44wle_0_q.png  \n",
            "  inflating: /content/train_crops/content/train_crops/pic_va10u75b_6_5.png  \n",
            "  inflating: /content/train_crops/content/train_crops/pic_vxlajevc_2_l.png  \n",
            "  inflating: /content/train_crops/content/train_crops/pic_72134xl5_2_1.png  \n",
            "  inflating: /content/train_crops/content/train_crops/pic_fbpi_0_f.png  \n",
            "  inflating: /content/train_crops/content/train_crops/pic_inl0y9o_3_0.png  \n",
            "  inflating: /content/train_crops/content/train_crops/pic_4o1cgem_1_o.png  \n",
            "  inflating: /content/train_crops/content/train_crops/pic_m2utnou_5_o.png  \n",
            "  inflating: /content/train_crops/content/train_crops/pic_mzjraw_0_m.png  \n",
            "  inflating: /content/train_crops/content/train_crops/pic_3yc6be_4_b.png  \n",
            "  inflating: /content/train_crops/content/train_crops/pic_c9nxcrht_4_c.png  \n",
            "  inflating: /content/train_crops/content/train_crops/pic_bi44jy8_4_j.png  \n",
            "  inflating: /content/train_crops/content/train_crops/pic_s7xtcj3_5_j.png  \n",
            "  inflating: /content/train_crops/content/train_crops/pic_xl5z2l6_1_l.png  \n",
            "  inflating: /content/train_crops/content/train_crops/pic_kp69bk9g_5_k.png  \n",
            "  inflating: /content/train_crops/content/train_crops/pic_vkefq_1_k.png  \n",
            "  inflating: /content/train_crops/content/train_crops/pic_99xgc9m2_7_2.png  \n",
            "  inflating: /content/train_crops/content/train_crops/pic_fj57_0_f.png  \n",
            "  inflating: /content/train_crops/content/train_crops/pic_y29jmq_3_j.png  \n",
            "  inflating: /content/train_crops/content/train_crops/pic_4tlgz8_4_z.png  \n",
            "  inflating: /content/train_crops/content/train_crops/pic_2lqhs_1_l.png  \n",
            "  inflating: /content/train_crops/content/train_crops/pic_jdtlfr2_2_t.png  \n",
            "  inflating: /content/train_crops/content/train_crops/pic_5ycx_2_c.png  \n",
            "  inflating: /content/train_crops/content/train_crops/pic_5ew1_3_1.png  \n",
            "  inflating: /content/train_crops/content/train_crops/pic_7oa5mqjb_4_m.png  \n",
            "  inflating: /content/train_crops/content/train_crops/pic_nhotstv_6_v.png  \n",
            "  inflating: /content/train_crops/content/train_crops/pic_xbck6d_4_6.png  \n",
            "  inflating: /content/train_crops/content/train_crops/pic_b3n5zfr_3_5.png  \n",
            "  inflating: /content/train_crops/content/train_crops/pic_4myn_0_4.png  \n",
            "  inflating: /content/train_crops/content/train_crops/pic_f89yby_4_b.png  \n",
            "  inflating: /content/train_crops/content/train_crops/pic_dtfo_1_t.png  \n",
            "  inflating: /content/train_crops/content/train_crops/pic_jwbms_4_s.png  \n",
            "  inflating: /content/train_crops/content/train_crops/pic_vcwgf_3_g.png  \n",
            "  inflating: /content/train_crops/content/train_crops/pic_ht7gp_1_t.png  \n",
            "  inflating: /content/train_crops/content/train_crops/pic_8h218ub_3_1.png  \n",
            "  inflating: /content/train_crops/content/train_crops/pic_ib9nc_1_b.png  \n",
            "  inflating: /content/train_crops/content/train_crops/pic_6ocl0d1_4_0.png  \n",
            "  inflating: /content/train_crops/content/train_crops/pic_3l960m73_0_3.png  \n",
            "  inflating: /content/train_crops/content/train_crops/pic_fmngsma_3_g.png  \n",
            "  inflating: /content/train_crops/content/train_crops/pic_9k10c2br_3_0.png  \n",
            "  inflating: /content/train_crops/content/train_crops/pic_nzzkec8_6_8.png  \n",
            "  inflating: /content/train_crops/content/train_crops/pic_rsfdztk5_4_z.png  \n",
            "  inflating: /content/train_crops/content/train_crops/pic_ixr9v_4_v.png  \n",
            "  inflating: /content/train_crops/content/train_crops/pic_311fkbdg_5_b.png  \n",
            "  inflating: /content/train_crops/content/train_crops/pic_2x65_3_5.png  \n",
            "  inflating: /content/train_crops/content/train_crops/pic_ikqua_1_k.png  \n",
            "  inflating: /content/train_crops/content/train_crops/pic_qc5e_3_e.png  \n",
            "  inflating: /content/train_crops/content/train_crops/pic_rvdt_1_v.png  \n",
            "  inflating: /content/train_crops/content/train_crops/pic_eeoj_3_j.png  \n",
            "  inflating: /content/train_crops/content/train_crops/pic_rdldnfni_7_i.png  \n",
            "  inflating: /content/train_crops/content/train_crops/pic_ctkp_3_p.png  \n",
            "  inflating: /content/train_crops/content/train_crops/pic_ojokgg_3_k.png  \n",
            "  inflating: /content/train_crops/content/train_crops/pic_v5chy88_2_c.png  \n",
            "  inflating: /content/train_crops/content/train_crops/pic_gdl63_2_l.png  \n",
            "  inflating: /content/train_crops/content/train_crops/pic_o0endi_0_o.png  \n",
            "  inflating: /content/train_crops/content/train_crops/pic_2nnn_1_n.png  \n",
            "  inflating: /content/train_crops/content/train_crops/pic_kd8zcf58_7_8.png  \n",
            "  inflating: /content/train_crops/content/train_crops/pic_f50sa3t_2_0.png  \n",
            "  inflating: /content/train_crops/content/train_crops/pic_5xnz46d_1_x.png  \n",
            "  inflating: /content/train_crops/content/train_crops/pic_xgedtm_3_d.png  \n",
            "  inflating: /content/train_crops/content/train_crops/pic_odxkr06_6_6.png  \n",
            "  inflating: /content/train_crops/content/train_crops/pic_3zksp_3_s.png  \n",
            "  inflating: /content/train_crops/content/train_crops/pic_pk0rmn_3_r.png  \n",
            "  inflating: /content/train_crops/content/train_crops/pic_xfjg_1_f.png  \n",
            "  inflating: /content/train_crops/content/train_crops/pic_y00gu_3_g.png  \n",
            "  inflating: /content/train_crops/content/train_crops/pic_e06k4rkg_1_0.png  \n",
            "  inflating: /content/train_crops/content/train_crops/pic_z7gl_0_z.png  \n",
            "  inflating: /content/train_crops/content/train_crops/pic_d3jm5_1_3.png  \n",
            "  inflating: /content/train_crops/content/train_crops/pic_pgd5m_2_d.png  \n",
            "  inflating: /content/train_crops/content/train_crops/pic_ab2t1a_1_b.png  \n",
            "  inflating: /content/train_crops/content/train_crops/pic_l9gnfu12_2_g.png  \n",
            "  inflating: /content/train_crops/content/train_crops/pic_fnhhikff_2_h.png  \n",
            "  inflating: /content/train_crops/content/train_crops/pic_vonxg_1_o.png  \n",
            "  inflating: /content/train_crops/content/train_crops/pic_w4tk19h_4_1.png  \n",
            "  inflating: /content/train_crops/content/train_crops/pic_5qmcr_3_c.png  \n",
            "  inflating: /content/train_crops/content/train_crops/pic_91nok_1_1.png  \n",
            "  inflating: /content/train_crops/content/train_crops/pic_zsztyb_5_b.png  \n",
            "  inflating: /content/train_crops/content/train_crops/pic_6wdcs_0_6.png  \n",
            "  inflating: /content/train_crops/content/train_crops/pic_0ihk7bk_1_i.png  \n",
            "  inflating: /content/train_crops/content/train_crops/pic_cyk13_1_y.png  \n",
            "  inflating: /content/train_crops/content/train_crops/pic_7tmg_0_7.png  \n",
            "  inflating: /content/train_crops/content/train_crops/pic_eo4dcw5g_5_w.png  \n",
            "  inflating: /content/train_crops/content/train_crops/pic_7e3v1j14_3_v.png  \n",
            "  inflating: /content/train_crops/content/train_crops/pic_nboo_2_o.png  \n",
            "  inflating: /content/train_crops/content/train_crops/pic_no6kr_1_o.png  \n",
            "  inflating: /content/train_crops/content/train_crops/pic_rdo662at_7_t.png  \n",
            "  inflating: /content/train_crops/content/train_crops/pic_me118z_3_1.png  \n",
            "  inflating: /content/train_crops/content/train_crops/pic_krmz_0_k.png  \n",
            "  inflating: /content/train_crops/content/train_crops/pic_l5ape5g_4_e.png  \n",
            "  inflating: /content/train_crops/content/train_crops/pic_72rhxfcf_3_h.png  \n",
            "  inflating: /content/train_crops/content/train_crops/pic_59csfhc_2_c.png  \n",
            "  inflating: /content/train_crops/content/train_crops/pic_qe27s_3_7.png  \n",
            "  inflating: /content/train_crops/content/train_crops/pic_0yx0ny_0_0.png  \n",
            "  inflating: /content/train_crops/content/train_crops/pic_kutzp7uh_6_u.png  \n",
            "  inflating: /content/train_crops/content/train_crops/pic_j1c0j_3_0.png  \n",
            "  inflating: /content/train_crops/content/train_crops/pic_40yo_2_y.png  \n",
            "  inflating: /content/train_crops/content/train_crops/pic_i2bx7ib_0_i.png  \n",
            "  inflating: /content/train_crops/content/train_crops/pic_olscyp_3_c.png  \n",
            "  inflating: /content/train_crops/content/train_crops/pic_okr1nm_4_n.png  \n",
            "  inflating: /content/train_crops/content/train_crops/pic_1x2ti_3_t.png  \n",
            "  inflating: /content/train_crops/content/train_crops/pic_1p54wt_3_4.png  \n",
            "  inflating: /content/train_crops/content/train_crops/pic_axmv78k_4_7.png  \n",
            "  inflating: /content/train_crops/content/train_crops/pic_3wytky6_3_t.png  \n",
            "  inflating: /content/train_crops/content/train_crops/pic_c3pc8h6_2_p.png  \n",
            "  inflating: /content/train_crops/content/train_crops/pic_vtw6ql_3_6.png  \n",
            "  inflating: /content/train_crops/content/train_crops/pic_d0drdczr_6_z.png  \n",
            "  inflating: /content/train_crops/content/train_crops/pic_z5gp_0_z.png  \n",
            "  inflating: /content/train_crops/content/train_crops/pic_rw9mdbn8_6_n.png  \n",
            "  inflating: /content/train_crops/content/train_crops/pic_6ci58yvs_4_8.png  \n",
            "  inflating: /content/train_crops/content/train_crops/pic_ooyofgbg_3_o.png  \n",
            "  inflating: /content/train_crops/content/train_crops/pic_ero4qcag_0_e.png  \n",
            "  inflating: /content/train_crops/content/train_crops/pic_ubulfsj_1_b.png  \n",
            "  inflating: /content/train_crops/content/train_crops/pic_ao69ag5_2_6.png  \n",
            "  inflating: /content/train_crops/content/train_crops/pic_6d1xc_4_c.png  \n",
            "  inflating: /content/train_crops/content/train_crops/pic_n1abll4j_5_l.png  \n",
            "  inflating: /content/train_crops/content/train_crops/pic_zzquhjpt_1_z.png  \n",
            "  inflating: /content/train_crops/content/train_crops/pic_sir3ofjh_4_o.png  \n",
            "  inflating: /content/train_crops/content/train_crops/pic_4nx86y_5_y.png  \n",
            "  inflating: /content/train_crops/content/train_crops/pic_lkjh3_3_h.png  \n",
            "  inflating: /content/train_crops/content/train_crops/pic_vvs25_2_s.png  \n",
            "  inflating: /content/train_crops/content/train_crops/pic_3b8bec_3_b.png  \n",
            "  inflating: /content/train_crops/content/train_crops/pic_submdj_1_u.png  \n",
            "  inflating: /content/train_crops/content/train_crops/pic_a8ykl7fe_2_y.png  \n",
            "  inflating: /content/train_crops/content/train_crops/pic_hzemn_2_e.png  \n",
            "  inflating: /content/train_crops/content/train_crops/pic_3nltvx91_1_n.png  \n",
            "  inflating: /content/train_crops/content/train_crops/pic_vtq9pm_4_p.png  \n",
            "  inflating: /content/train_crops/content/train_crops/pic_pbpbj_4_j.png  \n",
            "  inflating: /content/train_crops/content/train_crops/pic_kodm_3_m.png  \n",
            "  inflating: /content/train_crops/content/train_crops/pic_dno1o_2_o.png  \n",
            "  inflating: /content/train_crops/content/train_crops/pic_gxw1fb55_7_5.png  \n",
            "  inflating: /content/train_crops/content/train_crops/pic_rg0btcn2_5_c.png  \n",
            "  inflating: /content/train_crops/content/train_crops/pic_zd6h_3_h.png  \n",
            "  inflating: /content/train_crops/content/train_crops/pic_dxd5w99v_5_9.png  \n",
            "  inflating: /content/train_crops/content/train_crops/pic_w16uu323_6_2.png  \n",
            "  inflating: /content/train_crops/content/train_crops/pic_eo0l2_0_e.png  \n",
            "  inflating: /content/train_crops/content/train_crops/pic_l4boytke_0_l.png  \n",
            "  inflating: /content/train_crops/content/train_crops/pic_853n_1_5.png  \n",
            "  inflating: /content/train_crops/content/train_crops/pic_p0mi5_3_i.png  \n",
            "  inflating: /content/train_crops/content/train_crops/pic_e6x5u0_0_e.png  \n",
            "  inflating: /content/train_crops/content/train_crops/pic_lo4ssr_5_r.png  \n",
            "  inflating: /content/train_crops/content/train_crops/pic_u49t2k_1_4.png  \n",
            "  inflating: /content/train_crops/content/train_crops/pic_topi_0_t.png  \n",
            "  inflating: /content/train_crops/content/train_crops/pic_56o30_4_0.png  \n",
            "  inflating: /content/train_crops/content/train_crops/pic_jbvv4bm_0_j.png  \n",
            "  inflating: /content/train_crops/content/train_crops/pic_14shu2dg_3_h.png  \n",
            "  inflating: /content/train_crops/content/train_crops/pic_o7uyoadg_0_o.png  \n",
            "  inflating: /content/train_crops/content/train_crops/pic_mcd34a_2_d.png  \n",
            "  inflating: /content/train_crops/content/train_crops/pic_3ovdb9_5_9.png  \n",
            "  inflating: /content/train_crops/content/train_crops/pic_by1q37_4_3.png  \n",
            "  inflating: /content/train_crops/content/train_crops/pic_6u1p_1_u.png  \n",
            "  inflating: /content/train_crops/content/train_crops/pic_w21qu1qv_0_w.png  \n",
            "  inflating: /content/train_crops/content/train_crops/pic_xjf4faq_4_f.png  \n",
            "  inflating: /content/train_crops/content/train_crops/pic_tkc6m0xe_4_m.png  \n",
            "  inflating: /content/train_crops/content/train_crops/pic_q08zw_2_8.png  \n",
            "  inflating: /content/train_crops/content/train_crops/pic_coyj0j_4_0.png  \n",
            "  inflating: /content/train_crops/content/train_crops/pic_0yy43hxk_4_3.png  \n",
            "  inflating: /content/train_crops/content/train_crops/pic_kavnr_2_v.png  \n",
            "  inflating: /content/train_crops/content/train_crops/pic_u97uisu_4_i.png  \n",
            "  inflating: /content/train_crops/content/train_crops/pic_p1lttypv_1_1.png  \n",
            "  inflating: /content/train_crops/content/train_crops/pic_pfc31kc_2_c.png  \n",
            "  inflating: /content/train_crops/content/train_crops/pic_ac7zwe_4_w.png  \n",
            "  inflating: /content/train_crops/content/train_crops/pic_8xnfoxzd_5_x.png  \n",
            "  inflating: /content/train_crops/content/train_crops/pic_dlyrkg_3_r.png  \n",
            "  inflating: /content/train_crops/content/train_crops/pic_9hhzkw_5_w.png  \n",
            "  inflating: /content/train_crops/content/train_crops/pic_g7w62_0_g.png  \n",
            "  inflating: /content/train_crops/content/train_crops/pic_5xskc_1_x.png  \n",
            "  inflating: /content/train_crops/content/train_crops/pic_jirrxk_5_k.png  \n",
            "  inflating: /content/train_crops/content/train_crops/pic_63z7g_1_3.png  \n",
            "  inflating: /content/train_crops/content/train_crops/pic_ekwuc8af_4_c.png  \n",
            "  inflating: /content/train_crops/content/train_crops/pic_pbpbj_0_p.png  \n",
            "  inflating: /content/train_crops/content/train_crops/pic_obqecbr_4_c.png  \n",
            "  inflating: /content/train_crops/content/train_crops/pic_ir2iem_2_2.png  \n",
            "  inflating: /content/train_crops/content/train_crops/pic_h5ufee_5_e.png  \n",
            "  inflating: /content/train_crops/content/train_crops/pic_y69f7h9v_4_7.png  \n",
            "  inflating: /content/train_crops/content/train_crops/pic_q69no3f_3_n.png  \n",
            "  inflating: /content/train_crops/content/train_crops/pic_4bm3_2_m.png  \n",
            "  inflating: /content/train_crops/content/train_crops/pic_s82e83i_1_8.png  \n",
            "  inflating: /content/train_crops/content/train_crops/pic_v8h1ho4s_1_8.png  \n",
            "  inflating: /content/train_crops/content/train_crops/pic_ybwr1_3_r.png  \n",
            "  inflating: /content/train_crops/content/train_crops/pic_v5r3eai9_0_v.png  \n",
            "  inflating: /content/train_crops/content/train_crops/pic_0l170280_7_0.png  \n",
            "  inflating: /content/train_crops/content/train_crops/pic_6omc_1_o.png  \n",
            "  inflating: /content/train_crops/content/train_crops/pic_6ks0nbja_4_n.png  \n",
            "  inflating: /content/train_crops/content/train_crops/pic_1nauixv_5_x.png  \n",
            "  inflating: /content/train_crops/content/train_crops/pic_tp9jvwmo_0_t.png  \n",
            "  inflating: /content/train_crops/content/train_crops/pic_fgmzd_1_g.png  \n",
            "  inflating: /content/train_crops/content/train_crops/pic_gkus8umz_7_z.png  \n",
            "  inflating: /content/train_crops/content/train_crops/pic_j1nulm_4_l.png  \n",
            "  inflating: /content/train_crops/content/train_crops/pic_vauetjkk_7_k.png  \n",
            "  inflating: /content/train_crops/content/train_crops/pic_wpl4_0_w.png  \n",
            "  inflating: /content/train_crops/content/train_crops/pic_glww3v_5_v.png  \n",
            "  inflating: /content/train_crops/content/train_crops/pic_inl0y9o_2_l.png  \n",
            "  inflating: /content/train_crops/content/train_crops/pic_2j8gsr_1_j.png  \n",
            "  inflating: /content/train_crops/content/train_crops/pic_wlxbdn3w_7_w.png  \n",
            "  inflating: /content/train_crops/content/train_crops/pic_naaoa_0_n.png  \n",
            "  inflating: /content/train_crops/content/train_crops/pic_58o2fw_1_8.png  \n",
            "  inflating: /content/train_crops/content/train_crops/pic_29k2a_4_a.png  \n",
            "  inflating: /content/train_crops/content/train_crops/pic_exq9vfa_5_f.png  \n",
            "  inflating: /content/train_crops/content/train_crops/pic_0pt2h75z_5_7.png  \n",
            "  inflating: /content/train_crops/content/train_crops/pic_vvts5zf1_3_s.png  \n",
            "  inflating: /content/train_crops/content/train_crops/pic_atyvuvs1_2_y.png  \n",
            "  inflating: /content/train_crops/content/train_crops/pic_14h4npn4_7_4.png  \n",
            "  inflating: /content/train_crops/content/train_crops/pic_1becisn_2_e.png  \n",
            "  inflating: /content/train_crops/content/train_crops/pic_k3xa_2_x.png  \n",
            "  inflating: /content/train_crops/content/train_crops/pic_dtng_0_d.png  \n",
            "  inflating: /content/train_crops/content/train_crops/pic_micn9_3_n.png  \n",
            "  inflating: /content/train_crops/content/train_crops/pic_vlpgf_4_f.png  \n",
            "  inflating: /content/train_crops/content/train_crops/pic_v26i3zi_6_i.png  \n",
            "  inflating: /content/train_crops/content/train_crops/pic_4va4qss_6_s.png  \n",
            "  inflating: /content/train_crops/content/train_crops/pic_3pe8dnec_0_3.png  \n",
            "  inflating: /content/train_crops/content/train_crops/pic_dah4q3_1_a.png  \n",
            "  inflating: /content/train_crops/content/train_crops/pic_ca7vp8e_2_7.png  \n",
            "  inflating: /content/train_crops/content/train_crops/pic_bq8hku1_6_1.png  \n",
            "  inflating: /content/train_crops/content/train_crops/pic_h7e5h_0_h.png  \n",
            "  inflating: /content/train_crops/content/train_crops/pic_qoxb_3_b.png  \n",
            "  inflating: /content/train_crops/content/train_crops/pic_6ktbls_0_6.png  \n",
            "  inflating: /content/train_crops/content/train_crops/pic_lbfw9_1_b.png  \n",
            "  inflating: /content/train_crops/content/train_crops/pic_7etjsrio_4_s.png  \n",
            "  inflating: /content/train_crops/content/train_crops/pic_26hnvmr_0_2.png  \n",
            "  inflating: /content/train_crops/content/train_crops/pic_8p7n_2_7.png  \n",
            "  inflating: /content/train_crops/content/train_crops/pic_c7qlc_2_q.png  \n",
            "  inflating: /content/train_crops/content/train_crops/pic_2dmg5dsg_7_g.png  \n",
            "  inflating: /content/train_crops/content/train_crops/pic_sxqkxia1_5_i.png  \n",
            "  inflating: /content/train_crops/content/train_crops/pic_e3u6ra04_6_0.png  \n",
            "  inflating: /content/train_crops/content/train_crops/pic_hnh1g3zf_4_g.png  \n",
            "  inflating: /content/train_crops/content/train_crops/pic_h0tbzpt_6_t.png  \n",
            "  inflating: /content/train_crops/content/train_crops/pic_qax34c8d_6_8.png  \n",
            "  inflating: /content/train_crops/content/train_crops/pic_555kal9_5_l.png  \n",
            "  inflating: /content/train_crops/content/train_crops/pic_i40a6_1_4.png  \n",
            "  inflating: /content/train_crops/content/train_crops/pic_gmoo2_4_2.png  \n",
            "  inflating: /content/train_crops/content/train_crops/pic_3amh_1_a.png  \n",
            "  inflating: /content/train_crops/content/train_crops/pic_vqg7zz_1_q.png  \n",
            "  inflating: /content/train_crops/content/train_crops/pic_8yhjlw_2_h.png  \n",
            "  inflating: /content/train_crops/content/train_crops/pic_0nhe37q_5_7.png  \n",
            "  inflating: /content/train_crops/content/train_crops/pic_tbbxs_0_t.png  \n",
            "  inflating: /content/train_crops/content/train_crops/pic_p4fe_0_p.png  \n",
            "  inflating: /content/train_crops/content/train_crops/pic_evbgq5_2_b.png  \n",
            "  inflating: /content/train_crops/content/train_crops/pic_933nxzf5_0_9.png  \n",
            "  inflating: /content/train_crops/content/train_crops/pic_vmquc_0_v.png  \n",
            "  inflating: /content/train_crops/content/train_crops/pic_dpae3wqh_5_w.png  \n",
            "  inflating: /content/train_crops/content/train_crops/pic_n0vq_3_q.png  \n",
            "  inflating: /content/train_crops/content/train_crops/pic_n6f4a_4_a.png  \n",
            "  inflating: /content/train_crops/content/train_crops/pic_gv85x_1_v.png  \n",
            "  inflating: /content/train_crops/content/train_crops/pic_hqsb6_2_s.png  \n",
            "  inflating: /content/train_crops/content/train_crops/pic_6t82hn7h_6_7.png  \n",
            "  inflating: /content/train_crops/content/train_crops/pic_4vatp9k7_3_t.png  \n",
            "  inflating: /content/train_crops/content/train_crops/pic_h28drs7_4_r.png  \n",
            "  inflating: /content/train_crops/content/train_crops/pic_mwsf7ura_6_r.png  \n",
            "  inflating: /content/train_crops/content/train_crops/pic_cnprm2_2_p.png  \n",
            "  inflating: /content/train_crops/content/train_crops/pic_xxdvmh_4_m.png  \n",
            "  inflating: /content/train_crops/content/train_crops/pic_umagbsh_0_u.png  \n",
            "  inflating: /content/train_crops/content/train_crops/pic_wgwr78_5_8.png  \n",
            "  inflating: /content/train_crops/content/train_crops/pic_2pf7bpt5_3_7.png  \n",
            "  inflating: /content/train_crops/content/train_crops/pic_jbfc_0_j.png  \n",
            "  inflating: /content/train_crops/content/train_crops/pic_jqrl_1_q.png  \n",
            "  inflating: /content/train_crops/content/train_crops/pic_kz5j2w1j_2_5.png  \n",
            "  inflating: /content/train_crops/content/train_crops/pic_aj9kd8z5_1_j.png  \n",
            "  inflating: /content/train_crops/content/train_crops/pic_g5pd_1_5.png  \n",
            "  inflating: /content/train_crops/content/train_crops/pic_9ifnp7_1_i.png  \n",
            "  inflating: /content/train_crops/content/train_crops/pic_aahkq_3_k.png  \n",
            "  inflating: /content/train_crops/content/train_crops/pic_zxf5h_2_f.png  \n",
            "  inflating: /content/train_crops/content/train_crops/pic_dd5f3i_2_5.png  \n",
            "  inflating: /content/train_crops/content/train_crops/pic_jbvv4bm_4_4.png  \n",
            "  inflating: /content/train_crops/content/train_crops/pic_glww3v_1_l.png  \n",
            "  inflating: /content/train_crops/content/train_crops/pic_kp9m_3_m.png  \n",
            "  inflating: /content/train_crops/content/train_crops/pic_b5z4_1_5.png  \n",
            "  inflating: /content/train_crops/content/train_crops/pic_lxdqpx_3_q.png  \n",
            "  inflating: /content/train_crops/content/train_crops/pic_pec2f3_2_c.png  \n",
            "  inflating: /content/train_crops/content/train_crops/pic_ukzbg_2_z.png  \n",
            "  inflating: /content/train_crops/content/train_crops/pic_0rred0t_4_d.png  \n",
            "  inflating: /content/train_crops/content/train_crops/pic_h7ubu_0_h.png  \n",
            "  inflating: /content/train_crops/content/train_crops/pic_os6v4xen_1_s.png  \n",
            "  inflating: /content/train_crops/content/train_crops/pic_yxvkb_2_v.png  \n",
            "  inflating: /content/train_crops/content/train_crops/pic_z7e1z_0_z.png  \n",
            "  inflating: /content/train_crops/content/train_crops/pic_dbio9muc_3_o.png  \n",
            "  inflating: /content/train_crops/content/train_crops/pic_fhogkd_2_o.png  \n",
            "  inflating: /content/train_crops/content/train_crops/pic_7nb87jpi_4_7.png  \n",
            "  inflating: /content/train_crops/content/train_crops/pic_gx81k_0_g.png  \n",
            "  inflating: /content/train_crops/content/train_crops/pic_ijsux_1_j.png  \n",
            "  inflating: /content/train_crops/content/train_crops/pic_4bek73_4_7.png  \n",
            "  inflating: /content/train_crops/content/train_crops/pic_i5zrm_2_z.png  \n",
            "  inflating: /content/train_crops/content/train_crops/pic_zke6m379_4_m.png  \n",
            "  inflating: /content/train_crops/content/train_crops/pic_cs18_2_1.png  \n",
            "  inflating: /content/train_crops/content/train_crops/pic_9iv0yj_1_i.png  \n",
            "  inflating: /content/train_crops/content/train_crops/pic_ku7h3ad_6_d.png  \n",
            "  inflating: /content/train_crops/content/train_crops/pic_9ifnp7_0_9.png  \n",
            "  inflating: /content/train_crops/content/train_crops/pic_u6zj_2_z.png  \n",
            "  inflating: /content/train_crops/content/train_crops/pic_xl2h_3_h.png  \n",
            "  inflating: /content/train_crops/content/train_crops/pic_aytk5n_4_5.png  \n",
            "  inflating: /content/train_crops/content/train_crops/pic_x7ru6bb_6_b.png  \n",
            "  inflating: /content/train_crops/content/train_crops/pic_8pvuo2gt_4_o.png  \n",
            "  inflating: /content/train_crops/content/train_crops/pic_rnfyi_1_n.png  \n",
            "  inflating: /content/train_crops/content/train_crops/pic_w5odl2_0_w.png  \n",
            "  inflating: /content/train_crops/content/train_crops/pic_sib35b0_3_3.png  \n",
            "  inflating: /content/train_crops/content/train_crops/pic_5djybypt_7_t.png  \n",
            "  inflating: /content/train_crops/content/train_crops/pic_8gxnsua3_5_u.png  \n",
            "  inflating: /content/train_crops/content/train_crops/pic_lfhrue7s_4_u.png  \n",
            "  inflating: /content/train_crops/content/train_crops/pic_6mi24kl4_7_4.png  \n",
            "  inflating: /content/train_crops/content/train_crops/pic_9vmybi_5_i.png  \n",
            "  inflating: /content/train_crops/content/train_crops/pic_6d97r8_1_d.png  \n",
            "  inflating: /content/train_crops/content/train_crops/pic_lxosol2_1_x.png  \n",
            "  inflating: /content/train_crops/content/train_crops/pic_2uyfank4_4_a.png  \n",
            "  inflating: /content/train_crops/content/train_crops/pic_u97uisu_1_9.png  \n",
            "  inflating: /content/train_crops/content/train_crops/pic_hzm7ceb_3_7.png  \n",
            "  inflating: /content/train_crops/content/train_crops/pic_zzp0scwb_0_z.png  \n",
            "  inflating: /content/train_crops/content/train_crops/pic_6mkxyxr3_7_3.png  \n",
            "  inflating: /content/train_crops/content/train_crops/pic_3bkk4bo5_0_3.png  \n",
            "  inflating: /content/train_crops/content/train_crops/pic_j6kwpb_0_j.png  \n",
            "  inflating: /content/train_crops/content/train_crops/pic_fps62ol_0_f.png  \n",
            "  inflating: /content/train_crops/content/train_crops/pic_m3ltlkr_1_3.png  \n",
            "  inflating: /content/train_crops/content/train_crops/pic_ni3qc_2_3.png  \n",
            "  inflating: /content/train_crops/content/train_crops/pic_wmqfq3_0_w.png  \n",
            "  inflating: /content/train_crops/content/train_crops/pic_ekmlxw_1_k.png  \n",
            "  inflating: /content/train_crops/content/train_crops/pic_zerivf_5_f.png  \n",
            "  inflating: /content/train_crops/content/train_crops/pic_6e5ax_4_x.png  \n",
            "  inflating: /content/train_crops/content/train_crops/pic_ut6vavy_5_v.png  \n",
            "  inflating: /content/train_crops/content/train_crops/pic_vc614o3_2_6.png  \n",
            "  inflating: /content/train_crops/content/train_crops/pic_2dmg5dsg_3_g.png  \n",
            "  inflating: /content/train_crops/content/train_crops/pic_kvwnawj_6_j.png  \n",
            "  inflating: /content/train_crops/content/train_crops/pic_fscaxlx1_1_s.png  \n",
            "  inflating: /content/train_crops/content/train_crops/pic_w6x9p14_3_9.png  \n",
            "  inflating: /content/train_crops/content/train_crops/pic_shx46lx_1_h.png  \n",
            "  inflating: /content/train_crops/content/train_crops/pic_ddxvnw1g_1_d.png  \n",
            "  inflating: /content/train_crops/content/train_crops/pic_wkpmlu_5_u.png  \n",
            "  inflating: /content/train_crops/content/train_crops/pic_lrp6hwgi_6_g.png  \n",
            "  inflating: /content/train_crops/content/train_crops/pic_vv6ce55y_7_y.png  \n",
            "  inflating: /content/train_crops/content/train_crops/pic_o2f7c7pz_3_7.png  \n",
            "  inflating: /content/train_crops/content/train_crops/pic_zed7yaa_1_e.png  \n",
            "  inflating: /content/train_crops/content/train_crops/pic_o3g9_0_o.png  \n",
            "  inflating: /content/train_crops/content/train_crops/pic_qspgq5_4_q.png  \n",
            "  inflating: /content/train_crops/content/train_crops/pic_oqwzt9z_4_t.png  \n",
            "  inflating: /content/train_crops/content/train_crops/pic_wv8c_3_c.png  \n",
            "  inflating: /content/train_crops/content/train_crops/pic_no6kr_4_r.png  \n",
            "  inflating: /content/train_crops/content/train_crops/pic_ihrhgrp8_3_h.png  \n",
            "  inflating: /content/train_crops/content/train_crops/pic_pehr5_2_h.png  \n",
            "  inflating: /content/train_crops/content/train_crops/pic_p1u5zre_1_1.png  \n",
            "  inflating: /content/train_crops/content/train_crops/pic_acdt_0_a.png  \n",
            "  inflating: /content/train_crops/content/train_crops/pic_lzns_1_z.png  \n",
            "  inflating: /content/train_crops/content/train_crops/pic_dhui6z_5_z.png  \n",
            "  inflating: /content/train_crops/content/train_crops/pic_tw4o486d_4_4.png  \n",
            "  inflating: /content/train_crops/content/train_crops/pic_bw4e7rmx_0_b.png  \n",
            "  inflating: /content/train_crops/content/train_crops/pic_nq1w_1_q.png  \n",
            "  inflating: /content/train_crops/content/train_crops/pic_n9h7ycve_0_n.png  \n",
            "  inflating: /content/train_crops/content/train_crops/pic_gj9b_2_9.png  \n",
            "  inflating: /content/train_crops/content/train_crops/pic_x66z_2_6.png  \n",
            "  inflating: /content/train_crops/content/train_crops/pic_xfqw_2_q.png  \n",
            "  inflating: /content/train_crops/content/train_crops/pic_xqbbh12_4_h.png  \n",
            "  inflating: /content/train_crops/content/train_crops/pic_cq19l0o4_2_1.png  \n",
            "  inflating: /content/train_crops/content/train_crops/pic_ohcwt0t_6_t.png  \n",
            "  inflating: /content/train_crops/content/train_crops/pic_el1gc_1_l.png  \n",
            "  inflating: /content/train_crops/content/train_crops/pic_trxuf_4_f.png  \n",
            "  inflating: /content/train_crops/content/train_crops/pic_h5ft1_3_t.png  \n",
            "  inflating: /content/train_crops/content/train_crops/pic_xy24ln_1_y.png  \n",
            "  inflating: /content/train_crops/content/train_crops/pic_839cg_4_g.png  \n",
            "  inflating: /content/train_crops/content/train_crops/pic_71lrca53_3_r.png  \n",
            "  inflating: /content/train_crops/content/train_crops/pic_a6fa6t1h_2_f.png  \n",
            "  inflating: /content/train_crops/content/train_crops/pic_8km3_3_3.png  \n",
            "  inflating: /content/train_crops/content/train_crops/pic_e8g8rl_2_g.png  \n",
            "  inflating: /content/train_crops/content/train_crops/pic_i3w9gzbb_0_i.png  \n",
            "  inflating: /content/train_crops/content/train_crops/pic_9v81f4_0_9.png  \n",
            "  inflating: /content/train_crops/content/train_crops/pic_1pz9_1_p.png  \n",
            "  inflating: /content/train_crops/content/train_crops/pic_z5uj_1_5.png  \n",
            "  inflating: /content/train_crops/content/train_crops/pic_1ykxw_4_w.png  \n",
            "  inflating: /content/train_crops/content/train_crops/pic_yitxafdp_2_t.png  \n",
            "  inflating: /content/train_crops/content/train_crops/pic_xu6vhx_4_h.png  \n",
            "  inflating: /content/train_crops/content/train_crops/pic_xfsitp7g_1_f.png  \n",
            "  inflating: /content/train_crops/content/train_crops/pic_4nx86y_4_6.png  \n",
            "  inflating: /content/train_crops/content/train_crops/pic_uh5j8whh_7_h.png  \n",
            "  inflating: /content/train_crops/content/train_crops/pic_hzu6_2_u.png  \n",
            "  inflating: /content/train_crops/content/train_crops/pic_kbigksx_4_k.png  \n",
            "  inflating: /content/train_crops/content/train_crops/pic_brr37j_0_b.png  \n",
            "  inflating: /content/train_crops/content/train_crops/pic_8u7rfa_4_f.png  \n",
            "  inflating: /content/train_crops/content/train_crops/pic_66ee9e6x_7_x.png  \n",
            "  inflating: /content/train_crops/content/train_crops/pic_9zrhdv_4_d.png  \n",
            "  inflating: /content/train_crops/content/train_crops/pic_w9byzz9_0_w.png  \n",
            "  inflating: /content/train_crops/content/train_crops/pic_x1rumbd_0_x.png  \n",
            "  inflating: /content/train_crops/content/train_crops/pic_wsbd0_4_0.png  \n",
            "  inflating: /content/train_crops/content/train_crops/pic_2lqhs_0_2.png  \n",
            "  inflating: /content/train_crops/content/train_crops/pic_4c0booxn_6_x.png  \n",
            "  inflating: /content/train_crops/content/train_crops/pic_o2p1v2_0_o.png  \n",
            "  inflating: /content/train_crops/content/train_crops/pic_8tqs465u_0_8.png  \n",
            "  inflating: /content/train_crops/content/train_crops/pic_g0yjl8_0_g.png  \n",
            "  inflating: /content/train_crops/content/train_crops/pic_z9ppgz1a_7_a.png  \n",
            "  inflating: /content/train_crops/content/train_crops/pic_goqazncv_1_o.png  \n",
            "  inflating: /content/train_crops/content/train_crops/pic_6m4w389_2_4.png  \n",
            "  inflating: /content/train_crops/content/train_crops/pic_cor7xj_3_7.png  \n",
            "  inflating: /content/train_crops/content/train_crops/pic_lz0q3c_1_z.png  \n",
            "  inflating: /content/train_crops/content/train_crops/pic_pr6qmxx_6_x.png  \n",
            "  inflating: /content/train_crops/content/train_crops/pic_gd8vb_2_8.png  \n",
            "  inflating: /content/train_crops/content/train_crops/pic_lm64h4j_2_6.png  \n",
            "  inflating: /content/train_crops/content/train_crops/pic_xswcwa6_1_s.png  \n",
            "  inflating: /content/train_crops/content/train_crops/pic_b1y1vl4i_6_4.png  \n",
            "  inflating: /content/train_crops/content/train_crops/pic_cbk0lufx_6_f.png  \n",
            "  inflating: /content/train_crops/content/train_crops/pic_2qf7lro_4_l.png  \n",
            "  inflating: /content/train_crops/content/train_crops/pic_nx1pmgl_3_p.png  \n",
            "  inflating: /content/train_crops/content/train_crops/pic_cor7xj_4_x.png  \n",
            "  inflating: /content/train_crops/content/train_crops/pic_82nr_0_8.png  \n",
            "  inflating: /content/train_crops/content/train_crops/pic_m3zl0jr1_3_l.png  \n",
            "  inflating: /content/train_crops/content/train_crops/pic_pduqsddb_2_u.png  \n",
            "  inflating: /content/train_crops/content/train_crops/pic_st7pvm_1_t.png  \n",
            "  inflating: /content/train_crops/content/train_crops/pic_e3f8tx_3_8.png  \n",
            "  inflating: /content/train_crops/content/train_crops/pic_wgv5c00n_3_5.png  \n",
            "  inflating: /content/train_crops/content/train_crops/pic_8yxytcnv_0_8.png  \n",
            "  inflating: /content/train_crops/content/train_crops/pic_xtginevz_4_n.png  \n",
            "  inflating: /content/train_crops/content/train_crops/pic_mnf0py46_3_0.png  \n",
            "  inflating: /content/train_crops/content/train_crops/pic_eb2t9v_1_b.png  \n",
            "  inflating: /content/train_crops/content/train_crops/pic_upho6mjh_2_h.png  \n",
            "  inflating: /content/train_crops/content/train_crops/pic_n516_0_n.png  \n",
            "  inflating: /content/train_crops/content/train_crops/pic_e5i6y_4_y.png  \n",
            "  inflating: /content/train_crops/content/train_crops/pic_kpngfi8_1_p.png  \n",
            "  inflating: /content/train_crops/content/train_crops/pic_pm3bp8s_1_m.png  \n",
            "  inflating: /content/train_crops/content/train_crops/pic_nzzj_2_z.png  \n",
            "  inflating: /content/train_crops/content/train_crops/pic_kg4294b_4_9.png  \n",
            "  inflating: /content/train_crops/content/train_crops/pic_61ndd4pn_1_1.png  \n",
            "  inflating: /content/train_crops/content/train_crops/pic_elrbc90_2_r.png  \n",
            "  inflating: /content/train_crops/content/train_crops/pic_euovy1t_2_o.png  \n",
            "  inflating: /content/train_crops/content/train_crops/pic_z2nsf2_1_2.png  \n",
            "  inflating: /content/train_crops/content/train_crops/pic_psz06ibp_5_i.png  \n",
            "  inflating: /content/train_crops/content/train_crops/pic_l9khm83y_2_k.png  \n",
            "  inflating: /content/train_crops/content/train_crops/pic_ctkmkvxd_6_x.png  \n",
            "  inflating: /content/train_crops/content/train_crops/pic_0rqvte63_0_0.png  \n",
            "  inflating: /content/train_crops/content/train_crops/pic_e17bzs5_6_5.png  \n",
            "  inflating: /content/train_crops/content/train_crops/pic_xt1r9liy_3_r.png  \n",
            "  inflating: /content/train_crops/content/train_crops/pic_pva2bu_5_u.png  \n",
            "  inflating: /content/train_crops/content/train_crops/pic_fo5e941x_4_9.png  \n",
            "  inflating: /content/train_crops/content/train_crops/pic_njj9lu9_1_j.png  \n",
            "  inflating: /content/train_crops/content/train_crops/pic_5l93heb_5_e.png  \n",
            "  inflating: /content/train_crops/content/train_crops/pic_7etjsrio_1_e.png  \n",
            "  inflating: /content/train_crops/content/train_crops/pic_3enus0_0_3.png  \n",
            "  inflating: /content/train_crops/content/train_crops/pic_r63au5_1_6.png  \n",
            "  inflating: /content/train_crops/content/train_crops/pic_f16uwb_5_b.png  \n",
            "  inflating: /content/train_crops/content/train_crops/pic_8v14kl_2_1.png  \n",
            "  inflating: /content/train_crops/content/train_crops/pic_5kjvqb8a_3_v.png  \n",
            "  inflating: /content/train_crops/content/train_crops/pic_ksaex_4_x.png  \n",
            "  inflating: /content/train_crops/content/train_crops/pic_euovy1t_0_e.png  \n",
            "  inflating: /content/train_crops/content/train_crops/pic_rws1ck8_5_k.png  \n",
            "  inflating: /content/train_crops/content/train_crops/pic_wyjlwt1r_3_l.png  \n",
            "  inflating: /content/train_crops/content/train_crops/pic_jzt2a5_2_t.png  \n",
            "  inflating: /content/train_crops/content/train_crops/pic_m034qpr_3_4.png  \n",
            "  inflating: /content/train_crops/content/train_crops/pic_upz9c_3_9.png  \n",
            "  inflating: /content/train_crops/content/train_crops/pic_kabb_1_a.png  \n",
            "  inflating: /content/train_crops/content/train_crops/pic_tvs2ncr_1_v.png  \n",
            "  inflating: /content/train_crops/content/train_crops/pic_50ecfv_5_v.png  \n",
            "  inflating: /content/train_crops/content/train_crops/pic_73oyx_3_y.png  \n",
            "  inflating: /content/train_crops/content/train_crops/pic_30u6_0_3.png  \n",
            "  inflating: /content/train_crops/content/train_crops/pic_fofpwno_2_f.png  \n",
            "  inflating: /content/train_crops/content/train_crops/pic_pjkh9_2_k.png  \n",
            "  inflating: /content/train_crops/content/train_crops/pic_mmuc_0_m.png  \n",
            "  inflating: /content/train_crops/content/train_crops/pic_g5bbk_2_b.png  \n",
            "  inflating: /content/train_crops/content/train_crops/pic_bviqwr_3_q.png  \n",
            "  inflating: /content/train_crops/content/train_crops/pic_lmn64_1_m.png  \n",
            "  inflating: /content/train_crops/content/train_crops/pic_8pvuo2gt_5_2.png  \n",
            "  inflating: /content/train_crops/content/train_crops/pic_2ne3pa37_1_n.png  \n",
            "  inflating: /content/train_crops/content/train_crops/pic_sw2z_2_2.png  \n",
            "  inflating: /content/train_crops/content/train_crops/pic_dggib_2_g.png  \n",
            "  inflating: /content/train_crops/content/train_crops/pic_mv347sde_3_4.png  \n",
            "  inflating: /content/train_crops/content/train_crops/pic_gdl63_3_6.png  \n",
            "  inflating: /content/train_crops/content/train_crops/pic_gmzmd75_5_7.png  \n",
            "  inflating: /content/train_crops/content/train_crops/pic_48zgrln_1_8.png  \n",
            "  inflating: /content/train_crops/content/train_crops/pic_32bghv_4_h.png  \n",
            "  inflating: /content/train_crops/content/train_crops/pic_v8h1ho4s_2_h.png  \n",
            "  inflating: /content/train_crops/content/train_crops/pic_fp3awbi_0_f.png  \n",
            "  inflating: /content/train_crops/content/train_crops/pic_1kcu3_3_u.png  \n",
            "  inflating: /content/train_crops/content/train_crops/pic_1tx298ao_6_a.png  \n",
            "  inflating: /content/train_crops/content/train_crops/pic_pqgwqfcl_7_l.png  \n",
            "  inflating: /content/train_crops/content/train_crops/pic_kfew_0_k.png  \n",
            "  inflating: /content/train_crops/content/train_crops/pic_rhiwa_1_h.png  \n",
            "  inflating: /content/train_crops/content/train_crops/pic_4tsy_2_s.png  \n",
            "  inflating: /content/train_crops/content/train_crops/pic_ms0k4_2_0.png  \n",
            "  inflating: /content/train_crops/content/train_crops/pic_l8vhtg_2_v.png  \n",
            "  inflating: /content/train_crops/content/train_crops/pic_2aza08n_3_a.png  \n",
            "  inflating: /content/train_crops/content/train_crops/pic_afbed1u1_7_1.png  \n",
            "  inflating: /content/train_crops/content/train_crops/pic_qaxr3d0d_4_3.png  \n",
            "  inflating: /content/train_crops/content/train_crops/pic_giz0b6_2_z.png  \n",
            "  inflating: /content/train_crops/content/train_crops/pic_8kpfkcg_1_k.png  \n",
            "  inflating: /content/train_crops/content/train_crops/pic_11a851q_5_1.png  \n",
            "  inflating: /content/train_crops/content/train_crops/pic_661dauw_2_1.png  \n",
            "  inflating: /content/train_crops/content/train_crops/pic_rl1oksy_0_r.png  \n",
            "  inflating: /content/train_crops/content/train_crops/pic_ihnip_1_h.png  \n",
            "  inflating: /content/train_crops/content/train_crops/pic_498u_2_8.png  \n",
            "  inflating: /content/train_crops/content/train_crops/pic_ffxpjtj_0_f.png  \n",
            "  inflating: /content/train_crops/content/train_crops/pic_g1leisst_2_l.png  \n",
            "  inflating: /content/train_crops/content/train_crops/pic_6igylzl_1_i.png  \n",
            "  inflating: /content/train_crops/content/train_crops/pic_dbz24514_0_d.png  \n",
            "  inflating: /content/train_crops/content/train_crops/pic_ql2ffv_2_2.png  \n",
            "  inflating: /content/train_crops/content/train_crops/pic_7681vc_0_7.png  \n",
            "  inflating: /content/train_crops/content/train_crops/pic_9md6zfbl_1_m.png  \n",
            "  inflating: /content/train_crops/content/train_crops/pic_cq19l0o4_3_9.png  \n",
            "  inflating: /content/train_crops/content/train_crops/pic_11pkel8_3_k.png  \n",
            "  inflating: /content/train_crops/content/train_crops/pic_n0e306q6_3_3.png  \n",
            "  inflating: /content/train_crops/content/train_crops/pic_hjvkl7_3_k.png  \n",
            "  inflating: /content/train_crops/content/train_crops/pic_50ecfv_3_c.png  \n",
            "  inflating: /content/train_crops/content/train_crops/pic_7iy3wvd5_3_3.png  \n",
            "  inflating: /content/train_crops/content/train_crops/pic_la19f3fw_0_l.png  \n",
            "  inflating: /content/train_crops/content/train_crops/pic_aoe2bt_1_o.png  \n",
            "  inflating: /content/train_crops/content/train_crops/pic_pjrr2i2h_0_p.png  \n",
            "  inflating: /content/train_crops/content/train_crops/pic_540hg9_2_0.png  \n",
            "  inflating: /content/train_crops/content/train_crops/pic_xy24ln_2_2.png  \n",
            "  inflating: /content/train_crops/content/train_crops/pic_co8wmn_5_n.png  \n",
            "  inflating: /content/train_crops/content/train_crops/pic_fbjil3_2_j.png  \n",
            "  inflating: /content/train_crops/content/train_crops/pic_ue3pp9h_5_9.png  \n",
            "  inflating: /content/train_crops/content/train_crops/pic_kbal3lh_4_3.png  \n",
            "  inflating: /content/train_crops/content/train_crops/pic_ov89p_2_8.png  \n",
            "  inflating: /content/train_crops/content/train_crops/pic_j33j2_2_3.png  \n",
            "  inflating: /content/train_crops/content/train_crops/pic_uj9mdsq_5_s.png  \n",
            "  inflating: /content/train_crops/content/train_crops/pic_5eno1np_6_p.png  \n",
            "  inflating: /content/train_crops/content/train_crops/pic_h24n35q_3_n.png  \n",
            "  inflating: /content/train_crops/content/train_crops/pic_hvubfc3_6_3.png  \n",
            "  inflating: /content/train_crops/content/train_crops/pic_dqorh_2_o.png  \n",
            "  inflating: /content/train_crops/content/train_crops/pic_2x6xzl9_4_z.png  \n",
            "  inflating: /content/train_crops/content/train_crops/pic_1b88c2_0_1.png  \n",
            "  inflating: /content/train_crops/content/train_crops/pic_rpo0_2_o.png  \n",
            "  inflating: /content/train_crops/content/train_crops/pic_1zafz7_5_7.png  \n",
            "  inflating: /content/train_crops/content/train_crops/pic_z6l7u0wt_7_t.png  \n",
            "  inflating: /content/train_crops/content/train_crops/pic_2fm4_1_f.png  \n",
            "  inflating: /content/train_crops/content/train_crops/pic_fhogkd_4_k.png  \n",
            "  inflating: /content/train_crops/content/train_crops/pic_yaym_1_a.png  \n",
            "  inflating: /content/train_crops/content/train_crops/pic_z7b10y_0_z.png  \n",
            "  inflating: /content/train_crops/content/train_crops/pic_qosyzz4_5_z.png  \n",
            "  inflating: /content/train_crops/content/train_crops/pic_tm364_0_t.png  \n",
            "  inflating: /content/train_crops/content/train_crops/pic_7zve_0_7.png  \n",
            "  inflating: /content/train_crops/content/train_crops/pic_dhwb79_1_h.png  \n",
            "  inflating: /content/train_crops/content/train_crops/pic_hykjadvt_2_k.png  \n",
            "  inflating: /content/train_crops/content/train_crops/pic_vqeaoy_1_q.png  \n",
            "  inflating: /content/train_crops/content/train_crops/pic_9adqs_2_d.png  \n",
            "  inflating: /content/train_crops/content/train_crops/pic_b8ceaq6_4_a.png  \n",
            "  inflating: /content/train_crops/content/train_crops/pic_5ew1_1_e.png  \n",
            "  inflating: /content/train_crops/content/train_crops/pic_dz8hoe_3_h.png  \n",
            "  inflating: /content/train_crops/content/train_crops/pic_q5bsxfwd_4_x.png  \n",
            "  inflating: /content/train_crops/content/train_crops/pic_bch3h4nf_7_f.png  \n",
            "  inflating: /content/train_crops/content/train_crops/pic_legbzjng_3_b.png  \n",
            "  inflating: /content/train_crops/content/train_crops/pic_ztotnw_5_w.png  \n",
            "  inflating: /content/train_crops/content/train_crops/pic_hxer2q_1_x.png  \n",
            "  inflating: /content/train_crops/content/train_crops/pic_vz0vgqkz_0_v.png  \n",
            "  inflating: /content/train_crops/content/train_crops/pic_b1e1kx_5_x.png  \n",
            "  inflating: /content/train_crops/content/train_crops/pic_a3lbu_2_l.png  \n",
            "  inflating: /content/train_crops/content/train_crops/pic_iscn_1_s.png  \n",
            "  inflating: /content/train_crops/content/train_crops/pic_nx7a9l_1_x.png  \n",
            "  inflating: /content/train_crops/content/train_crops/pic_me1g2_0_m.png  \n",
            "  inflating: /content/train_crops/content/train_crops/pic_8ymqw7y4_7_4.png  \n",
            "  inflating: /content/train_crops/content/train_crops/pic_fofpwno_5_n.png  \n",
            "  inflating: /content/train_crops/content/train_crops/pic_nx1pmgl_4_m.png  \n",
            "  inflating: /content/train_crops/content/train_crops/pic_7fptq5ti_0_7.png  \n",
            "  inflating: /content/train_crops/content/train_crops/pic_6k3vrtju_4_r.png  \n",
            "  inflating: /content/train_crops/content/train_crops/pic_03ykb47u_5_4.png  \n",
            "  inflating: /content/train_crops/content/train_crops/pic_9md6zfbl_7_l.png  \n",
            "  inflating: /content/train_crops/content/train_crops/pic_nxzcot7b_4_o.png  \n",
            "  inflating: /content/train_crops/content/train_crops/pic_aa9od_0_a.png  \n",
            "  inflating: /content/train_crops/content/train_crops/pic_1fai6638_2_a.png  \n",
            "  inflating: /content/train_crops/content/train_crops/pic_kuan_2_a.png  \n",
            "  inflating: /content/train_crops/content/train_crops/pic_635gat_0_6.png  \n",
            "  inflating: /content/train_crops/content/train_crops/pic_q3d6z_2_d.png  \n",
            "  inflating: /content/train_crops/content/train_crops/pic_bypwgtri_2_p.png  \n",
            "  inflating: /content/train_crops/content/train_crops/pic_uidb4r_2_d.png  \n",
            "  inflating: /content/train_crops/content/train_crops/pic_y2gv8y_3_v.png  \n",
            "  inflating: /content/train_crops/content/train_crops/pic_qi9ofz_3_o.png  \n",
            "  inflating: /content/train_crops/content/train_crops/pic_pc9r5ex_4_5.png  \n",
            "  inflating: /content/train_crops/content/train_crops/pic_cy0ql91_4_l.png  \n",
            "  inflating: /content/train_crops/content/train_crops/pic_b2oaiwmt_1_2.png  \n",
            "  inflating: /content/train_crops/content/train_crops/pic_jqpdjzm_1_q.png  \n",
            "  inflating: /content/train_crops/content/train_crops/pic_7oa5mqjb_5_q.png  \n",
            "  inflating: /content/train_crops/content/train_crops/pic_qvtxb1_4_b.png  \n",
            "  inflating: /content/train_crops/content/train_crops/pic_i0c8ehrm_1_0.png  \n",
            "  inflating: /content/train_crops/content/train_crops/pic_zae8bp_3_8.png  \n",
            "  inflating: /content/train_crops/content/train_crops/pic_t73j19vi_6_v.png  \n",
            "  inflating: /content/train_crops/content/train_crops/pic_zvbxxv27_4_x.png  \n",
            "  inflating: /content/train_crops/content/train_crops/pic_hso8n_3_8.png  \n",
            "  inflating: /content/train_crops/content/train_crops/pic_goo35_1_o.png  \n",
            "  inflating: /content/train_crops/content/train_crops/pic_t7vtt4bn_5_4.png  \n",
            "  inflating: /content/train_crops/content/train_crops/pic_z0su_3_u.png  \n",
            "  inflating: /content/train_crops/content/train_crops/pic_t61xjt_1_6.png  \n",
            "  inflating: /content/train_crops/content/train_crops/pic_rj7n63m_1_j.png  \n",
            "  inflating: /content/train_crops/content/train_crops/pic_qax34c8d_1_a.png  \n",
            "  inflating: /content/train_crops/content/train_crops/pic_8zfaxm_0_8.png  \n",
            "  inflating: /content/train_crops/content/train_crops/pic_co60h5_5_5.png  \n",
            "  inflating: /content/train_crops/content/train_crops/pic_afbed1u1_2_b.png  \n",
            "  inflating: /content/train_crops/content/train_crops/pic_atlq_1_t.png  \n",
            "  inflating: /content/train_crops/content/train_crops/pic_p8t0s5r_5_5.png  \n",
            "  inflating: /content/train_crops/content/train_crops/pic_sc3i_3_i.png  \n",
            "  inflating: /content/train_crops/content/train_crops/pic_k6hjx_2_h.png  \n",
            "  inflating: /content/train_crops/content/train_crops/pic_w46pe3ai_2_6.png  \n",
            "  inflating: /content/train_crops/content/train_crops/pic_t6xkxq0_3_k.png  \n",
            "  inflating: /content/train_crops/content/train_crops/pic_l1dgua3_0_l.png  \n",
            "  inflating: /content/train_crops/content/train_crops/pic_mi8ydm_1_i.png  \n",
            "  inflating: /content/train_crops/content/train_crops/pic_wk5eatvs_4_a.png  \n",
            "  inflating: /content/train_crops/content/train_crops/pic_25b4edqd_0_2.png  \n",
            "  inflating: /content/train_crops/content/train_crops/pic_cta8k_1_t.png  \n",
            "  inflating: /content/train_crops/content/train_crops/pic_24ubwy30_2_u.png  \n",
            "  inflating: /content/train_crops/content/train_crops/pic_jtjljkv_3_l.png  \n",
            "  inflating: /content/train_crops/content/train_crops/pic_hvfoyp9c_5_p.png  \n",
            "  inflating: /content/train_crops/content/train_crops/pic_coyj0j_3_j.png  \n",
            "  inflating: /content/train_crops/content/train_crops/pic_00hai_0_0.png  \n",
            "  inflating: /content/train_crops/content/train_crops/pic_16wrx_3_r.png  \n",
            "  inflating: /content/train_crops/content/train_crops/pic_ycgxhwu6_4_h.png  \n",
            "  inflating: /content/train_crops/content/train_crops/pic_1nov0r3o_5_r.png  \n",
            "  inflating: /content/train_crops/content/train_crops/pic_mgicqn_4_q.png  \n",
            "  inflating: /content/train_crops/content/train_crops/pic_kcoiqct_6_t.png  \n",
            "  inflating: /content/train_crops/content/train_crops/pic_kwg2j_3_2.png  \n",
            "  inflating: /content/train_crops/content/train_crops/pic_3k0n3pad_0_3.png  \n",
            "  inflating: /content/train_crops/content/train_crops/pic_rdme6xyo_0_r.png  \n",
            "  inflating: /content/train_crops/content/train_crops/pic_lr0p8j_2_0.png  \n",
            "  inflating: /content/train_crops/content/train_crops/pic_gjqy5_2_q.png  \n",
            "  inflating: /content/train_crops/content/train_crops/pic_6t632u63_0_6.png  \n",
            "  inflating: /content/train_crops/content/train_crops/pic_6829y4j_4_y.png  \n",
            "  inflating: /content/train_crops/content/train_crops/pic_56k2p_0_5.png  \n",
            "  inflating: /content/train_crops/content/train_crops/pic_486zlu_5_u.png  \n",
            "  inflating: /content/train_crops/content/train_crops/pic_y5j9_1_5.png  \n",
            "  inflating: /content/train_crops/content/train_crops/pic_5rws_0_5.png  \n",
            "  inflating: /content/train_crops/content/train_crops/pic_ionpzt7s_4_z.png  \n",
            "  inflating: /content/train_crops/content/train_crops/pic_vp2cixk8_0_v.png  \n",
            "  inflating: /content/train_crops/content/train_crops/pic_ojwru_3_r.png  \n",
            "  inflating: /content/train_crops/content/train_crops/pic_rs3326v_2_3.png  \n",
            "  inflating: /content/train_crops/content/train_crops/pic_05h9r3yv_2_h.png  \n",
            "  inflating: /content/train_crops/content/train_crops/pic_u98d03xw_5_3.png  \n",
            "  inflating: /content/train_crops/content/train_crops/pic_kvrk6gdk_4_6.png  \n",
            "  inflating: /content/train_crops/content/train_crops/pic_de9ehwc_3_e.png  \n",
            "  inflating: /content/train_crops/content/train_crops/pic_sn7ti75u_1_n.png  \n",
            "  inflating: /content/train_crops/content/train_crops/pic_1x0dmb6_6_6.png  \n",
            "  inflating: /content/train_crops/content/train_crops/pic_g3lxinu_2_l.png  \n",
            "  inflating: /content/train_crops/content/train_crops/pic_phsq1x2_0_p.png  \n",
            "  inflating: /content/train_crops/content/train_crops/pic_oy6rm_4_m.png  \n",
            "  inflating: /content/train_crops/content/train_crops/pic_3b4xj4ug_4_j.png  \n",
            "  inflating: /content/train_crops/content/train_crops/pic_5uzppk_4_p.png  \n",
            "  inflating: /content/train_crops/content/train_crops/pic_tjo15_0_t.png  \n",
            "  inflating: /content/train_crops/content/train_crops/pic_sptbhsf_4_h.png  \n",
            "  inflating: /content/train_crops/content/train_crops/pic_c05ic710_3_i.png  \n",
            "  inflating: /content/train_crops/content/train_crops/pic_0mygmeg_5_e.png  \n",
            "  inflating: /content/train_crops/content/train_crops/pic_5l0eu5c_6_c.png  \n",
            "  inflating: /content/train_crops/content/train_crops/pic_l0kea_2_k.png  \n",
            "  inflating: /content/train_crops/content/train_crops/pic_18o46t_0_1.png  \n",
            "  inflating: /content/train_crops/content/train_crops/pic_lwuvs3j_3_v.png  \n",
            "  inflating: /content/train_crops/content/train_crops/pic_502fa0wx_5_0.png  \n",
            "  inflating: /content/train_crops/content/train_crops/pic_uz2w0_3_w.png  \n",
            "  inflating: /content/train_crops/content/train_crops/pic_4vmque_3_q.png  \n",
            "  inflating: /content/train_crops/content/train_crops/pic_18tkjk_0_1.png  \n",
            "  inflating: /content/train_crops/content/train_crops/pic_9rhqhwn_3_q.png  \n",
            "  inflating: /content/train_crops/content/train_crops/pic_mlz5qa3p_6_3.png  \n",
            "  inflating: /content/train_crops/content/train_crops/pic_8t3ie_3_i.png  \n",
            "  inflating: /content/train_crops/content/train_crops/pic_hno8_3_8.png  \n",
            "  inflating: /content/train_crops/content/train_crops/pic_yuq39yx_1_u.png  \n",
            "  inflating: /content/train_crops/content/train_crops/pic_rm7xw9x9_5_9.png  \n",
            "  inflating: /content/train_crops/content/train_crops/pic_kvwnawj_2_w.png  \n",
            "  inflating: /content/train_crops/content/train_crops/pic_0duo1r_4_1.png  \n",
            "  inflating: /content/train_crops/content/train_crops/pic_wcq266_2_q.png  \n",
            "  inflating: /content/train_crops/content/train_crops/pic_wf6eq6y0_2_6.png  \n",
            "  inflating: /content/train_crops/content/train_crops/pic_tu2t09_2_2.png  \n",
            "  inflating: /content/train_crops/content/train_crops/pic_72ew8ee_4_8.png  \n",
            "  inflating: /content/train_crops/content/train_crops/pic_sn0ablc_4_b.png  \n",
            "  inflating: /content/train_crops/content/train_crops/pic_qg8xp0l6_2_8.png  \n",
            "  inflating: /content/train_crops/content/train_crops/pic_zk1kks_2_1.png  \n",
            "  inflating: /content/train_crops/content/train_crops/pic_rop00_1_o.png  \n",
            "  inflating: /content/train_crops/content/train_crops/pic_yl55oswh_2_5.png  \n",
            "  inflating: /content/train_crops/content/train_crops/pic_jiznmz_3_n.png  \n",
            "  inflating: /content/train_crops/content/train_crops/pic_s16lx_1_1.png  \n",
            "  inflating: /content/train_crops/content/train_crops/pic_ntxlneo_0_n.png  \n",
            "  inflating: /content/train_crops/content/train_crops/pic_n0664_4_4.png  \n",
            "  inflating: /content/train_crops/content/train_crops/pic_4sobk9id_1_s.png  \n",
            "  inflating: /content/train_crops/content/train_crops/pic_uh1vqeyc_2_1.png  \n",
            "  inflating: /content/train_crops/content/train_crops/pic_fks4_0_f.png  \n",
            "  inflating: /content/train_crops/content/train_crops/pic_z56ar6_1_5.png  \n",
            "  inflating: /content/train_crops/content/train_crops/pic_khtvoqfj_6_f.png  \n",
            "  inflating: /content/train_crops/content/train_crops/pic_oo7ae5_2_7.png  \n",
            "  inflating: /content/train_crops/content/train_crops/pic_m9pfk24f_5_2.png  \n",
            "  inflating: /content/train_crops/content/train_crops/pic_jrbfr5_4_r.png  \n",
            "  inflating: /content/train_crops/content/train_crops/pic_9dfu3gfs_6_f.png  \n",
            "  inflating: /content/train_crops/content/train_crops/pic_acmqb_1_c.png  \n",
            "  inflating: /content/train_crops/content/train_crops/pic_adhti9b_5_9.png  \n",
            "  inflating: /content/train_crops/content/train_crops/pic_6rw7x_3_7.png  \n",
            "  inflating: /content/train_crops/content/train_crops/pic_ki0y0f_5_f.png  \n",
            "  inflating: /content/train_crops/content/train_crops/pic_nxu6e_2_u.png  \n",
            "  inflating: /content/train_crops/content/train_crops/pic_41mq2jn3_3_q.png  \n",
            "  inflating: /content/train_crops/content/train_crops/pic_8ka7q7_5_7.png  \n",
            "  inflating: /content/train_crops/content/train_crops/pic_pk7d_3_d.png  \n",
            "  inflating: /content/train_crops/content/train_crops/pic_g0h66u_3_6.png  \n",
            "  inflating: /content/train_crops/content/train_crops/pic_klprf4y_5_4.png  \n",
            "  inflating: /content/train_crops/content/train_crops/pic_0h91fg_2_9.png  \n",
            "  inflating: /content/train_crops/content/train_crops/pic_pooqawbn_2_o.png  \n",
            "  inflating: /content/train_crops/content/train_crops/pic_s3nxf_4_f.png  \n",
            "  inflating: /content/train_crops/content/train_crops/pic_l5r07k_0_l.png  \n",
            "  inflating: /content/train_crops/content/train_crops/pic_pm3bp8s_0_p.png  \n",
            "  inflating: /content/train_crops/content/train_crops/pic_1fuhmmn_6_n.png  \n",
            "  inflating: /content/train_crops/content/train_crops/pic_i3fdkmnz_7_z.png  \n",
            "  inflating: /content/train_crops/content/train_crops/pic_he1xf1j_3_x.png  \n",
            "  inflating: /content/train_crops/content/train_crops/pic_wmw9umzq_2_w.png  \n",
            "  inflating: /content/train_crops/content/train_crops/pic_grjdtf11_7_1.png  \n",
            "  inflating: /content/train_crops/content/train_crops/pic_yntt5_3_t.png  \n",
            "  inflating: /content/train_crops/content/train_crops/pic_5idgdn_4_d.png  \n",
            "  inflating: /content/train_crops/content/train_crops/pic_wsdyfzc_4_f.png  \n",
            "  inflating: /content/train_crops/content/train_crops/pic_12arnksa_3_r.png  \n",
            "  inflating: /content/train_crops/content/train_crops/pic_9sa5vlj_5_l.png  \n",
            "  inflating: /content/train_crops/content/train_crops/pic_k3q5832h_3_5.png  \n",
            "  inflating: /content/train_crops/content/train_crops/pic_vipst6u8_6_u.png  \n",
            "  inflating: /content/train_crops/content/train_crops/pic_l48fphev_2_8.png  \n",
            "  inflating: /content/train_crops/content/train_crops/pic_0grcaqy_1_g.png  \n",
            "  inflating: /content/train_crops/content/train_crops/pic_pjkm_0_p.png  \n",
            "  inflating: /content/train_crops/content/train_crops/pic_8klojx1g_6_1.png  \n",
            "  inflating: /content/train_crops/content/train_crops/pic_91j4y9ci_1_1.png  \n",
            "  inflating: /content/train_crops/content/train_crops/pic_zke6m379_6_7.png  \n",
            "  inflating: /content/train_crops/content/train_crops/pic_0gwk_3_k.png  \n",
            "  inflating: /content/train_crops/content/train_crops/pic_ouelm49_2_e.png  \n",
            "  inflating: /content/train_crops/content/train_crops/pic_pabr_0_p.png  \n",
            "  inflating: /content/train_crops/content/train_crops/pic_gz58o9s_5_9.png  \n",
            "  inflating: /content/train_crops/content/train_crops/pic_iclp_2_l.png  \n",
            "  inflating: /content/train_crops/content/train_crops/pic_4t8xmxr7_6_r.png  \n",
            "  inflating: /content/train_crops/content/train_crops/pic_dkquuyly_6_l.png  \n",
            "  inflating: /content/train_crops/content/train_crops/pic_q9k0po8_3_0.png  \n",
            "  inflating: /content/train_crops/content/train_crops/pic_g5aftz_0_g.png  \n",
            "  inflating: /content/train_crops/content/train_crops/pic_qq3g_3_g.png  \n",
            "  inflating: /content/train_crops/content/train_crops/pic_r6jzb_3_z.png  \n",
            "  inflating: /content/train_crops/content/train_crops/pic_d8wo4_3_o.png  \n",
            "  inflating: /content/train_crops/content/train_crops/pic_bpkrwutf_6_t.png  \n",
            "  inflating: /content/train_crops/content/train_crops/pic_96b7kz4p_5_z.png  \n",
            "  inflating: /content/train_crops/content/train_crops/pic_x1bw_3_w.png  \n",
            "  inflating: /content/train_crops/content/train_crops/pic_8l3lyuq8_0_8.png  \n",
            "  inflating: /content/train_crops/content/train_crops/pic_em48p9cj_4_p.png  \n",
            "  inflating: /content/train_crops/content/train_crops/pic_kxhz_2_h.png  \n",
            "  inflating: /content/train_crops/content/train_crops/pic_777tp_1_7.png  \n",
            "  inflating: /content/train_crops/content/train_crops/pic_ynoc_2_o.png  \n",
            "  inflating: /content/train_crops/content/train_crops/pic_lmz28qs_3_2.png  \n",
            "  inflating: /content/train_crops/content/train_crops/pic_78hab06_5_0.png  \n",
            "  inflating: /content/train_crops/content/train_crops/pic_7mjva84u_2_j.png  \n",
            "  inflating: /content/train_crops/content/train_crops/pic_ciyrfilw_2_y.png  \n",
            "  inflating: /content/train_crops/content/train_crops/pic_nrw3o7m_4_o.png  \n",
            "  inflating: /content/train_crops/content/train_crops/pic_q0pv_0_q.png  \n",
            "  inflating: /content/train_crops/content/train_crops/pic_efs86t_2_s.png  \n",
            "  inflating: /content/train_crops/content/train_crops/pic_mdm8bay_0_m.png  \n",
            "  inflating: /content/train_crops/content/train_crops/pic_48h7_3_7.png  \n",
            "  inflating: /content/train_crops/content/train_crops/pic_9glfwi_2_l.png  \n",
            "  inflating: /content/train_crops/content/train_crops/pic_yur49_0_y.png  \n",
            "  inflating: /content/train_crops/content/train_crops/pic_vtw6ql_4_q.png  \n",
            "  inflating: /content/train_crops/content/train_crops/pic_992vu66_1_9.png  \n",
            "  inflating: /content/train_crops/content/train_crops/pic_33200cco_4_0.png  \n",
            "  inflating: /content/train_crops/content/train_crops/pic_aswhu3_1_s.png  \n",
            "  inflating: /content/train_crops/content/train_crops/pic_bc4x_1_c.png  \n",
            "  inflating: /content/train_crops/content/train_crops/pic_s306ymq_5_m.png  \n",
            "  inflating: /content/train_crops/content/train_crops/pic_v6gyn_0_v.png  \n",
            "  inflating: /content/train_crops/content/train_crops/pic_k28xw4_4_w.png  \n",
            "  inflating: /content/train_crops/content/train_crops/pic_ph54m3_3_4.png  \n",
            "  inflating: /content/train_crops/content/train_crops/pic_oelp_0_o.png  \n",
            "  inflating: /content/train_crops/content/train_crops/pic_13csbj_2_c.png  \n",
            "  inflating: /content/train_crops/content/train_crops/pic_dmlwbgke_0_d.png  \n",
            "  inflating: /content/train_crops/content/train_crops/pic_03ykb47u_7_u.png  \n",
            "  inflating: /content/train_crops/content/train_crops/pic_os4jptwv_6_w.png  \n",
            "  inflating: /content/train_crops/content/train_crops/pic_bzeo6l_1_z.png  \n",
            "  inflating: /content/train_crops/content/train_crops/pic_vc614o3_0_v.png  \n",
            "  inflating: /content/train_crops/content/train_crops/pic_dq8mbf7_2_8.png  \n",
            "  inflating: /content/train_crops/content/train_crops/pic_gr99ma_4_m.png  \n",
            "  inflating: /content/train_crops/content/train_crops/pic_yd1xjrq_2_1.png  \n",
            "  inflating: /content/train_crops/content/train_crops/pic_p1i6_3_6.png  \n",
            "  inflating: /content/train_crops/content/train_crops/pic_muwfss1_2_w.png  \n",
            "  inflating: /content/train_crops/content/train_crops/pic_goo35_3_3.png  \n",
            "  inflating: /content/train_crops/content/train_crops/pic_4xv47fsj_0_4.png  \n",
            "  inflating: /content/train_crops/content/train_crops/pic_pduqsddb_1_d.png  \n",
            "  inflating: /content/train_crops/content/train_crops/pic_07yi7b_2_y.png  \n",
            "  inflating: /content/train_crops/content/train_crops/pic_qv0u8p_5_p.png  \n",
            "  inflating: /content/train_crops/content/train_crops/pic_24ubwy30_7_0.png  \n",
            "  inflating: /content/train_crops/content/train_crops/pic_9hkp78js_5_8.png  \n",
            "  inflating: /content/train_crops/content/train_crops/pic_evwcdd2_1_v.png  \n",
            "  inflating: /content/train_crops/content/train_crops/pic_6rq37t7w_1_r.png  \n",
            "  inflating: /content/train_crops/content/train_crops/pic_cxl8dhh6_1_x.png  \n",
            "  inflating: /content/train_crops/content/train_crops/pic_jlgsevt_6_t.png  \n",
            "  inflating: /content/train_crops/content/train_crops/pic_mc8h13_4_1.png  \n",
            "  inflating: /content/train_crops/content/train_crops/pic_hvr23pm_5_p.png  \n",
            "  inflating: /content/train_crops/content/train_crops/pic_3gdeztl7_6_l.png  \n",
            "  inflating: /content/train_crops/content/train_crops/pic_n1r9hlf_6_f.png  \n",
            "  inflating: /content/train_crops/content/train_crops/pic_7z6jhw1_5_w.png  \n",
            "  inflating: /content/train_crops/content/train_crops/pic_6bcekn_2_c.png  \n",
            "  inflating: /content/train_crops/content/train_crops/pic_oad85uaz_5_u.png  \n",
            "  inflating: /content/train_crops/content/train_crops/pic_r1ej_0_r.png  \n",
            "  inflating: /content/train_crops/content/train_crops/pic_mxr8db8w_4_d.png  \n",
            "  inflating: /content/train_crops/content/train_crops/pic_p23wl_2_3.png  \n",
            "  inflating: /content/train_crops/content/train_crops/pic_lmmx8pg_0_l.png  \n",
            "  inflating: /content/train_crops/content/train_crops/pic_juvjtop1_6_p.png  \n",
            "  inflating: /content/train_crops/content/train_crops/pic_ypjw_2_j.png  \n",
            "  inflating: /content/train_crops/content/train_crops/pic_l3b40vy_4_0.png  \n",
            "  inflating: /content/train_crops/content/train_crops/pic_76sp8v_2_s.png  \n",
            "  inflating: /content/train_crops/content/train_crops/pic_1a3ctuo_6_o.png  \n",
            "  inflating: /content/train_crops/content/train_crops/pic_hok7ykh_0_h.png  \n",
            "  inflating: /content/train_crops/content/train_crops/pic_541t132k_0_5.png  \n",
            "  inflating: /content/train_crops/content/train_crops/pic_etm4sj05_3_4.png  \n",
            "  inflating: /content/train_crops/content/train_crops/pic_tddpgw_5_w.png  \n",
            "  inflating: /content/train_crops/content/train_crops/pic_1yyo_2_y.png  \n",
            "  inflating: /content/train_crops/content/train_crops/pic_jgcnz3gu_0_j.png  \n",
            "  inflating: /content/train_crops/content/train_crops/pic_ss0xz6aw_5_6.png  \n",
            "  inflating: /content/train_crops/content/train_crops/pic_erf91d_3_9.png  \n",
            "  inflating: /content/train_crops/content/train_crops/pic_i515bt_5_t.png  \n",
            "  inflating: /content/train_crops/content/train_crops/pic_7jk75q8_0_7.png  \n",
            "  inflating: /content/train_crops/content/train_crops/pic_73wy5y_1_3.png  \n",
            "  inflating: /content/train_crops/content/train_crops/pic_kv7mv1q_2_7.png  \n",
            "  inflating: /content/train_crops/content/train_crops/pic_q9k0po8_6_8.png  \n",
            "  inflating: /content/train_crops/content/train_crops/pic_lz6u_2_6.png  \n",
            "  inflating: /content/train_crops/content/train_crops/pic_adm5_0_a.png  \n",
            "  inflating: /content/train_crops/content/train_crops/pic_rw9mdbn8_2_9.png  \n",
            "  inflating: /content/train_crops/content/train_crops/pic_bd2q7_0_b.png  \n",
            "  inflating: /content/train_crops/content/train_crops/pic_lbi37_1_b.png  \n",
            "  inflating: /content/train_crops/content/train_crops/pic_atm5mjuh_2_m.png  \n",
            "  inflating: /content/train_crops/content/train_crops/pic_58pf2_3_f.png  \n",
            "  inflating: /content/train_crops/content/train_crops/pic_v31oa14b_4_a.png  \n",
            "  inflating: /content/train_crops/content/train_crops/pic_mcd154o_1_c.png  \n",
            "  inflating: /content/train_crops/content/train_crops/pic_9ndb2_1_n.png  \n",
            "  inflating: /content/train_crops/content/train_crops/pic_3v5rt7_0_3.png  \n",
            "  inflating: /content/train_crops/content/train_crops/pic_5xyo_2_y.png  \n",
            "  inflating: /content/train_crops/content/train_crops/pic_b6xgt_3_g.png  \n",
            "  inflating: /content/train_crops/content/train_crops/pic_hob9yz_4_y.png  \n",
            "  inflating: /content/train_crops/content/train_crops/pic_fero6a4y_0_f.png  \n",
            "  inflating: /content/train_crops/content/train_crops/pic_e7ysg8q_4_g.png  \n",
            "  inflating: /content/train_crops/content/train_crops/pic_h3n1oo_2_n.png  \n",
            "  inflating: /content/train_crops/content/train_crops/pic_w21qu1qv_7_v.png  \n",
            "  inflating: /content/train_crops/content/train_crops/pic_y9ii18yh_5_8.png  \n",
            "  inflating: /content/train_crops/content/train_crops/pic_bfeui3n4_6_n.png  \n",
            "  inflating: /content/train_crops/content/train_crops/pic_9h6uwo_1_h.png  \n",
            "  inflating: /content/train_crops/content/train_crops/pic_c2h080u_2_h.png  \n",
            "  inflating: /content/train_crops/content/train_crops/pic_xnvxnoq_0_x.png  \n",
            "  inflating: /content/train_crops/content/train_crops/pic_d7uv_2_u.png  \n",
            "  inflating: /content/train_crops/content/train_crops/pic_3z9i5j0s_0_3.png  \n",
            "  inflating: /content/train_crops/content/train_crops/pic_r3jwhux_6_x.png  \n",
            "  inflating: /content/train_crops/content/train_crops/pic_d6cx69au_7_u.png  \n",
            "  inflating: /content/train_crops/content/train_crops/pic_kowwt0z_2_w.png  \n",
            "  inflating: /content/train_crops/content/train_crops/pic_6lwi4dn_5_d.png  \n",
            "  inflating: /content/train_crops/content/train_crops/pic_d1g7lom_1_1.png  \n",
            "  inflating: /content/train_crops/content/train_crops/pic_gba1p_0_g.png  \n",
            "  inflating: /content/train_crops/content/train_crops/pic_omvz3e_5_e.png  \n",
            "  inflating: /content/train_crops/content/train_crops/pic_viplu_1_i.png  \n",
            "  inflating: /content/train_crops/content/train_crops/pic_fx2itijx_7_x.png  \n",
            "  inflating: /content/train_crops/content/train_crops/pic_dk2z9_4_9.png  \n",
            "  inflating: /content/train_crops/content/train_crops/pic_64wwh3j_4_h.png  \n",
            "  inflating: /content/train_crops/content/train_crops/pic_fik7e2_2_k.png  \n",
            "  inflating: /content/train_crops/content/train_crops/pic_0xxukpj_0_0.png  \n",
            "  inflating: /content/train_crops/content/train_crops/pic_6bynqp6_2_y.png  \n",
            "  inflating: /content/train_crops/content/train_crops/pic_jjlqvh_4_v.png  \n",
            "  inflating: /content/train_crops/content/train_crops/pic_360zgwm_3_z.png  \n",
            "  inflating: /content/train_crops/content/train_crops/pic_5rbfpwt_1_r.png  \n",
            "  inflating: /content/train_crops/content/train_crops/pic_bmwu_1_m.png  \n",
            "  inflating: /content/train_crops/content/train_crops/pic_ap8m8pxc_7_c.png  \n",
            "  inflating: /content/train_crops/content/train_crops/pic_vlwit1ft_3_i.png  \n",
            "  inflating: /content/train_crops/content/train_crops/pic_pzdnpx_5_x.png  \n",
            "  inflating: /content/train_crops/content/train_crops/pic_y8bsq_0_y.png  \n",
            "  inflating: /content/train_crops/content/train_crops/pic_8shgmq_0_8.png  \n",
            "  inflating: /content/train_crops/content/train_crops/pic_vl1ojscd_1_l.png  \n",
            "  inflating: /content/train_crops/content/train_crops/pic_8ss53o_1_s.png  \n",
            "  inflating: /content/train_crops/content/train_crops/pic_x2hgsu_3_g.png  \n",
            "  inflating: /content/train_crops/content/train_crops/pic_s4u2_2_u.png  \n",
            "  inflating: /content/train_crops/content/train_crops/pic_8j80ia9s_1_j.png  \n",
            "  inflating: /content/train_crops/content/train_crops/pic_bsu2b_0_b.png  \n",
            "  inflating: /content/train_crops/content/train_crops/pic_avcpjzq_5_z.png  \n",
            "  inflating: /content/train_crops/content/train_crops/pic_ztbevz_1_t.png  \n",
            "  inflating: /content/train_crops/content/train_crops/pic_5dtoxa_5_a.png  \n",
            "  inflating: /content/train_crops/content/train_crops/pic_dq8mbf7_0_d.png  \n",
            "  inflating: /content/train_crops/content/train_crops/pic_t5yq0_4_0.png  \n",
            "  inflating: /content/train_crops/content/train_crops/pic_qaxmfek_3_m.png  \n",
            "  inflating: /content/train_crops/content/train_crops/pic_lc5q02m_2_5.png  \n",
            "  inflating: /content/train_crops/content/train_crops/pic_rz3qtcx0_3_q.png  \n",
            "  inflating: /content/train_crops/content/train_crops/pic_ejnp9q2_3_p.png  \n",
            "  inflating: /content/train_crops/content/train_crops/pic_u17jnl7_2_7.png  \n",
            "  inflating: /content/train_crops/content/train_crops/pic_dba526yt_6_y.png  \n",
            "  inflating: /content/train_crops/content/train_crops/pic_pchmcgu3_6_u.png  \n",
            "  inflating: /content/train_crops/content/train_crops/pic_ib5zxrt_6_t.png  \n",
            "  inflating: /content/train_crops/content/train_crops/pic_me118z_2_1.png  \n",
            "  inflating: /content/train_crops/content/train_crops/pic_p58tv0_0_p.png  \n",
            "  inflating: /content/train_crops/content/train_crops/pic_ok7q_0_o.png  \n",
            "  inflating: /content/train_crops/content/train_crops/pic_sq29f_0_s.png  \n",
            "  inflating: /content/train_crops/content/train_crops/pic_glp55_0_g.png  \n",
            "  inflating: /content/train_crops/content/train_crops/pic_tj3jq3_0_t.png  \n",
            "  inflating: /content/train_crops/content/train_crops/pic_4mlcnn0_5_n.png  \n",
            "  inflating: /content/train_crops/content/train_crops/pic_wb8qjn2_2_8.png  \n",
            "  inflating: /content/train_crops/content/train_crops/pic_ko84_2_8.png  \n",
            "  inflating: /content/train_crops/content/train_crops/pic_smqoga_0_s.png  \n",
            "  inflating: /content/train_crops/content/train_crops/pic_ajw67_0_a.png  \n",
            "  inflating: /content/train_crops/content/train_crops/pic_ylby0t0a_3_y.png  \n",
            "  inflating: /content/train_crops/content/train_crops/pic_ej0ss39_5_3.png  \n",
            "  inflating: /content/train_crops/content/train_crops/pic_iy59f27_2_5.png  \n",
            "  inflating: /content/train_crops/content/train_crops/pic_bv7ese_4_s.png  \n",
            "  inflating: /content/train_crops/content/train_crops/pic_l1dgua3_4_u.png  \n",
            "  inflating: /content/train_crops/content/train_crops/pic_vva3j2t_0_v.png  \n",
            "  inflating: /content/train_crops/content/train_crops/pic_0xxukpj_1_x.png  \n",
            "  inflating: /content/train_crops/content/train_crops/pic_ivd5_0_i.png  \n",
            "  inflating: /content/train_crops/content/train_crops/pic_wmuiy7bh_4_y.png  \n",
            "  inflating: /content/train_crops/content/train_crops/pic_wnef2p_0_w.png  \n",
            "  inflating: /content/train_crops/content/train_crops/pic_cyy7_0_c.png  \n",
            "  inflating: /content/train_crops/content/train_crops/pic_e7f2zg_0_e.png  \n",
            "  inflating: /content/train_crops/content/train_crops/pic_echyb8_0_e.png  \n",
            "  inflating: /content/train_crops/content/train_crops/pic_zplq5w_4_5.png  \n",
            "  inflating: /content/train_crops/content/train_crops/pic_a1j5aj12_3_5.png  \n",
            "  inflating: /content/train_crops/content/train_crops/pic_kfl9xm_5_m.png  \n",
            "  inflating: /content/train_crops/content/train_crops/pic_n59p_1_5.png  \n",
            "  inflating: /content/train_crops/content/train_crops/pic_ai935_2_9.png  \n",
            "  inflating: /content/train_crops/content/train_crops/pic_99xgc9m2_0_9.png  \n",
            "  inflating: /content/train_crops/content/train_crops/pic_sqx10o_3_1.png  \n",
            "  inflating: /content/train_crops/content/train_crops/pic_ac7zwe_2_7.png  \n",
            "  inflating: /content/train_crops/content/train_crops/pic_6dc54h4_1_d.png  \n",
            "  inflating: /content/train_crops/content/train_crops/pic_qowp1rp_4_1.png  \n",
            "  inflating: /content/train_crops/content/train_crops/pic_wb8qjn2_3_q.png  \n",
            "  inflating: /content/train_crops/content/train_crops/pic_7ji7l3v9_2_i.png  \n",
            "  inflating: /content/train_crops/content/train_crops/pic_k7wccbk_1_7.png  \n",
            "  inflating: /content/train_crops/content/train_crops/pic_tjqy_1_j.png  \n",
            "  inflating: /content/train_crops/content/train_crops/pic_7a5xs7_1_a.png  \n",
            "  inflating: /content/train_crops/content/train_crops/pic_r78by8_5_8.png  \n",
            "  inflating: /content/train_crops/content/train_crops/pic_12x8o_3_8.png  \n",
            "  inflating: /content/train_crops/content/train_crops/pic_e3aguc4_6_4.png  \n",
            "  inflating: /content/train_crops/content/train_crops/pic_7noi_3_i.png  \n",
            "  inflating: /content/train_crops/content/train_crops/pic_z2cah9_1_2.png  \n",
            "  inflating: /content/train_crops/content/train_crops/pic_e3u6ra04_3_6.png  \n",
            "  inflating: /content/train_crops/content/train_crops/pic_72ew8ee_3_w.png  \n",
            "  inflating: /content/train_crops/content/train_crops/pic_goqazncv_4_z.png  \n",
            "  inflating: /content/train_crops/content/train_crops/pic_b5ry1z_4_1.png  \n",
            "  inflating: /content/train_crops/content/train_crops/pic_va10u75b_1_a.png  \n",
            "  inflating: /content/train_crops/content/train_crops/pic_gdrbjx_3_b.png  \n",
            "  inflating: /content/train_crops/content/train_crops/pic_b5wsob9g_2_w.png  \n",
            "  inflating: /content/train_crops/content/train_crops/pic_1hpv_3_v.png  \n",
            "  inflating: /content/train_crops/content/train_crops/pic_f39ucxi_3_u.png  \n",
            "  inflating: /content/train_crops/content/train_crops/pic_vts3c8_2_s.png  \n",
            "  inflating: /content/train_crops/content/train_crops/pic_jhom6d_4_6.png  \n",
            "  inflating: /content/train_crops/content/train_crops/pic_irwf6_2_w.png  \n",
            "  inflating: /content/train_crops/content/train_crops/pic_oh6ur2h_0_o.png  \n",
            "  inflating: /content/train_crops/content/train_crops/pic_hwub_0_h.png  \n",
            "  inflating: /content/train_crops/content/train_crops/pic_31kz_1_1.png  \n",
            "  inflating: /content/train_crops/content/train_crops/pic_vp7qm_2_7.png  \n",
            "  inflating: /content/train_crops/content/train_crops/pic_hrp7pbps_5_b.png  \n",
            "  inflating: /content/train_crops/content/train_crops/pic_lasubcf_0_l.png  \n",
            "  inflating: /content/train_crops/content/train_crops/pic_aw30_2_3.png  \n",
            "  inflating: /content/train_crops/content/train_crops/pic_jq9gjytn_5_y.png  \n",
            "  inflating: /content/train_crops/content/train_crops/pic_3pzrpt_4_p.png  \n",
            "  inflating: /content/train_crops/content/train_crops/pic_jp3sy2mr_2_3.png  \n",
            "  inflating: /content/train_crops/content/train_crops/pic_9biwsa2_6_2.png  \n",
            "  inflating: /content/train_crops/content/train_crops/pic_0qtgup_2_t.png  \n",
            "  inflating: /content/train_crops/content/train_crops/pic_gs6zyl_2_6.png  \n",
            "  inflating: /content/train_crops/content/train_crops/pic_hzo8s_1_z.png  \n",
            "  inflating: /content/train_crops/content/train_crops/pic_xdxmvjhi_6_h.png  \n",
            "  inflating: /content/train_crops/content/train_crops/pic_etgun_3_u.png  \n",
            "  inflating: /content/train_crops/content/train_crops/pic_phsq1x2_1_h.png  \n",
            "  inflating: /content/train_crops/content/train_crops/pic_zptcs0_1_p.png  \n",
            "  inflating: /content/train_crops/content/train_crops/pic_y5h7lmio_0_y.png  \n",
            "  inflating: /content/train_crops/content/train_crops/pic_watkuvs_0_w.png  \n",
            "  inflating: /content/train_crops/content/train_crops/pic_vrnjiy_1_r.png  \n",
            "  inflating: /content/train_crops/content/train_crops/pic_9qjqi_2_j.png  \n",
            "  inflating: /content/train_crops/content/train_crops/pic_84we_3_e.png  \n",
            "  inflating: /content/train_crops/content/train_crops/pic_fw1h_2_1.png  \n",
            "  inflating: /content/train_crops/content/train_crops/pic_aiqfk_1_i.png  \n",
            "  inflating: /content/train_crops/content/train_crops/pic_bd4lx3u8_6_u.png  \n",
            "  inflating: /content/train_crops/content/train_crops/pic_0wwhwf_2_w.png  \n",
            "  inflating: /content/train_crops/content/train_crops/pic_botssg78_5_g.png  \n",
            "  inflating: /content/train_crops/content/train_crops/pic_wlwyieyt_2_w.png  \n",
            "  inflating: /content/train_crops/content/train_crops/pic_ibw1kff_1_b.png  \n",
            "  inflating: /content/train_crops/content/train_crops/pic_q2el_1_2.png  \n",
            "  inflating: /content/train_crops/content/train_crops/pic_qnth9nig_2_t.png  \n",
            "  inflating: /content/train_crops/content/train_crops/pic_zxc3ac_0_z.png  \n",
            "  inflating: /content/train_crops/content/train_crops/pic_jlu7wm_4_w.png  \n",
            "  inflating: /content/train_crops/content/train_crops/pic_6bpz8gd_6_d.png  \n",
            "  inflating: /content/train_crops/content/train_crops/pic_w8j3zv_3_3.png  \n",
            "  inflating: /content/train_crops/content/train_crops/pic_4rso377_0_4.png  \n",
            "  inflating: /content/train_crops/content/train_crops/pic_ai935_1_i.png  \n",
            "  inflating: /content/train_crops/content/train_crops/pic_cbqz_2_q.png  \n",
            "  inflating: /content/train_crops/content/train_crops/pic_je7onqu_3_o.png  \n",
            "  inflating: /content/train_crops/content/train_crops/pic_ienvzz5b_4_z.png  \n",
            "  inflating: /content/train_crops/content/train_crops/pic_hi8nc7mm_6_m.png  \n",
            "  inflating: /content/train_crops/content/train_crops/pic_zr5o_3_o.png  \n",
            "  inflating: /content/train_crops/content/train_crops/pic_hn0mox_4_o.png  \n",
            "  inflating: /content/train_crops/content/train_crops/pic_hn6tv_1_n.png  \n",
            "  inflating: /content/train_crops/content/train_crops/pic_ygjz3jc_0_y.png  \n",
            "  inflating: /content/train_crops/content/train_crops/pic_ztbevz_4_v.png  \n",
            "  inflating: /content/train_crops/content/train_crops/pic_8z46r6r_3_6.png  \n",
            "  inflating: /content/train_crops/content/train_crops/pic_y0cq_2_c.png  \n",
            "  inflating: /content/train_crops/content/train_crops/pic_eekh030_5_3.png  \n",
            "  inflating: /content/train_crops/content/train_crops/pic_2f48g_0_2.png  \n",
            "  inflating: /content/train_crops/content/train_crops/pic_nlt9xg2m_1_l.png  \n",
            "  inflating: /content/train_crops/content/train_crops/pic_9173l_4_l.png  \n",
            "  inflating: /content/train_crops/content/train_crops/pic_hfkiyki_0_h.png  \n",
            "  inflating: /content/train_crops/content/train_crops/pic_n1sr52_5_2.png  \n",
            "  inflating: /content/train_crops/content/train_crops/pic_3hqll_3_l.png  \n",
            "  inflating: /content/train_crops/content/train_crops/pic_zptcs0_4_s.png  \n",
            "  inflating: /content/train_crops/content/train_crops/pic_70j9cu_4_c.png  \n",
            "  inflating: /content/train_crops/content/train_crops/pic_x0946l0_0_x.png  \n",
            "  inflating: /content/train_crops/content/train_crops/pic_jagt_1_a.png  \n",
            "  inflating: /content/train_crops/content/train_crops/pic_y07ce_2_7.png  \n",
            "  inflating: /content/train_crops/content/train_crops/pic_w0j0y_3_0.png  \n",
            "  inflating: /content/train_crops/content/train_crops/pic_co8zx_3_z.png  \n",
            "  inflating: /content/train_crops/content/train_crops/pic_uj9mdsq_2_9.png  \n",
            "  inflating: /content/train_crops/content/train_crops/pic_vkey_2_e.png  \n",
            "  inflating: /content/train_crops/content/train_crops/pic_f5v050lm_7_m.png  \n",
            "  inflating: /content/train_crops/content/train_crops/pic_7fs5e0vv_7_v.png  \n",
            "  inflating: /content/train_crops/content/train_crops/pic_h3b9s9k_6_k.png  \n",
            "  inflating: /content/train_crops/content/train_crops/pic_hi21amq_3_1.png  \n",
            "  inflating: /content/train_crops/content/train_crops/pic_sbcl_3_l.png  \n",
            "  inflating: /content/train_crops/content/train_crops/pic_ids2md3_5_d.png  \n",
            "  inflating: /content/train_crops/content/train_crops/pic_k3rdv6w_2_r.png  \n",
            "  inflating: /content/train_crops/content/train_crops/pic_7oamizja_2_a.png  \n",
            "  inflating: /content/train_crops/content/train_crops/pic_5uzppk_2_z.png  \n",
            "  inflating: /content/train_crops/content/train_crops/pic_vcpsl_4_l.png  \n",
            "  inflating: /content/train_crops/content/train_crops/pic_pu0re1_1_u.png  \n",
            "  inflating: /content/train_crops/content/train_crops/pic_mnmq9q_3_q.png  \n",
            "  inflating: /content/train_crops/content/train_crops/pic_q08z2s8s_3_z.png  \n",
            "  inflating: /content/train_crops/content/train_crops/pic_9ee3id_2_e.png  \n",
            "  inflating: /content/train_crops/content/train_crops/pic_no9045_3_0.png  \n",
            "  inflating: /content/train_crops/content/train_crops/pic_h8izw79_0_h.png  \n",
            "  inflating: /content/train_crops/content/train_crops/pic_g6r8p_4_p.png  \n",
            "  inflating: /content/train_crops/content/train_crops/pic_jpye_3_e.png  \n",
            "  inflating: /content/train_crops/content/train_crops/pic_zael6_2_e.png  \n",
            "  inflating: /content/train_crops/content/train_crops/pic_xjg19l_5_l.png  \n",
            "  inflating: /content/train_crops/content/train_crops/pic_k89socw2_4_o.png  \n",
            "  inflating: /content/train_crops/content/train_crops/pic_3um65ck5_1_u.png  \n",
            "  inflating: /content/train_crops/content/train_crops/pic_ghgxhi_4_h.png  \n",
            "  inflating: /content/train_crops/content/train_crops/pic_ls3ghz7_6_7.png  \n",
            "  inflating: /content/train_crops/content/train_crops/pic_tk02_0_t.png  \n",
            "  inflating: /content/train_crops/content/train_crops/pic_5chg5o_5_o.png  \n",
            "  inflating: /content/train_crops/content/train_crops/pic_4o3gypfs_0_4.png  \n",
            "  inflating: /content/train_crops/content/train_crops/pic_bnme_0_b.png  \n",
            "  inflating: /content/train_crops/content/train_crops/pic_crp53j_0_c.png  \n",
            "  inflating: /content/train_crops/content/train_crops/pic_uj06u1b_3_6.png  \n",
            "  inflating: /content/train_crops/content/train_crops/pic_boxg6tc8_4_6.png  \n",
            "  inflating: /content/train_crops/content/train_crops/pic_k36tx522_2_6.png  \n",
            "  inflating: /content/train_crops/content/train_crops/pic_9adqs_3_q.png  \n",
            "  inflating: /content/train_crops/content/train_crops/pic_l72bbvv4_2_2.png  \n",
            "  inflating: /content/train_crops/content/train_crops/pic_yqu9t8xl_6_x.png  \n",
            "  inflating: /content/train_crops/content/train_crops/pic_34aiclk_0_3.png  \n",
            "  inflating: /content/train_crops/content/train_crops/pic_f96gn0d6_2_6.png  \n",
            "  inflating: /content/train_crops/content/train_crops/pic_73mc7_4_7.png  \n",
            "  inflating: /content/train_crops/content/train_crops/pic_fdrvsg3_4_s.png  \n",
            "  inflating: /content/train_crops/content/train_crops/pic_eetnv_4_v.png  \n",
            "  inflating: /content/train_crops/content/train_crops/pic_zxc3ac_4_a.png  \n",
            "  inflating: /content/train_crops/content/train_crops/pic_gysr_3_r.png  \n",
            "  inflating: /content/train_crops/content/train_crops/pic_jhx9ao_1_h.png  \n",
            "  inflating: /content/train_crops/content/train_crops/pic_o39qo_2_9.png  \n",
            "  inflating: /content/train_crops/content/train_crops/pic_zlfa_3_a.png  \n",
            "  inflating: /content/train_crops/content/train_crops/pic_5v1m1p_3_m.png  \n",
            "  inflating: /content/train_crops/content/train_crops/pic_vv8krrd_4_r.png  \n",
            "  inflating: /content/train_crops/content/train_crops/pic_opax48_3_x.png  \n",
            "  inflating: /content/train_crops/content/train_crops/pic_gzg5_3_5.png  \n",
            "  inflating: /content/train_crops/content/train_crops/pic_do1q60il_7_l.png  \n",
            "  inflating: /content/train_crops/content/train_crops/pic_8y2k_2_2.png  \n",
            "  inflating: /content/train_crops/content/train_crops/pic_ujxf_3_f.png  \n",
            "  inflating: /content/train_crops/content/train_crops/pic_pmh00o5k_6_5.png  \n",
            "  inflating: /content/train_crops/content/train_crops/pic_ldwubndg_7_g.png  \n",
            "  inflating: /content/train_crops/content/train_crops/pic_p9kut_4_t.png  \n",
            "  inflating: /content/train_crops/content/train_crops/pic_bzeo6l_3_o.png  \n",
            "  inflating: /content/train_crops/content/train_crops/pic_ikjgiqw3_2_j.png  \n",
            "  inflating: /content/train_crops/content/train_crops/pic_xqzv9s11_7_1.png  \n",
            "  inflating: /content/train_crops/content/train_crops/pic_zhv1or_3_1.png  \n",
            "  inflating: /content/train_crops/content/train_crops/pic_nbqm_3_m.png  \n",
            "  inflating: /content/train_crops/content/train_crops/pic_olbbvg_2_b.png  \n",
            "  inflating: /content/train_crops/content/train_crops/pic_gacoecl_0_g.png  \n",
            "  inflating: /content/train_crops/content/train_crops/pic_sfie_2_i.png  \n",
            "  inflating: /content/train_crops/content/train_crops/pic_pk0rmn_5_n.png  \n",
            "  inflating: /content/train_crops/content/train_crops/pic_ibum_0_i.png  \n",
            "  inflating: /content/train_crops/content/train_crops/pic_mupzvuqx_3_z.png  \n",
            "  inflating: /content/train_crops/content/train_crops/pic_n9bl75_3_l.png  \n",
            "  inflating: /content/train_crops/content/train_crops/pic_ckml_2_m.png  \n",
            "  inflating: /content/train_crops/content/train_crops/pic_4nomwzj_6_j.png  \n",
            "  inflating: /content/train_crops/content/train_crops/pic_hxx17tex_0_h.png  \n",
            "  inflating: /content/train_crops/content/train_crops/pic_g7885e1i_6_1.png  \n",
            "  inflating: /content/train_crops/content/train_crops/pic_w4yplxy7_5_x.png  \n",
            "  inflating: /content/train_crops/content/train_crops/pic_oyofhda_5_d.png  \n",
            "  inflating: /content/train_crops/content/train_crops/pic_ztew0pv_5_p.png  \n",
            "  inflating: /content/train_crops/content/train_crops/pic_qaxr3d0d_6_0.png  \n",
            "  inflating: /content/train_crops/content/train_crops/pic_ztodeq_1_t.png  \n",
            "  inflating: /content/train_crops/content/train_crops/pic_fmzqja_1_m.png  \n",
            "  inflating: /content/train_crops/content/train_crops/pic_q0eciku_1_0.png  \n",
            "  inflating: /content/train_crops/content/train_crops/pic_gnvrdm4_0_g.png  \n",
            "  inflating: /content/train_crops/content/train_crops/pic_37vli8_3_l.png  \n",
            "  inflating: /content/train_crops/content/train_crops/pic_kp6kfg68_4_f.png  \n",
            "  inflating: /content/train_crops/content/train_crops/pic_mftqigej_2_t.png  \n",
            "  inflating: /content/train_crops/content/train_crops/pic_co16uhj_2_1.png  \n",
            "  inflating: /content/train_crops/content/train_crops/pic_qq4oe_0_q.png  \n",
            "  inflating: /content/train_crops/content/train_crops/pic_8gpp060e_1_g.png  \n",
            "  inflating: /content/train_crops/content/train_crops/pic_nhotstv_3_t.png  \n",
            "  inflating: /content/train_crops/content/train_crops/pic_wlklb_0_w.png  \n",
            "  inflating: /content/train_crops/content/train_crops/pic_4e4qjny7_1_e.png  \n",
            "  inflating: /content/train_crops/content/train_crops/pic_kl1h_1_l.png  \n",
            "  inflating: /content/train_crops/content/train_crops/pic_8l8hmh_2_8.png  \n",
            "  inflating: /content/train_crops/content/train_crops/pic_ts1gsw_2_1.png  \n",
            "  inflating: /content/train_crops/content/train_crops/pic_nnkw7ob_3_w.png  \n",
            "  inflating: /content/train_crops/content/train_crops/pic_fa9ja6w_0_f.png  \n",
            "  inflating: /content/train_crops/content/train_crops/pic_th8czt_1_h.png  \n",
            "  inflating: /content/train_crops/content/train_crops/pic_9nc3xnm_5_n.png  \n",
            "  inflating: /content/train_crops/content/train_crops/pic_zfq8wu_0_z.png  \n",
            "  inflating: /content/train_crops/content/train_crops/pic_3cdcwuh1_0_3.png  \n",
            "  inflating: /content/train_crops/content/train_crops/pic_13tkv_4_v.png  \n",
            "  inflating: /content/train_crops/content/train_crops/pic_i5rfxue_2_r.png  \n",
            "  inflating: /content/train_crops/content/train_crops/pic_z39uplo7_3_u.png  \n",
            "  inflating: /content/train_crops/content/train_crops/pic_kt5k6z_0_k.png  \n",
            "  inflating: /content/train_crops/content/train_crops/pic_wknyta_2_n.png  \n",
            "  inflating: /content/train_crops/content/train_crops/pic_7tbv2s7b_0_7.png  \n",
            "  inflating: /content/train_crops/content/train_crops/pic_wexj_3_j.png  \n",
            "  inflating: /content/train_crops/content/train_crops/pic_18ctmi6w_4_m.png  \n",
            "  inflating: /content/train_crops/content/train_crops/pic_q4l59p6_1_4.png  \n",
            "  inflating: /content/train_crops/content/train_crops/pic_wpcrz_2_c.png  \n",
            "  inflating: /content/train_crops/content/train_crops/pic_cr9v_1_r.png  \n",
            "  inflating: /content/train_crops/content/train_crops/pic_bqxqj67_3_q.png  \n",
            "  inflating: /content/train_crops/content/train_crops/pic_hn48fw_1_n.png  \n",
            "  inflating: /content/train_crops/content/train_crops/pic_6ocl0d1_2_c.png  \n",
            "  inflating: /content/train_crops/content/train_crops/pic_luhh_1_u.png  \n",
            "  inflating: /content/train_crops/content/train_crops/pic_6soqfbku_4_f.png  \n",
            "  inflating: /content/train_crops/content/train_crops/pic_f9jz53t_5_3.png  \n",
            "  inflating: /content/train_crops/content/train_crops/pic_vmii_1_m.png  \n",
            "  inflating: /content/train_crops/content/train_crops/pic_va10u75b_0_v.png  \n",
            "  inflating: /content/train_crops/content/train_crops/pic_xggb_3_b.png  \n",
            "  inflating: /content/train_crops/content/train_crops/pic_k7uo_2_u.png  \n",
            "  inflating: /content/train_crops/content/train_crops/pic_vf1n2ewf_6_w.png  \n",
            "  inflating: /content/train_crops/content/train_crops/pic_zjkig_0_z.png  \n",
            "  inflating: /content/train_crops/content/train_crops/pic_ak97z9_3_7.png  \n",
            "  inflating: /content/train_crops/content/train_crops/pic_v3xfquk_0_v.png  \n",
            "  inflating: /content/train_crops/content/train_crops/pic_n9fl1e_2_f.png  \n",
            "  inflating: /content/train_crops/content/train_crops/pic_gsxpk_4_k.png  \n",
            "  inflating: /content/train_crops/content/train_crops/pic_8psdsaa_0_8.png  \n",
            "  inflating: /content/train_crops/content/train_crops/pic_757ht69_2_7.png  \n",
            "  inflating: /content/train_crops/content/train_crops/pic_tpai4s2_2_a.png  \n",
            "  inflating: /content/train_crops/content/train_crops/pic_oo7ae5_1_o.png  \n",
            "  inflating: /content/train_crops/content/train_crops/pic_lxosol2_4_o.png  \n",
            "  inflating: /content/train_crops/content/train_crops/pic_ecit_0_e.png  \n",
            "  inflating: /content/train_crops/content/train_crops/pic_akwj8_1_k.png  \n",
            "  inflating: /content/train_crops/content/train_crops/pic_vverai6p_5_i.png  \n",
            "  inflating: /content/train_crops/content/train_crops/pic_ffj4axl4_5_x.png  \n",
            "  inflating: /content/train_crops/content/train_crops/pic_kf4lfx1p_7_p.png  \n",
            "  inflating: /content/train_crops/content/train_crops/pic_j68gkz2k_5_z.png  \n",
            "  inflating: /content/train_crops/content/train_crops/pic_1filptv1_5_t.png  \n",
            "  inflating: /content/train_crops/content/train_crops/pic_3hq9_3_9.png  \n",
            "  inflating: /content/train_crops/content/train_crops/pic_m2fak3_2_f.png  \n",
            "  inflating: /content/train_crops/content/train_crops/pic_1xk809q_5_9.png  \n",
            "  inflating: /content/train_crops/content/train_crops/pic_32pt_0_3.png  \n",
            "  inflating: /content/train_crops/content/train_crops/pic_73t0v6rg_3_0.png  \n",
            "  inflating: /content/train_crops/content/train_crops/pic_ognn3_2_n.png  \n",
            "  inflating: /content/train_crops/content/train_crops/pic_hp8ca7b_1_p.png  \n",
            "  inflating: /content/train_crops/content/train_crops/pic_xx47e5uv_5_5.png  \n",
            "  inflating: /content/train_crops/content/train_crops/pic_annn_2_n.png  \n",
            "  inflating: /content/train_crops/content/train_crops/pic_lv64wfq_4_w.png  \n",
            "  inflating: /content/train_crops/content/train_crops/pic_yitxafdp_5_f.png  \n",
            "  inflating: /content/train_crops/content/train_crops/pic_ix0qyf_4_y.png  \n",
            "  inflating: /content/train_crops/content/train_crops/pic_e35m_3_m.png  \n",
            "  inflating: /content/train_crops/content/train_crops/pic_fxryc_4_c.png  \n",
            "  inflating: /content/train_crops/content/train_crops/pic_hddhmm_5_m.png  \n",
            "  inflating: /content/train_crops/content/train_crops/pic_ufj879_4_7.png  \n",
            "  inflating: /content/train_crops/content/train_crops/pic_c4tcia_5_a.png  \n",
            "  inflating: /content/train_crops/content/train_crops/pic_2gn63i_4_3.png  \n",
            "  inflating: /content/train_crops/content/train_crops/pic_34vjemc_5_m.png  \n",
            "  inflating: /content/train_crops/content/train_crops/pic_w5yv9xo_6_o.png  \n",
            "  inflating: /content/train_crops/content/train_crops/pic_ue5k2_3_k.png  \n",
            "  inflating: /content/train_crops/content/train_crops/pic_3ht6e_4_e.png  \n",
            "  inflating: /content/train_crops/content/train_crops/pic_xtebz6a_6_a.png  \n",
            "  inflating: /content/train_crops/content/train_crops/pic_jf3x_3_x.png  \n",
            "  inflating: /content/train_crops/content/train_crops/pic_sqkze08_1_q.png  \n",
            "  inflating: /content/train_crops/content/train_crops/pic_9g2c5k6_5_k.png  \n",
            "  inflating: /content/train_crops/content/train_crops/pic_rbm4oqal_0_r.png  \n",
            "  inflating: /content/train_crops/content/train_crops/pic_fe7ous_3_o.png  \n",
            "  inflating: /content/train_crops/content/train_crops/pic_g6r8p_0_g.png  \n",
            "  inflating: /content/train_crops/content/train_crops/pic_04yh1rvu_4_1.png  \n",
            "  inflating: /content/train_crops/content/train_crops/pic_5hhkog0_1_h.png  \n",
            "  inflating: /content/train_crops/content/train_crops/pic_k5dln_1_5.png  \n",
            "  inflating: /content/train_crops/content/train_crops/pic_guav_3_v.png  \n",
            "  inflating: /content/train_crops/content/train_crops/pic_yfkx4v1_1_f.png  \n",
            "  inflating: /content/train_crops/content/train_crops/pic_qjfa_1_j.png  \n",
            "  inflating: /content/train_crops/content/train_crops/pic_e5plz8q_3_l.png  \n",
            "  inflating: /content/train_crops/content/train_crops/pic_ueucl8v_0_u.png  \n",
            "  inflating: /content/train_crops/content/train_crops/pic_38obikh_2_o.png  \n",
            "  inflating: /content/train_crops/content/train_crops/pic_o2f7c7pz_6_p.png  \n",
            "  inflating: /content/train_crops/content/train_crops/pic_9o9wje3_1_o.png  \n",
            "  inflating: /content/train_crops/content/train_crops/pic_zf1s4_1_f.png  \n",
            "  inflating: /content/train_crops/content/train_crops/pic_q8a8rf5u_0_q.png  \n",
            "  inflating: /content/train_crops/content/train_crops/pic_10p8ks7z_1_0.png  \n",
            "  inflating: /content/train_crops/content/train_crops/pic_si419dh_1_i.png  \n",
            "  inflating: /content/train_crops/content/train_crops/pic_4roslcx_5_c.png  \n",
            "  inflating: /content/train_crops/content/train_crops/pic_zs4k_1_s.png  \n",
            "  inflating: /content/train_crops/content/train_crops/pic_7uj7_0_7.png  \n",
            "  inflating: /content/train_crops/content/train_crops/pic_58pf2_0_5.png  \n",
            "  inflating: /content/train_crops/content/train_crops/pic_v2qlb_2_q.png  \n",
            "  inflating: /content/train_crops/content/train_crops/pic_fv5jb1_3_j.png  \n",
            "  inflating: /content/train_crops/content/train_crops/pic_nrivv_1_r.png  \n",
            "  inflating: /content/train_crops/content/train_crops/pic_ov89p_0_o.png  \n",
            "  inflating: /content/train_crops/content/train_crops/pic_0bcjvo4p_7_p.png  \n",
            "  inflating: /content/train_crops/content/train_crops/pic_bsu2b_2_u.png  \n",
            "  inflating: /content/train_crops/content/train_crops/pic_tp9jvwmo_3_j.png  \n",
            "  inflating: /content/train_crops/content/train_crops/pic_kkes_0_k.png  \n",
            "  inflating: /content/train_crops/content/train_crops/pic_4atgomf8_5_m.png  \n",
            "  inflating: /content/train_crops/content/train_crops/pic_dwzv_1_w.png  \n",
            "  inflating: /content/train_crops/content/train_crops/pic_9x551frp_4_1.png  \n",
            "  inflating: /content/train_crops/content/train_crops/pic_v0by_0_v.png  \n",
            "  inflating: /content/train_crops/content/train_crops/pic_l8gag_3_a.png  \n",
            "  inflating: /content/train_crops/content/train_crops/pic_ofa6_0_o.png  \n",
            "  inflating: /content/train_crops/content/train_crops/pic_xcdf1g_1_c.png  \n",
            "  inflating: /content/train_crops/content/train_crops/pic_88ke95d_4_9.png  \n",
            "  inflating: /content/train_crops/content/train_crops/pic_l3885_1_3.png  \n",
            "  inflating: /content/train_crops/content/train_crops/pic_tiyh_1_i.png  \n",
            "  inflating: /content/train_crops/content/train_crops/pic_oaxffk_2_x.png  \n",
            "  inflating: /content/train_crops/content/train_crops/pic_4gyej1lw_4_j.png  \n",
            "  inflating: /content/train_crops/content/train_crops/pic_zuiqenvn_5_n.png  \n",
            "  inflating: /content/train_crops/content/train_crops/pic_ixvh_2_v.png  \n",
            "  inflating: /content/train_crops/content/train_crops/pic_t7zdrtl6_7_6.png  \n",
            "  inflating: /content/train_crops/content/train_crops/pic_n34jgvw_6_w.png  \n",
            "  inflating: /content/train_crops/content/train_crops/pic_bkwh3vhg_3_h.png  \n",
            "  inflating: /content/train_crops/content/train_crops/pic_w9byzz9_3_y.png  \n",
            "  inflating: /content/train_crops/content/train_crops/pic_kr43m_3_3.png  \n",
            "  inflating: /content/train_crops/content/train_crops/pic_18rj_2_r.png  \n",
            "  inflating: /content/train_crops/content/train_crops/pic_fqr4c0_5_0.png  \n",
            "  inflating: /content/train_crops/content/train_crops/pic_dwhtuc_4_u.png  \n",
            "  inflating: /content/train_crops/content/train_crops/pic_9da1v9kh_1_d.png  \n",
            "  inflating: /content/train_crops/content/train_crops/pic_azn2jroe_7_e.png  \n",
            "  inflating: /content/train_crops/content/train_crops/pic_0qf323yb_4_2.png  \n",
            "  inflating: /content/train_crops/content/train_crops/pic_zeh0ni4_5_i.png  \n",
            "  inflating: /content/train_crops/content/train_crops/pic_wuq7dzi_6_i.png  \n",
            "  inflating: /content/train_crops/content/train_crops/pic_gwtbd3_1_w.png  \n",
            "  inflating: /content/train_crops/content/train_crops/pic_jp3sy2mr_1_p.png  \n",
            "  inflating: /content/train_crops/content/train_crops/pic_7dj1bn_5_n.png  \n",
            "  inflating: /content/train_crops/content/train_crops/pic_qayux7i_2_y.png  \n",
            "  inflating: /content/train_crops/content/train_crops/pic_r6jzb_1_6.png  \n",
            "  inflating: /content/train_crops/content/train_crops/pic_wghe36r_2_h.png  \n",
            "  inflating: /content/train_crops/content/train_crops/pic_t15vus_0_t.png  \n",
            "  inflating: /content/train_crops/content/train_crops/pic_9s5em_4_m.png  \n",
            "  inflating: /content/train_crops/content/train_crops/pic_9dyf_1_d.png  \n",
            "  inflating: /content/train_crops/content/train_crops/pic_1tmeb_3_e.png  \n",
            "  inflating: /content/train_crops/content/train_crops/pic_01hmm_0_0.png  \n",
            "  inflating: /content/train_crops/content/train_crops/pic_ls2wak49_2_2.png  \n",
            "  inflating: /content/train_crops/content/train_crops/pic_0ku415_0_0.png  \n",
            "  inflating: /content/train_crops/content/train_crops/pic_qhyex_3_e.png  \n",
            "  inflating: /content/train_crops/content/train_crops/pic_yof332no_3_3.png  \n",
            "  inflating: /content/train_crops/content/train_crops/pic_9bn5d5kl_0_9.png  \n",
            "  inflating: /content/train_crops/content/train_crops/pic_dnlp85_4_8.png  \n",
            "  inflating: /content/train_crops/content/train_crops/pic_rh4k7_0_r.png  \n",
            "  inflating: /content/train_crops/content/train_crops/pic_0rf40s_0_0.png  \n",
            "  inflating: /content/train_crops/content/train_crops/pic_06mhii9s_1_6.png  \n",
            "  inflating: /content/train_crops/content/train_crops/pic_sb7gou4u_2_7.png  \n",
            "  inflating: /content/train_crops/content/train_crops/pic_o3g9_3_9.png  \n",
            "  inflating: /content/train_crops/content/train_crops/pic_f1a6m_4_m.png  \n",
            "  inflating: /content/train_crops/content/train_crops/pic_357azsc_0_3.png  \n",
            "  inflating: /content/train_crops/content/train_crops/pic_3d0d_1_d.png  \n",
            "  inflating: /content/train_crops/content/train_crops/pic_of62t9_1_f.png  \n",
            "  inflating: /content/train_crops/content/train_crops/pic_6nsy3xgy_0_6.png  \n",
            "  inflating: /content/train_crops/content/train_crops/pic_p1e38v04_1_1.png  \n",
            "  inflating: /content/train_crops/content/train_crops/pic_t5oz1_4_1.png  \n",
            "  inflating: /content/train_crops/content/train_crops/pic_c66o88c_5_8.png  \n",
            "  inflating: /content/train_crops/content/train_crops/pic_fleuahev_3_u.png  \n",
            "  inflating: /content/train_crops/content/train_crops/pic_3goqn7hs_7_s.png  \n",
            "  inflating: /content/train_crops/content/train_crops/pic_j5t4zd_5_d.png  \n",
            "  inflating: /content/train_crops/content/train_crops/pic_zwol36kj_2_o.png  \n",
            "  inflating: /content/train_crops/content/train_crops/pic_lykkkt_1_y.png  \n",
            "  inflating: /content/train_crops/content/train_crops/pic_adhti9b_0_a.png  \n",
            "  inflating: /content/train_crops/content/train_crops/pic_qa2o6yt_5_y.png  \n",
            "  inflating: /content/train_crops/content/train_crops/pic_zjl6q8_1_j.png  \n",
            "  inflating: /content/train_crops/content/train_crops/pic_gxw1fb55_3_1.png  \n",
            "  inflating: /content/train_crops/content/train_crops/pic_1132_2_3.png  \n",
            "  inflating: /content/train_crops/content/train_crops/pic_dbz24514_6_1.png  \n",
            "  inflating: /content/train_crops/content/train_crops/pic_9whurcn_4_r.png  \n",
            "  inflating: /content/train_crops/content/train_crops/pic_r1hkk42_0_r.png  \n",
            "  inflating: /content/train_crops/content/train_crops/pic_1fuhmmn_3_h.png  \n",
            "  inflating: /content/train_crops/content/train_crops/pic_twv4loiq_1_w.png  \n",
            "  inflating: /content/train_crops/content/train_crops/pic_0277g27_3_7.png  \n",
            "  inflating: /content/train_crops/content/train_crops/pic_sltmu3i_0_s.png  \n",
            "  inflating: /content/train_crops/content/train_crops/pic_exojnv_4_n.png  \n",
            "  inflating: /content/train_crops/content/train_crops/pic_9g2c5k6_6_6.png  \n",
            "  inflating: /content/train_crops/content/train_crops/pic_0pl92_3_9.png  \n",
            "  inflating: /content/train_crops/content/train_crops/pic_lj0pemd2_3_p.png  \n",
            "  inflating: /content/train_crops/content/train_crops/pic_fv2oik_2_2.png  \n",
            "  inflating: /content/train_crops/content/train_crops/pic_edike_1_d.png  \n",
            "  inflating: /content/train_crops/content/train_crops/pic_k43ln2xa_0_k.png  \n",
            "  inflating: /content/train_crops/content/train_crops/pic_sgaihfd_5_f.png  \n",
            "  inflating: /content/train_crops/content/train_crops/pic_frbihm_3_i.png  \n",
            "  inflating: /content/train_crops/content/train_crops/pic_h3bvoj_0_h.png  \n",
            "  inflating: /content/train_crops/content/train_crops/pic_838n_0_8.png  \n",
            "  inflating: /content/train_crops/content/train_crops/pic_u98d03xw_1_9.png  \n",
            "  inflating: /content/train_crops/content/train_crops/pic_cz1wmg22_3_w.png  \n",
            "  inflating: /content/train_crops/content/train_crops/pic_il0re_2_0.png  \n",
            "  inflating: /content/train_crops/content/train_crops/pic_xxblrq9s_6_9.png  \n",
            "  inflating: /content/train_crops/content/train_crops/pic_u9hkbjog_5_j.png  \n",
            "  inflating: /content/train_crops/content/train_crops/pic_6toeeyqt_1_t.png  \n",
            "  inflating: /content/train_crops/content/train_crops/pic_no9045_1_o.png  \n",
            "  inflating: /content/train_crops/content/train_crops/pic_j72fad6r_7_r.png  \n",
            "  inflating: /content/train_crops/content/train_crops/pic_eto3_3_3.png  \n",
            "  inflating: /content/train_crops/content/train_crops/pic_hjvkl7_5_7.png  \n",
            "  inflating: /content/train_crops/content/train_crops/pic_v2p9xq_2_p.png  \n",
            "  inflating: /content/train_crops/content/train_crops/pic_hvfoyp9c_0_h.png  \n",
            "  inflating: /content/train_crops/content/train_crops/pic_8hek_0_8.png  \n",
            "  inflating: /content/train_crops/content/train_crops/pic_13tkv_3_k.png  \n",
            "  inflating: /content/train_crops/content/train_crops/pic_rop00_4_0.png  \n",
            "  inflating: /content/train_crops/content/train_crops/pic_3o9t60v_6_v.png  \n",
            "  inflating: /content/train_crops/content/train_crops/pic_zhha61i_5_1.png  \n",
            "  inflating: /content/train_crops/content/train_crops/pic_cb7pekr_5_k.png  \n",
            "  inflating: /content/train_crops/content/train_crops/pic_236zmz_4_m.png  \n",
            "  inflating: /content/train_crops/content/train_crops/pic_1ivllnz0_0_1.png  \n",
            "  inflating: /content/train_crops/content/train_crops/pic_owin2n_5_n.png  \n",
            "  inflating: /content/train_crops/content/train_crops/pic_o03io_2_3.png  \n",
            "  inflating: /content/train_crops/content/train_crops/pic_i7jqbq66_4_b.png  \n",
            "  inflating: /content/train_crops/content/train_crops/pic_pls9g348_0_p.png  \n",
            "  inflating: /content/train_crops/content/train_crops/pic_afbed1u1_1_f.png  \n",
            "  inflating: /content/train_crops/content/train_crops/pic_zykh5_4_5.png  \n",
            "  inflating: /content/train_crops/content/train_crops/pic_tjhv_3_v.png  \n",
            "  inflating: /content/train_crops/content/train_crops/pic_sl8w_0_s.png  \n",
            "  inflating: /content/train_crops/content/train_crops/pic_rc7i3_4_3.png  \n",
            "  inflating: /content/train_crops/content/train_crops/pic_rh7al4_2_7.png  \n",
            "  inflating: /content/train_crops/content/train_crops/pic_2blrp4j_1_b.png  \n",
            "  inflating: /content/train_crops/content/train_crops/pic_fvha9_3_a.png  \n",
            "  inflating: /content/train_crops/content/train_crops/pic_zznu_3_u.png  \n",
            "  inflating: /content/train_crops/content/train_crops/pic_006aguv_4_g.png  \n",
            "  inflating: /content/train_crops/content/train_crops/pic_1nk93g_5_g.png  \n",
            "  inflating: /content/train_crops/content/train_crops/pic_beznmj_2_z.png  \n",
            "  inflating: /content/train_crops/content/train_crops/pic_b4ue_1_4.png  \n",
            "  inflating: /content/train_crops/content/train_crops/pic_yg290xxo_3_9.png  \n",
            "  inflating: /content/train_crops/content/train_crops/pic_y0xirub_3_i.png  \n",
            "  inflating: /content/train_crops/content/train_crops/pic_5hln8_1_h.png  \n",
            "  inflating: /content/train_crops/content/train_crops/pic_rdldnfni_3_d.png  \n",
            "  inflating: /content/train_crops/content/train_crops/pic_s0bkg_4_g.png  \n",
            "  inflating: /content/train_crops/content/train_crops/pic_ywurlaja_5_a.png  \n",
            "  inflating: /content/train_crops/content/train_crops/pic_1dzii_3_i.png  \n",
            "  inflating: /content/train_crops/content/train_crops/pic_q4b44wle_6_l.png  \n",
            "  inflating: /content/train_crops/content/train_crops/pic_wxh64j_1_x.png  \n",
            "  inflating: /content/train_crops/content/train_crops/pic_kprp170i_4_1.png  \n",
            "  inflating: /content/train_crops/content/train_crops/pic_3okt6_1_o.png  \n",
            "  inflating: /content/train_crops/content/train_crops/pic_lccx_1_c.png  \n",
            "  inflating: /content/train_crops/content/train_crops/pic_z6l7u0wt_4_u.png  \n",
            "  inflating: /content/train_crops/content/train_crops/pic_fqpkw_3_k.png  \n",
            "  inflating: /content/train_crops/content/train_crops/pic_2uba9hkt_4_9.png  \n",
            "  inflating: /content/train_crops/content/train_crops/pic_ssx60_2_x.png  \n",
            "  inflating: /content/train_crops/content/train_crops/pic_meqvb_1_e.png  \n",
            "  inflating: /content/train_crops/content/train_crops/pic_o3gyis1_1_3.png  \n",
            "  inflating: /content/train_crops/content/train_crops/pic_s16lx_2_6.png  \n",
            "  inflating: /content/train_crops/content/train_crops/pic_w51m8lf_6_f.png  \n",
            "  inflating: /content/train_crops/content/train_crops/pic_5u5dxp_4_x.png  \n",
            "  inflating: /content/train_crops/content/train_crops/pic_0wwhwf_5_f.png  \n",
            "  inflating: /content/train_crops/content/train_crops/pic_8ubri_3_r.png  \n",
            "  inflating: /content/train_crops/content/train_crops/pic_zu313a_0_z.png  \n",
            "  inflating: /content/train_crops/content/train_crops/pic_ypwbdl_2_w.png  \n",
            "  inflating: /content/train_crops/content/train_crops/pic_p472cw_0_p.png  \n",
            "  inflating: /content/train_crops/content/train_crops/pic_zcgevht_0_z.png  \n",
            "  inflating: /content/train_crops/content/train_crops/pic_w7b2hr8_6_8.png  \n",
            "  inflating: /content/train_crops/content/train_crops/pic_4ih1w4_1_i.png  \n",
            "  inflating: /content/train_crops/content/train_crops/pic_x1ius8zr_1_1.png  \n",
            "  inflating: /content/train_crops/content/train_crops/pic_hupgnmy_3_g.png  \n",
            "  inflating: /content/train_crops/content/train_crops/pic_26hnvmr_4_v.png  \n",
            "  inflating: /content/train_crops/content/train_crops/pic_6aggdg_3_g.png  \n",
            "  inflating: /content/train_crops/content/train_crops/pic_gy7nps_2_7.png  \n",
            "  inflating: /content/train_crops/content/train_crops/pic_hpys8e8_3_s.png  \n",
            "  inflating: /content/train_crops/content/train_crops/pic_t02xi_3_x.png  \n",
            "  inflating: /content/train_crops/content/train_crops/pic_12jc_2_j.png  \n",
            "  inflating: /content/train_crops/content/train_crops/pic_phsq1x2_3_q.png  \n",
            "  inflating: /content/train_crops/content/train_crops/pic_54av40_4_4.png  \n",
            "  inflating: /content/train_crops/content/train_crops/pic_qn76_3_6.png  \n",
            "  inflating: /content/train_crops/content/train_crops/pic_ngckn10s_7_s.png  \n",
            "  inflating: /content/train_crops/content/train_crops/pic_ov2u8wcg_6_c.png  \n",
            "  inflating: /content/train_crops/content/train_crops/pic_qdxs_3_s.png  \n",
            "  inflating: /content/train_crops/content/train_crops/pic_fyjy433o_3_y.png  \n",
            "  inflating: /content/train_crops/content/train_crops/pic_1k0e1_0_1.png  \n",
            "  inflating: /content/train_crops/content/train_crops/pic_p4ytoz_1_4.png  \n",
            "  inflating: /content/train_crops/content/train_crops/pic_xdwmowd_6_d.png  \n",
            "  inflating: /content/train_crops/content/train_crops/pic_s568e_2_6.png  \n",
            "  inflating: /content/train_crops/content/train_crops/pic_b0vupan_0_b.png  \n",
            "  inflating: /content/train_crops/content/train_crops/pic_c4y1nmb9_7_9.png  \n",
            "  inflating: /content/train_crops/content/train_crops/pic_n1ec6_2_e.png  \n",
            "  inflating: /content/train_crops/content/train_crops/pic_jniucu_1_n.png  \n",
            "  inflating: /content/train_crops/content/train_crops/pic_3enus0_2_n.png  \n",
            "  inflating: /content/train_crops/content/train_crops/pic_kvwnawj_4_a.png  \n",
            "  inflating: /content/train_crops/content/train_crops/pic_49jjim_3_j.png  \n",
            "  inflating: /content/train_crops/content/train_crops/pic_wgv5c00n_7_n.png  \n",
            "  inflating: /content/train_crops/content/train_crops/pic_j2rs0tse_2_r.png  \n",
            "  inflating: /content/train_crops/content/train_crops/pic_j68gkz2k_3_g.png  \n",
            "  inflating: /content/train_crops/content/train_crops/pic_jpvt_0_j.png  \n",
            "  inflating: /content/train_crops/content/train_crops/pic_a0mepp13_2_m.png  \n",
            "  inflating: /content/train_crops/content/train_crops/pic_fxryc_2_r.png  \n",
            "  inflating: /content/train_crops/content/train_crops/pic_ckp24c3b_2_p.png  \n",
            "  inflating: /content/train_crops/content/train_crops/pic_z487ufh_4_u.png  \n",
            "  inflating: /content/train_crops/content/train_crops/pic_7xp1mt7_2_p.png  \n",
            "  inflating: /content/train_crops/content/train_crops/pic_9aeol3h_4_l.png  \n",
            "  inflating: /content/train_crops/content/train_crops/pic_rj7n63m_0_r.png  \n",
            "  inflating: /content/train_crops/content/train_crops/pic_8phgsh_3_g.png  \n",
            "  inflating: /content/train_crops/content/train_crops/pic_f93fhq1_5_q.png  \n",
            "  inflating: /content/train_crops/content/train_crops/pic_zijau3_3_a.png  \n",
            "  inflating: /content/train_crops/content/train_crops/pic_4t8xmxr7_2_8.png  \n",
            "  inflating: /content/train_crops/content/train_crops/pic_4ggh3vfp_0_4.png  \n",
            "  inflating: /content/train_crops/content/train_crops/pic_lh019d_3_1.png  \n",
            "  inflating: /content/train_crops/content/train_crops/pic_1jnb_0_1.png  \n",
            "  inflating: /content/train_crops/content/train_crops/pic_7rp9wy_3_9.png  \n",
            "  inflating: /content/train_crops/content/train_crops/pic_bn07i_2_0.png  \n",
            "  inflating: /content/train_crops/content/train_crops/pic_efs86t_0_e.png  \n",
            "  inflating: /content/train_crops/content/train_crops/pic_mu2hmy6h_0_m.png  \n",
            "  inflating: /content/train_crops/content/train_crops/pic_w6v05a8z_3_0.png  \n",
            "  inflating: /content/train_crops/content/train_crops/pic_vpbz80qf_4_8.png  \n",
            "  inflating: /content/train_crops/content/train_crops/pic_9vhg4_2_h.png  \n",
            "  inflating: /content/train_crops/content/train_crops/pic_ubj2_3_2.png  \n",
            "  inflating: /content/train_crops/content/train_crops/pic_7v2460_3_4.png  \n",
            "  inflating: /content/train_crops/content/train_crops/pic_ki90xn_5_n.png  \n",
            "  inflating: /content/train_crops/content/train_crops/pic_0a4y_2_4.png  \n",
            "  inflating: /content/train_crops/content/train_crops/pic_5qmcr_2_m.png  \n",
            "  inflating: /content/train_crops/content/train_crops/pic_0hs60bw_3_6.png  \n",
            "  inflating: /content/train_crops/content/train_crops/pic_7ji7l3v9_3_7.png  \n",
            "  inflating: /content/train_crops/content/train_crops/pic_i4cnotad_5_t.png  \n",
            "  inflating: /content/train_crops/content/train_crops/pic_a5ui6bfb_5_b.png  \n",
            "  inflating: /content/train_crops/content/train_crops/pic_dvmpl6_4_l.png  \n",
            "  inflating: /content/train_crops/content/train_crops/pic_awfmdz2_5_z.png  \n",
            "  inflating: /content/train_crops/content/train_crops/pic_ciyrfilw_7_w.png  \n",
            "  inflating: /content/train_crops/content/train_crops/pic_wgna1_3_a.png  \n",
            "  inflating: /content/train_crops/content/train_crops/pic_d94k_3_k.png  \n",
            "  inflating: /content/train_crops/content/train_crops/pic_sqyy_3_y.png  \n",
            "  inflating: /content/train_crops/content/train_crops/pic_2l1d28_3_d.png  \n",
            "  inflating: /content/train_crops/content/train_crops/pic_ye1t6cu_6_u.png  \n",
            "  inflating: /content/train_crops/content/train_crops/pic_ao0hsrc_0_a.png  \n",
            "  inflating: /content/train_crops/content/train_crops/pic_nccdj42_5_4.png  \n",
            "  inflating: /content/train_crops/content/train_crops/pic_7zve_1_z.png  \n",
            "  inflating: /content/train_crops/content/train_crops/pic_18ctmi6w_6_6.png  \n",
            "  inflating: /content/train_crops/content/train_crops/pic_yqeg_3_g.png  \n",
            "  inflating: /content/train_crops/content/train_crops/pic_e9qne356_5_3.png  \n",
            "  inflating: /content/train_crops/content/train_crops/pic_8epfnx8_5_x.png  \n",
            "  inflating: /content/train_crops/content/train_crops/pic_q8a8rf5u_1_8.png  \n",
            "  inflating: /content/train_crops/content/train_crops/pic_hqad7_0_h.png  \n",
            "  inflating: /content/train_crops/content/train_crops/pic_xjslyt_4_y.png  \n",
            "  inflating: /content/train_crops/content/train_crops/pic_e4ace3_5_3.png  \n",
            "  inflating: /content/train_crops/content/train_crops/pic_aa9od_3_o.png  \n",
            "  inflating: /content/train_crops/content/train_crops/pic_o7nld_3_l.png  \n",
            "  inflating: /content/train_crops/content/train_crops/pic_5gvaicj9_0_5.png  \n",
            "  inflating: /content/train_crops/content/train_crops/pic_fbhuu4_5_4.png  \n",
            "  inflating: /content/train_crops/content/train_crops/pic_n4tzp6_0_n.png  \n",
            "  inflating: /content/train_crops/content/train_crops/pic_ctumzv55_4_z.png  \n",
            "  inflating: /content/train_crops/content/train_crops/pic_sxkav_4_v.png  \n",
            "  inflating: /content/train_crops/content/train_crops/pic_3glrris_2_l.png  \n",
            "  inflating: /content/train_crops/content/train_crops/pic_rytxwi7c_2_t.png  \n",
            "  inflating: /content/train_crops/content/train_crops/pic_qgaz_1_g.png  \n",
            "  inflating: /content/train_crops/content/train_crops/pic_5q94df0b_7_b.png  \n",
            "  inflating: /content/train_crops/content/train_crops/pic_cdg72w7_5_w.png  \n",
            "  inflating: /content/train_crops/content/train_crops/pic_ie8w5ulw_1_e.png  \n",
            "  inflating: /content/train_crops/content/train_crops/pic_mfs77_0_m.png  \n",
            "  inflating: /content/train_crops/content/train_crops/pic_f96ak_1_9.png  \n",
            "  inflating: /content/train_crops/content/train_crops/pic_w6nsf6w_3_s.png  \n",
            "  inflating: /content/train_crops/content/train_crops/pic_98p0_3_0.png  \n",
            "  inflating: /content/train_crops/content/train_crops/pic_p60ckd2_0_p.png  \n",
            "  inflating: /content/train_crops/content/train_crops/pic_p1i6_1_1.png  \n",
            "  inflating: /content/train_crops/content/train_crops/pic_pkqta6s_4_a.png  \n",
            "  inflating: /content/train_crops/content/train_crops/pic_m9pfk24f_4_k.png  \n",
            "  inflating: /content/train_crops/content/train_crops/pic_djhi4_1_j.png  \n",
            "  inflating: /content/train_crops/content/train_crops/pic_5x3bl_0_5.png  \n",
            "  inflating: /content/train_crops/content/train_crops/pic_jakbn64_2_k.png  \n",
            "  inflating: /content/train_crops/content/train_crops/pic_kz0bad_0_k.png  \n",
            "  inflating: /content/train_crops/content/train_crops/pic_0qiiqmuh_6_u.png  \n",
            "  inflating: /content/train_crops/content/train_crops/pic_foxr_3_r.png  \n",
            "  inflating: /content/train_crops/content/train_crops/pic_poh0_1_o.png  \n",
            "  inflating: /content/train_crops/content/train_crops/pic_18o46t_3_4.png  \n",
            "  inflating: /content/train_crops/content/train_crops/pic_e8log_2_l.png  \n",
            "  inflating: /content/train_crops/content/train_crops/pic_vxhj9gqq_5_g.png  \n",
            "  inflating: /content/train_crops/content/train_crops/pic_2ec052ch_1_e.png  \n",
            "  inflating: /content/train_crops/content/train_crops/pic_i2bx7ib_6_b.png  \n",
            "  inflating: /content/train_crops/content/train_crops/pic_6xkvww_5_w.png  \n",
            "  inflating: /content/train_crops/content/train_crops/pic_hyvjpx5j_2_v.png  \n",
            "  inflating: /content/train_crops/content/train_crops/pic_zxc3ac_1_x.png  \n",
            "  inflating: /content/train_crops/content/train_crops/pic_mer04_2_r.png  \n",
            "  inflating: /content/train_crops/content/train_crops/pic_tpjrkng_6_g.png  \n",
            "  inflating: /content/train_crops/content/train_crops/pic_37ly_0_3.png  \n",
            "  inflating: /content/train_crops/content/train_crops/pic_y0a8bia_5_i.png  \n",
            "  inflating: /content/train_crops/content/train_crops/pic_1m7on_0_1.png  \n",
            "  inflating: /content/train_crops/content/train_crops/pic_e5rg_2_r.png  \n",
            "  inflating: /content/train_crops/content/train_crops/pic_goqazncv_0_g.png  \n",
            "  inflating: /content/train_crops/content/train_crops/pic_z0srsos_6_s.png  \n",
            "  inflating: /content/train_crops/content/train_crops/pic_fbs39_2_s.png  \n",
            "  inflating: /content/train_crops/content/train_crops/pic_go2o_2_2.png  \n",
            "  inflating: /content/train_crops/content/train_crops/pic_ywirr_0_y.png  \n",
            "  inflating: /content/train_crops/content/train_crops/pic_9f42mfk_3_2.png  \n",
            "  inflating: /content/train_crops/content/train_crops/pic_ieecoz1f_0_i.png  \n",
            "  inflating: /content/train_crops/content/train_crops/pic_66ee9e6x_0_6.png  \n",
            "  inflating: /content/train_crops/content/train_crops/pic_ma97_2_9.png  \n",
            "  inflating: /content/train_crops/content/train_crops/pic_frjtpde4_7_4.png  \n",
            "  inflating: /content/train_crops/content/train_crops/pic_7bti0u_4_0.png  \n",
            "  inflating: /content/train_crops/content/train_crops/pic_uaqmlp_0_u.png  \n",
            "  inflating: /content/train_crops/content/train_crops/pic_kew3_1_e.png  \n",
            "  inflating: /content/train_crops/content/train_crops/pic_8ojtnpc_1_o.png  \n",
            "  inflating: /content/train_crops/content/train_crops/pic_4xqp4g_1_x.png  \n",
            "  inflating: /content/train_crops/content/train_crops/pic_10drq_4_q.png  \n",
            "  inflating: /content/train_crops/content/train_crops/pic_ecge7_1_c.png  \n",
            "  inflating: /content/train_crops/content/train_crops/pic_4ps7_1_p.png  \n",
            "  inflating: /content/train_crops/content/train_crops/pic_3xfvi_3_v.png  \n",
            "  inflating: /content/train_crops/content/train_crops/pic_t5oz1_0_t.png  \n",
            "  inflating: /content/train_crops/content/train_crops/pic_6vwq2ve_6_e.png  \n",
            "  inflating: /content/train_crops/content/train_crops/pic_q4l59p6_3_5.png  \n",
            "  inflating: /content/train_crops/content/train_crops/pic_u1x2_2_x.png  \n",
            "  inflating: /content/train_crops/content/train_crops/pic_drfoa_2_f.png  \n",
            "  inflating: /content/train_crops/content/train_crops/pic_vd7v8cxx_0_v.png  \n",
            "  inflating: /content/train_crops/content/train_crops/pic_eujbo23_1_u.png  \n",
            "  inflating: /content/train_crops/content/train_crops/pic_aezput_5_t.png  \n",
            "  inflating: /content/train_crops/content/train_crops/pic_ujahsfd_6_d.png  \n",
            "  inflating: /content/train_crops/content/train_crops/pic_rdme6xyo_5_x.png  \n",
            "  inflating: /content/train_crops/content/train_crops/pic_09ji1_4_1.png  \n",
            "  inflating: /content/train_crops/content/train_crops/pic_f7yv78c5_3_v.png  \n",
            "  inflating: /content/train_crops/content/train_crops/pic_9vpp_1_v.png  \n",
            "  inflating: /content/train_crops/content/train_crops/pic_0g76cw8b_2_7.png  \n",
            "  inflating: /content/train_crops/content/train_crops/pic_nh1iy_0_n.png  \n",
            "  inflating: /content/train_crops/content/train_crops/pic_n0vq_0_n.png  \n",
            "  inflating: /content/train_crops/content/train_crops/pic_2n6y6_1_n.png  \n",
            "  inflating: /content/train_crops/content/train_crops/pic_c2zfy1_3_f.png  \n",
            "  inflating: /content/train_crops/content/train_crops/pic_e7ee3_4_3.png  \n",
            "  inflating: /content/train_crops/content/train_crops/pic_2fxgq887_4_q.png  \n",
            "  inflating: /content/train_crops/content/train_crops/pic_3v17ro93_0_3.png  \n",
            "  inflating: /content/train_crops/content/train_crops/pic_ip2ue5_1_p.png  \n",
            "  inflating: /content/train_crops/content/train_crops/pic_lbtz7szt_0_l.png  \n",
            "  inflating: /content/train_crops/content/train_crops/pic_qru5nm_4_n.png  \n",
            "  inflating: /content/train_crops/content/train_crops/pic_8nnslfp_5_f.png  \n",
            "  inflating: /content/train_crops/content/train_crops/pic_xnb3hwfv_7_v.png  \n",
            "  inflating: /content/train_crops/content/train_crops/pic_na0a58p_1_a.png  \n",
            "  inflating: /content/train_crops/content/train_crops/pic_yvz4gl80_4_g.png  \n",
            "  inflating: /content/train_crops/content/train_crops/pic_qaxmfek_4_f.png  \n",
            "  inflating: /content/train_crops/content/train_crops/pic_qaxmfek_2_x.png  \n",
            "  inflating: /content/train_crops/content/train_crops/pic_7y0cynw_3_c.png  \n",
            "  inflating: /content/train_crops/content/train_crops/pic_nrw3o7m_6_m.png  \n",
            "  inflating: /content/train_crops/content/train_crops/pic_78y74_0_7.png  \n",
            "  inflating: /content/train_crops/content/train_crops/pic_rmxn_2_x.png  \n",
            "  inflating: /content/train_crops/content/train_crops/pic_4jynch_0_4.png  \n",
            "  inflating: /content/train_crops/content/train_crops/pic_6h5pfz_4_f.png  \n",
            "  inflating: /content/train_crops/content/train_crops/pic_1zktq3m_3_t.png  \n",
            "  inflating: /content/train_crops/content/train_crops/pic_a6a8bd_4_b.png  \n",
            "  inflating: /content/train_crops/content/train_crops/pic_0igt_2_g.png  \n",
            "  inflating: /content/train_crops/content/train_crops/pic_aw95838_2_9.png  \n",
            "  inflating: /content/train_crops/content/train_crops/pic_wr4q87bo_0_w.png  \n",
            "  inflating: /content/train_crops/content/train_crops/pic_v6ktn5x_6_x.png  \n",
            "  inflating: /content/train_crops/content/train_crops/pic_urrs99_5_9.png  \n",
            "  inflating: /content/train_crops/content/train_crops/pic_2fpzy_0_2.png  \n",
            "  inflating: /content/train_crops/content/train_crops/pic_8pfi4_4_4.png  \n",
            "  inflating: /content/train_crops/content/train_crops/pic_9da1v9kh_2_a.png  \n",
            "  inflating: /content/train_crops/content/train_crops/pic_kxhz_3_z.png  \n",
            "  inflating: /content/train_crops/content/train_crops/pic_6qe5z8_0_6.png  \n",
            "  inflating: /content/train_crops/content/train_crops/pic_wa72bh8_5_h.png  \n",
            "  inflating: /content/train_crops/content/train_crops/pic_d61p3_1_6.png  \n",
            "  inflating: /content/train_crops/content/train_crops/pic_y33tti_2_3.png  \n",
            "  inflating: /content/train_crops/content/train_crops/pic_vv8krrd_6_d.png  \n",
            "  inflating: /content/train_crops/content/train_crops/pic_tqp3gxkv_1_q.png  \n",
            "  inflating: /content/train_crops/content/train_crops/pic_gr99ma_0_g.png  \n",
            "  inflating: /content/train_crops/content/train_crops/pic_y69f7h9v_7_v.png  \n",
            "  inflating: /content/train_crops/content/train_crops/pic_s3nxf_1_3.png  \n",
            "  inflating: /content/train_crops/content/train_crops/pic_tt9kr_0_t.png  \n",
            "  inflating: /content/train_crops/content/train_crops/pic_sgt8_1_g.png  \n",
            "  inflating: /content/train_crops/content/train_crops/pic_5v1m1p_2_1.png  \n",
            "  inflating: /content/train_crops/content/train_crops/pic_49dd_3_d.png  \n",
            "  inflating: /content/train_crops/content/train_crops/pic_6toeeyqt_2_o.png  \n",
            "  inflating: /content/train_crops/content/train_crops/pic_o8u33_4_3.png  \n",
            "  inflating: /content/train_crops/content/train_crops/pic_1070rp_3_0.png  \n",
            "  inflating: /content/train_crops/content/train_crops/pic_d7vv13_5_3.png  \n",
            "  inflating: /content/train_crops/content/train_crops/pic_jnss_1_n.png  \n",
            "  inflating: /content/train_crops/content/train_crops/pic_h8izw79_4_w.png  \n",
            "  inflating: /content/train_crops/content/train_crops/pic_06mhii9s_7_s.png  \n",
            "  inflating: /content/train_crops/content/train_crops/pic_dkbv9bm1_3_v.png  \n",
            "  inflating: /content/train_crops/content/train_crops/pic_0msvk_4_k.png  \n",
            "  inflating: /content/train_crops/content/train_crops/pic_exq9vfa_3_9.png  \n",
            "  inflating: /content/train_crops/content/train_crops/pic_1igi4x_0_1.png  \n",
            "  inflating: /content/train_crops/content/train_crops/pic_w21qu1qv_2_1.png  \n",
            "  inflating: /content/train_crops/content/train_crops/pic_09cg0th_1_9.png  \n",
            "  inflating: /content/train_crops/content/train_crops/pic_xbhmd7_4_d.png  \n",
            "  inflating: /content/train_crops/content/train_crops/pic_hllt8r0x_5_r.png  \n",
            "  inflating: /content/train_crops/content/train_crops/pic_ie4utu5_5_u.png  \n",
            "  inflating: /content/train_crops/content/train_crops/pic_hd2f9h06_3_f.png  \n",
            "  inflating: /content/train_crops/content/train_crops/pic_nbi84_0_n.png  \n",
            "  inflating: /content/train_crops/content/train_crops/pic_2sp4qr5_2_p.png  \n",
            "  inflating: /content/train_crops/content/train_crops/pic_742bv_3_b.png  \n",
            "  inflating: /content/train_crops/content/train_crops/pic_1w55es_3_5.png  \n",
            "  inflating: /content/train_crops/content/train_crops/pic_r3qkc7r_4_c.png  \n",
            "  inflating: /content/train_crops/content/train_crops/pic_757nj1bv_2_7.png  \n",
            "  inflating: /content/train_crops/content/train_crops/pic_53y2_0_5.png  \n",
            "  inflating: /content/train_crops/content/train_crops/pic_tf2tp_1_f.png  \n",
            "  inflating: /content/train_crops/content/train_crops/pic_06tjxmvu_3_j.png  \n",
            "  inflating: /content/train_crops/content/train_crops/pic_k67wph_3_w.png  \n",
            "  inflating: /content/train_crops/content/train_crops/pic_hepd2t5_6_5.png  \n",
            "  inflating: /content/train_crops/content/train_crops/pic_pt1id0x_2_1.png  \n",
            "  inflating: /content/train_crops/content/train_crops/pic_l3m2q_1_3.png  \n",
            "  inflating: /content/train_crops/content/train_crops/pic_eggxt3ug_1_g.png  \n",
            "  inflating: /content/train_crops/content/train_crops/pic_gd9tkjym_2_9.png  \n",
            "  inflating: /content/train_crops/content/train_crops/pic_2jba_3_a.png  \n",
            "  inflating: /content/train_crops/content/train_crops/pic_pmh00o5k_3_0.png  \n",
            "  inflating: /content/train_crops/content/train_crops/pic_8klojx1g_0_8.png  \n",
            "  inflating: /content/train_crops/content/train_crops/pic_3iwq02sq_1_i.png  \n",
            "  inflating: /content/train_crops/content/train_crops/pic_hz80kngj_2_8.png  \n",
            "  inflating: /content/train_crops/content/train_crops/pic_4m7qlgt_4_l.png  \n",
            "  inflating: /content/train_crops/content/train_crops/pic_m5ixf08p_7_p.png  \n",
            "  inflating: /content/train_crops/content/train_crops/pic_9ftegl_4_g.png  \n",
            "  inflating: /content/train_crops/content/train_crops/pic_5rr7x5_4_x.png  \n",
            "  inflating: /content/train_crops/content/train_crops/pic_rxf9ls5_5_s.png  \n",
            "  inflating: /content/train_crops/content/train_crops/pic_3wr4ldd0_7_0.png  \n",
            "  inflating: /content/train_crops/content/train_crops/pic_zvgd_0_z.png  \n",
            "  inflating: /content/train_crops/content/train_crops/pic_k0g6qsk_0_k.png  \n",
            "  inflating: /content/train_crops/content/train_crops/pic_c0axp6o_0_c.png  \n",
            "  inflating: /content/train_crops/content/train_crops/pic_hyvjpx5j_5_x.png  \n",
            "  inflating: /content/train_crops/content/train_crops/pic_0hox6_2_o.png  \n",
            "  inflating: /content/train_crops/content/train_crops/pic_2lylbmw_5_m.png  \n",
            "  inflating: /content/train_crops/content/train_crops/pic_9df4_0_9.png  \n",
            "  inflating: /content/train_crops/content/train_crops/pic_7545yfw_6_w.png  \n",
            "  inflating: /content/train_crops/content/train_crops/pic_wtlp1wls_6_l.png  \n",
            "  inflating: /content/train_crops/content/train_crops/pic_co9nerl_3_n.png  \n",
            "  inflating: /content/train_crops/content/train_crops/pic_15c00p2g_2_c.png  \n",
            "  inflating: /content/train_crops/content/train_crops/pic_omvz3e_2_v.png  \n",
            "  inflating: /content/train_crops/content/train_crops/pic_j5s5mgs_1_5.png  \n",
            "  inflating: /content/train_crops/content/train_crops/pic_0jquwsk_2_q.png  \n",
            "  inflating: /content/train_crops/content/train_crops/pic_shmuo9_5_9.png  \n",
            "  inflating: /content/train_crops/content/train_crops/pic_dykn1sqs_3_n.png  \n",
            "  inflating: /content/train_crops/content/train_crops/pic_v6gyn_2_g.png  \n",
            "  inflating: /content/train_crops/content/train_crops/pic_rlcnd_2_c.png  \n",
            "  inflating: /content/train_crops/content/train_crops/pic_klun2jw_1_l.png  \n",
            "  inflating: /content/train_crops/content/train_crops/pic_i6zmyb72_0_i.png  \n",
            "  inflating: /content/train_crops/content/train_crops/pic_54tmhmb_2_t.png  \n",
            "  inflating: /content/train_crops/content/train_crops/pic_kg4294b_1_g.png  \n",
            "  inflating: /content/train_crops/content/train_crops/pic_2cp8_2_p.png  \n",
            "  inflating: /content/train_crops/content/train_crops/pic_737y1268_2_7.png  \n",
            "  inflating: /content/train_crops/content/train_crops/pic_oxuf_2_u.png  \n",
            "  inflating: /content/train_crops/content/train_crops/pic_uneor2j2_0_u.png  \n",
            "  inflating: /content/train_crops/content/train_crops/pic_911ye_2_1.png  \n",
            "  inflating: /content/train_crops/content/train_crops/pic_8zfaxm_4_x.png  \n",
            "  inflating: /content/train_crops/content/train_crops/pic_ir2iem_4_e.png  \n",
            "  inflating: /content/train_crops/content/train_crops/pic_04yh1rvu_2_y.png  \n",
            "  inflating: /content/train_crops/content/train_crops/pic_tvs2ncr_6_r.png  \n",
            "  inflating: /content/train_crops/content/train_crops/pic_jrzd2um7_0_j.png  \n",
            "  inflating: /content/train_crops/content/train_crops/pic_tsr9iid_1_s.png  \n",
            "  inflating: /content/train_crops/content/train_crops/pic_05u5elo_6_o.png  \n",
            "  inflating: /content/train_crops/content/train_crops/pic_9oae7z6_4_7.png  \n",
            "  inflating: /content/train_crops/content/train_crops/pic_9e2aipm6_0_9.png  \n",
            "  inflating: /content/train_crops/content/train_crops/pic_9r3pxr3_5_r.png  \n",
            "  inflating: /content/train_crops/content/train_crops/pic_ep8z3nv_5_n.png  \n",
            "  inflating: /content/train_crops/content/train_crops/pic_aqxiy_1_q.png  \n",
            "  inflating: /content/train_crops/content/train_crops/pic_fe7ous_4_u.png  \n",
            "  inflating: /content/train_crops/content/train_crops/pic_78ugrnh9_7_9.png  \n",
            "  inflating: /content/train_crops/content/train_crops/pic_4rcb_1_r.png  \n",
            "  inflating: /content/train_crops/content/train_crops/pic_q4k4_3_4.png  \n",
            "  inflating: /content/train_crops/content/train_crops/pic_rl65ku_2_6.png  \n",
            "  inflating: /content/train_crops/content/train_crops/pic_etueasgq_7_q.png  \n",
            "  inflating: /content/train_crops/content/train_crops/pic_fcqnbfk_5_f.png  \n",
            "  inflating: /content/train_crops/content/train_crops/pic_ps6613_3_6.png  \n",
            "  inflating: /content/train_crops/content/train_crops/pic_amlny_4_y.png  \n",
            "  inflating: /content/train_crops/content/train_crops/pic_nq56i_1_q.png  \n",
            "  inflating: /content/train_crops/content/train_crops/pic_561eph4i_0_5.png  \n",
            "  inflating: /content/train_crops/content/train_crops/pic_kvwnawj_1_v.png  \n",
            "  inflating: /content/train_crops/content/train_crops/pic_k2erja_5_a.png  \n",
            "  inflating: /content/train_crops/content/train_crops/pic_ywwwm_2_w.png  \n",
            "  inflating: /content/train_crops/content/train_crops/pic_6bcekn_5_n.png  \n",
            "  inflating: /content/train_crops/content/train_crops/pic_oy3tamb_0_o.png  \n",
            "  inflating: /content/train_crops/content/train_crops/pic_9o8hs65_1_o.png  \n",
            "  inflating: /content/train_crops/content/train_crops/pic_i5lr7d_2_l.png  \n",
            "  inflating: /content/train_crops/content/train_crops/pic_cchiy0a_6_a.png  \n",
            "  inflating: /content/train_crops/content/train_crops/pic_enwlehj_4_e.png  \n",
            "  inflating: /content/train_crops/content/train_crops/pic_4vzc_2_z.png  \n",
            "  inflating: /content/train_crops/content/train_crops/pic_0nhe37q_3_e.png  \n",
            "  inflating: /content/train_crops/content/train_crops/pic_6p7k_3_k.png  \n",
            "  inflating: /content/train_crops/content/train_crops/pic_73bvzw0j_5_w.png  \n",
            "  inflating: /content/train_crops/content/train_crops/pic_zpb93alq_1_p.png  \n",
            "  inflating: /content/train_crops/content/train_crops/pic_4kht8_4_8.png  \n",
            "  inflating: /content/train_crops/content/train_crops/pic_hw3khug_4_h.png  \n",
            "  inflating: /content/train_crops/content/train_crops/pic_i5t4f5_3_4.png  \n",
            "  inflating: /content/train_crops/content/train_crops/pic_69n150_2_n.png  \n",
            "  inflating: /content/train_crops/content/train_crops/pic_bwi6lz_3_6.png  \n",
            "  inflating: /content/train_crops/content/train_crops/pic_cvixovq_0_c.png  \n",
            "  inflating: /content/train_crops/content/train_crops/pic_cyy7_2_y.png  \n",
            "  inflating: /content/train_crops/content/train_crops/pic_e0iv3rz_2_i.png  \n",
            "  inflating: /content/train_crops/content/train_crops/pic_rcywcx3_3_w.png  \n",
            "  inflating: /content/train_crops/content/train_crops/pic_4rxzjpy_1_r.png  \n",
            "  inflating: /content/train_crops/content/train_crops/pic_uwlf66w8_5_6.png  \n",
            "  inflating: /content/train_crops/content/train_crops/pic_jhvrrmnu_3_r.png  \n",
            "  inflating: /content/train_crops/content/train_crops/pic_r8ete28b_4_e.png  \n",
            "  inflating: /content/train_crops/content/train_crops/pic_bulfkk_0_b.png  \n",
            "  inflating: /content/train_crops/content/train_crops/pic_wmw9umzq_5_m.png  \n",
            "  inflating: /content/train_crops/content/train_crops/pic_nwew7s_0_n.png  \n",
            "  inflating: /content/train_crops/content/train_crops/pic_70ogaee_0_7.png  \n",
            "  inflating: /content/train_crops/content/train_crops/pic_shx46lx_4_6.png  \n",
            "  inflating: /content/train_crops/content/train_crops/pic_kvbwywx_6_x.png  \n",
            "  inflating: /content/train_crops/content/train_crops/pic_mxr8db8w_0_m.png  \n",
            "  inflating: /content/train_crops/content/train_crops/pic_ls2wak49_3_w.png  \n",
            "  inflating: /content/train_crops/content/train_crops/pic_gu1dd53v_2_1.png  \n",
            "  inflating: /content/train_crops/content/train_crops/pic_4bhizzz_5_z.png  \n",
            "  inflating: /content/train_crops/content/train_crops/pic_cn75_1_n.png  \n",
            "  inflating: /content/train_crops/content/train_crops/pic_jhlyr_0_j.png  \n",
            "  inflating: /content/train_crops/content/train_crops/pic_8f0agm0r_4_g.png  \n",
            "  inflating: /content/train_crops/content/train_crops/pic_55ychzt_2_y.png  \n",
            "  inflating: /content/train_crops/content/train_crops/pic_6aadla94_2_a.png  \n",
            "  inflating: /content/train_crops/content/train_crops/pic_1p54wt_5_t.png  \n",
            "  inflating: /content/train_crops/content/train_crops/pic_gzsv58_1_z.png  \n",
            "  inflating: /content/train_crops/content/train_crops/pic_hy83z7q_3_3.png  \n",
            "  inflating: /content/train_crops/content/train_crops/pic_yv4nqll2_7_2.png  \n",
            "  inflating: /content/train_crops/content/train_crops/pic_ztodeq_0_z.png  \n",
            "  inflating: /content/train_crops/content/train_crops/pic_jhx9ao_5_o.png  \n",
            "  inflating: /content/train_crops/content/train_crops/pic_6omc_3_c.png  \n",
            "  inflating: /content/train_crops/content/train_crops/pic_qfthxok7_4_x.png  \n",
            "  inflating: /content/train_crops/content/train_crops/pic_8yv00c_4_0.png  \n",
            "  inflating: /content/train_crops/content/train_crops/pic_82tt8k5m_7_m.png  \n",
            "  inflating: /content/train_crops/content/train_crops/pic_y9ii18yh_2_i.png  \n",
            "  inflating: /content/train_crops/content/train_crops/pic_8hxj_0_8.png  \n",
            "  inflating: /content/train_crops/content/train_crops/pic_mgiurjm_3_u.png  \n",
            "  inflating: /content/train_crops/content/train_crops/pic_j4bgpn_0_j.png  \n",
            "  inflating: /content/train_crops/content/train_crops/pic_zbhhlp5_3_h.png  \n",
            "  inflating: /content/train_crops/content/train_crops/pic_q0ekg9ip_5_9.png  \n",
            "  inflating: /content/train_crops/content/train_crops/pic_56gjq3ib_3_j.png  \n",
            "  inflating: /content/train_crops/content/train_crops/pic_ryq9_0_r.png  \n",
            "  inflating: /content/train_crops/content/train_crops/pic_e8log_4_g.png  \n",
            "  inflating: /content/train_crops/content/train_crops/pic_q4b44wle_4_4.png  \n",
            "  inflating: /content/train_crops/content/train_crops/pic_ld8sn_4_n.png  \n",
            "  inflating: /content/train_crops/content/train_crops/pic_xdv0pp1q_7_q.png  \n",
            "  inflating: /content/train_crops/content/train_crops/pic_3bxdtr9_3_d.png  \n",
            "  inflating: /content/train_crops/content/train_crops/pic_7bv8_2_v.png  \n",
            "  inflating: /content/train_crops/content/train_crops/pic_pd4p_1_d.png  \n",
            "  inflating: /content/train_crops/content/train_crops/pic_kj9jw20y_0_k.png  \n",
            "  inflating: /content/train_crops/content/train_crops/pic_vmii_0_v.png  \n",
            "  inflating: /content/train_crops/content/train_crops/pic_gjq2xg2_4_x.png  \n",
            "  inflating: /content/train_crops/content/train_crops/pic_41ghb_4_b.png  \n",
            "  inflating: /content/train_crops/content/train_crops/pic_91kca3_1_1.png  \n",
            "  inflating: /content/train_crops/content/train_crops/pic_m6asp6kb_1_6.png  \n",
            "  inflating: /content/train_crops/content/train_crops/pic_qcxufl_3_u.png  \n",
            "  inflating: /content/train_crops/content/train_crops/pic_po3qd_2_3.png  \n",
            "  inflating: /content/train_crops/content/train_crops/pic_lkfa8mb_3_a.png  \n",
            "  inflating: /content/train_crops/content/train_crops/pic_f9jz53t_0_f.png  \n",
            "  inflating: /content/train_crops/content/train_crops/pic_7wqt_1_w.png  \n",
            "  inflating: /content/train_crops/content/train_crops/pic_kt6o8e_3_o.png  \n",
            "  inflating: /content/train_crops/content/train_crops/pic_2dkp9x_4_9.png  \n",
            "  inflating: /content/train_crops/content/train_crops/pic_qnth9nig_5_n.png  \n",
            "  inflating: /content/train_crops/content/train_crops/pic_v5chy88_0_v.png  \n",
            "  inflating: /content/train_crops/content/train_crops/pic_auhrk4_2_h.png  \n",
            "  inflating: /content/train_crops/content/train_crops/pic_xjnijun1_6_n.png  \n",
            "  inflating: /content/train_crops/content/train_crops/pic_eo5uwsd5_1_o.png  \n",
            "  inflating: /content/train_crops/content/train_crops/pic_32917thd_2_9.png  \n",
            "  inflating: /content/train_crops/content/train_crops/pic_8dkylr4_3_y.png  \n",
            "  inflating: /content/train_crops/content/train_crops/pic_ut6vavy_0_u.png  \n",
            "  inflating: /content/train_crops/content/train_crops/pic_lzihpwh_5_w.png  \n",
            "  inflating: /content/train_crops/content/train_crops/pic_7ck1cwqo_2_k.png  \n",
            "  inflating: /content/train_crops/content/train_crops/pic_lecmgsre_7_e.png  \n",
            "  inflating: /content/train_crops/content/train_crops/pic_p6kl_1_6.png  \n",
            "  inflating: /content/train_crops/content/train_crops/pic_mmfe4z6t_3_e.png  \n",
            "  inflating: /content/train_crops/content/train_crops/pic_oc885_0_o.png  \n",
            "  inflating: /content/train_crops/content/train_crops/pic_5la5_2_a.png  \n",
            "  inflating: /content/train_crops/content/train_crops/pic_0ddxn5qc_2_d.png  \n",
            "  inflating: /content/train_crops/content/train_crops/pic_7q8e3pue_2_8.png  \n",
            "  inflating: /content/train_crops/content/train_crops/pic_qqhcyy_1_q.png  \n",
            "  inflating: /content/train_crops/content/train_crops/pic_45p9d_2_p.png  \n",
            "  inflating: /content/train_crops/content/train_crops/pic_3h4tr0t_0_3.png  \n",
            "  inflating: /content/train_crops/content/train_crops/pic_doj4_1_o.png  \n",
            "  inflating: /content/train_crops/content/train_crops/pic_obqecbr_0_o.png  \n",
            "  inflating: /content/train_crops/content/train_crops/pic_amslm023_7_3.png  \n",
            "  inflating: /content/train_crops/content/train_crops/pic_vf3zdvo_5_v.png  \n",
            "  inflating: /content/train_crops/content/train_crops/pic_cgxc_2_x.png  \n",
            "  inflating: /content/train_crops/content/train_crops/pic_kk84z3o_1_k.png  \n",
            "  inflating: /content/train_crops/content/train_crops/pic_9osk_1_o.png  \n",
            "  inflating: /content/train_crops/content/train_crops/pic_4vvnwhx1_6_x.png  \n",
            "  inflating: /content/train_crops/content/train_crops/pic_vkqilkuo_7_o.png  \n",
            "  inflating: /content/train_crops/content/train_crops/pic_d94k_2_4.png  \n",
            "  inflating: /content/train_crops/content/train_crops/pic_2qf7lro_5_r.png  \n",
            "  inflating: /content/train_crops/content/train_crops/pic_76tm4q_5_q.png  \n",
            "  inflating: /content/train_crops/content/train_crops/pic_2puv94a_3_v.png  \n",
            "  inflating: /content/train_crops/content/train_crops/pic_0bvgr_1_b.png  \n",
            "  inflating: /content/train_crops/content/train_crops/pic_mgimpd_0_m.png  \n",
            "  inflating: /content/train_crops/content/train_crops/pic_7oamizja_3_m.png  \n",
            "  inflating: /content/train_crops/content/train_crops/pic_wks5_2_s.png  \n",
            "  inflating: /content/train_crops/content/train_crops/pic_aj8lu8_5_8.png  \n",
            "  inflating: /content/train_crops/content/train_crops/pic_fmu434t_1_m.png  \n",
            "  inflating: /content/train_crops/content/train_crops/pic_8z46r6r_2_4.png  \n",
            "  inflating: /content/train_crops/content/train_crops/pic_5fkn14y_3_n.png  \n",
            "  inflating: /content/train_crops/content/train_crops/pic_ww80ktq3_0_w.png  \n",
            "  inflating: /content/train_crops/content/train_crops/pic_2b5odm4q_6_4.png  \n",
            "  inflating: /content/train_crops/content/train_crops/pic_l0qq5_0_l.png  \n",
            "  inflating: /content/train_crops/content/train_crops/pic_f8yf_1_8.png  \n",
            "  inflating: /content/train_crops/content/train_crops/pic_7v2460_4_6.png  \n",
            "  inflating: /content/train_crops/content/train_crops/pic_h3bvoj_2_b.png  \n",
            "  inflating: /content/train_crops/content/train_crops/pic_vxo8lw_4_l.png  \n",
            "  inflating: /content/train_crops/content/train_crops/pic_cwo1d_2_o.png  \n",
            "  inflating: /content/train_crops/content/train_crops/pic_0xxukpj_6_j.png  \n",
            "  inflating: /content/train_crops/content/train_crops/pic_sipi_1_i.png  \n",
            "  inflating: /content/train_crops/content/train_crops/pic_atm5mjuh_7_h.png  \n",
            "  inflating: /content/train_crops/content/train_crops/pic_2r14u2z_0_2.png  \n",
            "  inflating: /content/train_crops/content/train_crops/pic_nhotstv_5_t.png  \n",
            "  inflating: /content/train_crops/content/train_crops/pic_kp1hc_4_c.png  \n",
            "  inflating: /content/train_crops/content/train_crops/pic_tsr9iid_2_r.png  \n",
            "  inflating: /content/train_crops/content/train_crops/pic_uztmplx4_4_p.png  \n",
            "  inflating: /content/train_crops/content/train_crops/pic_owin2n_0_o.png  \n",
            "  inflating: /content/train_crops/content/train_crops/pic_bm6bqs_3_b.png  \n",
            "  inflating: /content/train_crops/content/train_crops/pic_q0eciku_4_i.png  \n",
            "  inflating: /content/train_crops/content/train_crops/pic_kp69bk9g_6_9.png  \n",
            "  inflating: /content/train_crops/content/train_crops/pic_e69dz4z_0_e.png  \n",
            "  inflating: /content/train_crops/content/train_crops/pic_d737nii_1_7.png  \n",
            "  inflating: /content/train_crops/content/train_crops/pic_9xav8op_4_8.png  \n",
            "  inflating: /content/train_crops/content/train_crops/pic_12ozbizk_4_b.png  \n",
            "  inflating: /content/train_crops/content/train_crops/pic_ujxf_1_j.png  \n",
            "  inflating: /content/train_crops/content/train_crops/pic_vueex1o4_4_x.png  \n",
            "  inflating: /content/train_crops/content/train_crops/pic_d9rri0_3_r.png  \n",
            "  inflating: /content/train_crops/content/train_crops/pic_kjz60r_0_k.png  \n",
            "  inflating: /content/train_crops/content/train_crops/pic_0oqgkj_2_q.png  \n",
            "  inflating: /content/train_crops/content/train_crops/pic_610dwqa7_5_q.png  \n",
            "  inflating: /content/train_crops/content/train_crops/pic_5zh2nrb_5_r.png  \n",
            "  inflating: /content/train_crops/content/train_crops/pic_8csy22m_2_s.png  \n",
            "  inflating: /content/train_crops/content/train_crops/pic_6t82hn7h_1_t.png  \n",
            "  inflating: /content/train_crops/content/train_crops/pic_m2utnou_1_2.png  \n",
            "  inflating: /content/train_crops/content/train_crops/pic_uct5592j_7_j.png  \n",
            "  inflating: /content/train_crops/content/train_crops/pic_owmg_3_g.png  \n",
            "  inflating: /content/train_crops/content/train_crops/pic_rvld_3_d.png  \n",
            "  inflating: /content/train_crops/content/train_crops/pic_rwnu8leq_0_r.png  \n",
            "  inflating: /content/train_crops/content/train_crops/pic_zeh6cgv_6_v.png  \n",
            "  inflating: /content/train_crops/content/train_crops/pic_7actv_1_a.png  \n",
            "  inflating: /content/train_crops/content/train_crops/pic_g7pft2_4_t.png  \n",
            "  inflating: /content/train_crops/content/train_crops/pic_9gp0_1_g.png  \n",
            "  inflating: /content/train_crops/content/train_crops/pic_cenljjt_6_t.png  \n",
            "  inflating: /content/train_crops/content/train_crops/pic_g3lxinu_5_n.png  \n",
            "  inflating: /content/train_crops/content/train_crops/pic_zofxz_4_z.png  \n",
            "  inflating: /content/train_crops/content/train_crops/pic_tkx3x_3_3.png  \n",
            "  inflating: /content/train_crops/content/train_crops/pic_6aadla94_5_a.png  \n",
            "  inflating: /content/train_crops/content/train_crops/pic_chqdobkr_0_c.png  \n",
            "  inflating: /content/train_crops/content/train_crops/pic_upz9c_2_z.png  \n",
            "  inflating: /content/train_crops/content/train_crops/pic_ti319w_4_9.png  \n",
            "  inflating: /content/train_crops/content/train_crops/pic_eextu94_6_4.png  \n",
            "  inflating: /content/train_crops/content/train_crops/pic_xm3r_1_m.png  \n",
            "  inflating: /content/train_crops/content/train_crops/pic_srmxqzmq_1_r.png  \n",
            "  inflating: /content/train_crops/content/train_crops/pic_xm5wxh_2_5.png  \n",
            "  inflating: /content/train_crops/content/train_crops/pic_wdwzc6_1_d.png  \n",
            "  inflating: /content/train_crops/content/train_crops/pic_2ufo9hqq_5_h.png  \n",
            "  inflating: /content/train_crops/content/train_crops/pic_rp4v_1_p.png  \n",
            "  inflating: /content/train_crops/content/train_crops/pic_o3jih4ie_0_o.png  \n",
            "  inflating: /content/train_crops/content/train_crops/pic_lbuh_0_l.png  \n",
            "  inflating: /content/train_crops/content/train_crops/pic_g6l2_1_6.png  \n",
            "  inflating: /content/train_crops/content/train_crops/pic_mvy8y2x6_7_6.png  \n",
            "  inflating: /content/train_crops/content/train_crops/pic_mf1q_3_q.png  \n",
            "  inflating: /content/train_crops/content/train_crops/pic_6gomxb_5_b.png  \n",
            "  inflating: /content/train_crops/content/train_crops/pic_rs1z3_2_1.png  \n",
            "  inflating: /content/train_crops/content/train_crops/pic_krblmjxs_5_j.png  \n",
            "  inflating: /content/train_crops/content/train_crops/pic_qibpw0_0_q.png  \n",
            "  inflating: /content/train_crops/content/train_crops/pic_4qxd_2_x.png  \n",
            "  inflating: /content/train_crops/content/train_crops/pic_51oap8f_0_5.png  \n",
            "  inflating: /content/train_crops/content/train_crops/pic_ybno_3_o.png  \n",
            "  inflating: /content/train_crops/content/train_crops/pic_d7wq3kvt_6_v.png  \n",
            "  inflating: /content/train_crops/content/train_crops/pic_8ouita_5_a.png  \n",
            "  inflating: /content/train_crops/content/train_crops/pic_58bp1pgm_6_g.png  \n",
            "  inflating: /content/train_crops/content/train_crops/pic_8v31on7r_5_n.png  \n",
            "  inflating: /content/train_crops/content/train_crops/pic_6vwvgo6_6_6.png  \n",
            "  inflating: /content/train_crops/content/train_crops/pic_5cjs_3_s.png  \n",
            "  inflating: /content/train_crops/content/train_crops/pic_tjd323_1_j.png  \n",
            "  inflating: /content/train_crops/content/train_crops/pic_8oqsgr_4_g.png  \n",
            "  inflating: /content/train_crops/content/train_crops/pic_6jo7hq_0_6.png  \n",
            "  inflating: /content/train_crops/content/train_crops/pic_qnvwmpl_6_l.png  \n",
            "  inflating: /content/train_crops/content/train_crops/pic_6z007hv0_6_v.png  \n",
            "  inflating: /content/train_crops/content/train_crops/pic_b1e1kx_0_b.png  \n",
            "  inflating: /content/train_crops/content/train_crops/pic_s62c6h_5_h.png  \n",
            "  inflating: /content/train_crops/content/train_crops/pic_v7bw22u_6_u.png  \n",
            "  inflating: /content/train_crops/content/train_crops/pic_ryss_2_s.png  \n",
            "  inflating: /content/train_crops/content/train_crops/pic_rl19m4y5_2_1.png  \n",
            "  inflating: /content/train_crops/content/train_crops/pic_a1rj4_2_r.png  \n",
            "  inflating: /content/train_crops/content/train_crops/pic_fhbhmm8_3_h.png  \n",
            "  inflating: /content/train_crops/content/train_crops/pic_1y50dcgt_3_0.png  \n",
            "  inflating: /content/train_crops/content/train_crops/pic_uidb4r_4_4.png  \n",
            "  inflating: /content/train_crops/content/train_crops/pic_zk1kks_3_k.png  \n",
            "  inflating: /content/train_crops/content/train_crops/pic_z7h5irp_6_p.png  \n",
            "  inflating: /content/train_crops/content/train_crops/pic_1t0y82oj_2_0.png  \n",
            "  inflating: /content/train_crops/content/train_crops/pic_902p_0_9.png  \n",
            "  inflating: /content/train_crops/content/train_crops/pic_955ymvu_6_u.png  \n",
            "  inflating: /content/train_crops/content/train_crops/pic_qn0nstb_5_t.png  \n",
            "  inflating: /content/train_crops/content/train_crops/pic_nujqf_0_n.png  \n",
            "  inflating: /content/train_crops/content/train_crops/pic_emuh_2_u.png  \n",
            "  inflating: /content/train_crops/content/train_crops/pic_m3gi2q0_3_i.png  \n",
            "  inflating: /content/train_crops/content/train_crops/pic_bsqrf4_4_f.png  \n",
            "  inflating: /content/train_crops/content/train_crops/pic_7z5kuzva_4_u.png  \n",
            "  inflating: /content/train_crops/content/train_crops/pic_9h6uwo_2_6.png  \n",
            "  inflating: /content/train_crops/content/train_crops/pic_1sqhi7h3_5_7.png  \n",
            "  inflating: /content/train_crops/content/train_crops/pic_y3rrj_2_r.png  \n",
            "  inflating: /content/train_crops/content/train_crops/pic_i97t1l11_6_1.png  \n",
            "  inflating: /content/train_crops/content/train_crops/pic_gacoecl_1_a.png  \n",
            "  inflating: /content/train_crops/content/train_crops/pic_7twrv_1_t.png  \n",
            "  inflating: /content/train_crops/content/train_crops/pic_hrle331_2_l.png  \n",
            "  inflating: /content/train_crops/content/train_crops/pic_a2vkhzdi_3_k.png  \n",
            "  inflating: /content/train_crops/content/train_crops/pic_y6rjq_2_r.png  \n",
            "  inflating: /content/train_crops/content/train_crops/pic_4ni0s7_1_n.png  \n",
            "  inflating: /content/train_crops/content/train_crops/pic_ry1ba8_1_y.png  \n",
            "  inflating: /content/train_crops/content/train_crops/pic_hse6_3_6.png  \n",
            "  inflating: /content/train_crops/content/train_crops/pic_iq26_0_i.png  \n",
            "  inflating: /content/train_crops/content/train_crops/pic_nbj0_2_j.png  \n",
            "  inflating: /content/train_crops/content/train_crops/pic_j8gm_2_g.png  \n",
            "  inflating: /content/train_crops/content/train_crops/pic_pqwvj76_2_w.png  \n",
            "  inflating: /content/train_crops/content/train_crops/pic_2yq7kv1v_3_7.png  \n",
            "  inflating: /content/train_crops/content/train_crops/pic_8tq00_3_0.png  \n",
            "  inflating: /content/train_crops/content/train_crops/pic_94w29l95_3_2.png  \n",
            "  inflating: /content/train_crops/content/train_crops/pic_j6uct7_0_j.png  \n",
            "  inflating: /content/train_crops/content/train_crops/pic_y74bsx_2_4.png  \n",
            "  inflating: /content/train_crops/content/train_crops/pic_24vmyaq_4_y.png  \n",
            "  inflating: /content/train_crops/content/train_crops/pic_6uno_0_6.png  \n",
            "  inflating: /content/train_crops/content/train_crops/pic_d8wo4_0_d.png  \n",
            "  inflating: /content/train_crops/content/train_crops/pic_wkpmlu_3_m.png  \n",
            "  inflating: /content/train_crops/content/train_crops/pic_79qx0fis_7_s.png  \n",
            "  inflating: /content/train_crops/content/train_crops/pic_enik1_0_e.png  \n",
            "  inflating: /content/train_crops/content/train_crops/pic_d7csoje_3_s.png  \n",
            "  inflating: /content/train_crops/content/train_crops/pic_nke74_1_k.png  \n",
            "  inflating: /content/train_crops/content/train_crops/pic_ntgdfao_5_a.png  \n",
            "  inflating: /content/train_crops/content/train_crops/pic_3okt6_2_k.png  \n",
            "  inflating: /content/train_crops/content/train_crops/pic_nbqm_0_n.png  \n",
            "  inflating: /content/train_crops/content/train_crops/pic_t9jfbddu_3_f.png  \n",
            "  inflating: /content/train_crops/content/train_crops/pic_esuppp_0_e.png  \n",
            "  inflating: /content/train_crops/content/train_crops/pic_txlaq5vr_4_q.png  \n",
            "  inflating: /content/train_crops/content/train_crops/pic_6d6wnrn_5_r.png  \n",
            "  inflating: /content/train_crops/content/train_crops/pic_rlot4z_5_z.png  \n",
            "  inflating: /content/train_crops/content/train_crops/pic_1048_3_8.png  \n",
            "  inflating: /content/train_crops/content/train_crops/pic_nekyx2_1_e.png  \n",
            "  inflating: /content/train_crops/content/train_crops/pic_2uba9hkt_0_2.png  \n",
            "  inflating: /content/train_crops/content/train_crops/pic_vverai6p_2_e.png  \n",
            "  inflating: /content/train_crops/content/train_crops/pic_az0qfye_3_q.png  \n",
            "  inflating: /content/train_crops/content/train_crops/pic_y3ln7yq_0_y.png  \n",
            "  inflating: /content/train_crops/content/train_crops/pic_va10u75b_2_1.png  \n",
            "  inflating: /content/train_crops/content/train_crops/pic_t1uple7_2_u.png  \n",
            "  inflating: /content/train_crops/content/train_crops/pic_ip04y_2_0.png  \n",
            "  inflating: /content/train_crops/content/train_crops/pic_uto4bheu_0_u.png  \n",
            "  inflating: /content/train_crops/content/train_crops/pic_79dkjsrg_0_7.png  \n",
            "  inflating: /content/train_crops/content/train_crops/pic_m034qpr_0_m.png  \n",
            "  inflating: /content/train_crops/content/train_crops/pic_uzaj85_1_z.png  \n",
            "  inflating: /content/train_crops/content/train_crops/pic_arahdv_5_v.png  \n",
            "  inflating: /content/train_crops/content/train_crops/pic_odbgo7dv_2_b.png  \n",
            "  inflating: /content/train_crops/content/train_crops/pic_6gtx8wi_1_g.png  \n",
            "  inflating: /content/train_crops/content/train_crops/pic_vtw6ql_5_l.png  \n",
            "  inflating: /content/train_crops/content/train_crops/pic_h977iqqc_2_7.png  \n",
            "  inflating: /content/train_crops/content/train_crops/pic_m233c9_2_3.png  \n",
            "  inflating: /content/train_crops/content/train_crops/pic_sne2ee_2_e.png  \n",
            "  inflating: /content/train_crops/content/train_crops/pic_my4jz_4_z.png  \n",
            "  inflating: /content/train_crops/content/train_crops/pic_2hodmu_0_2.png  \n",
            "  inflating: /content/train_crops/content/train_crops/pic_tfvc_0_t.png  \n",
            "  inflating: /content/train_crops/content/train_crops/pic_ua5y169_4_1.png  \n",
            "  inflating: /content/train_crops/content/train_crops/pic_laqw_1_a.png  \n",
            "  inflating: /content/train_crops/content/train_crops/pic_w9gmeh9d_3_m.png  \n",
            "  inflating: /content/train_crops/content/train_crops/pic_ui14m_0_u.png  \n",
            "  inflating: /content/train_crops/content/train_crops/pic_yw7woa_4_o.png  \n",
            "  inflating: /content/train_crops/content/train_crops/pic_asr8_3_8.png  \n",
            "  inflating: /content/train_crops/content/train_crops/pic_fe0jbcln_6_l.png  \n",
            "  inflating: /content/train_crops/content/train_crops/pic_8798fmei_3_8.png  \n",
            "  inflating: /content/train_crops/content/train_crops/pic_fge7x28_6_8.png  \n",
            "  inflating: /content/train_crops/content/train_crops/pic_43bsbzx4_6_x.png  \n",
            "  inflating: /content/train_crops/content/train_crops/pic_oad85uaz_1_a.png  \n",
            "  inflating: /content/train_crops/content/train_crops/pic_p0gspr_1_0.png  \n",
            "  inflating: /content/train_crops/content/train_crops/pic_a7w16_2_w.png  \n",
            "  inflating: /content/train_crops/content/train_crops/pic_9rfhh_2_f.png  \n",
            "  inflating: /content/train_crops/content/train_crops/pic_4ra6iyp_6_p.png  \n",
            "  inflating: /content/train_crops/content/train_crops/pic_q0jv_2_j.png  \n",
            "  inflating: /content/train_crops/content/train_crops/pic_qewhlgge_2_w.png  \n",
            "  inflating: /content/train_crops/content/train_crops/pic_ifdg2_0_i.png  \n",
            "  inflating: /content/train_crops/content/train_crops/pic_q4db_0_q.png  \n",
            "  inflating: /content/train_crops/content/train_crops/pic_kfgchb_5_b.png  \n",
            "  inflating: /content/train_crops/content/train_crops/pic_ejw4e_0_e.png  \n",
            "  inflating: /content/train_crops/content/train_crops/pic_ajcs_2_c.png  \n",
            "  inflating: /content/train_crops/content/train_crops/pic_wdjs_1_d.png  \n",
            "  inflating: /content/train_crops/content/train_crops/pic_rg0btcn2_4_t.png  \n",
            "  inflating: /content/train_crops/content/train_crops/pic_rekoz3dv_3_o.png  \n",
            "  inflating: /content/train_crops/content/train_crops/pic_4pkos9x_1_p.png  \n",
            "  inflating: /content/train_crops/content/train_crops/pic_kfd3cig_0_k.png  \n",
            "  inflating: /content/train_crops/content/train_crops/pic_gdrbjx_1_d.png  \n",
            "  inflating: /content/train_crops/content/train_crops/pic_8zq2mv5_1_z.png  \n",
            "  inflating: /content/train_crops/content/train_crops/pic_pykqohho_6_h.png  \n",
            "  inflating: /content/train_crops/content/train_crops/pic_kbj7tf_2_j.png  \n",
            "  inflating: /content/train_crops/content/train_crops/pic_0rred0t_0_0.png  \n",
            "  inflating: /content/train_crops/content/train_crops/pic_v2qlb_0_v.png  \n",
            "  inflating: /content/train_crops/content/train_crops/pic_fbbd6_1_b.png  \n",
            "  inflating: /content/train_crops/content/train_crops/pic_nxqhz_2_q.png  \n",
            "  inflating: /content/train_crops/content/train_crops/pic_clpm_1_l.png  \n",
            "  inflating: /content/train_crops/content/train_crops/pic_bjq5lupu_2_q.png  \n",
            "  inflating: /content/train_crops/content/train_crops/pic_y69f7h9v_2_9.png  \n",
            "  inflating: /content/train_crops/content/train_crops/pic_b0vupan_4_p.png  \n",
            "  inflating: /content/train_crops/content/train_crops/pic_ys7xcq_1_s.png  \n",
            "  inflating: /content/train_crops/content/train_crops/pic_zfdnksh_6_h.png  \n",
            "  inflating: /content/train_crops/content/train_crops/pic_9u17gvpp_4_g.png  \n",
            "  inflating: /content/train_crops/content/train_crops/pic_486zlu_4_l.png  \n",
            "  inflating: /content/train_crops/content/train_crops/pic_drjx9qix_3_x.png  \n",
            "  inflating: /content/train_crops/content/train_crops/pic_wdfm_0_w.png  \n",
            "  inflating: /content/train_crops/content/train_crops/pic_7ejyyhfr_6_f.png  \n",
            "  inflating: /content/train_crops/content/train_crops/pic_qaxmfek_6_k.png  \n",
            "  inflating: /content/train_crops/content/train_crops/pic_yzikl_0_y.png  \n",
            "  inflating: /content/train_crops/content/train_crops/pic_32pt_1_2.png  \n",
            "  inflating: /content/train_crops/content/train_crops/pic_99ka_3_a.png  \n",
            "  inflating: /content/train_crops/content/train_crops/pic_tkzb_2_z.png  \n",
            "  inflating: /content/train_crops/content/train_crops/pic_m8lit3g3_7_3.png  \n",
            "  inflating: /content/train_crops/content/train_crops/pic_vipst6u8_2_p.png  \n",
            "  inflating: /content/train_crops/content/train_crops/pic_ved6qs0_3_6.png  \n",
            "  inflating: /content/train_crops/content/train_crops/pic_efnkypn5_4_y.png  \n",
            "  inflating: /content/train_crops/content/train_crops/pic_b2oaiwmt_3_a.png  \n",
            "  inflating: /content/train_crops/content/train_crops/pic_o58v399_0_o.png  \n",
            "  inflating: /content/train_crops/content/train_crops/pic_vxtcmz1i_4_m.png  \n",
            "  inflating: /content/train_crops/content/train_crops/pic_9g2c5k6_4_5.png  \n",
            "  inflating: /content/train_crops/content/train_crops/pic_l72ofc_4_f.png  \n",
            "  inflating: /content/train_crops/content/train_crops/pic_3otukim_2_t.png  \n",
            "  inflating: /content/train_crops/content/train_crops/pic_oyx1rck_2_x.png  \n",
            "  inflating: /content/train_crops/content/train_crops/pic_aobrp4t_1_o.png  \n",
            "  inflating: /content/train_crops/content/train_crops/pic_h31w05_3_w.png  \n",
            "  inflating: /content/train_crops/content/train_crops/pic_v01f_1_0.png  \n",
            "  inflating: /content/train_crops/content/train_crops/pic_efis5t_2_i.png  \n",
            "  inflating: /content/train_crops/content/train_crops/pic_ss0xz6aw_7_w.png  \n",
            "  inflating: /content/train_crops/content/train_crops/pic_0hqh4np_0_0.png  \n",
            "  inflating: /content/train_crops/content/train_crops/pic_rr9fxh_2_9.png  \n",
            "  inflating: /content/train_crops/content/train_crops/pic_ftyr2xf_5_x.png  \n",
            "  inflating: /content/train_crops/content/train_crops/pic_3frp9_2_r.png  \n",
            "  inflating: /content/train_crops/content/train_crops/pic_776c4_3_c.png  \n",
            "  inflating: /content/train_crops/content/train_crops/pic_e7fjfgxp_2_f.png  \n",
            "  inflating: /content/train_crops/content/train_crops/pic_wyjlwt1r_4_w.png  \n",
            "  inflating: /content/train_crops/content/train_crops/pic_npxiqib4_1_p.png  \n",
            "  inflating: /content/train_crops/content/train_crops/pic_ijpk4pi_3_k.png  \n",
            "  inflating: /content/train_crops/content/train_crops/pic_0scx1d7u_0_0.png  \n",
            "  inflating: /content/train_crops/content/train_crops/pic_xbhmd7_2_h.png  \n",
            "  inflating: /content/train_crops/content/train_crops/pic_hjso9_2_s.png  \n",
            "  inflating: /content/train_crops/content/train_crops/pic_541t132k_5_3.png  \n",
            "  inflating: /content/train_crops/content/train_crops/pic_61qqc_0_6.png  \n",
            "  inflating: /content/train_crops/content/train_crops/pic_lzns_0_l.png  \n",
            "  inflating: /content/train_crops/content/train_crops/pic_irsv7k_1_r.png  \n",
            "  inflating: /content/train_crops/content/train_crops/pic_3oqp0_1_o.png  \n",
            "  inflating: /content/train_crops/content/train_crops/pic_5vwzw_2_w.png  \n",
            "  inflating: /content/train_crops/content/train_crops/pic_6c9j_0_6.png  \n",
            "  inflating: /content/train_crops/content/train_crops/pic_j1c0j_4_j.png  \n",
            "  inflating: /content/train_crops/content/train_crops/pic_pa5q_2_5.png  \n",
            "  inflating: /content/train_crops/content/train_crops/pic_nb8g030t_3_g.png  \n",
            "  inflating: /content/train_crops/content/train_crops/pic_yoj2_0_y.png  \n",
            "  inflating: /content/train_crops/content/train_crops/pic_720b_1_2.png  \n",
            "  inflating: /content/train_crops/content/train_crops/pic_bpuihhf_0_b.png  \n",
            "  inflating: /content/train_crops/content/train_crops/pic_ohp6fuk4_7_4.png  \n",
            "  inflating: /content/train_crops/content/train_crops/pic_d88dzjgx_4_z.png  \n",
            "  inflating: /content/train_crops/content/train_crops/pic_d1wwv192_5_1.png  \n",
            "  inflating: /content/train_crops/content/train_crops/pic_5ai8ko_4_k.png  \n",
            "  inflating: /content/train_crops/content/train_crops/pic_82tt8k5m_6_5.png  \n",
            "  inflating: /content/train_crops/content/train_crops/pic_hyzh_3_h.png  \n",
            "  inflating: /content/train_crops/content/train_crops/pic_r280zk_4_z.png  \n",
            "  inflating: /content/train_crops/content/train_crops/pic_gtxplr_2_x.png  \n",
            "  inflating: /content/train_crops/content/train_crops/pic_a1j5aj12_5_j.png  \n",
            "  inflating: /content/train_crops/content/train_crops/pic_nrylg7a6_4_g.png  \n",
            "  inflating: /content/train_crops/content/train_crops/pic_5ou9hhu3_1_o.png  \n",
            "  inflating: /content/train_crops/content/train_crops/pic_zruhwn_3_h.png  \n",
            "  inflating: /content/train_crops/content/train_crops/pic_8dma6cj_3_a.png  \n",
            "  inflating: /content/train_crops/content/train_crops/pic_uqxcv_0_u.png  \n",
            "  inflating: /content/train_crops/content/train_crops/pic_0ldmhzq_4_h.png  \n",
            "  inflating: /content/train_crops/content/train_crops/pic_v66jx27k_5_2.png  \n",
            "  inflating: /content/train_crops/content/train_crops/pic_ywirr_1_w.png  \n",
            "  inflating: /content/train_crops/content/train_crops/pic_a7yflo7_6_7.png  \n",
            "  inflating: /content/train_crops/content/train_crops/pic_rs1z3_1_s.png  \n",
            "  inflating: /content/train_crops/content/train_crops/pic_pkpgj_3_g.png  \n",
            "  inflating: /content/train_crops/content/train_crops/pic_a67mw6w6_6_w.png  \n",
            "  inflating: /content/train_crops/content/train_crops/pic_8l3lyuq8_1_l.png  \n",
            "  inflating: /content/train_crops/content/train_crops/pic_hctwp7d_4_p.png  \n",
            "  inflating: /content/train_crops/content/train_crops/pic_rk51yj0_6_0.png  \n",
            "  inflating: /content/train_crops/content/train_crops/pic_3fqd23r_3_d.png  \n",
            "  inflating: /content/train_crops/content/train_crops/pic_582v0k_3_v.png  \n",
            "  inflating: /content/train_crops/content/train_crops/pic_0s4iyt8_5_t.png  \n",
            "  inflating: /content/train_crops/content/train_crops/pic_tl3h5tr_5_t.png  \n",
            "  inflating: /content/train_crops/content/train_crops/pic_hljj6_0_h.png  \n",
            "  inflating: /content/train_crops/content/train_crops/pic_py8x_0_p.png  \n",
            "  inflating: /content/train_crops/content/train_crops/pic_0mihyj1b_3_h.png  \n",
            "  inflating: /content/train_crops/content/train_crops/pic_hiczvfiu_4_v.png  \n",
            "  inflating: /content/train_crops/content/train_crops/pic_7icfzcyg_3_f.png  \n",
            "  inflating: /content/train_crops/content/train_crops/pic_m6h2gil_5_i.png  \n",
            "  inflating: /content/train_crops/content/train_crops/pic_sruzj7_3_z.png  \n",
            "  inflating: /content/train_crops/content/train_crops/pic_up4t7or_1_p.png  \n",
            "  inflating: /content/train_crops/content/train_crops/pic_pm191fs_0_p.png  \n",
            "  inflating: /content/train_crops/content/train_crops/pic_xwzzpe_3_z.png  \n",
            "  inflating: /content/train_crops/content/train_crops/pic_k0g6qsk_3_6.png  \n",
            "  inflating: /content/train_crops/content/train_crops/pic_cszppknd_4_p.png  \n",
            "  inflating: /content/train_crops/content/train_crops/pic_q3io1xdp_5_x.png  \n",
            "  inflating: /content/train_crops/content/train_crops/pic_4z292_4_2.png  \n",
            "  inflating: /content/train_crops/content/train_crops/pic_ki0y0f_2_0.png  \n",
            "  inflating: /content/train_crops/content/train_crops/pic_s8dv_2_d.png  \n",
            "  inflating: /content/train_crops/content/train_crops/pic_qtm2fw_2_m.png  \n",
            "  inflating: /content/train_crops/content/train_crops/pic_365ezq8_2_5.png  \n",
            "  inflating: /content/train_crops/content/train_crops/pic_fcqnbfk_0_f.png  \n",
            "  inflating: /content/train_crops/content/train_crops/pic_v8gtwy_5_y.png  \n",
            "  inflating: /content/train_crops/content/train_crops/pic_2e6i_1_e.png  \n",
            "  inflating: /content/train_crops/content/train_crops/pic_mlg43cst_1_l.png  \n",
            "  inflating: /content/train_crops/content/train_crops/pic_a332_0_a.png  \n",
            "  inflating: /content/train_crops/content/train_crops/pic_7ji7l3v9_4_l.png  \n",
            "  inflating: /content/train_crops/content/train_crops/pic_23ny7sr_4_7.png  \n",
            "  inflating: /content/train_crops/content/train_crops/pic_4opd9_3_d.png  \n",
            "  inflating: /content/train_crops/content/train_crops/pic_z5uj_2_u.png  \n",
            "  inflating: /content/train_crops/content/train_crops/pic_7s0txxh_3_t.png  \n",
            "  inflating: /content/train_crops/content/train_crops/pic_0mihyj1b_1_m.png  \n",
            "  inflating: /content/train_crops/content/train_crops/pic_v31oa14b_3_o.png  \n",
            "  inflating: /content/train_crops/content/train_crops/pic_gybzpuv_4_p.png  \n",
            "  inflating: /content/train_crops/content/train_crops/pic_ok1h_3_h.png  \n",
            "  inflating: /content/train_crops/content/train_crops/pic_2b6r_1_b.png  \n",
            "  inflating: /content/train_crops/content/train_crops/pic_eb4whqln_6_l.png  \n",
            "  inflating: /content/train_crops/content/train_crops/pic_oh34j_1_h.png  \n",
            "  inflating: /content/train_crops/content/train_crops/pic_mgdt096l_3_t.png  \n",
            "  inflating: /content/train_crops/content/train_crops/pic_atyvuvs1_5_v.png  \n",
            "  inflating: /content/train_crops/content/train_crops/pic_ppmqkir_2_m.png  \n",
            "  inflating: /content/train_crops/content/train_crops/pic_7ii3ll_4_l.png  \n",
            "  inflating: /content/train_crops/content/train_crops/pic_ayt9k5h0_6_h.png  \n",
            "  inflating: /content/train_crops/content/train_crops/pic_fvgaj9_5_9.png  \n",
            "  inflating: /content/train_crops/content/train_crops/pic_33te_0_3.png  \n",
            "  inflating: /content/train_crops/content/train_crops/pic_xwtmiu97_0_x.png  \n",
            "  inflating: /content/train_crops/content/train_crops/pic_z6jaz_4_z.png  \n",
            "  inflating: /content/train_crops/content/train_crops/pic_l5ape5g_0_l.png  \n",
            "  inflating: /content/train_crops/content/train_crops/pic_hy1l1pcv_2_1.png  \n",
            "  inflating: /content/train_crops/content/train_crops/pic_gtxplr_5_r.png  \n",
            "  inflating: /content/train_crops/content/train_crops/pic_z63gjrad_5_r.png  \n",
            "  inflating: /content/train_crops/content/train_crops/pic_y5j9_2_j.png  \n",
            "  inflating: /content/train_crops/content/train_crops/pic_gxbjga83_2_b.png  \n",
            "  inflating: /content/train_crops/content/train_crops/pic_bmz614y7_5_4.png  \n",
            "  inflating: /content/train_crops/content/train_crops/pic_2jrl_2_r.png  \n",
            "  inflating: /content/train_crops/content/train_crops/pic_cx2ysb_5_b.png  \n",
            "  inflating: /content/train_crops/content/train_crops/pic_wpx1_3_1.png  \n",
            "  inflating: /content/train_crops/content/train_crops/pic_m0l7c_2_l.png  \n",
            "  inflating: /content/train_crops/content/train_crops/pic_0cep_3_p.png  \n",
            "  inflating: /content/train_crops/content/train_crops/pic_kkizahl_1_k.png  \n",
            "  inflating: /content/train_crops/content/train_crops/pic_3kev7t_4_7.png  \n",
            "  inflating: /content/train_crops/content/train_crops/pic_dt6vc9bj_5_9.png  \n",
            "  inflating: /content/train_crops/content/train_crops/pic_8y23ke_3_3.png  \n",
            "  inflating: /content/train_crops/content/train_crops/pic_too4mz_5_z.png  \n",
            "  inflating: /content/train_crops/content/train_crops/pic_odp92dg_5_d.png  \n",
            "  inflating: /content/train_crops/content/train_crops/pic_tm8n149d_0_t.png  \n",
            "  inflating: /content/train_crops/content/train_crops/pic_bviqwr_2_i.png  \n",
            "  inflating: /content/train_crops/content/train_crops/pic_9b0kcv23_4_c.png  \n",
            "  inflating: /content/train_crops/content/train_crops/pic_ed9q5rja_4_5.png  \n",
            "  inflating: /content/train_crops/content/train_crops/pic_9sitvy_3_t.png  \n",
            "  inflating: /content/train_crops/content/train_crops/pic_qjfa_2_f.png  \n",
            "  inflating: /content/train_crops/content/train_crops/pic_al7qec9_4_e.png  \n",
            "  inflating: /content/train_crops/content/train_crops/pic_h3owbb_5_b.png  \n",
            "  inflating: /content/train_crops/content/train_crops/pic_7xyrf2c_5_2.png  \n",
            "  inflating: /content/train_crops/content/train_crops/pic_9eun2_1_e.png  \n",
            "  inflating: /content/train_crops/content/train_crops/pic_ou3nh4h_6_h.png  \n",
            "  inflating: /content/train_crops/content/train_crops/pic_3etom_3_o.png  \n",
            "  inflating: /content/train_crops/content/train_crops/pic_hd4uh_4_h.png  \n",
            "  inflating: /content/train_crops/content/train_crops/pic_zael6_1_a.png  \n",
            "  inflating: /content/train_crops/content/train_crops/pic_2pf7bpt5_4_b.png  \n",
            "  inflating: /content/train_crops/content/train_crops/pic_m5ixf08p_4_f.png  \n",
            "  inflating: /content/train_crops/content/train_crops/pic_6i42oks_3_2.png  \n",
            "  inflating: /content/train_crops/content/train_crops/pic_vh7c_2_7.png  \n",
            "  inflating: /content/train_crops/content/train_crops/pic_xey40w_2_y.png  \n",
            "  inflating: /content/train_crops/content/train_crops/pic_nqqkp_4_p.png  \n",
            "  inflating: /content/train_crops/content/train_crops/pic_2x65_2_6.png  \n",
            "  inflating: /content/train_crops/content/train_crops/pic_qkyk15f_6_f.png  \n",
            "  inflating: /content/train_crops/content/train_crops/pic_o3r92m_4_2.png  \n",
            "  inflating: /content/train_crops/content/train_crops/pic_ph28_2_2.png  \n",
            "  inflating: /content/train_crops/content/train_crops/pic_siwp_1_i.png  \n",
            "  inflating: /content/train_crops/content/train_crops/pic_u5zba0_3_b.png  \n",
            "  inflating: /content/train_crops/content/train_crops/pic_odxkr06_3_k.png  \n",
            "  inflating: /content/train_crops/content/train_crops/pic_n0e306q6_6_q.png  \n",
            "  inflating: /content/train_crops/content/train_crops/pic_fyi6g_1_y.png  \n",
            "  inflating: /content/train_crops/content/train_crops/pic_ujlktwf_3_k.png  \n",
            "  inflating: /content/train_crops/content/train_crops/pic_xnkzzevb_7_b.png  \n",
            "  inflating: /content/train_crops/content/train_crops/pic_6gzxrr_1_g.png  \n",
            "  inflating: /content/train_crops/content/train_crops/pic_wiis3175_2_i.png  \n",
            "  inflating: /content/train_crops/content/train_crops/pic_a24qk8_1_2.png  \n",
            "  inflating: /content/train_crops/content/train_crops/pic_1cfu8x_4_8.png  \n",
            "  inflating: /content/train_crops/content/train_crops/pic_5sza3_1_s.png  \n",
            "  inflating: /content/train_crops/content/train_crops/pic_logrv8g_3_r.png  \n",
            "  inflating: /content/train_crops/content/train_crops/pic_uf31dw21_6_2.png  \n",
            "  inflating: /content/train_crops/content/train_crops/pic_3lkh9_4_9.png  \n",
            "  inflating: /content/train_crops/content/train_crops/pic_utr3s_0_u.png  \n",
            "  inflating: /content/train_crops/content/train_crops/pic_47jpjy_4_j.png  \n",
            "  inflating: /content/train_crops/content/train_crops/pic_gwyk_0_g.png  \n",
            "  inflating: /content/train_crops/content/train_crops/pic_3gq23xv_0_3.png  \n",
            "  inflating: /content/train_crops/content/train_crops/pic_0z89bb97_5_b.png  \n",
            "  inflating: /content/train_crops/content/train_crops/pic_7ck1cwqo_0_7.png  \n",
            "  inflating: /content/train_crops/content/train_crops/pic_sknyh_1_k.png  \n",
            "  inflating: /content/train_crops/content/train_crops/pic_3rhh_2_h.png  \n",
            "  inflating: /content/train_crops/content/train_crops/pic_bkl02_1_k.png  \n",
            "  inflating: /content/train_crops/content/train_crops/pic_qic72um_0_q.png  \n",
            "  inflating: /content/train_crops/content/train_crops/pic_lq5mc9ts_7_s.png  \n",
            "  inflating: /content/train_crops/content/train_crops/pic_j5y05yku_5_y.png  \n",
            "  inflating: /content/train_crops/content/train_crops/pic_sps2_2_s.png  \n",
            "  inflating: /content/train_crops/content/train_crops/pic_efis5t_5_t.png  \n",
            "  inflating: /content/train_crops/content/train_crops/pic_c7i88pv_4_8.png  \n",
            "  inflating: /content/train_crops/content/train_crops/pic_jwrb_1_w.png  \n",
            "  inflating: /content/train_crops/content/train_crops/pic_ygwf3_4_3.png  \n",
            "  inflating: /content/train_crops/content/train_crops/pic_ovanqq_1_v.png  \n",
            "  inflating: /content/train_crops/content/train_crops/pic_sar2j25a_2_r.png  \n",
            "  inflating: /content/train_crops/content/train_crops/pic_qbjc_3_c.png  \n",
            "  inflating: /content/train_crops/content/train_crops/pic_9md6zfbl_6_b.png  \n",
            "  inflating: /content/train_crops/content/train_crops/pic_exq9vfa_2_q.png  \n",
            "  inflating: /content/train_crops/content/train_crops/pic_img5h_1_m.png  \n",
            "  inflating: /content/train_crops/content/train_crops/pic_nywafr_2_w.png  \n",
            "  inflating: /content/train_crops/content/train_crops/pic_mh2lv_2_2.png  \n",
            "  inflating: /content/train_crops/content/train_crops/pic_gqbha32_6_2.png  \n",
            "  inflating: /content/train_crops/content/train_crops/pic_h24n35q_4_3.png  \n",
            "  inflating: /content/train_crops/content/train_crops/pic_44f2oe4m_1_4.png  \n",
            "  inflating: /content/train_crops/content/train_crops/pic_eibs65_3_s.png  \n",
            "  inflating: /content/train_crops/content/train_crops/pic_r31x_0_r.png  \n",
            "  inflating: /content/train_crops/content/train_crops/pic_k9dy8_1_9.png  \n",
            "  inflating: /content/train_crops/content/train_crops/pic_eekh030_6_0.png  \n",
            "  inflating: /content/train_crops/content/train_crops/pic_765iii9_4_i.png  \n",
            "  inflating: /content/train_crops/content/train_crops/pic_z8od6bk3_5_b.png  \n",
            "  inflating: /content/train_crops/content/train_crops/pic_8zq47_3_4.png  \n",
            "  inflating: /content/train_crops/content/train_crops/pic_l6ay3_1_6.png  \n",
            "  inflating: /content/train_crops/content/train_crops/pic_ze4p5c14_6_1.png  \n",
            "  inflating: /content/train_crops/content/train_crops/pic_444kmpf_3_k.png  \n",
            "  inflating: /content/train_crops/content/train_crops/pic_6753v_2_5.png  \n",
            "  inflating: /content/train_crops/content/train_crops/pic_jms4vcf7_0_j.png  \n",
            "  inflating: /content/train_crops/content/train_crops/pic_61ndd4pn_5_4.png  \n",
            "  inflating: /content/train_crops/content/train_crops/pic_r29d2_4_2.png  \n",
            "  inflating: /content/train_crops/content/train_crops/pic_pltq51t_2_t.png  \n",
            "  inflating: /content/train_crops/content/train_crops/pic_pfc31kc_4_1.png  \n",
            "  inflating: /content/train_crops/content/train_crops/pic_wknyta_0_w.png  \n",
            "  inflating: /content/train_crops/content/train_crops/pic_jzsc8_0_j.png  \n",
            "  inflating: /content/train_crops/content/train_crops/pic_174u_3_u.png  \n",
            "  inflating: /content/train_crops/content/train_crops/pic_nok5h_2_k.png  \n",
            "  inflating: /content/train_crops/content/train_crops/pic_6gfuz_0_6.png  \n",
            "  inflating: /content/train_crops/content/train_crops/pic_006aguv_0_0.png  \n",
            "  inflating: /content/train_crops/content/train_crops/pic_x8vwpvab_5_v.png  \n",
            "  inflating: /content/train_crops/content/train_crops/pic_g8qe34e_1_8.png  \n",
            "  inflating: /content/train_crops/content/train_crops/pic_hxk35p9q_6_9.png  \n",
            "  inflating: /content/train_crops/content/train_crops/pic_lcrnps_4_p.png  \n",
            "  inflating: /content/train_crops/content/train_crops/pic_dlnevtny_3_e.png  \n",
            "  inflating: /content/train_crops/content/train_crops/pic_m233c9_1_2.png  \n",
            "  inflating: /content/train_crops/content/train_crops/pic_0l170280_2_1.png  \n",
            "  inflating: /content/train_crops/content/train_crops/pic_py8x_3_x.png  \n",
            "  inflating: /content/train_crops/content/train_crops/pic_5ccaiavz_5_a.png  \n",
            "  inflating: /content/train_crops/content/train_crops/pic_0si2gw_4_g.png  \n",
            "  inflating: /content/train_crops/content/train_crops/pic_28kqis_4_i.png  \n",
            "  inflating: /content/train_crops/content/train_crops/pic_w6x9p14_0_w.png  \n",
            "  inflating: /content/train_crops/content/train_crops/pic_dk6luks_2_6.png  \n",
            "  inflating: /content/train_crops/content/train_crops/pic_117l9_0_1.png  \n",
            "  inflating: /content/train_crops/content/train_crops/pic_4nomwzj_0_4.png  \n",
            "  inflating: /content/train_crops/content/train_crops/pic_gta5buyw_1_t.png  \n",
            "  inflating: /content/train_crops/content/train_crops/pic_y7expw_0_y.png  \n",
            "  inflating: /content/train_crops/content/train_crops/pic_50rknq_4_n.png  \n",
            "  inflating: /content/train_crops/content/train_crops/pic_o7nld_2_n.png  \n",
            "  inflating: /content/train_crops/content/train_crops/pic_edike_3_k.png  \n",
            "  inflating: /content/train_crops/content/train_crops/pic_236zmz_1_3.png  \n",
            "  inflating: /content/train_crops/content/train_crops/pic_u5i09o_0_u.png  \n",
            "  inflating: /content/train_crops/content/train_crops/pic_ttzw4bw_2_z.png  \n",
            "  inflating: /content/train_crops/content/train_crops/pic_qb0pin_2_0.png  \n",
            "  inflating: /content/train_crops/content/train_crops/pic_18ctmi6w_2_c.png  \n",
            "  inflating: /content/train_crops/content/train_crops/pic_a5lioam_3_i.png  \n",
            "  inflating: /content/train_crops/content/train_crops/pic_6phak5y6_2_h.png  \n",
            "  inflating: /content/train_crops/content/train_crops/pic_pgoj3tr_4_3.png  \n",
            "  inflating: /content/train_crops/content/train_crops/pic_hygee_3_e.png  \n",
            "  inflating: /content/train_crops/content/train_crops/pic_mxnn6nvd_3_n.png  \n",
            "  inflating: /content/train_crops/content/train_crops/pic_2bf1afme_2_f.png  \n",
            "  inflating: /content/train_crops/content/train_crops/pic_3v96_1_v.png  \n",
            "  inflating: /content/train_crops/content/train_crops/pic_16h7_0_1.png  \n",
            "  inflating: /content/train_crops/content/train_crops/pic_1sf9_1_s.png  \n",
            "  inflating: /content/train_crops/content/train_crops/pic_b2rzp_2_r.png  \n",
            "  inflating: /content/train_crops/content/train_crops/pic_b2oaiwmt_4_i.png  \n",
            "  inflating: /content/train_crops/content/train_crops/pic_kr9y_3_y.png  \n",
            "  inflating: /content/train_crops/content/train_crops/pic_lojxr_4_r.png  \n",
            "  inflating: /content/train_crops/content/train_crops/pic_b5wsob9g_7_g.png  \n",
            "  inflating: /content/train_crops/content/train_crops/pic_07ylxub1_1_7.png  \n",
            "  inflating: /content/train_crops/content/train_crops/pic_nd4ybgd_3_y.png  \n",
            "  inflating: /content/train_crops/content/train_crops/pic_xggb_2_g.png  \n",
            "  inflating: /content/train_crops/content/train_crops/pic_yd9e_0_y.png  \n",
            "  inflating: /content/train_crops/content/train_crops/pic_2pxbrb_3_b.png  \n",
            "  inflating: /content/train_crops/content/train_crops/pic_b1y1vl4i_5_l.png  \n",
            "  inflating: /content/train_crops/content/train_crops/pic_cic34bpi_2_c.png  \n",
            "  inflating: /content/train_crops/content/train_crops/pic_l5kvn3s_1_5.png  \n",
            "  inflating: /content/train_crops/content/train_crops/pic_6qv0_0_6.png  \n",
            "  inflating: /content/train_crops/content/train_crops/pic_z56ar6_4_r.png  \n",
            "  inflating: /content/train_crops/content/train_crops/pic_5gvaicj9_2_v.png  \n",
            "  inflating: /content/train_crops/content/train_crops/pic_t9tm2_2_t.png  \n",
            "  inflating: /content/train_crops/content/train_crops/pic_p8aby15b_3_b.png  \n",
            "  inflating: /content/train_crops/content/train_crops/pic_jp8x_1_p.png  \n",
            "  inflating: /content/train_crops/content/train_crops/pic_j72fad6r_3_f.png  \n",
            "  inflating: /content/train_crops/content/train_crops/pic_nbj0_1_b.png  \n",
            "  inflating: /content/train_crops/content/train_crops/pic_b1mobljw_6_j.png  \n",
            "  inflating: /content/train_crops/content/train_crops/pic_mpnz8_4_8.png  \n",
            "  inflating: /content/train_crops/content/train_crops/pic_15c00p2g_7_g.png  \n",
            "  inflating: /content/train_crops/content/train_crops/pic_dzkyeit_3_y.png  \n",
            "  inflating: /content/train_crops/content/train_crops/pic_cb7pekr_0_c.png  \n",
            "  inflating: /content/train_crops/content/train_crops/pic_na0a58p_6_p.png  \n",
            "  inflating: /content/train_crops/content/train_crops/pic_9da1v9kh_3_1.png  \n",
            "  inflating: /content/train_crops/content/train_crops/pic_bianf15y_7_y.png  \n",
            "  inflating: /content/train_crops/content/train_crops/pic_siefa4_2_e.png  \n",
            "  inflating: /content/train_crops/content/train_crops/pic_ca3e3_4_3.png  \n",
            "  inflating: /content/train_crops/content/train_crops/pic_qowp1rp_2_w.png  \n",
            "  inflating: /content/train_crops/content/train_crops/pic_m3ltlkr_3_t.png  \n",
            "  inflating: /content/train_crops/content/train_crops/pic_q0pv_1_0.png  \n",
            "  inflating: /content/train_crops/content/train_crops/pic_pd5v1_2_5.png  \n",
            "  inflating: /content/train_crops/content/train_crops/pic_vggouvie_5_v.png  \n",
            "  inflating: /content/train_crops/content/train_crops/pic_etgun_1_t.png  \n",
            "  inflating: /content/train_crops/content/train_crops/pic_df99hi2_6_2.png  \n",
            "  inflating: /content/train_crops/content/train_crops/pic_9pt4zuf2_2_t.png  \n",
            "  inflating: /content/train_crops/content/train_crops/pic_zjl6q8_2_l.png  \n",
            "  inflating: /content/train_crops/content/train_crops/pic_ix0qyf_5_f.png  \n",
            "  inflating: /content/train_crops/content/train_crops/pic_9f42mfk_5_f.png  \n",
            "  inflating: /content/train_crops/content/train_crops/pic_l4v2o1o_0_l.png  \n",
            "  inflating: /content/train_crops/content/train_crops/pic_by1q37_3_q.png  \n",
            "  inflating: /content/train_crops/content/train_crops/pic_o9k9tv_1_9.png  \n",
            "  inflating: /content/train_crops/content/train_crops/pic_b2rzp_4_p.png  \n",
            "  inflating: /content/train_crops/content/train_crops/pic_eml3wo_2_l.png  \n",
            "  inflating: /content/train_crops/content/train_crops/pic_1qntu_1_q.png  \n",
            "  inflating: /content/train_crops/content/train_crops/pic_ctkmkvxd_4_k.png  \n",
            "  inflating: /content/train_crops/content/train_crops/pic_6vwvgo6_5_o.png  \n",
            "  inflating: /content/train_crops/content/train_crops/pic_4sib6v6n_1_s.png  \n",
            "  inflating: /content/train_crops/content/train_crops/pic_l4p9u7l_0_l.png  \n",
            "  inflating: /content/train_crops/content/train_crops/pic_t4wtgfm_3_t.png  \n",
            "  inflating: /content/train_crops/content/train_crops/pic_lhp7a9ll_4_a.png  \n",
            "  inflating: /content/train_crops/content/train_crops/pic_ztodeq_3_d.png  \n",
            "  inflating: /content/train_crops/content/train_crops/pic_78sbyj_1_8.png  \n",
            "  inflating: /content/train_crops/content/train_crops/pic_5w0cc_4_c.png  \n",
            "  inflating: /content/train_crops/content/train_crops/pic_sn3bhmq_1_n.png  \n",
            "  inflating: /content/train_crops/content/train_crops/pic_bou47os6_5_o.png  \n",
            "  inflating: /content/train_crops/content/train_crops/pic_qptp_1_p.png  \n",
            "  inflating: /content/train_crops/content/train_crops/pic_9edktm_5_m.png  \n",
            "  inflating: /content/train_crops/content/train_crops/pic_6eztty_3_t.png  \n",
            "  inflating: /content/train_crops/content/train_crops/pic_1b30y_2_3.png  \n",
            "  inflating: /content/train_crops/content/train_crops/pic_4lwjre_5_e.png  \n",
            "  inflating: /content/train_crops/content/train_crops/pic_8tcuqbp4_6_p.png  \n",
            "  inflating: /content/train_crops/content/train_crops/pic_e7fjfgxp_0_e.png  \n",
            "  inflating: /content/train_crops/content/train_crops/pic_24fs_1_4.png  \n",
            "  inflating: /content/train_crops/content/train_crops/pic_vtg67n_1_t.png  \n",
            "  inflating: /content/train_crops/content/train_crops/pic_3s2k5_0_3.png  \n",
            "  inflating: /content/train_crops/content/train_crops/pic_3wygpjq2_6_q.png  \n",
            "  inflating: /content/train_crops/content/train_crops/pic_a6fa6t1h_4_6.png  \n",
            "  inflating: /content/train_crops/content/train_crops/pic_qosyzz4_4_z.png  \n",
            "  inflating: /content/train_crops/content/train_crops/pic_lkjh3_1_k.png  \n",
            "  inflating: /content/train_crops/content/train_crops/pic_9jjcr53_3_c.png  \n",
            "  inflating: /content/train_crops/content/train_crops/pic_02748_4_8.png  \n",
            "  inflating: /content/train_crops/content/train_crops/pic_arix_3_x.png  \n",
            "  inflating: /content/train_crops/content/train_crops/pic_s4fm8k9_0_s.png  \n",
            "  inflating: /content/train_crops/content/train_crops/pic_jq9gjytn_1_q.png  \n",
            "  inflating: /content/train_crops/content/train_crops/pic_qlc4u1_0_q.png  \n",
            "  inflating: /content/train_crops/content/train_crops/pic_9b0kcv23_3_k.png  \n",
            "  inflating: /content/train_crops/content/train_crops/pic_ygjz3jc_2_j.png  \n",
            "  inflating: /content/train_crops/content/train_crops/pic_ts4cw_4_w.png  \n",
            "  inflating: /content/train_crops/content/train_crops/pic_wf6eq6y0_4_q.png  \n",
            "  inflating: /content/train_crops/content/train_crops/pic_zs4k_2_4.png  \n",
            "  inflating: /content/train_crops/content/train_crops/pic_gtenfuw3_3_n.png  \n",
            "  inflating: /content/train_crops/content/train_crops/pic_yciv_1_c.png  \n",
            "  inflating: /content/train_crops/content/train_crops/pic_5xskc_4_c.png  \n",
            "  inflating: /content/train_crops/content/train_crops/pic_s387tney_5_n.png  \n",
            "  inflating: /content/train_crops/content/train_crops/pic_j6qdr8_4_r.png  \n",
            "  inflating: /content/train_crops/content/train_crops/pic_fr97_0_f.png  \n",
            "  inflating: /content/train_crops/content/train_crops/pic_yz7m_3_m.png  \n",
            "  inflating: /content/train_crops/content/train_crops/pic_b0er2e_3_r.png  \n",
            "  inflating: /content/train_crops/content/train_crops/pic_pw0rv_0_p.png  \n",
            "  inflating: /content/train_crops/content/train_crops/pic_ao69ag5_4_a.png  \n",
            "  inflating: /content/train_crops/content/train_crops/pic_ryugh_2_u.png  \n",
            "  inflating: /content/train_crops/content/train_crops/pic_6h17i4k2_6_k.png  \n",
            "  inflating: /content/train_crops/content/train_crops/pic_g8elpi_2_e.png  \n",
            "  inflating: /content/train_crops/content/train_crops/pic_oyx1rck_5_c.png  \n",
            "  inflating: /content/train_crops/content/train_crops/pic_9oae7z6_1_o.png  \n",
            "  inflating: /content/train_crops/content/train_crops/pic_lq1usb6x_1_q.png  \n",
            "  inflating: /content/train_crops/content/train_crops/pic_xnfyo_4_o.png  \n",
            "  inflating: /content/train_crops/content/train_crops/pic_cb77v_3_7.png  \n",
            "  inflating: /content/train_crops/content/train_crops/pic_fge7x28_1_g.png  \n",
            "  inflating: /content/train_crops/content/train_crops/pic_bviqwr_5_r.png  \n",
            "  inflating: /content/train_crops/content/train_crops/pic_6dc54h4_5_h.png  \n",
            "  inflating: /content/train_crops/content/train_crops/pic_vkhbd_2_h.png  \n",
            "  inflating: /content/train_crops/content/train_crops/pic_d5jdidc_3_d.png  \n",
            "  inflating: /content/train_crops/content/train_crops/pic_6bynqp6_0_6.png  \n",
            "  inflating: /content/train_crops/content/train_crops/pic_co4y_2_4.png  \n",
            "  inflating: /content/train_crops/content/train_crops/pic_bktqjwm7_7_7.png  \n",
            "  inflating: /content/train_crops/content/train_crops/pic_prb5_3_5.png  \n",
            "  inflating: /content/train_crops/content/train_crops/pic_x8s4nyc_2_s.png  \n",
            "  inflating: /content/train_crops/content/train_crops/pic_grwlng78_0_g.png  \n",
            "  inflating: /content/train_crops/content/train_crops/pic_gd9tkjym_1_d.png  \n",
            "  inflating: /content/train_crops/content/train_crops/pic_8466mwt_6_t.png  \n",
            "  inflating: /content/train_crops/content/train_crops/pic_lq1usb6x_6_6.png  \n",
            "  inflating: /content/train_crops/content/train_crops/pic_603lh_1_0.png  \n",
            "  inflating: /content/train_crops/content/train_crops/pic_os4jptwv_7_v.png  \n",
            "  inflating: /content/train_crops/content/train_crops/pic_73o7si3_6_3.png  \n",
            "  inflating: /content/train_crops/content/train_crops/pic_hi8nc7mm_5_7.png  \n",
            "  inflating: /content/train_crops/content/train_crops/pic_hb2g1quc_6_u.png  \n",
            "  inflating: /content/train_crops/content/train_crops/pic_wdtd_2_t.png  \n",
            "  inflating: /content/train_crops/content/train_crops/pic_lkhz2b_3_z.png  \n",
            "  inflating: /content/train_crops/content/train_crops/pic_3o6u_0_3.png  \n",
            "  inflating: /content/train_crops/content/train_crops/pic_xjnijun1_2_n.png  \n",
            "  inflating: /content/train_crops/content/train_crops/pic_j6pc97b_4_9.png  \n",
            "  inflating: /content/train_crops/content/train_crops/pic_px71giwp_0_p.png  \n",
            "  inflating: /content/train_crops/content/train_crops/pic_7ejyyhfr_0_7.png  \n",
            "  inflating: /content/train_crops/content/train_crops/pic_00wi5_4_5.png  \n",
            "  inflating: /content/train_crops/content/train_crops/pic_7qr4opg_0_7.png  \n",
            "  inflating: /content/train_crops/content/train_crops/pic_yvhei_2_h.png  \n",
            "  inflating: /content/train_crops/content/train_crops/pic_f5p5_3_5.png  \n",
            "  inflating: /content/train_crops/content/train_crops/pic_xocmn248_2_c.png  \n",
            "  inflating: /content/train_crops/content/train_crops/pic_q48v5_0_q.png  \n",
            "  inflating: /content/train_crops/content/train_crops/pic_rvdt_3_t.png  \n",
            "  inflating: /content/train_crops/content/train_crops/pic_21y76j6_1_1.png  \n",
            "  inflating: /content/train_crops/content/train_crops/pic_2nzx9_4_9.png  \n",
            "  inflating: /content/train_crops/content/train_crops/pic_7v4bycc3_6_c.png  \n",
            "  inflating: /content/train_crops/content/train_crops/pic_kcsgg_3_g.png  \n",
            "  inflating: /content/train_crops/content/train_crops/pic_env5d_0_e.png  \n",
            "  inflating: /content/train_crops/content/train_crops/pic_3c40y_2_4.png  \n",
            "  inflating: /content/train_crops/content/train_crops/pic_zdfoj_1_d.png  \n",
            "  inflating: /content/train_crops/content/train_crops/pic_8amn_3_n.png  \n",
            "  inflating: /content/train_crops/content/train_crops/pic_kzbhhm_4_h.png  \n",
            "  inflating: /content/train_crops/content/train_crops/pic_yzikl_4_l.png  \n",
            "  inflating: /content/train_crops/content/train_crops/pic_ellw_0_e.png  \n",
            "  inflating: /content/train_crops/content/train_crops/pic_lon1nsi_0_l.png  \n",
            "  inflating: /content/train_crops/content/train_crops/pic_44f2oe4m_5_e.png  \n",
            "  inflating: /content/train_crops/content/train_crops/pic_i5rfxue_0_i.png  \n",
            "  inflating: /content/train_crops/content/train_crops/pic_wm0klj_1_m.png  \n",
            "  inflating: /content/train_crops/content/train_crops/pic_bgttx_0_b.png  \n",
            "  inflating: /content/train_crops/content/train_crops/pic_9i3vx_3_v.png  \n",
            "  inflating: /content/train_crops/content/train_crops/pic_r3mk_2_m.png  \n",
            "  inflating: /content/train_crops/content/train_crops/pic_gmzmd75_0_g.png  \n",
            "  inflating: /content/train_crops/content/train_crops/pic_hwagcn_5_n.png  \n",
            "  inflating: /content/train_crops/content/train_crops/pic_8ouita_3_i.png  \n",
            "  inflating: /content/train_crops/content/train_crops/pic_dmsl_3_l.png  \n",
            "  inflating: /content/train_crops/content/train_crops/pic_co8zx_2_8.png  \n",
            "  inflating: /content/train_crops/content/train_crops/pic_9us49s0_4_9.png  \n",
            "  inflating: /content/train_crops/content/train_crops/pic_4surbff_6_f.png  \n",
            "  inflating: /content/train_crops/content/train_crops/pic_r85dbdjy_3_d.png  \n",
            "  inflating: /content/train_crops/content/train_crops/pic_kdurbmvj_6_v.png  \n",
            "  inflating: /content/train_crops/content/train_crops/pic_cz09kv_4_k.png  \n",
            "  inflating: /content/train_crops/content/train_crops/pic_zj94bhi2_2_9.png  \n",
            "  inflating: /content/train_crops/content/train_crops/pic_j40v_1_4.png  \n",
            "  inflating: /content/train_crops/content/train_crops/pic_9ndb2_3_b.png  \n",
            "  inflating: /content/train_crops/content/train_crops/pic_8yu1_3_1.png  \n",
            "  inflating: /content/train_crops/content/train_crops/pic_beb35hd_0_b.png  \n",
            "  inflating: /content/train_crops/content/train_crops/pic_zjogjtj_1_j.png  \n",
            "  inflating: /content/train_crops/content/train_crops/pic_9tgt6apu_3_t.png  \n",
            "  inflating: /content/train_crops/content/train_crops/pic_u9hkbjog_4_b.png  \n",
            "  inflating: /content/train_crops/content/train_crops/pic_owin2n_1_w.png  \n",
            "  inflating: /content/train_crops/content/train_crops/pic_qn76_1_n.png  \n",
            "  inflating: /content/train_crops/content/train_crops/pic_yi8a2p_3_a.png  \n",
            "  inflating: /content/train_crops/content/train_crops/pic_na0a58p_5_8.png  \n",
            "  inflating: /content/train_crops/content/train_crops/pic_0ptb1upx_4_1.png  \n",
            "  inflating: /content/train_crops/content/train_crops/pic_vevhenk_4_e.png  \n",
            "  inflating: /content/train_crops/content/train_crops/pic_gmuk5u2x_0_g.png  \n",
            "  inflating: /content/train_crops/content/train_crops/pic_vpdug7_4_g.png  \n",
            "  inflating: /content/train_crops/content/train_crops/pic_u3o3j_4_j.png  \n",
            "  inflating: /content/train_crops/content/train_crops/pic_kp6kfg68_7_8.png  \n",
            "  inflating: /content/train_crops/content/train_crops/pic_ak97z9_2_9.png  \n",
            "  inflating: /content/train_crops/content/train_crops/pic_o25xvm_3_x.png  \n",
            "  inflating: /content/train_crops/content/train_crops/pic_offkd_1_f.png  \n",
            "  inflating: /content/train_crops/content/train_crops/pic_ly3bz2zx_0_l.png  \n",
            "  inflating: /content/train_crops/content/train_crops/pic_dm5xa_3_x.png  \n",
            "  inflating: /content/train_crops/content/train_crops/pic_m5ovek_3_v.png  \n",
            "  inflating: /content/train_crops/content/train_crops/pic_atyvuvs1_4_u.png  \n",
            "  inflating: /content/train_crops/content/train_crops/pic_olcy1mwh_5_m.png  \n",
            "  inflating: /content/train_crops/content/train_crops/pic_k4gdhnyh_1_4.png  \n",
            "  inflating: /content/train_crops/content/train_crops/pic_gusva7nt_6_n.png  \n",
            "  inflating: /content/train_crops/content/train_crops/pic_o0wx0vh_1_0.png  \n",
            "  inflating: /content/train_crops/content/train_crops/pic_rfxk_1_f.png  \n",
            "  inflating: /content/train_crops/content/train_crops/pic_ikqajoi_1_k.png  \n",
            "  inflating: /content/train_crops/content/train_crops/pic_cw7zkz4x_0_c.png  \n",
            "  inflating: /content/train_crops/content/train_crops/pic_r34u876_2_4.png  \n",
            "  inflating: /content/train_crops/content/train_crops/pic_dys8qz5r_5_z.png  \n",
            "  inflating: /content/train_crops/content/train_crops/pic_cdg72w7_6_7.png  \n",
            "  inflating: /content/train_crops/content/train_crops/pic_a2we_0_a.png  \n",
            "  inflating: /content/train_crops/content/train_crops/pic_0wwhwf_0_0.png  \n",
            "  inflating: /content/train_crops/content/train_crops/pic_35vn_3_n.png  \n",
            "  inflating: /content/train_crops/content/train_crops/pic_e2nv3y_1_2.png  \n",
            "  inflating: /content/train_crops/content/train_crops/pic_k5e8alz_5_l.png  \n",
            "  inflating: /content/train_crops/content/train_crops/pic_7d2733dh_6_d.png  \n",
            "  inflating: /content/train_crops/content/train_crops/pic_d7vv13_3_v.png  \n",
            "  inflating: /content/train_crops/content/train_crops/pic_e5z0kuf_0_e.png  \n",
            "  inflating: /content/train_crops/content/train_crops/pic_x66z_1_6.png  \n",
            "  inflating: /content/train_crops/content/train_crops/pic_tq6osrq_4_s.png  \n",
            "  inflating: /content/train_crops/content/train_crops/pic_f7yv78c5_6_c.png  \n",
            "  inflating: /content/train_crops/content/train_crops/pic_67chez9_1_7.png  \n",
            "  inflating: /content/train_crops/content/train_crops/pic_nio17m9_5_m.png  \n",
            "  inflating: /content/train_crops/content/train_crops/pic_k7xvwh_1_7.png  \n",
            "  inflating: /content/train_crops/content/train_crops/pic_dpae3wqh_4_3.png  \n",
            "  inflating: /content/train_crops/content/train_crops/pic_mgdt096l_7_l.png  \n",
            "  inflating: /content/train_crops/content/train_crops/pic_8h218ub_4_8.png  \n",
            "  inflating: /content/train_crops/content/train_crops/pic_06rh65_4_6.png  \n",
            "  inflating: /content/train_crops/content/train_crops/pic_7sd81x_2_d.png  \n",
            "  inflating: /content/train_crops/content/train_crops/pic_zr5o_2_5.png  \n",
            "  inflating: /content/train_crops/content/train_crops/pic_86008_2_0.png  \n",
            "  inflating: /content/train_crops/content/train_crops/pic_ltb2_1_t.png  \n",
            "  inflating: /content/train_crops/content/train_crops/pic_bmsxqf1e_0_b.png  \n",
            "  inflating: /content/train_crops/content/train_crops/pic_blz5r_1_l.png  \n",
            "  inflating: /content/train_crops/content/train_crops/pic_xv0ozy3_6_3.png  \n",
            "  inflating: /content/train_crops/content/train_crops/pic_fw7as7_4_s.png  \n",
            "  inflating: /content/train_crops/content/train_crops/pic_ucf80pc1_6_c.png  \n",
            "  inflating: /content/train_crops/content/train_crops/pic_a0mepp13_4_p.png  \n",
            "  inflating: /content/train_crops/content/train_crops/pic_iuisngw3_7_3.png  \n",
            "  inflating: /content/train_crops/content/train_crops/pic_3hq9_0_3.png  \n",
            "  inflating: /content/train_crops/content/train_crops/pic_l4p9u7l_2_p.png  \n",
            "  inflating: /content/train_crops/content/train_crops/pic_1yam8ih9_4_8.png  \n",
            "  inflating: /content/train_crops/content/train_crops/pic_k36tx522_3_t.png  \n",
            "  inflating: /content/train_crops/content/train_crops/pic_t1bxvy9_0_t.png  \n",
            "  inflating: /content/train_crops/content/train_crops/pic_mgex43_1_g.png  \n",
            "  inflating: /content/train_crops/content/train_crops/pic_z7b10y_1_7.png  \n",
            "  inflating: /content/train_crops/content/train_crops/pic_x1rumbd_1_1.png  \n",
            "  inflating: /content/train_crops/content/train_crops/pic_z6mv_1_6.png  \n",
            "  inflating: /content/train_crops/content/train_crops/pic_j88ticou_2_8.png  \n",
            "  inflating: /content/train_crops/content/train_crops/pic_wnxg4tn_4_4.png  \n",
            "  inflating: /content/train_crops/content/train_crops/pic_an33_2_3.png  \n",
            "  inflating: /content/train_crops/content/train_crops/pic_qbowj_0_q.png  \n",
            "  inflating: /content/train_crops/content/train_crops/pic_tyr31t_4_1.png  \n",
            "  inflating: /content/train_crops/content/train_crops/pic_g67fpcz3_1_6.png  \n",
            "  inflating: /content/train_crops/content/train_crops/pic_v00hdk_3_h.png  \n",
            "  inflating: /content/train_crops/content/train_crops/pic_yp6y_3_y.png  \n",
            "  inflating: /content/train_crops/content/train_crops/pic_saca4_0_s.png  \n",
            "  inflating: /content/train_crops/content/train_crops/pic_7xyrf2c_4_f.png  \n",
            "  inflating: /content/train_crops/content/train_crops/pic_jp3sy2mr_4_y.png  \n",
            "  inflating: /content/train_crops/content/train_crops/pic_fkjhc4_2_j.png  \n",
            "  inflating: /content/train_crops/content/train_crops/pic_btp7n_4_n.png  \n",
            "  inflating: /content/train_crops/content/train_crops/pic_hu1kznz_5_n.png  \n",
            "  inflating: /content/train_crops/content/train_crops/pic_zrf4_0_z.png  \n",
            "  inflating: /content/train_crops/content/train_crops/pic_o7184w0z_7_z.png  \n",
            "  inflating: /content/train_crops/content/train_crops/pic_46x9d8_4_d.png  \n",
            "  inflating: /content/train_crops/content/train_crops/pic_zxf5h_3_5.png  \n",
            "  inflating: /content/train_crops/content/train_crops/pic_23ny7sr_3_y.png  \n",
            "  inflating: /content/train_crops/content/train_crops/pic_gayr94_5_4.png  \n",
            "  inflating: /content/train_crops/content/train_crops/pic_jaiqkw_5_w.png  \n",
            "  inflating: /content/train_crops/content/train_crops/pic_watkuvs_5_v.png  \n",
            "  inflating: /content/train_crops/content/train_crops/pic_e949xroz_4_x.png  \n",
            "  inflating: /content/train_crops/content/train_crops/pic_ke96ccvs_6_v.png  \n",
            "  inflating: /content/train_crops/content/train_crops/pic_5wdgtg9_4_t.png  \n",
            "  inflating: /content/train_crops/content/train_crops/pic_mmbzw_0_m.png  \n",
            "  inflating: /content/train_crops/content/train_crops/pic_e3aguc4_1_3.png  \n",
            "  inflating: /content/train_crops/content/train_crops/pic_rk79pt_2_7.png  \n",
            "  inflating: /content/train_crops/content/train_crops/pic_rkjgkp_0_r.png  \n",
            "  inflating: /content/train_crops/content/train_crops/pic_x6r4kmr_6_r.png  \n",
            "  inflating: /content/train_crops/content/train_crops/pic_sdey9q_0_s.png  \n",
            "  inflating: /content/train_crops/content/train_crops/pic_eayapey_0_e.png  \n",
            "  inflating: /content/train_crops/content/train_crops/pic_zxa8_0_z.png  \n",
            "  inflating: /content/train_crops/content/train_crops/pic_0ro07qv4_1_r.png  \n",
            "  inflating: /content/train_crops/content/train_crops/pic_rc3km5_3_k.png  \n",
            "  inflating: /content/train_crops/content/train_crops/pic_xljd7_4_7.png  \n",
            "  inflating: /content/train_crops/content/train_crops/pic_0qf323yb_0_0.png  \n",
            "  inflating: /content/train_crops/content/train_crops/pic_6824j_1_8.png  \n",
            "  inflating: /content/train_crops/content/train_crops/pic_ellw_2_l.png  \n",
            "  inflating: /content/train_crops/content/train_crops/pic_a67mw6w6_4_w.png  \n",
            "  inflating: /content/train_crops/content/train_crops/pic_cxjpkyui_7_i.png  \n",
            "  inflating: /content/train_crops/content/train_crops/pic_xqbks7ji_0_x.png  \n",
            "  inflating: /content/train_crops/content/train_crops/pic_6nsy3xgy_7_y.png  \n",
            "  inflating: /content/train_crops/content/train_crops/pic_hgwrhbk_5_b.png  \n",
            "  inflating: /content/train_crops/content/train_crops/pic_0e89d_2_8.png  \n",
            "  inflating: /content/train_crops/content/train_crops/pic_jbsxvmc_3_x.png  \n",
            "  inflating: /content/train_crops/content/train_crops/pic_hmsu_2_s.png  \n",
            "  inflating: /content/train_crops/content/train_crops/pic_hkgn6n_0_h.png  \n",
            "  inflating: /content/train_crops/content/train_crops/pic_bazbx2_5_2.png  \n",
            "  inflating: /content/train_crops/content/train_crops/pic_fp3awbi_2_3.png  \n",
            "  inflating: /content/train_crops/content/train_crops/pic_x1gg0zh_1_1.png  \n",
            "  inflating: /content/train_crops/content/train_crops/pic_t7hxdl2m_1_7.png  \n",
            "  inflating: /content/train_crops/content/train_crops/pic_s3jrm8_0_s.png  \n",
            "  inflating: /content/train_crops/content/train_crops/pic_a000vt_5_t.png  \n",
            "  inflating: /content/train_crops/content/train_crops/pic_ugzz_0_u.png  \n",
            "  inflating: /content/train_crops/content/train_crops/pic_khqsfa_4_f.png  \n",
            "  inflating: /content/train_crops/content/train_crops/pic_ffj6o_0_f.png  \n",
            "  inflating: /content/train_crops/content/train_crops/pic_fu8m2_2_8.png  \n",
            "  inflating: /content/train_crops/content/train_crops/pic_c9nxcrht_0_c.png  \n",
            "  inflating: /content/train_crops/content/train_crops/pic_iqmsp0_1_q.png  \n",
            "  inflating: /content/train_crops/content/train_crops/pic_0ldmhzq_5_z.png  \n",
            "  inflating: /content/train_crops/content/train_crops/pic_2w0qgsf0_1_w.png  \n",
            "  inflating: /content/train_crops/content/train_crops/pic_35i1_0_3.png  \n",
            "  inflating: /content/train_crops/content/train_crops/pic_wzpx_2_p.png  \n",
            "  inflating: /content/train_crops/content/train_crops/pic_1mcqnx_1_m.png  \n",
            "  inflating: /content/train_crops/content/train_crops/pic_axo5f_4_f.png  \n",
            "  inflating: /content/train_crops/content/train_crops/pic_ztodeq_4_e.png  \n",
            "  inflating: /content/train_crops/content/train_crops/pic_aeib0h2_1_e.png  \n",
            "  inflating: /content/train_crops/content/train_crops/pic_7oamizja_5_z.png  \n",
            "  inflating: /content/train_crops/content/train_crops/pic_drj4b05_3_4.png  \n",
            "  inflating: /content/train_crops/content/train_crops/pic_9r2ymii_1_r.png  \n",
            "  inflating: /content/train_crops/content/train_crops/pic_3r1j_2_1.png  \n",
            "  inflating: /content/train_crops/content/train_crops/pic_oou8t7_2_u.png  \n",
            "  inflating: /content/train_crops/content/train_crops/pic_3s3bp0r_2_3.png  \n",
            "  inflating: /content/train_crops/content/train_crops/pic_bh6diykw_5_y.png  \n",
            "  inflating: /content/train_crops/content/train_crops/pic_h8zsr6zf_4_r.png  \n",
            "  inflating: /content/train_crops/content/train_crops/pic_9c42y_1_c.png  \n",
            "  inflating: /content/train_crops/content/train_crops/pic_ly3bz2zx_7_x.png  \n",
            "  inflating: /content/train_crops/content/train_crops/pic_3otukim_1_o.png  \n",
            "  inflating: /content/train_crops/content/train_crops/pic_y5gxj15e_5_1.png  \n",
            "  inflating: /content/train_crops/content/train_crops/pic_tfvc_3_c.png  \n",
            "  inflating: /content/train_crops/content/train_crops/pic_aa11pfrh_0_a.png  \n",
            "  inflating: /content/train_crops/content/train_crops/pic_688zaokq_4_a.png  \n",
            "  inflating: /content/train_crops/content/train_crops/pic_6tch63a_6_a.png  \n",
            "  inflating: /content/train_crops/content/train_crops/pic_7ltd0_1_l.png  \n",
            "  inflating: /content/train_crops/content/train_crops/pic_upro_1_p.png  \n",
            "  inflating: /content/train_crops/content/train_crops/pic_2x6xzl9_2_6.png  \n",
            "  inflating: /content/train_crops/content/train_crops/pic_zugnfq4a_0_z.png  \n",
            "  inflating: /content/train_crops/content/train_crops/pic_qpkz6evr_7_r.png  \n",
            "  inflating: /content/train_crops/content/train_crops/pic_s6sowp_5_p.png  \n",
            "  inflating: /content/train_crops/content/train_crops/pic_xnkzzevb_3_z.png  \n",
            "  inflating: /content/train_crops/content/train_crops/pic_uo0lkiw_5_i.png  \n",
            "  inflating: /content/train_crops/content/train_crops/pic_dbmtgbk3_3_t.png  \n",
            "  inflating: /content/train_crops/content/train_crops/pic_440cq_3_c.png  \n",
            "  inflating: /content/train_crops/content/train_crops/pic_e69dz4z_4_z.png  \n",
            "  inflating: /content/train_crops/content/train_crops/pic_t61xjt_5_t.png  \n",
            "  inflating: /content/train_crops/content/train_crops/pic_j2rs0tse_5_t.png  \n",
            "  inflating: /content/train_crops/content/train_crops/pic_aaxg_1_a.png  \n",
            "  inflating: /content/train_crops/content/train_crops/pic_kwp5v_0_k.png  \n",
            "  inflating: /content/train_crops/content/train_crops/pic_1xn2_2_n.png  \n",
            "  inflating: /content/train_crops/content/train_crops/pic_wnoaa_3_a.png  \n",
            "  inflating: /content/train_crops/content/train_crops/pic_aub3k_2_b.png  \n",
            "  inflating: /content/train_crops/content/train_crops/pic_422g0b_3_g.png  \n",
            "  inflating: /content/train_crops/content/train_crops/pic_8tcuqbp4_0_8.png  \n",
            "  inflating: /content/train_crops/content/train_crops/pic_3kiq9_3_q.png  \n",
            "  inflating: /content/train_crops/content/train_crops/pic_lnpaql_5_l.png  \n",
            "  inflating: /content/train_crops/content/train_crops/pic_nn14b_1_n.png  \n",
            "  inflating: /content/train_crops/content/train_crops/pic_a6vg1s_5_s.png  \n",
            "  inflating: /content/train_crops/content/train_crops/pic_otk2ar_2_k.png  \n",
            "  inflating: /content/train_crops/content/train_crops/pic_7rj5nx_0_7.png  \n",
            "  inflating: /content/train_crops/content/train_crops/pic_mcd34a_4_4.png  \n",
            "  inflating: /content/train_crops/content/train_crops/pic_hjso9_3_o.png  \n",
            "  inflating: /content/train_crops/content/train_crops/pic_uc3v_3_v.png  \n",
            "  inflating: /content/train_crops/content/train_crops/pic_ys7xcq_3_x.png  \n",
            "  inflating: /content/train_crops/content/train_crops/pic_jrr5n_1_r.png  \n",
            "  inflating: /content/train_crops/content/train_crops/pic_ao0hsrc_4_s.png  \n",
            "  inflating: /content/train_crops/content/train_crops/pic_cebdt43_2_b.png  \n",
            "  inflating: /content/train_crops/content/train_crops/pic_dpgptbcn_5_b.png  \n",
            "  inflating: /content/train_crops/content/train_crops/pic_hd2f9h06_1_d.png  \n",
            "  inflating: /content/train_crops/content/train_crops/pic_9cubvzql_1_c.png  \n",
            "  inflating: /content/train_crops/content/train_crops/pic_l2s5ejd_6_d.png  \n",
            "  inflating: /content/train_crops/content/train_crops/pic_f9wzjg7q_6_7.png  \n",
            "  inflating: /content/train_crops/content/train_crops/pic_a2we_1_2.png  \n",
            "  inflating: /content/train_crops/content/train_crops/pic_5raouk_5_k.png  \n",
            "  inflating: /content/train_crops/content/train_crops/pic_zsmrt7_1_s.png  \n",
            "  inflating: /content/train_crops/content/train_crops/pic_n34jgvw_2_4.png  \n",
            "  inflating: /content/train_crops/content/train_crops/pic_1lib_2_i.png  \n",
            "  inflating: /content/train_crops/content/train_crops/pic_vhb3_0_v.png  \n",
            "  inflating: /content/train_crops/content/train_crops/pic_q4vclxp_2_v.png  \n",
            "  inflating: /content/train_crops/content/train_crops/pic_e9nhvc_4_v.png  \n",
            "  inflating: /content/train_crops/content/train_crops/pic_taqmpky_6_y.png  \n",
            "  inflating: /content/train_crops/content/train_crops/pic_viplu_2_p.png  \n",
            "  inflating: /content/train_crops/content/train_crops/pic_6kph80pi_5_0.png  \n",
            "  inflating: /content/train_crops/content/train_crops/pic_av4m_0_a.png  \n",
            "  inflating: /content/train_crops/content/train_crops/pic_jnulf_0_j.png  \n",
            "  inflating: /content/train_crops/content/train_crops/pic_tkau_0_t.png  \n",
            "  inflating: /content/train_crops/content/train_crops/pic_58bp1pgm_1_8.png  \n",
            "  inflating: /content/train_crops/content/train_crops/pic_xss95p8_4_5.png  \n",
            "  inflating: /content/train_crops/content/train_crops/pic_66e4_2_e.png  \n",
            "  inflating: /content/train_crops/content/train_crops/pic_lucbu4y_0_l.png  \n",
            "  inflating: /content/train_crops/content/train_crops/pic_ry1ba8_5_8.png  \n",
            "  inflating: /content/train_crops/content/train_crops/pic_a6mzz_3_z.png  \n",
            "  inflating: /content/train_crops/content/train_crops/pic_blaltn9_0_b.png  \n",
            "  inflating: /content/train_crops/content/train_crops/pic_nf2493_5_3.png  \n",
            "  inflating: /content/train_crops/content/train_crops/pic_zp7lsxmy_4_s.png  \n",
            "  inflating: /content/train_crops/content/train_crops/pic_b11eb8_4_b.png  \n",
            "  inflating: /content/train_crops/content/train_crops/pic_14shu2dg_4_u.png  \n",
            "  inflating: /content/train_crops/content/train_crops/pic_gk9ssp_3_s.png  \n",
            "  inflating: /content/train_crops/content/train_crops/pic_bo56c_4_c.png  \n",
            "  inflating: /content/train_crops/content/train_crops/pic_k2i4rt_4_r.png  \n",
            "  inflating: /content/train_crops/content/train_crops/pic_z487ufh_3_7.png  \n",
            "  inflating: /content/train_crops/content/train_crops/pic_si6ffqow_4_f.png  \n",
            "  inflating: /content/train_crops/content/train_crops/pic_xqrtrq2_5_q.png  \n",
            "  inflating: /content/train_crops/content/train_crops/pic_cu6ju3_0_c.png  \n",
            "  inflating: /content/train_crops/content/train_crops/pic_eh57_3_7.png  \n",
            "  inflating: /content/train_crops/content/train_crops/pic_66t3913i_6_3.png  \n",
            "  inflating: /content/train_crops/content/train_crops/pic_s7wqfx5_3_q.png  \n",
            "  inflating: /content/train_crops/content/train_crops/pic_b11eb8_1_1.png  \n",
            "  inflating: /content/train_crops/content/train_crops/pic_744n3_3_n.png  \n",
            "  inflating: /content/train_crops/content/train_crops/pic_xyygzcoo_6_o.png  \n",
            "  inflating: /content/train_crops/content/train_crops/pic_2i85qe_3_5.png  \n",
            "  inflating: /content/train_crops/content/train_crops/pic_ra7l_3_l.png  \n",
            "  inflating: /content/train_crops/content/train_crops/pic_9u17gvpp_7_p.png  \n",
            "  inflating: /content/train_crops/content/train_crops/pic_h1i3mnht_7_t.png  \n",
            "  inflating: /content/train_crops/content/train_crops/pic_ryq9_3_9.png  \n",
            "  inflating: /content/train_crops/content/train_crops/pic_zdchkvsw_5_v.png  \n",
            "  inflating: /content/train_crops/content/train_crops/pic_yns5l_1_n.png  \n",
            "  inflating: /content/train_crops/content/train_crops/pic_yc23_3_3.png  \n",
            "  inflating: /content/train_crops/content/train_crops/pic_y5h7lmio_1_5.png  \n",
            "  inflating: /content/train_crops/content/train_crops/pic_fkr9pnn_2_r.png  \n",
            "  inflating: /content/train_crops/content/train_crops/pic_e0ub08_5_8.png  \n",
            "  inflating: /content/train_crops/content/train_crops/pic_gy7nps_0_g.png  \n",
            "  inflating: /content/train_crops/content/train_crops/pic_kowwt0z_3_w.png  \n",
            "  inflating: /content/train_crops/content/train_crops/pic_vrnjiy_2_n.png  \n",
            "  inflating: /content/train_crops/content/train_crops/pic_6nan_3_n.png  \n",
            "  inflating: /content/train_crops/content/train_crops/pic_cm2f_3_f.png  \n",
            "  inflating: /content/train_crops/content/train_crops/pic_auv1bf_3_1.png  \n",
            "  inflating: /content/train_crops/content/train_crops/pic_orj6me6_4_m.png  \n",
            "  inflating: /content/train_crops/content/train_crops/pic_elp8_0_e.png  \n",
            "  inflating: /content/train_crops/content/train_crops/pic_dk6luks_6_s.png  \n",
            "  inflating: /content/train_crops/content/train_crops/pic_mq8qnw_4_n.png  \n",
            "  inflating: /content/train_crops/content/train_crops/pic_fyh7vosx_4_v.png  \n",
            "  inflating: /content/train_crops/content/train_crops/pic_7iv4_3_4.png  \n",
            "  inflating: /content/train_crops/content/train_crops/pic_8bbte_1_b.png  \n",
            "  inflating: /content/train_crops/content/train_crops/pic_rdldnfni_5_f.png  \n",
            "  inflating: /content/train_crops/content/train_crops/pic_2vyf9vf_0_2.png  \n",
            "  inflating: /content/train_crops/content/train_crops/pic_1pksa7t_6_t.png  \n",
            "  inflating: /content/train_crops/content/train_crops/pic_zugnfq4a_4_f.png  \n",
            "  inflating: /content/train_crops/content/train_crops/pic_vauetjkk_2_u.png  \n",
            "  inflating: /content/train_crops/content/train_crops/pic_zdchkvsw_7_w.png  \n",
            "  inflating: /content/train_crops/content/train_crops/pic_qwsr24b8_0_q.png  \n",
            "  inflating: /content/train_crops/content/train_crops/pic_y48gtvr_0_y.png  \n",
            "  inflating: /content/train_crops/content/train_crops/pic_ap74_0_a.png  \n",
            "  inflating: /content/train_crops/content/train_crops/pic_1i0oea74_5_a.png  \n",
            "  inflating: /content/train_crops/content/train_crops/pic_xerzf1f_3_z.png  \n",
            "  inflating: /content/train_crops/content/train_crops/pic_xswcwa6_5_a.png  \n",
            "  inflating: /content/train_crops/content/train_crops/pic_bxn0cy57_3_0.png  \n",
            "  inflating: /content/train_crops/content/train_crops/pic_5qu5gx_4_g.png  \n",
            "  inflating: /content/train_crops/content/train_crops/pic_pooqawbn_0_p.png  \n",
            "  inflating: /content/train_crops/content/train_crops/pic_su1hu_0_s.png  \n",
            "  inflating: /content/train_crops/content/train_crops/pic_h2h3h09_4_h.png  \n",
            "  inflating: /content/train_crops/content/train_crops/pic_74njaeh_5_e.png  \n",
            "  inflating: /content/train_crops/content/train_crops/pic_a3wpy8_5_8.png  \n",
            "  inflating: /content/train_crops/content/train_crops/pic_oygc12vo_2_g.png  \n",
            "  inflating: /content/train_crops/content/train_crops/pic_spnwdje_5_j.png  \n",
            "  inflating: /content/train_crops/content/train_crops/pic_a6rswo_3_s.png  \n",
            "  inflating: /content/train_crops/content/train_crops/pic_owin2n_4_2.png  \n",
            "  inflating: /content/train_crops/content/train_crops/pic_d2mgr5g_2_m.png  \n",
            "  inflating: /content/train_crops/content/train_crops/pic_3l399_0_3.png  \n",
            "  inflating: /content/train_crops/content/train_crops/pic_rvb8o9v_1_v.png  \n",
            "  inflating: /content/train_crops/content/train_crops/pic_9tgt6apu_4_6.png  \n",
            "  inflating: /content/train_crops/content/train_crops/pic_ymokc_3_k.png  \n",
            "  inflating: /content/train_crops/content/train_crops/pic_rekoz3dv_2_k.png  \n",
            "  inflating: /content/train_crops/content/train_crops/pic_2ufo9hqq_2_f.png  \n",
            "  inflating: /content/train_crops/content/train_crops/pic_q9uao_3_a.png  \n",
            "  inflating: /content/train_crops/content/train_crops/pic_365ezq8_3_e.png  \n",
            "  inflating: /content/train_crops/content/train_crops/pic_jk9862_5_2.png  \n",
            "  inflating: /content/train_crops/content/train_crops/pic_s5aq3_4_3.png  \n",
            "  inflating: /content/train_crops/content/train_crops/pic_hxx17tex_2_x.png  \n",
            "  inflating: /content/train_crops/content/train_crops/pic_nkpxyic_2_p.png  \n",
            "  inflating: /content/train_crops/content/train_crops/pic_usoy9t_4_9.png  \n",
            "  inflating: /content/train_crops/content/train_crops/pic_71piu_3_i.png  \n",
            "  inflating: /content/train_crops/content/train_crops/pic_sgaihfd_6_d.png  \n",
            "  inflating: /content/train_crops/content/train_crops/pic_11nzfars_0_1.png  \n",
            "  inflating: /content/train_crops/content/train_crops/pic_twnbuj2w_4_u.png  \n",
            "  inflating: /content/train_crops/content/train_crops/pic_xmlxkn_4_k.png  \n",
            "  inflating: /content/train_crops/content/train_crops/pic_fouh3yi_3_h.png  \n",
            "  inflating: /content/train_crops/content/train_crops/pic_ilj0t3_4_t.png  \n",
            "  inflating: /content/train_crops/content/train_crops/pic_i8e4c_2_e.png  \n",
            "  inflating: /content/train_crops/content/train_crops/pic_d7nio0hu_6_h.png  \n",
            "  inflating: /content/train_crops/content/train_crops/pic_67zs_0_6.png  \n",
            "  inflating: /content/train_crops/content/train_crops/pic_ste30fk_0_s.png  \n",
            "  inflating: /content/train_crops/content/train_crops/pic_12ozbizk_1_2.png  \n",
            "  inflating: /content/train_crops/content/train_crops/pic_stice9p_2_i.png  \n",
            "  inflating: /content/train_crops/content/train_crops/pic_aajbe0qz_1_a.png  \n",
            "  inflating: /content/train_crops/content/train_crops/pic_iycetcg_3_e.png  \n",
            "  inflating: /content/train_crops/content/train_crops/pic_0wjl0pb_4_0.png  \n",
            "  inflating: /content/train_crops/content/train_crops/pic_49n87mm_6_m.png  \n",
            "  inflating: /content/train_crops/content/train_crops/pic_ah9q0b_1_h.png  \n",
            "  inflating: /content/train_crops/content/train_crops/pic_ejne1h_1_j.png  \n",
            "  inflating: /content/train_crops/content/train_crops/pic_wi3m_2_3.png  \n",
            "  inflating: /content/train_crops/content/train_crops/pic_eff0j9mp_3_0.png  \n",
            "  inflating: /content/train_crops/content/train_crops/pic_lquft3d_4_t.png  \n",
            "  inflating: /content/train_crops/content/train_crops/pic_bl5wa_4_a.png  \n",
            "  inflating: /content/train_crops/content/train_crops/pic_12arnksa_0_1.png  \n",
            "  inflating: /content/train_crops/content/train_crops/pic_fv5jb1_4_b.png  \n",
            "  inflating: /content/train_crops/content/train_crops/pic_e7mb9n7_3_b.png  \n",
            "  inflating: /content/train_crops/content/train_crops/pic_n1aakj_3_a.png  \n",
            "  inflating: /content/train_crops/content/train_crops/pic_za4w2_4_2.png  \n",
            "  inflating: /content/train_crops/content/train_crops/pic_yv4nqll2_3_n.png  \n",
            "  inflating: /content/train_crops/content/train_crops/pic_dnlp85_2_l.png  \n",
            "  inflating: /content/train_crops/content/train_crops/pic_10p8ks7z_2_p.png  \n",
            "  inflating: /content/train_crops/content/train_crops/pic_w6zwegn_2_z.png  \n",
            "  inflating: /content/train_crops/content/train_crops/pic_pjrr2i2h_4_2.png  \n",
            "  inflating: /content/train_crops/content/train_crops/pic_faorq_1_a.png  \n",
            "  inflating: /content/train_crops/content/train_crops/pic_2zbcgf7_0_2.png  \n",
            "  inflating: /content/train_crops/content/train_crops/pic_4q433u82_4_3.png  \n",
            "  inflating: /content/train_crops/content/train_crops/pic_gsm9pcp_0_g.png  \n",
            "  inflating: /content/train_crops/content/train_crops/pic_wi009q39_3_0.png  \n",
            "  inflating: /content/train_crops/content/train_crops/pic_sovo_2_v.png  \n",
            "  inflating: /content/train_crops/content/train_crops/pic_tb1vbq1_0_t.png  \n",
            "  inflating: /content/train_crops/content/train_crops/pic_nuhp_1_u.png  \n",
            "  inflating: /content/train_crops/content/train_crops/pic_4vf9t_0_4.png  \n",
            "  inflating: /content/train_crops/content/train_crops/pic_tfmd_2_m.png  \n",
            "  inflating: /content/train_crops/content/train_crops/pic_ee8srco_0_e.png  \n",
            "  inflating: /content/train_crops/content/train_crops/pic_06mhii9s_0_0.png  \n",
            "  inflating: /content/train_crops/content/train_crops/pic_b0yjj_4_j.png  \n",
            "  inflating: /content/train_crops/content/train_crops/pic_hqq0kj2_3_0.png  \n",
            "  inflating: /content/train_crops/content/train_crops/pic_j3efd6l6_2_e.png  \n",
            "  inflating: /content/train_crops/content/train_crops/pic_zkaw3gh_5_g.png  \n",
            "  inflating: /content/train_crops/content/train_crops/pic_hzvl1k_4_1.png  \n",
            "  inflating: /content/train_crops/content/train_crops/pic_3vl5jn_5_n.png  \n",
            "  inflating: /content/train_crops/content/train_crops/pic_bjtcwzcy_1_j.png  \n",
            "  inflating: /content/train_crops/content/train_crops/pic_e4smm_3_m.png  \n",
            "  inflating: /content/train_crops/content/train_crops/pic_m6asp6kb_7_b.png  \n",
            "  inflating: /content/train_crops/content/train_crops/pic_k2bxgrov_0_k.png  \n",
            "  inflating: /content/train_crops/content/train_crops/pic_xez55y_3_5.png  \n",
            "  inflating: /content/train_crops/content/train_crops/pic_jrtz_0_j.png  \n",
            "  inflating: /content/train_crops/content/train_crops/pic_1cui_1_c.png  \n",
            "  inflating: /content/train_crops/content/train_crops/pic_jakbn64_6_4.png  \n",
            "  inflating: /content/train_crops/content/train_crops/pic_9eun2_4_2.png  \n",
            "  inflating: /content/train_crops/content/train_crops/pic_gk5agh_5_h.png  \n",
            "  inflating: /content/train_crops/content/train_crops/pic_s0fr5p_5_p.png  \n",
            "  inflating: /content/train_crops/content/train_crops/pic_jlu7wm_3_7.png  \n",
            "  inflating: /content/train_crops/content/train_crops/pic_h3azfmu_0_h.png  \n",
            "  inflating: /content/train_crops/content/train_crops/pic_4oss830_5_3.png  \n",
            "  inflating: /content/train_crops/content/train_crops/pic_lsjpr_1_s.png  \n",
            "  inflating: /content/train_crops/content/train_crops/pic_qzv7dq_3_7.png  \n",
            "  inflating: /content/train_crops/content/train_crops/pic_d7wq3kvt_0_d.png  \n",
            "  inflating: /content/train_crops/content/train_crops/pic_h0r87c_2_r.png  \n",
            "  inflating: /content/train_crops/content/train_crops/pic_3a0033qc_1_a.png  \n",
            "  inflating: /content/train_crops/content/train_crops/pic_ngckn10s_2_c.png  \n",
            "  inflating: /content/train_crops/content/train_crops/pic_t7qco_3_c.png  \n",
            "  inflating: /content/train_crops/content/train_crops/pic_w1hhbm9_0_w.png  \n",
            "  inflating: /content/train_crops/content/train_crops/pic_hcck03w9_3_k.png  \n",
            "  inflating: /content/train_crops/content/train_crops/pic_za4wmt_2_4.png  \n",
            "  inflating: /content/train_crops/content/train_crops/pic_gokf6xqh_3_f.png  \n",
            "  inflating: /content/train_crops/content/train_crops/pic_metb_3_b.png  \n",
            "  inflating: /content/train_crops/content/train_crops/pic_hzemn_0_h.png  \n",
            "  inflating: /content/train_crops/content/train_crops/pic_x8s4nyc_0_x.png  \n",
            "  inflating: /content/train_crops/content/train_crops/pic_5u5dxp_1_u.png  \n",
            "  inflating: /content/train_crops/content/train_crops/pic_4roslcx_6_x.png  \n",
            "  inflating: /content/train_crops/content/train_crops/pic_t45da_3_d.png  \n",
            "  inflating: /content/train_crops/content/train_crops/pic_hnt919cc_0_h.png  \n",
            "  inflating: /content/train_crops/content/train_crops/pic_qekhqgo_1_e.png  \n",
            "  inflating: /content/train_crops/content/train_crops/pic_3vcmh5_0_3.png  \n",
            "  inflating: /content/train_crops/content/train_crops/pic_efcpy_4_y.png  \n",
            "  inflating: /content/train_crops/content/train_crops/pic_luggxsy6_2_g.png  \n",
            "  inflating: /content/train_crops/content/train_crops/pic_dg7v3_4_3.png  \n",
            "  inflating: /content/train_crops/content/train_crops/pic_r31x_1_3.png  \n",
            "  inflating: /content/train_crops/content/train_crops/pic_18tkjk_2_t.png  \n",
            "  inflating: /content/train_crops/content/train_crops/pic_jxyj_1_x.png  \n",
            "  inflating: /content/train_crops/content/train_crops/pic_5wqzn9_3_z.png  \n",
            "  inflating: /content/train_crops/content/train_crops/pic_d7vv13_0_d.png  \n",
            "  inflating: /content/train_crops/content/train_crops/pic_yi6y_2_6.png  \n",
            "  inflating: /content/train_crops/content/train_crops/pic_yvz4gl80_2_z.png  \n",
            "  inflating: /content/train_crops/content/train_crops/pic_ye17s_4_s.png  \n",
            "  inflating: /content/train_crops/content/train_crops/pic_vznffj3f_5_j.png  \n",
            "  inflating: /content/train_crops/content/train_crops/pic_d6cx69au_1_6.png  \n",
            "  inflating: /content/train_crops/content/train_crops/pic_b21fu_3_f.png  \n",
            "  inflating: /content/train_crops/content/train_crops/pic_9dq1iri1_0_9.png  \n",
            "  inflating: /content/train_crops/content/train_crops/pic_3xf2_3_2.png  \n",
            "  inflating: /content/train_crops/content/train_crops/pic_dba526yt_3_5.png  \n",
            "  inflating: /content/train_crops/content/train_crops/pic_qygn_2_g.png  \n",
            "  inflating: /content/train_crops/content/train_crops/pic_2i85qe_5_e.png  \n",
            "  inflating: /content/train_crops/content/train_crops/pic_9rfhh_1_r.png  \n",
            "  inflating: /content/train_crops/content/train_crops/pic_c2l41nu_3_4.png  \n",
            "  inflating: /content/train_crops/content/train_crops/pic_916e_3_e.png  \n",
            "  inflating: /content/train_crops/content/train_crops/pic_b5ry1z_2_r.png  \n",
            "  inflating: /content/train_crops/content/train_crops/pic_0qnp93de_5_3.png  \n",
            "  inflating: /content/train_crops/content/train_crops/pic_8g04_0_8.png  \n",
            "  inflating: /content/train_crops/content/train_crops/pic_ea8xeo9n_5_o.png  \n",
            "  inflating: /content/train_crops/content/train_crops/pic_akogn_1_k.png  \n",
            "  inflating: /content/train_crops/content/train_crops/pic_segtzfa4_4_z.png  \n",
            "  inflating: /content/train_crops/content/train_crops/pic_wmw9umzq_0_w.png  \n",
            "  inflating: /content/train_crops/content/train_crops/pic_o9k9tv_3_9.png  \n",
            "  inflating: /content/train_crops/content/train_crops/pic_gacoecl_2_c.png  \n",
            "  inflating: /content/train_crops/content/train_crops/pic_ivx9jcb_5_c.png  \n",
            "  inflating: /content/train_crops/content/train_crops/pic_hcck03w9_1_c.png  \n",
            "  inflating: /content/train_crops/content/train_crops/pic_cchiy0a_5_0.png  \n",
            "  inflating: /content/train_crops/content/train_crops/pic_fwza_2_z.png  \n",
            "  inflating: /content/train_crops/content/train_crops/pic_rbb81e74_5_e.png  \n",
            "  inflating: /content/train_crops/content/train_crops/pic_unmhvy3_6_3.png  \n",
            "  inflating: /content/train_crops/content/train_crops/pic_tdiereaf_3_e.png  \n",
            "  inflating: /content/train_crops/content/train_crops/pic_jkbsth6_6_6.png  \n",
            "  inflating: /content/train_crops/content/train_crops/pic_s8dl3uz_0_s.png  \n",
            "  inflating: /content/train_crops/content/train_crops/pic_yyvv0kit_6_i.png  \n",
            "  inflating: /content/train_crops/content/train_crops/pic_tcubfbib_6_i.png  \n",
            "  inflating: /content/train_crops/content/train_crops/pic_fl6n3_4_3.png  \n",
            "  inflating: /content/train_crops/content/train_crops/pic_0ddxn5qc_6_q.png  \n",
            "  inflating: /content/train_crops/content/train_crops/pic_1g3ro_4_o.png  \n",
            "  inflating: /content/train_crops/content/train_crops/pic_ndjpy_3_p.png  \n",
            "  inflating: /content/train_crops/content/train_crops/pic_y3rrj_1_3.png  \n",
            "  inflating: /content/train_crops/content/train_crops/pic_610dwqa7_7_7.png  \n",
            "  inflating: /content/train_crops/content/train_crops/pic_6t632u63_1_t.png  \n",
            "  inflating: /content/train_crops/content/train_crops/pic_1zktq3m_5_3.png  \n",
            "  inflating: /content/train_crops/content/train_crops/pic_3wytky6_6_6.png  \n",
            "  inflating: /content/train_crops/content/train_crops/pic_kq8prp5_4_r.png  \n",
            "  inflating: /content/train_crops/content/train_crops/pic_amz9l_0_a.png  \n",
            "  inflating: /content/train_crops/content/train_crops/pic_yym19nin_5_n.png  \n",
            "  inflating: /content/train_crops/content/train_crops/pic_o05qby9_2_5.png  \n",
            "  inflating: /content/train_crops/content/train_crops/pic_epauug_2_a.png  \n",
            "  inflating: /content/train_crops/content/train_crops/pic_9qdq9_3_q.png  \n",
            "  inflating: /content/train_crops/content/train_crops/pic_ly3bz2zx_2_3.png  \n",
            "  inflating: /content/train_crops/content/train_crops/pic_xcy2uj_2_y.png  \n",
            "  inflating: /content/train_crops/content/train_crops/pic_3parb27i_0_3.png  \n",
            "  inflating: /content/train_crops/content/train_crops/pic_8tszvw_3_z.png  \n",
            "  inflating: /content/train_crops/content/train_crops/pic_h6fs0n_5_n.png  \n",
            "  inflating: /content/train_crops/content/train_crops/pic_iqmsp0_0_i.png  \n",
            "  inflating: /content/train_crops/content/train_crops/pic_bn4u_2_4.png  \n",
            "  inflating: /content/train_crops/content/train_crops/pic_fqr4c0_0_f.png  \n",
            "  inflating: /content/train_crops/content/train_crops/pic_ihnip_4_p.png  \n",
            "  inflating: /content/train_crops/content/train_crops/pic_a9ymonr_2_y.png  \n",
            "  inflating: /content/train_crops/content/train_crops/pic_kprp170i_5_7.png  \n",
            "  inflating: /content/train_crops/content/train_crops/pic_q8a8rf5u_4_r.png  \n",
            "  inflating: /content/train_crops/content/train_crops/pic_io9h_1_o.png  \n",
            "  inflating: /content/train_crops/content/train_crops/pic_wysab_1_y.png  \n",
            "  inflating: /content/train_crops/content/train_crops/pic_1jbtomf_1_j.png  \n",
            "  inflating: /content/train_crops/content/train_crops/pic_xss95p8_6_8.png  \n",
            "  inflating: /content/train_crops/content/train_crops/pic_ibt69s_0_i.png  \n",
            "  inflating: /content/train_crops/content/train_crops/pic_473dzh5_4_z.png  \n",
            "  inflating: /content/train_crops/content/train_crops/pic_vnfbq9_4_q.png  \n",
            "  inflating: /content/train_crops/content/train_crops/pic_7wsnff_3_n.png  \n",
            "  inflating: /content/train_crops/content/train_crops/pic_h0y8_0_h.png  \n",
            "  inflating: /content/train_crops/content/train_crops/pic_6nabq_1_n.png  \n",
            "  inflating: /content/train_crops/content/train_crops/pic_53axfl_3_x.png  \n",
            "  inflating: /content/train_crops/content/train_crops/pic_kprp170i_3_p.png  \n",
            "  inflating: /content/train_crops/content/train_crops/pic_hd6za8_1_d.png  \n",
            "  inflating: /content/train_crops/content/train_crops/pic_bvw69y_3_6.png  \n",
            "  inflating: /content/train_crops/content/train_crops/pic_oo9tvaco_2_9.png  \n",
            "  inflating: /content/train_crops/content/train_crops/pic_3lvvlu4_1_l.png  \n",
            "  inflating: /content/train_crops/content/train_crops/pic_srawhd_1_r.png  \n",
            "  inflating: /content/train_crops/content/train_crops/pic_9t9u1_2_9.png  \n",
            "  inflating: /content/train_crops/content/train_crops/pic_6d6wnrn_1_d.png  \n",
            "  inflating: /content/train_crops/content/train_crops/pic_yn80w_0_y.png  \n",
            "  inflating: /content/train_crops/content/train_crops/pic_lj0pemd2_0_l.png  \n",
            "  inflating: /content/train_crops/content/train_crops/pic_uw9tb5kk_1_w.png  \n",
            "  inflating: /content/train_crops/content/train_crops/pic_gczkh4_3_k.png  \n",
            "  inflating: /content/train_crops/content/train_crops/pic_kdurbmvj_5_m.png  \n",
            "  inflating: /content/train_crops/content/train_crops/pic_4194_1_1.png  \n",
            "  inflating: /content/train_crops/content/train_crops/pic_dsz50_0_d.png  \n",
            "  inflating: /content/train_crops/content/train_crops/pic_x5hzzzf_5_z.png  \n",
            "  inflating: /content/train_crops/content/train_crops/pic_95cld_1_5.png  \n",
            "  inflating: /content/train_crops/content/train_crops/pic_ooyofgbg_4_f.png  \n",
            "  inflating: /content/train_crops/content/train_crops/pic_89igk73e_6_3.png  \n",
            "  inflating: /content/train_crops/content/train_crops/pic_twv4loiq_4_l.png  \n",
            "  inflating: /content/train_crops/content/train_crops/pic_tm9kmer_5_e.png  \n",
            "  inflating: /content/train_crops/content/train_crops/pic_35vn_1_5.png  \n",
            "  inflating: /content/train_crops/content/train_crops/pic_0lvh6u51_6_5.png  \n",
            "  inflating: /content/train_crops/content/train_crops/pic_q8a8rf5u_2_a.png  \n",
            "  inflating: /content/train_crops/content/train_crops/pic_priw_2_i.png  \n",
            "  inflating: /content/train_crops/content/train_crops/pic_yhxvfxjd_5_x.png  \n",
            "  inflating: /content/train_crops/content/train_crops/pic_lwb4u4f_6_f.png  \n",
            "  inflating: /content/train_crops/content/train_crops/pic_6ci58yvs_6_v.png  \n",
            "  inflating: /content/train_crops/content/train_crops/pic_oo9tvaco_0_o.png  \n",
            "  inflating: /content/train_crops/content/train_crops/pic_co8zx_4_x.png  \n",
            "  inflating: /content/train_crops/content/train_crops/pic_68yodr_2_y.png  \n",
            "  inflating: /content/train_crops/content/train_crops/pic_02d69zs0_7_0.png  \n",
            "  inflating: /content/train_crops/content/train_crops/pic_lgjj_1_g.png  \n",
            "  inflating: /content/train_crops/content/train_crops/pic_8yhjlw_3_j.png  \n",
            "  inflating: /content/train_crops/content/train_crops/pic_euw7rt_2_w.png  \n",
            "  inflating: /content/train_crops/content/train_crops/pic_1filptv1_1_f.png  \n",
            "  inflating: /content/train_crops/content/train_crops/pic_z1ycmn2_5_n.png  \n",
            "  inflating: /content/train_crops/content/train_crops/pic_g58ect_2_8.png  \n",
            "  inflating: /content/train_crops/content/train_crops/pic_bgotnjj2_0_b.png  \n",
            "  inflating: /content/train_crops/content/train_crops/pic_b492jtbs_6_b.png  \n",
            "  inflating: /content/train_crops/content/train_crops/pic_hmsbm9e_5_9.png  \n",
            "  inflating: /content/train_crops/content/train_crops/pic_59190bmd_1_9.png  \n",
            "  inflating: /content/train_crops/content/train_crops/pic_2ilolokm_0_2.png  \n",
            "  inflating: /content/train_crops/content/train_crops/pic_8d2y98_0_8.png  \n",
            "  inflating: /content/train_crops/content/train_crops/pic_lo4ssr_4_s.png  \n",
            "  inflating: /content/train_crops/content/train_crops/pic_cgwj_1_g.png  \n",
            "  inflating: /content/train_crops/content/train_crops/pic_tkc6m0xe_0_t.png  \n",
            "  inflating: /content/train_crops/content/train_crops/pic_jta14vrz_3_1.png  \n",
            "  inflating: /content/train_crops/content/train_crops/pic_ch5wi_3_w.png  \n",
            "  inflating: /content/train_crops/content/train_crops/pic_8ojtnpc_0_8.png  \n",
            "  inflating: /content/train_crops/content/train_crops/pic_qfhtzc6m_2_h.png  \n",
            "  inflating: /content/train_crops/content/train_crops/pic_og69lq5u_5_q.png  \n",
            "  inflating: /content/train_crops/content/train_crops/pic_jk8o9wo_1_k.png  \n",
            "  inflating: /content/train_crops/content/train_crops/pic_2yzexmrv_7_v.png  \n",
            "  inflating: /content/train_crops/content/train_crops/pic_qewhlgge_0_q.png  \n",
            "  inflating: /content/train_crops/content/train_crops/pic_07gr11_2_g.png  \n",
            "  inflating: /content/train_crops/content/train_crops/pic_15c00p2g_6_2.png  \n",
            "  inflating: /content/train_crops/content/train_crops/pic_1cv6sdnp_3_6.png  \n",
            "  inflating: /content/train_crops/content/train_crops/pic_qqhcyy_5_y.png  \n",
            "  inflating: /content/train_crops/content/train_crops/pic_3iyid_3_i.png  \n",
            "  inflating: /content/train_crops/content/train_crops/pic_e5plz8q_5_8.png  \n",
            "  inflating: /content/train_crops/content/train_crops/pic_s2xz_3_z.png  \n",
            "  inflating: /content/train_crops/content/train_crops/pic_xbsv4_1_b.png  \n",
            "  inflating: /content/train_crops/content/train_crops/pic_i4pi8h_4_8.png  \n",
            "  inflating: /content/train_crops/content/train_crops/pic_b59p996_2_9.png  \n",
            "  inflating: /content/train_crops/content/train_crops/pic_w1hhbm9_5_m.png  \n",
            "  inflating: /content/train_crops/content/train_crops/pic_co4y_0_c.png  \n",
            "  inflating: /content/train_crops/content/train_crops/pic_ennxd5_1_n.png  \n",
            "  inflating: /content/train_crops/content/train_crops/pic_jq1wcp7_4_c.png  \n",
            "  inflating: /content/train_crops/content/train_crops/pic_i4nze_2_n.png  \n",
            "  inflating: /content/train_crops/content/train_crops/pic_9y668_4_8.png  \n",
            "  inflating: /content/train_crops/content/train_crops/pic_fscaxlx1_2_c.png  \n",
            "  inflating: /content/train_crops/content/train_crops/pic_2hmi_3_i.png  \n",
            "  inflating: /content/train_crops/content/train_crops/pic_eszrhm9d_1_s.png  \n",
            "  inflating: /content/train_crops/content/train_crops/pic_yg290xxo_2_2.png  \n",
            "  inflating: /content/train_crops/content/train_crops/pic_95cld_0_9.png  \n",
            "  inflating: /content/train_crops/content/train_crops/pic_cc3ezr_4_z.png  \n",
            "  inflating: /content/train_crops/content/train_crops/pic_bh6diykw_3_d.png  \n",
            "  inflating: /content/train_crops/content/train_crops/pic_tpo2gv_4_g.png  \n",
            "  inflating: /content/train_crops/content/train_crops/pic_8466mwt_4_m.png  \n",
            "  inflating: /content/train_crops/content/train_crops/pic_viplu_0_v.png  \n",
            "  inflating: /content/train_crops/content/train_crops/pic_cu6orms_3_o.png  \n",
            "  inflating: /content/train_crops/content/train_crops/pic_qdxgdkk_1_d.png  \n",
            "  inflating: /content/train_crops/content/train_crops/pic_wiwz_2_w.png  \n",
            "  inflating: /content/train_crops/content/train_crops/pic_37ux4l_2_u.png  \n",
            "  inflating: /content/train_crops/content/train_crops/pic_w9gmeh9d_2_g.png  \n",
            "  inflating: /content/train_crops/content/train_crops/pic_snwe_3_e.png  \n",
            "  inflating: /content/train_crops/content/train_crops/pic_o8cy_3_y.png  \n",
            "  inflating: /content/train_crops/content/train_crops/pic_bfnq_2_n.png  \n",
            "  inflating: /content/train_crops/content/train_crops/pic_5t9hgxi_4_g.png  \n",
            "  inflating: /content/train_crops/content/train_crops/pic_le93_1_e.png  \n",
            "  inflating: /content/train_crops/content/train_crops/pic_img5h_4_h.png  \n",
            "  inflating: /content/train_crops/content/train_crops/pic_afazu8_0_a.png  \n",
            "  inflating: /content/train_crops/content/train_crops/pic_34vjemc_1_4.png  \n",
            "  inflating: /content/train_crops/content/train_crops/pic_4gsf4_2_s.png  \n",
            "  inflating: /content/train_crops/content/train_crops/pic_fqc9f_0_f.png  \n",
            "  inflating: /content/train_crops/content/train_crops/pic_0hfx507e_5_0.png  \n",
            "  inflating: /content/train_crops/content/train_crops/pic_1iojyo_5_o.png  \n",
            "  inflating: /content/train_crops/content/train_crops/pic_eug9la_2_g.png  \n",
            "  inflating: /content/train_crops/content/train_crops/pic_5gb90zz8_1_g.png  \n",
            "  inflating: /content/train_crops/content/train_crops/pic_s7j0i5_3_0.png  \n",
            "  inflating: /content/train_crops/content/train_crops/pic_mnf0py46_4_p.png  \n",
            "  inflating: /content/train_crops/content/train_crops/pic_486zlu_3_z.png  \n",
            "  inflating: /content/train_crops/content/train_crops/pic_1y13dk_3_3.png  \n",
            "  inflating: /content/train_crops/content/train_crops/pic_8h218ub_2_2.png  \n",
            "  inflating: /content/train_crops/content/train_crops/pic_zi5j_1_i.png  \n",
            "  inflating: /content/train_crops/content/train_crops/pic_og69lq5u_2_6.png  \n",
            "  inflating: /content/train_crops/content/train_crops/pic_u22xbcoq_0_u.png  \n",
            "  inflating: /content/train_crops/content/train_crops/pic_el118ka5_2_1.png  \n",
            "  inflating: /content/train_crops/content/train_crops/pic_9jjcr53_6_3.png  \n",
            "  inflating: /content/train_crops/content/train_crops/pic_rkkbb_0_r.png  \n",
            "  inflating: /content/train_crops/content/train_crops/pic_rhdm_0_r.png  \n",
            "  inflating: /content/train_crops/content/train_crops/pic_0qf323yb_6_y.png  \n",
            "  inflating: /content/train_crops/content/train_crops/pic_co4y_1_o.png  \n",
            "  inflating: /content/train_crops/content/train_crops/pic_uwhgjd2_6_2.png  \n",
            "  inflating: /content/train_crops/content/train_crops/pic_onl0q4u_3_0.png  \n",
            "  inflating: /content/train_crops/content/train_crops/pic_6li3fynq_0_6.png  \n",
            "  inflating: /content/train_crops/content/train_crops/pic_xqzv9s11_0_x.png  \n",
            "  inflating: /content/train_crops/content/train_crops/pic_fmk405s_5_5.png  \n",
            "  inflating: /content/train_crops/content/train_crops/pic_3pim_1_p.png  \n",
            "  inflating: /content/train_crops/content/train_crops/pic_mcik3b1_3_k.png  \n",
            "  inflating: /content/train_crops/content/train_crops/pic_azn2jroe_5_r.png  \n",
            "  inflating: /content/train_crops/content/train_crops/pic_503s2qx_2_3.png  \n",
            "  inflating: /content/train_crops/content/train_crops/pic_stsj_1_t.png  \n",
            "  inflating: /content/train_crops/content/train_crops/pic_nu6zpuoh_5_u.png  \n",
            "  inflating: /content/train_crops/content/train_crops/pic_dnoga_2_o.png  \n",
            "  inflating: /content/train_crops/content/train_crops/pic_k4qb_3_b.png  \n",
            "  inflating: /content/train_crops/content/train_crops/pic_6luurwze_1_l.png  \n",
            "  inflating: /content/train_crops/content/train_crops/pic_ffsohm_3_o.png  \n",
            "  inflating: /content/train_crops/content/train_crops/pic_3pim_2_i.png  \n",
            "  inflating: /content/train_crops/content/train_crops/pic_na8w_1_a.png  \n",
            "  inflating: /content/train_crops/content/train_crops/pic_9vhg4_3_g.png  \n",
            "  inflating: /content/train_crops/content/train_crops/pic_t45da_2_5.png  \n",
            "  inflating: /content/train_crops/content/train_crops/pic_hiczvfiu_6_i.png  \n",
            "  inflating: /content/train_crops/content/train_crops/pic_gx2n_1_x.png  \n",
            "  inflating: /content/train_crops/content/train_crops/pic_9p4orh9j_5_h.png  \n",
            "  inflating: /content/train_crops/content/train_crops/pic_yzikl_2_i.png  \n",
            "  inflating: /content/train_crops/content/train_crops/pic_dtoba7hm_3_b.png  \n",
            "  inflating: /content/train_crops/content/train_crops/pic_co16uhj_5_h.png  \n",
            "  inflating: /content/train_crops/content/train_crops/pic_1mwjw7_2_w.png  \n",
            "  inflating: /content/train_crops/content/train_crops/pic_68wfg_0_6.png  \n",
            "  inflating: /content/train_crops/content/train_crops/pic_56jg_3_g.png  \n",
            "  inflating: /content/train_crops/content/train_crops/pic_lm3vcssm_1_m.png  \n",
            "  inflating: /content/train_crops/content/train_crops/pic_54av40_0_5.png  \n",
            "  inflating: /content/train_crops/content/train_crops/pic_mk7t1nl4_0_m.png  \n",
            "  inflating: /content/train_crops/content/train_crops/pic_ikiu_0_i.png  \n",
            "  inflating: /content/train_crops/content/train_crops/pic_tt9kr_3_k.png  \n",
            "  inflating: /content/train_crops/content/train_crops/pic_qfhtzc6m_6_6.png  \n",
            "  inflating: /content/train_crops/content/train_crops/pic_pd4p_0_p.png  \n",
            "  inflating: /content/train_crops/content/train_crops/pic_wdpvqr_0_w.png  \n",
            "  inflating: /content/train_crops/content/train_crops/pic_k4nu5oss_4_5.png  \n",
            "  inflating: /content/train_crops/content/train_crops/pic_efc2o9ch_4_o.png  \n",
            "  inflating: /content/train_crops/content/train_crops/pic_ys7xcq_5_q.png  \n",
            "  inflating: /content/train_crops/content/train_crops/pic_mpbl315_2_b.png  \n",
            "  inflating: /content/train_crops/content/train_crops/pic_xbsv4_2_s.png  \n",
            "  inflating: /content/train_crops/content/train_crops/pic_992vu66_4_u.png  \n",
            "  inflating: /content/train_crops/content/train_crops/pic_tidnbz6_4_b.png  \n",
            "  inflating: /content/train_crops/content/train_crops/pic_53vmg7b_6_b.png  \n",
            "  inflating: /content/train_crops/content/train_crops/pic_gayr94_4_9.png  \n",
            "  inflating: /content/train_crops/content/train_crops/pic_521ls4_1_2.png  \n",
            "  inflating: /content/train_crops/content/train_crops/pic_qxuo_2_u.png  \n",
            "  inflating: /content/train_crops/content/train_crops/pic_vvts5zf1_2_t.png  \n",
            "  inflating: /content/train_crops/content/train_crops/pic_9co4vm_1_c.png  \n",
            "  inflating: /content/train_crops/content/train_crops/pic_1zafz7_3_f.png  \n",
            "  inflating: /content/train_crops/content/train_crops/pic_dk2z9_1_k.png  \n",
            "  inflating: /content/train_crops/content/train_crops/pic_0ck7ox_2_k.png  \n",
            "  inflating: /content/train_crops/content/train_crops/pic_ulaf_0_u.png  \n",
            "  inflating: /content/train_crops/content/train_crops/pic_o2r50v_5_v.png  \n",
            "  inflating: /content/train_crops/content/train_crops/pic_eetnv_2_t.png  \n",
            "  inflating: /content/train_crops/content/train_crops/pic_95sb6r_4_6.png  \n",
            "  inflating: /content/train_crops/content/train_crops/pic_36uk2_0_3.png  \n",
            "  inflating: /content/train_crops/content/train_crops/pic_8cahjsap_7_p.png  \n",
            "  inflating: /content/train_crops/content/train_crops/pic_fsstrk_5_k.png  \n",
            "  inflating: /content/train_crops/content/train_crops/pic_b1y1vl4i_4_v.png  \n",
            "  inflating: /content/train_crops/content/train_crops/pic_sgaihfd_1_g.png  \n",
            "  inflating: /content/train_crops/content/train_crops/pic_ww80ktq3_1_w.png  \n",
            "  inflating: /content/train_crops/content/train_crops/pic_hxl0z2g_5_2.png  \n",
            "  inflating: /content/train_crops/content/train_crops/pic_5chg5o_4_5.png  \n",
            "  inflating: /content/train_crops/content/train_crops/pic_7d83_0_7.png  \n",
            "  inflating: /content/train_crops/content/train_crops/pic_rtawww5m_7_m.png  \n",
            "  inflating: /content/train_crops/content/train_crops/pic_26hnvmr_6_r.png  \n",
            "  inflating: /content/train_crops/content/train_crops/pic_z7vub1cc_1_7.png  \n",
            "  inflating: /content/train_crops/content/train_crops/pic_gdxky_4_y.png  \n",
            "  inflating: /content/train_crops/content/train_crops/pic_axzwpcdj_4_p.png  \n",
            "  inflating: /content/train_crops/content/train_crops/pic_zba0x0wf_1_b.png  \n",
            "  inflating: /content/train_crops/content/train_crops/pic_98htom42_5_m.png  \n",
            "  inflating: /content/train_crops/content/train_crops/pic_ztew0pv_0_z.png  \n",
            "  inflating: /content/train_crops/content/train_crops/pic_a7w16_1_7.png  \n",
            "  inflating: /content/train_crops/content/train_crops/pic_49n87mm_3_8.png  \n",
            "  inflating: /content/train_crops/content/train_crops/pic_qnhxwd_4_w.png  \n",
            "  inflating: /content/train_crops/content/train_crops/pic_p4zyxtd_6_d.png  \n",
            "  inflating: /content/train_crops/content/train_crops/pic_wexj_2_x.png  \n",
            "  inflating: /content/train_crops/content/train_crops/pic_hpys8e8_6_8.png  \n",
            "  inflating: /content/train_crops/content/train_crops/pic_s7xtcj3_1_7.png  \n",
            "  inflating: /content/train_crops/content/train_crops/pic_9iu40eji_4_0.png  \n",
            "  inflating: /content/train_crops/content/train_crops/pic_xsbf_1_s.png  \n",
            "  inflating: /content/train_crops/content/train_crops/pic_id394_0_i.png  \n",
            "  inflating: /content/train_crops/content/train_crops/pic_ijsux_2_s.png  \n",
            "  inflating: /content/train_crops/content/train_crops/pic_58u3krz_2_u.png  \n",
            "  inflating: /content/train_crops/content/train_crops/pic_y2gv8y_5_y.png  \n",
            "  inflating: /content/train_crops/content/train_crops/pic_uhyl3xh_5_x.png  \n",
            "  inflating: /content/train_crops/content/train_crops/pic_ce5wnl_4_n.png  \n",
            "  inflating: /content/train_crops/content/train_crops/pic_53ujm2_5_2.png  \n",
            "  inflating: /content/train_crops/content/train_crops/pic_tfvc_1_f.png  \n",
            "  inflating: /content/train_crops/content/train_crops/pic_8e9n0_2_9.png  \n",
            "  inflating: /content/train_crops/content/train_crops/pic_e7ll4ytu_2_l.png  \n",
            "  inflating: /content/train_crops/content/train_crops/pic_i3lamtg_0_i.png  \n",
            "  inflating: /content/train_crops/content/train_crops/pic_wxh64j_3_6.png  \n",
            "  inflating: /content/train_crops/content/train_crops/pic_dft59r5i_6_5.png  \n",
            "  inflating: /content/train_crops/content/train_crops/pic_aoe2bt_4_b.png  \n",
            "  inflating: /content/train_crops/content/train_crops/pic_60rd08ji_7_i.png  \n",
            "  inflating: /content/train_crops/content/train_crops/pic_lhkkxxb_2_k.png  \n",
            "  inflating: /content/train_crops/content/train_crops/pic_2gnzcg9g_7_g.png  \n",
            "  inflating: /content/train_crops/content/train_crops/pic_6us1jyqg_0_6.png  \n",
            "  inflating: /content/train_crops/content/train_crops/pic_xsxtu9_2_x.png  \n",
            "  inflating: /content/train_crops/content/train_crops/pic_oqtqd59_6_9.png  \n",
            "  inflating: /content/train_crops/content/train_crops/pic_ke64x0_0_k.png  \n",
            "  inflating: /content/train_crops/content/train_crops/pic_5glm_1_g.png  \n",
            "  inflating: /content/train_crops/content/train_crops/pic_bviqwr_1_v.png  \n",
            "  inflating: /content/train_crops/content/train_crops/pic_rk5cfv3_5_v.png  \n",
            "  inflating: /content/train_crops/content/train_crops/pic_561eph4i_4_p.png  \n",
            "  inflating: /content/train_crops/content/train_crops/pic_pu4y5xuv_2_4.png  \n",
            "  inflating: /content/train_crops/content/train_crops/pic_fgrx_1_g.png  \n",
            "  inflating: /content/train_crops/content/train_crops/pic_p8gw5tmv_2_g.png  \n",
            "  inflating: /content/train_crops/content/train_crops/pic_9us49s0_5_s.png  \n",
            "  inflating: /content/train_crops/content/train_crops/pic_bucml_1_u.png  \n",
            "  inflating: /content/train_crops/content/train_crops/pic_18tkjk_3_k.png  \n",
            "  inflating: /content/train_crops/content/train_crops/pic_ea3o7y_4_7.png  \n",
            "  inflating: /content/train_crops/content/train_crops/pic_n0e0jfaj_5_f.png  \n",
            "  inflating: /content/train_crops/content/train_crops/pic_aznr7ssd_0_a.png  \n",
            "  inflating: /content/train_crops/content/train_crops/pic_0nu1yk9_5_k.png  \n",
            "  inflating: /content/train_crops/content/train_crops/pic_k5gy60db_6_d.png  \n",
            "  inflating: /content/train_crops/content/train_crops/pic_afjdde_3_d.png  \n",
            "  inflating: /content/train_crops/content/train_crops/pic_ti8p0glw_6_l.png  \n",
            "  inflating: /content/train_crops/content/train_crops/pic_o8u33_3_3.png  \n",
            "  inflating: /content/train_crops/content/train_crops/pic_l05ej1_1_0.png  \n",
            "  inflating: /content/train_crops/content/train_crops/pic_o2f7c7pz_7_z.png  \n",
            "  inflating: /content/train_crops/content/train_crops/pic_227hgav_0_2.png  \n",
            "  inflating: /content/train_crops/content/train_crops/pic_wdpvqr_3_v.png  \n",
            "  inflating: /content/train_crops/content/train_crops/pic_l4jx_3_x.png  \n",
            "  inflating: /content/train_crops/content/train_crops/pic_zb35j62_0_z.png  \n",
            "  inflating: /content/train_crops/content/train_crops/pic_mf51iu_2_5.png  \n",
            "  inflating: /content/train_crops/content/train_crops/pic_wrg4_3_4.png  \n",
            "  inflating: /content/train_crops/content/train_crops/pic_j2dop_0_j.png  \n",
            "  inflating: /content/train_crops/content/train_crops/pic_ekd4ojkq_7_q.png  \n",
            "  inflating: /content/train_crops/content/train_crops/pic_azn2jroe_0_a.png  \n",
            "  inflating: /content/train_crops/content/train_crops/pic_5u3y3t_2_3.png  \n",
            "  inflating: /content/train_crops/content/train_crops/pic_wdmi3n_2_m.png  \n",
            "  inflating: /content/train_crops/content/train_crops/pic_2dmg5dsg_1_d.png  \n",
            "  inflating: /content/train_crops/content/train_crops/pic_z2cah9_4_h.png  \n",
            "  inflating: /content/train_crops/content/train_crops/pic_cw0k_1_w.png  \n",
            "  inflating: /content/train_crops/content/train_crops/pic_f260_0_f.png  \n",
            "  inflating: /content/train_crops/content/train_crops/pic_zvk7jf_4_j.png  \n",
            "  inflating: /content/train_crops/content/train_crops/pic_tix6njb_2_x.png  \n",
            "  inflating: /content/train_crops/content/train_crops/pic_buzjalp_5_l.png  \n",
            "  inflating: /content/train_crops/content/train_crops/pic_i0c8ehrm_0_i.png  \n",
            "  inflating: /content/train_crops/content/train_crops/pic_53vmg7b_1_3.png  \n",
            "  inflating: /content/train_crops/content/train_crops/pic_i8cc6_4_6.png  \n",
            "  inflating: /content/train_crops/content/train_crops/pic_ytwd_3_d.png  \n",
            "  inflating: /content/train_crops/content/train_crops/pic_annn_0_a.png  \n",
            "  inflating: /content/train_crops/content/train_crops/pic_d052tm_5_m.png  \n",
            "  inflating: /content/train_crops/content/train_crops/pic_lwppl_2_p.png  \n",
            "  inflating: /content/train_crops/content/train_crops/pic_ld20x_4_x.png  \n",
            "  inflating: /content/train_crops/content/train_crops/pic_atm5mjuh_0_a.png  \n",
            "  inflating: /content/train_crops/content/train_crops/pic_3c0hc0f_4_c.png  \n",
            "  inflating: /content/train_crops/content/train_crops/pic_pmh00o5k_2_h.png  \n",
            "  inflating: /content/train_crops/content/train_crops/pic_ztxpnn_4_n.png  \n",
            "  inflating: /content/train_crops/content/train_crops/pic_u0pimd1w_2_p.png  \n",
            "  inflating: /content/train_crops/content/train_crops/pic_rhdm_1_h.png  \n",
            "  inflating: /content/train_crops/content/train_crops/pic_0nu1yk9_6_9.png  \n",
            "  inflating: /content/train_crops/content/train_crops/pic_vkx15h_4_5.png  \n",
            "  inflating: /content/train_crops/content/train_crops/pic_pqadfz_2_a.png  \n",
            "  inflating: /content/train_crops/content/train_crops/pic_n489strp_2_8.png  \n",
            "  inflating: /content/train_crops/content/train_crops/pic_3nltvx91_7_1.png  \n",
            "  inflating: /content/train_crops/content/train_crops/pic_742bv_4_v.png  \n",
            "  inflating: /content/train_crops/content/train_crops/pic_lmn64_0_l.png  \n",
            "  inflating: /content/train_crops/content/train_crops/pic_rtawww5m_2_a.png  \n",
            "  inflating: /content/train_crops/content/train_crops/pic_mawt_2_w.png  \n",
            "  inflating: /content/train_crops/content/train_crops/pic_0uzg_3_g.png  \n",
            "  inflating: /content/train_crops/content/train_crops/pic_tlyxzmqg_2_y.png  \n",
            "  inflating: /content/train_crops/content/train_crops/pic_aw95838_6_8.png  \n",
            "  inflating: /content/train_crops/content/train_crops/pic_30qg_2_q.png  \n",
            "  inflating: /content/train_crops/content/train_crops/pic_t272uk_1_2.png  \n",
            "  inflating: /content/train_crops/content/train_crops/pic_w7nr3r_1_7.png  \n",
            "  inflating: /content/train_crops/content/train_crops/pic_bx62jxz_1_x.png  \n",
            "  inflating: /content/train_crops/content/train_crops/pic_rsk019k4_1_s.png  \n",
            "  inflating: /content/train_crops/content/train_crops/pic_hdtfvq0e_0_h.png  \n",
            "  inflating: /content/train_crops/content/train_crops/pic_izbve9_5_9.png  \n",
            "  inflating: /content/train_crops/content/train_crops/pic_eekh030_3_h.png  \n",
            "  inflating: /content/train_crops/content/train_crops/pic_bxn0cy57_7_7.png  \n",
            "  inflating: /content/train_crops/content/train_crops/pic_aj8lu8_0_a.png  \n",
            "  inflating: /content/train_crops/content/train_crops/pic_p6aa_2_a.png  \n",
            "  inflating: /content/train_crops/content/train_crops/pic_x6zeqniu_3_e.png  \n",
            "  inflating: /content/train_crops/content/train_crops/pic_ezso_1_z.png  \n",
            "  inflating: /content/train_crops/content/train_crops/pic_jypu3sid_0_j.png  \n",
            "  inflating: /content/train_crops/content/train_crops/pic_79ohpbja_2_o.png  \n",
            "  inflating: /content/train_crops/content/train_crops/pic_tq4mm_0_t.png  \n",
            "  inflating: /content/train_crops/content/train_crops/pic_njen16_2_e.png  \n",
            "  inflating: /content/train_crops/content/train_crops/pic_j08cu9q_5_9.png  \n",
            "  inflating: /content/train_crops/content/train_crops/pic_4nomwzj_5_z.png  \n",
            "  inflating: /content/train_crops/content/train_crops/pic_xjnijun1_1_j.png  \n",
            "  inflating: /content/train_crops/content/train_crops/pic_6h17i4k2_3_7.png  \n",
            "  inflating: /content/train_crops/content/train_crops/pic_xjf4faq_6_q.png  \n",
            "  inflating: /content/train_crops/content/train_crops/pic_axzu_0_a.png  \n",
            "  inflating: /content/train_crops/content/train_crops/pic_t2kb0h6_3_b.png  \n",
            "  inflating: /content/train_crops/content/train_crops/pic_zfc17dpc_7_c.png  \n",
            "  inflating: /content/train_crops/content/train_crops/pic_ze4p5c14_7_4.png  \n",
            "  inflating: /content/train_crops/content/train_crops/pic_08vlz_2_v.png  \n",
            "  inflating: /content/train_crops/content/train_crops/pic_n7647fwj_4_7.png  \n",
            "  inflating: /content/train_crops/content/train_crops/pic_6a5v_3_v.png  \n",
            "  inflating: /content/train_crops/content/train_crops/pic_f49cj0_3_c.png  \n",
            "  inflating: /content/train_crops/content/train_crops/pic_nce9t_2_e.png  \n",
            "  inflating: /content/train_crops/content/train_crops/pic_zxyfa9t_1_x.png  \n",
            "  inflating: /content/train_crops/content/train_crops/pic_fzpcs_1_z.png  \n",
            "  inflating: /content/train_crops/content/train_crops/pic_rz8h8z_4_8.png  \n",
            "  inflating: /content/train_crops/content/train_crops/pic_ygaju_2_a.png  \n",
            "  inflating: /content/train_crops/content/train_crops/pic_poqey45_1_o.png  \n",
            "  inflating: /content/train_crops/content/train_crops/pic_tnna72_0_t.png  \n",
            "  inflating: /content/train_crops/content/train_crops/pic_1ao937l9_5_7.png  \n",
            "  inflating: /content/train_crops/content/train_crops/pic_lq5w_1_q.png  \n",
            "  inflating: /content/train_crops/content/train_crops/pic_3be3z_1_b.png  \n",
            "  inflating: /content/train_crops/content/train_crops/pic_thcr16v_5_6.png  \n",
            "  inflating: /content/train_crops/content/train_crops/pic_evwcdd2_4_d.png  \n",
            "  inflating: /content/train_crops/content/train_crops/pic_hf4af5_2_4.png  \n",
            "  inflating: /content/train_crops/content/train_crops/pic_1aczeb59_7_9.png  \n",
            "  inflating: /content/train_crops/content/train_crops/pic_n1ec6_3_c.png  \n",
            "  inflating: /content/train_crops/content/train_crops/pic_7onsn_4_n.png  \n",
            "  inflating: /content/train_crops/content/train_crops/pic_9whurcn_0_9.png  \n",
            "  inflating: /content/train_crops/content/train_crops/pic_oh2fvz_3_f.png  \n",
            "  inflating: /content/train_crops/content/train_crops/pic_5treqnua_7_a.png  \n",
            "  inflating: /content/train_crops/content/train_crops/pic_p0mi5_2_m.png  \n",
            "  inflating: /content/train_crops/content/train_crops/pic_rs7fcewt_4_c.png  \n",
            "  inflating: /content/train_crops/content/train_crops/pic_o2r50v_2_r.png  \n",
            "  inflating: /content/train_crops/content/train_crops/pic_l8qpp_2_q.png  \n",
            "  inflating: /content/train_crops/content/train_crops/pic_k9dy8_3_y.png  \n",
            "  inflating: /content/train_crops/content/train_crops/pic_8u7rfa_0_8.png  \n",
            "  inflating: /content/train_crops/content/train_crops/pic_rc7i3_2_7.png  \n",
            "  inflating: /content/train_crops/content/train_crops/pic_cwo1d_3_1.png  \n",
            "  inflating: /content/train_crops/content/train_crops/pic_ity7smw_6_w.png  \n",
            "  inflating: /content/train_crops/content/train_crops/pic_69n150_5_0.png  \n",
            "  inflating: /content/train_crops/content/train_crops/pic_8zbq5lu_4_5.png  \n",
            "  inflating: /content/train_crops/content/train_crops/pic_of62t9_3_2.png  \n",
            "  inflating: /content/train_crops/content/train_crops/pic_ijh9nkf2_0_i.png  \n",
            "  inflating: /content/train_crops/content/train_crops/pic_hhm4t7h_3_4.png  \n",
            "  inflating: /content/train_crops/content/train_crops/pic_xyb3_3_3.png  \n",
            "  inflating: /content/train_crops/content/train_crops/pic_srawhd_4_h.png  \n",
            "  inflating: /content/train_crops/content/train_crops/pic_jrzd2um7_5_u.png  \n",
            "  inflating: /content/train_crops/content/train_crops/pic_mce3oxu_2_e.png  \n",
            "  inflating: /content/train_crops/content/train_crops/pic_cu6ju3_5_3.png  \n",
            "  inflating: /content/train_crops/content/train_crops/pic_luggxsy6_3_g.png  \n",
            "  inflating: /content/train_crops/content/train_crops/pic_b53beg90_7_0.png  \n",
            "  inflating: /content/train_crops/content/train_crops/pic_mo1bf_3_b.png  \n",
            "  inflating: /content/train_crops/content/train_crops/pic_eibs65_2_b.png  \n",
            "  inflating: /content/train_crops/content/train_crops/pic_xw3dvh4_4_v.png  \n",
            "  inflating: /content/train_crops/content/train_crops/pic_h2h3h09_2_h.png  \n",
            "  inflating: /content/train_crops/content/train_crops/pic_mbvdk_1_b.png  \n",
            "  inflating: /content/train_crops/content/train_crops/pic_trw7265w_4_2.png  \n",
            "  inflating: /content/train_crops/content/train_crops/pic_hob9yz_1_o.png  \n",
            "  inflating: /content/train_crops/content/train_crops/pic_0hfx507e_3_x.png  \n",
            "  inflating: /content/train_crops/content/train_crops/pic_73wy5y_5_y.png  \n",
            "  inflating: /content/train_crops/content/train_crops/pic_ismy2vbw_7_w.png  \n",
            "  inflating: /content/train_crops/content/train_crops/pic_kdkma_2_k.png  \n",
            "  inflating: /content/train_crops/content/train_crops/pic_ybbh0cln_6_l.png  \n",
            "  inflating: /content/train_crops/content/train_crops/pic_i3498ffv_2_4.png  \n",
            "  inflating: /content/train_crops/content/train_crops/pic_55q6_0_5.png  \n",
            "  inflating: /content/train_crops/content/train_crops/pic_tnsh2rl_6_l.png  \n",
            "  inflating: /content/train_crops/content/train_crops/pic_p8t0s5r_6_r.png  \n",
            "  inflating: /content/train_crops/content/train_crops/pic_6lknls7w_4_l.png  \n",
            "  inflating: /content/train_crops/content/train_crops/pic_p1lttypv_3_t.png  \n",
            "  inflating: /content/train_crops/content/train_crops/pic_t1bxvy9_6_9.png  \n",
            "  inflating: /content/train_crops/content/train_crops/pic_5jqd6z9_0_5.png  \n",
            "  inflating: /content/train_crops/content/train_crops/pic_47a48re_0_4.png  \n",
            "  inflating: /content/train_crops/content/train_crops/pic_ab4tdf_0_a.png  \n",
            "  inflating: /content/train_crops/content/train_crops/pic_re92n0s_0_r.png  \n",
            "  inflating: /content/train_crops/content/train_crops/pic_tyr31t_5_t.png  \n",
            "  inflating: /content/train_crops/content/train_crops/pic_b8e1y5on_6_o.png  \n",
            "  inflating: /content/train_crops/content/train_crops/pic_xszd1be_5_b.png  \n",
            "  inflating: /content/train_crops/content/train_crops/pic_g67fpcz3_3_f.png  \n",
            "  inflating: /content/train_crops/content/train_crops/pic_op2qlpz_6_z.png  \n",
            "  inflating: /content/train_crops/content/train_crops/pic_90mz_2_m.png  \n",
            "  inflating: /content/train_crops/content/train_crops/pic_bsqscu70_6_7.png  \n",
            "  inflating: /content/train_crops/content/train_crops/pic_re92n0s_3_2.png  \n",
            "  inflating: /content/train_crops/content/train_crops/pic_thcr16v_1_h.png  \n",
            "  inflating: /content/train_crops/content/train_crops/pic_38ap_1_8.png  \n",
            "  inflating: /content/train_crops/content/train_crops/pic_2eheap_3_e.png  \n",
            "  inflating: /content/train_crops/content/train_crops/pic_pd5la_4_a.png  \n",
            "  inflating: /content/train_crops/content/train_crops/pic_rrwzwk0_2_w.png  \n",
            "  inflating: /content/train_crops/content/train_crops/pic_rd8v411_0_r.png  \n",
            "  inflating: /content/train_crops/content/train_crops/pic_2oq77_4_7.png  \n",
            "  inflating: /content/train_crops/content/train_crops/pic_qvyg537h_4_5.png  \n",
            "  inflating: /content/train_crops/content/train_crops/pic_ntgdfao_6_o.png  \n",
            "  inflating: /content/train_crops/content/train_crops/pic_7fnlfb4t_4_f.png  \n",
            "  inflating: /content/train_crops/content/train_crops/pic_wny6j5cq_3_6.png  \n",
            "  inflating: /content/train_crops/content/train_crops/pic_gtu6_1_t.png  \n",
            "  inflating: /content/train_crops/content/train_crops/pic_cyy7_3_7.png  \n",
            "  inflating: /content/train_crops/content/train_crops/pic_dfqlw_2_q.png  \n",
            "  inflating: /content/train_crops/content/train_crops/pic_7094tgmo_0_7.png  \n",
            "  inflating: /content/train_crops/content/train_crops/pic_sndkskvy_5_k.png  \n",
            "  inflating: /content/train_crops/content/train_crops/pic_j1glo7_0_j.png  \n",
            "  inflating: /content/train_crops/content/train_crops/pic_8tq00_0_8.png  \n",
            "  inflating: /content/train_crops/content/train_crops/pic_ihh3_1_h.png  \n",
            "  inflating: /content/train_crops/content/train_crops/pic_fpsnqoe_2_s.png  \n",
            "  inflating: /content/train_crops/content/train_crops/pic_9us49s0_0_9.png  \n",
            "  inflating: /content/train_crops/content/train_crops/pic_7etjsrio_5_r.png  \n",
            "  inflating: /content/train_crops/content/train_crops/pic_ov89p_3_9.png  \n",
            "  inflating: /content/train_crops/content/train_crops/pic_bulfkk_5_k.png  \n",
            "  inflating: /content/train_crops/content/train_crops/pic_uj06u1b_6_b.png  \n",
            "  inflating: /content/train_crops/content/train_crops/pic_25b4edqd_4_e.png  \n",
            "  inflating: /content/train_crops/content/train_crops/pic_hfkiyki_5_k.png  \n",
            "  inflating: /content/train_crops/content/train_crops/pic_9oyxmw1o_6_1.png  \n",
            "  inflating: /content/train_crops/content/train_crops/pic_gsxpk_2_x.png  \n",
            "  inflating: /content/train_crops/content/train_crops/pic_7z5kuzva_5_z.png  \n",
            "  inflating: /content/train_crops/content/train_crops/pic_3ns6o1dj_0_3.png  \n",
            "  inflating: /content/train_crops/content/train_crops/pic_6czj0_4_0.png  \n",
            "  inflating: /content/train_crops/content/train_crops/pic_5dc1_3_1.png  \n",
            "  inflating: /content/train_crops/content/train_crops/pic_s8dl3uz_2_d.png  \n",
            "  inflating: /content/train_crops/content/train_crops/pic_qgivf_3_v.png  \n",
            "  inflating: /content/train_crops/content/train_crops/pic_jtaak_4_k.png  \n",
            "  inflating: /content/train_crops/content/train_crops/pic_r4gr_0_r.png  \n",
            "  inflating: /content/train_crops/content/train_crops/pic_ns7yo5kk_4_o.png  \n",
            "  inflating: /content/train_crops/content/train_crops/pic_9pl8c4f_5_4.png  \n",
            "  inflating: /content/train_crops/content/train_crops/pic_hp10ee_2_1.png  \n",
            "  inflating: /content/train_crops/content/train_crops/pic_6yxdy_3_d.png  \n",
            "  inflating: /content/train_crops/content/train_crops/pic_6gomxb_2_o.png  \n",
            "  inflating: /content/train_crops/content/train_crops/pic_op28zf_3_8.png  \n",
            "  inflating: /content/train_crops/content/train_crops/pic_fmhdm0_2_h.png  \n",
            "  inflating: /content/train_crops/content/train_crops/pic_a4xb7a_2_x.png  \n",
            "  inflating: /content/train_crops/content/train_crops/pic_j8czlb_0_j.png  \n",
            "  inflating: /content/train_crops/content/train_crops/pic_zdchkvsw_0_z.png  \n",
            "  inflating: /content/train_crops/content/train_crops/pic_tne6if2_6_2.png  \n",
            "  inflating: /content/train_crops/content/train_crops/pic_ph0buqbt_5_q.png  \n",
            "  inflating: /content/train_crops/content/train_crops/pic_bnme_2_m.png  \n",
            "  inflating: /content/train_crops/content/train_crops/pic_w5yv9xo_3_v.png  \n",
            "  inflating: /content/train_crops/content/train_crops/pic_alistz5t_7_t.png  \n",
            "  inflating: /content/train_crops/content/train_crops/pic_tvomn_2_o.png  \n",
            "  inflating: /content/train_crops/content/train_crops/pic_1826ufdw_4_u.png  \n",
            "  inflating: /content/train_crops/content/train_crops/pic_ki0y0f_4_0.png  \n",
            "  inflating: /content/train_crops/content/train_crops/pic_na0a58p_3_a.png  \n",
            "  inflating: /content/train_crops/content/train_crops/pic_2on242_5_2.png  \n",
            "  inflating: /content/train_crops/content/train_crops/pic_hy8rf6df_7_f.png  \n",
            "  inflating: /content/train_crops/content/train_crops/pic_eo0l2_4_2.png  \n",
            "  inflating: /content/train_crops/content/train_crops/pic_4tlgz8_5_8.png  \n",
            "  inflating: /content/train_crops/content/train_crops/pic_3rk6bjb_1_r.png  \n",
            "  inflating: /content/train_crops/content/train_crops/pic_43u1voui_7_i.png  \n",
            "  inflating: /content/train_crops/content/train_crops/pic_wz20rqfv_2_2.png  \n",
            "  inflating: /content/train_crops/content/train_crops/pic_t6xkxq0_4_x.png  \n",
            "  inflating: /content/train_crops/content/train_crops/pic_orj6me6_6_6.png  \n",
            "  inflating: /content/train_crops/content/train_crops/pic_576vhy_5_y.png  \n",
            "  inflating: /content/train_crops/content/train_crops/pic_ph54m3_0_p.png  \n",
            "  inflating: /content/train_crops/content/train_crops/pic_4rx0v_3_0.png  \n",
            "  inflating: /content/train_crops/content/train_crops/pic_nayh_1_a.png  \n",
            "  inflating: /content/train_crops/content/train_crops/pic_l8qpp_4_p.png  \n",
            "  inflating: /content/train_crops/content/train_crops/pic_k47n75_4_7.png  \n",
            "  inflating: /content/train_crops/content/train_crops/pic_h6l52gj_3_5.png  \n",
            "  inflating: /content/train_crops/content/train_crops/pic_mgicqn_1_g.png  \n",
            "  inflating: /content/train_crops/content/train_crops/pic_79r4rsv_5_s.png  \n",
            "  inflating: /content/train_crops/content/train_crops/pic_i6zmyb72_3_m.png  \n",
            "  inflating: /content/train_crops/content/train_crops/pic_497pj_1_9.png  \n",
            "  inflating: /content/train_crops/content/train_crops/pic_0xfmd4_5_4.png  \n",
            "  inflating: /content/train_crops/content/train_crops/pic_yspr_3_r.png  \n",
            "  inflating: /content/train_crops/content/train_crops/pic_5djybypt_2_j.png  \n",
            "  inflating: /content/train_crops/content/train_crops/pic_ryj09_0_r.png  \n",
            "  inflating: /content/train_crops/content/train_crops/pic_igr6o3_0_i.png  \n",
            "  inflating: /content/train_crops/content/train_crops/pic_nbr6dtdp_7_p.png  \n",
            "  inflating: /content/train_crops/content/train_crops/pic_b8ceaq6_6_6.png  \n",
            "  inflating: /content/train_crops/content/train_crops/pic_b7eaj_3_a.png  \n",
            "  inflating: /content/train_crops/content/train_crops/pic_1wjeu9pk_4_u.png  \n",
            "  inflating: /content/train_crops/content/train_crops/pic_6n9yu_3_y.png  \n",
            "  inflating: /content/train_crops/content/train_crops/pic_rl19m4y5_3_9.png  \n",
            "  inflating: /content/train_crops/content/train_crops/pic_2anr_3_r.png  \n",
            "  inflating: /content/train_crops/content/train_crops/pic_xwu8kp4n_3_8.png  \n",
            "  inflating: /content/train_crops/content/train_crops/pic_81g25kx_5_k.png  \n",
            "  inflating: /content/train_crops/content/train_crops/pic_hgjwswrc_4_s.png  \n",
            "  inflating: /content/train_crops/content/train_crops/pic_j8gm_0_j.png  \n",
            "  inflating: /content/train_crops/content/train_crops/pic_cchiy0a_1_c.png  \n",
            "  inflating: /content/train_crops/content/train_crops/pic_lwvrpx_0_l.png  \n",
            "  inflating: /content/train_crops/content/train_crops/pic_mg87nr_1_g.png  \n",
            "  inflating: /content/train_crops/content/train_crops/pic_s9tfav_4_a.png  \n",
            "  inflating: /content/train_crops/content/train_crops/pic_9b0kcv23_1_b.png  \n",
            "  inflating: /content/train_crops/content/train_crops/pic_dwhtuc_3_t.png  \n",
            "  inflating: /content/train_crops/content/train_crops/pic_3wh7u9fn_1_w.png  \n",
            "  inflating: /content/train_crops/content/train_crops/pic_nfhos7x_1_f.png  \n",
            "  inflating: /content/train_crops/content/train_crops/pic_4oss830_6_0.png  \n",
            "  inflating: /content/train_crops/content/train_crops/pic_6308c_0_6.png  \n",
            "  inflating: /content/train_crops/content/train_crops/pic_tyr31t_0_t.png  \n",
            "  inflating: /content/train_crops/content/train_crops/pic_m7gxu6u_6_u.png  \n",
            "  inflating: /content/train_crops/content/train_crops/pic_98p0_1_8.png  \n",
            "  inflating: /content/train_crops/content/train_crops/pic_fp3awbi_4_w.png  \n",
            "  inflating: /content/train_crops/content/train_crops/pic_n1ec6_1_1.png  \n",
            "  inflating: /content/train_crops/content/train_crops/pic_j84f45zo_2_4.png  \n",
            "  inflating: /content/train_crops/content/train_crops/pic_gk0x_0_g.png  \n",
            "  inflating: /content/train_crops/content/train_crops/pic_mziy95cq_1_z.png  \n",
            "  inflating: /content/train_crops/content/train_crops/pic_hgwxg_2_w.png  \n",
            "  inflating: /content/train_crops/content/train_crops/pic_amzorr_0_a.png  \n",
            "  inflating: /content/train_crops/content/train_crops/pic_a8l5l_0_a.png  \n",
            "  inflating: /content/train_crops/content/train_crops/pic_6i42oks_2_4.png  \n",
            "  inflating: /content/train_crops/content/train_crops/pic_isqxhc77_5_c.png  \n",
            "  inflating: /content/train_crops/content/train_crops/pic_18ctmi6w_0_1.png  \n",
            "  inflating: /content/train_crops/content/train_crops/pic_73wy5y_4_5.png  \n",
            "  inflating: /content/train_crops/content/train_crops/pic_spd3_1_p.png  \n",
            "  inflating: /content/train_crops/content/train_crops/pic_0dskq_3_k.png  \n",
            "  inflating: /content/train_crops/content/train_crops/pic_y4gzen9z_1_4.png  \n",
            "  inflating: /content/train_crops/content/train_crops/pic_ebuvib0_2_u.png  \n",
            "  inflating: /content/train_crops/content/train_crops/pic_2lylbmw_0_2.png  \n",
            "  inflating: /content/train_crops/content/train_crops/pic_ffae_0_f.png  \n",
            "  inflating: /content/train_crops/content/train_crops/pic_opax48_2_a.png  \n",
            "  inflating: /content/train_crops/content/train_crops/pic_jbvv4bm_3_v.png  \n",
            "  inflating: /content/train_crops/content/train_crops/pic_44f2oe4m_2_f.png  \n",
            "  inflating: /content/train_crops/content/train_crops/pic_qljlq9c1_6_c.png  \n",
            "  inflating: /content/train_crops/content/train_crops/pic_a7yflo7_3_f.png  \n",
            "  inflating: /content/train_crops/content/train_crops/pic_dk6luks_0_d.png  \n",
            "  inflating: /content/train_crops/content/train_crops/pic_zlbp2_0_z.png  \n",
            "  inflating: /content/train_crops/content/train_crops/pic_e7k760_2_k.png  \n",
            "  inflating: /content/train_crops/content/train_crops/pic_k5dln_3_l.png  \n",
            "  inflating: /content/train_crops/content/train_crops/pic_0gggy2ig_2_g.png  \n",
            "  inflating: /content/train_crops/content/train_crops/pic_xxkd79_1_x.png  \n",
            "  inflating: /content/train_crops/content/train_crops/pic_fbzy2pln_5_p.png  \n",
            "  inflating: /content/train_crops/content/train_crops/pic_ockic_4_c.png  \n",
            "  inflating: /content/train_crops/content/train_crops/pic_6c9j_2_9.png  \n",
            "  inflating: /content/train_crops/content/train_crops/pic_4scvr_1_s.png  \n",
            "  inflating: /content/train_crops/content/train_crops/pic_c7o42x_5_x.png  \n",
            "  inflating: /content/train_crops/content/train_crops/pic_47qom8i_4_m.png  \n",
            "  inflating: /content/train_crops/content/train_crops/pic_6mliop8_3_i.png  \n",
            "  inflating: /content/train_crops/content/train_crops/pic_uglh4yyc_6_y.png  \n",
            "  inflating: /content/train_crops/content/train_crops/pic_3o9t60v_5_0.png  \n",
            "  inflating: /content/train_crops/content/train_crops/pic_6jo7hq_5_q.png  \n",
            "  inflating: /content/train_crops/content/train_crops/pic_8kr5h2bd_4_h.png  \n",
            "  inflating: /content/train_crops/content/train_crops/pic_41rv5f9_0_4.png  \n",
            "  inflating: /content/train_crops/content/train_crops/pic_x8vwpvab_2_v.png  \n",
            "  inflating: /content/train_crops/content/train_crops/pic_39omma3_3_m.png  \n",
            "  inflating: /content/train_crops/content/train_crops/pic_j5zv0am_3_v.png  \n",
            "  inflating: /content/train_crops/content/train_crops/pic_zfqnnk_5_k.png  \n",
            "  inflating: /content/train_crops/content/train_crops/pic_1mbq3zih_7_h.png  \n",
            "  inflating: /content/train_crops/content/train_crops/pic_rfqdht_4_h.png  \n",
            "  inflating: /content/train_crops/content/train_crops/pic_m298s1_4_s.png  \n",
            "  inflating: /content/train_crops/content/train_crops/pic_olcy1mwh_1_l.png  \n",
            "  inflating: /content/train_crops/content/train_crops/pic_vlwit1ft_2_w.png  \n",
            "  inflating: /content/train_crops/content/train_crops/pic_6wpo9y4_3_o.png  \n",
            "  inflating: /content/train_crops/content/train_crops/pic_z0r2jhoe_6_o.png  \n",
            "  inflating: /content/train_crops/content/train_crops/pic_cezrz_1_e.png  \n",
            "  inflating: /content/train_crops/content/train_crops/pic_lw52bgtl_0_l.png  \n",
            "  inflating: /content/train_crops/content/train_crops/pic_yzikl_1_z.png  \n",
            "  inflating: /content/train_crops/content/train_crops/pic_0ihk7bk_5_b.png  \n",
            "  inflating: /content/train_crops/content/train_crops/pic_pobuv_1_o.png  \n",
            "  inflating: /content/train_crops/content/train_crops/pic_1axydv7_0_1.png  \n",
            "  inflating: /content/train_crops/content/train_crops/pic_nwbpcw_1_w.png  \n",
            "  inflating: /content/train_crops/content/train_crops/pic_tq4mm_3_m.png  \n",
            "  inflating: /content/train_crops/content/train_crops/pic_34og7pyo_5_p.png  \n",
            "  inflating: /content/train_crops/content/train_crops/pic_xlwwmr_5_r.png  \n",
            "  inflating: /content/train_crops/content/train_crops/pic_ad95lcae_0_a.png  \n",
            "  inflating: /content/train_crops/content/train_crops/pic_3p48d2_3_8.png  \n",
            "  inflating: /content/train_crops/content/train_crops/pic_1epgh7lu_6_l.png  \n",
            "  inflating: /content/train_crops/content/train_crops/pic_8ss53o_5_o.png  \n",
            "  inflating: /content/train_crops/content/train_crops/pic_6xrf_2_r.png  \n",
            "  inflating: /content/train_crops/content/train_crops/pic_v1eynvy1_6_y.png  \n",
            "  inflating: /content/train_crops/content/train_crops/pic_58dl_0_5.png  \n",
            "  inflating: /content/train_crops/content/train_crops/pic_dekua7d_3_u.png  \n",
            "  inflating: /content/train_crops/content/train_crops/pic_6bvk97ui_3_k.png  \n",
            "  inflating: /content/train_crops/content/train_crops/pic_epuy_1_p.png  \n",
            "  inflating: /content/train_crops/content/train_crops/pic_wjuav69_6_9.png  \n",
            "  inflating: /content/train_crops/content/train_crops/pic_39zs0ow_6_w.png  \n",
            "  inflating: /content/train_crops/content/train_crops/pic_mjfoyayo_0_m.png  \n",
            "  inflating: /content/train_crops/content/train_crops/pic_7bti0u_0_7.png  \n",
            "  inflating: /content/train_crops/content/train_crops/pic_wwku9o_2_k.png  \n",
            "  inflating: /content/train_crops/content/train_crops/pic_sruzj7_1_r.png  \n",
            "  inflating: /content/train_crops/content/train_crops/pic_i7cq6y_5_y.png  \n",
            "  inflating: /content/train_crops/content/train_crops/pic_q3389dmi_0_q.png  \n",
            "  inflating: /content/train_crops/content/train_crops/pic_svy7_0_s.png  \n",
            "  inflating: /content/train_crops/content/train_crops/pic_kg4294b_0_k.png  \n",
            "  inflating: /content/train_crops/content/train_crops/pic_9d5xyo_2_5.png  \n",
            "  inflating: /content/train_crops/content/train_crops/pic_5uzppk_3_p.png  \n",
            "  inflating: /content/train_crops/content/train_crops/pic_s2jg704_6_4.png  \n",
            "  inflating: /content/train_crops/content/train_crops/pic_lmpq0d_1_m.png  \n",
            "  inflating: /content/train_crops/content/train_crops/pic_u81wurpa_4_u.png  \n",
            "  inflating: /content/train_crops/content/train_crops/pic_o2332epx_5_e.png  \n",
            "  inflating: /content/train_crops/content/train_crops/pic_sxqkxia1_6_a.png  \n",
            "  inflating: /content/train_crops/content/train_crops/pic_p5o9jrn9_4_j.png  \n",
            "  inflating: /content/train_crops/content/train_crops/pic_yj13kxxr_1_j.png  \n",
            "  inflating: /content/train_crops/content/train_crops/pic_uh8fv9_1_h.png  \n",
            "  inflating: /content/train_crops/content/train_crops/pic_0x2b_2_2.png  \n",
            "  inflating: /content/train_crops/content/train_crops/pic_dqn5o_1_q.png  \n",
            "  inflating: /content/train_crops/content/train_crops/pic_x6zeqniu_2_z.png  \n",
            "  inflating: /content/train_crops/content/train_crops/pic_nd4ybgd_5_g.png  \n",
            "  inflating: /content/train_crops/content/train_crops/pic_7dflts7m_6_7.png  \n",
            "  inflating: /content/train_crops/content/train_crops/pic_v3e2gfs_4_g.png  \n",
            "  inflating: /content/train_crops/content/train_crops/pic_89igk73e_4_k.png  \n",
            "  inflating: /content/train_crops/content/train_crops/pic_vu0wem34_7_4.png  \n",
            "  inflating: /content/train_crops/content/train_crops/pic_jl4f_1_l.png  \n",
            "  inflating: /content/train_crops/content/train_crops/pic_pj84gx_1_j.png  \n",
            "  inflating: /content/train_crops/content/train_crops/pic_x1bw_2_b.png  \n",
            "  inflating: /content/train_crops/content/train_crops/pic_1vw0zvpw_6_p.png  \n",
            "  inflating: /content/train_crops/content/train_crops/pic_ppbiubrg_4_u.png  \n",
            "  inflating: /content/train_crops/content/train_crops/pic_w9gmeh9d_6_9.png  \n",
            "  inflating: /content/train_crops/content/train_crops/pic_i3498ffv_1_3.png  \n",
            "  inflating: /content/train_crops/content/train_crops/pic_hfv53o1_6_1.png  \n",
            "  inflating: /content/train_crops/content/train_crops/pic_ffj6o_4_o.png  \n",
            "  inflating: /content/train_crops/content/train_crops/pic_55oa1ts_2_o.png  \n",
            "  inflating: /content/train_crops/content/train_crops/pic_vqg7zz_3_7.png  \n",
            "  inflating: /content/train_crops/content/train_crops/pic_9hhp07_1_h.png  \n",
            "  inflating: /content/train_crops/content/train_crops/pic_1b4932p_5_2.png  \n",
            "  inflating: /content/train_crops/content/train_crops/pic_ykevqza_3_v.png  \n",
            "  inflating: /content/train_crops/content/train_crops/pic_pvcb_3_b.png  \n",
            "  inflating: /content/train_crops/content/train_crops/pic_zsdf_1_s.png  \n",
            "  inflating: /content/train_crops/content/train_crops/pic_ekc33_3_3.png  \n",
            "  inflating: /content/train_crops/content/train_crops/pic_gqbha32_0_g.png  \n",
            "  inflating: /content/train_crops/content/train_crops/pic_mz5j0jz_3_j.png  \n",
            "  inflating: /content/train_crops/content/train_crops/pic_mhe2g6d_2_e.png  \n",
            "  inflating: /content/train_crops/content/train_crops/pic_8zq2mv5_2_q.png  \n",
            "  inflating: /content/train_crops/content/train_crops/pic_o3g186f_5_6.png  \n",
            "  inflating: /content/train_crops/content/train_crops/pic_5gomqbt_1_g.png  \n",
            "  inflating: /content/train_crops/content/train_crops/pic_8z744_1_z.png  \n",
            "  inflating: /content/train_crops/content/train_crops/pic_fwojma_2_o.png  \n",
            "  inflating: /content/train_crops/content/train_crops/pic_cfxd_3_d.png  \n",
            "  inflating: /content/train_crops/content/train_crops/pic_kays01x0_5_1.png  \n",
            "  inflating: /content/train_crops/content/train_crops/pic_xnkzzevb_0_x.png  \n",
            "  inflating: /content/train_crops/content/train_crops/pic_737y1268_7_8.png  \n",
            "  inflating: /content/train_crops/content/train_crops/pic_ewl6n_1_w.png  \n",
            "  inflating: /content/train_crops/content/train_crops/pic_0h4g_0_0.png  \n",
            "  inflating: /content/train_crops/content/train_crops/pic_3parb27i_5_2.png  \n",
            "  inflating: /content/train_crops/content/train_crops/pic_v2ck_3_k.png  \n",
            "  inflating: /content/train_crops/content/train_crops/pic_nhb2v3_2_b.png  \n",
            "  inflating: /content/train_crops/content/train_crops/pic_9vd77ol2_3_7.png  \n",
            "  inflating: /content/train_crops/content/train_crops/pic_mgdt096l_4_0.png  \n",
            "  inflating: /content/train_crops/content/train_crops/pic_p0uf_3_f.png  \n",
            "  inflating: /content/train_crops/content/train_crops/pic_fgx77m2p_5_m.png  \n",
            "  inflating: /content/train_crops/content/train_crops/pic_erf91d_5_d.png  \n",
            "  inflating: /content/train_crops/content/train_crops/pic_vlw3lq_5_q.png  \n",
            "  inflating: /content/train_crops/content/train_crops/pic_mce3oxu_3_3.png  \n",
            "  inflating: /content/train_crops/content/train_crops/pic_j4ab_3_b.png  \n",
            "  inflating: /content/train_crops/content/train_crops/pic_kowwt0z_0_k.png  \n",
            "  inflating: /content/train_crops/content/train_crops/pic_s34b_1_3.png  \n",
            "  inflating: /content/train_crops/content/train_crops/pic_xw3dvh4_1_w.png  \n",
            "  inflating: /content/train_crops/content/train_crops/pic_hgx0gbxc_4_g.png  \n",
            "  inflating: /content/train_crops/content/train_crops/pic_x37wgc3_2_7.png  \n",
            "  inflating: /content/train_crops/content/train_crops/pic_1becisn_5_s.png  \n",
            "  inflating: /content/train_crops/content/train_crops/pic_i02hj75_3_h.png  \n",
            "  inflating: /content/train_crops/content/train_crops/pic_4dmm_0_4.png  \n",
            "  inflating: /content/train_crops/content/train_crops/pic_vydr5wu_6_u.png  \n",
            "  inflating: /content/train_crops/content/train_crops/pic_zo2qmt_0_z.png  \n",
            "  inflating: /content/train_crops/content/train_crops/pic_dh1nyw09_2_1.png  \n",
            "  inflating: /content/train_crops/content/train_crops/pic_dh1nyw09_3_n.png  \n",
            "  inflating: /content/train_crops/content/train_crops/pic_sy8gspl_3_g.png  \n",
            "  inflating: /content/train_crops/content/train_crops/pic_wmrg_2_r.png  \n",
            "  inflating: /content/train_crops/content/train_crops/pic_o7a4burc_0_o.png  \n",
            "  inflating: /content/train_crops/content/train_crops/pic_ire3cone_1_r.png  \n",
            "  inflating: /content/train_crops/content/train_crops/pic_7oamizja_6_j.png  \n",
            "  inflating: /content/train_crops/content/train_crops/pic_xjdrqf_2_d.png  \n",
            "  inflating: /content/train_crops/content/train_crops/pic_pbpbj_3_b.png  \n",
            "  inflating: /content/train_crops/content/train_crops/pic_t7vtt4bn_0_t.png  \n",
            "  inflating: /content/train_crops/content/train_crops/pic_rekoz3dv_6_d.png  \n",
            "  inflating: /content/train_crops/content/train_crops/pic_fcskdj_0_f.png  \n",
            "  inflating: /content/train_crops/content/train_crops/pic_zj07lu_2_0.png  \n",
            "  inflating: /content/train_crops/content/train_crops/pic_2cu5_0_2.png  \n",
            "  inflating: /content/train_crops/content/train_crops/pic_3ihp3_0_3.png  \n",
            "  inflating: /content/train_crops/content/train_crops/pic_h3n1oo_3_1.png  \n",
            "  inflating: /content/train_crops/content/train_crops/pic_03vbk_2_v.png  \n",
            "  inflating: /content/train_crops/content/train_crops/pic_iycetcg_6_g.png  \n",
            "  inflating: /content/train_crops/content/train_crops/pic_mp3yeb8e_3_y.png  \n",
            "  inflating: /content/train_crops/content/train_crops/pic_7nn8_2_n.png  \n",
            "  inflating: /content/train_crops/content/train_crops/pic_awfmdz2_3_m.png  \n",
            "  inflating: /content/train_crops/content/train_crops/pic_5r9ar_0_5.png  \n",
            "  inflating: /content/train_crops/content/train_crops/pic_5fezmf5_5_f.png  \n",
            "  inflating: /content/train_crops/content/train_crops/pic_e5rg_3_g.png  \n",
            "  inflating: /content/train_crops/content/train_crops/pic_3wcsp3_0_3.png  \n",
            "  inflating: /content/train_crops/content/train_crops/pic_bjq5lupu_3_5.png  \n",
            "  inflating: /content/train_crops/content/train_crops/pic_88ke95d_2_k.png  \n",
            "  inflating: /content/train_crops/content/train_crops/pic_tg52ga_0_t.png  \n",
            "  inflating: /content/train_crops/content/train_crops/pic_hzjp_1_z.png  \n",
            "  inflating: /content/train_crops/content/train_crops/pic_8shgmq_4_m.png  \n",
            "  inflating: /content/train_crops/content/train_crops/pic_tuw51b_1_u.png  \n",
            "  inflating: /content/train_crops/content/train_crops/pic_5lvd1zp_5_z.png  \n",
            "  inflating: /content/train_crops/content/train_crops/pic_aik2plmt_6_m.png  \n",
            "  inflating: /content/train_crops/content/train_crops/pic_u965e4b_3_5.png  \n",
            "  inflating: /content/train_crops/content/train_crops/pic_gj9b_3_b.png  \n",
            "  inflating: /content/train_crops/content/train_crops/pic_crcqbkqh_7_h.png  \n",
            "  inflating: /content/train_crops/content/train_crops/pic_gpsdy6x_0_g.png  \n",
            "  inflating: /content/train_crops/content/train_crops/pic_gbisq3d_5_3.png  \n",
            "  inflating: /content/train_crops/content/train_crops/pic_hn48fw_2_4.png  \n",
            "  inflating: /content/train_crops/content/train_crops/pic_48p951o5_3_9.png  \n",
            "  inflating: /content/train_crops/content/train_crops/pic_6hd6j_2_d.png  \n",
            "  inflating: /content/train_crops/content/train_crops/pic_8tqs465u_2_q.png  \n",
            "  inflating: /content/train_crops/content/train_crops/pic_mplre8lx_4_e.png  \n",
            "  inflating: /content/train_crops/content/train_crops/pic_ujxf_2_x.png  \n",
            "  inflating: /content/train_crops/content/train_crops/pic_q8u74_4_4.png  \n",
            "  inflating: /content/train_crops/content/train_crops/pic_em48p9cj_2_4.png  \n",
            "  inflating: /content/train_crops/content/train_crops/pic_z6o5d4_0_z.png  \n",
            "  inflating: /content/train_crops/content/train_crops/pic_6pk9y_1_p.png  \n",
            "  inflating: /content/train_crops/content/train_crops/pic_76jot9a3_5_9.png  \n",
            "  inflating: /content/train_crops/content/train_crops/pic_moz2yc_0_m.png  \n",
            "  inflating: /content/train_crops/content/train_crops/pic_4194_3_4.png  \n",
            "  inflating: /content/train_crops/content/train_crops/pic_qral_3_l.png  \n",
            "  inflating: /content/train_crops/content/train_crops/pic_yzrjl_3_j.png  \n",
            "  inflating: /content/train_crops/content/train_crops/pic_3kyutzk_4_t.png  \n",
            "  inflating: /content/train_crops/content/train_crops/pic_pd5la_0_p.png  \n",
            "  inflating: /content/train_crops/content/train_crops/pic_85l1v_3_1.png  \n",
            "  inflating: /content/train_crops/content/train_crops/pic_vwdry_0_v.png  \n",
            "  inflating: /content/train_crops/content/train_crops/pic_1zh3_3_3.png  \n",
            "  inflating: /content/train_crops/content/train_crops/pic_65cywmk1_0_6.png  \n",
            "  inflating: /content/train_crops/content/train_crops/pic_17rzu_3_z.png  \n",
            "  inflating: /content/train_crops/content/train_crops/pic_qe4skxz_6_z.png  \n",
            "  inflating: /content/train_crops/content/train_crops/pic_66si_1_6.png  \n",
            "  inflating: /content/train_crops/content/train_crops/pic_o7184w0z_3_8.png  \n",
            "  inflating: /content/train_crops/content/train_crops/pic_asc8dhl_5_h.png  \n",
            "  inflating: /content/train_crops/content/train_crops/pic_uvpa5b4_1_v.png  \n",
            "  inflating: /content/train_crops/content/train_crops/pic_hexq_3_q.png  \n",
            "  inflating: /content/train_crops/content/train_crops/pic_may8q61z_7_z.png  \n",
            "  inflating: /content/train_crops/content/train_crops/pic_5jd1h_2_d.png  \n",
            "  inflating: /content/train_crops/content/train_crops/pic_fdelkvag_0_f.png  \n",
            "  inflating: /content/train_crops/content/train_crops/pic_tlun4wt_2_u.png  \n",
            "  inflating: /content/train_crops/content/train_crops/pic_vts3c8_4_c.png  \n",
            "  inflating: /content/train_crops/content/train_crops/pic_ty56x_4_x.png  \n",
            "  inflating: /content/train_crops/content/train_crops/pic_hexq_0_h.png  \n",
            "  inflating: /content/train_crops/content/train_crops/pic_jiznmz_4_m.png  \n",
            "  inflating: /content/train_crops/content/train_crops/pic_ywmln43_0_y.png  \n",
            "  inflating: /content/train_crops/content/train_crops/pic_0y2taomx_0_0.png  \n",
            "  inflating: /content/train_crops/content/train_crops/pic_q5bh_2_b.png  \n",
            "  inflating: /content/train_crops/content/train_crops/pic_0jyx0tif_5_t.png  \n",
            "  inflating: /content/train_crops/content/train_crops/pic_t2i05tea_6_e.png  \n",
            "  inflating: /content/train_crops/content/train_crops/pic_6824j_2_2.png  \n",
            "  inflating: /content/train_crops/content/train_crops/pic_ha5pn_1_a.png  \n",
            "  inflating: /content/train_crops/content/train_crops/pic_xn7a_0_x.png  \n",
            "  inflating: /content/train_crops/content/train_crops/pic_zzquhjpt_7_t.png  \n",
            "  inflating: /content/train_crops/content/train_crops/pic_1g3ro_0_1.png  \n",
            "  inflating: /content/train_crops/content/train_crops/pic_27ao2_4_2.png  \n",
            "  inflating: /content/train_crops/content/train_crops/pic_wmuiy7bh_3_i.png  \n",
            "  inflating: /content/train_crops/content/train_crops/pic_0d0263w_6_w.png  \n",
            "  inflating: /content/train_crops/content/train_crops/pic_4urvv8t9_6_t.png  \n",
            "  inflating: /content/train_crops/content/train_crops/pic_yj13kxxr_7_r.png  \n",
            "  inflating: /content/train_crops/content/train_crops/pic_q3389dmi_5_d.png  \n",
            "  inflating: /content/train_crops/content/train_crops/pic_5csb0pjz_0_5.png  \n",
            "  inflating: /content/train_crops/content/train_crops/pic_t0f40wn_6_n.png  \n",
            "  inflating: /content/train_crops/content/train_crops/pic_rz8h8z_5_z.png  \n",
            "  inflating: /content/train_crops/content/train_crops/pic_qnqp5jrf_3_p.png  \n",
            "  inflating: /content/train_crops/content/train_crops/pic_0z89bb97_2_8.png  \n",
            "  inflating: /content/train_crops/content/train_crops/pic_37ux4l_0_3.png  \n",
            "  inflating: /content/train_crops/content/train_crops/pic_6soqfbku_7_u.png  \n",
            "  inflating: /content/train_crops/content/train_crops/pic_2utmyzs2_3_m.png  \n",
            "  inflating: /content/train_crops/content/train_crops/pic_y1x6_3_6.png  \n",
            "  inflating: /content/train_crops/content/train_crops/pic_8xxbg1_4_g.png  \n",
            "  inflating: /content/train_crops/content/train_crops/pic_010ud_3_u.png  \n",
            "  inflating: /content/train_crops/content/train_crops/pic_0sw1nb_3_1.png  \n",
            "  inflating: /content/train_crops/content/train_crops/pic_owmg_2_m.png  \n",
            "  inflating: /content/train_crops/content/train_crops/pic_j68gkz2k_4_k.png  \n",
            "  inflating: /content/train_crops/content/train_crops/pic_hi21amq_6_q.png  \n",
            "  inflating: /content/train_crops/content/train_crops/pic_fpqb_2_q.png  \n",
            "  inflating: /content/train_crops/content/train_crops/pic_dkson_2_s.png  \n",
            "  inflating: /content/train_crops/content/train_crops/pic_uqxcv_2_x.png  \n",
            "  inflating: /content/train_crops/content/train_crops/pic_bavytrty_0_b.png  \n",
            "  inflating: /content/train_crops/content/train_crops/pic_cpxb_0_c.png  \n",
            "  inflating: /content/train_crops/content/train_crops/pic_q08z2s8s_6_8.png  \n",
            "  inflating: /content/train_crops/content/train_crops/pic_y3df0f79_4_0.png  \n",
            "  inflating: /content/train_crops/content/train_crops/pic_7z5kuzva_7_a.png  \n",
            "  inflating: /content/train_crops/content/train_crops/pic_t7zdrtl6_6_l.png  \n",
            "  inflating: /content/train_crops/content/train_crops/pic_3d2e_0_3.png  \n",
            "  inflating: /content/train_crops/content/train_crops/pic_1b88c2_4_c.png  \n",
            "  inflating: /content/train_crops/content/train_crops/pic_e6xnbbf_0_e.png  \n",
            "  inflating: /content/train_crops/content/train_crops/pic_mxyr6c_1_x.png  \n",
            "  inflating: /content/train_crops/content/train_crops/pic_izrqif5_5_f.png  \n",
            "  inflating: /content/train_crops/content/train_crops/pic_t6rn1_3_n.png  \n",
            "  inflating: /content/train_crops/content/train_crops/pic_b5yp26_5_6.png  \n",
            "  inflating: /content/train_crops/content/train_crops/pic_dzekf_3_k.png  \n",
            "  inflating: /content/train_crops/content/train_crops/pic_y1o6q_3_6.png  \n",
            "  inflating: /content/train_crops/content/train_crops/pic_9thzh_3_z.png  \n",
            "  inflating: /content/train_crops/content/train_crops/pic_q08zw_3_z.png  \n",
            "  inflating: /content/train_crops/content/train_crops/pic_uzkol_2_k.png  \n",
            "  inflating: /content/train_crops/content/train_crops/pic_l5ape5g_2_a.png  \n",
            "  inflating: /content/train_crops/content/train_crops/pic_4vvnwhx1_5_h.png  \n",
            "  inflating: /content/train_crops/content/train_crops/pic_f6nhl2b_5_2.png  \n",
            "  inflating: /content/train_crops/content/train_crops/pic_82vxl6vy_1_2.png  \n",
            "  inflating: /content/train_crops/content/train_crops/pic_vlhm3_2_h.png  \n",
            "  inflating: /content/train_crops/content/train_crops/pic_fngo9ws_3_o.png  \n",
            "  inflating: /content/train_crops/content/train_crops/pic_7w40o9_3_0.png  \n",
            "  inflating: /content/train_crops/content/train_crops/pic_0rred0t_6_t.png  \n",
            "  inflating: /content/train_crops/content/train_crops/pic_wdtkk3n4_1_d.png  \n",
            "  inflating: /content/train_crops/content/train_crops/pic_jts41_2_s.png  \n",
            "  inflating: /content/train_crops/content/train_crops/pic_wmesjfmt_1_m.png  \n",
            "  inflating: /content/train_crops/content/train_crops/pic_ibt69s_2_t.png  \n",
            "  inflating: /content/train_crops/content/train_crops/pic_s8xp0uq_5_u.png  \n",
            "  inflating: /content/train_crops/content/train_crops/pic_31d3_0_3.png  \n",
            "  inflating: /content/train_crops/content/train_crops/pic_hy1l1pcv_7_v.png  \n",
            "  inflating: /content/train_crops/content/train_crops/pic_2ynwgt4_5_t.png  \n",
            "  inflating: /content/train_crops/content/train_crops/pic_h1i3mnht_5_n.png  \n",
            "  inflating: /content/train_crops/content/train_crops/pic_oo5vtop_4_t.png  \n",
            "  inflating: /content/train_crops/content/train_crops/pic_5x3bl_2_3.png  \n",
            "  inflating: /content/train_crops/content/train_crops/pic_fe0jbcln_5_c.png  \n",
            "  inflating: /content/train_crops/content/train_crops/pic_rva7rn_1_v.png  \n",
            "  inflating: /content/train_crops/content/train_crops/pic_cy0ql91_3_q.png  \n",
            "  inflating: /content/train_crops/content/train_crops/pic_cic34bpi_3_3.png  \n",
            "  inflating: /content/train_crops/content/train_crops/pic_w0w213_5_3.png  \n",
            "  inflating: /content/train_crops/content/train_crops/pic_otxzht5_6_5.png  \n",
            "  inflating: /content/train_crops/content/train_crops/pic_yym19nin_2_m.png  \n",
            "  inflating: /content/train_crops/content/train_crops/pic_giz0b6_1_i.png  \n",
            "  inflating: /content/train_crops/content/train_crops/pic_6lqa1t1_2_q.png  \n",
            "  inflating: /content/train_crops/content/train_crops/pic_7z5kuzva_6_v.png  \n",
            "  inflating: /content/train_crops/content/train_crops/pic_xdgx9igo_7_o.png  \n",
            "  inflating: /content/train_crops/content/train_crops/pic_p9kut_3_u.png  \n",
            "  inflating: /content/train_crops/content/train_crops/pic_vyk9ao_0_v.png  \n",
            "  inflating: /content/train_crops/content/train_crops/pic_b961hw_4_h.png  \n",
            "  inflating: /content/train_crops/content/train_crops/pic_ha9jl4xh_6_x.png  \n",
            "  inflating: /content/train_crops/content/train_crops/pic_mc7z_1_c.png  \n",
            "  inflating: /content/train_crops/content/train_crops/pic_0lolj_4_j.png  \n",
            "  inflating: /content/train_crops/content/train_crops/pic_6r3kp9_3_k.png  \n",
            "  inflating: /content/train_crops/content/train_crops/pic_u0kaeb23_5_b.png  \n",
            "  inflating: /content/train_crops/content/train_crops/pic_a24qk8_4_k.png  \n",
            "  inflating: /content/train_crops/content/train_crops/pic_iuiiac_5_c.png  \n",
            "  inflating: /content/train_crops/content/train_crops/pic_za4wmt_5_t.png  \n",
            "  inflating: /content/train_crops/content/train_crops/pic_4hw1o_0_4.png  \n",
            "  inflating: /content/train_crops/content/train_crops/pic_wexb1h4r_5_h.png  \n",
            "  inflating: /content/train_crops/content/train_crops/pic_fkjhc4_5_4.png  \n",
            "  inflating: /content/train_crops/content/train_crops/pic_uvpa5b4_3_a.png  \n",
            "  inflating: /content/train_crops/content/train_crops/pic_dt7flg_5_g.png  \n",
            "  inflating: /content/train_crops/content/train_crops/pic_ao0hsrc_5_r.png  \n",
            "  inflating: /content/train_crops/content/train_crops/pic_610dwqa7_1_1.png  \n",
            "  inflating: /content/train_crops/content/train_crops/pic_j0oxw3q7_7_7.png  \n",
            "  inflating: /content/train_crops/content/train_crops/pic_8hek_3_k.png  \n",
            "  inflating: /content/train_crops/content/train_crops/pic_a2vkhzdi_0_a.png  \n",
            "  inflating: /content/train_crops/content/train_crops/pic_5235_0_5.png  \n",
            "  inflating: /content/train_crops/content/train_crops/pic_rxf9ls5_1_x.png  \n",
            "  inflating: /content/train_crops/content/train_crops/pic_da2cruab_0_d.png  \n",
            "  inflating: /content/train_crops/content/train_crops/pic_v721y3_5_3.png  \n",
            "  inflating: /content/train_crops/content/train_crops/pic_6vwq2ve_5_v.png  \n",
            "  inflating: /content/train_crops/content/train_crops/pic_dua9865n_5_6.png  \n",
            "  inflating: /content/train_crops/content/train_crops/pic_k2bxgrov_1_2.png  \n",
            "  inflating: /content/train_crops/content/train_crops/pic_a0mepp13_0_a.png  \n",
            "  inflating: /content/train_crops/content/train_crops/pic_jtn0md_1_t.png  \n",
            "  inflating: /content/train_crops/content/train_crops/pic_25927mqe_3_2.png  \n",
            "  inflating: /content/train_crops/content/train_crops/pic_fp3awbi_5_b.png  \n",
            "  inflating: /content/train_crops/content/train_crops/pic_mp0png_2_0.png  \n",
            "  inflating: /content/train_crops/content/train_crops/pic_iy5gi_1_y.png  \n",
            "  inflating: /content/train_crops/content/train_crops/pic_6ks0nbja_6_j.png  \n",
            "  inflating: /content/train_crops/content/train_crops/pic_9adqs_1_a.png  \n",
            "  inflating: /content/train_crops/content/train_crops/pic_7h8xyp_3_x.png  \n",
            "  inflating: /content/train_crops/content/train_crops/pic_zaq08w0_2_q.png  \n",
            "  inflating: /content/train_crops/content/train_crops/pic_8shgmq_5_q.png  \n",
            "  inflating: /content/train_crops/content/train_crops/pic_mv347sde_2_3.png  \n",
            "  inflating: /content/train_crops/content/train_crops/pic_cq19l0o4_4_l.png  \n",
            "  inflating: /content/train_crops/content/train_crops/pic_2tjbdxz_4_d.png  \n",
            "  inflating: /content/train_crops/content/train_crops/pic_12iei2_3_e.png  \n",
            "  inflating: /content/train_crops/content/train_crops/pic_8km3_2_m.png  \n",
            "  inflating: /content/train_crops/content/train_crops/pic_gk5agh_3_a.png  \n",
            "  inflating: /content/train_crops/content/train_crops/pic_qsxrr5_3_r.png  \n",
            "  inflating: /content/train_crops/content/train_crops/pic_sszod_3_o.png  \n",
            "  inflating: /content/train_crops/content/train_crops/pic_6mkxyxr3_4_y.png  \n",
            "  inflating: /content/train_crops/content/train_crops/pic_kuf7znty_1_u.png  \n",
            "  inflating: /content/train_crops/content/train_crops/pic_kgd5va_4_v.png  \n",
            "  inflating: /content/train_crops/content/train_crops/pic_wgdpau_3_p.png  \n",
            "  inflating: /content/train_crops/content/train_crops/pic_dw3ao66_0_d.png  \n",
            "  inflating: /content/train_crops/content/train_crops/pic_bv8lp563_2_8.png  \n",
            "  inflating: /content/train_crops/content/train_crops/pic_9u17gvpp_6_p.png  \n",
            "  inflating: /content/train_crops/content/train_crops/pic_tlun4wt_0_t.png  \n",
            "  inflating: /content/train_crops/content/train_crops/pic_ir04zbp_6_p.png  \n",
            "  inflating: /content/train_crops/content/train_crops/pic_3z9i5j0s_3_i.png  \n",
            "  inflating: /content/train_crops/content/train_crops/pic_gqz72_1_q.png  \n",
            "  inflating: /content/train_crops/content/train_crops/pic_co4y_3_y.png  \n",
            "  inflating: /content/train_crops/content/train_crops/pic_utaga_1_t.png  \n",
            "  inflating: /content/train_crops/content/train_crops/pic_zed7yaa_0_z.png  \n",
            "  inflating: /content/train_crops/content/train_crops/pic_k5gy60db_3_y.png  \n",
            "  inflating: /content/train_crops/content/train_crops/pic_cmrau12w_4_u.png  \n",
            "  inflating: /content/train_crops/content/train_crops/pic_16wrx_1_6.png  \n",
            "  inflating: /content/train_crops/content/train_crops/pic_1xhv_0_1.png  \n",
            "  inflating: /content/train_crops/content/train_crops/pic_6i18_0_6.png  \n",
            "  inflating: /content/train_crops/content/train_crops/pic_9lhs3_0_9.png  \n",
            "  inflating: /content/train_crops/content/train_crops/pic_tvq1b1_5_1.png  \n",
            "  inflating: /content/train_crops/content/train_crops/pic_ejne1h_2_n.png  \n",
            "  inflating: /content/train_crops/content/train_crops/pic_l5kvn3s_6_s.png  \n",
            "  inflating: /content/train_crops/content/train_crops/pic_ee04_2_0.png  \n",
            "  inflating: /content/train_crops/content/train_crops/pic_x1oge_4_e.png  \n",
            "  inflating: /content/train_crops/content/train_crops/pic_u8m5o2a4_3_5.png  \n",
            "  inflating: /content/train_crops/content/train_crops/pic_4ivq4hh_0_4.png  \n",
            "  inflating: /content/train_crops/content/train_crops/pic_cf80z9_1_f.png  \n",
            "  inflating: /content/train_crops/content/train_crops/pic_50rknq_3_k.png  \n",
            "  inflating: /content/train_crops/content/train_crops/pic_exq9vfa_1_x.png  \n",
            "  inflating: /content/train_crops/content/train_crops/pic_cvrp2iy_6_y.png  \n",
            "  inflating: /content/train_crops/content/train_crops/pic_yyq1c1_4_c.png  \n",
            "  inflating: /content/train_crops/content/train_crops/pic_wdtkk3n4_5_3.png  \n",
            "  inflating: /content/train_crops/content/train_crops/pic_3hbykf0_5_f.png  \n",
            "  inflating: /content/train_crops/content/train_crops/pic_0qiiqmuh_5_m.png  \n",
            "  inflating: /content/train_crops/content/train_crops/pic_zb92_1_b.png  \n",
            "  inflating: /content/train_crops/content/train_crops/pic_9wcefkk_0_9.png  \n",
            "  inflating: /content/train_crops/content/train_crops/pic_5rdind_5_d.png  \n",
            "  inflating: /content/train_crops/content/train_crops/pic_pleovzde_6_d.png  \n",
            "  inflating: /content/train_crops/content/train_crops/pic_6kodfm9_4_f.png  \n",
            "  inflating: /content/train_crops/content/train_crops/pic_fyjy433o_2_j.png  \n",
            "  inflating: /content/train_crops/content/train_crops/pic_0tmvvyfp_6_f.png  \n",
            "  inflating: /content/train_crops/content/train_crops/pic_ejne1h_0_e.png  \n",
            "  inflating: /content/train_crops/content/train_crops/pic_ecit_1_c.png  \n",
            "  inflating: /content/train_crops/content/train_crops/pic_ul77_2_7.png  \n",
            "  inflating: /content/train_crops/content/train_crops/pic_bl8n8g_5_g.png  \n",
            "  inflating: /content/train_crops/content/train_crops/pic_k9vd0t_1_9.png  \n",
            "  inflating: /content/train_crops/content/train_crops/pic_c8y8_1_8.png  \n",
            "  inflating: /content/train_crops/content/train_crops/pic_recuqew8_4_q.png  \n",
            "  inflating: /content/train_crops/content/train_crops/pic_3pzrpt_2_z.png  \n",
            "  inflating: /content/train_crops/content/train_crops/pic_7pxgoh9_6_9.png  \n",
            "  inflating: /content/train_crops/content/train_crops/pic_wohqewp_0_w.png  \n",
            "  inflating: /content/train_crops/content/train_crops/pic_38ccou_5_u.png  \n",
            "  inflating: /content/train_crops/content/train_crops/pic_mfynzg_5_g.png  \n",
            "  inflating: /content/train_crops/content/train_crops/pic_m5h4_3_4.png  \n",
            "  inflating: /content/train_crops/content/train_crops/pic_mf1snent_1_f.png  \n",
            "  inflating: /content/train_crops/content/train_crops/pic_spu0_3_0.png  \n",
            "  inflating: /content/train_crops/content/train_crops/pic_vwdry_1_w.png  \n",
            "  inflating: /content/train_crops/content/train_crops/pic_j3w44drh_7_h.png  \n",
            "  inflating: /content/train_crops/content/train_crops/pic_gc0i_1_c.png  \n",
            "  inflating: /content/train_crops/content/train_crops/pic_yzrnjxxn_7_n.png  \n",
            "  inflating: /content/train_crops/content/train_crops/pic_ovnrkf_1_v.png  \n",
            "  inflating: /content/train_crops/content/train_crops/pic_h8egve4_4_v.png  \n",
            "  inflating: /content/train_crops/content/train_crops/pic_0ddxn5qc_5_5.png  \n",
            "  inflating: /content/train_crops/content/train_crops/pic_whdq30_0_w.png  \n",
            "  inflating: /content/train_crops/content/train_crops/pic_b1y1vl4i_1_1.png  \n",
            "  inflating: /content/train_crops/content/train_crops/pic_3wh7u9fn_3_7.png  \n",
            "  inflating: /content/train_crops/content/train_crops/pic_ygir7b_2_i.png  \n",
            "  inflating: /content/train_crops/content/train_crops/pic_j3fwy_1_3.png  \n",
            "  inflating: /content/train_crops/content/train_crops/pic_g3yfc_4_c.png  \n",
            "  inflating: /content/train_crops/content/train_crops/pic_4u7fh0_2_7.png  \n",
            "  inflating: /content/train_crops/content/train_crops/pic_66e68_2_e.png  \n",
            "  inflating: /content/train_crops/content/train_crops/pic_dlyrkg_5_g.png  \n",
            "  inflating: /content/train_crops/content/train_crops/pic_mbvdk_2_v.png  \n",
            "  inflating: /content/train_crops/content/train_crops/pic_m233c9_4_c.png  \n",
            "  inflating: /content/train_crops/content/train_crops/pic_pev16zo_2_v.png  \n",
            "  inflating: /content/train_crops/content/train_crops/pic_tne6if2_2_e.png  \n",
            "  inflating: /content/train_crops/content/train_crops/pic_e7k760_1_7.png  \n",
            "  inflating: /content/train_crops/content/train_crops/pic_ctl7s_2_l.png  \n",
            "  inflating: /content/train_crops/content/train_crops/pic_de9ehwc_4_h.png  \n",
            "  inflating: /content/train_crops/content/train_crops/pic_vp7qm_1_p.png  \n",
            "  inflating: /content/train_crops/content/train_crops/pic_43b16p_1_3.png  \n",
            "  inflating: /content/train_crops/content/train_crops/pic_v2tcemfw_1_2.png  \n",
            "  inflating: /content/train_crops/content/train_crops/pic_5a86m5_4_m.png  \n"
          ]
        }
      ]
    },
    {
      "cell_type": "code",
      "source": [
        "os.mkdir('/content/ocr_model')"
      ],
      "metadata": {
        "id": "VzR1Rdqvpa9H"
      },
      "execution_count": null,
      "outputs": []
    }
  ]
}